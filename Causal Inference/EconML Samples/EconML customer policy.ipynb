{
 "cells": [
  {
   "cell_type": "markdown",
   "metadata": {},
   "source": [
    "# Suy luận nhân quả\n",
    "\n",
    "# Bài 5: Quyết định chính sách can thiệp dựa vào mô hình nhân quả\n",
    "\n",
    "### BS. Lê Ngọc Khả Nhi\n",
    "\n",
    "Đây là bài thứ 5 trong series về suy luận nhân quả. Trong bài này chúng ta cùng tìm hiểu một ứng dụng của mô hình Machine learning kép (DML, hay còn gọi là hệ thống mô hình khử nhiễu) trong hoàn cảnh cụ thể, cho phép đưa ra quyết định về chính sách can thiệp nhằm tối ưu hóa hiệu quả. \n",
    "\n",
    "Thí dụ minh họa là một dữ liệu về Kinh doanh: một dịch vụ kinh doanh âm nhạc trực tuyến muốn xác định chính sách giảm giá phù hợp nhất. \n",
    "\n",
    "Bài toán được giải quyết dựa trên dữ liệu của 10000 khách hàng, bao gồm thông tin về tuổi, nơi cư ngụ, bạn bè thời gian sử dụng dịch vụ, lịch sử truy nhập và giao dịch. Dữ liệu này cũng ghi nhận thông tin của 3 yếu tố quan trọng nhất, gồm: mức thu nhập của khách hàng, chính sách giá hiện tại, và doanh số (số giao dịch của mỗi khách hàng). Ghi chú: Doanh thu được ước tính bằng Giá x Doanh số\n",
    "\n",
    "Mục tiêu gồm : 1) Khảo sát hiệu quả của chính sách giảm giá hiện thời; và 2) xác định chính sách giảm giá mới tốt hơn: cần giảm giá cho đối tượng khách hàng nào (dựa vào mức thu nhập) và giảm bao nhiêu để đảm bảo doanh thu cao nhất."
   ]
  },
  {
   "cell_type": "code",
   "execution_count": 7,
   "metadata": {},
   "outputs": [],
   "source": [
    "import warnings\n",
    "warnings.filterwarnings('ignore')\n",
    "\n",
    "import pandas as pd\n",
    "import numpy as np\n",
    "\n",
    "import matplotlib \n",
    "import matplotlib.pyplot as plt\n",
    "import seaborn as sns\n",
    "\n",
    "from sklearn.ensemble import RandomForestRegressor\n",
    "\n",
    "# EconML\n",
    "from econml.dml import LinearDMLCateEstimator, ForestDMLCateEstimator\n",
    "from econml.cate_interpreter import SingleTreeCateInterpreter, SingleTreePolicyInterpreter"
   ]
  },
  {
   "cell_type": "markdown",
   "metadata": {},
   "source": [
    "Ta tải dữ liệu từ database của Alice project:"
   ]
  },
  {
   "cell_type": "code",
   "execution_count": 8,
   "metadata": {},
   "outputs": [
    {
     "data": {
      "text/html": [
       "<div>\n",
       "<style scoped>\n",
       "    .dataframe tbody tr th:only-of-type {\n",
       "        vertical-align: middle;\n",
       "    }\n",
       "\n",
       "    .dataframe tbody tr th {\n",
       "        vertical-align: top;\n",
       "    }\n",
       "\n",
       "    .dataframe thead th {\n",
       "        text-align: right;\n",
       "    }\n",
       "</style>\n",
       "<table border=\"1\" class=\"dataframe\">\n",
       "  <thead>\n",
       "    <tr style=\"text-align: right;\">\n",
       "      <th></th>\n",
       "      <th>account_age</th>\n",
       "      <th>age</th>\n",
       "      <th>avg_hours</th>\n",
       "      <th>days_visited</th>\n",
       "      <th>friends_count</th>\n",
       "      <th>has_membership</th>\n",
       "      <th>is_US</th>\n",
       "      <th>songs_purchased</th>\n",
       "      <th>income</th>\n",
       "      <th>price</th>\n",
       "      <th>demand</th>\n",
       "    </tr>\n",
       "  </thead>\n",
       "  <tbody>\n",
       "    <tr>\n",
       "      <th>0</th>\n",
       "      <td>3</td>\n",
       "      <td>53</td>\n",
       "      <td>1.834234</td>\n",
       "      <td>2</td>\n",
       "      <td>8</td>\n",
       "      <td>1</td>\n",
       "      <td>1</td>\n",
       "      <td>4.903237</td>\n",
       "      <td>0.960863</td>\n",
       "      <td>1.0</td>\n",
       "      <td>3.917117</td>\n",
       "    </tr>\n",
       "    <tr>\n",
       "      <th>1</th>\n",
       "      <td>5</td>\n",
       "      <td>54</td>\n",
       "      <td>7.171411</td>\n",
       "      <td>7</td>\n",
       "      <td>9</td>\n",
       "      <td>0</td>\n",
       "      <td>1</td>\n",
       "      <td>3.330161</td>\n",
       "      <td>0.732487</td>\n",
       "      <td>1.0</td>\n",
       "      <td>11.585706</td>\n",
       "    </tr>\n",
       "    <tr>\n",
       "      <th>2</th>\n",
       "      <td>3</td>\n",
       "      <td>33</td>\n",
       "      <td>5.351920</td>\n",
       "      <td>6</td>\n",
       "      <td>9</td>\n",
       "      <td>0</td>\n",
       "      <td>1</td>\n",
       "      <td>3.036203</td>\n",
       "      <td>1.130937</td>\n",
       "      <td>1.0</td>\n",
       "      <td>24.675960</td>\n",
       "    </tr>\n",
       "    <tr>\n",
       "      <th>3</th>\n",
       "      <td>2</td>\n",
       "      <td>34</td>\n",
       "      <td>6.723551</td>\n",
       "      <td>0</td>\n",
       "      <td>8</td>\n",
       "      <td>0</td>\n",
       "      <td>1</td>\n",
       "      <td>7.911926</td>\n",
       "      <td>0.929197</td>\n",
       "      <td>1.0</td>\n",
       "      <td>6.361776</td>\n",
       "    </tr>\n",
       "    <tr>\n",
       "      <th>4</th>\n",
       "      <td>4</td>\n",
       "      <td>30</td>\n",
       "      <td>2.448247</td>\n",
       "      <td>5</td>\n",
       "      <td>8</td>\n",
       "      <td>1</td>\n",
       "      <td>0</td>\n",
       "      <td>7.148967</td>\n",
       "      <td>0.533527</td>\n",
       "      <td>0.8</td>\n",
       "      <td>12.624123</td>\n",
       "    </tr>\n",
       "    <tr>\n",
       "      <th>...</th>\n",
       "      <td>...</td>\n",
       "      <td>...</td>\n",
       "      <td>...</td>\n",
       "      <td>...</td>\n",
       "      <td>...</td>\n",
       "      <td>...</td>\n",
       "      <td>...</td>\n",
       "      <td>...</td>\n",
       "      <td>...</td>\n",
       "      <td>...</td>\n",
       "      <td>...</td>\n",
       "    </tr>\n",
       "    <tr>\n",
       "      <th>9995</th>\n",
       "      <td>2</td>\n",
       "      <td>56</td>\n",
       "      <td>6.095439</td>\n",
       "      <td>3</td>\n",
       "      <td>10</td>\n",
       "      <td>0</td>\n",
       "      <td>0</td>\n",
       "      <td>7.406568</td>\n",
       "      <td>0.545599</td>\n",
       "      <td>0.8</td>\n",
       "      <td>9.447720</td>\n",
       "    </tr>\n",
       "    <tr>\n",
       "      <th>9996</th>\n",
       "      <td>3</td>\n",
       "      <td>52</td>\n",
       "      <td>7.828183</td>\n",
       "      <td>7</td>\n",
       "      <td>5</td>\n",
       "      <td>0</td>\n",
       "      <td>1</td>\n",
       "      <td>0.782374</td>\n",
       "      <td>0.944415</td>\n",
       "      <td>0.8</td>\n",
       "      <td>15.314092</td>\n",
       "    </tr>\n",
       "    <tr>\n",
       "      <th>9997</th>\n",
       "      <td>1</td>\n",
       "      <td>27</td>\n",
       "      <td>6.527350</td>\n",
       "      <td>6</td>\n",
       "      <td>9</td>\n",
       "      <td>0</td>\n",
       "      <td>1</td>\n",
       "      <td>10.926441</td>\n",
       "      <td>0.815953</td>\n",
       "      <td>1.0</td>\n",
       "      <td>11.263675</td>\n",
       "    </tr>\n",
       "    <tr>\n",
       "      <th>9998</th>\n",
       "      <td>4</td>\n",
       "      <td>49</td>\n",
       "      <td>2.803943</td>\n",
       "      <td>6</td>\n",
       "      <td>9</td>\n",
       "      <td>1</td>\n",
       "      <td>1</td>\n",
       "      <td>4.205016</td>\n",
       "      <td>0.504313</td>\n",
       "      <td>0.8</td>\n",
       "      <td>12.801971</td>\n",
       "    </tr>\n",
       "    <tr>\n",
       "      <th>9999</th>\n",
       "      <td>5</td>\n",
       "      <td>35</td>\n",
       "      <td>9.334821</td>\n",
       "      <td>2</td>\n",
       "      <td>9</td>\n",
       "      <td>0</td>\n",
       "      <td>1</td>\n",
       "      <td>2.971992</td>\n",
       "      <td>1.456270</td>\n",
       "      <td>1.0</td>\n",
       "      <td>21.667410</td>\n",
       "    </tr>\n",
       "  </tbody>\n",
       "</table>\n",
       "<p>10000 rows × 11 columns</p>\n",
       "</div>"
      ],
      "text/plain": [
       "      account_age  age  avg_hours  days_visited  friends_count  \\\n",
       "0               3   53   1.834234             2              8   \n",
       "1               5   54   7.171411             7              9   \n",
       "2               3   33   5.351920             6              9   \n",
       "3               2   34   6.723551             0              8   \n",
       "4               4   30   2.448247             5              8   \n",
       "...           ...  ...        ...           ...            ...   \n",
       "9995            2   56   6.095439             3             10   \n",
       "9996            3   52   7.828183             7              5   \n",
       "9997            1   27   6.527350             6              9   \n",
       "9998            4   49   2.803943             6              9   \n",
       "9999            5   35   9.334821             2              9   \n",
       "\n",
       "      has_membership  is_US  songs_purchased    income  price     demand  \n",
       "0                  1      1         4.903237  0.960863    1.0   3.917117  \n",
       "1                  0      1         3.330161  0.732487    1.0  11.585706  \n",
       "2                  0      1         3.036203  1.130937    1.0  24.675960  \n",
       "3                  0      1         7.911926  0.929197    1.0   6.361776  \n",
       "4                  1      0         7.148967  0.533527    0.8  12.624123  \n",
       "...              ...    ...              ...       ...    ...        ...  \n",
       "9995               0      0         7.406568  0.545599    0.8   9.447720  \n",
       "9996               0      1         0.782374  0.944415    0.8  15.314092  \n",
       "9997               0      1        10.926441  0.815953    1.0  11.263675  \n",
       "9998               1      1         4.205016  0.504313    0.8  12.801971  \n",
       "9999               0      1         2.971992  1.456270    1.0  21.667410  \n",
       "\n",
       "[10000 rows x 11 columns]"
      ]
     },
     "execution_count": 8,
     "metadata": {},
     "output_type": "execute_result"
    }
   ],
   "source": [
    "file_path = \"https://msalicedatapublic.blob.core.windows.net/datasets/Pricing/pricing_sample.csv\"\n",
    "df = pd.read_csv(file_path)\n",
    "df"
   ]
  },
  {
   "cell_type": "code",
   "execution_count": 9,
   "metadata": {},
   "outputs": [
    {
     "data": {
      "text/plain": [
       "Index(['account_age', 'age', 'avg_hours', 'days_visited', 'friends_count',\n",
       "       'has_membership', 'is_US', 'songs_purchased', 'income', 'price',\n",
       "       'demand'],\n",
       "      dtype='object')"
      ]
     },
     "execution_count": 9,
     "metadata": {},
     "output_type": "execute_result"
    }
   ],
   "source": [
    "df.columns"
   ]
  },
  {
   "cell_type": "code",
   "execution_count": 10,
   "metadata": {},
   "outputs": [
    {
     "name": "stdout",
     "output_type": "stream",
     "text": [
      "<class 'pandas.core.frame.DataFrame'>\n",
      "RangeIndex: 10000 entries, 0 to 9999\n",
      "Data columns (total 11 columns):\n",
      " #   Column           Non-Null Count  Dtype  \n",
      "---  ------           --------------  -----  \n",
      " 0   account_age      10000 non-null  int64  \n",
      " 1   age              10000 non-null  int64  \n",
      " 2   avg_hours        10000 non-null  float64\n",
      " 3   days_visited     10000 non-null  int64  \n",
      " 4   friends_count    10000 non-null  int64  \n",
      " 5   has_membership   10000 non-null  int64  \n",
      " 6   is_US            10000 non-null  int64  \n",
      " 7   songs_purchased  10000 non-null  float64\n",
      " 8   income           10000 non-null  float64\n",
      " 9   price            10000 non-null  float64\n",
      " 10  demand           10000 non-null  float64\n",
      "dtypes: float64(5), int64(6)\n",
      "memory usage: 859.5 KB\n"
     ]
    }
   ],
   "source": [
    "df.info()"
   ]
  },
  {
   "cell_type": "markdown",
   "metadata": {},
   "source": [
    "#### Ghi chú:\n",
    "\n",
    "Trong mô hình nhân quả mà ta sắp dựng, vai trò của các biến như sau:\n",
    "\n",
    "##### Những confounder (X) bao gồm:\n",
    "\n",
    "account_age : thời gian tính từ khi tạo account\n",
    "\n",
    "age: tuổi của khách hàng\n",
    "\n",
    "avg_hours: thời gian truy cập trung bình\n",
    "\n",
    "days_visisted : số ngày truy cập \n",
    "\n",
    "friends_count : số bạn bè\n",
    "\n",
    "has_membership: có đăng kí thành viên\n",
    "\n",
    "is_US : sống tại Mỹ\n",
    "\n",
    "songs_purchased: số đơn vị sản phẩm đã mua\n",
    "\n",
    "Những biến trong block W có vai trò ảnh hưởng đồng thời lên cả Outcome (kết quả) và Treatment (can thiệp), do đó chúng được gọi là Confounders\n",
    "\n",
    "##### Ngoài ra:\n",
    "\n",
    "3 yếu tố quan trọng trong bài toán\n",
    "\n",
    "income: thu nhập (đây là hiệp biến Covariate X), có vai trò quan trọng để phân nhóm khách hàng và từ đó áp dụng chính sách giảm giá tương ứng\n",
    "\n",
    "price: mức giá (Đây là Can thiệp T) : có 3 bậc giá trị: 1,0.8 và 0.9; tương ứng với chính sách giảm giá hiện thời gồm 3 mức can thiệp: Giữ nguyên giá, giảm 20% và giảm 10%\n",
    "\n",
    "demand: mức độ yêu cầu (lượt mua, hay doanh số bán hàng, đây là Outcome Y của bài toán)\n",
    "\n",
    "#### Giải thích: \n",
    "\n",
    "Đây là 1 bài toán mà can thiệp T là biến định lượng (Giá là quyết định của chủ doanh nghiệp)\n",
    "\n",
    "Counfounders W là những yếu tố có ảnh hưởng đồng thời đến xác suất của Can thiệp \n",
    "\n",
    "Outcome Y là một biến liên tục\n",
    "\n",
    "Thu nhập của khách hàng được xét như 1 covariate X (giả định là độc lập với T, nhưng có liên hệ với outcome Y).\n",
    "\n",
    "##### Chú thích: \n",
    "\n",
    "Thực ra, vì lý do bảo mật nên dữ liệu T (Can thiệp, treatment) và Y (Ouctome) được mô phỏng từ dữ liệu có thực với quy luật mô phỏng như sau:\n",
    "\n",
    "$$T = \n",
    "\\begin{cases}\n",
    "  1  :\\text{với xác suất } p=0.2,  \\\\\n",
    "  0.9 :\\text{với xác suất }p=0.3, \\text{    nếu income} < 1 \\\\\n",
    "  0.8 :\\text{với xác suất }p=0.5, \\\\\n",
    "  \\\\\n",
    "    1: \\text{với xác suất }p=0.7, \\\\\n",
    "  0.9: \\text{với xác suất }p=0.2, \\text{nếu income}\\ge 1 \\\\\n",
    "  0.8: \\text{với xác suất }p=0.1, \\\\\n",
    "\\end{cases}\n",
    "$$\n",
    "\n",
    "$$\\begin{align}\n",
    "\\gamma(X) = -3 - 14 \\cdot \\{\\text{income} < 1\\} \\\\\n",
    "\\beta(X,W) = 20 + 0.5 \\cdot \\text{avg_hours} + 5 \\cdot \\{\\text{days_visited} > 4\\} \\\\\n",
    "Y = \\gamma(X) \\cdot T + \\beta(X,W)\n",
    "\\end{align}$$"
   ]
  },
  {
   "cell_type": "markdown",
   "metadata": {},
   "source": [
    "## Thống kê mô tả\n",
    "\n",
    "Trước hết, ta sẽ thăm dò trực quan dữ liệu, bằng 1 loạt regression plot, nhằm khảo sát liên hệ giữa các confounders W, hiệp biến X (Income) và Outcome Y (demand)"
   ]
  },
  {
   "cell_type": "code",
   "execution_count": 20,
   "metadata": {},
   "outputs": [],
   "source": [
    "target = 'demand'\n",
    "\n",
    "x_vars = ['avg_hours', 'days_visited', \n",
    "          'friends_count','songs_purchased', \n",
    "          'income','price','account_age', 'age',]\n",
    "\n",
    "fig, axs = plt.subplots(nrows=len(x_vars), figsize=(5,30))\n",
    "\n",
    "for i,v in enumerate(x_vars):\n",
    "    g = sns.regplot(x=df[v].values, \n",
    "                y=df[target].values,\n",
    "                lowess = True, \n",
    "                    marker = \".\",\n",
    "                scatter_kws={'alpha':0.3, 'color':'grey'},\n",
    "                ax = axs[i])\n",
    "    g.set(xlabel=v, ylabel=target)\n",
    "    plt.show()\n"
   ]
  },
  {
   "cell_type": "markdown",
   "metadata": {},
   "source": [
    "Trong các kết quả này, ta chú ý đặc biệt đến quan hệ giữa Doanh số và Thu nhập của khách hàng, với quy luật rõ ràng là: những khách hàng có thu nhập thấp (từ 0 đến 1) không có khả năng mua nhiều sản phẩm, do đó chính sách khuyến mại hiện thời đã giảm giá (ngẫu nhiên): 10% cho 30% và 20% cho 50% số khách hàng có thu nhập thấp <1, tuy nhiên cũng giảm giá ngẫu nhiên 10% hoặc 20% cho 30% khách hàng có thu nhập cao."
   ]
  },
  {
   "cell_type": "code",
   "execution_count": 18,
   "metadata": {},
   "outputs": [],
   "source": [
    "import matplotlib.pyplot as plt\n",
    "\n",
    "g = sns.regplot(x=df['income'].values, \n",
    "            y=df['demand'].values,\n",
    "                lowess = True, \n",
    "                marker = \".\",\n",
    "                color = 'blue',\n",
    "                scatter_kws={'alpha':0, 'color':None})\n",
    "\n",
    "g.axvline(1)\n",
    "\n",
    "g.set(xlabel='Logarit Thu nhập', ylabel='Doanh số')\n",
    "plt.show()\n"
   ]
  },
  {
   "cell_type": "markdown",
   "metadata": {},
   "source": [
    "Biểu đồ tương quan mức giá giảm và logarit thu nhập có hình dạng như sau:\n",
    "\n",
    "Mức giảm giá trung bình cho nhóm khách hàng thu nhập thấp có thể dao động từ cao nhất là 15% đến thấp nhất là 10%. Ở nhóm khách hàng thu nhập cao, mức giảm giá trung bình từ 5% đến khoảng 2%"
   ]
  },
  {
   "cell_type": "code",
   "execution_count": 17,
   "metadata": {},
   "outputs": [
    {
     "data": {
      "text/plain": [
       "[Text(21.25, 0.5, 'Mức giảm giá'),\n",
       " Text(0.5, 249.00000000000023, 'Logarit thu nhập')]"
      ]
     },
     "execution_count": 17,
     "metadata": {},
     "output_type": "execute_result"
    }
   ],
   "source": [
    "g = sns.regplot(x= df['income'].values, \n",
    "            y= np.round(1 - df['price'].values, 3),\n",
    "            lowess = True, \n",
    "            marker = \".\",\n",
    "            color = 'red',\n",
    "            scatter_kws={'alpha':0, 'color':None})\n",
    "\n",
    "g.axvline(1)\n",
    "\n",
    "g.set(xlabel='Logarit thu nhập', ylabel='Mức giảm giá')"
   ]
  },
  {
   "cell_type": "markdown",
   "metadata": {},
   "source": [
    "Do chính sách giảm giá chịu chi phối đồng thời bởi quy luật cứng (thu nhập < 1) và mềm (phân bố ngẫu nhiên), sự tương phản về thu nhập ở 3 mức giảm giá 0, 10% và 20% có hình ảnh như sau:"
   ]
  },
  {
   "cell_type": "code",
   "execution_count": 15,
   "metadata": {},
   "outputs": [],
   "source": [
    "sns.violinplot(x= np.round(1 - df['price'].values, 3),\n",
    "            y = df['income'].values)\n",
    "        \n",
    "plt.xlabel('Mức giảm giá')\n",
    "plt.ylabel('Logarit Thu nhập')\n",
    "plt.show()"
   ]
  },
  {
   "cell_type": "markdown",
   "metadata": {},
   "source": [
    "Liệu chính sách như vậy có hợp lý không ? Ta có thể quan sát ảnh hưởng của chính sách này lên doanh số và doanh thu\n",
    "\n",
    "Không có sự khác biệt rõ nét về doanh số giữa 3 mức giảm giá (dĩ nhiên khách hàng thu nhập thấp vẫn không mua nhiều sản phẩm ngay cả khi có giảm giá)"
   ]
  },
  {
   "cell_type": "code",
   "execution_count": 50,
   "metadata": {},
   "outputs": [
    {
     "data": {
      "text/plain": [
       "Text(0, 0.5, 'Logarit Doanh số')"
      ]
     },
     "execution_count": 50,
     "metadata": {},
     "output_type": "execute_result"
    },
    {
     "data": {
      "image/png": "[encoded data removed]",
      "text/plain": [
       "<Figure size 432x288 with 1 Axes>"
      ]
     },
     "metadata": {
      "needs_background": "light"
     },
     "output_type": "display_data"
    }
   ],
   "source": [
    "sns.boxplot(x= np.round(1 - df['price'].values, 3),\n",
    "            y = np.log(df['demand']))\n",
    "        \n",
    "plt.xlabel('Mức giảm Giá')\n",
    "plt.ylabel('Logarit Doanh số')"
   ]
  },
  {
   "cell_type": "markdown",
   "metadata": {},
   "source": [
    "Về doanh thu, càng giảm giá nhiều thì doanh thu càng giảm:"
   ]
  },
  {
   "cell_type": "code",
   "execution_count": 26,
   "metadata": {},
   "outputs": [
    {
     "data": {
      "text/plain": [
       "Text(0, 0.5, 'Doanh thu = doanh số x giá')"
      ]
     },
     "execution_count": 26,
     "metadata": {},
     "output_type": "execute_result"
    },
    {
     "data": {
      "image/png": "[encoded data removed]",
      "text/plain": [
       "<Figure size 432x288 with 1 Axes>"
      ]
     },
     "metadata": {
      "needs_background": "light"
     },
     "output_type": "display_data"
    }
   ],
   "source": [
    "sns.boxplot(x= np.round(1 - df['price'].values, 3),\n",
    "            y = np.log(df['demand'] * df['price']))\n",
    "        \n",
    "plt.xlabel('Mức giảm Giá')\n",
    "plt.ylabel('Doanh thu = doanh số x giá')"
   ]
  },
  {
   "cell_type": "markdown",
   "metadata": {},
   "source": [
    "# Dựng mô hình DML \n",
    "\n",
    "Để ước lượng hiệu ứng can thiệp trung bình của chính sách giảm giá hiện tại, ta dùng mô hình DML, với package econML.\n",
    "\n",
    "Mô hình có cơ chế như sau: một hệ thống gồm 2 mô hình bộ phận, mô hình T ước lượng giá trị của T (price) từ các features trong block W và X, mô hình Y ước lượng giá trị của Outcome Y (demand) từ các features trong block W và X. Sau đó ta dùng một mô hình thứ 3 tạm gọi là M, để ước lượng CATE (hiệu ứng can thiệp có điều kiện trung bình) dựa vào residual error của 2 mô hình T và Y.\n",
    "\n",
    "T và Y được hoán chuyển logarit trước khi đi vào huấn luyện mô hình"
   ]
  },
  {
   "cell_type": "code",
   "execution_count": 31,
   "metadata": {},
   "outputs": [],
   "source": [
    "# Chuẩn bị bloc dữ liệu cho mô hình DML\n",
    "Y = df[\"demand\"]  # Outcome\n",
    "T = df[\"price\"]  # Can thiệp\n",
    "X = df[[\"income\"]]  # Covariates\n",
    "W = df.drop(columns=[\"demand\", \"price\", \"income\"])  # Confounders"
   ]
  },
  {
   "cell_type": "code",
   "execution_count": 32,
   "metadata": {},
   "outputs": [
    {
     "data": {
      "text/html": [
       "<div>\n",
       "<style scoped>\n",
       "    .dataframe tbody tr th:only-of-type {\n",
       "        vertical-align: middle;\n",
       "    }\n",
       "\n",
       "    .dataframe tbody tr th {\n",
       "        vertical-align: top;\n",
       "    }\n",
       "\n",
       "    .dataframe thead th {\n",
       "        text-align: right;\n",
       "    }\n",
       "</style>\n",
       "<table border=\"1\" class=\"dataframe\">\n",
       "  <thead>\n",
       "    <tr style=\"text-align: right;\">\n",
       "      <th></th>\n",
       "      <th>account_age</th>\n",
       "      <th>age</th>\n",
       "      <th>avg_hours</th>\n",
       "      <th>days_visited</th>\n",
       "      <th>friends_count</th>\n",
       "      <th>has_membership</th>\n",
       "      <th>is_US</th>\n",
       "      <th>songs_purchased</th>\n",
       "    </tr>\n",
       "  </thead>\n",
       "  <tbody>\n",
       "    <tr>\n",
       "      <th>0</th>\n",
       "      <td>3</td>\n",
       "      <td>53</td>\n",
       "      <td>1.834234</td>\n",
       "      <td>2</td>\n",
       "      <td>8</td>\n",
       "      <td>1</td>\n",
       "      <td>1</td>\n",
       "      <td>4.903237</td>\n",
       "    </tr>\n",
       "    <tr>\n",
       "      <th>1</th>\n",
       "      <td>5</td>\n",
       "      <td>54</td>\n",
       "      <td>7.171411</td>\n",
       "      <td>7</td>\n",
       "      <td>9</td>\n",
       "      <td>0</td>\n",
       "      <td>1</td>\n",
       "      <td>3.330161</td>\n",
       "    </tr>\n",
       "    <tr>\n",
       "      <th>2</th>\n",
       "      <td>3</td>\n",
       "      <td>33</td>\n",
       "      <td>5.351920</td>\n",
       "      <td>6</td>\n",
       "      <td>9</td>\n",
       "      <td>0</td>\n",
       "      <td>1</td>\n",
       "      <td>3.036203</td>\n",
       "    </tr>\n",
       "    <tr>\n",
       "      <th>3</th>\n",
       "      <td>2</td>\n",
       "      <td>34</td>\n",
       "      <td>6.723551</td>\n",
       "      <td>0</td>\n",
       "      <td>8</td>\n",
       "      <td>0</td>\n",
       "      <td>1</td>\n",
       "      <td>7.911926</td>\n",
       "    </tr>\n",
       "    <tr>\n",
       "      <th>4</th>\n",
       "      <td>4</td>\n",
       "      <td>30</td>\n",
       "      <td>2.448247</td>\n",
       "      <td>5</td>\n",
       "      <td>8</td>\n",
       "      <td>1</td>\n",
       "      <td>0</td>\n",
       "      <td>7.148967</td>\n",
       "    </tr>\n",
       "    <tr>\n",
       "      <th>...</th>\n",
       "      <td>...</td>\n",
       "      <td>...</td>\n",
       "      <td>...</td>\n",
       "      <td>...</td>\n",
       "      <td>...</td>\n",
       "      <td>...</td>\n",
       "      <td>...</td>\n",
       "      <td>...</td>\n",
       "    </tr>\n",
       "    <tr>\n",
       "      <th>9995</th>\n",
       "      <td>2</td>\n",
       "      <td>56</td>\n",
       "      <td>6.095439</td>\n",
       "      <td>3</td>\n",
       "      <td>10</td>\n",
       "      <td>0</td>\n",
       "      <td>0</td>\n",
       "      <td>7.406568</td>\n",
       "    </tr>\n",
       "    <tr>\n",
       "      <th>9996</th>\n",
       "      <td>3</td>\n",
       "      <td>52</td>\n",
       "      <td>7.828183</td>\n",
       "      <td>7</td>\n",
       "      <td>5</td>\n",
       "      <td>0</td>\n",
       "      <td>1</td>\n",
       "      <td>0.782374</td>\n",
       "    </tr>\n",
       "    <tr>\n",
       "      <th>9997</th>\n",
       "      <td>1</td>\n",
       "      <td>27</td>\n",
       "      <td>6.527350</td>\n",
       "      <td>6</td>\n",
       "      <td>9</td>\n",
       "      <td>0</td>\n",
       "      <td>1</td>\n",
       "      <td>10.926441</td>\n",
       "    </tr>\n",
       "    <tr>\n",
       "      <th>9998</th>\n",
       "      <td>4</td>\n",
       "      <td>49</td>\n",
       "      <td>2.803943</td>\n",
       "      <td>6</td>\n",
       "      <td>9</td>\n",
       "      <td>1</td>\n",
       "      <td>1</td>\n",
       "      <td>4.205016</td>\n",
       "    </tr>\n",
       "    <tr>\n",
       "      <th>9999</th>\n",
       "      <td>5</td>\n",
       "      <td>35</td>\n",
       "      <td>9.334821</td>\n",
       "      <td>2</td>\n",
       "      <td>9</td>\n",
       "      <td>0</td>\n",
       "      <td>1</td>\n",
       "      <td>2.971992</td>\n",
       "    </tr>\n",
       "  </tbody>\n",
       "</table>\n",
       "<p>10000 rows × 8 columns</p>\n",
       "</div>"
      ],
      "text/plain": [
       "      account_age  age  avg_hours  days_visited  friends_count  \\\n",
       "0               3   53   1.834234             2              8   \n",
       "1               5   54   7.171411             7              9   \n",
       "2               3   33   5.351920             6              9   \n",
       "3               2   34   6.723551             0              8   \n",
       "4               4   30   2.448247             5              8   \n",
       "...           ...  ...        ...           ...            ...   \n",
       "9995            2   56   6.095439             3             10   \n",
       "9996            3   52   7.828183             7              5   \n",
       "9997            1   27   6.527350             6              9   \n",
       "9998            4   49   2.803943             6              9   \n",
       "9999            5   35   9.334821             2              9   \n",
       "\n",
       "      has_membership  is_US  songs_purchased  \n",
       "0                  1      1         4.903237  \n",
       "1                  0      1         3.330161  \n",
       "2                  0      1         3.036203  \n",
       "3                  0      1         7.911926  \n",
       "4                  1      0         7.148967  \n",
       "...              ...    ...              ...  \n",
       "9995               0      0         7.406568  \n",
       "9996               0      1         0.782374  \n",
       "9997               0      1        10.926441  \n",
       "9998               1      1         4.205016  \n",
       "9999               0      1         2.971992  \n",
       "\n",
       "[10000 rows x 8 columns]"
      ]
     },
     "execution_count": 32,
     "metadata": {},
     "output_type": "execute_result"
    }
   ],
   "source": [
    "W"
   ]
  },
  {
   "cell_type": "code",
   "execution_count": 33,
   "metadata": {
    "scrolled": true
   },
   "outputs": [
    {
     "data": {
      "text/plain": [
       "[Text(21.25, 0.5, 'Doanh số (log)'), Text(0.5, 249.00000000000023, 'Thu nhập')]"
      ]
     },
     "execution_count": 33,
     "metadata": {},
     "output_type": "execute_result"
    }
   ],
   "source": [
    "# Hoán chuyển T và Y thành thang đo logarit\n",
    "\n",
    "log_T = np.log(T)\n",
    "log_Y = np.log(Y)\n",
    "\n",
    "g = sns.regplot(x=df['income'].values, \n",
    "            y=log_Y,\n",
    "            lowess = True, \n",
    "            marker = \".\",\n",
    "            scatter_kws={'alpha':0.3, 'color':'grey'})\n",
    "\n",
    "g.set(xlabel='Thu nhập', ylabel='Doanh số (log)')"
   ]
  },
  {
   "cell_type": "markdown",
   "metadata": {},
   "source": [
    "Ta cũng chuẩn bị 1 array dữ liệu mô phỏng cho hiệp biến X (income) để test mô hình"
   ]
  },
  {
   "cell_type": "code",
   "execution_count": 54,
   "metadata": {},
   "outputs": [],
   "source": [
    "# Chuẩn bị array dữ liệu mô phỏng income để test mô hình\n",
    "X_test = np.linspace(0, 5, 100).reshape(-1, 1)\n",
    "X_test_data = pd.DataFrame(X_test, columns=[\"income\"])"
   ]
  },
  {
   "cell_type": "markdown",
   "metadata": {},
   "source": [
    "Ta chọn algorithm Random Forest cho cả 2 mô hình T và Y, vì đó là những bài toán regression, ước lượng biến số liên tục. Ưu điểm của Random Forest đó là không cần hoán chuyển dữ liệu features, thích nghi tốt với quy luật phi tuyến tính, và tốc độ huấn luyện nhanh.\n",
    "\n",
    "Mô hình DML sau cùng ước tính CATE cũng dùng algorithm Random Forest"
   ]
  },
  {
   "cell_type": "code",
   "execution_count": 26,
   "metadata": {},
   "outputs": [
    {
     "ename": "NameError",
     "evalue": "name 'log_Y' is not defined",
     "output_type": "error",
     "traceback": [
      "\u001b[0;31m---------------------------------------------------------------------------\u001b[0m",
      "\u001b[0;31mNameError\u001b[0m                                 Traceback (most recent call last)",
      "\u001b[0;32m<ipython-input-26-af89d52d3d8b>\u001b[0m in \u001b[0;36m<module>\u001b[0;34m\u001b[0m\n\u001b[1;32m      4\u001b[0m                              model_t=RandomForestRegressor())\n\u001b[1;32m      5\u001b[0m \u001b[0;34m\u001b[0m\u001b[0m\n\u001b[0;32m----> 6\u001b[0;31m \u001b[0mmod\u001b[0m\u001b[0;34m.\u001b[0m\u001b[0mfit\u001b[0m\u001b[0;34m(\u001b[0m\u001b[0mlog_Y\u001b[0m\u001b[0;34m,\u001b[0m \u001b[0mlog_T\u001b[0m\u001b[0;34m,\u001b[0m \u001b[0mX\u001b[0m\u001b[0;34m,\u001b[0m \u001b[0mW\u001b[0m\u001b[0;34m,\u001b[0m \u001b[0minference\u001b[0m\u001b[0;34m=\u001b[0m\u001b[0;34m\"blb\"\u001b[0m\u001b[0;34m)\u001b[0m\u001b[0;34m\u001b[0m\u001b[0;34m\u001b[0m\u001b[0m\n\u001b[0m",
      "\u001b[0;31mNameError\u001b[0m: name 'log_Y' is not defined"
     ]
    }
   ],
   "source": [
    "# Huấn luyện mô hình DML\n",
    "\n",
    "mod = ForestDMLCateEstimator(model_y=RandomForestRegressor(), \n",
    "                             model_t=RandomForestRegressor())\n",
    "\n",
    "mod.fit(log_Y, log_T, X, W, inference=\"blb\")"
   ]
  },
  {
   "cell_type": "markdown",
   "metadata": {},
   "source": [
    "Sau khi huấn luyện, mô hình (mod) cho phép ước tính marginal effect của CATE dựa vào duy nhất thông tin về thu nhập, hay hiệp biến X:"
   ]
  },
  {
   "cell_type": "code",
   "execution_count": 57,
   "metadata": {},
   "outputs": [],
   "source": [
    "marg_ef = mod.marginal_effect(X = X.values, T = log_T)\n",
    "\n",
    "ml, mu = mod.marginal_effect_interval(X = X.values, T=log_T)"
   ]
  },
  {
   "cell_type": "markdown",
   "metadata": {},
   "source": [
    "Khi khảo sát liên hệ giữa hiệu ứng can thiệp và 3 mức giá : 0.8 (giảm 20%), 0.9 (giảm 10%) và 1 (không giảm giá), ta không thể kết luận gì nhiều về hiệu quả của chính sách hiện nay:"
   ]
  },
  {
   "cell_type": "code",
   "execution_count": 68,
   "metadata": {},
   "outputs": [
    {
     "data": {
      "text/plain": [
       "Text(0, 0.5, 'Hiệu ứng can thiệp trên doanh số')"
      ]
     },
     "execution_count": 68,
     "metadata": {},
     "output_type": "execute_result"
    },
    {
     "data": {
      "image/png": "[encoded data removed]",
      "text/plain": [
       "<Figure size 432x288 with 1 Axes>"
      ]
     },
     "metadata": {
      "needs_background": "light"
     },
     "output_type": "display_data"
    }
   ],
   "source": [
    "sns.regplot(x= df['price'].values,\n",
    "                 y = marg_ef,\n",
    "            marker = \".\")\n",
    "        \n",
    "plt.xlabel('Mức giá')\n",
    "plt.ylabel('Hiệu ứng can thiệp trên doanh số')"
   ]
  },
  {
   "cell_type": "markdown",
   "metadata": {},
   "source": [
    "Biểu đồ boxplot cho thấy: chính sách giảm giá hiện thời có vẻ như không có hiệu quả: Mức giảm giá 20% có hại nhiều hơn lợi, nó làm giảm doanh số chứ không tăng. Mức giảm 10% có hiệu quả không rõ rệt, phân tán cao."
   ]
  },
  {
   "cell_type": "code",
   "execution_count": 69,
   "metadata": {},
   "outputs": [
    {
     "data": {
      "text/plain": [
       "Text(0, 0.5, 'Hiệu ứng can thiệp trên doanh số')"
      ]
     },
     "execution_count": 69,
     "metadata": {},
     "output_type": "execute_result"
    },
    {
     "data": {
      "image/png": "[encoded data removed]",
      "text/plain": [
       "<Figure size 432x288 with 1 Axes>"
      ]
     },
     "metadata": {
      "needs_background": "light"
     },
     "output_type": "display_data"
    }
   ],
   "source": [
    "sns.boxplot(x= np.round(1 - df['price'].values, 3),\n",
    "                 y = marg_ef)\n",
    "        \n",
    "plt.xlabel('Mức giảm giá')\n",
    "plt.ylabel('Hiệu ứng can thiệp trên doanh số')"
   ]
  },
  {
   "cell_type": "markdown",
   "metadata": {},
   "source": [
    "Vì thu nhập là 1 hiệp biến quan trọng, ta có thể khảo sát liên hệ giữa hiệu ứng can thiệp trung bình cùng khoảng tin cậy 95% với thu nhập qua biểu đồ sau"
   ]
  },
  {
   "cell_type": "code",
   "execution_count": 71,
   "metadata": {},
   "outputs": [
    {
     "data": {
      "text/plain": [
       "Text(0, 0.5, 'Hiệu quả của giảm giá trên doanh số')"
      ]
     },
     "execution_count": 71,
     "metadata": {},
     "output_type": "execute_result"
    },
    {
     "data": {
      "image/png": "[encoded data removed]",
      "text/plain": [
       "<Figure size 576x432 with 1 Axes>"
      ]
     },
     "metadata": {
      "needs_background": "light"
     },
     "output_type": "display_data"
    }
   ],
   "source": [
    "plt.figure(figsize=(8,6))\n",
    "    \n",
    "sns.regplot(x = df['income'].values,\n",
    "            y =  marg_ef,\n",
    "            lowess = True, marker = \".\",\n",
    "            color = 'red',\n",
    "            ci = 95,\n",
    "            scatter_kws={'alpha':0.1, 'color':'grey'})\n",
    "\n",
    "sns.regplot(x = df['income'].values,\n",
    "            y = ml,\n",
    "            lowess = True, marker = \".\",\n",
    "            color = \"purple\",\n",
    "            ci = 95,\n",
    "            scatter_kws={'alpha':0, 'color':None})\n",
    "    \n",
    "sns.regplot(x = df['income'].values,\n",
    "            y = mu,\n",
    "            lowess = True, marker = \".\",\n",
    "            color = \"blue\",\n",
    "            ci = 95,\n",
    "            scatter_kws={'alpha':0, 'color':None})\n",
    "    \n",
    "plt.axhline(linewidth=1.5, linestyle = \"--\", color = \"red\")\n",
    "plt.axvline(1,linestyle = \"--\", color = \"grey\")\n",
    "\n",
    "plt.xlabel('Logarit Thu nhập')\n",
    "plt.ylabel('Hiệu quả của giảm giá trên doanh số')"
   ]
  },
  {
   "cell_type": "markdown",
   "metadata": {},
   "source": [
    "Hình ảnh này cho thấy hiệu quả của can thiệp giảm giá nói chung là âm (làm giảm doanh số), và diễn ra theo cùng quy luật quan hệ giữa Doanh số và thu nhập\n",
    "\n",
    "Ta cũng có thể khảo sát tương tự cho dữ liệu income mô phỏng (test data)"
   ]
  },
  {
   "cell_type": "code",
   "execution_count": 72,
   "metadata": {},
   "outputs": [],
   "source": [
    "# Ước tính hiệu ứng can thiệp theo giá trị mô phỏng của Income (X_test)\n",
    "te_pred = mod.effect(X_test)\n",
    "te_pred_interval = mod.effect_interval(X_test)"
   ]
  },
  {
   "cell_type": "code",
   "execution_count": 73,
   "metadata": {},
   "outputs": [
    {
     "data": {
      "text/plain": [
       "<matplotlib.legend.Legend at 0x2077204ec88>"
      ]
     },
     "execution_count": 73,
     "metadata": {},
     "output_type": "execute_result"
    },
    {
     "data": {
      "image/png": "[encoded data removed]",
      "text/plain": [
       "<Figure size 720x432 with 1 Axes>"
      ]
     },
     "metadata": {
      "needs_background": "light"
     },
     "output_type": "display_data"
    }
   ],
   "source": [
    "plt.figure(figsize=(10, 6))\n",
    "plt.plot(X_test.flatten(), te_pred, label=\"Ước lượng doanh số\", color = 'red')\n",
    "\n",
    "plt.fill_between(\n",
    "    X_test.flatten(),\n",
    "    te_pred_interval[0],\n",
    "    te_pred_interval[1],\n",
    "    alpha=0.2,\n",
    "    color = 'red',\n",
    "    label=\"90% Confidence Interval\",\n",
    ")\n",
    "\n",
    "plt.axvline(1,linestyle = \"--\", color = \"grey\")\n",
    "\n",
    "plt.xlabel(\"Thu nhập giả định\")\n",
    "plt.ylabel(\"Hiệu quả can thiệp ước lượng trên doanh số\")\n",
    "plt.title(\"Quan hệ giữa thu nhập và hiệu quả trên doanh số\")\n",
    "plt.legend(loc=\"lower right\")"
   ]
  },
  {
   "cell_type": "markdown",
   "metadata": {},
   "source": [
    "## Xây dựng chính sách dựa vào mô hình cây quyết định\n",
    "\n",
    "Ngoài mô hình DML, package econML còn cung cấp cho chúng ta một công cụ rất thú vị, đó là mô hình cây quyết định cho phép giải thích mô hình DML dưới hình thức cây quyết định, và rút ra quy luật can thiệp tối ưu dựa vào kết quả mô hình DML.\n",
    "\n",
    "Ở đây, ta muốn tối ưu hóa doanh thu (demand * price) chứ không phải là doanh số (demand)\n",
    "\n",
    "Chúng ta muốn đưa ra quyết định: can thiệp giảm giá (khuyến mại) cho đối tượng khách hàng nào để tối đa doanh thu, với doanh thu được tính bằng tích của Giá (T) và doanh số (demand hay Y)\n",
    "\n",
    "$$\\begin{align}\n",
    "Doanh thu Rev = Y \\cdot T \\\\\n",
    "     = \\exp^{log(Y)} \\cdot T\\\\\n",
    "     = \\exp^{(\\theta(X) \\cdot log(T) + f(X,W) + \\epsilon)} \\cdot T \\\\\n",
    "     = \\exp^{(f(X,W) + \\epsilon)} \\cdot T^{(\\theta(X)+1)}\n",
    "\\end{align}$$\n",
    "\n",
    "Khi giá (T) giảm, doanh thu chỉ tăng khi $\\theta(X)+1 < 0 $. "
   ]
  },
  {
   "cell_type": "code",
   "execution_count": 25,
   "metadata": {},
   "outputs": [
    {
     "ename": "NameError",
     "evalue": "name 'mod' is not defined",
     "output_type": "error",
     "traceback": [
      "\u001b[0;31m---------------------------------------------------------------------------\u001b[0m",
      "\u001b[0;31mNameError\u001b[0m                                 Traceback (most recent call last)",
      "\u001b[0;32m<ipython-input-25-c2574717faa7>\u001b[0m in \u001b[0;36m<module>\u001b[0;34m\u001b[0m\n\u001b[1;32m      3\u001b[0m                                     \u001b[0mmin_samples_leaf\u001b[0m\u001b[0;34m=\u001b[0m\u001b[0;36m10\u001b[0m\u001b[0;34m,\u001b[0m\u001b[0;34m\u001b[0m\u001b[0;34m\u001b[0m\u001b[0m\n\u001b[1;32m      4\u001b[0m                                     min_impurity_decrease=0.001)\n\u001b[0;32m----> 5\u001b[0;31m intrp.interpret(mod, X_test, \n\u001b[0m\u001b[1;32m      6\u001b[0m                 \u001b[0msample_treatment_costs\u001b[0m\u001b[0;34m=\u001b[0m\u001b[0;34m-\u001b[0m\u001b[0;36m1\u001b[0m\u001b[0;34m,\u001b[0m\u001b[0;34m\u001b[0m\u001b[0;34m\u001b[0m\u001b[0m\n\u001b[1;32m      7\u001b[0m                 treatment_names=[\"Giảm giá\", \"Giữ giá\"])\n",
      "\u001b[0;31mNameError\u001b[0m: name 'mod' is not defined"
     ]
    }
   ],
   "source": [
    "intrp = SingleTreePolicyInterpreter(risk_level=0.05, \n",
    "                                    max_depth=2, \n",
    "                                    min_samples_leaf=10, \n",
    "                                    min_impurity_decrease=0.001)\n",
    "intrp.interpret(mod, X_test, \n",
    "                sample_treatment_costs=-1, \n",
    "                treatment_names=[\"Giảm giá\", \"Giữ giá\"])\n",
    "\n",
    "plt.figure(figsize=(20,5))\n",
    "intrp.plot(feature_names=X.columns, fontsize=20)"
   ]
  },
  {
   "cell_type": "markdown",
   "metadata": {},
   "source": [
    "Algorithm SingleTreePolicyInterpreter của econML đề nghị chính sách giảm giá mới như sau: \n",
    "+ Giảm giá 10% cho tất cả khách hàng có thu nhập thấp hơn 0.985, và giữ nguyên giá gốc (không giảm giá) cho tất cả đói tượng còn lại.\n",
    "\n",
    "Trong thí nghiệm sau cùng, ta viết hàm để mô phỏng doanh thu tùy theo chính sách giảm giá (có giảm hay không: policy, giảm bao nhiêu: discount_level1, 2) \n",
    "\n",
    "Với hàm mô phỏng này, ta so sánh doanh thu giữa 4 chính sách khác nhau:\n",
    "\n",
    "1) Chính sách mới được đề nghị: chỉ có 2 mức: không giảm giá và giảm 0.1 (10%) dựa vào ngưỡng thu nhập 0.985.\n",
    "\n",
    "2) Chính sách cũ hiện thời: \n",
    "\n",
    "3) Chính sách giảm giá đồng loạt 10% cho tất cả khách hàng \n",
    "\n",
    "4) Chính sách không giảm giá cho ai cả"
   ]
  },
  {
   "cell_type": "code",
   "execution_count": 74,
   "metadata": {},
   "outputs": [],
   "source": [
    "def gamma_fn(X):\n",
    "    return -3 - 14 * (X[\"income\"] < 1)\n",
    "\n",
    "def beta_fn(X):\n",
    "    return 20 + 0.5 * (X[\"avg_hours\"]) + 5 * (X[\"days_visited\"] > 4)\n",
    "\n",
    "def demand_fn(data, T):\n",
    "    Y = gamma_fn(data) * T + beta_fn(data)\n",
    "    return Y\n",
    "\n",
    "# Hàm tính doanh thu\n",
    "\n",
    "def revenue_fn(data, discount_level1, discount_level2, baseline_T, policy):\n",
    "    policy_price = baseline_T * (1 - discount_level1) * policy + baseline_T * (1 - discount_level2) * (1 - policy)\n",
    "    demand = demand_fn(data, policy_price)\n",
    "    rev = demand * policy_price\n",
    "    return rev"
   ]
  },
  {
   "cell_type": "code",
   "execution_count": 91,
   "metadata": {},
   "outputs": [
    {
     "data": {
      "text/plain": [
       "array([0, 0, 1, ..., 0, 0, 1], dtype=int64)"
      ]
     },
     "execution_count": 91,
     "metadata": {},
     "output_type": "execute_result"
    }
   ],
   "source": [
    "policy = intrp.treat(X)\n",
    "\n",
    "policy"
   ]
  },
  {
   "cell_type": "code",
   "execution_count": 92,
   "metadata": {},
   "outputs": [],
   "source": [
    "policy_dic={}\n",
    "\n",
    "# Chính sách giảm giá cho người có thu nhập < 0.985\n",
    "policy = intrp.treat(X)\n",
    "\n",
    "policy_dic[\"Chính sách mới\"] = np.mean(revenue_fn(data = df, \n",
    "                                                  discount_level1 = 0, \n",
    "                                                  discount_level2 = 0.1, \n",
    "                                                  baseline_T = 1,\n",
    "                                                  policy = policy))\n",
    "\n",
    "## Chính sách cũ (như dữ liệu ghi nhận)\n",
    "policy_dic[\"Chính sách cũ\"] = np.mean(df[\"price\"] * df[\"demand\"])\n",
    "\n",
    "## Chính sách: Giảm giá cho tất cả\n",
    "policy_dic[\"GIảm giá cho tất cả\"] = np.mean(revenue_fn(df, 0.1, 0, 1, np.ones(len(X))))\n",
    "\n",
    "## Không giảm giá cho ai\n",
    "policy_dic[\"Không giảm giá\"] = np.mean(revenue_fn(df, 0, 0.1, 1, np.ones(len(X))))"
   ]
  },
  {
   "cell_type": "markdown",
   "metadata": {},
   "source": [
    "Kết quả mô phỏng cho thấy Chính sách mà mô hình DML đề nghị là tốt nhất, vì sinh ra doanh thu cao nhất (14.682), tốt hơn chính sách cũ. Nếu không giảm giá cho ai thì doanh thu thấp hơn (14.295), nhưng nếu giảm cho tất cả khách hàng thì doanh thu sẽ sụt giảm nghiêm trọng."
   ]
  },
  {
   "cell_type": "code",
   "execution_count": 93,
   "metadata": {},
   "outputs": [
    {
     "data": {
      "text/plain": [
       "{'Chính sách mới': 14.686241234917587,\n",
       " 'Chính sách cũ': 14.349341914380455,\n",
       " 'GIảm giá cho tất cả': 13.7744691160686,\n",
       " 'Không giảm giá': 14.294605684520743}"
      ]
     },
     "execution_count": 93,
     "metadata": {},
     "output_type": "execute_result"
    }
   ],
   "source": [
    "policy_dic"
   ]
  },
  {
   "cell_type": "code",
   "execution_count": 99,
   "metadata": {},
   "outputs": [
    {
     "data": {
      "text/html": [
       "<div>\n",
       "<style scoped>\n",
       "    .dataframe tbody tr th:only-of-type {\n",
       "        vertical-align: middle;\n",
       "    }\n",
       "\n",
       "    .dataframe tbody tr th {\n",
       "        vertical-align: top;\n",
       "    }\n",
       "\n",
       "    .dataframe thead th {\n",
       "        text-align: right;\n",
       "    }\n",
       "</style>\n",
       "<table border=\"1\" class=\"dataframe\">\n",
       "  <thead>\n",
       "    <tr style=\"text-align: right;\">\n",
       "      <th></th>\n",
       "      <th>Doanh thu</th>\n",
       "      <th>Thứ hạng</th>\n",
       "    </tr>\n",
       "  </thead>\n",
       "  <tbody>\n",
       "    <tr>\n",
       "      <th>Chính sách mới</th>\n",
       "      <td>14.686241</td>\n",
       "      <td>1.0</td>\n",
       "    </tr>\n",
       "    <tr>\n",
       "      <th>Chính sách cũ</th>\n",
       "      <td>14.349342</td>\n",
       "      <td>2.0</td>\n",
       "    </tr>\n",
       "    <tr>\n",
       "      <th>GIảm giá cho tất cả</th>\n",
       "      <td>13.774469</td>\n",
       "      <td>4.0</td>\n",
       "    </tr>\n",
       "    <tr>\n",
       "      <th>Không giảm giá</th>\n",
       "      <td>14.294606</td>\n",
       "      <td>3.0</td>\n",
       "    </tr>\n",
       "  </tbody>\n",
       "</table>\n",
       "</div>"
      ],
      "text/plain": [
       "                     Doanh thu  Thứ hạng\n",
       "Chính sách mới       14.686241       1.0\n",
       "Chính sách cũ        14.349342       2.0\n",
       "GIảm giá cho tất cả  13.774469       4.0\n",
       "Không giảm giá       14.294606       3.0"
      ]
     },
     "execution_count": 99,
     "metadata": {},
     "output_type": "execute_result"
    }
   ],
   "source": [
    "res = pd.DataFrame.from_dict(policy_dic, \n",
    "                             orient=\"index\", \n",
    "                             columns=[\"Doanh thu\"])\n",
    "\n",
    "res[\"Thứ hạng\"] = res[\"Doanh thu\"].rank(ascending=False)\n",
    "res"
   ]
  },
  {
   "cell_type": "markdown",
   "metadata": {},
   "source": [
    "Bài thực hành đến đây tạm dừng, tuy đây là một bài toán kinh tế lượng, ứng dụng mà ta vừa khảo sát có thể ứng dụng để tối ưu hóa hiệu ứng điều trị cho một vấn đề y học khác, thí dụ đưa ra quyết định điều trị đúng lúc dựa vào độ nặng của bệnh lý để đạt hiệu quả tối ưu.\n",
    "Như vậy, ta vừa trả lời được một trong những câu hỏi khó khăn nhất mà thống kê cổ điển chưa giải quyết được, đó là câu hỏi mang tính giả định, tưởng tượng \"Nếu bệnh nhân X được điều trị, kết quả sẽ thế nào ?\" Lưu ý rằng chỉ có cách tiếp cận bằng mô hình nhân quả mới giải quyết được câu hỏi về chính sách can thiệp."
   ]
  },
  {
   "cell_type": "code",
   "execution_count": null,
   "metadata": {},
   "outputs": [],
   "source": []
  }
 ],
 "metadata": {
  "hide_input": false,
  "kernelspec": {
   "display_name": "Python [conda env:.conda-phd_env] *",
   "language": "python",
   "name": "conda-env-.conda-phd_env-py"
  },
  "language_info": {
   "codemirror_mode": {
    "name": "ipython",
    "version": 3
   },
   "file_extension": ".py",
   "mimetype": "text/x-python",
   "name": "python",
   "nbconvert_exporter": "python",
   "pygments_lexer": "ipython3",
   "version": "3.7.7"
  },
  "toc": {
   "base_numbering": 1,
   "nav_menu": {},
   "number_sections": true,
   "sideBar": true,
   "skip_h1_title": false,
   "title_cell": "Table of Contents",
   "title_sidebar": "Contents",
   "toc_cell": false,
   "toc_position": {},
   "toc_section_display": true,
   "toc_window_display": false
  }
 },
 "nbformat": 4,
 "nbformat_minor": 2
}
