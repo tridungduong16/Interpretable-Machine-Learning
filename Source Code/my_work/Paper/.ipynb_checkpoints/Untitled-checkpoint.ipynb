{
 "cells": [
  {
   "cell_type": "code",
   "execution_count": 1,
   "metadata": {},
   "outputs": [],
   "source": [
    "import sys\n",
    "sys.path.insert(1, '/home/dtd/Documents/interpretable_machine_learning/Source Code/my_work/lib')\n",
    "import numpy as np\n",
    "import pandas as pd\n",
    "import logging\n",
    "import dowhy.datasets\n",
    "import dowhy\n",
    "import propensity_score_estimator as pse\n",
    "import incremental_ps_score_estimator as ipse\n",
    "import math \n",
    "import timeit\n",
    "\n",
    "from dowhy import CausalModel\n",
    "from sklearn.linear_model import LogisticRegression\n",
    "from sklearn import metrics\n",
    "from sklearn.neighbors import NearestNeighbors\n",
    "from sklearn.ensemble import RandomForestRegressor\n",
    "from sklearn import metrics\n",
    "from sklearn.ensemble import RandomForestClassifier\n",
    "from sklearn.ensemble import GradientBoostingClassifier\n",
    "from sklearn.ensemble import GradientBoostingRegressor\n",
    "from sklearn.metrics import explained_variance_score\n",
    "from sklearn.model_selection import train_test_split\n",
    "from sklearn.model_selection import KFold\n",
    "from tqdm import tqdm"
   ]
  },
  {
   "cell_type": "code",
   "execution_count": 2,
   "metadata": {},
   "outputs": [],
   "source": [
    "true_effect = 30\n",
    "data = dowhy.datasets.linear_dataset(beta=true_effect,\n",
    "        num_common_causes=5,\n",
    "        num_instruments = 0,\n",
    "        num_samples=10000,\n",
    "        treatment_is_binary=True)\n",
    "df_expr = data[\"df\"].copy()\n",
    "df_expr['v0'] = [1 if x == True else 0 for x in df_expr['v0']]\n",
    "\n",
    "D0, D1 = train_test_split(df_expr, train_size = 0.9, random_state = 1)\n",
    "D0 = D0.reset_index().drop(columns = ['index'])\n",
    "D1 = D1.reset_index().drop(columns = ['index'])"
   ]
  },
  {
   "cell_type": "code",
   "execution_count": 4,
   "metadata": {},
   "outputs": [],
   "source": [
    "treatment = data['treatment_name'][0]\n",
    "covariate = data['common_causes_names']\n",
    "outcome = data['outcome_name']\n",
    "n_splits = 5\n",
    "delta = np.linspace(0.5, 5, n_splits)\n",
    "\n",
    "# effect = ipse.proposed_estimation(df_expr, treatment, covariate, outcome, delta, n_splits)"
   ]
  },
  {
   "cell_type": "code",
   "execution_count": 5,
   "metadata": {},
   "outputs": [],
   "source": [
    "# ipse.sample_estimator(D0, D1, treatment, covariate, outcome, delta[0])"
   ]
  },
  {
   "cell_type": "code",
   "execution_count": 6,
   "metadata": {},
   "outputs": [],
   "source": [
    "# effect"
   ]
  },
  {
   "cell_type": "code",
   "execution_count": 7,
   "metadata": {},
   "outputs": [],
   "source": [
    "# np.mean(effect)"
   ]
  },
  {
   "cell_type": "code",
   "execution_count": 8,
   "metadata": {},
   "outputs": [],
   "source": [
    "def evaluation(true_effect):\n",
    "    data = dowhy.datasets.linear_dataset(beta=true_effect,\n",
    "            num_common_causes=7,\n",
    "            num_instruments = 0,\n",
    "            num_samples=40000,\n",
    "            treatment_is_binary=True)\n",
    "    df_expr = data[\"df\"].copy()\n",
    "    df_expr['v0'] = [1 if x == True else 0 for x in df_expr['v0']]\n",
    "\n",
    "    D0, D1 = train_test_split(df_expr, train_size = 0.9, random_state = 1)\n",
    "    D0 = D0.reset_index().drop(columns = ['index'])\n",
    "    D1 = D1.reset_index().drop(columns = ['index'])\n",
    "    treatment = data['treatment_name'][0]\n",
    "    covariate = data['common_causes_names']\n",
    "    outcome = data['outcome_name']\n",
    "    n_splits = 5\n",
    "    delta = np.linspace(0.5, 5, n_splits)\n",
    "    e = ipse.proposed_estimation(df_expr, treatment, covariate, outcome, delta, n_splits)\n",
    "    return np.mean(e)"
   ]
  },
  {
   "cell_type": "code",
   "execution_count": 9,
   "metadata": {},
   "outputs": [],
   "source": [
    "# for i in np.linspace(10,50,25):\n",
    "#     print(\"True effect {}\".format(i))\n",
    "#     effect = evaluation(i)\n",
    "#     print(\"Causal effect {}\".format(effect))\n",
    "#     print(\"MAE {}\".format(abs(i - abs(effect))))\n",
    "#     print(\"\\n\")\n",
    "    "
   ]
  },
  {
   "cell_type": "code",
   "execution_count": 20,
   "metadata": {},
   "outputs": [],
   "source": [
    "def evaluation_inc(true_effect, data):\n",
    "#     data = dowhy.datasets.linear_dataset(beta=true_effect,\n",
    "#             num_common_causes=7,\n",
    "#             num_instruments = 0,\n",
    "#             num_samples=40000,\n",
    "#             treatment_is_binary=True)\n",
    "    df_expr = data[\"df\"].copy()\n",
    "    df_expr['v0'] = [1 if x == True else 0 for x in df_expr['v0']]\n",
    "\n",
    "    rfc = RandomForestClassifier(max_depth=50, random_state=0)\n",
    "    rfc.fit(df_expr[data['common_causes_names']], df_expr[data['treatment_name'][0]])\n",
    "\n",
    "    features = data['common_causes_names'] + data['treatment_name']\n",
    "    rf = RandomForestRegressor(n_estimators = 100, random_state=0)\n",
    "    rf.fit(df_expr[features], df_expr['y'])\n",
    "    \n",
    "    treatment = data['treatment_name'][0]\n",
    "    covariate = data['common_causes_names']\n",
    "    outcome = data['outcome_name']\n",
    "    e = ipse.incremenal_ps_score_estimator(df_expr, treatment, covariate, rfc, rf, delta = 2)\n",
    "    \n",
    "    att, atc, est= pse.propensity_score_estimator_k_nearest_neighbor(df_expr, \n",
    "                                                                     treatment, \n",
    "                                                                     outcome, \n",
    "                                                                     'ps_1')\n",
    "    return np.mean(e), est \n",
    "\n"
   ]
  },
  {
   "cell_type": "code",
   "execution_count": null,
   "metadata": {},
   "outputs": [
    {
     "name": "stdout",
     "output_type": "stream",
     "text": [
      "True effect 10.0\n",
      "Causal effect of incremental 6.042368816647244 and 7.466257363478204\n",
      "MAE of incremental and nearest 3.957631183352756 and 2.5337426365217963\n",
      "\n",
      "\n",
      "True effect 11.666666666666666\n",
      "Causal effect of incremental 3.190341821764969 and 12.866273652196028\n",
      "MAE of incremental and nearest 8.476324844901697 and 1.1996069855293623\n",
      "\n",
      "\n",
      "True effect 13.333333333333334\n",
      "Causal effect of incremental 3.7251618658265215 and 10.834635650683039\n",
      "MAE of incremental and nearest 9.608171467506812 and 2.4986976826502953\n",
      "\n",
      "\n",
      "True effect 15.0\n",
      "Causal effect of incremental 3.671499988376152 and 19.82253859227495\n",
      "MAE of incremental and nearest 11.328500011623849 and 4.822538592274949\n",
      "\n",
      "\n",
      "True effect 16.666666666666668\n",
      "Causal effect of incremental 11.138031024587251 and 15.532084072538453\n",
      "MAE of incremental and nearest 5.528635642079417 and 1.134582594128215\n",
      "\n",
      "\n",
      "True effect 18.333333333333336\n",
      "Causal effect of incremental 6.165775017186323 and 11.18873321222094\n",
      "MAE of incremental and nearest 12.167558316147012 and 7.144600121112395\n",
      "\n",
      "\n",
      "True effect 20.0\n",
      "Causal effect of incremental 7.847572400921327 and 6.955034512774184\n",
      "MAE of incremental and nearest 12.152427599078674 and 13.044965487225817\n",
      "\n",
      "\n",
      "True effect 21.666666666666668\n"
     ]
    }
   ],
   "source": [
    "for i in np.linspace(10,50,25):\n",
    "    print(\"True effect {}\".format(i))\n",
    "    effect, est = evaluation_inc(10)\n",
    "    print(\"Causal effect of incremental {} and {}\".format(effect, est))\n",
    "    print(\"MAE of incremental and nearest {} and {}\".format(abs(i - abs(effect)),\n",
    "                                                     abs(i - abs(est))\n",
    "                                                    ))    \n",
    "    print(\"\\n\")"
   ]
  },
  {
   "cell_type": "code",
   "execution_count": null,
   "metadata": {},
   "outputs": [],
   "source": []
  },
  {
   "cell_type": "code",
   "execution_count": null,
   "metadata": {},
   "outputs": [],
   "source": []
  },
  {
   "cell_type": "code",
   "execution_count": null,
   "metadata": {},
   "outputs": [],
   "source": []
  },
  {
   "cell_type": "code",
   "execution_count": null,
   "metadata": {},
   "outputs": [],
   "source": []
  },
  {
   "cell_type": "code",
   "execution_count": null,
   "metadata": {},
   "outputs": [],
   "source": []
  },
  {
   "cell_type": "code",
   "execution_count": null,
   "metadata": {},
   "outputs": [],
   "source": []
  },
  {
   "cell_type": "code",
   "execution_count": null,
   "metadata": {},
   "outputs": [],
   "source": []
  }
 ],
 "metadata": {
  "kernelspec": {
   "display_name": "Python [conda env:.conda-phd_env] *",
   "language": "python",
   "name": "conda-env-.conda-phd_env-py"
  },
  "language_info": {
   "codemirror_mode": {
    "name": "ipython",
    "version": 3
   },
   "file_extension": ".py",
   "mimetype": "text/x-python",
   "name": "python",
   "nbconvert_exporter": "python",
   "pygments_lexer": "ipython3",
   "version": "3.7.7"
  },
  "toc": {
   "base_numbering": 1,
   "nav_menu": {},
   "number_sections": true,
   "sideBar": true,
   "skip_h1_title": false,
   "title_cell": "Table of Contents",
   "title_sidebar": "Contents",
   "toc_cell": false,
   "toc_position": {},
   "toc_section_display": true,
   "toc_window_display": false
  }
 },
 "nbformat": 4,
 "nbformat_minor": 4
}
