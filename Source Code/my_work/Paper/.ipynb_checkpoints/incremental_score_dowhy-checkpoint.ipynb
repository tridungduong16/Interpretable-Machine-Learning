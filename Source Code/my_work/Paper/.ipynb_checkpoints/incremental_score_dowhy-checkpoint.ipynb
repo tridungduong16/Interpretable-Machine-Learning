{
 "cells": [
  {
   "cell_type": "code",
   "execution_count": 1,
   "metadata": {},
   "outputs": [],
   "source": [
    "import sys\n",
    "sys.path.insert(1, '/home/dtd/Documents/interpretable_machine_learning/Source Code/my_work/lib')\n",
    "import numpy as np\n",
    "import pandas as pd\n",
    "import logging\n",
    "import dowhy.datasets\n",
    "import dowhy\n",
    "import propensity_score_estimator as pse\n",
    "import math \n",
    "\n",
    "from dowhy import CausalModel\n",
    "from sklearn.linear_model import LogisticRegression\n",
    "from sklearn import metrics\n",
    "from sklearn.neighbors import NearestNeighbors\n",
    "from sklearn.ensemble import RandomForestRegressor\n"
   ]
  },
  {
   "cell_type": "markdown",
   "metadata": {},
   "source": [
    "**Simulated data with true effect is 100**"
   ]
  },
  {
   "cell_type": "code",
   "execution_count": 2,
   "metadata": {},
   "outputs": [],
   "source": [
    "true_effect = 120\n",
    "data = dowhy.datasets.linear_dataset(beta=true_effect,\n",
    "        num_common_causes=8,\n",
    "        num_instruments = 0,\n",
    "        num_samples=20000,\n",
    "        treatment_is_binary=True)\n",
    "df = data[\"df\"]"
   ]
  },
  {
   "cell_type": "code",
   "execution_count": 3,
   "metadata": {},
   "outputs": [],
   "source": [
    "df['v0'] = [1 if x == True else 0 for x in df['v0']]"
   ]
  },
  {
   "cell_type": "code",
   "execution_count": 4,
   "metadata": {},
   "outputs": [
    {
     "data": {
      "text/html": [
       "<div>\n",
       "<style scoped>\n",
       "    .dataframe tbody tr th:only-of-type {\n",
       "        vertical-align: middle;\n",
       "    }\n",
       "\n",
       "    .dataframe tbody tr th {\n",
       "        vertical-align: top;\n",
       "    }\n",
       "\n",
       "    .dataframe thead th {\n",
       "        text-align: right;\n",
       "    }\n",
       "</style>\n",
       "<table border=\"1\" class=\"dataframe\">\n",
       "  <thead>\n",
       "    <tr style=\"text-align: right;\">\n",
       "      <th></th>\n",
       "      <th>W0</th>\n",
       "      <th>W1</th>\n",
       "      <th>W2</th>\n",
       "      <th>W3</th>\n",
       "      <th>W4</th>\n",
       "      <th>W5</th>\n",
       "      <th>W6</th>\n",
       "      <th>W7</th>\n",
       "      <th>v0</th>\n",
       "      <th>y</th>\n",
       "    </tr>\n",
       "  </thead>\n",
       "  <tbody>\n",
       "    <tr>\n",
       "      <th>0</th>\n",
       "      <td>-1.759263</td>\n",
       "      <td>-1.854437</td>\n",
       "      <td>-1.220480</td>\n",
       "      <td>0.368100</td>\n",
       "      <td>1.734491</td>\n",
       "      <td>-2.477646</td>\n",
       "      <td>2.042240</td>\n",
       "      <td>-0.500637</td>\n",
       "      <td>0</td>\n",
       "      <td>-151.243603</td>\n",
       "    </tr>\n",
       "    <tr>\n",
       "      <th>1</th>\n",
       "      <td>-1.453438</td>\n",
       "      <td>-2.865878</td>\n",
       "      <td>-3.038242</td>\n",
       "      <td>-0.718792</td>\n",
       "      <td>-0.094491</td>\n",
       "      <td>-0.940804</td>\n",
       "      <td>1.185255</td>\n",
       "      <td>-0.716767</td>\n",
       "      <td>0</td>\n",
       "      <td>-361.538498</td>\n",
       "    </tr>\n",
       "    <tr>\n",
       "      <th>2</th>\n",
       "      <td>-1.139325</td>\n",
       "      <td>0.604992</td>\n",
       "      <td>-1.839243</td>\n",
       "      <td>-0.980263</td>\n",
       "      <td>-1.500909</td>\n",
       "      <td>0.141364</td>\n",
       "      <td>1.079599</td>\n",
       "      <td>-0.587273</td>\n",
       "      <td>0</td>\n",
       "      <td>-175.477416</td>\n",
       "    </tr>\n",
       "    <tr>\n",
       "      <th>3</th>\n",
       "      <td>-1.040631</td>\n",
       "      <td>-1.068341</td>\n",
       "      <td>-0.552094</td>\n",
       "      <td>-0.253964</td>\n",
       "      <td>0.381098</td>\n",
       "      <td>-1.446558</td>\n",
       "      <td>1.366093</td>\n",
       "      <td>-2.246166</td>\n",
       "      <td>0</td>\n",
       "      <td>-133.204513</td>\n",
       "    </tr>\n",
       "    <tr>\n",
       "      <th>4</th>\n",
       "      <td>-0.766616</td>\n",
       "      <td>-1.269039</td>\n",
       "      <td>1.116350</td>\n",
       "      <td>-0.821242</td>\n",
       "      <td>-0.249904</td>\n",
       "      <td>-1.450722</td>\n",
       "      <td>1.244098</td>\n",
       "      <td>-1.211815</td>\n",
       "      <td>0</td>\n",
       "      <td>-120.417385</td>\n",
       "    </tr>\n",
       "  </tbody>\n",
       "</table>\n",
       "</div>"
      ],
      "text/plain": [
       "         W0        W1        W2        W3        W4        W5        W6  \\\n",
       "0 -1.759263 -1.854437 -1.220480  0.368100  1.734491 -2.477646  2.042240   \n",
       "1 -1.453438 -2.865878 -3.038242 -0.718792 -0.094491 -0.940804  1.185255   \n",
       "2 -1.139325  0.604992 -1.839243 -0.980263 -1.500909  0.141364  1.079599   \n",
       "3 -1.040631 -1.068341 -0.552094 -0.253964  0.381098 -1.446558  1.366093   \n",
       "4 -0.766616 -1.269039  1.116350 -0.821242 -0.249904 -1.450722  1.244098   \n",
       "\n",
       "         W7  v0           y  \n",
       "0 -0.500637   0 -151.243603  \n",
       "1 -0.716767   0 -361.538498  \n",
       "2 -0.587273   0 -175.477416  \n",
       "3 -2.246166   0 -133.204513  \n",
       "4 -1.211815   0 -120.417385  "
      ]
     },
     "execution_count": 4,
     "metadata": {},
     "output_type": "execute_result"
    }
   ],
   "source": [
    "df.head()"
   ]
  },
  {
   "cell_type": "markdown",
   "metadata": {},
   "source": [
    "## Summary\n",
    "$$p_1 = E[A = 1 | X]$$\n",
    "$$p_0 = E[A = 0 | X]$$\n",
    "\n",
    "$$q_1 = \\frac{\\delta p_0}{\\delta p_0 + p_1}$$\n",
    "$$\\Psi (\\delta ) = q1*\\mathbb{E}[Y | X,A=1] + q_0*\\mathbb{E}[Y | X,A=0]$$\n",
    "\n",
    "**Influence function**\n",
    "\n",
    "$$\\Psi (\\delta ) = q_1*\\phi_1 + q_0*\\phi_0 + \\frac{\\delta*(\\mu(X,1) - \\mu(X,0))}{(\\delta*p_1 + p_0)^2}$$ \n",
    "$$\\phi_a = \\frac{\\mathbb{1}(A=a)}{\\pi(a|x)}(Y - \\mu(X,A)) +  \\mu(X,a)$$"
   ]
  },
  {
   "cell_type": "markdown",
   "metadata": {},
   "source": [
    "## Propensity Score "
   ]
  },
  {
   "cell_type": "code",
   "execution_count": 5,
   "metadata": {},
   "outputs": [
    {
     "data": {
      "text/plain": [
       "LogisticRegression(C=1.0, class_weight=None, dual=False, fit_intercept=True,\n",
       "                   intercept_scaling=1, l1_ratio=None, max_iter=100,\n",
       "                   multi_class='auto', n_jobs=None, penalty='l2',\n",
       "                   random_state=None, solver='lbfgs', tol=0.0001, verbose=0,\n",
       "                   warm_start=False)"
      ]
     },
     "execution_count": 5,
     "metadata": {},
     "output_type": "execute_result"
    }
   ],
   "source": [
    "logreg = LogisticRegression()\n",
    "logreg.fit(df[data['common_causes_names']], df[data['treatment_name'][0]])"
   ]
  },
  {
   "cell_type": "code",
   "execution_count": 6,
   "metadata": {},
   "outputs": [],
   "source": [
    "df['ps_1'] = logreg.predict_proba(df[data['common_causes_names']])[:,1]\n",
    "df['ps_0'] = logreg.predict_proba(df[data['common_causes_names']])[:,0]\n"
   ]
  },
  {
   "cell_type": "markdown",
   "metadata": {},
   "source": [
    "## K-nearest neighbor"
   ]
  },
  {
   "cell_type": "code",
   "execution_count": 7,
   "metadata": {},
   "outputs": [],
   "source": [
    "att, atc, est= pse.propensity_score_estimator_k_nearest_neighbor(df, data['treatment_name'][0], data['outcome_name'], 'ps_1')"
   ]
  },
  {
   "cell_type": "code",
   "execution_count": 8,
   "metadata": {},
   "outputs": [
    {
     "name": "stdout",
     "output_type": "stream",
     "text": [
      "Average effect on treated: 275.32040279619133\n",
      "Average effect on control: 271.99881528253536\n",
      "Average effect: 272.18090609141257\n",
      "MAE with ground truth 152.18090609141257\n"
     ]
    }
   ],
   "source": [
    "print(\"Average effect on treated: {}\".format(att))\n",
    "print(\"Average effect on control: {}\".format(atc))\n",
    "print(\"Average effect: {}\".format(est))\n",
    "print(\"MAE with ground truth {}\".format(abs(est - true_effect)))"
   ]
  },
  {
   "cell_type": "markdown",
   "metadata": {},
   "source": [
    "## Incremental score "
   ]
  },
  {
   "cell_type": "markdown",
   "metadata": {},
   "source": [
    "**Incremental propensity score:**\n",
    "$$q_1 = \\frac{\\delta p_0}{\\delta p_0 + p_1}$$\n"
   ]
  },
  {
   "cell_type": "code",
   "execution_count": 9,
   "metadata": {},
   "outputs": [],
   "source": [
    "delta = 2\n",
    "df['incre_ps_1'] = (delta * df['ps_1']) / (delta * df['ps_1'] + df['ps_0'])\n",
    "df['incre_ps_0'] = 1 - df['incre_ps_1']"
   ]
  },
  {
   "cell_type": "code",
   "execution_count": 10,
   "metadata": {},
   "outputs": [
    {
     "data": {
      "text/html": [
       "<div>\n",
       "<style scoped>\n",
       "    .dataframe tbody tr th:only-of-type {\n",
       "        vertical-align: middle;\n",
       "    }\n",
       "\n",
       "    .dataframe tbody tr th {\n",
       "        vertical-align: top;\n",
       "    }\n",
       "\n",
       "    .dataframe thead th {\n",
       "        text-align: right;\n",
       "    }\n",
       "</style>\n",
       "<table border=\"1\" class=\"dataframe\">\n",
       "  <thead>\n",
       "    <tr style=\"text-align: right;\">\n",
       "      <th></th>\n",
       "      <th>W0</th>\n",
       "      <th>W1</th>\n",
       "      <th>W2</th>\n",
       "      <th>W3</th>\n",
       "      <th>W4</th>\n",
       "      <th>W5</th>\n",
       "      <th>W6</th>\n",
       "      <th>W7</th>\n",
       "      <th>v0</th>\n",
       "      <th>y</th>\n",
       "      <th>ps_1</th>\n",
       "      <th>ps_0</th>\n",
       "      <th>incre_ps_1</th>\n",
       "      <th>incre_ps_0</th>\n",
       "    </tr>\n",
       "  </thead>\n",
       "  <tbody>\n",
       "    <tr>\n",
       "      <th>0</th>\n",
       "      <td>-1.759263</td>\n",
       "      <td>-1.854437</td>\n",
       "      <td>-1.220480</td>\n",
       "      <td>0.368100</td>\n",
       "      <td>1.734491</td>\n",
       "      <td>-2.477646</td>\n",
       "      <td>2.042240</td>\n",
       "      <td>-0.500637</td>\n",
       "      <td>0</td>\n",
       "      <td>-151.243603</td>\n",
       "      <td>5.839007e-18</td>\n",
       "      <td>1.0</td>\n",
       "      <td>1.167801e-17</td>\n",
       "      <td>1.0</td>\n",
       "    </tr>\n",
       "    <tr>\n",
       "      <th>1</th>\n",
       "      <td>-1.453438</td>\n",
       "      <td>-2.865878</td>\n",
       "      <td>-3.038242</td>\n",
       "      <td>-0.718792</td>\n",
       "      <td>-0.094491</td>\n",
       "      <td>-0.940804</td>\n",
       "      <td>1.185255</td>\n",
       "      <td>-0.716767</td>\n",
       "      <td>0</td>\n",
       "      <td>-361.538498</td>\n",
       "      <td>2.639727e-22</td>\n",
       "      <td>1.0</td>\n",
       "      <td>5.279454e-22</td>\n",
       "      <td>1.0</td>\n",
       "    </tr>\n",
       "    <tr>\n",
       "      <th>2</th>\n",
       "      <td>-1.139325</td>\n",
       "      <td>0.604992</td>\n",
       "      <td>-1.839243</td>\n",
       "      <td>-0.980263</td>\n",
       "      <td>-1.500909</td>\n",
       "      <td>0.141364</td>\n",
       "      <td>1.079599</td>\n",
       "      <td>-0.587273</td>\n",
       "      <td>0</td>\n",
       "      <td>-175.477416</td>\n",
       "      <td>1.145077e-08</td>\n",
       "      <td>1.0</td>\n",
       "      <td>2.290155e-08</td>\n",
       "      <td>1.0</td>\n",
       "    </tr>\n",
       "    <tr>\n",
       "      <th>3</th>\n",
       "      <td>-1.040631</td>\n",
       "      <td>-1.068341</td>\n",
       "      <td>-0.552094</td>\n",
       "      <td>-0.253964</td>\n",
       "      <td>0.381098</td>\n",
       "      <td>-1.446558</td>\n",
       "      <td>1.366093</td>\n",
       "      <td>-2.246166</td>\n",
       "      <td>0</td>\n",
       "      <td>-133.204513</td>\n",
       "      <td>6.940119e-19</td>\n",
       "      <td>1.0</td>\n",
       "      <td>1.388024e-18</td>\n",
       "      <td>1.0</td>\n",
       "    </tr>\n",
       "    <tr>\n",
       "      <th>4</th>\n",
       "      <td>-0.766616</td>\n",
       "      <td>-1.269039</td>\n",
       "      <td>1.116350</td>\n",
       "      <td>-0.821242</td>\n",
       "      <td>-0.249904</td>\n",
       "      <td>-1.450722</td>\n",
       "      <td>1.244098</td>\n",
       "      <td>-1.211815</td>\n",
       "      <td>0</td>\n",
       "      <td>-120.417385</td>\n",
       "      <td>1.153859e-16</td>\n",
       "      <td>1.0</td>\n",
       "      <td>2.307719e-16</td>\n",
       "      <td>1.0</td>\n",
       "    </tr>\n",
       "  </tbody>\n",
       "</table>\n",
       "</div>"
      ],
      "text/plain": [
       "         W0        W1        W2        W3        W4        W5        W6  \\\n",
       "0 -1.759263 -1.854437 -1.220480  0.368100  1.734491 -2.477646  2.042240   \n",
       "1 -1.453438 -2.865878 -3.038242 -0.718792 -0.094491 -0.940804  1.185255   \n",
       "2 -1.139325  0.604992 -1.839243 -0.980263 -1.500909  0.141364  1.079599   \n",
       "3 -1.040631 -1.068341 -0.552094 -0.253964  0.381098 -1.446558  1.366093   \n",
       "4 -0.766616 -1.269039  1.116350 -0.821242 -0.249904 -1.450722  1.244098   \n",
       "\n",
       "         W7  v0           y          ps_1  ps_0    incre_ps_1  incre_ps_0  \n",
       "0 -0.500637   0 -151.243603  5.839007e-18   1.0  1.167801e-17         1.0  \n",
       "1 -0.716767   0 -361.538498  2.639727e-22   1.0  5.279454e-22         1.0  \n",
       "2 -0.587273   0 -175.477416  1.145077e-08   1.0  2.290155e-08         1.0  \n",
       "3 -2.246166   0 -133.204513  6.940119e-19   1.0  1.388024e-18         1.0  \n",
       "4 -1.211815   0 -120.417385  1.153859e-16   1.0  2.307719e-16         1.0  "
      ]
     },
     "execution_count": 10,
     "metadata": {},
     "output_type": "execute_result"
    }
   ],
   "source": [
    "df.head()"
   ]
  },
  {
   "cell_type": "markdown",
   "metadata": {},
   "source": [
    "**Regress Y on X and A:**\n",
    "\n",
    "$$\\mu = \\mathbb{E}[Y | X,A]$$"
   ]
  },
  {
   "cell_type": "code",
   "execution_count": 11,
   "metadata": {},
   "outputs": [
    {
     "data": {
      "text/plain": [
       "RandomForestRegressor(bootstrap=True, ccp_alpha=0.0, criterion='mse',\n",
       "                      max_depth=None, max_features='auto', max_leaf_nodes=None,\n",
       "                      max_samples=None, min_impurity_decrease=0.0,\n",
       "                      min_impurity_split=None, min_samples_leaf=1,\n",
       "                      min_samples_split=2, min_weight_fraction_leaf=0.0,\n",
       "                      n_estimators=400, n_jobs=None, oob_score=False,\n",
       "                      random_state=1, verbose=0, warm_start=False)"
      ]
     },
     "execution_count": 11,
     "metadata": {},
     "output_type": "execute_result"
    }
   ],
   "source": [
    "features = data['common_causes_names'] + data['treatment_name']\n",
    "rf = RandomForestRegressor(n_estimators = 400, random_state = 1)\n",
    "rf.fit(df[features], df['y'])"
   ]
  },
  {
   "cell_type": "code",
   "execution_count": 12,
   "metadata": {},
   "outputs": [],
   "source": [
    "df['predicted_y'] = rf.predict(df[features])"
   ]
  },
  {
   "cell_type": "markdown",
   "metadata": {},
   "source": [
    "**Estimator:**\n",
    "$$\\Psi (\\delta ) = q1*\\mathbb{E}[Y | X,A=1] + q_0*\\mathbb{E}[Y | X,A=0]$$\n"
   ]
  },
  {
   "cell_type": "code",
   "execution_count": 13,
   "metadata": {},
   "outputs": [],
   "source": [
    "## Compute counterfactual outcome with no treatment\n",
    "df_pos = df.copy()\n",
    "df_pos['v0'] = 0\n",
    "df['treated_cf_outcome'] = rf.predict(df_pos[features])\n",
    "\n",
    "## Compute counterfactual outcome with treatment\n",
    "df_control = df.copy()\n",
    "df_control['v0'] = 1\n",
    "df['control_cf_outcome'] = rf.predict(df_control[features])\n"
   ]
  },
  {
   "cell_type": "code",
   "execution_count": 14,
   "metadata": {},
   "outputs": [
    {
     "data": {
      "text/html": [
       "<div>\n",
       "<style scoped>\n",
       "    .dataframe tbody tr th:only-of-type {\n",
       "        vertical-align: middle;\n",
       "    }\n",
       "\n",
       "    .dataframe tbody tr th {\n",
       "        vertical-align: top;\n",
       "    }\n",
       "\n",
       "    .dataframe thead th {\n",
       "        text-align: right;\n",
       "    }\n",
       "</style>\n",
       "<table border=\"1\" class=\"dataframe\">\n",
       "  <thead>\n",
       "    <tr style=\"text-align: right;\">\n",
       "      <th></th>\n",
       "      <th>W0</th>\n",
       "      <th>W1</th>\n",
       "      <th>W2</th>\n",
       "      <th>W3</th>\n",
       "      <th>W4</th>\n",
       "      <th>W5</th>\n",
       "      <th>W6</th>\n",
       "      <th>W7</th>\n",
       "      <th>v0</th>\n",
       "      <th>y</th>\n",
       "      <th>ps_1</th>\n",
       "      <th>ps_0</th>\n",
       "      <th>incre_ps_1</th>\n",
       "      <th>incre_ps_0</th>\n",
       "      <th>predicted_y</th>\n",
       "      <th>treated_cf_outcome</th>\n",
       "      <th>control_cf_outcome</th>\n",
       "    </tr>\n",
       "  </thead>\n",
       "  <tbody>\n",
       "    <tr>\n",
       "      <th>0</th>\n",
       "      <td>-1.759263</td>\n",
       "      <td>-1.854437</td>\n",
       "      <td>-1.220480</td>\n",
       "      <td>0.368100</td>\n",
       "      <td>1.734491</td>\n",
       "      <td>-2.477646</td>\n",
       "      <td>2.042240</td>\n",
       "      <td>-0.500637</td>\n",
       "      <td>0</td>\n",
       "      <td>-151.243603</td>\n",
       "      <td>5.839007e-18</td>\n",
       "      <td>1.0</td>\n",
       "      <td>1.167801e-17</td>\n",
       "      <td>1.0</td>\n",
       "      <td>-152.516600</td>\n",
       "      <td>-152.516600</td>\n",
       "      <td>235.198660</td>\n",
       "    </tr>\n",
       "    <tr>\n",
       "      <th>1</th>\n",
       "      <td>-1.453438</td>\n",
       "      <td>-2.865878</td>\n",
       "      <td>-3.038242</td>\n",
       "      <td>-0.718792</td>\n",
       "      <td>-0.094491</td>\n",
       "      <td>-0.940804</td>\n",
       "      <td>1.185255</td>\n",
       "      <td>-0.716767</td>\n",
       "      <td>0</td>\n",
       "      <td>-361.538498</td>\n",
       "      <td>2.639727e-22</td>\n",
       "      <td>1.0</td>\n",
       "      <td>5.279454e-22</td>\n",
       "      <td>1.0</td>\n",
       "      <td>-324.139064</td>\n",
       "      <td>-324.139064</td>\n",
       "      <td>146.413719</td>\n",
       "    </tr>\n",
       "    <tr>\n",
       "      <th>2</th>\n",
       "      <td>-1.139325</td>\n",
       "      <td>0.604992</td>\n",
       "      <td>-1.839243</td>\n",
       "      <td>-0.980263</td>\n",
       "      <td>-1.500909</td>\n",
       "      <td>0.141364</td>\n",
       "      <td>1.079599</td>\n",
       "      <td>-0.587273</td>\n",
       "      <td>0</td>\n",
       "      <td>-175.477416</td>\n",
       "      <td>1.145077e-08</td>\n",
       "      <td>1.0</td>\n",
       "      <td>2.290155e-08</td>\n",
       "      <td>1.0</td>\n",
       "      <td>-182.638778</td>\n",
       "      <td>-182.638778</td>\n",
       "      <td>123.060293</td>\n",
       "    </tr>\n",
       "    <tr>\n",
       "      <th>3</th>\n",
       "      <td>-1.040631</td>\n",
       "      <td>-1.068341</td>\n",
       "      <td>-0.552094</td>\n",
       "      <td>-0.253964</td>\n",
       "      <td>0.381098</td>\n",
       "      <td>-1.446558</td>\n",
       "      <td>1.366093</td>\n",
       "      <td>-2.246166</td>\n",
       "      <td>0</td>\n",
       "      <td>-133.204513</td>\n",
       "      <td>6.940119e-19</td>\n",
       "      <td>1.0</td>\n",
       "      <td>1.388024e-18</td>\n",
       "      <td>1.0</td>\n",
       "      <td>-129.926733</td>\n",
       "      <td>-129.926733</td>\n",
       "      <td>232.800511</td>\n",
       "    </tr>\n",
       "    <tr>\n",
       "      <th>4</th>\n",
       "      <td>-0.766616</td>\n",
       "      <td>-1.269039</td>\n",
       "      <td>1.116350</td>\n",
       "      <td>-0.821242</td>\n",
       "      <td>-0.249904</td>\n",
       "      <td>-1.450722</td>\n",
       "      <td>1.244098</td>\n",
       "      <td>-1.211815</td>\n",
       "      <td>0</td>\n",
       "      <td>-120.417385</td>\n",
       "      <td>1.153859e-16</td>\n",
       "      <td>1.0</td>\n",
       "      <td>2.307719e-16</td>\n",
       "      <td>1.0</td>\n",
       "      <td>-121.716328</td>\n",
       "      <td>-121.716328</td>\n",
       "      <td>262.352016</td>\n",
       "    </tr>\n",
       "  </tbody>\n",
       "</table>\n",
       "</div>"
      ],
      "text/plain": [
       "         W0        W1        W2        W3        W4        W5        W6  \\\n",
       "0 -1.759263 -1.854437 -1.220480  0.368100  1.734491 -2.477646  2.042240   \n",
       "1 -1.453438 -2.865878 -3.038242 -0.718792 -0.094491 -0.940804  1.185255   \n",
       "2 -1.139325  0.604992 -1.839243 -0.980263 -1.500909  0.141364  1.079599   \n",
       "3 -1.040631 -1.068341 -0.552094 -0.253964  0.381098 -1.446558  1.366093   \n",
       "4 -0.766616 -1.269039  1.116350 -0.821242 -0.249904 -1.450722  1.244098   \n",
       "\n",
       "         W7  v0           y          ps_1  ps_0    incre_ps_1  incre_ps_0  \\\n",
       "0 -0.500637   0 -151.243603  5.839007e-18   1.0  1.167801e-17         1.0   \n",
       "1 -0.716767   0 -361.538498  2.639727e-22   1.0  5.279454e-22         1.0   \n",
       "2 -0.587273   0 -175.477416  1.145077e-08   1.0  2.290155e-08         1.0   \n",
       "3 -2.246166   0 -133.204513  6.940119e-19   1.0  1.388024e-18         1.0   \n",
       "4 -1.211815   0 -120.417385  1.153859e-16   1.0  2.307719e-16         1.0   \n",
       "\n",
       "   predicted_y  treated_cf_outcome  control_cf_outcome  \n",
       "0  -152.516600         -152.516600          235.198660  \n",
       "1  -324.139064         -324.139064          146.413719  \n",
       "2  -182.638778         -182.638778          123.060293  \n",
       "3  -129.926733         -129.926733          232.800511  \n",
       "4  -121.716328         -121.716328          262.352016  "
      ]
     },
     "execution_count": 14,
     "metadata": {},
     "output_type": "execute_result"
    }
   ],
   "source": [
    "df.head()"
   ]
  },
  {
   "cell_type": "code",
   "execution_count": 15,
   "metadata": {},
   "outputs": [],
   "source": [
    "df['incre_effect'] = df['incre_ps_1']*df['treated_cf_outcome'] + df['incre_ps_0']*df['control_cf_outcome']"
   ]
  },
  {
   "cell_type": "code",
   "execution_count": 16,
   "metadata": {},
   "outputs": [
    {
     "data": {
      "image/png": "[encoded data removed]",
      "text/latex": [
       "$\\displaystyle 150.69573067562678$"
      ],
      "text/plain": [
       "150.69573067562678"
      ]
     },
     "execution_count": 16,
     "metadata": {},
     "output_type": "execute_result"
    }
   ],
   "source": [
    "np.mean(df['incre_effect'])"
   ]
  },
  {
   "cell_type": "code",
   "execution_count": 17,
   "metadata": {},
   "outputs": [
    {
     "name": "stdout",
     "output_type": "stream",
     "text": [
      "MAE with ground truth 30.695730675626777\n"
     ]
    }
   ],
   "source": [
    "print(\"MAE with ground truth {}\".format(abs(np.mean(df['incre_effect']) - true_effect)))\n"
   ]
  },
  {
   "cell_type": "markdown",
   "metadata": {},
   "source": [
    "**Influence function** $\\mathbb{1}$\n",
    "\n",
    "$$\\Psi (\\delta ) = q_0*\\phi_0 + q_1*\\phi_1 + \\frac{\\delta*(\\mu(X,1) - \\mu(X,0)*(A - p_1)}{(\\delta*p_0 + p_1)^2}$$ \n",
    "\n",
    "$$\\phi_a = \\frac{\\mathbb{1}(A=a)}{\\pi(a|x)}(Y - \\mu(X,A)) +  \\mu(X,a)$$"
   ]
  },
  {
   "cell_type": "code",
   "execution_count": 18,
   "metadata": {},
   "outputs": [],
   "source": [
    "# Y - mu(X,A)\n",
    "residual = df[data['outcome_name'][0]] - df['predicted_y']\n",
    "\n",
    "m0 = [0 if df.loc[i, 'v0'] == 1 else 1/df.loc[i, 'ps_0'] for i in range(len(df))]\n",
    "m1 = [0 if df.loc[i, 'v0'] == 0 else 1/df.loc[i, 'ps_1'] for i in range(len(df))]\n",
    "m0 = np.array(m0)\n",
    "m1 = np.array(m1)\n",
    "\n",
    "treated_phi = m0 * residual + df['treated_cf_outcome']\n",
    "control_phi = m1 * residual + df['control_cf_outcome']\n",
    "\n",
    "# phi_0*w0 + phi_1*w1\n",
    "eff1 = df['incre_ps_1']*treated_phi + df['incre_ps_0']*control_phi\n",
    "\n",
    "# calculate influence\n",
    "a = delta*(df['treated_cf_outcome'] - df['control_cf_outcome'])*(df['v0'] - df['ps_1'])\n",
    "b = (delta*df['ps_1'] + df['ps_0'])**2\n",
    "\n",
    "eff2 = a / b"
   ]
  },
  {
   "cell_type": "code",
   "execution_count": 19,
   "metadata": {},
   "outputs": [],
   "source": [
    "eff = eff1 + eff2"
   ]
  },
  {
   "cell_type": "code",
   "execution_count": null,
   "metadata": {},
   "outputs": [],
   "source": []
  },
  {
   "cell_type": "code",
   "execution_count": null,
   "metadata": {},
   "outputs": [],
   "source": []
  },
  {
   "cell_type": "code",
   "execution_count": null,
   "metadata": {},
   "outputs": [],
   "source": []
  }
 ],
 "metadata": {
  "kernelspec": {
   "display_name": "Python [conda env:.conda-phd_env] *",
   "language": "python",
   "name": "conda-env-.conda-phd_env-py"
  },
  "language_info": {
   "codemirror_mode": {
    "name": "ipython",
    "version": 3
   },
   "file_extension": ".py",
   "mimetype": "text/x-python",
   "name": "python",
   "nbconvert_exporter": "python",
   "pygments_lexer": "ipython3",
   "version": "3.7.7"
  },
  "toc": {
   "base_numbering": 1,
   "nav_menu": {},
   "number_sections": true,
   "sideBar": true,
   "skip_h1_title": false,
   "title_cell": "Table of Contents",
   "title_sidebar": "Contents",
   "toc_cell": false,
   "toc_position": {},
   "toc_section_display": true,
   "toc_window_display": false
  }
 },
 "nbformat": 4,
 "nbformat_minor": 4
}
