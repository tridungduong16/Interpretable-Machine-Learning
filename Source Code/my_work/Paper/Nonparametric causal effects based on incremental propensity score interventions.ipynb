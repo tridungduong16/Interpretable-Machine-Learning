{
 "cells": [
  {
   "cell_type": "markdown",
   "metadata": {},
   "source": [
    "## Import library "
   ]
  },
  {
   "cell_type": "code",
   "execution_count": 143,
   "metadata": {},
   "outputs": [],
   "source": [
    "import sys\n",
    "sys.path.insert(1, '/home/dtd/Documents/interpretable_machine_learning/Source Code/my_work/lib')\n",
    "import numpy as np\n",
    "import pandas as pd\n",
    "import logging\n",
    "import dowhy.datasets\n",
    "import dowhy\n",
    "import propensity_score_estimator as pse\n",
    "import incremental_ps_score_estimator as ipse\n",
    "import math \n",
    "import timeit\n",
    "\n",
    "from dowhy import CausalModel\n",
    "from sklearn.linear_model import LogisticRegression\n",
    "from sklearn import metrics\n",
    "from sklearn.neighbors import NearestNeighbors\n",
    "from sklearn.ensemble import RandomForestRegressor\n",
    "from sklearn import metrics\n",
    "from sklearn.ensemble import RandomForestClassifier\n",
    "from sklearn.ensemble import GradientBoostingClassifier\n",
    "from sklearn.ensemble import GradientBoostingRegressor\n",
    "from sklearn.metrics import explained_variance_score\n",
    "from sklearn.model_selection import train_test_split\n",
    "from sklearn.model_selection import KFold\n",
    "from tqdm import tqdm"
   ]
  },
  {
   "cell_type": "markdown",
   "metadata": {},
   "source": [
    "**Simulated data with true effect is 100**"
   ]
  },
  {
   "cell_type": "code",
   "execution_count": 144,
   "metadata": {},
   "outputs": [],
   "source": [
    "true_effect = 30\n",
    "data = dowhy.datasets.linear_dataset(beta=true_effect,\n",
    "        num_common_causes=5,\n",
    "        num_instruments = 0,\n",
    "        num_samples=10000,\n",
    "        treatment_is_binary=True)\n",
    "df = data[\"df\"].copy()\n",
    "df['v0'] = [1 if x == True else 0 for x in df['v0']]"
   ]
  },
  {
   "cell_type": "code",
   "execution_count": 88,
   "metadata": {},
   "outputs": [
    {
     "data": {
      "text/html": [
       "<div>\n",
       "<style scoped>\n",
       "    .dataframe tbody tr th:only-of-type {\n",
       "        vertical-align: middle;\n",
       "    }\n",
       "\n",
       "    .dataframe tbody tr th {\n",
       "        vertical-align: top;\n",
       "    }\n",
       "\n",
       "    .dataframe thead th {\n",
       "        text-align: right;\n",
       "    }\n",
       "</style>\n",
       "<table border=\"1\" class=\"dataframe\">\n",
       "  <thead>\n",
       "    <tr style=\"text-align: right;\">\n",
       "      <th></th>\n",
       "      <th>W0</th>\n",
       "      <th>W1</th>\n",
       "      <th>W2</th>\n",
       "      <th>W3</th>\n",
       "      <th>W4</th>\n",
       "      <th>v0</th>\n",
       "      <th>y</th>\n",
       "    </tr>\n",
       "  </thead>\n",
       "  <tbody>\n",
       "    <tr>\n",
       "      <th>0</th>\n",
       "      <td>0.017768</td>\n",
       "      <td>-0.495496</td>\n",
       "      <td>-1.544749</td>\n",
       "      <td>-0.734019</td>\n",
       "      <td>1.767539</td>\n",
       "      <td>1</td>\n",
       "      <td>23.679874</td>\n",
       "    </tr>\n",
       "    <tr>\n",
       "      <th>1</th>\n",
       "      <td>-0.776575</td>\n",
       "      <td>0.119851</td>\n",
       "      <td>1.256166</td>\n",
       "      <td>0.617782</td>\n",
       "      <td>1.533567</td>\n",
       "      <td>1</td>\n",
       "      <td>45.317776</td>\n",
       "    </tr>\n",
       "    <tr>\n",
       "      <th>2</th>\n",
       "      <td>-0.421549</td>\n",
       "      <td>-0.246840</td>\n",
       "      <td>0.796873</td>\n",
       "      <td>2.153733</td>\n",
       "      <td>0.265466</td>\n",
       "      <td>1</td>\n",
       "      <td>52.790256</td>\n",
       "    </tr>\n",
       "    <tr>\n",
       "      <th>3</th>\n",
       "      <td>1.654084</td>\n",
       "      <td>1.966534</td>\n",
       "      <td>2.536988</td>\n",
       "      <td>-1.139203</td>\n",
       "      <td>0.713396</td>\n",
       "      <td>1</td>\n",
       "      <td>51.772308</td>\n",
       "    </tr>\n",
       "    <tr>\n",
       "      <th>4</th>\n",
       "      <td>-0.440972</td>\n",
       "      <td>0.553262</td>\n",
       "      <td>1.211194</td>\n",
       "      <td>0.453515</td>\n",
       "      <td>0.002074</td>\n",
       "      <td>1</td>\n",
       "      <td>40.581794</td>\n",
       "    </tr>\n",
       "  </tbody>\n",
       "</table>\n",
       "</div>"
      ],
      "text/plain": [
       "         W0        W1        W2        W3        W4  v0          y\n",
       "0  0.017768 -0.495496 -1.544749 -0.734019  1.767539   1  23.679874\n",
       "1 -0.776575  0.119851  1.256166  0.617782  1.533567   1  45.317776\n",
       "2 -0.421549 -0.246840  0.796873  2.153733  0.265466   1  52.790256\n",
       "3  1.654084  1.966534  2.536988 -1.139203  0.713396   1  51.772308\n",
       "4 -0.440972  0.553262  1.211194  0.453515  0.002074   1  40.581794"
      ]
     },
     "execution_count": 88,
     "metadata": {},
     "output_type": "execute_result"
    }
   ],
   "source": [
    "df.head()"
   ]
  },
  {
   "cell_type": "markdown",
   "metadata": {},
   "source": [
    "## Summary\n",
    "$$p_1 = E[A = 1 | X]$$\n",
    "$$p_0 = E[A = 0 | X]$$\n",
    "\n",
    "$$q_1 = \\frac{\\delta p_0}{\\delta p_0 + p_1}$$\n",
    "$$\\Psi (\\delta ) = q1*\\mathbb{E}[Y | X,A=1] + q_0*\\mathbb{E}[Y | X,A=0]$$\n",
    "\n",
    "**Influence function**\n",
    "\n",
    "$$\\Psi (\\delta ) = q_1*\\phi_1 + q_0*\\phi_0 + \\frac{\\delta*(\\mu(X,1) - \\mu(X,0))}{(\\delta*p_1 + p_0)^2}$$ \n",
    "$$\\phi_a = \\frac{\\mathbb{1}(A=a)}{\\pi(a|x)}(Y - \\mu(X,A)) +  \\mu(X,a)$$"
   ]
  },
  {
   "cell_type": "markdown",
   "metadata": {},
   "source": [
    "## Propensity Score "
   ]
  },
  {
   "cell_type": "code",
   "execution_count": 89,
   "metadata": {},
   "outputs": [
    {
     "data": {
      "text/plain": [
       "LogisticRegression(C=1.0, class_weight=None, dual=False, fit_intercept=True,\n",
       "                   intercept_scaling=1, l1_ratio=None, max_iter=100,\n",
       "                   multi_class='auto', n_jobs=None, penalty='l2',\n",
       "                   random_state=None, solver='lbfgs', tol=0.0001, verbose=0,\n",
       "                   warm_start=False)"
      ]
     },
     "execution_count": 89,
     "metadata": {},
     "output_type": "execute_result"
    }
   ],
   "source": [
    "logreg = LogisticRegression()\n",
    "logreg.fit(df[data['common_causes_names']], df[data['treatment_name'][0]])"
   ]
  },
  {
   "cell_type": "code",
   "execution_count": 90,
   "metadata": {},
   "outputs": [
    {
     "name": "stdout",
     "output_type": "stream",
     "text": [
      "Accuracy: 0.9798\n",
      "Precision: 0.9866920152091255\n",
      "Recall: 0.9892780557541101\n"
     ]
    }
   ],
   "source": [
    "y_pred = logreg.predict(df[data['common_causes_names']])\n",
    "print(\"Accuracy:\",metrics.accuracy_score(df[data['treatment_name'][0]], y_pred))\n",
    "print(\"Precision:\",metrics.precision_score(df[data['treatment_name'][0]], y_pred))\n",
    "print(\"Recall:\",metrics.recall_score(df[data['treatment_name'][0]], y_pred))"
   ]
  },
  {
   "cell_type": "code",
   "execution_count": 91,
   "metadata": {},
   "outputs": [
    {
     "name": "stdout",
     "output_type": "stream",
     "text": [
      "Accuracy: 1.0\n",
      "Precision: 1.0\n",
      "Recall: 1.0\n"
     ]
    }
   ],
   "source": [
    "rfc = RandomForestClassifier(max_depth=50, random_state=0)\n",
    "rfc.fit(df[data['common_causes_names']], df[data['treatment_name'][0]])\n",
    "\n",
    "y_pred = rfc.predict(df[data['common_causes_names']])\n",
    "print(\"Accuracy:\",metrics.accuracy_score(df[data['treatment_name'][0]], y_pred))\n",
    "print(\"Precision:\",metrics.precision_score(df[data['treatment_name'][0]], y_pred))\n",
    "print(\"Recall:\",metrics.recall_score(df[data['treatment_name'][0]], y_pred))"
   ]
  },
  {
   "cell_type": "code",
   "execution_count": 92,
   "metadata": {},
   "outputs": [],
   "source": [
    "df['ps_1'] = logreg.predict_proba(df[data['common_causes_names']])[:,1]\n",
    "df['ps_0'] = logreg.predict_proba(df[data['common_causes_names']])[:,0]\n"
   ]
  },
  {
   "cell_type": "markdown",
   "metadata": {},
   "source": [
    "## K-nearest neighbor"
   ]
  },
  {
   "cell_type": "code",
   "execution_count": 93,
   "metadata": {},
   "outputs": [],
   "source": [
    "att, atc, est= pse.propensity_score_estimator_k_nearest_neighbor(df, data['treatment_name'][0], data['outcome_name'], 'ps_1')"
   ]
  },
  {
   "cell_type": "code",
   "execution_count": 94,
   "metadata": {},
   "outputs": [
    {
     "name": "stdout",
     "output_type": "stream",
     "text": [
      "Average effect on treated: 45.19316322398087\n",
      "Average effect on control: 36.57656965680168\n",
      "Average effect: 40.50870439654845\n",
      "MAE with ground truth 10.508704396548453\n"
     ]
    }
   ],
   "source": [
    "print(\"Average effect on treated: {}\".format(att))\n",
    "print(\"Average effect on control: {}\".format(atc))\n",
    "print(\"Average effect: {}\".format(est))\n",
    "print(\"MAE with ground truth {}\".format(abs(est - true_effect)))"
   ]
  },
  {
   "cell_type": "markdown",
   "metadata": {},
   "source": [
    "## Incremental score "
   ]
  },
  {
   "cell_type": "markdown",
   "metadata": {},
   "source": [
    "**Incremental propensity score:**\n",
    "$$q_1 = \\frac{\\delta p_0}{\\delta p_0 + p_1}$$\n"
   ]
  },
  {
   "cell_type": "code",
   "execution_count": 122,
   "metadata": {},
   "outputs": [],
   "source": [
    "delta = 1.5\n",
    "df['incre_ps_1'] = (delta * df['ps_1']) / (delta * df['ps_1'] + df['ps_0'])\n",
    "df['incre_ps_0'] = 1 - df['incre_ps_1']"
   ]
  },
  {
   "cell_type": "code",
   "execution_count": 123,
   "metadata": {},
   "outputs": [
    {
     "data": {
      "text/html": [
       "<div>\n",
       "<style scoped>\n",
       "    .dataframe tbody tr th:only-of-type {\n",
       "        vertical-align: middle;\n",
       "    }\n",
       "\n",
       "    .dataframe tbody tr th {\n",
       "        vertical-align: top;\n",
       "    }\n",
       "\n",
       "    .dataframe thead th {\n",
       "        text-align: right;\n",
       "    }\n",
       "</style>\n",
       "<table border=\"1\" class=\"dataframe\">\n",
       "  <thead>\n",
       "    <tr style=\"text-align: right;\">\n",
       "      <th></th>\n",
       "      <th>W0</th>\n",
       "      <th>W1</th>\n",
       "      <th>W2</th>\n",
       "      <th>W3</th>\n",
       "      <th>W4</th>\n",
       "      <th>v0</th>\n",
       "      <th>y</th>\n",
       "      <th>ps_1</th>\n",
       "      <th>ps_0</th>\n",
       "      <th>incre_ps_1</th>\n",
       "      <th>incre_ps_0</th>\n",
       "      <th>predicted_y</th>\n",
       "      <th>treated_cf_outcome</th>\n",
       "      <th>control_cf_outcome</th>\n",
       "      <th>incre_effect</th>\n",
       "    </tr>\n",
       "  </thead>\n",
       "  <tbody>\n",
       "    <tr>\n",
       "      <th>0</th>\n",
       "      <td>0.017768</td>\n",
       "      <td>-0.495496</td>\n",
       "      <td>-1.544749</td>\n",
       "      <td>-0.734019</td>\n",
       "      <td>1.767539</td>\n",
       "      <td>1</td>\n",
       "      <td>23.679874</td>\n",
       "      <td>0.85</td>\n",
       "      <td>0.15</td>\n",
       "      <td>0.894737</td>\n",
       "      <td>0.105263</td>\n",
       "      <td>24.718352</td>\n",
       "      <td>-8.884475</td>\n",
       "      <td>24.718352</td>\n",
       "      <td>-5.347336</td>\n",
       "    </tr>\n",
       "    <tr>\n",
       "      <th>1</th>\n",
       "      <td>-0.776575</td>\n",
       "      <td>0.119851</td>\n",
       "      <td>1.256166</td>\n",
       "      <td>0.617782</td>\n",
       "      <td>1.533567</td>\n",
       "      <td>1</td>\n",
       "      <td>45.317776</td>\n",
       "      <td>1.00</td>\n",
       "      <td>0.00</td>\n",
       "      <td>1.000000</td>\n",
       "      <td>0.000000</td>\n",
       "      <td>45.660158</td>\n",
       "      <td>-1.243305</td>\n",
       "      <td>45.660158</td>\n",
       "      <td>-1.243305</td>\n",
       "    </tr>\n",
       "    <tr>\n",
       "      <th>2</th>\n",
       "      <td>-0.421549</td>\n",
       "      <td>-0.246840</td>\n",
       "      <td>0.796873</td>\n",
       "      <td>2.153733</td>\n",
       "      <td>0.265466</td>\n",
       "      <td>1</td>\n",
       "      <td>52.790256</td>\n",
       "      <td>1.00</td>\n",
       "      <td>0.00</td>\n",
       "      <td>1.000000</td>\n",
       "      <td>0.000000</td>\n",
       "      <td>52.631210</td>\n",
       "      <td>7.411488</td>\n",
       "      <td>52.631210</td>\n",
       "      <td>7.411488</td>\n",
       "    </tr>\n",
       "    <tr>\n",
       "      <th>3</th>\n",
       "      <td>1.654084</td>\n",
       "      <td>1.966534</td>\n",
       "      <td>2.536988</td>\n",
       "      <td>-1.139203</td>\n",
       "      <td>0.713396</td>\n",
       "      <td>1</td>\n",
       "      <td>51.772308</td>\n",
       "      <td>1.00</td>\n",
       "      <td>0.00</td>\n",
       "      <td>1.000000</td>\n",
       "      <td>0.000000</td>\n",
       "      <td>51.229261</td>\n",
       "      <td>-4.118942</td>\n",
       "      <td>51.229261</td>\n",
       "      <td>-4.118942</td>\n",
       "    </tr>\n",
       "    <tr>\n",
       "      <th>4</th>\n",
       "      <td>-0.440972</td>\n",
       "      <td>0.553262</td>\n",
       "      <td>1.211194</td>\n",
       "      <td>0.453515</td>\n",
       "      <td>0.002074</td>\n",
       "      <td>1</td>\n",
       "      <td>40.581794</td>\n",
       "      <td>0.99</td>\n",
       "      <td>0.01</td>\n",
       "      <td>0.993311</td>\n",
       "      <td>0.006689</td>\n",
       "      <td>40.256289</td>\n",
       "      <td>0.870206</td>\n",
       "      <td>40.256289</td>\n",
       "      <td>1.133658</td>\n",
       "    </tr>\n",
       "  </tbody>\n",
       "</table>\n",
       "</div>"
      ],
      "text/plain": [
       "         W0        W1        W2        W3        W4  v0          y  ps_1  \\\n",
       "0  0.017768 -0.495496 -1.544749 -0.734019  1.767539   1  23.679874  0.85   \n",
       "1 -0.776575  0.119851  1.256166  0.617782  1.533567   1  45.317776  1.00   \n",
       "2 -0.421549 -0.246840  0.796873  2.153733  0.265466   1  52.790256  1.00   \n",
       "3  1.654084  1.966534  2.536988 -1.139203  0.713396   1  51.772308  1.00   \n",
       "4 -0.440972  0.553262  1.211194  0.453515  0.002074   1  40.581794  0.99   \n",
       "\n",
       "   ps_0  incre_ps_1  incre_ps_0  predicted_y  treated_cf_outcome  \\\n",
       "0  0.15    0.894737    0.105263    24.718352           -8.884475   \n",
       "1  0.00    1.000000    0.000000    45.660158           -1.243305   \n",
       "2  0.00    1.000000    0.000000    52.631210            7.411488   \n",
       "3  0.00    1.000000    0.000000    51.229261           -4.118942   \n",
       "4  0.01    0.993311    0.006689    40.256289            0.870206   \n",
       "\n",
       "   control_cf_outcome  incre_effect  \n",
       "0           24.718352     -5.347336  \n",
       "1           45.660158     -1.243305  \n",
       "2           52.631210      7.411488  \n",
       "3           51.229261     -4.118942  \n",
       "4           40.256289      1.133658  "
      ]
     },
     "execution_count": 123,
     "metadata": {},
     "output_type": "execute_result"
    }
   ],
   "source": [
    "df.head()"
   ]
  },
  {
   "cell_type": "markdown",
   "metadata": {},
   "source": [
    "**Regress Y on X and A:**\n",
    "\n",
    "$$\\mu = \\mathbb{E}[Y | X,A]$$"
   ]
  },
  {
   "cell_type": "code",
   "execution_count": 124,
   "metadata": {},
   "outputs": [
    {
     "data": {
      "text/plain": [
       "RandomForestRegressor(bootstrap=True, ccp_alpha=0.0, criterion='mse',\n",
       "                      max_depth=None, max_features='auto', max_leaf_nodes=None,\n",
       "                      max_samples=None, min_impurity_decrease=0.0,\n",
       "                      min_impurity_split=None, min_samples_leaf=1,\n",
       "                      min_samples_split=2, min_weight_fraction_leaf=0.0,\n",
       "                      n_estimators=100, n_jobs=None, oob_score=False,\n",
       "                      random_state=1, verbose=0, warm_start=False)"
      ]
     },
     "execution_count": 124,
     "metadata": {},
     "output_type": "execute_result"
    }
   ],
   "source": [
    "features = data['common_causes_names'] + data['treatment_name']\n",
    "rf = RandomForestRegressor(n_estimators = 100, random_state = 1)\n",
    "rf.fit(df[features], df['y'])\n",
    "\n",
    "# rf = GradientBoostingRegressor(random_state=1)\n",
    "# rf.fit(df[features], df['y'])\n"
   ]
  },
  {
   "cell_type": "code",
   "execution_count": 125,
   "metadata": {},
   "outputs": [],
   "source": [
    "df['predicted_y'] = rf.predict(df[features])"
   ]
  },
  {
   "cell_type": "code",
   "execution_count": 126,
   "metadata": {},
   "outputs": [
    {
     "data": {
      "image/png": "[encoded data removed]",
      "text/latex": [
       "$\\displaystyle 0.9986210699585004$"
      ],
      "text/plain": [
       "0.9986210699585004"
      ]
     },
     "execution_count": 126,
     "metadata": {},
     "output_type": "execute_result"
    }
   ],
   "source": [
    "explained_variance_score(df[data['outcome_name'][0]],df['predicted_y'])"
   ]
  },
  {
   "cell_type": "markdown",
   "metadata": {},
   "source": [
    "**Estimator:**\n",
    "$$\\Psi (\\delta ) = q1*\\mathbb{E}[Y | X,A=1] + q_0*\\mathbb{E}[Y | X,A=0]$$\n"
   ]
  },
  {
   "cell_type": "code",
   "execution_count": 134,
   "metadata": {},
   "outputs": [],
   "source": [
    "## Compute counterfactual outcome with no treatment\n",
    "df_pos = df.copy()\n",
    "df_pos['v0'] = 1\n",
    "df['treated_cf_outcome'] = rf.predict(df_pos[features])\n",
    "\n",
    "## Compute counterfactual outcome with treatment\n",
    "df_control = df.copy()\n",
    "df_control['v0'] = 0\n",
    "df['control_cf_outcome'] = rf.predict(df_control[features])\n"
   ]
  },
  {
   "cell_type": "code",
   "execution_count": 136,
   "metadata": {},
   "outputs": [],
   "source": [
    "df['incre_effect'] = df['incre_ps_1']*df['treated_cf_outcome'] + df['incre_ps_0']*df['control_cf_outcome']"
   ]
  },
  {
   "cell_type": "code",
   "execution_count": 137,
   "metadata": {},
   "outputs": [
    {
     "data": {
      "text/plain": [
       "0       23.679874\n",
       "1       45.317776\n",
       "2       52.790256\n",
       "3       51.772308\n",
       "4       40.581794\n",
       "          ...    \n",
       "9995    34.344335\n",
       "9996   -21.458896\n",
       "9997    50.978966\n",
       "9998    83.977471\n",
       "9999    37.678802\n",
       "Name: y, Length: 10000, dtype: float64"
      ]
     },
     "execution_count": 137,
     "metadata": {},
     "output_type": "execute_result"
    }
   ],
   "source": [
    "df['y']"
   ]
  },
  {
   "cell_type": "code",
   "execution_count": 138,
   "metadata": {},
   "outputs": [
    {
     "data": {
      "text/plain": [
       "array([24.71835163, 45.6601577 , 52.63121   , ..., 51.11629889,\n",
       "       81.51583067, 37.4700542 ])"
      ]
     },
     "execution_count": 138,
     "metadata": {},
     "output_type": "execute_result"
    }
   ],
   "source": [
    "rf.predict(df[features])"
   ]
  },
  {
   "cell_type": "code",
   "execution_count": 139,
   "metadata": {},
   "outputs": [
    {
     "data": {
      "text/html": [
       "<div>\n",
       "<style scoped>\n",
       "    .dataframe tbody tr th:only-of-type {\n",
       "        vertical-align: middle;\n",
       "    }\n",
       "\n",
       "    .dataframe tbody tr th {\n",
       "        vertical-align: top;\n",
       "    }\n",
       "\n",
       "    .dataframe thead th {\n",
       "        text-align: right;\n",
       "    }\n",
       "</style>\n",
       "<table border=\"1\" class=\"dataframe\">\n",
       "  <thead>\n",
       "    <tr style=\"text-align: right;\">\n",
       "      <th></th>\n",
       "      <th>W0</th>\n",
       "      <th>W1</th>\n",
       "      <th>W2</th>\n",
       "      <th>W3</th>\n",
       "      <th>W4</th>\n",
       "      <th>v0</th>\n",
       "      <th>y</th>\n",
       "      <th>ps_1</th>\n",
       "      <th>ps_0</th>\n",
       "      <th>incre_ps_1</th>\n",
       "      <th>incre_ps_0</th>\n",
       "      <th>predicted_y</th>\n",
       "      <th>treated_cf_outcome</th>\n",
       "      <th>control_cf_outcome</th>\n",
       "      <th>incre_effect</th>\n",
       "    </tr>\n",
       "  </thead>\n",
       "  <tbody>\n",
       "    <tr>\n",
       "      <th>0</th>\n",
       "      <td>0.017768</td>\n",
       "      <td>-0.495496</td>\n",
       "      <td>-1.544749</td>\n",
       "      <td>-0.734019</td>\n",
       "      <td>1.767539</td>\n",
       "      <td>1</td>\n",
       "      <td>23.679874</td>\n",
       "      <td>0.85</td>\n",
       "      <td>0.15</td>\n",
       "      <td>0.894737</td>\n",
       "      <td>0.105263</td>\n",
       "      <td>24.718352</td>\n",
       "      <td>24.718352</td>\n",
       "      <td>-8.884475</td>\n",
       "      <td>21.181212</td>\n",
       "    </tr>\n",
       "    <tr>\n",
       "      <th>1</th>\n",
       "      <td>-0.776575</td>\n",
       "      <td>0.119851</td>\n",
       "      <td>1.256166</td>\n",
       "      <td>0.617782</td>\n",
       "      <td>1.533567</td>\n",
       "      <td>1</td>\n",
       "      <td>45.317776</td>\n",
       "      <td>1.00</td>\n",
       "      <td>0.00</td>\n",
       "      <td>1.000000</td>\n",
       "      <td>0.000000</td>\n",
       "      <td>45.660158</td>\n",
       "      <td>45.660158</td>\n",
       "      <td>-1.243305</td>\n",
       "      <td>45.660158</td>\n",
       "    </tr>\n",
       "    <tr>\n",
       "      <th>2</th>\n",
       "      <td>-0.421549</td>\n",
       "      <td>-0.246840</td>\n",
       "      <td>0.796873</td>\n",
       "      <td>2.153733</td>\n",
       "      <td>0.265466</td>\n",
       "      <td>1</td>\n",
       "      <td>52.790256</td>\n",
       "      <td>1.00</td>\n",
       "      <td>0.00</td>\n",
       "      <td>1.000000</td>\n",
       "      <td>0.000000</td>\n",
       "      <td>52.631210</td>\n",
       "      <td>52.631210</td>\n",
       "      <td>7.411488</td>\n",
       "      <td>52.631210</td>\n",
       "    </tr>\n",
       "    <tr>\n",
       "      <th>3</th>\n",
       "      <td>1.654084</td>\n",
       "      <td>1.966534</td>\n",
       "      <td>2.536988</td>\n",
       "      <td>-1.139203</td>\n",
       "      <td>0.713396</td>\n",
       "      <td>1</td>\n",
       "      <td>51.772308</td>\n",
       "      <td>1.00</td>\n",
       "      <td>0.00</td>\n",
       "      <td>1.000000</td>\n",
       "      <td>0.000000</td>\n",
       "      <td>51.229261</td>\n",
       "      <td>51.229261</td>\n",
       "      <td>-4.118942</td>\n",
       "      <td>51.229261</td>\n",
       "    </tr>\n",
       "    <tr>\n",
       "      <th>4</th>\n",
       "      <td>-0.440972</td>\n",
       "      <td>0.553262</td>\n",
       "      <td>1.211194</td>\n",
       "      <td>0.453515</td>\n",
       "      <td>0.002074</td>\n",
       "      <td>1</td>\n",
       "      <td>40.581794</td>\n",
       "      <td>0.99</td>\n",
       "      <td>0.01</td>\n",
       "      <td>0.993311</td>\n",
       "      <td>0.006689</td>\n",
       "      <td>40.256289</td>\n",
       "      <td>40.256289</td>\n",
       "      <td>0.870206</td>\n",
       "      <td>39.992837</td>\n",
       "    </tr>\n",
       "  </tbody>\n",
       "</table>\n",
       "</div>"
      ],
      "text/plain": [
       "         W0        W1        W2        W3        W4  v0          y  ps_1  \\\n",
       "0  0.017768 -0.495496 -1.544749 -0.734019  1.767539   1  23.679874  0.85   \n",
       "1 -0.776575  0.119851  1.256166  0.617782  1.533567   1  45.317776  1.00   \n",
       "2 -0.421549 -0.246840  0.796873  2.153733  0.265466   1  52.790256  1.00   \n",
       "3  1.654084  1.966534  2.536988 -1.139203  0.713396   1  51.772308  1.00   \n",
       "4 -0.440972  0.553262  1.211194  0.453515  0.002074   1  40.581794  0.99   \n",
       "\n",
       "   ps_0  incre_ps_1  incre_ps_0  predicted_y  treated_cf_outcome  \\\n",
       "0  0.15    0.894737    0.105263    24.718352           24.718352   \n",
       "1  0.00    1.000000    0.000000    45.660158           45.660158   \n",
       "2  0.00    1.000000    0.000000    52.631210           52.631210   \n",
       "3  0.00    1.000000    0.000000    51.229261           51.229261   \n",
       "4  0.01    0.993311    0.006689    40.256289           40.256289   \n",
       "\n",
       "   control_cf_outcome  incre_effect  \n",
       "0           -8.884475     21.181212  \n",
       "1           -1.243305     45.660158  \n",
       "2            7.411488     52.631210  \n",
       "3           -4.118942     51.229261  \n",
       "4            0.870206     39.992837  "
      ]
     },
     "execution_count": 139,
     "metadata": {},
     "output_type": "execute_result"
    }
   ],
   "source": [
    "df.head()"
   ]
  },
  {
   "cell_type": "code",
   "execution_count": 140,
   "metadata": {},
   "outputs": [
    {
     "data": {
      "image/png": "[encoded data removed]",
      "text/latex": [
       "$\\displaystyle 38.59998077948708$"
      ],
      "text/plain": [
       "38.59998077948708"
      ]
     },
     "execution_count": 140,
     "metadata": {},
     "output_type": "execute_result"
    }
   ],
   "source": [
    "np.mean(df['incre_effect'])"
   ]
  },
  {
   "cell_type": "code",
   "execution_count": 141,
   "metadata": {},
   "outputs": [
    {
     "name": "stdout",
     "output_type": "stream",
     "text": [
      "MAE with ground truth 8.599980779487083\n"
     ]
    }
   ],
   "source": [
    "print(\"MAE with ground truth {}\".format(abs(np.mean(df['incre_effect']) - true_effect)))\n"
   ]
  },
  {
   "cell_type": "markdown",
   "metadata": {},
   "source": [
    "## Incremental score with library"
   ]
  },
  {
   "cell_type": "code",
   "execution_count": 106,
   "metadata": {},
   "outputs": [
    {
     "data": {
      "image/png": "[encoded data removed]",
      "text/latex": [
       "$\\displaystyle 5.656754641962772$"
      ],
      "text/plain": [
       "5.656754641962772"
      ]
     },
     "execution_count": 106,
     "metadata": {},
     "output_type": "execute_result"
    }
   ],
   "source": [
    "df_lib = data['df']\n",
    "ipse.incremenal_ps_score_estimator(df,\n",
    "                                   data['treatment_name'], \n",
    "                                   data['common_causes_names'], \n",
    "                                   rfc, \n",
    "                                   rf, \n",
    "                                   delta)"
   ]
  },
  {
   "cell_type": "markdown",
   "metadata": {},
   "source": [
    "## Influence function "
   ]
  },
  {
   "cell_type": "markdown",
   "metadata": {},
   "source": [
    "**Influence function** $\\mathbb{1}$\n",
    "\n",
    "$$\\Psi (\\delta ) = q_0*\\phi_0 + q_1*\\phi_1 + \\frac{\\delta*(\\mu(X,1) - \\mu(X,0)*(A - p_1)}{(\\delta*p_1 + p_0)^2}$$ \n",
    "\n",
    "$$\\phi_a = \\frac{\\mathbb{1}(A=a)}{\\pi(a|x)}(Y - \\mu(X,A)) +  \\mu(X,a)$$"
   ]
  },
  {
   "cell_type": "code",
   "execution_count": 107,
   "metadata": {},
   "outputs": [],
   "source": [
    "# Y - mu(X,A)\n",
    "residual = df[data['outcome_name'][0]] - df['predicted_y']\n",
    "\n",
    "w0 = [0 if df.loc[i, 'v0'] == 1 else 1/df.loc[i, 'ps_0'] for i in range(len(df))]\n",
    "w1 = [0 if df.loc[i, 'v0'] == 0 else 1/df.loc[i, 'ps_1'] for i in range(len(df))]\n",
    "w0 = np.array(w0)\n",
    "w1 = np.array(w1)\n",
    "\n",
    "phi_0 = w0 * residual + df['treated_cf_outcome'] \n",
    "phi_1 = w1 * residual + df['control_cf_outcome']\n",
    "\n",
    "m0 = df['incre_ps_1']*phi_1 + df['incre_ps_0']*phi_0\n",
    "\n",
    "m1 = (delta*(df['treated_cf_outcome'] - df['control_cf_outcome'])\n",
    "     *(df['v0'] - df['ps_1']))/(delta*df['ps_1'] + df['ps_0'])**2\n"
   ]
  },
  {
   "cell_type": "code",
   "execution_count": 108,
   "metadata": {},
   "outputs": [],
   "source": [
    "influence = m0 + m1 - df['incre_effect']"
   ]
  },
  {
   "cell_type": "code",
   "execution_count": 109,
   "metadata": {},
   "outputs": [
    {
     "data": {
      "text/plain": [
       "0       21.712108\n",
       "1       46.561081\n",
       "2       45.378769\n",
       "3       55.891250\n",
       "4       38.921440\n",
       "          ...    \n",
       "9995    34.543622\n",
       "9996   -34.572121\n",
       "9997    47.371761\n",
       "9998    77.108886\n",
       "9999    39.525828\n",
       "Length: 10000, dtype: float64"
      ]
     },
     "execution_count": 109,
     "metadata": {},
     "output_type": "execute_result"
    }
   ],
   "source": [
    "influence"
   ]
  },
  {
   "cell_type": "markdown",
   "metadata": {},
   "source": [
    "## Inverse Probability Weighted Estimator"
   ]
  },
  {
   "cell_type": "markdown",
   "metadata": {},
   "source": [
    "## Proposed Estimation"
   ]
  },
  {
   "cell_type": "code",
   "execution_count": 110,
   "metadata": {},
   "outputs": [],
   "source": [
    "features = data['common_causes_names'] + data['treatment_name']\n"
   ]
  },
  {
   "cell_type": "code",
   "execution_count": 111,
   "metadata": {},
   "outputs": [],
   "source": [
    "df_expr = data[\"df\"].copy()\n",
    "df_expr['v0'] = [1 if x == True else 0 for x in df_expr['v0']]"
   ]
  },
  {
   "cell_type": "code",
   "execution_count": 112,
   "metadata": {},
   "outputs": [
    {
     "data": {
      "text/html": [
       "<div>\n",
       "<style scoped>\n",
       "    .dataframe tbody tr th:only-of-type {\n",
       "        vertical-align: middle;\n",
       "    }\n",
       "\n",
       "    .dataframe tbody tr th {\n",
       "        vertical-align: top;\n",
       "    }\n",
       "\n",
       "    .dataframe thead th {\n",
       "        text-align: right;\n",
       "    }\n",
       "</style>\n",
       "<table border=\"1\" class=\"dataframe\">\n",
       "  <thead>\n",
       "    <tr style=\"text-align: right;\">\n",
       "      <th></th>\n",
       "      <th>W0</th>\n",
       "      <th>W1</th>\n",
       "      <th>W2</th>\n",
       "      <th>W3</th>\n",
       "      <th>W4</th>\n",
       "      <th>v0</th>\n",
       "      <th>y</th>\n",
       "    </tr>\n",
       "  </thead>\n",
       "  <tbody>\n",
       "    <tr>\n",
       "      <th>0</th>\n",
       "      <td>0.017768</td>\n",
       "      <td>-0.495496</td>\n",
       "      <td>-1.544749</td>\n",
       "      <td>-0.734019</td>\n",
       "      <td>1.767539</td>\n",
       "      <td>1</td>\n",
       "      <td>23.679874</td>\n",
       "    </tr>\n",
       "    <tr>\n",
       "      <th>1</th>\n",
       "      <td>-0.776575</td>\n",
       "      <td>0.119851</td>\n",
       "      <td>1.256166</td>\n",
       "      <td>0.617782</td>\n",
       "      <td>1.533567</td>\n",
       "      <td>1</td>\n",
       "      <td>45.317776</td>\n",
       "    </tr>\n",
       "    <tr>\n",
       "      <th>2</th>\n",
       "      <td>-0.421549</td>\n",
       "      <td>-0.246840</td>\n",
       "      <td>0.796873</td>\n",
       "      <td>2.153733</td>\n",
       "      <td>0.265466</td>\n",
       "      <td>1</td>\n",
       "      <td>52.790256</td>\n",
       "    </tr>\n",
       "    <tr>\n",
       "      <th>3</th>\n",
       "      <td>1.654084</td>\n",
       "      <td>1.966534</td>\n",
       "      <td>2.536988</td>\n",
       "      <td>-1.139203</td>\n",
       "      <td>0.713396</td>\n",
       "      <td>1</td>\n",
       "      <td>51.772308</td>\n",
       "    </tr>\n",
       "    <tr>\n",
       "      <th>4</th>\n",
       "      <td>-0.440972</td>\n",
       "      <td>0.553262</td>\n",
       "      <td>1.211194</td>\n",
       "      <td>0.453515</td>\n",
       "      <td>0.002074</td>\n",
       "      <td>1</td>\n",
       "      <td>40.581794</td>\n",
       "    </tr>\n",
       "  </tbody>\n",
       "</table>\n",
       "</div>"
      ],
      "text/plain": [
       "         W0        W1        W2        W3        W4  v0          y\n",
       "0  0.017768 -0.495496 -1.544749 -0.734019  1.767539   1  23.679874\n",
       "1 -0.776575  0.119851  1.256166  0.617782  1.533567   1  45.317776\n",
       "2 -0.421549 -0.246840  0.796873  2.153733  0.265466   1  52.790256\n",
       "3  1.654084  1.966534  2.536988 -1.139203  0.713396   1  51.772308\n",
       "4 -0.440972  0.553262  1.211194  0.453515  0.002074   1  40.581794"
      ]
     },
     "execution_count": 112,
     "metadata": {},
     "output_type": "execute_result"
    }
   ],
   "source": [
    "df_expr.head()"
   ]
  },
  {
   "cell_type": "markdown",
   "metadata": {},
   "source": [
    "Split data into $D_0$ and $D_1$"
   ]
  },
  {
   "cell_type": "code",
   "execution_count": 75,
   "metadata": {},
   "outputs": [],
   "source": [
    "D0, D1 = train_test_split(df_expr, train_size = 0.9, random_state = 1)"
   ]
  },
  {
   "cell_type": "code",
   "execution_count": 30,
   "metadata": {},
   "outputs": [],
   "source": [
    "D0 = D0.reset_index().drop(columns = ['index'])\n",
    "D1 = D1.reset_index().drop(columns = ['index'])"
   ]
  },
  {
   "cell_type": "markdown",
   "metadata": {},
   "source": [
    "### Fit treatment model\n",
    "Regress $A_t \\sim H_t$ in $D_0$, obtain preds $\\pi_t(H_t)$ in D"
   ]
  },
  {
   "cell_type": "code",
   "execution_count": 31,
   "metadata": {},
   "outputs": [],
   "source": [
    "logreg = LogisticRegression()\n",
    "logreg.fit(D0[data['common_causes_names']], D0['v0'])\n",
    "\n",
    "df_expr['ps_1'] = logreg.predict_proba(df_expr[data['common_causes_names']])[:,1]\n",
    "df_expr['ps_0'] = 1 - df_expr['ps_1']"
   ]
  },
  {
   "cell_type": "markdown",
   "metadata": {},
   "source": [
    "### Compute weights\n",
    "Compute weight on on $D_1$\n",
    "$$W_t = \\frac{delta*A_1 + A_0}{\\hat{p_1} + \\hat{p_0}}$$ \n",
    "\n",
    "Compute in $D_1$\n",
    "$$V_t = \\frac{p_1*\\hat{p_0} + \\delta*p_0*\\hat{p_1}}{\\frac{\\delta}{1-\\delta}} $$\n",
    "\n"
   ]
  },
  {
   "cell_type": "code",
   "execution_count": 32,
   "metadata": {},
   "outputs": [],
   "source": [
    "D1['ps_1'] = logreg.predict_proba(D1[data['common_causes_names']])[:,1]\n",
    "D1['ps_0'] = 1 - D1['ps_1']\n",
    "\n",
    "D1['incre_ps_1'] = (delta * D1['ps_1']) / (delta * D1['ps_1'] + D1['ps_0'])\n",
    "D1['incre_ps_0'] = 1 - D1['incre_ps_1']\n"
   ]
  },
  {
   "cell_type": "code",
   "execution_count": 33,
   "metadata": {},
   "outputs": [],
   "source": [
    "delta = 0.5\n",
    "w_t = (delta*D1['v0'] + 1 - D1['v0']) / (delta*D1['ps_1'] + D1['ps_0'])\n",
    "v_t = (D1['v0']*(D1['ps_0']) \n",
    "                - (1 - D1['v0'])*D1['ps_1']*delta) / (delta / (1-delta))"
   ]
  },
  {
   "cell_type": "markdown",
   "metadata": {},
   "source": [
    "### Fit outcome models\n",
    "Regress $R_{t+1} \\sim (H_t , A_t)$ in $D_0$, obtain preds $m_t(H_t,a)$ in D"
   ]
  },
  {
   "cell_type": "code",
   "execution_count": 34,
   "metadata": {},
   "outputs": [
    {
     "data": {
      "image/png": "[encoded data removed]",
      "text/latex": [
       "$\\displaystyle 0.998338394760597$"
      ],
      "text/plain": [
       "0.998338394760597"
      ]
     },
     "execution_count": 34,
     "metadata": {},
     "output_type": "execute_result"
    }
   ],
   "source": [
    "# whole dat, random > gradient\n",
    "# D0, D1 => random on D1 < gradient on D1\n",
    "\n",
    "rf = GradientBoostingRegressor(random_state=0, n_estimators = 1000)\n",
    "rf.fit(D0[features], D0[data['outcome_name']])\n",
    "\n",
    "y_pred = rf.predict(D1[features])\n",
    "y_true = D1[data['outcome_name'][0]]\n",
    "explained_variance_score(y_true, y_pred)"
   ]
  },
  {
   "cell_type": "code",
   "execution_count": 35,
   "metadata": {},
   "outputs": [
    {
     "data": {
      "text/html": [
       "<div>\n",
       "<style scoped>\n",
       "    .dataframe tbody tr th:only-of-type {\n",
       "        vertical-align: middle;\n",
       "    }\n",
       "\n",
       "    .dataframe tbody tr th {\n",
       "        vertical-align: top;\n",
       "    }\n",
       "\n",
       "    .dataframe thead th {\n",
       "        text-align: right;\n",
       "    }\n",
       "</style>\n",
       "<table border=\"1\" class=\"dataframe\">\n",
       "  <thead>\n",
       "    <tr style=\"text-align: right;\">\n",
       "      <th></th>\n",
       "      <th>W0</th>\n",
       "      <th>W1</th>\n",
       "      <th>W2</th>\n",
       "      <th>W3</th>\n",
       "      <th>W4</th>\n",
       "      <th>v0</th>\n",
       "      <th>y</th>\n",
       "      <th>ps_1</th>\n",
       "      <th>ps_0</th>\n",
       "      <th>incre_ps_1</th>\n",
       "      <th>incre_ps_0</th>\n",
       "    </tr>\n",
       "  </thead>\n",
       "  <tbody>\n",
       "    <tr>\n",
       "      <th>0</th>\n",
       "      <td>0.534170</td>\n",
       "      <td>-0.844949</td>\n",
       "      <td>0.646221</td>\n",
       "      <td>-0.374063</td>\n",
       "      <td>-0.039976</td>\n",
       "      <td>0</td>\n",
       "      <td>0.136776</td>\n",
       "      <td>0.130164</td>\n",
       "      <td>0.869836</td>\n",
       "      <td>0.183316</td>\n",
       "      <td>0.816684</td>\n",
       "    </tr>\n",
       "    <tr>\n",
       "      <th>1</th>\n",
       "      <td>1.029547</td>\n",
       "      <td>-1.670569</td>\n",
       "      <td>-1.252912</td>\n",
       "      <td>-0.765659</td>\n",
       "      <td>1.686114</td>\n",
       "      <td>1</td>\n",
       "      <td>13.619552</td>\n",
       "      <td>0.454465</td>\n",
       "      <td>0.545535</td>\n",
       "      <td>0.555476</td>\n",
       "      <td>0.444524</td>\n",
       "    </tr>\n",
       "    <tr>\n",
       "      <th>2</th>\n",
       "      <td>0.056188</td>\n",
       "      <td>-1.080396</td>\n",
       "      <td>0.093991</td>\n",
       "      <td>-1.292528</td>\n",
       "      <td>3.615162</td>\n",
       "      <td>1</td>\n",
       "      <td>20.210184</td>\n",
       "      <td>0.973937</td>\n",
       "      <td>0.026063</td>\n",
       "      <td>0.982473</td>\n",
       "      <td>0.017527</td>\n",
       "    </tr>\n",
       "    <tr>\n",
       "      <th>3</th>\n",
       "      <td>0.715787</td>\n",
       "      <td>-2.612068</td>\n",
       "      <td>-0.126430</td>\n",
       "      <td>-0.149371</td>\n",
       "      <td>0.330459</td>\n",
       "      <td>0</td>\n",
       "      <td>-1.399294</td>\n",
       "      <td>0.026875</td>\n",
       "      <td>0.973125</td>\n",
       "      <td>0.039778</td>\n",
       "      <td>0.960222</td>\n",
       "    </tr>\n",
       "    <tr>\n",
       "      <th>4</th>\n",
       "      <td>1.100687</td>\n",
       "      <td>0.258205</td>\n",
       "      <td>0.820043</td>\n",
       "      <td>1.077088</td>\n",
       "      <td>0.600246</td>\n",
       "      <td>1</td>\n",
       "      <td>24.424315</td>\n",
       "      <td>0.991218</td>\n",
       "      <td>0.008782</td>\n",
       "      <td>0.994128</td>\n",
       "      <td>0.005872</td>\n",
       "    </tr>\n",
       "    <tr>\n",
       "      <th>...</th>\n",
       "      <td>...</td>\n",
       "      <td>...</td>\n",
       "      <td>...</td>\n",
       "      <td>...</td>\n",
       "      <td>...</td>\n",
       "      <td>...</td>\n",
       "      <td>...</td>\n",
       "      <td>...</td>\n",
       "      <td>...</td>\n",
       "      <td>...</td>\n",
       "      <td>...</td>\n",
       "    </tr>\n",
       "    <tr>\n",
       "      <th>95</th>\n",
       "      <td>1.344203</td>\n",
       "      <td>-1.401189</td>\n",
       "      <td>-0.122839</td>\n",
       "      <td>-0.010091</td>\n",
       "      <td>0.074416</td>\n",
       "      <td>0</td>\n",
       "      <td>3.180488</td>\n",
       "      <td>0.193378</td>\n",
       "      <td>0.806622</td>\n",
       "      <td>0.264494</td>\n",
       "      <td>0.735506</td>\n",
       "    </tr>\n",
       "    <tr>\n",
       "      <th>96</th>\n",
       "      <td>-1.850544</td>\n",
       "      <td>-0.599368</td>\n",
       "      <td>0.039023</td>\n",
       "      <td>-1.077219</td>\n",
       "      <td>-0.476228</td>\n",
       "      <td>0</td>\n",
       "      <td>-16.151253</td>\n",
       "      <td>0.003933</td>\n",
       "      <td>0.996067</td>\n",
       "      <td>0.005888</td>\n",
       "      <td>0.994112</td>\n",
       "    </tr>\n",
       "    <tr>\n",
       "      <th>97</th>\n",
       "      <td>0.485685</td>\n",
       "      <td>-1.386320</td>\n",
       "      <td>0.726348</td>\n",
       "      <td>-0.477247</td>\n",
       "      <td>1.361227</td>\n",
       "      <td>1</td>\n",
       "      <td>15.303535</td>\n",
       "      <td>0.523060</td>\n",
       "      <td>0.476940</td>\n",
       "      <td>0.621935</td>\n",
       "      <td>0.378065</td>\n",
       "    </tr>\n",
       "    <tr>\n",
       "      <th>98</th>\n",
       "      <td>0.877588</td>\n",
       "      <td>-0.325708</td>\n",
       "      <td>-0.028954</td>\n",
       "      <td>-1.211755</td>\n",
       "      <td>1.963579</td>\n",
       "      <td>1</td>\n",
       "      <td>17.500273</td>\n",
       "      <td>0.867856</td>\n",
       "      <td>0.132144</td>\n",
       "      <td>0.907845</td>\n",
       "      <td>0.092155</td>\n",
       "    </tr>\n",
       "    <tr>\n",
       "      <th>99</th>\n",
       "      <td>1.030288</td>\n",
       "      <td>-0.759866</td>\n",
       "      <td>-0.297143</td>\n",
       "      <td>0.112114</td>\n",
       "      <td>0.570738</td>\n",
       "      <td>1</td>\n",
       "      <td>15.659045</td>\n",
       "      <td>0.685342</td>\n",
       "      <td>0.314658</td>\n",
       "      <td>0.765648</td>\n",
       "      <td>0.234352</td>\n",
       "    </tr>\n",
       "  </tbody>\n",
       "</table>\n",
       "<p>100 rows × 11 columns</p>\n",
       "</div>"
      ],
      "text/plain": [
       "          W0        W1        W2        W3        W4  v0          y      ps_1  \\\n",
       "0   0.534170 -0.844949  0.646221 -0.374063 -0.039976   0   0.136776  0.130164   \n",
       "1   1.029547 -1.670569 -1.252912 -0.765659  1.686114   1  13.619552  0.454465   \n",
       "2   0.056188 -1.080396  0.093991 -1.292528  3.615162   1  20.210184  0.973937   \n",
       "3   0.715787 -2.612068 -0.126430 -0.149371  0.330459   0  -1.399294  0.026875   \n",
       "4   1.100687  0.258205  0.820043  1.077088  0.600246   1  24.424315  0.991218   \n",
       "..       ...       ...       ...       ...       ...  ..        ...       ...   \n",
       "95  1.344203 -1.401189 -0.122839 -0.010091  0.074416   0   3.180488  0.193378   \n",
       "96 -1.850544 -0.599368  0.039023 -1.077219 -0.476228   0 -16.151253  0.003933   \n",
       "97  0.485685 -1.386320  0.726348 -0.477247  1.361227   1  15.303535  0.523060   \n",
       "98  0.877588 -0.325708 -0.028954 -1.211755  1.963579   1  17.500273  0.867856   \n",
       "99  1.030288 -0.759866 -0.297143  0.112114  0.570738   1  15.659045  0.685342   \n",
       "\n",
       "        ps_0  incre_ps_1  incre_ps_0  \n",
       "0   0.869836    0.183316    0.816684  \n",
       "1   0.545535    0.555476    0.444524  \n",
       "2   0.026063    0.982473    0.017527  \n",
       "3   0.973125    0.039778    0.960222  \n",
       "4   0.008782    0.994128    0.005872  \n",
       "..       ...         ...         ...  \n",
       "95  0.806622    0.264494    0.735506  \n",
       "96  0.996067    0.005888    0.994112  \n",
       "97  0.476940    0.621935    0.378065  \n",
       "98  0.132144    0.907845    0.092155  \n",
       "99  0.314658    0.765648    0.234352  \n",
       "\n",
       "[100 rows x 11 columns]"
      ]
     },
     "execution_count": 35,
     "metadata": {},
     "output_type": "execute_result"
    }
   ],
   "source": [
    "D1.head(100)"
   ]
  },
  {
   "cell_type": "code",
   "execution_count": 36,
   "metadata": {},
   "outputs": [],
   "source": [
    "## Compute counterfactual outcome with no treatment\n",
    "df_pos = D1.copy()\n",
    "df_pos['v0'] = 1\n",
    "D1['treated_cf_outcome'] = rf.predict(df_pos[features])\n",
    "m1 = np.mean(D1['treated_cf_outcome'])\n",
    "\n",
    "## Compute counterfactual outcome with treatment\n",
    "df_neg = D1.copy()\n",
    "df_neg['v0'] = 0\n",
    "D1['control_cf_outcome'] = rf.predict(df_neg[features])\n",
    "m0 = np.mean(D1['control_cf_outcome'])"
   ]
  },
  {
   "cell_type": "code",
   "execution_count": 37,
   "metadata": {},
   "outputs": [],
   "source": [
    "D1['predicted_y'] = rf.predict(D1[features])"
   ]
  },
  {
   "cell_type": "code",
   "execution_count": 38,
   "metadata": {},
   "outputs": [],
   "source": [
    "r_t = (delta*m1*D1['incre_ps_1'] + m0*D1['incre_ps_0']) / (delta*D1['incre_ps_1'] + D1['incre_ps_0'])"
   ]
  },
  {
   "cell_type": "markdown",
   "metadata": {},
   "source": [
    "$$ \\varphi = \\tilde{W_t}*Y + \\sum{\\tilde{W_t}*V_t*R_t}  $$"
   ]
  },
  {
   "cell_type": "code",
   "execution_count": 52,
   "metadata": {},
   "outputs": [],
   "source": [
    "effect = w_t*D1[data['outcome_name']] + w_t*v_t*r_t"
   ]
  },
  {
   "cell_type": "code",
   "execution_count": 53,
   "metadata": {},
   "outputs": [
    {
     "data": {
      "image/png": "[encoded data removed]",
      "text/latex": [
       "$\\displaystyle 81.22142346990964$"
      ],
      "text/plain": [
       "81.22142346990964"
      ]
     },
     "execution_count": 53,
     "metadata": {},
     "output_type": "execute_result"
    }
   ],
   "source": [
    "sum(w_t*v_t*r_t)"
   ]
  },
  {
   "cell_type": "markdown",
   "metadata": {},
   "source": [
    "### Compute estimator"
   ]
  },
  {
   "cell_type": "code",
   "execution_count": 40,
   "metadata": {},
   "outputs": [],
   "source": [
    "mu_effect = np.mean(effect)"
   ]
  },
  {
   "cell_type": "code",
   "execution_count": 41,
   "metadata": {},
   "outputs": [
    {
     "data": {
      "image/png": "[encoded data removed]",
      "text/latex": [
       "$\\displaystyle 6.384184202980836$"
      ],
      "text/plain": [
       "6.384184202980836"
      ]
     },
     "execution_count": 41,
     "metadata": {},
     "output_type": "execute_result"
    }
   ],
   "source": [
    "mu_effect"
   ]
  },
  {
   "cell_type": "code",
   "execution_count": 42,
   "metadata": {},
   "outputs": [
    {
     "name": "stdout",
     "output_type": "stream",
     "text": [
      "MAE with groundtruth 3.615815797019164\n"
     ]
    }
   ],
   "source": [
    "print(\"MAE with groundtruth {}\".format(true_effect - mu_effect))"
   ]
  },
  {
   "cell_type": "markdown",
   "metadata": {},
   "source": [
    "### Compute with library"
   ]
  },
  {
   "cell_type": "code",
   "execution_count": 76,
   "metadata": {},
   "outputs": [],
   "source": [
    "df_expr = data[\"df\"].copy()\n",
    "df_expr['v0'] = [1 if x == True else 0 for x in df_expr['v0']]\n",
    "\n",
    "D0, D1 = train_test_split(df_expr, train_size = 0.9, random_state = 1)\n",
    "D0 = D0.reset_index().drop(columns = ['index'])\n",
    "D1 = D1.reset_index().drop(columns = ['index'])"
   ]
  },
  {
   "cell_type": "code",
   "execution_count": 77,
   "metadata": {},
   "outputs": [],
   "source": [
    "def sample_estimator(D0, D1, treatment, covariate, outcome, delta):\n",
    "    features = covariate + treatment\n",
    "    \n",
    "    ## fit treatment effect on D0\n",
    "    logreg = LogisticRegression()\n",
    "    logreg.fit(D0[covariate], D0[treatment[0]])\n",
    "\n",
    "    ## predict on D1\n",
    "    D1['ps_1'] = logreg.predict_proba(D1[covariate])[:,1]\n",
    "    D1['ps_0'] = 1 - D1['ps_1']\n",
    "    \n",
    "    D1['incre_ps_1'] = (delta * D1['ps_1']) / (delta * D1['ps_1'] + D1['ps_0'])\n",
    "    D1['incre_ps_0'] = 1 - D1['incre_ps_1'] \n",
    "    ## compute weight\n",
    "    w_t = (delta*D1[treatment[0]] + 1 - D1[treatment[0]]) / (delta*D1['ps_1'] + D1['ps_0'])\n",
    "    v_t = (1-delta)*(D1[treatment[0]]*D1['ps_0']- (1-D1[treatment[0]])*D1['ps_1']*delta) / delta\n",
    "    \n",
    "    ## fit outcome on D0\n",
    "    gbr = GradientBoostingRegressor(random_state=0, n_estimators = 1000)\n",
    "    gbr.fit(D0[features], D0[outcome])\n",
    "\n",
    "    ## Compute counterfactual outcome on D1\n",
    "    df_pos = D1.copy()\n",
    "    df_pos[treatment[0]] = 1\n",
    "    D1['treated_cf_outcome'] = gbr.predict(df_pos[features])\n",
    "\n",
    "    df_neg = D1.copy()\n",
    "    df_neg[treatment[0]] = 0\n",
    "    D1['control_cf_outcome'] = gbr.predict(df_neg[features])\n",
    "\n",
    "    m0 = np.mean(D1['treated_cf_outcome'])\n",
    "    m1 = np.mean(D1['control_cf_outcome'])\n",
    "\n",
    "\n",
    "\n",
    "    \n",
    "    r_t = (delta*m1*D1['incre_ps_1'] + m0*D1['incre_ps_0']) / (delta*D1['incre_ps_1'] + D1['incre_ps_0'])\n",
    "\n",
    "    effect = w_t*D1[outcome] + w_t*v_t*r_t\n",
    "    \n",
    "    del logreg\n",
    "    del gbr\n",
    "    del D0, D1\n",
    "    del df_pos, df_neg\n",
    "    \n",
    "    return np.mean(effect)\n"
   ]
  },
  {
   "cell_type": "code",
   "execution_count": 78,
   "metadata": {},
   "outputs": [
    {
     "name": "stdout",
     "output_type": "stream",
     "text": [
      "Delta 0.5\n",
      "Delta 1.625\n",
      "Delta 2.75\n",
      "Delta 3.875\n",
      "Delta 5.0\n"
     ]
    }
   ],
   "source": [
    "kf = KFold(n_splits = 5, shuffle = True, random_state = 1)\n",
    "effect = []\n",
    "fold = 0\n",
    "delta = np.linspace(0.5, 5, 5)\n",
    "for sample_delta in tqdm(delta):\n",
    "    \n",
    "    D0, D1 = train_test_split(df_expr, train_size = 0.9, random_state = 1)\n",
    "    \n",
    "    D0 = D0.reset_index().drop(columns = ['index'])\n",
    "    D1 = D1.reset_index().drop(columns = ['index'])\n",
    "    print(\"Delta {}\".format(sample_delta))\n",
    "    e = sample_estimator(D0, \n",
    "                        D1, \n",
    "                        data['treatment_name'], \n",
    "                        data['common_causes_names'], \n",
    "                        data['outcome_name'], \n",
    "                        sample_delta)\n",
    "    effect.append(e)\n",
    "    \n",
    "    "
   ]
  },
  {
   "cell_type": "code",
   "execution_count": 79,
   "metadata": {},
   "outputs": [
    {
     "data": {
      "image/png": "[encoded data removed]",
      "text/latex": [
       "$\\displaystyle \\left[ -14.723719001002458, \\  -14.253088604845612, \\  -14.093863143176556, \\  -14.014555503376494, \\  -13.969367156140766\\right]$"
      ],
      "text/plain": [
       "[-14.723719001002458, -14.253088604845612, -14.093863143176556, -14.0145555033\n",
       "76494, -13.969367156140766]"
      ]
     },
     "execution_count": 79,
     "metadata": {},
     "output_type": "execute_result"
    }
   ],
   "source": [
    "effect"
   ]
  },
  {
   "cell_type": "code",
   "execution_count": 83,
   "metadata": {},
   "outputs": [],
   "source": [
    "estimate_efect = abs(np.mean(effect))"
   ]
  },
  {
   "cell_type": "code",
   "execution_count": 84,
   "metadata": {},
   "outputs": [
    {
     "name": "stdout",
     "output_type": "stream",
     "text": [
      "MAE with groundtruth 5.789081318291622\n"
     ]
    }
   ],
   "source": [
    "print(\"MAE with groundtruth {}\".format(true_effect - estimate_efect))"
   ]
  },
  {
   "cell_type": "markdown",
   "metadata": {},
   "source": [
    "## Z-Estimator Algorithm"
   ]
  },
  {
   "cell_type": "code",
   "execution_count": 327,
   "metadata": {},
   "outputs": [],
   "source": [
    "true_effect = 100\n",
    "data = dowhy.datasets.linear_dataset(beta=true_effect,\n",
    "        num_common_causes=5,\n",
    "        num_instruments = 0,\n",
    "        num_samples=20000,\n",
    "        treatment_is_binary=True)\n",
    "df = data[\"df\"].copy()\n",
    "df['v0'] = [1 if x == True else 0 for x in df['v0']]"
   ]
  },
  {
   "cell_type": "code",
   "execution_count": 274,
   "metadata": {},
   "outputs": [],
   "source": [
    "delta = 5\n"
   ]
  },
  {
   "cell_type": "code",
   "execution_count": 275,
   "metadata": {},
   "outputs": [],
   "source": [
    "features = data['common_causes_names'] + data['treatment_name']"
   ]
  },
  {
   "cell_type": "code",
   "execution_count": 276,
   "metadata": {},
   "outputs": [],
   "source": [
    "logreg = LogisticRegression()\n",
    "logreg.fit(df[data['common_causes_names']], df['v0'])\n",
    "\n",
    "\n",
    "## Compute propensity score\n",
    "df['ps_1'] = logreg.predict_proba(df[data['common_causes_names']])[:,1]\n",
    "df['ps_0'] = 1 - df['ps_1']"
   ]
  },
  {
   "cell_type": "code",
   "execution_count": 277,
   "metadata": {},
   "outputs": [],
   "source": [
    "df['incre_ps_1'] = (delta * df['ps_1']) / (delta * df['ps_1'] + df['ps_0'])\n",
    "df['incre_ps_0'] = 1 - df['incre_ps_1']"
   ]
  },
  {
   "cell_type": "code",
   "execution_count": 278,
   "metadata": {},
   "outputs": [],
   "source": [
    "w_t = (delta*df['v0'] + 1 - df['v0']) / (delta*df['ps_1'] + df['ps_0'])\n",
    "v_t = (df['v0']*(df['ps_0']) \n",
    "                - (1 - df['v0'])*df['ps_1']*delta) / (delta / (1-delta))"
   ]
  },
  {
   "cell_type": "code",
   "execution_count": 279,
   "metadata": {},
   "outputs": [
    {
     "data": {
      "image/png": "[encoded data removed]",
      "text/latex": [
       "$\\displaystyle 0.999558312820063$"
      ],
      "text/plain": [
       "0.999558312820063"
      ]
     },
     "execution_count": 279,
     "metadata": {},
     "output_type": "execute_result"
    }
   ],
   "source": [
    "rf = GradientBoostingRegressor(random_state=0, n_estimators = 1000)\n",
    "rf.fit(df[features], df[data['outcome_name']])\n",
    "\n",
    "y_pred = rf.predict(df[features])\n",
    "y_true = df[data['outcome_name'][0]]\n",
    "explained_variance_score(y_true, y_pred)"
   ]
  },
  {
   "cell_type": "code",
   "execution_count": 280,
   "metadata": {},
   "outputs": [],
   "source": [
    "## Compute counterfactual outcome with no treatment\n",
    "df_pos = df.copy()\n",
    "df_pos['v0'] = 1\n",
    "df['treated_cf_outcome'] = rf.predict(df_pos[features])\n",
    "\n",
    "## Compute counterfactual outcome with treatment\n",
    "df_neg = df.copy()\n",
    "df_neg['v0'] = 0\n",
    "df['control_cf_outcome'] = rf.predict(df_neg[features])"
   ]
  },
  {
   "cell_type": "code",
   "execution_count": 281,
   "metadata": {},
   "outputs": [],
   "source": [
    "r_t = (df['treated_cf_outcome']*df['incre_ps_1'] + df['control_cf_outcome']*df['incre_ps_0'])"
   ]
  },
  {
   "cell_type": "code",
   "execution_count": 322,
   "metadata": {},
   "outputs": [
    {
     "data": {
      "text/html": [
       "<div>\n",
       "<style scoped>\n",
       "    .dataframe tbody tr th:only-of-type {\n",
       "        vertical-align: middle;\n",
       "    }\n",
       "\n",
       "    .dataframe tbody tr th {\n",
       "        vertical-align: top;\n",
       "    }\n",
       "\n",
       "    .dataframe thead th {\n",
       "        text-align: right;\n",
       "    }\n",
       "</style>\n",
       "<table border=\"1\" class=\"dataframe\">\n",
       "  <thead>\n",
       "    <tr style=\"text-align: right;\">\n",
       "      <th></th>\n",
       "      <th>W0</th>\n",
       "      <th>W1</th>\n",
       "      <th>W2</th>\n",
       "      <th>W3</th>\n",
       "      <th>W4</th>\n",
       "      <th>v0</th>\n",
       "      <th>y</th>\n",
       "    </tr>\n",
       "  </thead>\n",
       "  <tbody>\n",
       "    <tr>\n",
       "      <th>0</th>\n",
       "      <td>0.096206</td>\n",
       "      <td>0.971196</td>\n",
       "      <td>1.203145</td>\n",
       "      <td>0.015968</td>\n",
       "      <td>-0.077362</td>\n",
       "      <td>1</td>\n",
       "      <td>176.727183</td>\n",
       "    </tr>\n",
       "    <tr>\n",
       "      <th>1</th>\n",
       "      <td>-0.020612</td>\n",
       "      <td>0.061670</td>\n",
       "      <td>0.969788</td>\n",
       "      <td>-1.632420</td>\n",
       "      <td>0.610458</td>\n",
       "      <td>0</td>\n",
       "      <td>-15.569232</td>\n",
       "    </tr>\n",
       "    <tr>\n",
       "      <th>2</th>\n",
       "      <td>-0.614938</td>\n",
       "      <td>-1.557552</td>\n",
       "      <td>-0.139381</td>\n",
       "      <td>0.426463</td>\n",
       "      <td>-0.056255</td>\n",
       "      <td>0</td>\n",
       "      <td>-53.401513</td>\n",
       "    </tr>\n",
       "    <tr>\n",
       "      <th>3</th>\n",
       "      <td>-0.829188</td>\n",
       "      <td>-0.672672</td>\n",
       "      <td>-0.623049</td>\n",
       "      <td>1.072348</td>\n",
       "      <td>-1.648874</td>\n",
       "      <td>0</td>\n",
       "      <td>-75.760870</td>\n",
       "    </tr>\n",
       "    <tr>\n",
       "      <th>4</th>\n",
       "      <td>-0.189506</td>\n",
       "      <td>0.701842</td>\n",
       "      <td>0.958815</td>\n",
       "      <td>0.925255</td>\n",
       "      <td>0.760471</td>\n",
       "      <td>1</td>\n",
       "      <td>232.048812</td>\n",
       "    </tr>\n",
       "    <tr>\n",
       "      <th>5</th>\n",
       "      <td>-1.103408</td>\n",
       "      <td>0.489900</td>\n",
       "      <td>-0.415640</td>\n",
       "      <td>-0.352104</td>\n",
       "      <td>0.228377</td>\n",
       "      <td>0</td>\n",
       "      <td>-17.213169</td>\n",
       "    </tr>\n",
       "    <tr>\n",
       "      <th>6</th>\n",
       "      <td>-0.778890</td>\n",
       "      <td>-1.343628</td>\n",
       "      <td>-1.040610</td>\n",
       "      <td>0.341746</td>\n",
       "      <td>1.274583</td>\n",
       "      <td>0</td>\n",
       "      <td>-27.209319</td>\n",
       "    </tr>\n",
       "    <tr>\n",
       "      <th>7</th>\n",
       "      <td>-0.777230</td>\n",
       "      <td>-1.316997</td>\n",
       "      <td>2.042424</td>\n",
       "      <td>-0.521080</td>\n",
       "      <td>0.143427</td>\n",
       "      <td>0</td>\n",
       "      <td>-7.182581</td>\n",
       "    </tr>\n",
       "    <tr>\n",
       "      <th>8</th>\n",
       "      <td>-0.011835</td>\n",
       "      <td>-1.710567</td>\n",
       "      <td>0.911075</td>\n",
       "      <td>-0.370184</td>\n",
       "      <td>0.955195</td>\n",
       "      <td>0</td>\n",
       "      <td>-10.309262</td>\n",
       "    </tr>\n",
       "    <tr>\n",
       "      <th>9</th>\n",
       "      <td>-0.553186</td>\n",
       "      <td>0.108744</td>\n",
       "      <td>0.267395</td>\n",
       "      <td>0.371012</td>\n",
       "      <td>2.150052</td>\n",
       "      <td>1</td>\n",
       "      <td>213.127386</td>\n",
       "    </tr>\n",
       "  </tbody>\n",
       "</table>\n",
       "</div>"
      ],
      "text/plain": [
       "         W0        W1        W2        W3        W4  v0           y\n",
       "0  0.096206  0.971196  1.203145  0.015968 -0.077362   1  176.727183\n",
       "1 -0.020612  0.061670  0.969788 -1.632420  0.610458   0  -15.569232\n",
       "2 -0.614938 -1.557552 -0.139381  0.426463 -0.056255   0  -53.401513\n",
       "3 -0.829188 -0.672672 -0.623049  1.072348 -1.648874   0  -75.760870\n",
       "4 -0.189506  0.701842  0.958815  0.925255  0.760471   1  232.048812\n",
       "5 -1.103408  0.489900 -0.415640 -0.352104  0.228377   0  -17.213169\n",
       "6 -0.778890 -1.343628 -1.040610  0.341746  1.274583   0  -27.209319\n",
       "7 -0.777230 -1.316997  2.042424 -0.521080  0.143427   0   -7.182581\n",
       "8 -0.011835 -1.710567  0.911075 -0.370184  0.955195   0  -10.309262\n",
       "9 -0.553186  0.108744  0.267395  0.371012  2.150052   1  213.127386"
      ]
     },
     "execution_count": 322,
     "metadata": {},
     "output_type": "execute_result"
    }
   ],
   "source": [
    "df.head(10)"
   ]
  },
  {
   "cell_type": "code",
   "execution_count": 283,
   "metadata": {},
   "outputs": [
    {
     "data": {
      "image/png": "[encoded data removed]",
      "text/latex": [
       "$\\displaystyle 106.32238786284023$"
      ],
      "text/plain": [
       "106.32238786284023"
      ]
     },
     "execution_count": 283,
     "metadata": {},
     "output_type": "execute_result"
    }
   ],
   "source": [
    "np.mean(df['treated_cf_outcome'] - df['control_cf_outcome'])"
   ]
  },
  {
   "cell_type": "code",
   "execution_count": 284,
   "metadata": {},
   "outputs": [
    {
     "data": {
      "image/png": "[encoded data removed]",
      "text/latex": [
       "$\\displaystyle 40.336214811449686$"
      ],
      "text/plain": [
       "40.336214811449686"
      ]
     },
     "execution_count": 284,
     "metadata": {},
     "output_type": "execute_result"
    }
   ],
   "source": [
    "np.mean(r_t)"
   ]
  },
  {
   "cell_type": "code",
   "execution_count": 285,
   "metadata": {},
   "outputs": [],
   "source": [
    "effect = w_t*df[data['outcome_name']] + w_t*v_t*r_t"
   ]
  },
  {
   "cell_type": "code",
   "execution_count": 286,
   "metadata": {},
   "outputs": [
    {
     "data": {
      "image/png": "[encoded data removed]",
      "text/latex": [
       "$\\displaystyle 38.623220114833025$"
      ],
      "text/plain": [
       "38.623220114833025"
      ]
     },
     "execution_count": 286,
     "metadata": {},
     "output_type": "execute_result"
    }
   ],
   "source": [
    "np.mean(effect)"
   ]
  },
  {
   "cell_type": "code",
   "execution_count": 287,
   "metadata": {},
   "outputs": [
    {
     "name": "stdout",
     "output_type": "stream",
     "text": [
      "MAE -61.376779885166975\n"
     ]
    }
   ],
   "source": [
    "print(\"MAE {}\".format(np.mean(effect) - true_effect))"
   ]
  },
  {
   "cell_type": "code",
   "execution_count": 316,
   "metadata": {},
   "outputs": [
    {
     "data": {
      "text/plain": [
       "['v0']"
      ]
     },
     "execution_count": 316,
     "metadata": {},
     "output_type": "execute_result"
    }
   ],
   "source": [
    "data['treatment_name']"
   ]
  },
  {
   "cell_type": "code",
   "execution_count": 328,
   "metadata": {},
   "outputs": [
    {
     "name": "stderr",
     "output_type": "stream",
     "text": [
      "100%|██████████| 10/10 [00:00<00:00, 269.63it/s]\n"
     ]
    }
   ],
   "source": [
    "treatment = data['treatment_name'][0]\n",
    "outcome = data['outcome_name']\n",
    "features = data['common_causes_names'] + data['treatment_name']\n",
    "delta_seq = np.linspace(0.5, 10, 10)\n",
    "logreg = LogisticRegression()\n",
    "logreg.fit(df[data['common_causes_names']], df[treatment])\n",
    "\n",
    "## Compute propensity score\n",
    "df['ps_1'] = logreg.predict_proba(df[data['common_causes_names']])[:,1]\n",
    "df['ps_0'] = 1 - df['ps_1']\n",
    "\n",
    "# ## Compute incremental propensity score\n",
    "# df['incre_ps_1'] = (delta * df['ps_1']) / (delta * df['ps_1'] + df['ps_0'])\n",
    "# df['incre_ps_0'] = 1 - df['incre_ps_1']\n",
    "\n",
    "## Fit outcome\n",
    "rf = GradientBoostingRegressor(random_state=0, n_estimators = 1000)\n",
    "rf.fit(df[features], df[outcome])\n",
    "\n",
    "## Compute counterfactual outcome with no treatment\n",
    "df_pos = df.copy()\n",
    "df_pos[treatment] = 1\n",
    "df['treated_cf_outcome'] = rf.predict(df_pos[features])\n",
    "\n",
    "## Compute counterfactual outcome with treatment\n",
    "df_neg = df.copy()\n",
    "df_neg[treatment] = 0\n",
    "df['control_cf_outcome'] = rf.predict(df_neg[features])\n",
    "\n",
    "effect = []\n",
    "for delta in tqdm(delta_seq):\n",
    "    df['incre_ps_1'] = (delta * df['ps_1']) / (delta * df['ps_1'] + df['ps_0'])\n",
    "    df['incre_ps_0'] = 1 - df['incre_ps_1']\n",
    "    \n",
    "    w_t = (delta*df[treatment] + 1 - df['v0']) / (delta*df['ps_1'] + df['ps_0'])\n",
    "    \n",
    "    v_t = (df[treatment]*(df['ps_0']) \n",
    "                    - (1 - df[treatment])*df['ps_1']*delta) / (delta / (1-delta))\n",
    "\n",
    "    r_t = (df['treated_cf_outcome']*df['incre_ps_1'] + df['control_cf_outcome']*df['incre_ps_0'])\n",
    "    \n",
    "    e = w_t*df[data['outcome_name']] + w_t*v_t*r_t\n",
    "    \n",
    "# Y - mu(X,A)\n",
    "    residual = df[data['outcome_name'][0]] - df['predicted_y']\n",
    "\n",
    "    w0 = [0 if df.loc[i, 'v0'] == 1 else 1/df.loc[i, 'ps_0'] for i in range(len(df))]\n",
    "    w1 = [0 if df.loc[i, 'v0'] == 0 else 1/df.loc[i, 'ps_1'] for i in range(len(df))]\n",
    "    w0 = np.array(w0)\n",
    "    w1 = np.array(w1)\n",
    "\n",
    "    phi_0 = w0 * residual + df['treated_cf_outcome'] \n",
    "    phi_1 = w1 * residual + df['control_cf_outcome']\n",
    "\n",
    "    m0 = df['incre_ps_1']*phi_1 + df['incre_ps_0']*phi_0\n",
    "\n",
    "    m1 = (delta*(df['treated_cf_outcome'] - df['control_cf_outcome'])\n",
    "         *(df['v0'] - df['ps_1']))/(delta*df['ps_1'] + df['ps_0'])**2\n",
    "\n",
    "    \n",
    "    effect.append(np.mean(e))"
   ]
  },
  {
   "cell_type": "code",
   "execution_count": 329,
   "metadata": {},
   "outputs": [
    {
     "data": {
      "image/png": "[encoded data removed]",
      "text/latex": [
       "$\\displaystyle \\left[ 59.40462196196107, \\  60.5959893843877, \\  61.159348606378536, \\  61.55792224077943, \\  61.874241255106185, \\  62.139288814210566, \\  62.36862388176203, \\  62.57137268392134, \\  62.75342747091081, \\  62.91884872261656\\right]$"
      ],
      "text/plain": [
       "[59.40462196196107, 60.5959893843877, 61.159348606378536, 61.55792224077943, 6\n",
       "1.874241255106185, 62.139288814210566, 62.36862388176203, 62.57137268392134, 6\n",
       "2.75342747091081, 62.91884872261656]"
      ]
     },
     "execution_count": 329,
     "metadata": {},
     "output_type": "execute_result"
    }
   ],
   "source": [
    "effect"
   ]
  },
  {
   "cell_type": "code",
   "execution_count": 330,
   "metadata": {},
   "outputs": [
    {
     "data": {
      "image/png": "[encoded data removed]",
      "text/latex": [
       "$\\displaystyle -38.26563149779658$"
      ],
      "text/plain": [
       "-38.26563149779658"
      ]
     },
     "execution_count": 330,
     "metadata": {},
     "output_type": "execute_result"
    }
   ],
   "source": [
    "np.mean(effect) - true_effect"
   ]
  },
  {
   "cell_type": "code",
   "execution_count": null,
   "metadata": {},
   "outputs": [],
   "source": []
  }
 ],
 "metadata": {
  "kernelspec": {
   "display_name": "Python [conda env:.conda-phd_env] *",
   "language": "python",
   "name": "conda-env-.conda-phd_env-py"
  },
  "language_info": {
   "codemirror_mode": {
    "name": "ipython",
    "version": 3
   },
   "file_extension": ".py",
   "mimetype": "text/x-python",
   "name": "python",
   "nbconvert_exporter": "python",
   "pygments_lexer": "ipython3",
   "version": "3.7.7"
  },
  "toc": {
   "base_numbering": 1,
   "nav_menu": {},
   "number_sections": true,
   "sideBar": true,
   "skip_h1_title": false,
   "title_cell": "Table of Contents",
   "title_sidebar": "Contents",
   "toc_cell": false,
   "toc_position": {
    "height": "calc(100% - 180px)",
    "left": "10px",
    "top": "150px",
    "width": "216.417px"
   },
   "toc_section_display": true,
   "toc_window_display": true
  }
 },
 "nbformat": 4,
 "nbformat_minor": 4
}
