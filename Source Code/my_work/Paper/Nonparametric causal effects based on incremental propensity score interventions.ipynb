{
 "cells": [
  {
   "cell_type": "code",
   "execution_count": 24,
   "metadata": {},
   "outputs": [],
   "source": [
    "import math\n",
    "import pandas as pd\n",
    "import numpy as np\n",
    "import seaborn as sns\n",
    "import matplotlib.pyplot as plt \n",
    "from sklearn import preprocessing\n",
    "from sklearn.linear_model import LogisticRegression\n",
    "from sklearn.model_selection import train_test_split\n",
    "from scipy.stats import norm\n",
    "from sklearn.ensemble import RandomForestRegressor\n",
    "from sklearn.neighbors import NearestNeighbors\n"
   ]
  },
  {
   "cell_type": "code",
   "execution_count": 3,
   "metadata": {},
   "outputs": [],
   "source": [
    "import sys\n",
    "sys.path.insert(1, '/home/dtd/Documents/interpretable_machine_learning/Source Code/my_work/lib')\n",
    "import propensity_score_estimator as pse"
   ]
  },
  {
   "cell_type": "code",
   "execution_count": 39,
   "metadata": {},
   "outputs": [],
   "source": [
    "# random numbers from uniform distribution\n",
    "def logit(X1,X2,X3,X4):\n",
    "    return sigmoid(-X1 + 0.5*X2 - 0.24*X3 - 0.1*X4)\n",
    "def sigmoid(x):\n",
    "    return 1 / (1 + np.exp(-x))\n",
    "def mean_function(A,X1,X2,X3,X4):\n",
    "    return np.mean(200 + A*(10+27.4*X1 + 13.7*X2 + 13.7*X3 + 13.7*X4))\n",
    "\n",
    "n = 10000\n",
    "start = 10\n",
    "width = 20\n",
    "\n",
    "random_state = 42\n",
    "X1 = norm.rvs(loc=0, scale=1, size=n, random_state=1)\n",
    "X2 = norm.rvs(loc=0, scale=1, size=n, random_state=2)\n",
    "X3 = norm.rvs(loc=0, scale=1, size=n, random_state=3)\n",
    "X4 = norm.rvs(loc=0, scale=1, size=n, random_state=4)\n",
    "X = np.array([X1, X2, X3, X4]).T\n",
    "A = logit(X1,X2,X3,X4)\n",
    "A[A >= 0.5] = 1\n",
    "A[A < 0.5] = 0\n",
    "A = A.reshape(n,1)\n",
    "loc_y = mean_function(A,X1,X2,X3,X4)\n",
    "scale_y = 1\n",
    "Y = norm.rvs(loc=loc_y, scale=scale_y, size=n, random_state=random_state)"
   ]
  },
  {
   "cell_type": "code",
   "execution_count": 48,
   "metadata": {},
   "outputs": [],
   "source": [
    "A_pos = np.full((n, 1), 1)\n",
    "A_neg = np.full((n, 1), 0)\n",
    "loc_y_pos = mean_function(A_pos,X1,X2,X3,X4)\n",
    "loc_y_neg = mean_function(A_neg,X1,X2,X3,X4)\n",
    "\n",
    "Y_pos = norm.rvs(loc=loc_y_pos, scale=1, size=n, random_state=random_state)\n",
    "Y_neg = norm.rvs(loc=loc_y_neg, scale=1, size=n, random_state=random_state)"
   ]
  },
  {
   "cell_type": "code",
   "execution_count": 47,
   "metadata": {},
   "outputs": [
    {
     "data": {
      "text/plain": [
       "9.64551207826483"
      ]
     },
     "execution_count": 47,
     "metadata": {},
     "output_type": "execute_result"
    }
   ],
   "source": [
    "np.mean(Y_pos) - np.mean(Y_neg)"
   ]
  },
  {
   "cell_type": "code",
   "execution_count": 6,
   "metadata": {},
   "outputs": [],
   "source": [
    "df = pd.DataFrame()\n",
    "df['Y'] = Y\n",
    "df['A'] = A\n",
    "df['X1'] = X1\n",
    "df['X2'] = X2\n",
    "df['X3'] = X3\n",
    "df['X4'] = X4"
   ]
  },
  {
   "cell_type": "code",
   "execution_count": 11,
   "metadata": {},
   "outputs": [
    {
     "data": {
      "text/plain": [
       "[Text(0, 0.5, 'Frequency'), Text(0.5, 0, 'Uniform Distribution ')]"
      ]
     },
     "execution_count": 11,
     "metadata": {},
     "output_type": "execute_result"
    },
    {
     "data": {
      "image/png": "[encoded data removed]",
      "text/plain": [
       "<Figure size 432x288 with 3 Axes>"
      ]
     },
     "metadata": {
      "needs_background": "light"
     },
     "output_type": "display_data"
    }
   ],
   "source": [
    "# f, axes = plt.subplots(3, 2)\n",
    "f, axes = plt.subplots(ncols=3)\n",
    "\n",
    "ax = sns.distplot(X1,\n",
    "                  bins=100,\n",
    "                  kde=True,\n",
    "                  color='skyblue',\n",
    "                  hist_kws={\"linewidth\": 15,'alpha':1}, ax=axes[0])\n",
    "ax.set(xlabel='Uniform Distribution ', ylabel='Frequency')\n",
    "\n",
    "ax = sns.distplot(X2,\n",
    "                  bins=100,\n",
    "                  kde=True,\n",
    "                  color='skyblue',\n",
    "                  hist_kws={\"linewidth\": 15,'alpha':1}, ax=axes[1])\n",
    "ax.set(xlabel='Uniform Distribution ', ylabel='Frequency')\n",
    "\n",
    "ax = sns.distplot(X3,\n",
    "                  bins=100,\n",
    "                  kde=True,\n",
    "                  color='skyblue',\n",
    "                  hist_kws={\"linewidth\": 15,'alpha':1}, ax=axes[2])\n",
    "ax.set(xlabel='Uniform Distribution ', ylabel='Frequency')\n",
    "\n",
    "# ax = sns.distplot(X4,\n",
    "#                   bins=100,\n",
    "#                   kde=True,\n",
    "#                   color='skyblue',\n",
    "#                   hist_kws={\"linewidth\": 15,'alpha':1}, ax=axes[1,1])\n",
    "# ax.set(xlabel='Uniform Distribution ', ylabel='Frequency')\n",
    "\n",
    "# ax = sns.distplot(A,\n",
    "#                   bins=100,\n",
    "#                   kde=True,\n",
    "#                   color='skyblue',\n",
    "#                   hist_kws={\"linewidth\": 15,'alpha':1}, ax=axes[2,0])\n",
    "# ax.set(xlabel='Treatment ', ylabel='Frequency')\n",
    "\n",
    "# ax = sns.distplot(Y,\n",
    "#                   bins=100,\n",
    "#                   kde=True,\n",
    "#                   color='skyblue',\n",
    "#                   hist_kws={\"linewidth\": 15,'alpha':1}, ax=axes[2,1])\n",
    "# ax.set(xlabel='Outcome', ylabel='Frequency')"
   ]
  },
  {
   "cell_type": "code",
   "execution_count": 12,
   "metadata": {},
   "outputs": [],
   "source": [
    "covariates = ['X1', 'X2', 'X3', 'X4']\n",
    "features = ['X1', 'X2', 'X3', 'X4', 'A']"
   ]
  },
  {
   "cell_type": "code",
   "execution_count": 13,
   "metadata": {},
   "outputs": [
    {
     "data": {
      "text/html": [
       "<div>\n",
       "<style scoped>\n",
       "    .dataframe tbody tr th:only-of-type {\n",
       "        vertical-align: middle;\n",
       "    }\n",
       "\n",
       "    .dataframe tbody tr th {\n",
       "        vertical-align: top;\n",
       "    }\n",
       "\n",
       "    .dataframe thead th {\n",
       "        text-align: right;\n",
       "    }\n",
       "</style>\n",
       "<table border=\"1\" class=\"dataframe\">\n",
       "  <thead>\n",
       "    <tr style=\"text-align: right;\">\n",
       "      <th></th>\n",
       "      <th>Y</th>\n",
       "      <th>A</th>\n",
       "      <th>X1</th>\n",
       "      <th>X2</th>\n",
       "      <th>X3</th>\n",
       "      <th>X4</th>\n",
       "    </tr>\n",
       "  </thead>\n",
       "  <tbody>\n",
       "    <tr>\n",
       "      <th>0</th>\n",
       "      <td>205.289569</td>\n",
       "      <td>0.0</td>\n",
       "      <td>1.624345</td>\n",
       "      <td>-0.416758</td>\n",
       "      <td>1.788628</td>\n",
       "      <td>0.050562</td>\n",
       "    </tr>\n",
       "    <tr>\n",
       "      <th>1</th>\n",
       "      <td>204.654591</td>\n",
       "      <td>1.0</td>\n",
       "      <td>-0.611756</td>\n",
       "      <td>-0.056267</td>\n",
       "      <td>0.436510</td>\n",
       "      <td>0.499951</td>\n",
       "    </tr>\n",
       "    <tr>\n",
       "      <th>2</th>\n",
       "      <td>205.440543</td>\n",
       "      <td>0.0</td>\n",
       "      <td>-0.528172</td>\n",
       "      <td>-2.136196</td>\n",
       "      <td>0.096497</td>\n",
       "      <td>-0.995909</td>\n",
       "    </tr>\n",
       "    <tr>\n",
       "      <th>3</th>\n",
       "      <td>206.315885</td>\n",
       "      <td>1.0</td>\n",
       "      <td>-1.072969</td>\n",
       "      <td>1.640271</td>\n",
       "      <td>-1.863493</td>\n",
       "      <td>0.693599</td>\n",
       "    </tr>\n",
       "    <tr>\n",
       "      <th>4</th>\n",
       "      <td>204.558702</td>\n",
       "      <td>0.0</td>\n",
       "      <td>0.865408</td>\n",
       "      <td>-1.793436</td>\n",
       "      <td>-0.277388</td>\n",
       "      <td>-0.418302</td>\n",
       "    </tr>\n",
       "  </tbody>\n",
       "</table>\n",
       "</div>"
      ],
      "text/plain": [
       "            Y    A        X1        X2        X3        X4\n",
       "0  205.289569  0.0  1.624345 -0.416758  1.788628  0.050562\n",
       "1  204.654591  1.0 -0.611756 -0.056267  0.436510  0.499951\n",
       "2  205.440543  0.0 -0.528172 -2.136196  0.096497 -0.995909\n",
       "3  206.315885  1.0 -1.072969  1.640271 -1.863493  0.693599\n",
       "4  204.558702  0.0  0.865408 -1.793436 -0.277388 -0.418302"
      ]
     },
     "execution_count": 13,
     "metadata": {},
     "output_type": "execute_result"
    }
   ],
   "source": [
    "df.head()"
   ]
  },
  {
   "cell_type": "markdown",
   "metadata": {},
   "source": [
    "## Propensity score "
   ]
  },
  {
   "cell_type": "code",
   "execution_count": 27,
   "metadata": {},
   "outputs": [
    {
     "data": {
      "text/plain": [
       "LogisticRegression(C=1.0, class_weight=None, dual=False, fit_intercept=True,\n",
       "                   intercept_scaling=1, l1_ratio=None, max_iter=100,\n",
       "                   multi_class='auto', n_jobs=None, penalty='l2',\n",
       "                   random_state=None, solver='lbfgs', tol=0.0001, verbose=0,\n",
       "                   warm_start=False)"
      ]
     },
     "execution_count": 27,
     "metadata": {},
     "output_type": "execute_result"
    }
   ],
   "source": [
    "from sklearn.linear_model import LogisticRegression\n",
    "from sklearn import metrics\n",
    "logreg = LogisticRegression()\n",
    "logreg.fit(df[covariates], df['A'])"
   ]
  },
  {
   "cell_type": "code",
   "execution_count": 28,
   "metadata": {},
   "outputs": [],
   "source": [
    "df['propensity_score'] = logreg.predict_proba(X)[:,1]"
   ]
  },
  {
   "cell_type": "code",
   "execution_count": 29,
   "metadata": {},
   "outputs": [
    {
     "name": "stdout",
     "output_type": "stream",
     "text": [
      "(4969, 7)\n",
      "(5031, 7)\n"
     ]
    }
   ],
   "source": [
    "treated = df.loc[df['A'] == 1]\n",
    "control = df.loc[df['A'] == 0]\n",
    "print(treated.shape)\n",
    "print(control.shape)"
   ]
  },
  {
   "cell_type": "code",
   "execution_count": 31,
   "metadata": {},
   "outputs": [],
   "source": [
    "control_neighbors = (\n",
    "        NearestNeighbors(n_neighbors=1, algorithm='ball_tree')\n",
    "        .fit(control['propensity_score'].values.reshape(-1, 1))\n",
    "    )\n",
    "distances, indices = control_neighbors.kneighbors(treated['propensity_score'].values.reshape(-1, 1))\n",
    "att = 0\n",
    "numtreatedunits = treated.shape[0]\n",
    "# for i in range(numtreatedunits):\n",
    "#     treated_outcome = treated.iloc[i][outcome].item()\n",
    "#     control_outcome = control.iloc[indices[i]][outcome].item()\n",
    "#     att += treated_outcome - control_outcome"
   ]
  },
  {
   "cell_type": "code",
   "execution_count": 36,
   "metadata": {},
   "outputs": [
    {
     "data": {
      "text/plain": [
       "Y                   204.654591\n",
       "A                     1.000000\n",
       "X1                   -0.611756\n",
       "X2                   -0.056267\n",
       "X3                    0.436510\n",
       "X4                    0.499951\n",
       "propensity_score      0.999061\n",
       "Name: 1, dtype: float64"
      ]
     },
     "execution_count": 36,
     "metadata": {},
     "output_type": "execute_result"
    }
   ],
   "source": [
    "treated.iloc[0]"
   ]
  },
  {
   "cell_type": "code",
   "execution_count": 37,
   "metadata": {},
   "outputs": [
    {
     "data": {
      "text/plain": [
       "Y                   204.773537\n",
       "A                     0.000000\n",
       "X1                    0.917666\n",
       "X2                    1.769402\n",
       "X3                    0.201190\n",
       "X4                   -0.807802\n",
       "propensity_score      0.521427\n",
       "Name: 8994, dtype: float64"
      ]
     },
     "execution_count": 37,
     "metadata": {},
     "output_type": "execute_result"
    }
   ],
   "source": [
    "control.iloc[4526]"
   ]
  },
  {
   "cell_type": "code",
   "execution_count": 32,
   "metadata": {},
   "outputs": [
    {
     "data": {
      "text/plain": [
       "array([[4526],\n",
       "       [4526],\n",
       "       [4526],\n",
       "       ...,\n",
       "       [4526],\n",
       "       [4526],\n",
       "       [4526]])"
      ]
     },
     "execution_count": 32,
     "metadata": {},
     "output_type": "execute_result"
    }
   ],
   "source": [
    "indices"
   ]
  },
  {
   "cell_type": "markdown",
   "metadata": {},
   "source": [
    "## K-nearest neighbor"
   ]
  },
  {
   "cell_type": "code",
   "execution_count": 17,
   "metadata": {},
   "outputs": [],
   "source": [
    "att, atc, est= pse.propensity_score_estimator_k_nearest_neighbor(df, 'A', 'Y', 'propensity_score')"
   ]
  },
  {
   "cell_type": "code",
   "execution_count": 18,
   "metadata": {},
   "outputs": [
    {
     "name": "stdout",
     "output_type": "stream",
     "text": [
      "Avg treatment effect on the treated 0.008822457457280273\n",
      "Avg treatment effect on the control -0.5256956893538923\n",
      "Avg treatment effect -0.3482609461175561\n"
     ]
    }
   ],
   "source": [
    "print(\"Avg treatment effect on the treated {}\".format(att))\n",
    "print(\"Avg treatment effect on the control {}\".format(atc))\n",
    "print(\"Avg treatment effect {}\".format(est))"
   ]
  },
  {
   "cell_type": "markdown",
   "metadata": {},
   "source": [
    "## IPTW"
   ]
  },
  {
   "cell_type": "markdown",
   "metadata": {},
   "source": [
    "## Incremental propensity score\n",
    "The observational propensity score $\\pi_t$ with the distribution\n",
    "$q_t(h_t, \\delta, \\pi_t) = \\frac{\\delta \\pi_t(h_t)}{\\delta \\pi_t(h_t) + 1 - \\pi_t(h_t)}$\n",
    "\n",
    "Incremental effects:\n",
    "$\\Psi (\\delta ) = E[\\frac{\\delta \\pi(X) \\mu(X,1) + (1-\\pi(X)\\mu(X,0) }{\\delta \\pi(X) + 1 - \\pi(X)}]$\n",
    "\n",
    "with $\\mu(x,a) = E[Y | X= x, A=a]$"
   ]
  },
  {
   "cell_type": "code",
   "execution_count": 25,
   "metadata": {},
   "outputs": [],
   "source": [
    "delta = 1.93\n",
    "df['pos_incremental_ps'] = (delta * df['propensity_score']) / (delta * df['propensity_score'] + 1 - df['propensity_score'])\n",
    "df['neg_incremental_ps'] = (1 - df['propensity_score']) / (delta * df['propensity_score'] + 1 - df['propensity_score'])"
   ]
  },
  {
   "cell_type": "code",
   "execution_count": 26,
   "metadata": {},
   "outputs": [
    {
     "data": {
      "text/plain": [
       "RandomForestRegressor(bootstrap=True, ccp_alpha=0.0, criterion='mse',\n",
       "                      max_depth=None, max_features='auto', max_leaf_nodes=None,\n",
       "                      max_samples=None, min_impurity_decrease=0.0,\n",
       "                      min_impurity_split=None, min_samples_leaf=1,\n",
       "                      min_samples_split=2, min_weight_fraction_leaf=0.0,\n",
       "                      n_estimators=4000, n_jobs=None, oob_score=False,\n",
       "                      random_state=42, verbose=0, warm_start=False)"
      ]
     },
     "execution_count": 26,
     "metadata": {},
     "output_type": "execute_result"
    }
   ],
   "source": [
    "rf = RandomForestRegressor(n_estimators = 4000, random_state = random_state)\n",
    "rf.fit(df[features], df['Y'])"
   ]
  },
  {
   "cell_type": "code",
   "execution_count": 27,
   "metadata": {},
   "outputs": [],
   "source": [
    "df_pos = df.copy()\n",
    "df_pos['A'] = 1\n",
    "pos_outcome = rf.predict(df[features])\n",
    "\n",
    "df_neg = df.copy()\n",
    "df_neg['A'] = 0\n",
    "neg_outcome = rf.predict(df[features])"
   ]
  },
  {
   "cell_type": "code",
   "execution_count": 28,
   "metadata": {},
   "outputs": [],
   "source": [
    "mu_ps = np.mean(df['propensity_score'])\n",
    "pos_weight = (delta * mu_ps) / (delta * mu_ps + 1 - mu_ps)\n",
    "neg_weight = (1 - mu_ps) / (delta * mu_ps + 1 - mu_ps)"
   ]
  },
  {
   "cell_type": "code",
   "execution_count": 19,
   "metadata": {},
   "outputs": [],
   "source": [
    "phi_mean = pos_weight*np.mean(pos_outcome) + neg_weight*np.mean(neg_outcome)"
   ]
  },
  {
   "cell_type": "code",
   "execution_count": 21,
   "metadata": {},
   "outputs": [],
   "source": [
    "phi = pos_outcome*df['pos_incremental_ps'] + neg_outcome*df['neg_incremental_ps']"
   ]
  },
  {
   "cell_type": "code",
   "execution_count": 22,
   "metadata": {},
   "outputs": [
    {
     "data": {
      "text/plain": [
       "0      206.151960\n",
       "1      205.792254\n",
       "2      206.296554\n",
       "3      206.598788\n",
       "4      205.519679\n",
       "          ...    \n",
       "495    206.247800\n",
       "496    205.103520\n",
       "497    205.635290\n",
       "498    205.341308\n",
       "499    204.782829\n",
       "Length: 500, dtype: float64"
      ]
     },
     "execution_count": 22,
     "metadata": {},
     "output_type": "execute_result"
    }
   ],
   "source": [
    "phi"
   ]
  },
  {
   "cell_type": "code",
   "execution_count": 24,
   "metadata": {},
   "outputs": [
    {
     "name": "stdout",
     "output_type": "stream",
     "text": [
      "Bias -2.233946361229755e-14\n"
     ]
    }
   ],
   "source": [
    "bias = np.mean(phi - phi_mean)\n",
    "print(\"Bias {}\".format(bias))"
   ]
  },
  {
   "cell_type": "code",
   "execution_count": null,
   "metadata": {},
   "outputs": [],
   "source": [
    "length = len(phi)\n",
    "rmse = math.sqrt(length)*np.mean(math.sqrt())"
   ]
  },
  {
   "cell_type": "markdown",
   "metadata": {},
   "source": [
    "## Estimation algorithm"
   ]
  },
  {
   "cell_type": "markdown",
   "metadata": {},
   "source": [
    "Split data into $D_0$ and $D_1$"
   ]
  },
  {
   "cell_type": "code",
   "execution_count": null,
   "metadata": {},
   "outputs": [],
   "source": [
    "D0, D1 = train_test_split(df, train_size = 0.7, random_state = 1)"
   ]
  },
  {
   "cell_type": "code",
   "execution_count": null,
   "metadata": {},
   "outputs": [],
   "source": [
    "D0.shape, D1.shape"
   ]
  },
  {
   "cell_type": "markdown",
   "metadata": {},
   "source": [
    "Regress $A_t \\sim H_t$ in $D_0$, obtain preds $\\pi_t(H_t)$ in D"
   ]
  },
  {
   "cell_type": "code",
   "execution_count": null,
   "metadata": {},
   "outputs": [],
   "source": [
    "logreg = LogisticRegression()\n",
    "logreg.fit(D0[covariates], D0['A'])\n",
    "\n",
    "pi_t = np.mean(logreg.predict_proba(df[covariates])[:,1])"
   ]
  },
  {
   "cell_type": "markdown",
   "metadata": {},
   "source": [
    "Compute weights $W_t = \\frac{\\delta A_t + 1 - A_t}{\\delta \\pi_t(h_t) + 1 - \\pi_t(h_t)}$ on $D_1$"
   ]
  },
  {
   "cell_type": "code",
   "execution_count": null,
   "metadata": {},
   "outputs": [],
   "source": [
    "delta = 1.5\n",
    "A_t = logreg.predict(D1[covariates])\n",
    "w_t = (delta*A_t + 1 - A_t) / (delta*pi_t + 1 - pi_t)"
   ]
  },
  {
   "cell_type": "markdown",
   "metadata": {},
   "source": [
    "Compute cumulative product weight"
   ]
  },
  {
   "cell_type": "code",
   "execution_count": null,
   "metadata": {},
   "outputs": [],
   "source": [
    "product_w_t = np.cumprod(w_t)[-1]"
   ]
  },
  {
   "cell_type": "code",
   "execution_count": null,
   "metadata": {},
   "outputs": [],
   "source": [
    "product_w_t"
   ]
  },
  {
   "cell_type": "markdown",
   "metadata": {},
   "source": [
    "Regress $R_{t+1} \\sim (H_t , A_t)$ in $D_0$, obtain preds $m_t(H_t,a)$ in D"
   ]
  },
  {
   "cell_type": "code",
   "execution_count": null,
   "metadata": {},
   "outputs": [],
   "source": [
    "rf = RandomForestRegressor(n_estimators = 1000, random_state = 42)\n",
    "rf.fit(D0[features], D0['Y'])\n",
    "R_t = np.mean(rf.predict(D0[features]))"
   ]
  },
  {
   "cell_type": "markdown",
   "metadata": {},
   "source": [
    "Compute weights $V_t = \\frac{A_t(1− \\pi_t(H_t))−(1−A_t)\\delta\\pi_t(H_t)}{\\delta / (\\delta - 1)}$ in $D1$"
   ]
  },
  {
   "cell_type": "code",
   "execution_count": null,
   "metadata": {},
   "outputs": [],
   "source": [
    "V_t = (A_t*(1-pi_t) - (1-A_t)*delta*pi_t) / (delta / (delta - 1))"
   ]
  },
  {
   "cell_type": "markdown",
   "metadata": {},
   "source": [
    "$\\varphi  = \\widetilde{W_t}*Y + \\sum \\widetilde{W_t} V_t R_t$ on $D_1$"
   ]
  },
  {
   "cell_type": "code",
   "execution_count": null,
   "metadata": {},
   "outputs": [],
   "source": [
    "phi = w_t * D1['Y'] + sum(w_t*V_t*R_t)"
   ]
  },
  {
   "cell_type": "code",
   "execution_count": null,
   "metadata": {},
   "outputs": [],
   "source": [
    "np.mean(phi)"
   ]
  },
  {
   "cell_type": "code",
   "execution_count": null,
   "metadata": {},
   "outputs": [],
   "source": []
  }
 ],
 "metadata": {
  "kernelspec": {
   "display_name": "Python [conda env:.conda-phd_env] *",
   "language": "python",
   "name": "conda-env-.conda-phd_env-py"
  },
  "language_info": {
   "codemirror_mode": {
    "name": "ipython",
    "version": 3
   },
   "file_extension": ".py",
   "mimetype": "text/x-python",
   "name": "python",
   "nbconvert_exporter": "python",
   "pygments_lexer": "ipython3",
   "version": "3.7.7"
  },
  "toc": {
   "base_numbering": 1,
   "nav_menu": {},
   "number_sections": true,
   "sideBar": true,
   "skip_h1_title": false,
   "title_cell": "Table of Contents",
   "title_sidebar": "Contents",
   "toc_cell": false,
   "toc_position": {
    "height": "calc(100% - 180px)",
    "left": "10px",
    "top": "150px",
    "width": "215.25px"
   },
   "toc_section_display": true,
   "toc_window_display": true
  }
 },
 "nbformat": 4,
 "nbformat_minor": 4
}
