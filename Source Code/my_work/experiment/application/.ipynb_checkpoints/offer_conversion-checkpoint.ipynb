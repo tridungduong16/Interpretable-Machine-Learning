{
 "cells": [
  {
   "cell_type": "markdown",
   "metadata": {},
   "source": [
    "## Import library "
   ]
  },
  {
   "cell_type": "code",
   "execution_count": 10,
   "metadata": {},
   "outputs": [],
   "source": [
    "import warnings\n",
    "warnings.filterwarnings('ignore')\n",
    "\n",
    "import pandas as pd\n",
    "import numpy as np\n",
    "\n",
    "import matplotlib \n",
    "import matplotlib.pyplot as plt\n",
    "import seaborn as sns\n",
    "\n",
    "from sklearn.ensemble import RandomForestRegressor\n",
    "\n",
    "# EconML\n",
    "from econml.dml import LinearDMLCateEstimator, ForestDMLCateEstimator\n",
    "from econml.cate_interpreter import SingleTreeCateInterpreter, SingleTreePolicyInterpreter\n",
    "\n",
    "\n",
    "import sys\n",
    "sys.path.insert(\n",
    "    1,\n",
    "    '/home/dtd/Documents/interpretable_machine_learning/Source Code/my_work/lib'\n",
    ")\n",
    "sys.path.insert(\n",
    "    1,\n",
    "    '/home/dtd/Documents/interpretable_machine_learning/Causal Inference/CEA')\n",
    "\n",
    "\n",
    "\n",
    "\n",
    "from sklearn.preprocessing import LabelEncoder\n",
    "\n",
    "import data_load\n",
    "import numpy as np\n",
    "import pandas as pd\n",
    "import logging\n",
    "import dowhy.datasets\n",
    "import dowhy\n",
    "import propensity_score_estimator as pse\n",
    "import incremental_ps_score_estimator as ipse\n",
    "import math\n",
    "import timeit\n",
    "import evaluation as evl\n",
    "import pandas as pd\n",
    "import numpy as np\n",
    "import tensorflow as tf\n",
    "from sklearn.preprocessing import PolynomialFeatures\n",
    "\n",
    "from econml.drlearner import ForestDRLearner\n",
    "from econml.drlearner import LinearDRLearner\n",
    "from sklearn.ensemble import GradientBoostingRegressor, GradientBoostingClassifier\n",
    "from econml.metalearners import SLearner\n",
    "from econml.metalearners import XLearner\n",
    "from econml.metalearners import TLearner\n",
    "\n",
    "from econml.drlearner import LinearDRLearner\n",
    "from sklearn.ensemble import GradientBoostingClassifier, GradientBoostingRegressor\n",
    "from econml.dml import ForestDMLCateEstimator\n",
    "from dowhy import CausalModel\n",
    "from sklearn.metrics import log_loss\n",
    "from sklearn.linear_model import LogisticRegression\n",
    "from sklearn.ensemble import RandomForestClassifier\n",
    "from scipy.stats import sem\n",
    "from sklearn.linear_model import LogisticRegression\n",
    "from sklearn import metrics\n",
    "from sklearn.neighbors import NearestNeighbors\n",
    "from sklearn.ensemble import RandomForestRegressor\n",
    "from sklearn import metrics\n",
    "from sklearn.ensemble import RandomForestClassifier\n",
    "from sklearn.metrics import explained_variance_score\n",
    "from sklearn.model_selection import train_test_split\n",
    "from sklearn.model_selection import KFold\n",
    "from tqdm import tqdm\n",
    "from sklearn.metrics import mean_squared_error\n",
    "from math import sqrt\n",
    "from econml.dml import LinearDMLCateEstimator\n",
    "from econml.inference import BootstrapInference\n",
    "from econml.dml import SparseLinearDMLCateEstimator\n",
    "from sklearn.linear_model import LassoCV, ElasticNetCV\n",
    "from mlens.ensemble import SuperLearner\n",
    "from sklearn.preprocessing import StandardScaler\n",
    "from sklearn.svm import SVC\n",
    "from sklearn.metrics import accuracy_score, f1_score, precision_score, recall_score, classification_report, confusion_matrix"
   ]
  },
  {
   "cell_type": "markdown",
   "metadata": {},
   "source": [
    "## Load data"
   ]
  },
  {
   "cell_type": "code",
   "execution_count": 14,
   "metadata": {},
   "outputs": [],
   "source": [
    "df = pd.read_csv(\"/home/dtd/Documents/interpretable_machine_learning/Source Code/data/data.csv\")"
   ]
  },
  {
   "cell_type": "code",
   "execution_count": 15,
   "metadata": {},
   "outputs": [
    {
     "data": {
      "text/html": [
       "<div>\n",
       "<style scoped>\n",
       "    .dataframe tbody tr th:only-of-type {\n",
       "        vertical-align: middle;\n",
       "    }\n",
       "\n",
       "    .dataframe tbody tr th {\n",
       "        vertical-align: top;\n",
       "    }\n",
       "\n",
       "    .dataframe thead th {\n",
       "        text-align: right;\n",
       "    }\n",
       "</style>\n",
       "<table border=\"1\" class=\"dataframe\">\n",
       "  <thead>\n",
       "    <tr style=\"text-align: right;\">\n",
       "      <th></th>\n",
       "      <th>recency</th>\n",
       "      <th>history</th>\n",
       "      <th>used_discount</th>\n",
       "      <th>used_bogo</th>\n",
       "      <th>zip_code</th>\n",
       "      <th>is_referral</th>\n",
       "      <th>channel</th>\n",
       "      <th>offer</th>\n",
       "      <th>conversion</th>\n",
       "    </tr>\n",
       "  </thead>\n",
       "  <tbody>\n",
       "    <tr>\n",
       "      <th>0</th>\n",
       "      <td>10</td>\n",
       "      <td>142.44</td>\n",
       "      <td>1</td>\n",
       "      <td>0</td>\n",
       "      <td>Surburban</td>\n",
       "      <td>0</td>\n",
       "      <td>Phone</td>\n",
       "      <td>Buy One Get One</td>\n",
       "      <td>0</td>\n",
       "    </tr>\n",
       "    <tr>\n",
       "      <th>1</th>\n",
       "      <td>6</td>\n",
       "      <td>329.08</td>\n",
       "      <td>1</td>\n",
       "      <td>1</td>\n",
       "      <td>Rural</td>\n",
       "      <td>1</td>\n",
       "      <td>Web</td>\n",
       "      <td>No Offer</td>\n",
       "      <td>0</td>\n",
       "    </tr>\n",
       "    <tr>\n",
       "      <th>2</th>\n",
       "      <td>7</td>\n",
       "      <td>180.65</td>\n",
       "      <td>0</td>\n",
       "      <td>1</td>\n",
       "      <td>Surburban</td>\n",
       "      <td>1</td>\n",
       "      <td>Web</td>\n",
       "      <td>Buy One Get One</td>\n",
       "      <td>0</td>\n",
       "    </tr>\n",
       "    <tr>\n",
       "      <th>3</th>\n",
       "      <td>9</td>\n",
       "      <td>675.83</td>\n",
       "      <td>1</td>\n",
       "      <td>0</td>\n",
       "      <td>Rural</td>\n",
       "      <td>1</td>\n",
       "      <td>Web</td>\n",
       "      <td>Discount</td>\n",
       "      <td>0</td>\n",
       "    </tr>\n",
       "    <tr>\n",
       "      <th>4</th>\n",
       "      <td>2</td>\n",
       "      <td>45.34</td>\n",
       "      <td>1</td>\n",
       "      <td>0</td>\n",
       "      <td>Urban</td>\n",
       "      <td>0</td>\n",
       "      <td>Web</td>\n",
       "      <td>Buy One Get One</td>\n",
       "      <td>0</td>\n",
       "    </tr>\n",
       "  </tbody>\n",
       "</table>\n",
       "</div>"
      ],
      "text/plain": [
       "   recency  history  used_discount  used_bogo   zip_code  is_referral channel  \\\n",
       "0       10   142.44              1          0  Surburban            0   Phone   \n",
       "1        6   329.08              1          1      Rural            1     Web   \n",
       "2        7   180.65              0          1  Surburban            1     Web   \n",
       "3        9   675.83              1          0      Rural            1     Web   \n",
       "4        2    45.34              1          0      Urban            0     Web   \n",
       "\n",
       "             offer  conversion  \n",
       "0  Buy One Get One           0  \n",
       "1         No Offer           0  \n",
       "2  Buy One Get One           0  \n",
       "3         Discount           0  \n",
       "4  Buy One Get One           0  "
      ]
     },
     "execution_count": 15,
     "metadata": {},
     "output_type": "execute_result"
    }
   ],
   "source": [
    "df.head()"
   ]
  },
  {
   "cell_type": "code",
   "execution_count": 18,
   "metadata": {},
   "outputs": [],
   "source": [
    "df['treatment'] = np.where(df['offer'] == 'No Offer', 0, 1)\n",
    "lb_make = LabelEncoder()\n",
    "df['zip_code'] = lb_make.fit_transform(df['zip_code'])\n",
    "df['channel'] =  lb_make.fit_transform(df['channel'])"
   ]
  },
  {
   "cell_type": "code",
   "execution_count": 29,
   "metadata": {},
   "outputs": [],
   "source": [
    "treatment = \"treatment\"\n",
    "outcome = \"spend\"\n",
    "cov = ['recency', 'history', 'used_discount', 'used_bogo', \n",
    "       'zip_code','is_referral', 'channel', 'conversion']\n",
    "col = ['recency', 'history', 'used_discount', 'used_bogo', \n",
    "       'zip_code','is_referral', 'channel', \n",
    "       'offer', 'conversion', 'treatment']"
   ]
  },
  {
   "cell_type": "code",
   "execution_count": 22,
   "metadata": {},
   "outputs": [
    {
     "data": {
      "text/html": [
       "<div>\n",
       "<style scoped>\n",
       "    .dataframe tbody tr th:only-of-type {\n",
       "        vertical-align: middle;\n",
       "    }\n",
       "\n",
       "    .dataframe tbody tr th {\n",
       "        vertical-align: top;\n",
       "    }\n",
       "\n",
       "    .dataframe thead th {\n",
       "        text-align: right;\n",
       "    }\n",
       "</style>\n",
       "<table border=\"1\" class=\"dataframe\">\n",
       "  <thead>\n",
       "    <tr style=\"text-align: right;\">\n",
       "      <th></th>\n",
       "      <th>recency</th>\n",
       "      <th>history</th>\n",
       "      <th>used_discount</th>\n",
       "      <th>used_bogo</th>\n",
       "      <th>zip_code</th>\n",
       "      <th>is_referral</th>\n",
       "      <th>channel</th>\n",
       "      <th>offer</th>\n",
       "      <th>conversion</th>\n",
       "      <th>treatment</th>\n",
       "    </tr>\n",
       "  </thead>\n",
       "  <tbody>\n",
       "    <tr>\n",
       "      <th>0</th>\n",
       "      <td>10</td>\n",
       "      <td>142.44</td>\n",
       "      <td>1</td>\n",
       "      <td>0</td>\n",
       "      <td>1</td>\n",
       "      <td>0</td>\n",
       "      <td>1</td>\n",
       "      <td>Buy One Get One</td>\n",
       "      <td>0</td>\n",
       "      <td>1</td>\n",
       "    </tr>\n",
       "    <tr>\n",
       "      <th>1</th>\n",
       "      <td>6</td>\n",
       "      <td>329.08</td>\n",
       "      <td>1</td>\n",
       "      <td>1</td>\n",
       "      <td>0</td>\n",
       "      <td>1</td>\n",
       "      <td>2</td>\n",
       "      <td>No Offer</td>\n",
       "      <td>0</td>\n",
       "      <td>0</td>\n",
       "    </tr>\n",
       "    <tr>\n",
       "      <th>2</th>\n",
       "      <td>7</td>\n",
       "      <td>180.65</td>\n",
       "      <td>0</td>\n",
       "      <td>1</td>\n",
       "      <td>1</td>\n",
       "      <td>1</td>\n",
       "      <td>2</td>\n",
       "      <td>Buy One Get One</td>\n",
       "      <td>0</td>\n",
       "      <td>1</td>\n",
       "    </tr>\n",
       "    <tr>\n",
       "      <th>3</th>\n",
       "      <td>9</td>\n",
       "      <td>675.83</td>\n",
       "      <td>1</td>\n",
       "      <td>0</td>\n",
       "      <td>0</td>\n",
       "      <td>1</td>\n",
       "      <td>2</td>\n",
       "      <td>Discount</td>\n",
       "      <td>0</td>\n",
       "      <td>1</td>\n",
       "    </tr>\n",
       "    <tr>\n",
       "      <th>4</th>\n",
       "      <td>2</td>\n",
       "      <td>45.34</td>\n",
       "      <td>1</td>\n",
       "      <td>0</td>\n",
       "      <td>2</td>\n",
       "      <td>0</td>\n",
       "      <td>2</td>\n",
       "      <td>Buy One Get One</td>\n",
       "      <td>0</td>\n",
       "      <td>1</td>\n",
       "    </tr>\n",
       "  </tbody>\n",
       "</table>\n",
       "</div>"
      ],
      "text/plain": [
       "   recency  history  used_discount  used_bogo  zip_code  is_referral  channel  \\\n",
       "0       10   142.44              1          0         1            0        1   \n",
       "1        6   329.08              1          1         0            1        2   \n",
       "2        7   180.65              0          1         1            1        2   \n",
       "3        9   675.83              1          0         0            1        2   \n",
       "4        2    45.34              1          0         2            0        2   \n",
       "\n",
       "             offer  conversion  treatment  \n",
       "0  Buy One Get One           0          1  \n",
       "1         No Offer           0          0  \n",
       "2  Buy One Get One           0          1  \n",
       "3         Discount           0          1  \n",
       "4  Buy One Get One           0          1  "
      ]
     },
     "execution_count": 22,
     "metadata": {},
     "output_type": "execute_result"
    }
   ],
   "source": [
    "df.head()"
   ]
  },
  {
   "cell_type": "code",
   "execution_count": 25,
   "metadata": {},
   "outputs": [
    {
     "data": {
      "text/plain": [
       "1    42694\n",
       "0    21306\n",
       "Name: treatment, dtype: int64"
      ]
     },
     "execution_count": 25,
     "metadata": {},
     "output_type": "execute_result"
    }
   ],
   "source": [
    "df.treatment.value_counts()"
   ]
  },
  {
   "cell_type": "code",
   "execution_count": 23,
   "metadata": {},
   "outputs": [],
   "source": [
    "#function for calculating the uplift\n",
    "def calc_uplift(df):\n",
    "    avg_order_value = 25\n",
    "    \n",
    "    #calculate conversions for each offer type\n",
    "    base_conv = df[df.treatment == 0]['conversion'].mean()\n",
    "    disc_conv = df[df.treatment == 1]['conversion'].mean()\n",
    "    \n",
    "    #calculate conversion uplift for discount and bogo\n",
    "    disc_conv_uplift = disc_conv - base_conv\n",
    "    \n",
    "    #calculate order uplift\n",
    "    disc_order_uplift = disc_conv_uplift * len(df[df.treatment == 1]['conversion'])\n",
    "    \n",
    "    #calculate revenue uplift\n",
    "    disc_rev_uplift = disc_order_uplift * avg_order_value\n",
    "    \n",
    "    \n",
    "    print('Discount Conversion Uplift: {0}%'.format(np.round(disc_conv_uplift*100,2)))\n",
    "    print('Discount Order Uplift: {0}'.format(np.round(disc_order_uplift,2)))\n",
    "    print('Discount Revenue Uplift: ${0}\\n'.format(np.round(disc_rev_uplift,2)))\n",
    "    "
   ]
  },
  {
   "cell_type": "code",
   "execution_count": 24,
   "metadata": {},
   "outputs": [
    {
     "name": "stdout",
     "output_type": "stream",
     "text": [
      "Discount Conversion Uplift: 6.09%\n",
      "Discount Order Uplift: 2599.29\n",
      "Discount Revenue Uplift: $64982.36\n",
      "\n"
     ]
    }
   ],
   "source": [
    "calc_uplift(df)"
   ]
  },
  {
   "cell_type": "code",
   "execution_count": 27,
   "metadata": {},
   "outputs": [],
   "source": [
    "# results:\n",
    "# Discount Conversion Uplift: 6.09%\n",
    "# Discount Order Uplift: 2599.29\n",
    "# Discount Revenue Uplift: $64982.36\n",
    "    \n",
    "# User Count: 10745\n",
    "# Discount Conversion Uplift: 5.63%\n",
    "# Discount Order Uplift: 604.62\n",
    "# Discount Revenue Uplift: $15115.52\n",
    "# Revenue Uplift Per Targeted Customer: $1.4\n",
    "\n",
    "# results:\n",
    "# User Count: 5282\n",
    "# Discount Conversion Uplift: 12.18%\n",
    "# Discount Order Uplift: 643.57\n",
    "# Discount Revenue Uplift: $16089.36\n",
    "# Revenue Uplift Per Targeted Customer: $3.04"
   ]
  },
  {
   "cell_type": "markdown",
   "metadata": {},
   "source": [
    "## Model "
   ]
  },
  {
   "cell_type": "code",
   "execution_count": 30,
   "metadata": {},
   "outputs": [
    {
     "data": {
      "text/plain": [
       "LogisticRegression()"
      ]
     },
     "execution_count": 30,
     "metadata": {},
     "output_type": "execute_result"
    }
   ],
   "source": [
    "model_t = LogisticRegression()\n",
    "model_t.fit(df[cov], df[treatment])"
   ]
  },
  {
   "cell_type": "code",
   "execution_count": 33,
   "metadata": {},
   "outputs": [],
   "source": [
    "df['p1'] = 1 - model_t.predict_proba(df[cov])[:,:1]\n",
    "df['p0'] = model_t.predict_proba(df[cov])[:,:1]"
   ]
  },
  {
   "cell_type": "code",
   "execution_count": 34,
   "metadata": {},
   "outputs": [
    {
     "data": {
      "text/html": [
       "<div>\n",
       "<style scoped>\n",
       "    .dataframe tbody tr th:only-of-type {\n",
       "        vertical-align: middle;\n",
       "    }\n",
       "\n",
       "    .dataframe tbody tr th {\n",
       "        vertical-align: top;\n",
       "    }\n",
       "\n",
       "    .dataframe thead th {\n",
       "        text-align: right;\n",
       "    }\n",
       "</style>\n",
       "<table border=\"1\" class=\"dataframe\">\n",
       "  <thead>\n",
       "    <tr style=\"text-align: right;\">\n",
       "      <th></th>\n",
       "      <th>recency</th>\n",
       "      <th>history</th>\n",
       "      <th>used_discount</th>\n",
       "      <th>used_bogo</th>\n",
       "      <th>zip_code</th>\n",
       "      <th>is_referral</th>\n",
       "      <th>channel</th>\n",
       "      <th>offer</th>\n",
       "      <th>conversion</th>\n",
       "      <th>treatment</th>\n",
       "      <th>p1</th>\n",
       "      <th>p0</th>\n",
       "    </tr>\n",
       "  </thead>\n",
       "  <tbody>\n",
       "    <tr>\n",
       "      <th>0</th>\n",
       "      <td>10</td>\n",
       "      <td>142.44</td>\n",
       "      <td>1</td>\n",
       "      <td>0</td>\n",
       "      <td>1</td>\n",
       "      <td>0</td>\n",
       "      <td>1</td>\n",
       "      <td>Buy One Get One</td>\n",
       "      <td>0</td>\n",
       "      <td>1</td>\n",
       "      <td>0.654940</td>\n",
       "      <td>0.345060</td>\n",
       "    </tr>\n",
       "    <tr>\n",
       "      <th>1</th>\n",
       "      <td>6</td>\n",
       "      <td>329.08</td>\n",
       "      <td>1</td>\n",
       "      <td>1</td>\n",
       "      <td>0</td>\n",
       "      <td>1</td>\n",
       "      <td>2</td>\n",
       "      <td>No Offer</td>\n",
       "      <td>0</td>\n",
       "      <td>0</td>\n",
       "      <td>0.651035</td>\n",
       "      <td>0.348965</td>\n",
       "    </tr>\n",
       "    <tr>\n",
       "      <th>2</th>\n",
       "      <td>7</td>\n",
       "      <td>180.65</td>\n",
       "      <td>0</td>\n",
       "      <td>1</td>\n",
       "      <td>1</td>\n",
       "      <td>1</td>\n",
       "      <td>2</td>\n",
       "      <td>Buy One Get One</td>\n",
       "      <td>0</td>\n",
       "      <td>1</td>\n",
       "      <td>0.652539</td>\n",
       "      <td>0.347461</td>\n",
       "    </tr>\n",
       "    <tr>\n",
       "      <th>3</th>\n",
       "      <td>9</td>\n",
       "      <td>675.83</td>\n",
       "      <td>1</td>\n",
       "      <td>0</td>\n",
       "      <td>0</td>\n",
       "      <td>1</td>\n",
       "      <td>2</td>\n",
       "      <td>Discount</td>\n",
       "      <td>0</td>\n",
       "      <td>1</td>\n",
       "      <td>0.657202</td>\n",
       "      <td>0.342798</td>\n",
       "    </tr>\n",
       "    <tr>\n",
       "      <th>4</th>\n",
       "      <td>2</td>\n",
       "      <td>45.34</td>\n",
       "      <td>1</td>\n",
       "      <td>0</td>\n",
       "      <td>2</td>\n",
       "      <td>0</td>\n",
       "      <td>2</td>\n",
       "      <td>Buy One Get One</td>\n",
       "      <td>0</td>\n",
       "      <td>1</td>\n",
       "      <td>0.648013</td>\n",
       "      <td>0.351987</td>\n",
       "    </tr>\n",
       "  </tbody>\n",
       "</table>\n",
       "</div>"
      ],
      "text/plain": [
       "   recency  history  used_discount  used_bogo  zip_code  is_referral  channel  \\\n",
       "0       10   142.44              1          0         1            0        1   \n",
       "1        6   329.08              1          1         0            1        2   \n",
       "2        7   180.65              0          1         1            1        2   \n",
       "3        9   675.83              1          0         0            1        2   \n",
       "4        2    45.34              1          0         2            0        2   \n",
       "\n",
       "             offer  conversion  treatment        p1        p0  \n",
       "0  Buy One Get One           0          1  0.654940  0.345060  \n",
       "1         No Offer           0          0  0.651035  0.348965  \n",
       "2  Buy One Get One           0          1  0.652539  0.347461  \n",
       "3         Discount           0          1  0.657202  0.342798  \n",
       "4  Buy One Get One           0          1  0.648013  0.351987  "
      ]
     },
     "execution_count": 34,
     "metadata": {},
     "output_type": "execute_result"
    }
   ],
   "source": [
    "df.head()"
   ]
  },
  {
   "cell_type": "code",
   "execution_count": 41,
   "metadata": {},
   "outputs": [],
   "source": [
    "def compare_dic(dic, dict_):\n",
    "    for i in dict_:\n",
    "        if i == dic:\n",
    "            return False\n",
    "    return True"
   ]
  },
  {
   "cell_type": "code",
   "execution_count": 55,
   "metadata": {},
   "outputs": [
    {
     "name": "stderr",
     "output_type": "stream",
     "text": [
      "  0%|          | 4/64000 [00:00<31:42, 33.65it/s]"
     ]
    },
    {
     "name": "stdout",
     "output_type": "stream",
     "text": [
      "1    42694\n",
      "0    21306\n",
      "Name: treatment, dtype: int64\n",
      "Delta  0.6899441729460245\n",
      "Q1  [0.56701401 0.56277837 0.56440861 ... 0.5580406  0.54510316 0.55931047]\n",
      "****************************************************************************************************\n",
      "Delta  0.341112023548789\n",
      "Q1  [0.39299954 0.38889626 0.39047265 ... 0.38433556 0.37203527 0.38555499]\n",
      "****************************************************************************************************\n",
      "Delta  0.1803279945415621\n",
      "Q1  [0.25499354 0.25173361 0.25298417 ... 0.24812833 0.23849854 0.24909044]\n",
      "****************************************************************************************************\n"
     ]
    },
    {
     "name": "stderr",
     "output_type": "stream",
     "text": [
      "  0%|          | 16/64000 [00:00<28:51, 36.96it/s]"
     ]
    },
    {
     "name": "stdout",
     "output_type": "stream",
     "text": [
      "Delta  0.5285242191474473\n",
      "Q1  [0.50078914 0.49648096 0.49813796 ... 0.49167368 0.47860865 0.49296098]\n",
      "****************************************************************************************************\n"
     ]
    },
    {
     "name": "stderr",
     "output_type": "stream",
     "text": [
      "  0%|          | 25/64000 [00:00<27:52, 38.25it/s]"
     ]
    },
    {
     "name": "stdout",
     "output_type": "stream",
     "text": [
      "Delta  0.5541795972362604\n",
      "Q1  [0.5126365  0.50833018 0.50998667 ... 0.5035229  0.4904468  0.50481041]\n",
      "****************************************************************************************************\n",
      "Delta  0.5591145648455584\n",
      "Q1  [0.51485122 0.51054578 0.51220197 ... 0.5057391  0.49266256 0.5070265 ]\n",
      "****************************************************************************************************\n"
     ]
    },
    {
     "name": "stderr",
     "output_type": "stream",
     "text": [
      "  0%|          | 38/64000 [00:00<27:04, 39.39it/s]"
     ]
    },
    {
     "name": "stdout",
     "output_type": "stream",
     "text": [
      "Delta  0.3233305496018423\n",
      "Q1  [0.38030429 0.3762514  0.37780822 ... 0.37174878 0.35961602 0.37295246]\n",
      "****************************************************************************************************\n"
     ]
    },
    {
     "name": "stderr",
     "output_type": "stream",
     "text": [
      "  0%|          | 56/64000 [00:01<27:27, 38.82it/s]"
     ]
    },
    {
     "name": "stdout",
     "output_type": "stream",
     "text": [
      "Delta  0.5641758087926418\n",
      "Q1  [0.51710179 0.51279743 0.51445325 ... 0.50799155 0.49491509 0.50927877]\n",
      "****************************************************************************************************\n",
      "Delta  0.5225470514808735\n",
      "Q1  [0.49794576 0.49363784 0.49529469 ... 0.48883137 0.47577118 0.4901184 ]\n",
      "****************************************************************************************************\n"
     ]
    },
    {
     "name": "stderr",
     "output_type": "stream",
     "text": [
      "  0%|          | 64/64000 [00:01<27:47, 38.34it/s]"
     ]
    },
    {
     "name": "stdout",
     "output_type": "stream",
     "text": [
      "Delta  0.5456470636410063\n",
      "Q1  [0.50875918 0.50445172 0.50610858 ... 0.49964384 0.48656975 0.50093145]\n",
      "****************************************************************************************************\n",
      "Delta  0.57433570458679\n",
      "Q1  [0.52155713 0.51725541 0.51891029 ... 0.5124517  0.49937695 0.51373842]\n",
      "****************************************************************************************************\n"
     ]
    },
    {
     "name": "stderr",
     "output_type": "stream",
     "text": [
      "  0%|          | 77/64000 [00:01<27:04, 39.36it/s]"
     ]
    },
    {
     "name": "stdout",
     "output_type": "stream",
     "text": [
      "Delta  0.31510542330914815\n",
      "Q1  [0.3742505  0.37022358 0.37177033 ... 0.36575079 0.35370358 0.3669464 ]\n",
      "****************************************************************************************************\n",
      "Delta  0.30596488862082105\n",
      "Q1  [0.36738267 0.36338674 0.36492147 ... 0.35894947 0.34700372 0.36013547]\n",
      "****************************************************************************************************\n",
      "Delta  0.5086581586294724\n",
      "Q1  [0.49121194 0.48690579 0.48856184 ... 0.48210245 0.46905707 0.48338852]\n",
      "****************************************************************************************************\n"
     ]
    },
    {
     "name": "stderr",
     "output_type": "stream",
     "text": [
      "  0%|          | 87/64000 [00:02<26:55, 39.57it/s]"
     ]
    },
    {
     "name": "stdout",
     "output_type": "stream",
     "text": [
      "Delta  0.5818791811397762\n",
      "Q1  [0.5248123  0.52051293 0.52216696 ... 0.51571129 0.50263911 0.51699751]\n",
      "****************************************************************************************************\n",
      "Delta  0.5597635070604299\n",
      "Q1  [0.51514095 0.51083564 0.51249179 ... 0.50602906 0.49295249 0.50731643]\n",
      "****************************************************************************************************\n"
     ]
    },
    {
     "name": "stderr",
     "output_type": "stream",
     "text": [
      "  0%|          | 100/64000 [00:02<26:52, 39.62it/s]"
     ]
    },
    {
     "name": "stdout",
     "output_type": "stream",
     "text": [
      "Delta  0.48518428353082277\n",
      "Q1  [0.47941083 0.47511152 0.47676474 ... 0.47031789 0.45730982 0.47160115]\n",
      "****************************************************************************************************\n",
      "Delta  0.5895743194705622\n",
      "Q1  [0.52808758 0.52379096 0.52544399 ... 0.51899181 0.50592335 0.52027743]\n",
      "****************************************************************************************************\n",
      "Delta  0.5036495581623573\n",
      "Q1  [0.48873907 0.48443395 0.48608956 ... 0.47963221 0.46659345 0.48091781]\n",
      "****************************************************************************************************\n"
     ]
    },
    {
     "name": "stderr",
     "output_type": "stream",
     "text": [
      "  0%|          | 110/64000 [00:02<26:24, 40.31it/s]"
     ]
    },
    {
     "name": "stdout",
     "output_type": "stream",
     "text": [
      "Delta  0.33502670102720455\n",
      "Q1  [0.38871383 0.38462694 0.38619696 ... 0.38008516 0.36783963 0.38129946]\n",
      "****************************************************************************************************\n",
      "Delta  0.5317705692779235\n",
      "Q1  [0.50232    0.49801179 0.49966883 ... 0.4932042  0.48013692 0.49449162]\n",
      "****************************************************************************************************\n",
      "Delta  0.3018517550731262\n",
      "Q1  [0.36424281 0.36026158 0.36179061 ... 0.35584114 0.34394333 0.35702259]\n",
      "****************************************************************************************************\n"
     ]
    },
    {
     "name": "stderr",
     "output_type": "stream",
     "text": [
      "  0%|          | 120/64000 [00:03<26:35, 40.04it/s]"
     ]
    },
    {
     "name": "stdout",
     "output_type": "stream",
     "text": [
      "Delta  0.5371480698484333\n",
      "Q1  [0.50483528 0.50052719 0.50218423 ... 0.4957193  0.48264885 0.49700684]\n",
      "****************************************************************************************************\n",
      "Delta  0.5717461568800988\n",
      "Q1  [0.52042939 0.51612692 0.51778207 ... 0.51132259 0.49824721 0.51260946]\n",
      "****************************************************************************************************\n"
     ]
    },
    {
     "name": "stderr",
     "output_type": "stream",
     "text": [
      "  0%|          | 151/64000 [00:03<26:55, 39.53it/s]"
     ]
    },
    {
     "name": "stdout",
     "output_type": "stream",
     "text": [
      "Delta  0.28060839042195074\n",
      "Q1  [0.34751689 0.34361967 0.34511618 ... 0.33929513 0.32766914 0.34045068]\n",
      "****************************************************************************************************\n",
      "Delta  0.48770289425382657\n",
      "Q1  [0.48070318 0.47640288 0.4780565  ... 0.47160793 0.45859506 0.47289157]\n",
      "****************************************************************************************************\n",
      "Delta  0.511047090590888\n",
      "Q1  [0.49238301 0.48807644 0.48973267 ... 0.48327243 0.47022414 0.48455871]\n",
      "****************************************************************************************************\n",
      "Delta  0.3018048632656074\n",
      "Q1  [0.36420683 0.36022577 0.36175474 ... 0.35580553 0.34390828 0.35698692]\n",
      "****************************************************************************************************\n",
      "Delta  0.3160954234751313\n",
      "Q1  [0.3749854  0.37095527 0.37250326 ... 0.36647879 0.35442099 0.36767539]\n",
      "****************************************************************************************************\n",
      "Delta  0.5649766833045627\n",
      "Q1  [0.51745601 0.51315182 0.51480758 ... 0.50834609 0.49526969 0.50963328]\n",
      "****************************************************************************************************\n"
     ]
    },
    {
     "name": "stderr",
     "output_type": "stream",
     "text": [
      "  0%|          | 168/64000 [00:04<29:08, 36.50it/s]"
     ]
    },
    {
     "name": "stdout",
     "output_type": "stream",
     "text": [
      "Delta  0.536297797345892\n",
      "Q1  [0.50443927 0.50013114 0.50178819 ... 0.49532329 0.48225329 0.49661081]\n",
      "****************************************************************************************************\n",
      "Delta  0.5378328738509737\n",
      "Q1  [0.50515377 0.50084571 0.50250274 ... 0.4960378  0.48296699 0.49732535]\n",
      "****************************************************************************************************\n"
     ]
    },
    {
     "name": "stderr",
     "output_type": "stream",
     "text": [
      "  0%|          | 180/64000 [00:04<28:31, 37.29it/s]"
     ]
    },
    {
     "name": "stdout",
     "output_type": "stream",
     "text": [
      "Delta  0.3149778774952492\n",
      "Q1  [0.37415569 0.37012919 0.37167578 ... 0.36565688 0.35361104 0.36685236]\n",
      "****************************************************************************************************\n"
     ]
    },
    {
     "name": "stderr",
     "output_type": "stream",
     "text": [
      "  0%|          | 189/64000 [00:04<28:52, 36.83it/s]"
     ]
    },
    {
     "name": "stdout",
     "output_type": "stream",
     "text": [
      "Delta  0.3035051688582921\n",
      "Q1  [0.36550872 0.36152152 0.36305287 ... 0.35709426 0.345177   0.35827755]\n",
      "****************************************************************************************************\n",
      "Delta  0.556083366600382\n",
      "Q1  [0.51349327 0.50918726 0.51084365 ... 0.5043802  0.49130386 0.50566767]\n",
      "****************************************************************************************************\n"
     ]
    },
    {
     "name": "stderr",
     "output_type": "stream",
     "text": [
      "  0%|          | 202/64000 [00:05<28:53, 36.80it/s]"
     ]
    },
    {
     "name": "stdout",
     "output_type": "stream",
     "text": [
      "Delta  0.29403549841918153\n",
      "Q1  [0.35818935 0.35423742 0.35575511 ... 0.34985048 0.33804786 0.35102288]\n",
      "****************************************************************************************************\n",
      "Delta  0.5162803143693749\n",
      "Q1  [0.49492963 0.49062231 0.49227888 ... 0.48581702 0.47276289 0.48710368]\n",
      "****************************************************************************************************\n"
     ]
    },
    {
     "name": "stderr",
     "output_type": "stream",
     "text": [
      "  0%|          | 211/64000 [00:05<27:29, 38.66it/s]"
     ]
    },
    {
     "name": "stdout",
     "output_type": "stream",
     "text": [
      "Delta  0.585048853926724\n",
      "Q1  [0.5261669  0.52186862 0.52352226 ... 0.51706796 0.50399718 0.51835395]\n",
      "****************************************************************************************************\n",
      "Delta  0.320840397578611\n",
      "Q1  [0.37848391 0.3744387  0.37599254 ... 0.3699449  0.35783748 0.37114619]\n",
      "****************************************************************************************************\n",
      "Delta  0.5050368434030722\n",
      "Q1  [0.48942641 0.48512098 0.48677673 ... 0.48031877 0.46727811 0.48160451]\n",
      "****************************************************************************************************\n"
     ]
    },
    {
     "name": "stderr",
     "output_type": "stream",
     "text": [
      "  0%|          | 223/64000 [00:05<28:16, 37.60it/s]"
     ]
    },
    {
     "name": "stdout",
     "output_type": "stream",
     "text": [
      "Delta  0.2957352172571875\n",
      "Q1  [0.35951552 0.35555707 0.35707728 ... 0.35116267 0.33933888 0.35233708]\n",
      "****************************************************************************************************\n",
      "Delta  0.5540506695641713\n",
      "Q1  [0.51257837 0.50827202 0.50992853 ... 0.50346473 0.49038865 0.50475225]\n",
      "****************************************************************************************************\n",
      "Delta  0.5474222637792578\n",
      "Q1  [0.50957094 0.50526366 0.50692047 ... 0.50045587 0.48738123 0.50174347]\n",
      "****************************************************************************************************\n"
     ]
    },
    {
     "name": "stderr",
     "output_type": "stream",
     "text": [
      "  0%|          | 239/64000 [00:06<29:00, 36.64it/s]"
     ]
    },
    {
     "name": "stdout",
     "output_type": "stream",
     "text": [
      "Delta  0.5447174511166897\n",
      "Q1  [0.50833302 0.50402546 0.50568236 ... 0.49921756 0.48614378 0.50050516]\n",
      "****************************************************************************************************\n",
      "Delta  0.5525831540065504\n",
      "Q1  [0.51191571 0.50760914 0.50926572 ... 0.5028017  0.48972586 0.50408925]\n",
      "****************************************************************************************************\n"
     ]
    },
    {
     "name": "stderr",
     "output_type": "stream",
     "text": [
      "  0%|          | 259/64000 [00:06<29:06, 36.49it/s]"
     ]
    },
    {
     "name": "stdout",
     "output_type": "stream",
     "text": [
      "Delta  0.509577876207093\n",
      "Q1  [0.49166343 0.48735711 0.48901324 ... 0.48255351 0.46950699 0.48383966]\n",
      "****************************************************************************************************\n",
      "Delta  0.5178454663593037\n",
      "Q1  [0.49568631 0.49137881 0.49303546 ... 0.4865732  0.47351745 0.48785996]\n",
      "****************************************************************************************************\n",
      "Delta  0.3126572373268196\n",
      "Q1  [0.37242569 0.36840685 0.36995047 ... 0.36394333 0.35192262 0.36513643]\n",
      "****************************************************************************************************\n"
     ]
    },
    {
     "name": "stderr",
     "output_type": "stream",
     "text": [
      "  0%|          | 268/64000 [00:07<29:20, 36.19it/s]"
     ]
    },
    {
     "name": "stdout",
     "output_type": "stream",
     "text": [
      "Delta  0.4899753433138115\n",
      "Q1  [0.48186372 0.47756259 0.47921655 ... 0.4727665  0.45974948 0.47405046]\n",
      "****************************************************************************************************\n",
      "Delta  0.29654489998257116\n",
      "Q1  [0.36014533 0.3561838  0.35770521 ... 0.35178589 0.33995211 0.35296125]\n",
      "****************************************************************************************************\n"
     ]
    },
    {
     "name": "stderr",
     "output_type": "stream",
     "text": [
      "  0%|          | 301/64000 [00:07<28:13, 37.61it/s]"
     ]
    },
    {
     "name": "stdout",
     "output_type": "stream",
     "text": [
      "Delta  0.30076964122509164\n",
      "Q1  [0.36341156 0.35943428 0.36096179 ... 0.35501836 0.34313341 0.35619859]\n",
      "****************************************************************************************************\n",
      "Delta  0.5460219649950422\n",
      "Q1  [0.50893084 0.50462341 0.50628027 ... 0.49981555 0.48674134 0.50110316]\n",
      "****************************************************************************************************\n",
      "Delta  0.5335221422924143\n",
      "Q1  [0.50314209 0.49883389 0.50049094 ... 0.49402618 0.48095779 0.49531364]\n",
      "****************************************************************************************************\n",
      "Delta  0.5118985063733646\n",
      "Q1  [0.49279908 0.48849237 0.49014866 ... 0.48368814 0.47063884 0.48497448]\n",
      "****************************************************************************************************\n"
     ]
    },
    {
     "name": "stderr",
     "output_type": "stream",
     "text": [
      "  0%|          | 309/64000 [00:08<28:58, 36.65it/s]"
     ]
    },
    {
     "name": "stdout",
     "output_type": "stream",
     "text": [
      "Delta  0.5765184630174737\n",
      "Q1  [0.52250362 0.51820254 0.51985719 ... 0.51339938 0.50032527 0.51468597]\n",
      "****************************************************************************************************\n",
      "Delta  0.3005440359937828\n",
      "Q1  [0.36323798 0.35926153 0.36078872 ... 0.35484656 0.3429643  0.35602653]\n",
      "****************************************************************************************************\n"
     ]
    },
    {
     "name": "stderr",
     "output_type": "stream",
     "text": [
      "  0%|          | 317/64000 [00:08<29:55, 35.46it/s]"
     ]
    },
    {
     "name": "stdout",
     "output_type": "stream",
     "text": [
      "Delta  0.3169743190977461\n",
      "Q1  [0.37563639 0.37160342 0.37315251 ... 0.36712368 0.35505656 0.36832116]\n",
      "****************************************************************************************************\n",
      "Delta  0.5779591062929129\n",
      "Q1  [0.52312625 0.51882562 0.52048011 ... 0.51402285 0.50094921 0.51530935]\n",
      "****************************************************************************************************\n",
      "Delta  0.2865968711353135\n",
      "Q1  [0.35232033 0.348398   0.34990423 ... 0.34404485 0.33233797 0.34520812]\n",
      "****************************************************************************************************\n"
     ]
    },
    {
     "name": "stderr",
     "output_type": "stream",
     "text": [
      "  1%|          | 338/64000 [00:08<27:47, 38.17it/s]"
     ]
    },
    {
     "name": "stdout",
     "output_type": "stream",
     "text": [
      "Delta  0.5189840451278106\n",
      "Q1  [0.49623534 0.49192773 0.49358443 ... 0.48712189 0.47406501 0.48840872]\n",
      "****************************************************************************************************\n"
     ]
    },
    {
     "name": "stderr",
     "output_type": "stream",
     "text": [
      "  1%|          | 354/64000 [00:09<28:16, 37.51it/s]"
     ]
    },
    {
     "name": "stdout",
     "output_type": "stream",
     "text": [
      "Delta  0.3182398342446119\n",
      "Q1  [0.37657136 0.37253434 0.374085   ... 0.36804995 0.35596951 0.36924869]\n",
      "****************************************************************************************************\n",
      "Delta  0.31016280910564603\n",
      "Q1  [0.37055544 0.366545   0.36808536 ... 0.3620911  0.35009789 0.36328159]\n",
      "****************************************************************************************************\n",
      "Delta  0.5637678988866321\n",
      "Q1  [0.51692118 0.51261672 0.51427258 ... 0.50781078 0.49473428 0.50909801]\n",
      "****************************************************************************************************\n"
     ]
    },
    {
     "name": "stderr",
     "output_type": "stream",
     "text": [
      "  1%|          | 368/64000 [00:09<27:24, 38.70it/s]"
     ]
    },
    {
     "name": "stdout",
     "output_type": "stream",
     "text": [
      "Delta  0.3273504462635537\n",
      "Q1  [0.38322057 0.37915562 0.38071712 ... 0.37463912 0.36246645 0.37584656]\n",
      "****************************************************************************************************\n",
      "Delta  0.5158214415408163\n",
      "Q1  [0.49470735 0.49040009 0.49205663 ... 0.4855949  0.47254125 0.48688154]\n",
      "****************************************************************************************************\n"
     ]
    },
    {
     "name": "stderr",
     "output_type": "stream",
     "text": [
      "  1%|          | 377/64000 [00:09<27:54, 37.99it/s]"
     ]
    },
    {
     "name": "stdout",
     "output_type": "stream",
     "text": [
      "Delta  0.3177331020394449\n",
      "Q1  [0.37619732 0.37216191 0.37371195 ... 0.36767938 0.35560426 0.36887762]\n",
      "****************************************************************************************************\n",
      "Delta  0.31209755539494116\n",
      "Q1  [0.37200703 0.36799006 0.36953295 ... 0.36352868 0.35151409 0.3647212 ]\n",
      "****************************************************************************************************\n"
     ]
    },
    {
     "name": "stderr",
     "output_type": "stream",
     "text": [
      "  1%|          | 403/64000 [00:10<29:22, 36.09it/s]"
     ]
    },
    {
     "name": "stdout",
     "output_type": "stream",
     "text": [
      "Delta  0.31157684429003246\n",
      "Q1  [0.37161701 0.36760179 0.369144   ... 0.36314241 0.35113355 0.36433439]\n",
      "****************************************************************************************************\n",
      "Delta  0.30786035513534526\n",
      "Q1  [0.36881921 0.36481666 0.36635396 ... 0.36037182 0.34840446 0.36155987]\n",
      "****************************************************************************************************\n"
     ]
    },
    {
     "name": "stderr",
     "output_type": "stream",
     "text": [
      "  1%|          | 411/64000 [00:10<30:18, 34.97it/s]"
     ]
    },
    {
     "name": "stdout",
     "output_type": "stream",
     "text": [
      "Delta  0.29011800953849437\n",
      "Q1  [0.3551118  0.35117525 0.35268698 ... 0.34680587 0.33505302 0.34797352]\n",
      "****************************************************************************************************\n",
      "Delta  0.5120634600698869\n",
      "Q1  [0.49287961 0.48857287 0.49022918 ... 0.4837686  0.47071911 0.48505495]\n",
      "****************************************************************************************************\n",
      "Delta  0.5274563916616304\n",
      "Q1  [0.50028354 0.49597538 0.49763236 ... 0.49116822 0.47810399 0.49245548]\n",
      "****************************************************************************************************\n"
     ]
    },
    {
     "name": "stderr",
     "output_type": "stream",
     "text": [
      "  1%|          | 419/64000 [00:11<29:05, 36.42it/s]"
     ]
    },
    {
     "name": "stdout",
     "output_type": "stream",
     "text": [
      "Delta  0.3104257702395911\n",
      "Q1  [0.37075313 0.36674179 0.3682825  ... 0.36228687 0.35029074 0.36347764]\n",
      "****************************************************************************************************\n",
      "Delta  0.30733522910631345\n",
      "Q1  [0.36842188 0.36442116 0.36595775 ... 0.3599784  0.348017   0.36116588]\n",
      "****************************************************************************************************\n"
     ]
    },
    {
     "name": "stderr",
     "output_type": "stream",
     "text": [
      "  1%|          | 427/64000 [00:11<29:03, 36.45it/s]"
     ]
    },
    {
     "name": "stdout",
     "output_type": "stream",
     "text": [
      "Delta  0.5002264964988657\n",
      "Q1  [0.48703514 0.48273086 0.48438612 ... 0.47793035 0.46489652 0.47921559]\n",
      "****************************************************************************************************\n",
      "Delta  0.5033187864460552\n",
      "Q1  [0.48857491 0.48426987 0.48592545 ... 0.47946824 0.46642994 0.48075381]\n",
      "****************************************************************************************************\n"
     ]
    },
    {
     "name": "stderr",
     "output_type": "stream",
     "text": [
      "  1%|          | 440/64000 [00:11<28:01, 37.80it/s]"
     ]
    },
    {
     "name": "stdout",
     "output_type": "stream",
     "text": [
      "Delta  0.29681161646395177\n",
      "Q1  [0.36035253 0.35638999 0.35791178 ... 0.35199092 0.34015386 0.35316659]\n",
      "****************************************************************************************************\n",
      "Delta  0.5722945315947713\n",
      "Q1  [0.52066865 0.51636634 0.51802143 ... 0.51156213 0.49848688 0.51284897]\n",
      "****************************************************************************************************\n",
      "Delta  0.5443483724035953\n",
      "Q1  [0.50816362 0.50385602 0.50551293 ... 0.49904811 0.48597447 0.50033572]\n",
      "****************************************************************************************************\n"
     ]
    },
    {
     "name": "stderr",
     "output_type": "stream",
     "text": [
      "  1%|          | 453/64000 [00:11<27:49, 38.06it/s]"
     ]
    },
    {
     "name": "stdout",
     "output_type": "stream",
     "text": [
      "Delta  0.30044683238964587\n",
      "Q1  [0.36316317 0.35918707 0.36071412 ... 0.35477251 0.34289141 0.35595237]\n",
      "****************************************************************************************************\n"
     ]
    },
    {
     "name": "stderr",
     "output_type": "stream",
     "text": [
      "  1%|          | 462/64000 [00:12<28:05, 37.70it/s]"
     ]
    },
    {
     "name": "stdout",
     "output_type": "stream",
     "text": [
      "Delta  0.5095626013875183\n",
      "Q1  [0.49165594 0.48734962 0.48900575 ... 0.48254602 0.46949952 0.48383218]\n",
      "****************************************************************************************************\n",
      "Delta  0.49847500766516434\n",
      "Q1  [0.48615889 0.48185508 0.48351014 ... 0.47705524 0.46402407 0.47834029]\n",
      "****************************************************************************************************\n",
      "Delta  0.5533562109598957\n",
      "Q1  [0.51226501 0.50795855 0.50961509 ... 0.50315119 0.49007522 0.50443873]\n",
      "****************************************************************************************************\n",
      "Delta  0.33670580267959993\n",
      "Q1  [0.3899024  0.38581091 0.38738272 ... 0.38126381 0.36900291 0.38247955]\n",
      "****************************************************************************************************\n",
      "Delta  0.5467141786968922\n",
      "Q1  [0.50924747 0.50494012 0.50659695 ... 0.50013229 0.48705786 0.50141989]\n",
      "****************************************************************************************************\n"
     ]
    },
    {
     "name": "stderr",
     "output_type": "stream",
     "text": [
      "  1%|          | 474/64000 [00:12<27:34, 38.39it/s]"
     ]
    },
    {
     "name": "stdout",
     "output_type": "stream",
     "text": [
      "Delta  0.5695578146138903\n",
      "Q1  [0.51947221 0.51516916 0.51682452 ... 0.51036434 0.49728853 0.51165132]\n",
      "****************************************************************************************************\n"
     ]
    },
    {
     "name": "stderr",
     "output_type": "stream",
     "text": [
      "  1%|          | 482/64000 [00:12<27:26, 38.59it/s]"
     ]
    },
    {
     "name": "stdout",
     "output_type": "stream",
     "text": [
      "Delta  0.5457937853469597\n",
      "Q1  [0.50882638 0.50451892 0.50617579 ... 0.49971106 0.48663692 0.50099866]\n",
      "****************************************************************************************************\n",
      "Delta  0.5432398444769861\n",
      "Q1  [0.50765412 0.50334642 0.50500336 ... 0.49853849 0.48546526 0.49982609]\n",
      "****************************************************************************************************\n"
     ]
    },
    {
     "name": "stderr",
     "output_type": "stream",
     "text": [
      "  1%|          | 496/64000 [00:13<26:47, 39.51it/s]"
     ]
    },
    {
     "name": "stdout",
     "output_type": "stream",
     "text": [
      "Delta  0.30174311026742384\n",
      "Q1  [0.36415945 0.36017861 0.36170749 ... 0.35575863 0.3438621  0.35693995]\n",
      "****************************************************************************************************\n",
      "Delta  0.5644190060607739\n",
      "Q1  [0.51720941 0.5129051  0.5145609  ... 0.50809927 0.49502282 0.50938648]\n",
      "****************************************************************************************************\n",
      "Delta  0.5400380833089831\n",
      "Q1  [0.50617659 0.50186865 0.50352565 ... 0.4970607  0.48398882 0.49834828]\n",
      "****************************************************************************************************\n"
     ]
    },
    {
     "name": "stderr",
     "output_type": "stream",
     "text": [
      "  1%|          | 499/64000 [00:13<27:54, 37.91it/s]\n"
     ]
    },
    {
     "ename": "KeyboardInterrupt",
     "evalue": "",
     "output_type": "error",
     "traceback": [
      "\u001b[0;31m---------------------------------------------------------------------------\u001b[0m",
      "\u001b[0;31mKeyboardInterrupt\u001b[0m                         Traceback (most recent call last)",
      "\u001b[0;32m<ipython-input-55-00373298d594>\u001b[0m in \u001b[0;36m<module>\u001b[0;34m\u001b[0m\n\u001b[1;32m      8\u001b[0m     \u001b[0mq1\u001b[0m \u001b[0;34m=\u001b[0m \u001b[0;34m(\u001b[0m\u001b[0mdelta\u001b[0m \u001b[0;34m*\u001b[0m \u001b[0mdf\u001b[0m\u001b[0;34m[\u001b[0m\u001b[0;34m'p1'\u001b[0m\u001b[0;34m]\u001b[0m\u001b[0;34m)\u001b[0m \u001b[0;34m/\u001b[0m \u001b[0;34m(\u001b[0m\u001b[0mdelta\u001b[0m \u001b[0;34m*\u001b[0m \u001b[0mdf\u001b[0m\u001b[0;34m[\u001b[0m\u001b[0;34m'p1'\u001b[0m\u001b[0;34m]\u001b[0m \u001b[0;34m+\u001b[0m \u001b[0mdf\u001b[0m\u001b[0;34m[\u001b[0m\u001b[0;34m'p0'\u001b[0m\u001b[0;34m]\u001b[0m\u001b[0;34m)\u001b[0m\u001b[0;34m\u001b[0m\u001b[0;34m\u001b[0m\u001b[0m\n\u001b[1;32m      9\u001b[0m     \u001b[0mpolicy\u001b[0m \u001b[0;34m=\u001b[0m \u001b[0mnp\u001b[0m\u001b[0;34m.\u001b[0m\u001b[0marray\u001b[0m\u001b[0;34m(\u001b[0m\u001b[0;34m[\u001b[0m\u001b[0;36m1\u001b[0m \u001b[0;32mif\u001b[0m \u001b[0mi\u001b[0m \u001b[0;34m>=\u001b[0m \u001b[0;36m0.5\u001b[0m \u001b[0;32melse\u001b[0m \u001b[0;36m0\u001b[0m \u001b[0;32mfor\u001b[0m \u001b[0mi\u001b[0m \u001b[0;32min\u001b[0m \u001b[0mq1\u001b[0m\u001b[0;34m]\u001b[0m\u001b[0;34m)\u001b[0m\u001b[0;34m\u001b[0m\u001b[0;34m\u001b[0m\u001b[0m\n\u001b[0;32m---> 10\u001b[0;31m     \u001b[0md\u001b[0m \u001b[0;34m=\u001b[0m \u001b[0mdict\u001b[0m\u001b[0;34m(\u001b[0m\u001b[0mCounter\u001b[0m\u001b[0;34m(\u001b[0m\u001b[0mpolicy\u001b[0m\u001b[0;34m)\u001b[0m\u001b[0;34m)\u001b[0m\u001b[0;34m\u001b[0m\u001b[0;34m\u001b[0m\u001b[0m\n\u001b[0m\u001b[1;32m     11\u001b[0m \u001b[0;34m\u001b[0m\u001b[0m\n\u001b[1;32m     12\u001b[0m     \u001b[0mcount\u001b[0m \u001b[0;34m=\u001b[0m \u001b[0;36m0\u001b[0m\u001b[0;34m\u001b[0m\u001b[0;34m\u001b[0m\u001b[0m\n",
      "\u001b[0;32m~/.conda/envs/phd_env/lib/python3.7/collections/__init__.py\u001b[0m in \u001b[0;36m__init__\u001b[0;34m(*args, **kwds)\u001b[0m\n\u001b[1;32m    566\u001b[0m             \u001b[0;32mraise\u001b[0m \u001b[0mTypeError\u001b[0m\u001b[0;34m(\u001b[0m\u001b[0;34m'expected at most 1 arguments, got %d'\u001b[0m \u001b[0;34m%\u001b[0m \u001b[0mlen\u001b[0m\u001b[0;34m(\u001b[0m\u001b[0margs\u001b[0m\u001b[0;34m)\u001b[0m\u001b[0;34m)\u001b[0m\u001b[0;34m\u001b[0m\u001b[0;34m\u001b[0m\u001b[0m\n\u001b[1;32m    567\u001b[0m         \u001b[0msuper\u001b[0m\u001b[0;34m(\u001b[0m\u001b[0mCounter\u001b[0m\u001b[0;34m,\u001b[0m \u001b[0mself\u001b[0m\u001b[0;34m)\u001b[0m\u001b[0;34m.\u001b[0m\u001b[0m__init__\u001b[0m\u001b[0;34m(\u001b[0m\u001b[0;34m)\u001b[0m\u001b[0;34m\u001b[0m\u001b[0;34m\u001b[0m\u001b[0m\n\u001b[0;32m--> 568\u001b[0;31m         \u001b[0mself\u001b[0m\u001b[0;34m.\u001b[0m\u001b[0mupdate\u001b[0m\u001b[0;34m(\u001b[0m\u001b[0;34m*\u001b[0m\u001b[0margs\u001b[0m\u001b[0;34m,\u001b[0m \u001b[0;34m**\u001b[0m\u001b[0mkwds\u001b[0m\u001b[0;34m)\u001b[0m\u001b[0;34m\u001b[0m\u001b[0;34m\u001b[0m\u001b[0m\n\u001b[0m\u001b[1;32m    569\u001b[0m \u001b[0;34m\u001b[0m\u001b[0m\n\u001b[1;32m    570\u001b[0m     \u001b[0;32mdef\u001b[0m \u001b[0m__missing__\u001b[0m\u001b[0;34m(\u001b[0m\u001b[0mself\u001b[0m\u001b[0;34m,\u001b[0m \u001b[0mkey\u001b[0m\u001b[0;34m)\u001b[0m\u001b[0;34m:\u001b[0m\u001b[0;34m\u001b[0m\u001b[0;34m\u001b[0m\u001b[0m\n",
      "\u001b[0;32m~/.conda/envs/phd_env/lib/python3.7/collections/__init__.py\u001b[0m in \u001b[0;36mupdate\u001b[0;34m(*args, **kwds)\u001b[0m\n\u001b[1;32m    653\u001b[0m                     \u001b[0msuper\u001b[0m\u001b[0;34m(\u001b[0m\u001b[0mCounter\u001b[0m\u001b[0;34m,\u001b[0m \u001b[0mself\u001b[0m\u001b[0;34m)\u001b[0m\u001b[0;34m.\u001b[0m\u001b[0mupdate\u001b[0m\u001b[0;34m(\u001b[0m\u001b[0miterable\u001b[0m\u001b[0;34m)\u001b[0m \u001b[0;31m# fast path when counter is empty\u001b[0m\u001b[0;34m\u001b[0m\u001b[0;34m\u001b[0m\u001b[0m\n\u001b[1;32m    654\u001b[0m             \u001b[0;32melse\u001b[0m\u001b[0;34m:\u001b[0m\u001b[0;34m\u001b[0m\u001b[0;34m\u001b[0m\u001b[0m\n\u001b[0;32m--> 655\u001b[0;31m                 \u001b[0m_count_elements\u001b[0m\u001b[0;34m(\u001b[0m\u001b[0mself\u001b[0m\u001b[0;34m,\u001b[0m \u001b[0miterable\u001b[0m\u001b[0;34m)\u001b[0m\u001b[0;34m\u001b[0m\u001b[0;34m\u001b[0m\u001b[0m\n\u001b[0m\u001b[1;32m    656\u001b[0m         \u001b[0;32mif\u001b[0m \u001b[0mkwds\u001b[0m\u001b[0;34m:\u001b[0m\u001b[0;34m\u001b[0m\u001b[0;34m\u001b[0m\u001b[0m\n\u001b[1;32m    657\u001b[0m             \u001b[0mself\u001b[0m\u001b[0;34m.\u001b[0m\u001b[0mupdate\u001b[0m\u001b[0;34m(\u001b[0m\u001b[0mkwds\u001b[0m\u001b[0;34m)\u001b[0m\u001b[0;34m\u001b[0m\u001b[0;34m\u001b[0m\u001b[0m\n",
      "\u001b[0;31mKeyboardInterrupt\u001b[0m: "
     ]
    }
   ],
   "source": [
    "print(df.treatment.value_counts())\n",
    "from collections import Counter\n",
    "delta_seq = np.random.uniform(low=0.01, high=1, size=(len(df),))\n",
    "rev_seq = []\n",
    "dictionary_ = []\n",
    "for delta in tqdm(delta_seq):\n",
    "    #delta = np.random.uniform(low=0.01, high=1, size=(len(df),))\n",
    "    q1 = (delta * df['p1']) / (delta * df['p1'] + df['p0'])\n",
    "    policy = np.array([1 if i >= 0.5 else 0 for i in q1])\n",
    "    d = dict(Counter(policy))\n",
    "    \n",
    "    count = 0\n",
    "    if 1 not in d:\n",
    "        count = 0\n",
    "    else:\n",
    "        count = d[1]\n",
    "        \n",
    "    if count not in dictionary_:\n",
    "        dictionary_.append(count)\n",
    "        print(\"Delta \",delta)\n",
    "        print(\"Q1 \", q1.values)\n",
    "        print(\"*\"*100)"
   ]
  },
  {
   "cell_type": "markdown",
   "metadata": {},
   "source": [
    "## Reference \n",
    "- https://towardsdatascience.com/market-response-models-baf9f9913298"
   ]
  }
 ],
 "metadata": {
  "kernelspec": {
   "display_name": "Python [conda env:.conda-phd_env] *",
   "language": "python",
   "name": "conda-env-.conda-phd_env-py"
  },
  "language_info": {
   "codemirror_mode": {
    "name": "ipython",
    "version": 3
   },
   "file_extension": ".py",
   "mimetype": "text/x-python",
   "name": "python",
   "nbconvert_exporter": "python",
   "pygments_lexer": "ipython3",
   "version": "3.7.7"
  },
  "toc": {
   "base_numbering": 1,
   "nav_menu": {},
   "number_sections": true,
   "sideBar": true,
   "skip_h1_title": false,
   "title_cell": "Table of Contents",
   "title_sidebar": "Contents",
   "toc_cell": false,
   "toc_position": {},
   "toc_section_display": true,
   "toc_window_display": false
  }
 },
 "nbformat": 4,
 "nbformat_minor": 4
}
