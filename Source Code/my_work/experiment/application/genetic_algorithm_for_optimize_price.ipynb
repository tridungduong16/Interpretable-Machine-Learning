{
 "cells": [
  {
   "cell_type": "code",
   "execution_count": 1,
   "metadata": {},
   "outputs": [],
   "source": [
    "import numpy as np\n",
    "\n",
    "import sys\n",
    "sys.path.insert(\n",
    "    1,\n",
    "    '/home/trduong/Data/interpretable_machine_learning/Source Code/my_work/lib'\n",
    ")\n",
    "\n",
    "import numpy as np\n",
    "import pandas as pd\n",
    "import logging\n",
    "import incremental_ps_score_estimator as ipse\n",
    "import utils\n",
    "\n",
    "\n",
    "from sklearn.ensemble import RandomForestClassifier, GradientBoostingRegressor, GradientBoostingClassifier\n",
    "from sklearn.linear_model import LogisticRegression\n",
    "from geneticalgorithm import geneticalgorithm as ga\n"
   ]
  },
  {
   "cell_type": "code",
   "execution_count": 2,
   "metadata": {},
   "outputs": [],
   "source": [
    "file_path = \"https://msalicedatapublic.blob.core.windows.net/datasets/Pricing/pricing_sample.csv\"\n",
    "train_data = pd.read_csv(file_path)"
   ]
  },
  {
   "cell_type": "code",
   "execution_count": 3,
   "metadata": {},
   "outputs": [],
   "source": [
    "train_data['treatment'] = np.where(train_data['price'] == 1, 1, 0)\n",
    "train_data['price'] = np.where(train_data['price'] == 1, 1, 0.85)"
   ]
  },
  {
   "cell_type": "code",
   "execution_count": 4,
   "metadata": {},
   "outputs": [
    {
     "name": "stdout",
     "output_type": "stream",
     "text": [
      "['account_age', 'age', 'avg_hours', 'days_visited', 'friends_count', 'has_membership', 'is_US', 'songs_purchased', 'income', 'demand', 'treatment']\n",
      "['account_age', 'age', 'avg_hours', 'days_visited', 'friends_count', 'has_membership', 'is_US', 'songs_purchased']\n",
      "['account_age', 'age', 'avg_hours', 'days_visited', 'friends_count', 'has_membership', 'is_US', 'songs_purchased', 'income', 'treatment']\n"
     ]
    }
   ],
   "source": [
    "outcome = \"demand\"\n",
    "treatment = \"treatment\"\n",
    "col = list(train_data.columns)\n",
    "col.remove(\"price\")\n",
    "print(col)\n",
    "\n",
    "cov = col[:]\n",
    "cov.remove(treatment)\n",
    "cov.remove(outcome)\n",
    "cov.remove('income')\n",
    "print(cov)\n",
    "\n",
    "features = col[:]\n",
    "features.remove(outcome)\n",
    "\n",
    "print(features)"
   ]
  },
  {
   "cell_type": "code",
   "execution_count": 5,
   "metadata": {},
   "outputs": [],
   "source": [
    "from sklearn.model_selection import train_test_split\n",
    "\n",
    "train_data, test_data = train_test_split(train_data, test_size=0.1)"
   ]
  },
  {
   "cell_type": "code",
   "execution_count": 6,
   "metadata": {},
   "outputs": [
    {
     "data": {
      "text/plain": [
       "GradientBoostingRegressor(n_estimators=1000, random_state=0)"
      ]
     },
     "execution_count": 6,
     "metadata": {},
     "output_type": "execute_result"
    }
   ],
   "source": [
    "## Fit treatment\n",
    "model_t = LogisticRegression()\n",
    "model_t.fit(train_data[cov], train_data[treatment])\n",
    "\n",
    "train_data['p1'] = model_t.predict_proba(train_data[cov])[:,1]\n",
    "train_data['p0'] = 1 - train_data['p1']\n",
    "\n",
    "train_data[\"prediction\"] = np.where(train_data[\"p1\"] >= 0.5, 1, 0)\n",
    "\n",
    "## Fit outcome\n",
    "model_y = GradientBoostingRegressor(random_state=0, n_estimators = 1000)\n",
    "model_y.fit(train_data[features], train_data[outcome])\n",
    "\n",
    "    "
   ]
  },
  {
   "cell_type": "code",
   "execution_count": 7,
   "metadata": {},
   "outputs": [
    {
     "data": {
      "text/plain": [
       "(9000, 15)"
      ]
     },
     "execution_count": 7,
     "metadata": {},
     "output_type": "execute_result"
    }
   ],
   "source": [
    "train_data.shape"
   ]
  },
  {
   "cell_type": "markdown",
   "metadata": {},
   "source": [
    "## Optimization"
   ]
  },
  {
   "cell_type": "code",
   "execution_count": 8,
   "metadata": {},
   "outputs": [],
   "source": [
    "def gamma_fn(X):\n",
    "    return -3 - 14 * (X[\"income\"] < 1)\n",
    "\n",
    "def beta_fn(X):\n",
    "    return 20 + 0.5 * (X[\"avg_hours\"]) + 5 * (X[\"days_visited\"] > 4)\n",
    "\n",
    "def demand_fn(data, T):\n",
    "    Y = gamma_fn(data) * T + beta_fn(data)\n",
    "    return Y\n",
    "\n",
    "def true_te(x, n, stats):\n",
    "    if x < 1:\n",
    "        subdata = df[df[\"income\"] < 1].sample(n=n, replace=True)\n",
    "    else:\n",
    "        subdata = df[df[\"income\"] >= 1].sample(n=n, replace=True)\n",
    "    te_array = subdata[\"price\"] * gamma_fn(subdata) / (subdata[\"demand\"])\n",
    "    if stats == \"mean\":\n",
    "        return np.mean(te_array)\n",
    "    elif stats == \"median\":\n",
    "        return np.median(te_array)\n",
    "    elif isinstance(stats, int):\n",
    "        return np.percentile(te_array, stats)\n",
    "    \n",
    "def revenue_fn(data, discount_level1, discount_level2, baseline_T, policy):\n",
    "    policy_price = baseline_T * (1 - discount_level1) * policy + baseline_T * (1 - discount_level2) * (1 - policy)\n",
    "    demand = demand_fn(data, policy_price)\n",
    "    rev = demand * policy_price\n",
    "    return rev\n",
    "\n",
    "def fitness_function(propensity_score, solution_idx):\n",
    "    policy = np.where(propensity_score >= 0.5, 1, 0)\n",
    "    return np.mean(revenue_fn(train_data,  0., 0.15, 1, policy))\n"
   ]
  },
  {
   "cell_type": "code",
   "execution_count": 9,
   "metadata": {},
   "outputs": [
    {
     "data": {
      "text/html": [
       "<div>\n",
       "<style scoped>\n",
       "    .dataframe tbody tr th:only-of-type {\n",
       "        vertical-align: middle;\n",
       "    }\n",
       "\n",
       "    .dataframe tbody tr th {\n",
       "        vertical-align: top;\n",
       "    }\n",
       "\n",
       "    .dataframe thead th {\n",
       "        text-align: right;\n",
       "    }\n",
       "</style>\n",
       "<table border=\"1\" class=\"dataframe\">\n",
       "  <thead>\n",
       "    <tr style=\"text-align: right;\">\n",
       "      <th></th>\n",
       "      <th>account_age</th>\n",
       "      <th>age</th>\n",
       "      <th>avg_hours</th>\n",
       "      <th>days_visited</th>\n",
       "      <th>friends_count</th>\n",
       "      <th>has_membership</th>\n",
       "      <th>is_US</th>\n",
       "      <th>songs_purchased</th>\n",
       "      <th>income</th>\n",
       "      <th>price</th>\n",
       "      <th>demand</th>\n",
       "      <th>treatment</th>\n",
       "      <th>p1</th>\n",
       "      <th>p0</th>\n",
       "      <th>prediction</th>\n",
       "    </tr>\n",
       "  </thead>\n",
       "  <tbody>\n",
       "    <tr>\n",
       "      <th>5466</th>\n",
       "      <td>2</td>\n",
       "      <td>28</td>\n",
       "      <td>8.508083</td>\n",
       "      <td>6</td>\n",
       "      <td>9</td>\n",
       "      <td>1</td>\n",
       "      <td>0</td>\n",
       "      <td>6.093560</td>\n",
       "      <td>1.878202</td>\n",
       "      <td>0.85</td>\n",
       "      <td>26.554042</td>\n",
       "      <td>0</td>\n",
       "      <td>0.446247</td>\n",
       "      <td>0.553753</td>\n",
       "      <td>0</td>\n",
       "    </tr>\n",
       "    <tr>\n",
       "      <th>9435</th>\n",
       "      <td>1</td>\n",
       "      <td>54</td>\n",
       "      <td>9.578934</td>\n",
       "      <td>4</td>\n",
       "      <td>14</td>\n",
       "      <td>0</td>\n",
       "      <td>1</td>\n",
       "      <td>5.795057</td>\n",
       "      <td>1.480526</td>\n",
       "      <td>1.00</td>\n",
       "      <td>21.789467</td>\n",
       "      <td>1</td>\n",
       "      <td>0.417497</td>\n",
       "      <td>0.582503</td>\n",
       "      <td>0</td>\n",
       "    </tr>\n",
       "    <tr>\n",
       "      <th>8443</th>\n",
       "      <td>3</td>\n",
       "      <td>33</td>\n",
       "      <td>4.086286</td>\n",
       "      <td>7</td>\n",
       "      <td>8</td>\n",
       "      <td>0</td>\n",
       "      <td>1</td>\n",
       "      <td>4.088569</td>\n",
       "      <td>1.020977</td>\n",
       "      <td>1.00</td>\n",
       "      <td>24.043143</td>\n",
       "      <td>1</td>\n",
       "      <td>0.464931</td>\n",
       "      <td>0.535069</td>\n",
       "      <td>0</td>\n",
       "    </tr>\n",
       "    <tr>\n",
       "      <th>1483</th>\n",
       "      <td>4</td>\n",
       "      <td>54</td>\n",
       "      <td>3.762321</td>\n",
       "      <td>6</td>\n",
       "      <td>9</td>\n",
       "      <td>1</td>\n",
       "      <td>0</td>\n",
       "      <td>7.755960</td>\n",
       "      <td>0.370185</td>\n",
       "      <td>0.85</td>\n",
       "      <td>13.281160</td>\n",
       "      <td>0</td>\n",
       "      <td>0.428216</td>\n",
       "      <td>0.571784</td>\n",
       "      <td>0</td>\n",
       "    </tr>\n",
       "    <tr>\n",
       "      <th>9227</th>\n",
       "      <td>3</td>\n",
       "      <td>20</td>\n",
       "      <td>3.852820</td>\n",
       "      <td>4</td>\n",
       "      <td>6</td>\n",
       "      <td>1</td>\n",
       "      <td>1</td>\n",
       "      <td>3.956176</td>\n",
       "      <td>1.761313</td>\n",
       "      <td>1.00</td>\n",
       "      <td>18.926410</td>\n",
       "      <td>1</td>\n",
       "      <td>0.453593</td>\n",
       "      <td>0.546407</td>\n",
       "      <td>0</td>\n",
       "    </tr>\n",
       "  </tbody>\n",
       "</table>\n",
       "</div>"
      ],
      "text/plain": [
       "      account_age  age  avg_hours  days_visited  friends_count  \\\n",
       "5466            2   28   8.508083             6              9   \n",
       "9435            1   54   9.578934             4             14   \n",
       "8443            3   33   4.086286             7              8   \n",
       "1483            4   54   3.762321             6              9   \n",
       "9227            3   20   3.852820             4              6   \n",
       "\n",
       "      has_membership  is_US  songs_purchased    income  price     demand  \\\n",
       "5466               1      0         6.093560  1.878202   0.85  26.554042   \n",
       "9435               0      1         5.795057  1.480526   1.00  21.789467   \n",
       "8443               0      1         4.088569  1.020977   1.00  24.043143   \n",
       "1483               1      0         7.755960  0.370185   0.85  13.281160   \n",
       "9227               1      1         3.956176  1.761313   1.00  18.926410   \n",
       "\n",
       "      treatment        p1        p0  prediction  \n",
       "5466          0  0.446247  0.553753           0  \n",
       "9435          1  0.417497  0.582503           0  \n",
       "8443          1  0.464931  0.535069           0  \n",
       "1483          0  0.428216  0.571784           0  \n",
       "9227          1  0.453593  0.546407           0  "
      ]
     },
     "execution_count": 9,
     "metadata": {},
     "output_type": "execute_result"
    }
   ],
   "source": [
    "train_data.head()"
   ]
  },
  {
   "cell_type": "code",
   "execution_count": 10,
   "metadata": {},
   "outputs": [
    {
     "data": {
      "text/plain": [
       "14.308830571002158"
      ]
     },
     "execution_count": 10,
     "metadata": {},
     "output_type": "execute_result"
    }
   ],
   "source": [
    "#0: discount, level 2, 1: no discount - level 1\n",
    "np.mean(revenue_fn(train_data,  0.0, 0.15, 1, train_data.treatment.values))"
   ]
  },
  {
   "cell_type": "code",
   "execution_count": 11,
   "metadata": {},
   "outputs": [
    {
     "data": {
      "text/plain": [
       "14.377760848779936"
      ]
     },
     "execution_count": 11,
     "metadata": {},
     "output_type": "execute_result"
    }
   ],
   "source": [
    "np.mean(train_data['demand']*train_data['price'])"
   ]
  },
  {
   "cell_type": "markdown",
   "metadata": {},
   "source": [
    "## PyGrad"
   ]
  },
  {
   "cell_type": "code",
   "execution_count": null,
   "metadata": {
    "scrolled": true
   },
   "outputs": [
    {
     "name": "stdout",
     "output_type": "stream",
     "text": [
      "Running model\n",
      "Generation = 1\n",
      "Fitness    = 13.710571892440957\n",
      "Change     = 13.710571892440957\n",
      "\n",
      "\n",
      "Generation = 2\n",
      "Fitness    = 13.721454545184855\n",
      "Change     = 0.010882652743898547\n",
      "\n",
      "\n"
     ]
    }
   ],
   "source": [
    "import pygad\n",
    "import numpy\n",
    "\n",
    "function_inputs = np.random.rand(train_data.shape[0]) # Function inputs.\n",
    "\n",
    "num_generations = 2000 # Number of generations.\n",
    "num_parents_mating = 500 # Number of solutions to be selected as parents in the mating pool.\n",
    "\n",
    "# To prepare the initial population, there are 2 ways:\n",
    "# 1) Prepare it yourself and pass it to the initial_population parameter. This way is useful when the user wants to start the genetic algorithm with a custom initial population.\n",
    "# 2) Assign valid integer values to the sol_per_pop and num_genes parameters. If the initial_population parameter exists, then the sol_per_pop and num_genes parameters are useless.\n",
    "sol_per_pop = 1500 # Number of solutions in the population.\n",
    "num_genes = len(function_inputs)\n",
    "\n",
    "init_range_low = -1\n",
    "init_range_high = 1\n",
    "\n",
    "parent_selection_type = \"sss\" # Type of parent selection.\n",
    "keep_parents = -1 # Number of parents to keep in the next population. -1 means keep all parents and 0 means keep nothing.\n",
    "\n",
    "crossover_type = \"two_points\" # Type of the crossover operator.\n",
    "\n",
    "# Parameters of the mutation operation.\n",
    "mutation_type = \"random\" # Type of the mutation operator.\n",
    "mutation_percent_genes = 20 # Percentage of genes to mutate. This parameter has no action if the parameter mutation_num_genes exists or when mutation_type is None.\n",
    "\n",
    "last_fitness = 0\n",
    "def callback_generation(ga_instance):\n",
    "    global last_fitness\n",
    "    print(\"Generation = {generation}\".format(generation=ga_instance.generations_completed))\n",
    "    print(\"Fitness    = {fitness}\".format(fitness=ga_instance.best_solution()[1]))\n",
    "    print(\"Change     = {change}\".format(change=ga_instance.best_solution()[1] - last_fitness))\n",
    "    print(\"\\n\")\n",
    "    last_fitness = ga_instance.best_solution()[1]\n",
    "\n",
    "print(\"Running model\")\n",
    "# Creating an instance of the GA class inside the ga module. Some parameters are initialized within the constructor.\n",
    "ga_instance = pygad.GA(num_generations=num_generations,\n",
    "                       num_parents_mating=num_parents_mating, \n",
    "                       fitness_func=fitness_function,\n",
    "                       sol_per_pop=sol_per_pop, \n",
    "                       num_genes=num_genes,\n",
    "                       init_range_low=init_range_low,\n",
    "                       init_range_high=init_range_high,\n",
    "                       parent_selection_type=parent_selection_type,\n",
    "                       keep_parents=keep_parents,\n",
    "                       crossover_type=crossover_type,\n",
    "                       mutation_type=mutation_type,\n",
    "                       mutation_percent_genes=mutation_percent_genes,\n",
    "                       callback_generation=callback_generation)\n",
    "\n",
    "# Running the GA to optimize the parameters of the function.\n",
    "ga_instance.run()\n"
   ]
  },
  {
   "cell_type": "code",
   "execution_count": null,
   "metadata": {},
   "outputs": [],
   "source": [
    "solution, solution_fitness, solution_idx = ga_instance.best_solution()\n",
    "print(\"Parameters of the best solution : {solution}\".format(solution=solution))\n",
    "print(\"Fitness value of the best solution = {solution_fitness}\".format(solution_fitness=solution_fitness))"
   ]
  },
  {
   "cell_type": "code",
   "execution_count": null,
   "metadata": {},
   "outputs": [],
   "source": [
    "proposed_policy = np.where(solution >= 0.5, 1, 0)"
   ]
  },
  {
   "cell_type": "code",
   "execution_count": null,
   "metadata": {},
   "outputs": [],
   "source": [
    "proposed_policy"
   ]
  },
  {
   "cell_type": "code",
   "execution_count": null,
   "metadata": {},
   "outputs": [],
   "source": [
    "discount_all = np.mean(revenue_fn(train_data,  0.0, 0.15, 1, np.zeros(train_data.shape[0])))\n",
    "no_discount = np.mean(revenue_fn(train_data,  0.0, 0.15, 1, np.ones(train_data.shape[0])))"
   ]
  },
  {
   "cell_type": "code",
   "execution_count": null,
   "metadata": {},
   "outputs": [],
   "source": [
    "print(\"Current policy {:.4f}\".format(discount_all))\n",
    "print(\"Discount all {:.4f}\".format(discount_all))\n",
    "print(\"No discount {:.4f}\".format(no_discount))\n",
    "print(\"-\"*100)\n",
    "print(\"Proposed strategy {:.4f}\".format(solution_fitness))"
   ]
  },
  {
   "cell_type": "code",
   "execution_count": null,
   "metadata": {},
   "outputs": [],
   "source": [
    "from collections import Counter \n",
    "print(Counter(proposed_policy))\n",
    "print(Counter(train_data.treatment.values))\n"
   ]
  },
  {
   "cell_type": "code",
   "execution_count": null,
   "metadata": {},
   "outputs": [],
   "source": [
    "current_policy = train_data.treatment.values"
   ]
  },
  {
   "cell_type": "code",
   "execution_count": null,
   "metadata": {},
   "outputs": [],
   "source": [
    "proposed_policy = [str(x) for x in proposed_policy]\n",
    "current_policy = [str(x) for x in current_policy]"
   ]
  },
  {
   "cell_type": "code",
   "execution_count": null,
   "metadata": {},
   "outputs": [],
   "source": [
    "14.5488 / 13.3610 * 100"
   ]
  }
 ],
 "metadata": {
  "kernelspec": {
   "display_name": "Python [conda env:phd_env] *",
   "language": "python",
   "name": "conda-env-phd_env-py"
  },
  "language_info": {
   "codemirror_mode": {
    "name": "ipython",
    "version": 3
   },
   "file_extension": ".py",
   "mimetype": "text/x-python",
   "name": "python",
   "nbconvert_exporter": "python",
   "pygments_lexer": "ipython3",
   "version": "3.7.7"
  },
  "toc": {
   "base_numbering": 1,
   "nav_menu": {},
   "number_sections": true,
   "sideBar": true,
   "skip_h1_title": false,
   "title_cell": "Table of Contents",
   "title_sidebar": "Contents",
   "toc_cell": false,
   "toc_position": {},
   "toc_section_display": true,
   "toc_window_display": true
  }
 },
 "nbformat": 4,
 "nbformat_minor": 4
}
