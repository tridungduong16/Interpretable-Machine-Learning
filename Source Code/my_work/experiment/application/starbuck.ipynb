{
 "cells": [
  {
   "cell_type": "markdown",
   "metadata": {},
   "source": [
    "## Import library"
   ]
  },
  {
   "cell_type": "code",
   "execution_count": 1,
   "metadata": {},
   "outputs": [
    {
     "name": "stderr",
     "output_type": "stream",
     "text": [
      "/home/dtd/.conda/envs/phd_env/lib/python3.7/site-packages/sklearn/utils/deprecation.py:143: FutureWarning: The sklearn.ensemble.forest module is  deprecated in version 0.22 and will be removed in version 0.24. The corresponding classes / functions should instead be imported from sklearn.ensemble. Anything that cannot be imported from sklearn.ensemble is now part of the private API.\n",
      "  warnings.warn(message, FutureWarning)\n",
      "/home/dtd/.conda/envs/phd_env/lib/python3.7/site-packages/sklearn/utils/deprecation.py:143: FutureWarning: The sklearn.ensemble.base module is  deprecated in version 0.22 and will be removed in version 0.24. The corresponding classes / functions should instead be imported from sklearn.ensemble. Anything that cannot be imported from sklearn.ensemble is now part of the private API.\n",
      "  warnings.warn(message, FutureWarning)\n",
      "[MLENS] backend: threading\n"
     ]
    }
   ],
   "source": [
    "import pandas as pd\n",
    "import sys\n",
    "sys.path.insert(\n",
    "    1,\n",
    "    '/home/dtd/Documents/interpretable_machine_learning/Source Code/my_work/lib'\n",
    ")\n",
    "sys.path.insert(\n",
    "    1,\n",
    "    '/home/dtd/Documents/interpretable_machine_learning/Causal Inference/CEA')\n",
    "import test_results\n",
    "import data_load\n",
    "import numpy as np\n",
    "import logging\n",
    "import dowhy.datasets\n",
    "import dowhy\n",
    "import propensity_score_estimator as pse\n",
    "import incremental_ps_score_estimator as ipse\n",
    "import math\n",
    "import timeit\n",
    "import evaluation as evl\n",
    "import tensorflow as tf\n",
    "import time\n",
    "import matplotlib.pyplot as plt\n",
    "import sklearn as sk\n",
    "\n",
    "from imblearn.over_sampling import SMOTE\n",
    "from dowhy import CausalModel\n",
    "from sklearn.metrics import log_loss\n",
    "from sklearn.linear_model import LogisticRegression\n",
    "from sklearn.ensemble import RandomForestClassifier\n",
    "from scipy.stats import sem\n",
    "from dowhy import CausalModel\n",
    "from sklearn.linear_model import LogisticRegression\n",
    "from sklearn import metrics\n",
    "from sklearn.neighbors import NearestNeighbors\n",
    "from sklearn.ensemble import RandomForestRegressor\n",
    "from sklearn import metrics\n",
    "from sklearn.ensemble import RandomForestClassifier\n",
    "from sklearn.ensemble import GradientBoostingClassifier\n",
    "from sklearn.ensemble import GradientBoostingRegressor\n",
    "from sklearn.metrics import explained_variance_score\n",
    "from sklearn.model_selection import train_test_split\n",
    "from sklearn.model_selection import KFold\n",
    "from tqdm import tqdm\n",
    "from sklearn.metrics import mean_squared_error\n",
    "from math import sqrt\n",
    "from econml.dml import LinearDMLCateEstimator\n",
    "from sklearn.linear_model import LassoCV\n",
    "from econml.inference import BootstrapInference\n",
    "from econml.dml import SparseLinearDMLCateEstimator\n",
    "from sklearn.linear_model import LassoCV, ElasticNetCV\n",
    "from sklearn.ensemble import GradientBoostingRegressor\n",
    "from mlens.ensemble import SuperLearner\n",
    "from sklearn.preprocessing import StandardScaler\n",
    "from sklearn.metrics import accuracy_score\n",
    "from sklearn.svm import SVC\n",
    "from sklearn.metrics import accuracy_score, f1_score, precision_score, recall_score, classification_report, confusion_matrix"
   ]
  },
  {
   "cell_type": "markdown",
   "metadata": {},
   "source": [
    "## Load data"
   ]
  },
  {
   "cell_type": "code",
   "execution_count": 2,
   "metadata": {},
   "outputs": [],
   "source": [
    "df = pd.read_csv(\"/home/dtd/Downloads/Data_Scientist_Nanodegree/starbucks_portfolio_exercise/training.csv\")"
   ]
  },
  {
   "cell_type": "code",
   "execution_count": 3,
   "metadata": {},
   "outputs": [
    {
     "data": {
      "text/html": [
       "<div>\n",
       "<style scoped>\n",
       "    .dataframe tbody tr th:only-of-type {\n",
       "        vertical-align: middle;\n",
       "    }\n",
       "\n",
       "    .dataframe tbody tr th {\n",
       "        vertical-align: top;\n",
       "    }\n",
       "\n",
       "    .dataframe thead th {\n",
       "        text-align: right;\n",
       "    }\n",
       "</style>\n",
       "<table border=\"1\" class=\"dataframe\">\n",
       "  <thead>\n",
       "    <tr style=\"text-align: right;\">\n",
       "      <th></th>\n",
       "      <th>ID</th>\n",
       "      <th>Promotion</th>\n",
       "      <th>purchase</th>\n",
       "      <th>V1</th>\n",
       "      <th>V2</th>\n",
       "      <th>V3</th>\n",
       "      <th>V4</th>\n",
       "      <th>V5</th>\n",
       "      <th>V6</th>\n",
       "      <th>V7</th>\n",
       "    </tr>\n",
       "  </thead>\n",
       "  <tbody>\n",
       "    <tr>\n",
       "      <th>0</th>\n",
       "      <td>1</td>\n",
       "      <td>No</td>\n",
       "      <td>0</td>\n",
       "      <td>2</td>\n",
       "      <td>30.443518</td>\n",
       "      <td>-1.165083</td>\n",
       "      <td>1</td>\n",
       "      <td>1</td>\n",
       "      <td>3</td>\n",
       "      <td>2</td>\n",
       "    </tr>\n",
       "    <tr>\n",
       "      <th>1</th>\n",
       "      <td>3</td>\n",
       "      <td>No</td>\n",
       "      <td>0</td>\n",
       "      <td>3</td>\n",
       "      <td>32.159350</td>\n",
       "      <td>-0.645617</td>\n",
       "      <td>2</td>\n",
       "      <td>3</td>\n",
       "      <td>2</td>\n",
       "      <td>2</td>\n",
       "    </tr>\n",
       "    <tr>\n",
       "      <th>2</th>\n",
       "      <td>4</td>\n",
       "      <td>No</td>\n",
       "      <td>0</td>\n",
       "      <td>2</td>\n",
       "      <td>30.431659</td>\n",
       "      <td>0.133583</td>\n",
       "      <td>1</td>\n",
       "      <td>1</td>\n",
       "      <td>4</td>\n",
       "      <td>2</td>\n",
       "    </tr>\n",
       "    <tr>\n",
       "      <th>3</th>\n",
       "      <td>5</td>\n",
       "      <td>No</td>\n",
       "      <td>0</td>\n",
       "      <td>0</td>\n",
       "      <td>26.588914</td>\n",
       "      <td>-0.212728</td>\n",
       "      <td>2</td>\n",
       "      <td>1</td>\n",
       "      <td>4</td>\n",
       "      <td>2</td>\n",
       "    </tr>\n",
       "    <tr>\n",
       "      <th>4</th>\n",
       "      <td>8</td>\n",
       "      <td>Yes</td>\n",
       "      <td>0</td>\n",
       "      <td>3</td>\n",
       "      <td>28.044332</td>\n",
       "      <td>-0.385883</td>\n",
       "      <td>1</td>\n",
       "      <td>1</td>\n",
       "      <td>2</td>\n",
       "      <td>2</td>\n",
       "    </tr>\n",
       "  </tbody>\n",
       "</table>\n",
       "</div>"
      ],
      "text/plain": [
       "   ID Promotion  purchase  V1         V2        V3  V4  V5  V6  V7\n",
       "0   1        No         0   2  30.443518 -1.165083   1   1   3   2\n",
       "1   3        No         0   3  32.159350 -0.645617   2   3   2   2\n",
       "2   4        No         0   2  30.431659  0.133583   1   1   4   2\n",
       "3   5        No         0   0  26.588914 -0.212728   2   1   4   2\n",
       "4   8       Yes         0   3  28.044332 -0.385883   1   1   2   2"
      ]
     },
     "execution_count": 3,
     "metadata": {},
     "output_type": "execute_result"
    }
   ],
   "source": [
    "df.head()"
   ]
  },
  {
   "cell_type": "code",
   "execution_count": 4,
   "metadata": {},
   "outputs": [],
   "source": [
    "df['treatment'] = np.where(df['Promotion'] == \"Yes\", 1, 0)"
   ]
  },
  {
   "cell_type": "code",
   "execution_count": 5,
   "metadata": {},
   "outputs": [
    {
     "data": {
      "text/plain": [
       "0    83494\n",
       "1     1040\n",
       "Name: purchase, dtype: int64"
      ]
     },
     "execution_count": 5,
     "metadata": {},
     "output_type": "execute_result"
    }
   ],
   "source": [
    "df.purchase.value_counts()"
   ]
  },
  {
   "cell_type": "code",
   "execution_count": 6,
   "metadata": {},
   "outputs": [
    {
     "name": "stdout",
     "output_type": "stream",
     "text": [
      "['V1', 'V2', 'V3', 'V4', 'V5', 'V6', 'V7']\n",
      "['V1', 'V2', 'V3', 'V4', 'V5', 'V6', 'V7', 'treatment']\n"
     ]
    }
   ],
   "source": [
    "col = list(df.columns)\n",
    "\n",
    "treatment = 'treatment' # intervention, or treatment\n",
    "outcome = 'purchase' # outcome of interest\n",
    "\n",
    "cov = col[:]\n",
    "cov.remove(treatment)\n",
    "cov.remove(outcome)\n",
    "cov.remove(\"ID\")\n",
    "cov.remove(\"Promotion\")\n",
    "print(cov)\n",
    "\n",
    "features = col[:]\n",
    "features.remove(outcome)\n",
    "features.remove(\"ID\")\n",
    "features.remove(\"Promotion\")\n",
    "print(features)"
   ]
  },
  {
   "cell_type": "code",
   "execution_count": 7,
   "metadata": {},
   "outputs": [],
   "source": [
    "X = df[features]\n",
    "y = df[outcome]"
   ]
  },
  {
   "cell_type": "code",
   "execution_count": 8,
   "metadata": {},
   "outputs": [
    {
     "data": {
      "text/plain": [
       "0    83494\n",
       "1     1040\n",
       "Name: purchase, dtype: int64"
      ]
     },
     "execution_count": 8,
     "metadata": {},
     "output_type": "execute_result"
    }
   ],
   "source": [
    "y.value_counts()"
   ]
  },
  {
   "cell_type": "code",
   "execution_count": 9,
   "metadata": {},
   "outputs": [],
   "source": [
    "from imblearn.over_sampling import RandomOverSampler\n",
    "ros = RandomOverSampler(random_state=42)\n",
    "X_sampling, y_sampling = ros.fit_resample(X, y)"
   ]
  },
  {
   "cell_type": "code",
   "execution_count": 10,
   "metadata": {},
   "outputs": [],
   "source": [
    "data = pd.concat([X_sampling, y_sampling], axis=1, sort=False)"
   ]
  },
  {
   "cell_type": "code",
   "execution_count": 11,
   "metadata": {},
   "outputs": [
    {
     "data": {
      "text/html": [
       "<div>\n",
       "<style scoped>\n",
       "    .dataframe tbody tr th:only-of-type {\n",
       "        vertical-align: middle;\n",
       "    }\n",
       "\n",
       "    .dataframe tbody tr th {\n",
       "        vertical-align: top;\n",
       "    }\n",
       "\n",
       "    .dataframe thead th {\n",
       "        text-align: right;\n",
       "    }\n",
       "</style>\n",
       "<table border=\"1\" class=\"dataframe\">\n",
       "  <thead>\n",
       "    <tr style=\"text-align: right;\">\n",
       "      <th></th>\n",
       "      <th>V1</th>\n",
       "      <th>V2</th>\n",
       "      <th>V3</th>\n",
       "      <th>V4</th>\n",
       "      <th>V5</th>\n",
       "      <th>V6</th>\n",
       "      <th>V7</th>\n",
       "      <th>treatment</th>\n",
       "      <th>purchase</th>\n",
       "    </tr>\n",
       "  </thead>\n",
       "  <tbody>\n",
       "    <tr>\n",
       "      <th>0</th>\n",
       "      <td>2</td>\n",
       "      <td>30.443518</td>\n",
       "      <td>-1.165083</td>\n",
       "      <td>1</td>\n",
       "      <td>1</td>\n",
       "      <td>3</td>\n",
       "      <td>2</td>\n",
       "      <td>0</td>\n",
       "      <td>0</td>\n",
       "    </tr>\n",
       "    <tr>\n",
       "      <th>1</th>\n",
       "      <td>3</td>\n",
       "      <td>32.159350</td>\n",
       "      <td>-0.645617</td>\n",
       "      <td>2</td>\n",
       "      <td>3</td>\n",
       "      <td>2</td>\n",
       "      <td>2</td>\n",
       "      <td>0</td>\n",
       "      <td>0</td>\n",
       "    </tr>\n",
       "    <tr>\n",
       "      <th>2</th>\n",
       "      <td>2</td>\n",
       "      <td>30.431659</td>\n",
       "      <td>0.133583</td>\n",
       "      <td>1</td>\n",
       "      <td>1</td>\n",
       "      <td>4</td>\n",
       "      <td>2</td>\n",
       "      <td>0</td>\n",
       "      <td>0</td>\n",
       "    </tr>\n",
       "    <tr>\n",
       "      <th>3</th>\n",
       "      <td>0</td>\n",
       "      <td>26.588914</td>\n",
       "      <td>-0.212728</td>\n",
       "      <td>2</td>\n",
       "      <td>1</td>\n",
       "      <td>4</td>\n",
       "      <td>2</td>\n",
       "      <td>0</td>\n",
       "      <td>0</td>\n",
       "    </tr>\n",
       "    <tr>\n",
       "      <th>4</th>\n",
       "      <td>3</td>\n",
       "      <td>28.044332</td>\n",
       "      <td>-0.385883</td>\n",
       "      <td>1</td>\n",
       "      <td>1</td>\n",
       "      <td>2</td>\n",
       "      <td>2</td>\n",
       "      <td>1</td>\n",
       "      <td>0</td>\n",
       "    </tr>\n",
       "  </tbody>\n",
       "</table>\n",
       "</div>"
      ],
      "text/plain": [
       "   V1         V2        V3  V4  V5  V6  V7  treatment  purchase\n",
       "0   2  30.443518 -1.165083   1   1   3   2          0         0\n",
       "1   3  32.159350 -0.645617   2   3   2   2          0         0\n",
       "2   2  30.431659  0.133583   1   1   4   2          0         0\n",
       "3   0  26.588914 -0.212728   2   1   4   2          0         0\n",
       "4   3  28.044332 -0.385883   1   1   2   2          1         0"
      ]
     },
     "execution_count": 11,
     "metadata": {},
     "output_type": "execute_result"
    }
   ],
   "source": [
    "data.head()"
   ]
  },
  {
   "cell_type": "code",
   "execution_count": 12,
   "metadata": {},
   "outputs": [
    {
     "data": {
      "text/html": [
       "<div>\n",
       "<style scoped>\n",
       "    .dataframe tbody tr th:only-of-type {\n",
       "        vertical-align: middle;\n",
       "    }\n",
       "\n",
       "    .dataframe tbody tr th {\n",
       "        vertical-align: top;\n",
       "    }\n",
       "\n",
       "    .dataframe thead th {\n",
       "        text-align: right;\n",
       "    }\n",
       "</style>\n",
       "<table border=\"1\" class=\"dataframe\">\n",
       "  <thead>\n",
       "    <tr style=\"text-align: right;\">\n",
       "      <th></th>\n",
       "      <th>V1</th>\n",
       "      <th>V2</th>\n",
       "      <th>V3</th>\n",
       "      <th>V4</th>\n",
       "      <th>V5</th>\n",
       "      <th>V6</th>\n",
       "      <th>V7</th>\n",
       "    </tr>\n",
       "  </thead>\n",
       "  <tbody>\n",
       "    <tr>\n",
       "      <th>0</th>\n",
       "      <td>2</td>\n",
       "      <td>30.443518</td>\n",
       "      <td>-1.165083</td>\n",
       "      <td>1</td>\n",
       "      <td>1</td>\n",
       "      <td>3</td>\n",
       "      <td>2</td>\n",
       "    </tr>\n",
       "    <tr>\n",
       "      <th>1</th>\n",
       "      <td>3</td>\n",
       "      <td>32.159350</td>\n",
       "      <td>-0.645617</td>\n",
       "      <td>2</td>\n",
       "      <td>3</td>\n",
       "      <td>2</td>\n",
       "      <td>2</td>\n",
       "    </tr>\n",
       "    <tr>\n",
       "      <th>2</th>\n",
       "      <td>2</td>\n",
       "      <td>30.431659</td>\n",
       "      <td>0.133583</td>\n",
       "      <td>1</td>\n",
       "      <td>1</td>\n",
       "      <td>4</td>\n",
       "      <td>2</td>\n",
       "    </tr>\n",
       "    <tr>\n",
       "      <th>3</th>\n",
       "      <td>0</td>\n",
       "      <td>26.588914</td>\n",
       "      <td>-0.212728</td>\n",
       "      <td>2</td>\n",
       "      <td>1</td>\n",
       "      <td>4</td>\n",
       "      <td>2</td>\n",
       "    </tr>\n",
       "    <tr>\n",
       "      <th>4</th>\n",
       "      <td>3</td>\n",
       "      <td>28.044332</td>\n",
       "      <td>-0.385883</td>\n",
       "      <td>1</td>\n",
       "      <td>1</td>\n",
       "      <td>2</td>\n",
       "      <td>2</td>\n",
       "    </tr>\n",
       "    <tr>\n",
       "      <th>...</th>\n",
       "      <td>...</td>\n",
       "      <td>...</td>\n",
       "      <td>...</td>\n",
       "      <td>...</td>\n",
       "      <td>...</td>\n",
       "      <td>...</td>\n",
       "      <td>...</td>\n",
       "    </tr>\n",
       "    <tr>\n",
       "      <th>166983</th>\n",
       "      <td>1</td>\n",
       "      <td>39.167312</td>\n",
       "      <td>-0.732194</td>\n",
       "      <td>2</td>\n",
       "      <td>2</td>\n",
       "      <td>1</td>\n",
       "      <td>1</td>\n",
       "    </tr>\n",
       "    <tr>\n",
       "      <th>166984</th>\n",
       "      <td>0</td>\n",
       "      <td>31.698306</td>\n",
       "      <td>0.133583</td>\n",
       "      <td>2</td>\n",
       "      <td>1</td>\n",
       "      <td>1</td>\n",
       "      <td>2</td>\n",
       "    </tr>\n",
       "    <tr>\n",
       "      <th>166985</th>\n",
       "      <td>1</td>\n",
       "      <td>37.086413</td>\n",
       "      <td>1.605406</td>\n",
       "      <td>2</td>\n",
       "      <td>2</td>\n",
       "      <td>4</td>\n",
       "      <td>2</td>\n",
       "    </tr>\n",
       "    <tr>\n",
       "      <th>166986</th>\n",
       "      <td>1</td>\n",
       "      <td>26.179611</td>\n",
       "      <td>-0.818772</td>\n",
       "      <td>2</td>\n",
       "      <td>3</td>\n",
       "      <td>3</td>\n",
       "      <td>2</td>\n",
       "    </tr>\n",
       "    <tr>\n",
       "      <th>166987</th>\n",
       "      <td>1</td>\n",
       "      <td>22.599082</td>\n",
       "      <td>-0.385883</td>\n",
       "      <td>2</td>\n",
       "      <td>3</td>\n",
       "      <td>2</td>\n",
       "      <td>2</td>\n",
       "    </tr>\n",
       "  </tbody>\n",
       "</table>\n",
       "<p>166988 rows × 7 columns</p>\n",
       "</div>"
      ],
      "text/plain": [
       "        V1         V2        V3  V4  V5  V6  V7\n",
       "0        2  30.443518 -1.165083   1   1   3   2\n",
       "1        3  32.159350 -0.645617   2   3   2   2\n",
       "2        2  30.431659  0.133583   1   1   4   2\n",
       "3        0  26.588914 -0.212728   2   1   4   2\n",
       "4        3  28.044332 -0.385883   1   1   2   2\n",
       "...     ..        ...       ...  ..  ..  ..  ..\n",
       "166983   1  39.167312 -0.732194   2   2   1   1\n",
       "166984   0  31.698306  0.133583   2   1   1   2\n",
       "166985   1  37.086413  1.605406   2   2   4   2\n",
       "166986   1  26.179611 -0.818772   2   3   3   2\n",
       "166987   1  22.599082 -0.385883   2   3   2   2\n",
       "\n",
       "[166988 rows x 7 columns]"
      ]
     },
     "execution_count": 12,
     "metadata": {},
     "output_type": "execute_result"
    }
   ],
   "source": [
    "data[cov]"
   ]
  },
  {
   "cell_type": "markdown",
   "metadata": {},
   "source": [
    "## Calculate treatment effect "
   ]
  },
  {
   "cell_type": "code",
   "execution_count": 13,
   "metadata": {},
   "outputs": [
    {
     "data": {
      "text/plain": [
       "GradientBoostingRegressor(n_estimators=50, random_state=0)"
      ]
     },
     "execution_count": 13,
     "metadata": {},
     "output_type": "execute_result"
    }
   ],
   "source": [
    "model_t = LogisticRegression()\n",
    "model_t.fit(data[cov].values, data[treatment].values)\n",
    "\n",
    "## Fit outcome\n",
    "model_y = GradientBoostingRegressor(random_state=0, n_estimators = 50)\n",
    "model_y.fit(data[features], data[outcome])"
   ]
  },
  {
   "cell_type": "code",
   "execution_count": 14,
   "metadata": {},
   "outputs": [],
   "source": [
    "data['p1'] = model_t.predict_proba(data[cov].values)[:,:1]\n",
    "data['p0'] = 1 - model_t.predict_proba(data[cov].values)[:,:1]\n",
    "data['predicted_t'] = [1 if i >= 0.5 else 0 for i in data['p1']]"
   ]
  },
  {
   "cell_type": "code",
   "execution_count": 15,
   "metadata": {},
   "outputs": [
    {
     "data": {
      "text/html": [
       "<div>\n",
       "<style scoped>\n",
       "    .dataframe tbody tr th:only-of-type {\n",
       "        vertical-align: middle;\n",
       "    }\n",
       "\n",
       "    .dataframe tbody tr th {\n",
       "        vertical-align: top;\n",
       "    }\n",
       "\n",
       "    .dataframe thead th {\n",
       "        text-align: right;\n",
       "    }\n",
       "</style>\n",
       "<table border=\"1\" class=\"dataframe\">\n",
       "  <thead>\n",
       "    <tr style=\"text-align: right;\">\n",
       "      <th></th>\n",
       "      <th>V1</th>\n",
       "      <th>V2</th>\n",
       "      <th>V3</th>\n",
       "      <th>V4</th>\n",
       "      <th>V5</th>\n",
       "      <th>V6</th>\n",
       "      <th>V7</th>\n",
       "      <th>treatment</th>\n",
       "      <th>purchase</th>\n",
       "      <th>p1</th>\n",
       "      <th>p0</th>\n",
       "      <th>predicted_t</th>\n",
       "    </tr>\n",
       "  </thead>\n",
       "  <tbody>\n",
       "    <tr>\n",
       "      <th>0</th>\n",
       "      <td>2</td>\n",
       "      <td>30.443518</td>\n",
       "      <td>-1.165083</td>\n",
       "      <td>1</td>\n",
       "      <td>1</td>\n",
       "      <td>3</td>\n",
       "      <td>2</td>\n",
       "      <td>0</td>\n",
       "      <td>0</td>\n",
       "      <td>0.495269</td>\n",
       "      <td>0.504731</td>\n",
       "      <td>0</td>\n",
       "    </tr>\n",
       "    <tr>\n",
       "      <th>1</th>\n",
       "      <td>3</td>\n",
       "      <td>32.159350</td>\n",
       "      <td>-0.645617</td>\n",
       "      <td>2</td>\n",
       "      <td>3</td>\n",
       "      <td>2</td>\n",
       "      <td>2</td>\n",
       "      <td>0</td>\n",
       "      <td>0</td>\n",
       "      <td>0.358259</td>\n",
       "      <td>0.641741</td>\n",
       "      <td>0</td>\n",
       "    </tr>\n",
       "    <tr>\n",
       "      <th>2</th>\n",
       "      <td>2</td>\n",
       "      <td>30.431659</td>\n",
       "      <td>0.133583</td>\n",
       "      <td>1</td>\n",
       "      <td>1</td>\n",
       "      <td>4</td>\n",
       "      <td>2</td>\n",
       "      <td>0</td>\n",
       "      <td>0</td>\n",
       "      <td>0.524033</td>\n",
       "      <td>0.475967</td>\n",
       "      <td>1</td>\n",
       "    </tr>\n",
       "    <tr>\n",
       "      <th>3</th>\n",
       "      <td>0</td>\n",
       "      <td>26.588914</td>\n",
       "      <td>-0.212728</td>\n",
       "      <td>2</td>\n",
       "      <td>1</td>\n",
       "      <td>4</td>\n",
       "      <td>2</td>\n",
       "      <td>0</td>\n",
       "      <td>0</td>\n",
       "      <td>0.386798</td>\n",
       "      <td>0.613202</td>\n",
       "      <td>0</td>\n",
       "    </tr>\n",
       "    <tr>\n",
       "      <th>4</th>\n",
       "      <td>3</td>\n",
       "      <td>28.044332</td>\n",
       "      <td>-0.385883</td>\n",
       "      <td>1</td>\n",
       "      <td>1</td>\n",
       "      <td>2</td>\n",
       "      <td>2</td>\n",
       "      <td>1</td>\n",
       "      <td>0</td>\n",
       "      <td>0.510114</td>\n",
       "      <td>0.489886</td>\n",
       "      <td>1</td>\n",
       "    </tr>\n",
       "  </tbody>\n",
       "</table>\n",
       "</div>"
      ],
      "text/plain": [
       "   V1         V2        V3  V4  V5  V6  V7  treatment  purchase        p1  \\\n",
       "0   2  30.443518 -1.165083   1   1   3   2          0         0  0.495269   \n",
       "1   3  32.159350 -0.645617   2   3   2   2          0         0  0.358259   \n",
       "2   2  30.431659  0.133583   1   1   4   2          0         0  0.524033   \n",
       "3   0  26.588914 -0.212728   2   1   4   2          0         0  0.386798   \n",
       "4   3  28.044332 -0.385883   1   1   2   2          1         0  0.510114   \n",
       "\n",
       "         p0  predicted_t  \n",
       "0  0.504731            0  \n",
       "1  0.641741            0  \n",
       "2  0.475967            1  \n",
       "3  0.613202            0  \n",
       "4  0.489886            1  "
      ]
     },
     "execution_count": 15,
     "metadata": {},
     "output_type": "execute_result"
    }
   ],
   "source": [
    "data.head()"
   ]
  },
  {
   "cell_type": "markdown",
   "metadata": {},
   "source": [
    "## Optimization\n",
    "Find the delta and promotion strategy in order to maximize irr, nir"
   ]
  },
  {
   "cell_type": "code",
   "execution_count": 16,
   "metadata": {},
   "outputs": [],
   "source": [
    "def score(df, promo_pred_col = 'Promotion'):\n",
    "    n_treat       = df.loc[df[promo_pred_col] == 'Yes',:].shape[0]\n",
    "    n_control     = df.loc[df[promo_pred_col] == 'No',:].shape[0]\n",
    "    n_treat_purch = df.loc[df[promo_pred_col] == 'Yes', 'purchase'].sum()\n",
    "    n_ctrl_purch  = df.loc[df[promo_pred_col] == 'No', 'purchase'].sum()\n",
    "    irr = n_treat_purch / n_treat - n_ctrl_purch / n_control\n",
    "    nir = 10 * n_treat_purch - 0.15 * n_treat - 10 * n_ctrl_purch\n",
    "    return (irr, nir)"
   ]
  },
  {
   "cell_type": "markdown",
   "metadata": {},
   "source": [
    "## Test result"
   ]
  },
  {
   "cell_type": "code",
   "execution_count": 42,
   "metadata": {},
   "outputs": [],
   "source": [
    "# testing baseline model, where we send promotions to everyone\n",
    "\n",
    "def promotion_strategy(df):\n",
    "    '''\n",
    "    INPUT \n",
    "    df - a dataframe with *only* the columns V1 - V7 (same as train_data)\n",
    "\n",
    "    OUTPUT\n",
    "    promotion_df - np.array with the values\n",
    "                   'Yes' or 'No' related to whether or not an \n",
    "                   individual should recieve a promotion \n",
    "                   should be the length of df.shape[0]            \n",
    "    Ex:\n",
    "    INPUT: df\n",
    "    \n",
    "    V1\tV2\t  V3\tV4\tV5\tV6\tV7\n",
    "    2\t30\t-1.1\t1\t1\t3\t2\n",
    "    3\t32\t-0.6\t2\t3\t2\t2\n",
    "    2\t30\t0.13\t1\t1\t4\t2\n",
    "    \n",
    "    OUTPUT: promotion\n",
    "    \n",
    "    array(['Yes', 'Yes', 'No'])\n",
    "    indicating the first two users would recieve the promotion and \n",
    "    the last should not.\n",
    "    '''\n",
    "    test = df\n",
    "    promotion = []\n",
    "    num_test_points = test.shape[0]\n",
    "    for i in range(num_test_points):\n",
    "        promotion.append('Yes')\n",
    "    promotion = np.array(promotion)\n",
    "    return promotion\n",
    "\n",
    "def score_(df, promo_pred_col = 'Promotion'):\n",
    "    n_treat       = df.loc[df[promo_pred_col] == 'Yes',:].shape[0]\n",
    "    n_control     = df.loc[df[promo_pred_col] == 'No',:].shape[0]\n",
    "    n_treat_purch = df.loc[df[promo_pred_col] == 'Yes', 'purchase'].sum()\n",
    "    n_ctrl_purch  = df.loc[df[promo_pred_col] == 'No', 'purchase'].sum()\n",
    "    irr = n_treat_purch / n_treat - n_ctrl_purch / n_control\n",
    "    nir = 10 * n_treat_purch - 0.15 * n_treat - 10 * n_ctrl_purch\n",
    "    return (irr, nir)\n",
    "\n",
    "def results(promotion_strategy, data):\n",
    "    df = data[['V1', 'V2', 'V3', 'V4', 'V5', 'V6', 'V7']]\n",
    "    promos = promotion_strategy(df)\n",
    "    score_df = data.iloc[np.where(promos == 'Yes')]\n",
    "    irr, nir = score_(score_df)\n",
    "    return irr, nir\n"
   ]
  },
  {
   "cell_type": "markdown",
   "metadata": {},
   "source": [
    "## Baseline model "
   ]
  },
  {
   "cell_type": "code",
   "execution_count": 18,
   "metadata": {},
   "outputs": [
    {
     "data": {
      "image/png": "[encoded data removed]",
      "text/latex": [
       "$\\displaystyle \\left( 0.009454547819772702, \\  -2334.5999999999995\\right)$"
      ],
      "text/plain": [
       "(0.009454547819772702, -2334.5999999999995)"
      ]
     },
     "execution_count": 18,
     "metadata": {},
     "output_type": "execute_result"
    }
   ],
   "source": [
    "df = pd.read_csv(\"/home/dtd/Downloads/Data_Scientist_Nanodegree/starbucks_portfolio_exercise/training.csv\")\n",
    "train_results_(promotion_strategy, df)"
   ]
  },
  {
   "cell_type": "code",
   "execution_count": 19,
   "metadata": {},
   "outputs": [],
   "source": [
    "df['p1'] = model_t.predict_proba(df[cov].values)[:,:1]\n",
    "df['p0'] = 1 - model_t.predict_proba(df[cov].values)[:,:1]\n",
    "df['predicted_t'] = [1 if i >= 0.5 else 0 for i in df['p1']]"
   ]
  },
  {
   "cell_type": "code",
   "execution_count": 23,
   "metadata": {},
   "outputs": [
    {
     "data": {
      "text/html": [
       "<div>\n",
       "<style scoped>\n",
       "    .dataframe tbody tr th:only-of-type {\n",
       "        vertical-align: middle;\n",
       "    }\n",
       "\n",
       "    .dataframe tbody tr th {\n",
       "        vertical-align: top;\n",
       "    }\n",
       "\n",
       "    .dataframe thead th {\n",
       "        text-align: right;\n",
       "    }\n",
       "</style>\n",
       "<table border=\"1\" class=\"dataframe\">\n",
       "  <thead>\n",
       "    <tr style=\"text-align: right;\">\n",
       "      <th></th>\n",
       "      <th>ID</th>\n",
       "      <th>Promotion</th>\n",
       "      <th>purchase</th>\n",
       "      <th>V1</th>\n",
       "      <th>V2</th>\n",
       "      <th>V3</th>\n",
       "      <th>V4</th>\n",
       "      <th>V5</th>\n",
       "      <th>V6</th>\n",
       "      <th>V7</th>\n",
       "      <th>p1</th>\n",
       "      <th>p0</th>\n",
       "      <th>predicted_t</th>\n",
       "      <th>q1</th>\n",
       "      <th>incre_q1</th>\n",
       "      <th>proposed_strategy</th>\n",
       "    </tr>\n",
       "  </thead>\n",
       "  <tbody>\n",
       "    <tr>\n",
       "      <th>0</th>\n",
       "      <td>1</td>\n",
       "      <td>No</td>\n",
       "      <td>0</td>\n",
       "      <td>2</td>\n",
       "      <td>30.443518</td>\n",
       "      <td>-1.165083</td>\n",
       "      <td>1</td>\n",
       "      <td>1</td>\n",
       "      <td>3</td>\n",
       "      <td>2</td>\n",
       "      <td>0.495269</td>\n",
       "      <td>0.504731</td>\n",
       "      <td>0</td>\n",
       "      <td>0.443594</td>\n",
       "      <td>0</td>\n",
       "      <td>No</td>\n",
       "    </tr>\n",
       "    <tr>\n",
       "      <th>1</th>\n",
       "      <td>3</td>\n",
       "      <td>No</td>\n",
       "      <td>0</td>\n",
       "      <td>3</td>\n",
       "      <td>32.159350</td>\n",
       "      <td>-0.645617</td>\n",
       "      <td>2</td>\n",
       "      <td>3</td>\n",
       "      <td>2</td>\n",
       "      <td>2</td>\n",
       "      <td>0.358259</td>\n",
       "      <td>0.641741</td>\n",
       "      <td>0</td>\n",
       "      <td>0.214112</td>\n",
       "      <td>0</td>\n",
       "      <td>No</td>\n",
       "    </tr>\n",
       "    <tr>\n",
       "      <th>2</th>\n",
       "      <td>4</td>\n",
       "      <td>No</td>\n",
       "      <td>0</td>\n",
       "      <td>2</td>\n",
       "      <td>30.431659</td>\n",
       "      <td>0.133583</td>\n",
       "      <td>1</td>\n",
       "      <td>1</td>\n",
       "      <td>4</td>\n",
       "      <td>2</td>\n",
       "      <td>0.524033</td>\n",
       "      <td>0.475967</td>\n",
       "      <td>0</td>\n",
       "      <td>NaN</td>\n",
       "      <td>0</td>\n",
       "      <td>No</td>\n",
       "    </tr>\n",
       "    <tr>\n",
       "      <th>3</th>\n",
       "      <td>5</td>\n",
       "      <td>No</td>\n",
       "      <td>0</td>\n",
       "      <td>0</td>\n",
       "      <td>26.588914</td>\n",
       "      <td>-0.212728</td>\n",
       "      <td>2</td>\n",
       "      <td>1</td>\n",
       "      <td>4</td>\n",
       "      <td>2</td>\n",
       "      <td>0.386798</td>\n",
       "      <td>0.613202</td>\n",
       "      <td>0</td>\n",
       "      <td>0.483042</td>\n",
       "      <td>0</td>\n",
       "      <td>No</td>\n",
       "    </tr>\n",
       "    <tr>\n",
       "      <th>4</th>\n",
       "      <td>8</td>\n",
       "      <td>Yes</td>\n",
       "      <td>0</td>\n",
       "      <td>3</td>\n",
       "      <td>28.044332</td>\n",
       "      <td>-0.385883</td>\n",
       "      <td>1</td>\n",
       "      <td>1</td>\n",
       "      <td>2</td>\n",
       "      <td>2</td>\n",
       "      <td>0.510114</td>\n",
       "      <td>0.489886</td>\n",
       "      <td>0</td>\n",
       "      <td>NaN</td>\n",
       "      <td>0</td>\n",
       "      <td>No</td>\n",
       "    </tr>\n",
       "  </tbody>\n",
       "</table>\n",
       "</div>"
      ],
      "text/plain": [
       "   ID Promotion  purchase  V1         V2        V3  V4  V5  V6  V7        p1  \\\n",
       "0   1        No         0   2  30.443518 -1.165083   1   1   3   2  0.495269   \n",
       "1   3        No         0   3  32.159350 -0.645617   2   3   2   2  0.358259   \n",
       "2   4        No         0   2  30.431659  0.133583   1   1   4   2  0.524033   \n",
       "3   5        No         0   0  26.588914 -0.212728   2   1   4   2  0.386798   \n",
       "4   8       Yes         0   3  28.044332 -0.385883   1   1   2   2  0.510114   \n",
       "\n",
       "         p0  predicted_t        q1  incre_q1 proposed_strategy  \n",
       "0  0.504731            0  0.443594         0                No  \n",
       "1  0.641741            0  0.214112         0                No  \n",
       "2  0.475967            0       NaN         0                No  \n",
       "3  0.613202            0  0.483042         0                No  \n",
       "4  0.489886            0       NaN         0                No  "
      ]
     },
     "execution_count": 23,
     "metadata": {},
     "output_type": "execute_result"
    }
   ],
   "source": [
    "df.head()"
   ]
  },
  {
   "cell_type": "markdown",
   "metadata": {},
   "source": [
    "## Explore the changes "
   ]
  },
  {
   "cell_type": "code",
   "execution_count": 1,
   "metadata": {},
   "outputs": [
    {
     "ename": "NameError",
     "evalue": "name 'np' is not defined",
     "output_type": "error",
     "traceback": [
      "\u001b[0;31m---------------------------------------------------------------------------\u001b[0m",
      "\u001b[0;31mNameError\u001b[0m                                 Traceback (most recent call last)",
      "\u001b[0;32m<ipython-input-1-a7bff0b40f9a>\u001b[0m in \u001b[0;36m<module>\u001b[0;34m\u001b[0m\n\u001b[1;32m      1\u001b[0m \u001b[0;32mfrom\u001b[0m \u001b[0mcollections\u001b[0m \u001b[0;32mimport\u001b[0m \u001b[0mCounter\u001b[0m\u001b[0;34m\u001b[0m\u001b[0;34m\u001b[0m\u001b[0m\n\u001b[0;32m----> 2\u001b[0;31m \u001b[0mdelta_seq\u001b[0m \u001b[0;34m=\u001b[0m \u001b[0mnp\u001b[0m\u001b[0;34m.\u001b[0m\u001b[0mrandom\u001b[0m\u001b[0;34m.\u001b[0m\u001b[0mnormal\u001b[0m\u001b[0;34m(\u001b[0m\u001b[0;36m0.1\u001b[0m\u001b[0;34m,\u001b[0m \u001b[0;36m10\u001b[0m\u001b[0;34m,\u001b[0m \u001b[0;36m1000\u001b[0m\u001b[0;34m)\u001b[0m\u001b[0;34m\u001b[0m\u001b[0;34m\u001b[0m\u001b[0m\n\u001b[0m\u001b[1;32m      3\u001b[0m \u001b[0mrev_seq\u001b[0m \u001b[0;34m=\u001b[0m \u001b[0;34m[\u001b[0m\u001b[0;34m]\u001b[0m\u001b[0;34m\u001b[0m\u001b[0;34m\u001b[0m\u001b[0m\n\u001b[1;32m      4\u001b[0m \u001b[0mdictionary_\u001b[0m \u001b[0;34m=\u001b[0m \u001b[0;34m[\u001b[0m\u001b[0;34m]\u001b[0m\u001b[0;34m\u001b[0m\u001b[0;34m\u001b[0m\u001b[0m\n\u001b[1;32m      5\u001b[0m \u001b[0mdelta_result\u001b[0m \u001b[0;34m=\u001b[0m \u001b[0;34m[\u001b[0m\u001b[0;34m]\u001b[0m\u001b[0;34m\u001b[0m\u001b[0;34m\u001b[0m\u001b[0m\n",
      "\u001b[0;31mNameError\u001b[0m: name 'np' is not defined"
     ]
    }
   ],
   "source": [
    "from collections import Counter\n",
    "delta_seq = np.random.normal(0.1, 10, 1000)\n",
    "rev_seq = []\n",
    "dictionary_ = []\n",
    "delta_result = []\n",
    "\n",
    "df['proposed_strategy'] = ''\n",
    "\n",
    "for delta in tqdm(delta_seq):    \n",
    "    q1 = (delta * df['p1']) / (delta * df['p1'] + df['p0'])\n",
    "    policy = np.array([1 if i >= 0.5 else 0 for i in q1])\n",
    "    df['proposed_strategy'] = [ \"Yes\" if i == 1 else \"No\" for i in policy]\n",
    "    d = dict(Counter(policy))\n",
    "    count = 0\n",
    "    if 1 not in d:\n",
    "        count = 0\n",
    "    else:\n",
    "        count = d[1]\n",
    "    irr, nir = score_(df, promo_pred_col = 'proposed_strategy')\n",
    "    \n",
    "    if not math.isnan(nir):\n",
    "        delta_result.append(delta)\n",
    "        rev_seq.append(nir)\n",
    "        if count not in dictionary_:\n",
    "            dictionary_.append(count)\n",
    "            print(\"Number of treatment {}\".format(count))\n",
    "            print(\"Revenue {}\".format(nir))\n",
    "            print(\"*\"*100)"
   ]
  },
  {
   "cell_type": "code",
   "execution_count": 28,
   "metadata": {},
   "outputs": [
    {
     "data": {
      "image/png": "[encoded data removed]",
      "text/latex": [
       "$\\displaystyle -2245.2999999999993$"
      ],
      "text/plain": [
       "-2245.2999999999993"
      ]
     },
     "execution_count": 28,
     "metadata": {},
     "output_type": "execute_result"
    }
   ],
   "source": [
    "max(rev_seq)"
   ]
  },
  {
   "cell_type": "markdown",
   "metadata": {},
   "source": [
    "## Train test"
   ]
  },
  {
   "cell_type": "code",
   "execution_count": 50,
   "metadata": {},
   "outputs": [],
   "source": [
    "# read data\n",
    "test_data = pd.read_csv('/home/dtd/Downloads/Data_Scientist_Nanodegree/starbucks_portfolio_exercise/Test.csv')\n",
    "train_data = pd.read_csv('/home/dtd/Downloads/Data_Scientist_Nanodegree/starbucks_portfolio_exercise/training.csv')"
   ]
  },
  {
   "cell_type": "code",
   "execution_count": 41,
   "metadata": {},
   "outputs": [
    {
     "data": {
      "image/png": "[encoded data removed]",
      "text/latex": [
       "$\\displaystyle \\left( 0.009593158278250108, \\  -1132.1999999999998\\right)$"
      ],
      "text/plain": [
       "(0.009593158278250108, -1132.1999999999998)"
      ]
     },
     "execution_count": 41,
     "metadata": {},
     "output_type": "execute_result"
    }
   ],
   "source": [
    "score(test_data, promo_pred_col = 'Promotion')"
   ]
  },
  {
   "cell_type": "code",
   "execution_count": 52,
   "metadata": {},
   "outputs": [],
   "source": [
    "test_data['p1'] = model_t.predict_proba(test_data[cov].values)[:,:1]\n",
    "test_data['p0'] = 1 - model_t.predict_proba(test_data[cov].values)[:,:1]"
   ]
  },
  {
   "cell_type": "code",
   "execution_count": null,
   "metadata": {},
   "outputs": [
    {
     "name": "stderr",
     "output_type": "stream",
     "text": [
      "  0%|          | 0/10000 [00:00<?, ?it/s]/home/dtd/.conda/envs/phd_env/lib/python3.7/site-packages/ipykernel_launcher.py:7: RuntimeWarning: invalid value encountered in long_scalars\n",
      "  import sys\n",
      "  0%|          | 3/10000 [00:00<07:43, 21.58it/s]"
     ]
    },
    {
     "name": "stdout",
     "output_type": "stream",
     "text": [
      "41650 0 480 0\n",
      "Number of treatment 41650\n",
      "Revenue -1447.5\n",
      "****************************************************************************************************\n",
      "41648 2 480 0\n",
      "Number of treatment 41648\n",
      "Revenue -1447.1999999999998\n",
      "****************************************************************************************************\n",
      "41650 0 480 0\n",
      "41650 0 480 0\n",
      "41650 0 480 0\n"
     ]
    },
    {
     "name": "stderr",
     "output_type": "stream",
     "text": [
      "  0%|          | 9/10000 [00:00<07:13, 23.03it/s]"
     ]
    },
    {
     "name": "stdout",
     "output_type": "stream",
     "text": [
      "41650 0 480 0\n",
      "41650 0 480 0\n",
      "41650 0 480 0\n",
      "41650 0 480 0\n",
      "37303 4347 403 77\n",
      "Number of treatment 37303\n",
      "Revenue -2335.45\n",
      "****************************************************************************************************\n"
     ]
    },
    {
     "name": "stderr",
     "output_type": "stream",
     "text": [
      "  0%|          | 15/10000 [00:00<06:59, 23.78it/s]"
     ]
    },
    {
     "name": "stdout",
     "output_type": "stream",
     "text": [
      "41650 0 480 0\n",
      "41650 0 480 0\n",
      "12446 29204 72 408\n",
      "Number of treatment 12446\n",
      "Revenue -5226.9\n",
      "****************************************************************************************************\n",
      "41650 0 480 0\n",
      "11705 29945 68 412\n",
      "Number of treatment 11705\n",
      "Revenue -5195.75\n",
      "****************************************************************************************************\n",
      "41650 0 480 0\n"
     ]
    },
    {
     "name": "stderr",
     "output_type": "stream",
     "text": [
      "  0%|          | 21/10000 [00:00<06:48, 24.41it/s]"
     ]
    },
    {
     "name": "stdout",
     "output_type": "stream",
     "text": [
      "41650 0 480 0\n",
      "41650 0 480 0\n",
      "41650 0 480 0\n",
      "41650 0 480 0\n",
      "41650 0 480 0\n",
      "41650 0 480 0\n"
     ]
    },
    {
     "name": "stderr",
     "output_type": "stream",
     "text": [
      "  0%|          | 27/10000 [00:01<06:59, 23.79it/s]"
     ]
    },
    {
     "name": "stdout",
     "output_type": "stream",
     "text": [
      "41650 0 480 0\n",
      "41650 0 480 0\n",
      "19488 22162 159 321\n",
      "Number of treatment 19488\n",
      "Revenue -4543.2\n",
      "****************************************************************************************************\n",
      "41650 0 480 0\n",
      "41650 0 480 0\n"
     ]
    },
    {
     "name": "stderr",
     "output_type": "stream",
     "text": [
      "\r",
      "  0%|          | 30/10000 [00:01<07:08, 23.28it/s]"
     ]
    },
    {
     "name": "stdout",
     "output_type": "stream",
     "text": [
      "41650 0 480 0\n",
      "41650 0 480 0\n",
      "41650 0 480 0\n",
      "41650 0 480 0\n",
      "41639 11 480 0\n",
      "Number of treatment 41639\n",
      "Revenue -1445.8499999999995\n",
      "****************************************************************************************************\n"
     ]
    },
    {
     "name": "stderr",
     "output_type": "stream",
     "text": [
      "  0%|          | 36/10000 [00:01<07:30, 22.12it/s]"
     ]
    },
    {
     "name": "stdout",
     "output_type": "stream",
     "text": [
      "41650 0 480 0\n",
      "41650 0 480 0\n",
      "0 41650 0 480\n",
      "Number of treatment 0\n",
      "Revenue -4800.0\n",
      "****************************************************************************************************\n",
      "0 41650 0 480\n",
      "41650 0 480 0\n"
     ]
    },
    {
     "name": "stderr",
     "output_type": "stream",
     "text": [
      "  0%|          | 42/10000 [00:01<07:23, 22.45it/s]"
     ]
    },
    {
     "name": "stdout",
     "output_type": "stream",
     "text": [
      "41650 0 480 0\n",
      "41650 0 480 0\n",
      "41650 0 480 0\n",
      "0 41650 0 480\n",
      "0 41650 0 480\n"
     ]
    },
    {
     "name": "stderr",
     "output_type": "stream",
     "text": [
      "\r",
      "  0%|          | 45/10000 [00:01<07:13, 22.95it/s]"
     ]
    },
    {
     "name": "stdout",
     "output_type": "stream",
     "text": [
      "41650 0 480 0\n",
      "41650 0 480 0\n",
      "41650 0 480 0\n",
      "41650 0 480 0\n",
      "41650 0 480 0\n"
     ]
    },
    {
     "name": "stderr",
     "output_type": "stream",
     "text": [
      "  1%|          | 51/10000 [00:02<07:06, 23.33it/s]"
     ]
    },
    {
     "name": "stdout",
     "output_type": "stream",
     "text": [
      "41650 0 480 0\n",
      "41650 0 480 0\n",
      "41650 0 480 0\n",
      "41650 0 480 0\n",
      "41650 0 480 0\n"
     ]
    },
    {
     "name": "stderr",
     "output_type": "stream",
     "text": [
      "  1%|          | 57/10000 [00:02<07:08, 23.20it/s]"
     ]
    },
    {
     "name": "stdout",
     "output_type": "stream",
     "text": [
      "41650 0 480 0\n",
      "41650 0 480 0\n",
      "41650 0 480 0\n",
      "41650 0 480 0\n",
      "8466 33184 55 425\n",
      "Number of treatment 8466\n",
      "Revenue -4969.9\n",
      "****************************************************************************************************\n"
     ]
    },
    {
     "name": "stderr",
     "output_type": "stream",
     "text": [
      "  1%|          | 63/10000 [00:02<06:55, 23.90it/s]"
     ]
    },
    {
     "name": "stdout",
     "output_type": "stream",
     "text": [
      "18405 23245 146 334\n",
      "Number of treatment 18405\n",
      "Revenue -4640.75\n",
      "****************************************************************************************************\n",
      "0 41650 0 480\n",
      "41650 0 480 0\n",
      "41650 0 480 0\n",
      "10 41640 0 480\n",
      "Number of treatment 10\n",
      "Revenue -4801.5\n",
      "****************************************************************************************************\n",
      "41650 0 480 0\n"
     ]
    },
    {
     "name": "stderr",
     "output_type": "stream",
     "text": [
      "\r",
      "  1%|          | 66/10000 [00:02<07:10, 23.07it/s]"
     ]
    },
    {
     "name": "stdout",
     "output_type": "stream",
     "text": [
      "41650 0 480 0\n",
      "11152 30498 64 416\n",
      "Number of treatment 11152\n",
      "Revenue -5192.8\n",
      "****************************************************************************************************\n",
      "39724 1926 450 30\n",
      "Number of treatment 39724\n",
      "Revenue -1758.5999999999995\n",
      "****************************************************************************************************\n",
      "41650 0 480 0\n",
      "41650 0 480 0\n"
     ]
    },
    {
     "name": "stderr",
     "output_type": "stream",
     "text": [
      "  1%|          | 72/10000 [00:03<07:31, 21.99it/s]"
     ]
    },
    {
     "name": "stdout",
     "output_type": "stream",
     "text": [
      "41650 0 480 0\n",
      "41650 0 480 0\n",
      "41650 0 480 0\n",
      "41650 0 480 0\n",
      "5320 36330 38 442\n",
      "Number of treatment 5320\n",
      "Revenue -4838.0\n",
      "****************************************************************************************************\n"
     ]
    },
    {
     "name": "stderr",
     "output_type": "stream",
     "text": [
      "  1%|          | 78/10000 [00:03<07:11, 22.98it/s]"
     ]
    },
    {
     "name": "stdout",
     "output_type": "stream",
     "text": [
      "11392 30258 67 413\n",
      "Number of treatment 11392\n",
      "Revenue -5168.8\n",
      "****************************************************************************************************\n",
      "41650 0 480 0\n",
      "41650 0 480 0\n",
      "41650 0 480 0\n",
      "12816 28834 74 406\n",
      "Number of treatment 12816\n",
      "Revenue -5242.4\n",
      "****************************************************************************************************\n"
     ]
    },
    {
     "name": "stderr",
     "output_type": "stream",
     "text": [
      "  1%|          | 84/10000 [00:03<06:49, 24.21it/s]"
     ]
    },
    {
     "name": "stdout",
     "output_type": "stream",
     "text": [
      "34771 6879 370 110\n",
      "Number of treatment 34771\n",
      "Revenue -2615.6499999999996\n",
      "****************************************************************************************************\n",
      "41650 0 480 0\n",
      "0 41650 0 480\n",
      "41650 0 480 0\n",
      "39219 2431 443 37\n",
      "Number of treatment 39219\n",
      "Revenue -1822.8499999999995\n",
      "****************************************************************************************************\n",
      "41650 0 480 0\n"
     ]
    },
    {
     "name": "stderr",
     "output_type": "stream",
     "text": [
      "\r",
      "  1%|          | 87/10000 [00:03<06:48, 24.26it/s]"
     ]
    },
    {
     "name": "stdout",
     "output_type": "stream",
     "text": [
      "41650 0 480 0\n",
      "41525 125 479 1\n",
      "Number of treatment 41525\n",
      "Revenue -1448.75\n",
      "****************************************************************************************************\n",
      "41650 0 480 0\n",
      "0 41650 0 480\n",
      "41650 0 480 0\n"
     ]
    },
    {
     "name": "stderr",
     "output_type": "stream",
     "text": [
      "  1%|          | 93/10000 [00:03<07:01, 23.50it/s]"
     ]
    },
    {
     "name": "stdout",
     "output_type": "stream",
     "text": [
      "12534 29116 74 406\n",
      "Number of treatment 12534\n",
      "Revenue -5200.1\n",
      "****************************************************************************************************\n",
      "15456 26194 98 382\n",
      "Number of treatment 15456\n",
      "Revenue -5158.4\n",
      "****************************************************************************************************\n",
      "41648 2 480 0\n",
      "41650 0 480 0\n",
      "41650 0 480 0\n"
     ]
    },
    {
     "name": "stderr",
     "output_type": "stream",
     "text": [
      "  1%|          | 99/10000 [00:04<06:59, 23.59it/s]"
     ]
    },
    {
     "name": "stdout",
     "output_type": "stream",
     "text": [
      "2581 39069 20 460\n",
      "Number of treatment 2581\n",
      "Revenue -4787.15\n",
      "****************************************************************************************************\n",
      "41650 0 480 0\n",
      "2298 39352 18 462\n",
      "Number of treatment 2298\n",
      "Revenue -4784.7\n",
      "****************************************************************************************************\n",
      "41650 0 480 0\n",
      "41650 0 480 0\n"
     ]
    },
    {
     "name": "stderr",
     "output_type": "stream",
     "text": [
      "\r",
      "  1%|          | 102/10000 [00:04<07:06, 23.20it/s]"
     ]
    },
    {
     "name": "stdout",
     "output_type": "stream",
     "text": [
      "12462 29188 72 408\n",
      "Number of treatment 12462\n",
      "Revenue -5229.3\n",
      "****************************************************************************************************\n",
      "41650 0 480 0\n",
      "41650 0 480 0\n",
      "41650 0 480 0\n",
      "12861 28789 75 405\n",
      "Number of treatment 12861\n",
      "Revenue -5229.15\n",
      "****************************************************************************************************\n"
     ]
    },
    {
     "name": "stderr",
     "output_type": "stream",
     "text": [
      "  1%|          | 108/10000 [00:04<06:52, 24.01it/s]"
     ]
    },
    {
     "name": "stdout",
     "output_type": "stream",
     "text": [
      "41650 0 480 0\n",
      "41650 0 480 0\n",
      "41650 0 480 0\n",
      "0 41650 0 480\n",
      "41650 0 480 0\n"
     ]
    },
    {
     "name": "stderr",
     "output_type": "stream",
     "text": [
      "  1%|          | 114/10000 [00:04<07:05, 23.23it/s]"
     ]
    },
    {
     "name": "stdout",
     "output_type": "stream",
     "text": [
      "41650 0 480 0\n",
      "41650 0 480 0\n",
      "12984 28666 75 405\n",
      "Number of treatment 12984\n",
      "Revenue -5247.6\n",
      "****************************************************************************************************\n",
      "41650 0 480 0\n",
      "4861 36789 34 446\n",
      "Number of treatment 4861\n",
      "Revenue -4849.15\n",
      "****************************************************************************************************\n"
     ]
    },
    {
     "name": "stderr",
     "output_type": "stream",
     "text": [
      "\r",
      "  1%|          | 117/10000 [00:05<07:07, 23.14it/s]"
     ]
    },
    {
     "name": "stdout",
     "output_type": "stream",
     "text": [
      "41650 0 480 0\n",
      "41650 0 480 0\n",
      "41650 0 480 0\n",
      "41650 0 480 0\n",
      "17533 24117 137 343\n",
      "Number of treatment 17533\n",
      "Revenue -4689.95\n",
      "****************************************************************************************************\n"
     ]
    },
    {
     "name": "stderr",
     "output_type": "stream",
     "text": [
      "  1%|          | 123/10000 [00:05<07:14, 22.73it/s]"
     ]
    },
    {
     "name": "stdout",
     "output_type": "stream",
     "text": [
      "41650 0 480 0\n",
      "41650 0 480 0\n",
      "35752 5898 381 99\n",
      "Number of treatment 35752\n",
      "Revenue -2542.8\n",
      "****************************************************************************************************\n",
      "41650 0 480 0\n",
      "41650 0 480 0\n"
     ]
    },
    {
     "name": "stderr",
     "output_type": "stream",
     "text": [
      "  1%|▏         | 129/10000 [00:05<07:09, 22.96it/s]"
     ]
    },
    {
     "name": "stdout",
     "output_type": "stream",
     "text": [
      "41650 0 480 0\n",
      "0 41650 0 480\n",
      "41650 0 480 0\n",
      "41650 0 480 0\n",
      "41650 0 480 0\n"
     ]
    },
    {
     "name": "stderr",
     "output_type": "stream",
     "text": [
      "\r",
      "  1%|▏         | 132/10000 [00:05<07:19, 22.46it/s]"
     ]
    },
    {
     "name": "stdout",
     "output_type": "stream",
     "text": [
      "41650 0 480 0\n",
      "41650 0 480 0\n",
      "0 41650 0 480\n",
      "41650 0 480 0\n",
      "41650 0 480 0\n"
     ]
    },
    {
     "name": "stderr",
     "output_type": "stream",
     "text": [
      "  1%|▏         | 138/10000 [00:05<07:18, 22.49it/s]"
     ]
    },
    {
     "name": "stdout",
     "output_type": "stream",
     "text": [
      "41650 0 480 0\n",
      "41650 0 480 0\n",
      "41650 0 480 0\n",
      "41650 0 480 0\n",
      "786 40864 5 475\n",
      "Number of treatment 786\n",
      "Revenue -4817.9\n",
      "****************************************************************************************************\n"
     ]
    },
    {
     "name": "stderr",
     "output_type": "stream",
     "text": [
      "  1%|▏         | 144/10000 [00:06<07:07, 23.04it/s]"
     ]
    },
    {
     "name": "stdout",
     "output_type": "stream",
     "text": [
      "41650 0 480 0\n",
      "41650 0 480 0\n",
      "38241 3409 423 57\n",
      "Number of treatment 38241\n",
      "Revenue -2076.1499999999996\n",
      "****************************************************************************************************\n",
      "41650 0 480 0\n",
      "41650 0 480 0\n"
     ]
    },
    {
     "name": "stderr",
     "output_type": "stream",
     "text": [
      "\r",
      "  1%|▏         | 147/10000 [00:06<07:10, 22.86it/s]"
     ]
    },
    {
     "name": "stdout",
     "output_type": "stream",
     "text": [
      "11240 30410 64 416\n",
      "Number of treatment 11240\n",
      "Revenue -5206.0\n",
      "****************************************************************************************************\n",
      "41650 0 480 0\n",
      "41650 0 480 0\n",
      "20218 21432 163 317\n",
      "Number of treatment 20218\n",
      "Revenue -4572.7\n",
      "****************************************************************************************************\n",
      "41650 0 480 0\n"
     ]
    },
    {
     "name": "stderr",
     "output_type": "stream",
     "text": [
      "  2%|▏         | 153/10000 [00:06<07:19, 22.39it/s]"
     ]
    },
    {
     "name": "stdout",
     "output_type": "stream",
     "text": [
      "41650 0 480 0\n",
      "41650 0 480 0\n",
      "14500 27150 91 389\n",
      "Number of treatment 14500\n",
      "Revenue -5155.0\n",
      "****************************************************************************************************\n",
      "41650 0 480 0\n",
      "41650 0 480 0\n"
     ]
    },
    {
     "name": "stderr",
     "output_type": "stream",
     "text": [
      "  2%|▏         | 159/10000 [00:06<07:16, 22.53it/s]"
     ]
    },
    {
     "name": "stdout",
     "output_type": "stream",
     "text": [
      "41650 0 480 0\n",
      "41650 0 480 0\n",
      "41192 458 472 8\n",
      "Number of treatment 41192\n",
      "Revenue -1538.8000000000002\n",
      "****************************************************************************************************\n",
      "41650 0 480 0\n",
      "17520 24130 137 343\n",
      "Number of treatment 17520\n",
      "Revenue -4688.0\n",
      "****************************************************************************************************\n"
     ]
    },
    {
     "name": "stderr",
     "output_type": "stream",
     "text": [
      "\r",
      "  2%|▏         | 162/10000 [00:07<07:12, 22.75it/s]"
     ]
    },
    {
     "name": "stdout",
     "output_type": "stream",
     "text": [
      "41650 0 480 0\n",
      "41650 0 480 0\n",
      "41650 0 480 0\n",
      "41650 0 480 0\n",
      "41650 0 480 0\n"
     ]
    },
    {
     "name": "stderr",
     "output_type": "stream",
     "text": [
      "  2%|▏         | 168/10000 [00:07<06:58, 23.51it/s]"
     ]
    },
    {
     "name": "stdout",
     "output_type": "stream",
     "text": [
      "41650 0 480 0\n",
      "23670 17980 207 273\n",
      "Number of treatment 23670\n",
      "Revenue -4210.5\n",
      "****************************************************************************************************\n",
      "41650 0 480 0\n",
      "2760 38890 21 459\n",
      "Number of treatment 2760\n",
      "Revenue -4794.0\n",
      "****************************************************************************************************\n",
      "41650 0 480 0\n"
     ]
    },
    {
     "name": "stderr",
     "output_type": "stream",
     "text": [
      "  2%|▏         | 174/10000 [00:07<06:44, 24.27it/s]"
     ]
    },
    {
     "name": "stdout",
     "output_type": "stream",
     "text": [
      "0 41650 0 480\n",
      "0 41650 0 480\n",
      "41650 0 480 0\n",
      "41650 0 480 0\n",
      "41650 0 480 0\n"
     ]
    },
    {
     "name": "stderr",
     "output_type": "stream",
     "text": [
      "\r",
      "  2%|▏         | 177/10000 [00:07<06:48, 24.04it/s]"
     ]
    },
    {
     "name": "stdout",
     "output_type": "stream",
     "text": [
      "41650 0 480 0\n",
      "41650 0 480 0\n",
      "41650 0 480 0\n",
      "41650 0 480 0\n",
      "41650 0 480 0\n"
     ]
    },
    {
     "name": "stderr",
     "output_type": "stream",
     "text": [
      "  2%|▏         | 183/10000 [00:07<07:17, 22.43it/s]"
     ]
    },
    {
     "name": "stdout",
     "output_type": "stream",
     "text": [
      "0 41650 0 480\n",
      "0 41650 0 480\n",
      "30403 11247 295 185\n",
      "Number of treatment 30403\n",
      "Revenue -3460.45\n",
      "****************************************************************************************************\n",
      "41650 0 480 0\n",
      "41650 0 480 0\n"
     ]
    },
    {
     "name": "stderr",
     "output_type": "stream",
     "text": [
      "  2%|▏         | 189/10000 [00:08<07:28, 21.88it/s]"
     ]
    },
    {
     "name": "stdout",
     "output_type": "stream",
     "text": [
      "37168 4482 401 79\n",
      "Number of treatment 37168\n",
      "Revenue -2355.2\n",
      "****************************************************************************************************\n",
      "41650 0 480 0\n",
      "41650 0 480 0\n",
      "41650 0 480 0\n",
      "41650 0 480 0\n"
     ]
    },
    {
     "name": "stderr",
     "output_type": "stream",
     "text": [
      "\r",
      "  2%|▏         | 192/10000 [00:08<07:57, 20.54it/s]"
     ]
    },
    {
     "name": "stdout",
     "output_type": "stream",
     "text": [
      "41650 0 480 0\n",
      "35830 5820 382 98\n",
      "Number of treatment 35830\n",
      "Revenue -2534.5\n",
      "****************************************************************************************************\n",
      "41650 0 480 0\n",
      "41650 0 480 0\n"
     ]
    },
    {
     "name": "stderr",
     "output_type": "stream",
     "text": [
      "  2%|▏         | 198/10000 [00:08<07:41, 21.25it/s]"
     ]
    },
    {
     "name": "stdout",
     "output_type": "stream",
     "text": [
      "41650 0 480 0\n",
      "41650 0 480 0\n",
      "41650 0 480 0\n",
      "41650 0 480 0\n",
      "41650 0 480 0\n"
     ]
    },
    {
     "name": "stderr",
     "output_type": "stream",
     "text": [
      "\r",
      "  2%|▏         | 201/10000 [00:08<07:33, 21.59it/s]"
     ]
    },
    {
     "name": "stdout",
     "output_type": "stream",
     "text": [
      "41650 0 480 0\n",
      "41650 0 480 0\n",
      "41650 0 480 0\n",
      "41650 0 480 0\n",
      "41650 0 480 0\n"
     ]
    },
    {
     "name": "stderr",
     "output_type": "stream",
     "text": [
      "  2%|▏         | 207/10000 [00:09<07:30, 21.71it/s]"
     ]
    },
    {
     "name": "stdout",
     "output_type": "stream",
     "text": [
      "41650 0 480 0\n",
      "0 41650 0 480\n",
      "41650 0 480 0\n",
      "41650 0 480 0\n",
      "41650 0 480 0\n"
     ]
    },
    {
     "name": "stderr",
     "output_type": "stream",
     "text": [
      "  2%|▏         | 213/10000 [00:09<07:34, 21.54it/s]"
     ]
    },
    {
     "name": "stdout",
     "output_type": "stream",
     "text": [
      "41650 0 480 0\n",
      "41650 0 480 0\n",
      "41650 0 480 0\n",
      "41650 0 480 0\n",
      "1953 39697 16 464\n",
      "Number of treatment 1953\n",
      "Revenue -4772.95\n",
      "****************************************************************************************************\n"
     ]
    },
    {
     "name": "stderr",
     "output_type": "stream",
     "text": [
      "\r",
      "  2%|▏         | 216/10000 [00:09<07:46, 20.96it/s]"
     ]
    },
    {
     "name": "stdout",
     "output_type": "stream",
     "text": [
      "41650 0 480 0\n",
      "41650 0 480 0\n",
      "41650 0 480 0\n",
      "41650 0 480 0\n",
      "41650 0 480 0\n"
     ]
    },
    {
     "name": "stderr",
     "output_type": "stream",
     "text": [
      "  2%|▏         | 222/10000 [00:09<07:40, 21.23it/s]"
     ]
    },
    {
     "name": "stdout",
     "output_type": "stream",
     "text": [
      "0 41650 0 480\n",
      "41650 0 480 0\n",
      "0 41650 0 480\n",
      "41231 419 473 7\n",
      "Number of treatment 41231\n",
      "Revenue -1524.6499999999996\n",
      "****************************************************************************************************\n",
      "41650 0 480 0\n"
     ]
    },
    {
     "name": "stderr",
     "output_type": "stream",
     "text": [
      "  2%|▏         | 228/10000 [00:10<07:43, 21.10it/s]"
     ]
    },
    {
     "name": "stdout",
     "output_type": "stream",
     "text": [
      "41650 0 480 0\n",
      "41650 0 480 0\n",
      "41650 0 480 0\n",
      "27274 14376 250 230\n",
      "Number of treatment 27274\n",
      "Revenue -3891.1\n",
      "****************************************************************************************************\n",
      "41650 0 480 0\n"
     ]
    },
    {
     "name": "stderr",
     "output_type": "stream",
     "text": [
      "\r",
      "  2%|▏         | 231/10000 [00:10<07:23, 22.01it/s]"
     ]
    },
    {
     "name": "stdout",
     "output_type": "stream",
     "text": [
      "41650 0 480 0\n",
      "41650 0 480 0\n",
      "41650 0 480 0\n",
      "21642 20008 181 299\n",
      "Number of treatment 21642\n",
      "Revenue -4426.299999999999\n",
      "****************************************************************************************************\n",
      "41650 0 480 0\n"
     ]
    },
    {
     "name": "stderr",
     "output_type": "stream",
     "text": [
      "  2%|▏         | 237/10000 [00:10<07:25, 21.91it/s]"
     ]
    },
    {
     "name": "stdout",
     "output_type": "stream",
     "text": [
      "41650 0 480 0\n",
      "41650 0 480 0\n",
      "37762 3888 410 70\n",
      "Number of treatment 37762\n",
      "Revenue -2264.3\n",
      "****************************************************************************************************\n",
      "41650 0 480 0\n",
      "16132 25518 113 367\n",
      "Number of treatment 16132\n",
      "Revenue -4959.799999999999\n",
      "****************************************************************************************************\n"
     ]
    },
    {
     "name": "stderr",
     "output_type": "stream",
     "text": [
      "  2%|▏         | 243/10000 [00:10<07:05, 22.94it/s]"
     ]
    },
    {
     "name": "stdout",
     "output_type": "stream",
     "text": [
      "41650 0 480 0\n",
      "41650 0 480 0\n",
      "41650 0 480 0\n",
      "41650 0 480 0\n",
      "41650 0 480 0\n"
     ]
    },
    {
     "name": "stderr",
     "output_type": "stream",
     "text": [
      "\r",
      "  2%|▏         | 246/10000 [00:10<07:22, 22.06it/s]"
     ]
    },
    {
     "name": "stdout",
     "output_type": "stream",
     "text": [
      "13036 28614 75 405\n",
      "Number of treatment 13036\n",
      "Revenue -5255.4\n",
      "****************************************************************************************************\n",
      "41650 0 480 0\n",
      "41650 0 480 0\n",
      "41650 0 480 0\n",
      "41650 0 480 0\n"
     ]
    },
    {
     "name": "stderr",
     "output_type": "stream",
     "text": [
      "  3%|▎         | 252/10000 [00:11<07:10, 22.65it/s]"
     ]
    },
    {
     "name": "stdout",
     "output_type": "stream",
     "text": [
      "41650 0 480 0\n",
      "37890 3760 415 65\n",
      "Number of treatment 37890\n",
      "Revenue -2183.5\n",
      "****************************************************************************************************\n",
      "41650 0 480 0\n",
      "41650 0 480 0\n",
      "41650 0 480 0\n"
     ]
    },
    {
     "name": "stderr",
     "output_type": "stream",
     "text": [
      "  3%|▎         | 258/10000 [00:11<07:14, 22.42it/s]"
     ]
    },
    {
     "name": "stdout",
     "output_type": "stream",
     "text": [
      "41650 0 480 0\n",
      "41650 0 480 0\n",
      "29251 12399 283 197\n",
      "Number of treatment 29251\n",
      "Revenue -3527.6499999999996\n",
      "****************************************************************************************************\n",
      "7588 34062 50 430\n",
      "Number of treatment 7588\n",
      "Revenue -4938.2\n",
      "****************************************************************************************************\n",
      "41650 0 480 0\n"
     ]
    },
    {
     "name": "stderr",
     "output_type": "stream",
     "text": [
      "\r",
      "  3%|▎         | 261/10000 [00:11<07:15, 22.35it/s]"
     ]
    },
    {
     "name": "stdout",
     "output_type": "stream",
     "text": [
      "41650 0 480 0\n",
      "41650 0 480 0\n",
      "41650 0 480 0\n",
      "41650 0 480 0\n",
      "41650 0 480 0\n"
     ]
    },
    {
     "name": "stderr",
     "output_type": "stream",
     "text": [
      "  3%|▎         | 267/10000 [00:11<07:09, 22.66it/s]"
     ]
    },
    {
     "name": "stdout",
     "output_type": "stream",
     "text": [
      "41650 0 480 0\n",
      "39593 2057 449 31\n",
      "Number of treatment 39593\n",
      "Revenue -1758.9499999999998\n",
      "****************************************************************************************************\n",
      "41650 0 480 0\n",
      "41650 0 480 0\n",
      "41650 0 480 0\n"
     ]
    },
    {
     "name": "stderr",
     "output_type": "stream",
     "text": [
      "  3%|▎         | 273/10000 [00:12<06:57, 23.30it/s]"
     ]
    },
    {
     "name": "stdout",
     "output_type": "stream",
     "text": [
      "41650 0 480 0\n",
      "41650 0 480 0\n",
      "41650 0 480 0\n",
      "41650 0 480 0\n",
      "41650 0 480 0\n"
     ]
    },
    {
     "name": "stderr",
     "output_type": "stream",
     "text": [
      "\r",
      "  3%|▎         | 276/10000 [00:12<07:07, 22.77it/s]"
     ]
    },
    {
     "name": "stdout",
     "output_type": "stream",
     "text": [
      "41650 0 480 0\n",
      "12537 29113 74 406\n",
      "Number of treatment 12537\n",
      "Revenue -5200.55\n",
      "****************************************************************************************************\n",
      "41650 0 480 0\n",
      "41650 0 480 0\n",
      "12959 28691 75 405\n",
      "Number of treatment 12959\n",
      "Revenue -5243.85\n",
      "****************************************************************************************************\n"
     ]
    },
    {
     "name": "stderr",
     "output_type": "stream",
     "text": [
      "  3%|▎         | 282/10000 [00:12<07:12, 22.47it/s]"
     ]
    },
    {
     "name": "stdout",
     "output_type": "stream",
     "text": [
      "41650 0 480 0\n",
      "41650 0 480 0\n",
      "41650 0 480 0\n",
      "41650 0 480 0\n",
      "41650 0 480 0\n"
     ]
    },
    {
     "name": "stderr",
     "output_type": "stream",
     "text": [
      "  3%|▎         | 288/10000 [00:12<07:15, 22.31it/s]"
     ]
    },
    {
     "name": "stdout",
     "output_type": "stream",
     "text": [
      "0 41650 0 480\n",
      "41650 0 480 0\n",
      "41650 0 480 0\n",
      "0 41650 0 480\n",
      "41650 0 480 0\n"
     ]
    },
    {
     "name": "stderr",
     "output_type": "stream",
     "text": [
      "\r",
      "  3%|▎         | 291/10000 [00:12<07:09, 22.62it/s]"
     ]
    },
    {
     "name": "stdout",
     "output_type": "stream",
     "text": [
      "8943 32707 56 424\n",
      "Number of treatment 8943\n",
      "Revenue -5021.45\n",
      "****************************************************************************************************\n",
      "0 41650 0 480\n",
      "4073 37577 27 453\n",
      "Number of treatment 4073\n",
      "Revenue -4870.95\n",
      "****************************************************************************************************\n",
      "41650 0 480 0\n",
      "41650 0 480 0\n"
     ]
    },
    {
     "name": "stderr",
     "output_type": "stream",
     "text": [
      "  3%|▎         | 297/10000 [00:13<07:00, 23.07it/s]"
     ]
    },
    {
     "name": "stdout",
     "output_type": "stream",
     "text": [
      "41650 0 480 0\n",
      "14762 26888 94 386\n",
      "Number of treatment 14762\n",
      "Revenue -5134.299999999999\n",
      "****************************************************************************************************\n",
      "41629 21 480 0\n",
      "Number of treatment 41629\n",
      "Revenue -1444.3499999999995\n",
      "****************************************************************************************************\n",
      "41448 202 478 2\n",
      "Number of treatment 41448\n",
      "Revenue -1457.1999999999998\n",
      "****************************************************************************************************\n",
      "15889 25761 107 373\n",
      "Number of treatment 15889\n",
      "Revenue -5043.35\n",
      "****************************************************************************************************\n"
     ]
    },
    {
     "name": "stderr",
     "output_type": "stream",
     "text": [
      "  3%|▎         | 303/10000 [00:13<07:02, 22.96it/s]"
     ]
    },
    {
     "name": "stdout",
     "output_type": "stream",
     "text": [
      "41650 0 480 0\n",
      "41650 0 480 0\n",
      "41650 0 480 0\n",
      "41650 0 480 0\n",
      "0 41650 0 480\n"
     ]
    },
    {
     "name": "stderr",
     "output_type": "stream",
     "text": [
      "  3%|▎         | 309/10000 [00:13<06:50, 23.62it/s]"
     ]
    },
    {
     "name": "stdout",
     "output_type": "stream",
     "text": [
      "41650 0 480 0\n",
      "41650 0 480 0\n",
      "41650 0 480 0\n",
      "41650 0 480 0\n",
      "41650 0 480 0\n",
      "41650 0 480 0\n"
     ]
    },
    {
     "name": "stderr",
     "output_type": "stream",
     "text": [
      "  3%|▎         | 315/10000 [00:13<06:39, 24.25it/s]"
     ]
    },
    {
     "name": "stdout",
     "output_type": "stream",
     "text": [
      "41650 0 480 0\n",
      "0 41650 0 480\n",
      "41650 0 480 0\n",
      "41650 0 480 0\n",
      "13749 27901 80 400\n",
      "Number of treatment 13749\n",
      "Revenue -5262.35\n",
      "****************************************************************************************************\n",
      "41650 0 480 0\n"
     ]
    },
    {
     "name": "stderr",
     "output_type": "stream",
     "text": [
      "  3%|▎         | 321/10000 [00:14<06:27, 24.96it/s]"
     ]
    },
    {
     "name": "stdout",
     "output_type": "stream",
     "text": [
      "41650 0 480 0\n",
      "41650 0 480 0\n",
      "33276 8374 347 133\n",
      "Number of treatment 33276\n",
      "Revenue -2851.3999999999996\n",
      "****************************************************************************************************\n",
      "0 41650 0 480\n",
      "41650 0 480 0\n",
      "0 41650 0 480\n"
     ]
    },
    {
     "name": "stderr",
     "output_type": "stream",
     "text": [
      "\r",
      "  3%|▎         | 324/10000 [00:14<06:47, 23.73it/s]"
     ]
    },
    {
     "name": "stdout",
     "output_type": "stream",
     "text": [
      "41650 0 480 0\n",
      "28354 13296 268 212\n",
      "Number of treatment 28354\n",
      "Revenue -3693.0999999999995\n",
      "****************************************************************************************************\n",
      "41650 0 480 0\n",
      "15 41635 0 480\n",
      "Number of treatment 15\n",
      "Revenue -4802.25\n",
      "****************************************************************************************************\n",
      "10172 31478 58 422\n",
      "Number of treatment 10172\n",
      "Revenue -5165.8\n",
      "****************************************************************************************************\n"
     ]
    },
    {
     "name": "stderr",
     "output_type": "stream",
     "text": [
      "  3%|▎         | 330/10000 [00:14<06:52, 23.43it/s]"
     ]
    },
    {
     "name": "stdout",
     "output_type": "stream",
     "text": [
      "41650 0 480 0\n",
      "41650 0 480 0\n",
      "41650 0 480 0\n",
      "41650 0 480 0\n",
      "10138 31512 58 422\n",
      "Number of treatment 10138\n",
      "Revenue -5160.7\n",
      "****************************************************************************************************\n"
     ]
    },
    {
     "name": "stderr",
     "output_type": "stream",
     "text": [
      "  3%|▎         | 336/10000 [00:14<07:20, 21.93it/s]"
     ]
    },
    {
     "name": "stdout",
     "output_type": "stream",
     "text": [
      "41650 0 480 0\n",
      "41650 0 480 0\n",
      "41650 0 480 0\n",
      "41650 0 480 0\n",
      "41650 0 480 0\n"
     ]
    },
    {
     "name": "stderr",
     "output_type": "stream",
     "text": [
      "\r",
      "  3%|▎         | 339/10000 [00:14<07:10, 22.45it/s]"
     ]
    },
    {
     "name": "stdout",
     "output_type": "stream",
     "text": [
      "0 41650 0 480\n",
      "41650 0 480 0\n",
      "41650 0 480 0\n",
      "41650 0 480 0\n",
      "41650 0 480 0\n"
     ]
    },
    {
     "name": "stderr",
     "output_type": "stream",
     "text": [
      "  3%|▎         | 345/10000 [00:15<06:59, 23.00it/s]"
     ]
    },
    {
     "name": "stdout",
     "output_type": "stream",
     "text": [
      "0 41650 0 480\n",
      "41650 0 480 0\n",
      "38348 3302 423 57\n",
      "Number of treatment 38348\n",
      "Revenue -2092.2\n",
      "****************************************************************************************************\n",
      "11542 30108 67 413\n",
      "Number of treatment 11542\n",
      "Revenue -5191.3\n",
      "****************************************************************************************************\n",
      "41650 0 480 0\n"
     ]
    },
    {
     "name": "stderr",
     "output_type": "stream",
     "text": [
      "  4%|▎         | 351/10000 [00:15<07:00, 22.93it/s]"
     ]
    },
    {
     "name": "stdout",
     "output_type": "stream",
     "text": [
      "35143 6507 374 106\n",
      "Number of treatment 35143\n",
      "Revenue -2591.45\n",
      "****************************************************************************************************\n",
      "41631 19 480 0\n",
      "Number of treatment 41631\n",
      "Revenue -1444.6499999999996\n",
      "****************************************************************************************************\n",
      "0 41650 0 480\n",
      "41650 0 480 0\n",
      "41650 0 480 0\n"
     ]
    },
    {
     "name": "stderr",
     "output_type": "stream",
     "text": [
      "\r",
      "  4%|▎         | 354/10000 [00:15<07:10, 22.39it/s]"
     ]
    },
    {
     "name": "stdout",
     "output_type": "stream",
     "text": [
      "26859 14791 243 237\n",
      "Number of treatment 26859\n",
      "Revenue -3968.85\n",
      "****************************************************************************************************\n",
      "41650 0 480 0\n",
      "41650 0 480 0\n",
      "41650 0 480 0\n",
      "41650 0 480 0\n"
     ]
    },
    {
     "name": "stderr",
     "output_type": "stream",
     "text": [
      "  4%|▎         | 360/10000 [00:15<07:02, 22.83it/s]"
     ]
    },
    {
     "name": "stdout",
     "output_type": "stream",
     "text": [
      "17847 23803 140 340\n",
      "Number of treatment 17847\n",
      "Revenue -4677.049999999999\n",
      "****************************************************************************************************\n",
      "41650 0 480 0\n",
      "41650 0 480 0\n",
      "41650 0 480 0\n",
      "0 41650 0 480\n"
     ]
    },
    {
     "name": "stderr",
     "output_type": "stream",
     "text": [
      "  4%|▎         | 366/10000 [00:16<07:05, 22.64it/s]"
     ]
    },
    {
     "name": "stdout",
     "output_type": "stream",
     "text": [
      "41650 0 480 0\n",
      "41650 0 480 0\n",
      "14563 27087 92 388\n",
      "Number of treatment 14563\n",
      "Revenue -5144.45\n",
      "****************************************************************************************************\n",
      "41650 0 480 0\n",
      "4 41646 0 480\n",
      "Number of treatment 4\n",
      "Revenue -4800.6\n",
      "****************************************************************************************************\n"
     ]
    },
    {
     "name": "stderr",
     "output_type": "stream",
     "text": [
      "\r",
      "  4%|▎         | 369/10000 [00:16<06:53, 23.26it/s]"
     ]
    },
    {
     "name": "stdout",
     "output_type": "stream",
     "text": [
      "41650 0 480 0\n",
      "11348 30302 66 414\n",
      "Number of treatment 11348\n",
      "Revenue -5182.2\n",
      "****************************************************************************************************\n",
      "41650 0 480 0\n",
      "41650 0 480 0\n",
      "41650 0 480 0\n"
     ]
    },
    {
     "name": "stderr",
     "output_type": "stream",
     "text": [
      "  4%|▍         | 375/10000 [00:16<07:04, 22.66it/s]"
     ]
    },
    {
     "name": "stdout",
     "output_type": "stream",
     "text": [
      "41650 0 480 0\n",
      "41650 0 480 0\n",
      "12925 28725 75 405\n",
      "Number of treatment 12925\n",
      "Revenue -5238.75\n",
      "****************************************************************************************************\n",
      "13346 28304 76 404\n",
      "Number of treatment 13346\n",
      "Revenue -5281.9\n",
      "****************************************************************************************************\n",
      "5174 36476 35 445\n",
      "Number of treatment 5174\n",
      "Revenue -4876.1\n",
      "****************************************************************************************************\n"
     ]
    },
    {
     "name": "stderr",
     "output_type": "stream",
     "text": [
      "  4%|▍         | 381/10000 [00:16<07:14, 22.14it/s]"
     ]
    },
    {
     "name": "stdout",
     "output_type": "stream",
     "text": [
      "41650 0 480 0\n",
      "41650 0 480 0\n",
      "41650 0 480 0\n",
      "0 41650 0 480\n",
      "41650 0 480 0\n"
     ]
    },
    {
     "name": "stderr",
     "output_type": "stream",
     "text": [
      "\r",
      "  4%|▍         | 384/10000 [00:16<07:20, 21.81it/s]"
     ]
    },
    {
     "name": "stdout",
     "output_type": "stream",
     "text": [
      "41650 0 480 0\n",
      "41650 0 480 0\n",
      "41650 0 480 0\n",
      "27601 14049 256 224\n",
      "Number of treatment 27601\n",
      "Revenue -3820.1499999999996\n",
      "****************************************************************************************************\n",
      "41650 0 480 0\n"
     ]
    },
    {
     "name": "stderr",
     "output_type": "stream",
     "text": [
      "  4%|▍         | 390/10000 [00:17<06:55, 23.11it/s]"
     ]
    },
    {
     "name": "stdout",
     "output_type": "stream",
     "text": [
      "41650 0 480 0\n",
      "41650 0 480 0\n",
      "27878 13772 261 219\n",
      "Number of treatment 27878\n",
      "Revenue -3761.7\n",
      "****************************************************************************************************\n",
      "41650 0 480 0\n",
      "19421 22229 159 321\n",
      "Number of treatment 19421\n",
      "Revenue -4533.15\n",
      "****************************************************************************************************\n"
     ]
    },
    {
     "name": "stderr",
     "output_type": "stream",
     "text": [
      "  4%|▍         | 396/10000 [00:17<06:52, 23.28it/s]"
     ]
    },
    {
     "name": "stdout",
     "output_type": "stream",
     "text": [
      "41650 0 480 0\n",
      "0 41650 0 480\n",
      "41650 0 480 0\n",
      "41650 0 480 0\n",
      "41650 0 480 0\n"
     ]
    },
    {
     "name": "stderr",
     "output_type": "stream",
     "text": [
      "\r",
      "  4%|▍         | 399/10000 [00:17<07:05, 22.54it/s]"
     ]
    },
    {
     "name": "stdout",
     "output_type": "stream",
     "text": [
      "41650 0 480 0\n",
      "41249 401 474 6\n",
      "Number of treatment 41249\n",
      "Revenue -1507.3499999999995\n",
      "****************************************************************************************************\n",
      "41650 0 480 0\n",
      "41650 0 480 0\n",
      "0 41650 0 480\n"
     ]
    },
    {
     "name": "stderr",
     "output_type": "stream",
     "text": [
      "  4%|▍         | 405/10000 [00:17<06:41, 23.92it/s]"
     ]
    },
    {
     "name": "stdout",
     "output_type": "stream",
     "text": [
      "41650 0 480 0\n",
      "41650 0 480 0\n",
      "41650 0 480 0\n",
      "41650 0 480 0\n",
      "41650 0 480 0\n"
     ]
    },
    {
     "name": "stderr",
     "output_type": "stream",
     "text": [
      "  4%|▍         | 411/10000 [00:18<06:45, 23.65it/s]"
     ]
    },
    {
     "name": "stdout",
     "output_type": "stream",
     "text": [
      "41650 0 480 0\n",
      "41650 0 480 0\n",
      "41588 62 480 0\n",
      "Number of treatment 41588\n",
      "Revenue -1438.1999999999998\n",
      "****************************************************************************************************\n",
      "41618 32 480 0\n",
      "Number of treatment 41618\n",
      "Revenue -1442.6999999999998\n",
      "****************************************************************************************************\n",
      "41650 0 480 0\n"
     ]
    },
    {
     "name": "stderr",
     "output_type": "stream",
     "text": [
      "\r",
      "  4%|▍         | 414/10000 [00:18<06:43, 23.74it/s]"
     ]
    },
    {
     "name": "stdout",
     "output_type": "stream",
     "text": [
      "41650 0 480 0\n",
      "41650 0 480 0\n",
      "41650 0 480 0\n",
      "41650 0 480 0\n",
      "41650 0 480 0\n"
     ]
    },
    {
     "name": "stderr",
     "output_type": "stream",
     "text": [
      "  4%|▍         | 420/10000 [00:18<06:55, 23.05it/s]"
     ]
    },
    {
     "name": "stdout",
     "output_type": "stream",
     "text": [
      "41650 0 480 0\n",
      "13377 28273 77 403\n",
      "Number of treatment 13377\n",
      "Revenue -5266.55\n",
      "****************************************************************************************************\n",
      "41650 0 480 0\n",
      "30160 11490 293 187\n",
      "Number of treatment 30160\n",
      "Revenue -3464.0\n",
      "****************************************************************************************************\n",
      "41650 0 480 0\n"
     ]
    },
    {
     "name": "stderr",
     "output_type": "stream",
     "text": [
      "  4%|▍         | 426/10000 [00:18<06:34, 24.25it/s]"
     ]
    },
    {
     "name": "stdout",
     "output_type": "stream",
     "text": [
      "41650 0 480 0\n",
      "0 41650 0 480\n",
      "41650 0 480 0\n",
      "41650 0 480 0\n",
      "41650 0 480 0\n",
      "41650 0 480 0\n"
     ]
    },
    {
     "name": "stderr",
     "output_type": "stream",
     "text": [
      "  4%|▍         | 432/10000 [00:18<06:44, 23.63it/s]"
     ]
    },
    {
     "name": "stdout",
     "output_type": "stream",
     "text": [
      "41650 0 480 0\n",
      "41650 0 480 0\n",
      "41650 0 480 0\n",
      "15034 26616 95 385\n",
      "Number of treatment 15034\n",
      "Revenue -5155.1\n",
      "****************************************************************************************************\n",
      "41650 0 480 0\n"
     ]
    },
    {
     "name": "stderr",
     "output_type": "stream",
     "text": [
      "\r",
      "  4%|▍         | 435/10000 [00:19<06:44, 23.65it/s]"
     ]
    },
    {
     "name": "stdout",
     "output_type": "stream",
     "text": [
      "41650 0 480 0\n",
      "41650 0 480 0\n",
      "41650 0 480 0\n",
      "41650 0 480 0\n",
      "41650 0 480 0\n"
     ]
    },
    {
     "name": "stderr",
     "output_type": "stream",
     "text": [
      "  4%|▍         | 441/10000 [00:19<06:38, 23.98it/s]"
     ]
    },
    {
     "name": "stdout",
     "output_type": "stream",
     "text": [
      "15582 26068 99 381\n",
      "Number of treatment 15582\n",
      "Revenue -5157.299999999999\n",
      "****************************************************************************************************\n",
      "41650 0 480 0\n",
      "41650 0 480 0\n",
      "41650 0 480 0\n",
      "41650 0 480 0\n"
     ]
    },
    {
     "name": "stderr",
     "output_type": "stream",
     "text": [
      "  4%|▍         | 447/10000 [00:19<06:30, 24.45it/s]"
     ]
    },
    {
     "name": "stdout",
     "output_type": "stream",
     "text": [
      "41650 0 480 0\n",
      "41650 0 480 0\n",
      "41650 0 480 0\n",
      "41650 0 480 0\n",
      "41650 0 480 0\n",
      "41650 0 480 0\n"
     ]
    },
    {
     "name": "stderr",
     "output_type": "stream",
     "text": [
      "  5%|▍         | 453/10000 [00:19<06:42, 23.74it/s]"
     ]
    },
    {
     "name": "stdout",
     "output_type": "stream",
     "text": [
      "41650 0 480 0\n",
      "41650 0 480 0\n",
      "41650 0 480 0\n",
      "41650 0 480 0\n",
      "41650 0 480 0\n"
     ]
    },
    {
     "name": "stderr",
     "output_type": "stream",
     "text": [
      "  5%|▍         | 459/10000 [00:20<06:34, 24.18it/s]"
     ]
    },
    {
     "name": "stdout",
     "output_type": "stream",
     "text": [
      "41650 0 480 0\n",
      "41650 0 480 0\n",
      "41650 0 480 0\n",
      "41650 0 480 0\n",
      "41650 0 480 0\n",
      "0 41650 0 480\n"
     ]
    },
    {
     "name": "stderr",
     "output_type": "stream",
     "text": [
      "  5%|▍         | 465/10000 [00:20<06:24, 24.79it/s]"
     ]
    },
    {
     "name": "stdout",
     "output_type": "stream",
     "text": [
      "41650 0 480 0\n",
      "41650 0 480 0\n",
      "41650 0 480 0\n",
      "0 41650 0 480\n",
      "41650 0 480 0\n",
      "41488 162 478 2\n",
      "Number of treatment 41488\n",
      "Revenue -1463.1999999999998\n",
      "****************************************************************************************************\n"
     ]
    },
    {
     "name": "stderr",
     "output_type": "stream",
     "text": [
      "  5%|▍         | 471/10000 [00:20<06:17, 25.24it/s]"
     ]
    },
    {
     "name": "stdout",
     "output_type": "stream",
     "text": [
      "41650 0 480 0\n",
      "41650 0 480 0\n",
      "41650 0 480 0\n",
      "41650 0 480 0\n",
      "0 41650 0 480\n",
      "41650 0 480 0\n"
     ]
    },
    {
     "name": "stderr",
     "output_type": "stream",
     "text": [
      "  5%|▍         | 477/10000 [00:20<06:11, 25.62it/s]"
     ]
    },
    {
     "name": "stdout",
     "output_type": "stream",
     "text": [
      "0 41650 0 480\n",
      "41650 0 480 0\n",
      "41650 0 480 0\n",
      "41650 0 480 0\n",
      "41650 0 480 0\n",
      "40188 1462 463 17\n",
      "Number of treatment 40188\n",
      "Revenue -1568.1999999999998\n",
      "****************************************************************************************************\n"
     ]
    },
    {
     "name": "stderr",
     "output_type": "stream",
     "text": [
      "\r",
      "  5%|▍         | 480/10000 [00:20<06:16, 25.28it/s]"
     ]
    },
    {
     "name": "stdout",
     "output_type": "stream",
     "text": [
      "12541 29109 74 406\n",
      "Number of treatment 12541\n",
      "Revenue -5201.15\n",
      "****************************************************************************************************\n",
      "41650 0 480 0\n",
      "41650 0 480 0\n",
      "38544 3106 428 52\n",
      "Number of treatment 38544\n",
      "Revenue -2021.5999999999995\n",
      "****************************************************************************************************\n",
      "41650 0 480 0\n"
     ]
    },
    {
     "name": "stderr",
     "output_type": "stream",
     "text": [
      "  5%|▍         | 486/10000 [00:21<06:30, 24.38it/s]"
     ]
    },
    {
     "name": "stdout",
     "output_type": "stream",
     "text": [
      "41650 0 480 0\n",
      "41650 0 480 0\n",
      "41650 0 480 0\n",
      "41650 0 480 0\n",
      "41650 0 480 0\n"
     ]
    },
    {
     "name": "stderr",
     "output_type": "stream",
     "text": [
      "  5%|▍         | 492/10000 [00:21<06:29, 24.42it/s]"
     ]
    },
    {
     "name": "stdout",
     "output_type": "stream",
     "text": [
      "0 41650 0 480\n",
      "0 41650 0 480\n",
      "41650 0 480 0\n",
      "41650 0 480 0\n",
      "41650 0 480 0\n"
     ]
    },
    {
     "name": "stderr",
     "output_type": "stream",
     "text": [
      "\r",
      "  5%|▍         | 495/10000 [00:21<06:22, 24.82it/s]"
     ]
    },
    {
     "name": "stdout",
     "output_type": "stream",
     "text": [
      "41650 0 480 0\n",
      "41650 0 480 0\n",
      "41650 0 480 0\n",
      "41650 0 480 0\n",
      "41650 0 480 0\n"
     ]
    },
    {
     "name": "stderr",
     "output_type": "stream",
     "text": [
      "  5%|▌         | 501/10000 [00:21<06:32, 24.22it/s]"
     ]
    },
    {
     "name": "stdout",
     "output_type": "stream",
     "text": [
      "41650 0 480 0\n",
      "41650 0 480 0\n",
      "41650 0 480 0\n",
      "41650 0 480 0\n",
      "41650 0 480 0\n"
     ]
    },
    {
     "name": "stderr",
     "output_type": "stream",
     "text": [
      "  5%|▌         | 507/10000 [00:21<06:31, 24.23it/s]"
     ]
    },
    {
     "name": "stdout",
     "output_type": "stream",
     "text": [
      "41650 0 480 0\n",
      "41650 0 480 0\n",
      "41650 0 480 0\n",
      "41650 0 480 0\n",
      "20773 20877 170 310\n",
      "Number of treatment 20773\n",
      "Revenue -4515.95\n",
      "****************************************************************************************************\n"
     ]
    },
    {
     "name": "stderr",
     "output_type": "stream",
     "text": [
      "\r",
      "  5%|▌         | 510/10000 [00:22<06:33, 24.12it/s]"
     ]
    },
    {
     "name": "stdout",
     "output_type": "stream",
     "text": [
      "41650 0 480 0\n",
      "41650 0 480 0\n",
      "34142 7508 359 121\n",
      "Number of treatment 34142\n",
      "Revenue -2741.3\n",
      "****************************************************************************************************\n",
      "41649 1 480 0\n",
      "Number of treatment 41649\n",
      "Revenue -1447.3499999999995\n",
      "****************************************************************************************************\n",
      "41650 0 480 0\n"
     ]
    },
    {
     "name": "stderr",
     "output_type": "stream",
     "text": [
      "  5%|▌         | 516/10000 [00:22<06:45, 23.39it/s]"
     ]
    },
    {
     "name": "stdout",
     "output_type": "stream",
     "text": [
      "41650 0 480 0\n",
      "41650 0 480 0\n",
      "41650 0 480 0\n",
      "41650 0 480 0\n",
      "41650 0 480 0\n"
     ]
    },
    {
     "name": "stderr",
     "output_type": "stream",
     "text": [
      "  5%|▌         | 522/10000 [00:22<06:43, 23.49it/s]"
     ]
    },
    {
     "name": "stdout",
     "output_type": "stream",
     "text": [
      "41650 0 480 0\n",
      "0 41650 0 480\n",
      "41650 0 480 0\n",
      "0 41650 0 480\n",
      "41650 0 480 0\n"
     ]
    },
    {
     "name": "stderr",
     "output_type": "stream",
     "text": [
      "  5%|▌         | 528/10000 [00:22<06:19, 24.95it/s]"
     ]
    },
    {
     "name": "stdout",
     "output_type": "stream",
     "text": [
      "41650 0 480 0\n",
      "41650 0 480 0\n",
      "41650 0 480 0\n",
      "41650 0 480 0\n",
      "0 41650 0 480\n",
      "0 41650 0 480\n"
     ]
    },
    {
     "name": "stderr",
     "output_type": "stream",
     "text": [
      "\r",
      "  5%|▌         | 531/10000 [00:22<06:28, 24.36it/s]"
     ]
    },
    {
     "name": "stdout",
     "output_type": "stream",
     "text": [
      "41649 1 480 0\n",
      "18126 23524 143 337\n",
      "Number of treatment 18126\n",
      "Revenue -4658.9\n",
      "****************************************************************************************************\n",
      "41650 0 480 0\n",
      "41650 0 480 0\n",
      "41599 51 480 0\n",
      "Number of treatment 41599\n",
      "Revenue -1439.8499999999995\n",
      "****************************************************************************************************\n"
     ]
    },
    {
     "name": "stderr",
     "output_type": "stream",
     "text": [
      "  5%|▌         | 537/10000 [00:23<06:36, 23.89it/s]"
     ]
    },
    {
     "name": "stdout",
     "output_type": "stream",
     "text": [
      "41650 0 480 0\n",
      "41650 0 480 0\n",
      "41650 0 480 0\n",
      "41650 0 480 0\n",
      "41650 0 480 0\n"
     ]
    },
    {
     "name": "stderr",
     "output_type": "stream",
     "text": [
      "  5%|▌         | 543/10000 [00:23<06:35, 23.92it/s]"
     ]
    },
    {
     "name": "stdout",
     "output_type": "stream",
     "text": [
      "41650 0 480 0\n",
      "41650 0 480 0\n",
      "41650 0 480 0\n",
      "41650 0 480 0\n",
      "41650 0 480 0\n"
     ]
    },
    {
     "name": "stderr",
     "output_type": "stream",
     "text": [
      "\r",
      "  5%|▌         | 546/10000 [00:23<06:43, 23.40it/s]"
     ]
    },
    {
     "name": "stdout",
     "output_type": "stream",
     "text": [
      "41650 0 480 0\n",
      "41650 0 480 0\n",
      "41650 0 480 0\n",
      "41650 0 480 0\n",
      "41650 0 480 0\n"
     ]
    },
    {
     "name": "stderr",
     "output_type": "stream",
     "text": [
      "  6%|▌         | 552/10000 [00:23<06:44, 23.38it/s]"
     ]
    },
    {
     "name": "stdout",
     "output_type": "stream",
     "text": [
      "0 41650 0 480\n",
      "39939 1711 457 23\n",
      "Number of treatment 39939\n",
      "Revenue -1650.8499999999995\n",
      "****************************************************************************************************\n",
      "41650 0 480 0\n",
      "41650 0 480 0\n",
      "10234 31416 58 422\n",
      "Number of treatment 10234\n",
      "Revenue -5175.1\n",
      "****************************************************************************************************\n"
     ]
    },
    {
     "name": "stderr",
     "output_type": "stream",
     "text": [
      "  6%|▌         | 558/10000 [00:24<06:46, 23.24it/s]"
     ]
    },
    {
     "name": "stdout",
     "output_type": "stream",
     "text": [
      "41650 0 480 0\n",
      "41650 0 480 0\n",
      "41650 0 480 0\n",
      "41650 0 480 0\n",
      "41650 0 480 0\n"
     ]
    },
    {
     "name": "stderr",
     "output_type": "stream",
     "text": [
      "\r",
      "  6%|▌         | 561/10000 [00:24<06:53, 22.84it/s]"
     ]
    },
    {
     "name": "stdout",
     "output_type": "stream",
     "text": [
      "41650 0 480 0\n",
      "11137 30513 63 417\n",
      "Number of treatment 11137\n",
      "Revenue -5210.55\n",
      "****************************************************************************************************\n",
      "41650 0 480 0\n",
      "41650 0 480 0\n",
      "41650 0 480 0\n"
     ]
    },
    {
     "name": "stderr",
     "output_type": "stream",
     "text": [
      "  6%|▌         | 567/10000 [00:24<06:52, 22.86it/s]"
     ]
    },
    {
     "name": "stdout",
     "output_type": "stream",
     "text": [
      "12513 29137 73 407\n",
      "Number of treatment 12513\n",
      "Revenue -5216.95\n",
      "****************************************************************************************************\n",
      "41650 0 480 0\n",
      "41650 0 480 0\n",
      "41650 0 480 0\n",
      "41650 0 480 0\n"
     ]
    },
    {
     "name": "stderr",
     "output_type": "stream",
     "text": [
      "  6%|▌         | 573/10000 [00:24<06:40, 23.57it/s]"
     ]
    },
    {
     "name": "stdout",
     "output_type": "stream",
     "text": [
      "41650 0 480 0\n",
      "41650 0 480 0\n",
      "41650 0 480 0\n",
      "24789 16861 220 260\n",
      "Number of treatment 24789\n",
      "Revenue -4118.35\n",
      "****************************************************************************************************\n",
      "41650 0 480 0\n",
      "41650 0 480 0\n"
     ]
    },
    {
     "name": "stderr",
     "output_type": "stream",
     "text": [
      "  6%|▌         | 579/10000 [00:25<06:47, 23.10it/s]"
     ]
    },
    {
     "name": "stdout",
     "output_type": "stream",
     "text": [
      "41650 0 480 0\n",
      "41650 0 480 0\n",
      "41650 0 480 0\n",
      "13300 28350 76 404\n",
      "Number of treatment 13300\n",
      "Revenue -5275.0\n",
      "****************************************************************************************************\n",
      "41650 0 480 0\n"
     ]
    },
    {
     "name": "stderr",
     "output_type": "stream",
     "text": [
      "\r",
      "  6%|▌         | 582/10000 [00:25<06:45, 23.25it/s]"
     ]
    },
    {
     "name": "stdout",
     "output_type": "stream",
     "text": [
      "41650 0 480 0\n",
      "41650 0 480 0\n",
      "41650 0 480 0\n",
      "41650 0 480 0\n",
      "41545 105 480 0\n",
      "Number of treatment 41545\n",
      "Revenue -1431.75\n",
      "****************************************************************************************************\n"
     ]
    },
    {
     "name": "stderr",
     "output_type": "stream",
     "text": [
      "  6%|▌         | 588/10000 [00:25<06:42, 23.37it/s]"
     ]
    },
    {
     "name": "stdout",
     "output_type": "stream",
     "text": [
      "41650 0 480 0\n",
      "41650 0 480 0\n",
      "40293 1357 465 15\n",
      "Number of treatment 40293\n",
      "Revenue -1543.9499999999998\n",
      "****************************************************************************************************\n",
      "41650 0 480 0\n",
      "41650 0 480 0\n"
     ]
    },
    {
     "name": "stderr",
     "output_type": "stream",
     "text": [
      "  6%|▌         | 594/10000 [00:25<06:39, 23.52it/s]"
     ]
    },
    {
     "name": "stdout",
     "output_type": "stream",
     "text": [
      "41650 0 480 0\n",
      "41650 0 480 0\n",
      "41650 0 480 0\n",
      "41650 0 480 0\n",
      "41650 0 480 0\n"
     ]
    },
    {
     "name": "stderr",
     "output_type": "stream",
     "text": [
      "\r",
      "  6%|▌         | 597/10000 [00:25<06:53, 22.73it/s]"
     ]
    },
    {
     "name": "stdout",
     "output_type": "stream",
     "text": [
      "41650 0 480 0\n",
      "41650 0 480 0\n",
      "41650 0 480 0\n",
      "41650 0 480 0\n",
      "41650 0 480 0\n"
     ]
    },
    {
     "name": "stderr",
     "output_type": "stream",
     "text": [
      "  6%|▌         | 603/10000 [00:26<06:51, 22.85it/s]"
     ]
    },
    {
     "name": "stdout",
     "output_type": "stream",
     "text": [
      "41650 0 480 0\n",
      "0 41650 0 480\n",
      "41650 0 480 0\n",
      "41650 0 480 0\n",
      "41650 0 480 0\n"
     ]
    },
    {
     "name": "stderr",
     "output_type": "stream",
     "text": [
      "  6%|▌         | 609/10000 [00:26<06:49, 22.96it/s]"
     ]
    },
    {
     "name": "stdout",
     "output_type": "stream",
     "text": [
      "41650 0 480 0\n",
      "0 41650 0 480\n",
      "41650 0 480 0\n",
      "7049 34601 48 432\n",
      "Number of treatment 7049\n",
      "Revenue -4897.35\n",
      "****************************************************************************************************\n",
      "41650 0 480 0\n"
     ]
    },
    {
     "name": "stderr",
     "output_type": "stream",
     "text": [
      "\r",
      "  6%|▌         | 612/10000 [00:26<06:49, 22.94it/s]"
     ]
    },
    {
     "name": "stdout",
     "output_type": "stream",
     "text": [
      "0 41650 0 480\n",
      "40797 853 470 10\n",
      "Number of treatment 40797\n",
      "Revenue -1519.5500000000002\n",
      "****************************************************************************************************\n",
      "283 41367 4 476\n",
      "Number of treatment 283\n",
      "Revenue -4762.45\n",
      "****************************************************************************************************\n",
      "41650 0 480 0\n",
      "41650 0 480 0\n"
     ]
    },
    {
     "name": "stderr",
     "output_type": "stream",
     "text": [
      "  6%|▌         | 618/10000 [00:26<07:05, 22.06it/s]"
     ]
    },
    {
     "name": "stdout",
     "output_type": "stream",
     "text": [
      "13708 27942 79 401\n",
      "Number of treatment 13708\n",
      "Revenue -5276.2\n",
      "****************************************************************************************************\n",
      "12972 28678 75 405\n",
      "Number of treatment 12972\n",
      "Revenue -5245.8\n",
      "****************************************************************************************************\n",
      "41650 0 480 0\n",
      "41650 0 480 0\n",
      "41650 0 480 0\n"
     ]
    },
    {
     "name": "stderr",
     "output_type": "stream",
     "text": [
      "  6%|▌         | 624/10000 [00:27<06:48, 22.97it/s]"
     ]
    },
    {
     "name": "stdout",
     "output_type": "stream",
     "text": [
      "41650 0 480 0\n",
      "41650 0 480 0\n",
      "41650 0 480 0\n",
      "41650 0 480 0\n",
      "41650 0 480 0\n"
     ]
    },
    {
     "name": "stderr",
     "output_type": "stream",
     "text": [
      "\r",
      "  6%|▋         | 627/10000 [00:27<06:54, 22.62it/s]"
     ]
    },
    {
     "name": "stdout",
     "output_type": "stream",
     "text": [
      "41650 0 480 0\n",
      "41650 0 480 0\n",
      "41650 0 480 0\n",
      "41650 0 480 0\n",
      "35576 6074 377 103\n",
      "Number of treatment 35576\n",
      "Revenue -2596.3999999999996\n",
      "****************************************************************************************************\n"
     ]
    },
    {
     "name": "stderr",
     "output_type": "stream",
     "text": [
      "  6%|▋         | 633/10000 [00:27<06:35, 23.69it/s]"
     ]
    },
    {
     "name": "stdout",
     "output_type": "stream",
     "text": [
      "5256 36394 37 443\n",
      "Number of treatment 5256\n",
      "Revenue -4848.4\n",
      "****************************************************************************************************\n",
      "41650 0 480 0\n",
      "41650 0 480 0\n",
      "41650 0 480 0\n",
      "41650 0 480 0\n",
      "41650 0 480 0\n"
     ]
    },
    {
     "name": "stderr",
     "output_type": "stream",
     "text": [
      "  6%|▋         | 639/10000 [00:27<06:24, 24.35it/s]"
     ]
    },
    {
     "name": "stdout",
     "output_type": "stream",
     "text": [
      "41650 0 480 0\n",
      "41650 0 480 0\n",
      "41650 0 480 0\n",
      "41650 0 480 0\n",
      "41650 0 480 0\n",
      "41650 0 480 0\n"
     ]
    },
    {
     "name": "stderr",
     "output_type": "stream",
     "text": [
      "  6%|▋         | 645/10000 [00:27<06:15, 24.93it/s]"
     ]
    },
    {
     "name": "stdout",
     "output_type": "stream",
     "text": [
      "41650 0 480 0\n",
      "41650 0 480 0\n",
      "41650 0 480 0\n",
      "35436 6214 376 104\n",
      "Number of treatment 35436\n",
      "Revenue -2595.3999999999996\n",
      "****************************************************************************************************\n",
      "41650 0 480 0\n"
     ]
    },
    {
     "name": "stderr",
     "output_type": "stream",
     "text": [
      "  7%|▋         | 651/10000 [00:28<06:43, 23.16it/s]"
     ]
    },
    {
     "name": "stdout",
     "output_type": "stream",
     "text": [
      "41650 0 480 0\n",
      "41650 0 480 0\n",
      "5713 35937 40 440\n",
      "Number of treatment 5713\n",
      "Revenue -4856.95\n",
      "****************************************************************************************************\n",
      "41650 0 480 0\n",
      "41650 0 480 0\n"
     ]
    },
    {
     "name": "stderr",
     "output_type": "stream",
     "text": [
      "\r",
      "  7%|▋         | 654/10000 [00:28<06:57, 22.41it/s]"
     ]
    },
    {
     "name": "stdout",
     "output_type": "stream",
     "text": [
      "41650 0 480 0\n",
      "0 41650 0 480\n",
      "41650 0 480 0\n",
      "41650 0 480 0\n",
      "41650 0 480 0\n"
     ]
    },
    {
     "name": "stderr",
     "output_type": "stream",
     "text": [
      "  7%|▋         | 660/10000 [00:28<06:46, 22.96it/s]"
     ]
    },
    {
     "name": "stdout",
     "output_type": "stream",
     "text": [
      "41650 0 480 0\n",
      "41650 0 480 0\n",
      "41650 0 480 0\n",
      "41650 0 480 0\n",
      "41650 0 480 0\n"
     ]
    },
    {
     "name": "stderr",
     "output_type": "stream",
     "text": [
      "  7%|▋         | 666/10000 [00:28<06:31, 23.86it/s]"
     ]
    },
    {
     "name": "stdout",
     "output_type": "stream",
     "text": [
      "41650 0 480 0\n",
      "41650 0 480 0\n",
      "41650 0 480 0\n",
      "24107 17543 212 268\n",
      "Number of treatment 24107\n",
      "Revenue -4176.049999999999\n",
      "****************************************************************************************************\n",
      "33017 8633 340 140\n",
      "Number of treatment 33017\n",
      "Revenue -2952.55\n",
      "****************************************************************************************************\n"
     ]
    },
    {
     "name": "stderr",
     "output_type": "stream",
     "text": [
      "\r",
      "  7%|▋         | 669/10000 [00:28<06:37, 23.50it/s]"
     ]
    },
    {
     "name": "stdout",
     "output_type": "stream",
     "text": [
      "41650 0 480 0\n",
      "41650 0 480 0\n",
      "41650 0 480 0\n",
      "41650 0 480 0\n",
      "41650 0 480 0\n"
     ]
    },
    {
     "name": "stderr",
     "output_type": "stream",
     "text": [
      "  7%|▋         | 675/10000 [00:29<06:23, 24.29it/s]"
     ]
    },
    {
     "name": "stdout",
     "output_type": "stream",
     "text": [
      "41650 0 480 0\n",
      "41650 0 480 0\n",
      "41650 0 480 0\n",
      "41291 359 476 4\n",
      "Number of treatment 41291\n",
      "Revenue -1473.6499999999996\n",
      "****************************************************************************************************\n",
      "41650 0 480 0\n",
      "41650 0 480 0\n"
     ]
    },
    {
     "name": "stderr",
     "output_type": "stream",
     "text": [
      "  7%|▋         | 681/10000 [00:29<06:27, 24.04it/s]"
     ]
    },
    {
     "name": "stdout",
     "output_type": "stream",
     "text": [
      "41650 0 480 0\n",
      "41650 0 480 0\n",
      "41650 0 480 0\n",
      "41650 0 480 0\n",
      "41650 0 480 0\n"
     ]
    },
    {
     "name": "stderr",
     "output_type": "stream",
     "text": [
      "  7%|▋         | 687/10000 [00:29<06:21, 24.44it/s]"
     ]
    },
    {
     "name": "stdout",
     "output_type": "stream",
     "text": [
      "39091 2559 439 41\n",
      "Number of treatment 39091\n",
      "Revenue -1883.6499999999996\n",
      "****************************************************************************************************\n",
      "41650 0 480 0\n",
      "41650 0 480 0\n",
      "41650 0 480 0\n",
      "41650 0 480 0\n",
      "41650 0 480 0\n"
     ]
    },
    {
     "name": "stderr",
     "output_type": "stream",
     "text": [
      "  7%|▋         | 693/10000 [00:29<06:24, 24.21it/s]"
     ]
    },
    {
     "name": "stdout",
     "output_type": "stream",
     "text": [
      "41650 0 480 0\n",
      "14681 26969 93 387\n",
      "Number of treatment 14681\n",
      "Revenue -5142.15\n",
      "****************************************************************************************************\n",
      "41650 0 480 0\n",
      "41650 0 480 0\n",
      "41650 0 480 0\n"
     ]
    },
    {
     "name": "stderr",
     "output_type": "stream",
     "text": [
      "\r",
      "  7%|▋         | 696/10000 [00:30<06:20, 24.43it/s]"
     ]
    },
    {
     "name": "stdout",
     "output_type": "stream",
     "text": [
      "41650 0 480 0\n",
      "41650 0 480 0\n",
      "41650 0 480 0\n",
      "41650 0 480 0\n",
      "41650 0 480 0\n"
     ]
    },
    {
     "name": "stderr",
     "output_type": "stream",
     "text": [
      "  7%|▋         | 702/10000 [00:30<06:23, 24.24it/s]"
     ]
    },
    {
     "name": "stdout",
     "output_type": "stream",
     "text": [
      "7493 34157 50 430\n",
      "Number of treatment 7493\n",
      "Revenue -4923.95\n",
      "****************************************************************************************************\n",
      "41650 0 480 0\n",
      "17872 23778 140 340\n",
      "Number of treatment 17872\n",
      "Revenue -4680.799999999999\n",
      "****************************************************************************************************\n",
      "41650 0 480 0\n",
      "41650 0 480 0\n",
      "0 41650 0 480\n"
     ]
    },
    {
     "name": "stderr",
     "output_type": "stream",
     "text": [
      "  7%|▋         | 708/10000 [00:30<06:25, 24.12it/s]"
     ]
    },
    {
     "name": "stdout",
     "output_type": "stream",
     "text": [
      "0 41650 0 480\n",
      "31005 10645 303 177\n",
      "Number of treatment 31005\n",
      "Revenue -3390.75\n",
      "****************************************************************************************************\n",
      "0 41650 0 480\n",
      "41650 0 480 0\n",
      "41650 0 480 0\n"
     ]
    },
    {
     "name": "stderr",
     "output_type": "stream",
     "text": [
      "  7%|▋         | 714/10000 [00:30<06:33, 23.60it/s]"
     ]
    },
    {
     "name": "stdout",
     "output_type": "stream",
     "text": [
      "0 41650 0 480\n",
      "41650 0 480 0\n",
      "41650 0 480 0\n",
      "41650 0 480 0\n",
      "41650 0 480 0\n"
     ]
    },
    {
     "name": "stderr",
     "output_type": "stream",
     "text": [
      "\r",
      "  7%|▋         | 717/10000 [00:30<06:25, 24.05it/s]"
     ]
    },
    {
     "name": "stdout",
     "output_type": "stream",
     "text": [
      "16370 25280 115 365\n",
      "Number of treatment 16370\n",
      "Revenue -4955.5\n",
      "****************************************************************************************************\n",
      "41650 0 480 0\n",
      "41650 0 480 0\n",
      "41650 0 480 0\n",
      "10587 31063 61 419\n",
      "Number of treatment 10587\n",
      "Revenue -5168.05\n",
      "****************************************************************************************************\n"
     ]
    },
    {
     "name": "stderr",
     "output_type": "stream",
     "text": [
      "  7%|▋         | 723/10000 [00:31<06:34, 23.53it/s]"
     ]
    },
    {
     "name": "stdout",
     "output_type": "stream",
     "text": [
      "41650 0 480 0\n",
      "0 41650 0 480\n",
      "15267 26383 95 385\n",
      "Number of treatment 15267\n",
      "Revenue -5190.049999999999\n",
      "****************************************************************************************************\n",
      "41650 0 480 0\n",
      "41650 0 480 0\n"
     ]
    },
    {
     "name": "stderr",
     "output_type": "stream",
     "text": [
      "  7%|▋         | 729/10000 [00:31<06:29, 23.79it/s]"
     ]
    },
    {
     "name": "stdout",
     "output_type": "stream",
     "text": [
      "41650 0 480 0\n",
      "0 41650 0 480\n",
      "41650 0 480 0\n",
      "41650 0 480 0\n",
      "41650 0 480 0\n"
     ]
    },
    {
     "name": "stderr",
     "output_type": "stream",
     "text": [
      "\r",
      "  7%|▋         | 732/10000 [00:31<06:40, 23.16it/s]"
     ]
    },
    {
     "name": "stdout",
     "output_type": "stream",
     "text": [
      "12378 29272 72 408\n",
      "Number of treatment 12378\n",
      "Revenue -5216.7\n",
      "****************************************************************************************************\n",
      "41650 0 480 0\n",
      "18831 22819 150 330\n",
      "Number of treatment 18831\n",
      "Revenue -4624.65\n",
      "****************************************************************************************************\n",
      "41650 0 480 0\n",
      "41650 0 480 0\n"
     ]
    },
    {
     "name": "stderr",
     "output_type": "stream",
     "text": [
      "  7%|▋         | 738/10000 [00:31<06:29, 23.79it/s]"
     ]
    },
    {
     "name": "stdout",
     "output_type": "stream",
     "text": [
      "41650 0 480 0\n",
      "41650 0 480 0\n",
      "41650 0 480 0\n",
      "0 41650 0 480\n",
      "15214 26436 95 385\n",
      "Number of treatment 15214\n",
      "Revenue -5182.1\n",
      "****************************************************************************************************\n",
      "41650 0 480 0\n"
     ]
    },
    {
     "name": "stderr",
     "output_type": "stream",
     "text": [
      "  7%|▋         | 744/10000 [00:32<06:27, 23.89it/s]"
     ]
    },
    {
     "name": "stdout",
     "output_type": "stream",
     "text": [
      "41603 47 480 0\n",
      "Number of treatment 41603\n",
      "Revenue -1440.4499999999998\n",
      "****************************************************************************************************\n",
      "41650 0 480 0\n",
      "41650 0 480 0\n",
      "41650 0 480 0\n",
      "41650 0 480 0\n"
     ]
    },
    {
     "name": "stderr",
     "output_type": "stream",
     "text": [
      "  8%|▊         | 750/10000 [00:32<06:39, 23.16it/s]"
     ]
    },
    {
     "name": "stdout",
     "output_type": "stream",
     "text": [
      "32753 8897 333 147\n",
      "Number of treatment 32753\n",
      "Revenue -3052.95\n",
      "****************************************************************************************************\n",
      "41650 0 480 0\n",
      "41650 0 480 0\n",
      "41650 0 480 0\n",
      "41650 0 480 0\n"
     ]
    },
    {
     "name": "stderr",
     "output_type": "stream",
     "text": [
      "\r",
      "  8%|▊         | 753/10000 [00:32<06:38, 23.19it/s]"
     ]
    },
    {
     "name": "stdout",
     "output_type": "stream",
     "text": [
      "41650 0 480 0\n",
      "38797 2853 431 49\n",
      "Number of treatment 38797\n",
      "Revenue -1999.5500000000002\n",
      "****************************************************************************************************\n",
      "41650 0 480 0\n",
      "41650 0 480 0\n",
      "13687 27963 79 401\n",
      "Number of treatment 13687\n",
      "Revenue -5273.049999999999\n",
      "****************************************************************************************************\n",
      "0 41650 0 "
     ]
    },
    {
     "name": "stderr",
     "output_type": "stream",
     "text": [
      "  8%|▊         | 759/10000 [00:32<06:30, 23.67it/s]"
     ]
    },
    {
     "name": "stdout",
     "output_type": "stream",
     "text": [
      "480\n",
      "41650 0 480 0\n",
      "41650 0 480 0\n",
      "41650 0 480 0\n",
      "0 41650 0 480\n"
     ]
    },
    {
     "name": "stderr",
     "output_type": "stream",
     "text": [
      "  8%|▊         | 765/10000 [00:32<06:19, 24.36it/s]"
     ]
    },
    {
     "name": "stdout",
     "output_type": "stream",
     "text": [
      "41650 0 480 0\n",
      "41650 0 480 0\n",
      "41650 0 480 0\n",
      "41650 0 480 0\n",
      "41650 0 480 0\n"
     ]
    },
    {
     "name": "stderr",
     "output_type": "stream",
     "text": [
      "  8%|▊         | 771/10000 [00:33<06:11, 24.84it/s]"
     ]
    },
    {
     "name": "stdout",
     "output_type": "stream",
     "text": [
      "41650 0 480 0\n",
      "41650 0 480 0\n",
      "41650 0 480 0\n",
      "40824 826 470 10\n",
      "Number of treatment 40824\n",
      "Revenue -1523.5999999999995\n",
      "****************************************************************************************************\n",
      "41650 0 480 0\n",
      "41650 0 480 0\n"
     ]
    },
    {
     "name": "stderr",
     "output_type": "stream",
     "text": [
      "\r",
      "  8%|▊         | 774/10000 [00:33<06:24, 24.01it/s]"
     ]
    },
    {
     "name": "stdout",
     "output_type": "stream",
     "text": [
      "0 41650 0 480\n",
      "41650 0 480 0\n",
      "9876 31774 58 422\n",
      "Number of treatment 9876\n",
      "Revenue -5121.4\n",
      "****************************************************************************************************\n",
      "41650 0 480 0\n",
      "41650 0 480 0\n"
     ]
    },
    {
     "name": "stderr",
     "output_type": "stream",
     "text": [
      "  8%|▊         | 780/10000 [00:33<06:39, 23.06it/s]"
     ]
    },
    {
     "name": "stdout",
     "output_type": "stream",
     "text": [
      "41650 0 480 0\n",
      "41650 0 480 0\n",
      "36493 5157 391 89\n",
      "Number of treatment 36493\n",
      "Revenue -2453.95\n",
      "****************************************************************************************************\n",
      "2840 38810 22 458\n",
      "Number of treatment 2840\n",
      "Revenue -4786.0\n",
      "****************************************************************************************************\n",
      "41650 0 480 0\n"
     ]
    },
    {
     "name": "stderr",
     "output_type": "stream",
     "text": [
      "  8%|▊         | 786/10000 [00:33<06:40, 23.03it/s]"
     ]
    },
    {
     "name": "stdout",
     "output_type": "stream",
     "text": [
      "41650 0 480 0\n",
      "41650 0 480 0\n",
      "41650 0 480 0\n",
      "41650 0 480 0\n",
      "41650 0 480 0\n"
     ]
    },
    {
     "name": "stderr",
     "output_type": "stream",
     "text": [
      "  8%|▊         | 792/10000 [00:34<06:25, 23.89it/s]"
     ]
    },
    {
     "name": "stdout",
     "output_type": "stream",
     "text": [
      "41650 0 480 0\n",
      "41650 0 480 0\n",
      "41650 0 480 0\n",
      "41650 0 480 0\n",
      "41650 0 480 0\n",
      "6 41644 0 480\n",
      "Number of treatment 6\n",
      "Revenue -4800.9\n",
      "****************************************************************************************************\n"
     ]
    },
    {
     "name": "stderr",
     "output_type": "stream",
     "text": [
      "  8%|▊         | 798/10000 [00:34<06:10, 24.84it/s]"
     ]
    },
    {
     "name": "stdout",
     "output_type": "stream",
     "text": [
      "41650 0 480 0\n",
      "41650 0 480 0\n",
      "41650 0 480 0\n",
      "0 41650 0 480\n",
      "41650 0 480 0\n",
      "13165 28485 76 404\n",
      "Number of treatment 13165\n",
      "Revenue -5254.75\n",
      "****************************************************************************************************\n"
     ]
    },
    {
     "name": "stderr",
     "output_type": "stream",
     "text": [
      "\r",
      "  8%|▊         | 801/10000 [00:34<06:26, 23.79it/s]"
     ]
    },
    {
     "name": "stdout",
     "output_type": "stream",
     "text": [
      "6856 34794 47 433\n",
      "Number of treatment 6856\n",
      "Revenue -4888.4\n",
      "****************************************************************************************************\n",
      "41650 0 480 0\n",
      "41650 0 480 0\n",
      "41650 0 480 0\n",
      "41650 0 480 0\n"
     ]
    },
    {
     "name": "stderr",
     "output_type": "stream",
     "text": [
      "  8%|▊         | 807/10000 [00:34<06:18, 24.26it/s]"
     ]
    },
    {
     "name": "stdout",
     "output_type": "stream",
     "text": [
      "41650 0 480 0\n",
      "41650 0 480 0\n",
      "12810 28840 74 406\n",
      "Number of treatment 12810\n",
      "Revenue -5241.5\n",
      "****************************************************************************************************\n",
      "41650 0 480 0\n",
      "0 41650 0 480\n",
      "41650 0 480 0\n"
     ]
    },
    {
     "name": "stderr",
     "output_type": "stream",
     "text": [
      "  8%|▊         | 813/10000 [00:34<06:19, 24.22it/s]"
     ]
    },
    {
     "name": "stdout",
     "output_type": "stream",
     "text": [
      "41650 0 480 0\n",
      "41650 0 480 0\n",
      "41650 0 480 0\n",
      "41650 0 480 0\n",
      "41650 0 480 0\n"
     ]
    },
    {
     "name": "stderr",
     "output_type": "stream",
     "text": [
      "  8%|▊         | 819/10000 [00:35<06:25, 23.80it/s]"
     ]
    },
    {
     "name": "stdout",
     "output_type": "stream",
     "text": [
      "41650 0 480 0\n",
      "41459 191 478 2\n",
      "Number of treatment 41459\n",
      "Revenue -1458.8499999999995\n",
      "****************************************************************************************************\n",
      "41650 0 480 0\n",
      "41650 0 480 0\n",
      "41650 0 480 0\n"
     ]
    },
    {
     "name": "stderr",
     "output_type": "stream",
     "text": [
      "\r",
      "  8%|▊         | 822/10000 [00:35<06:19, 24.19it/s]"
     ]
    },
    {
     "name": "stdout",
     "output_type": "stream",
     "text": [
      "41650 0 480 0\n",
      "41650 0 480 0\n",
      "41635 15 480 0\n",
      "Number of treatment 41635\n",
      "Revenue -1445.25\n",
      "****************************************************************************************************\n",
      "41650 0 480 0\n",
      "1999 39651 17 463\n",
      "Number of treatment 1999\n",
      "Revenue -4759.85\n",
      "****************************************************************************************************\n"
     ]
    },
    {
     "name": "stderr",
     "output_type": "stream",
     "text": [
      "  8%|▊         | 828/10000 [00:35<06:29, 23.54it/s]"
     ]
    },
    {
     "name": "stdout",
     "output_type": "stream",
     "text": [
      "41650 0 480 0\n",
      "41050 600 471 9\n",
      "Number of treatment 41050\n",
      "Revenue -1537.5\n",
      "****************************************************************************************************\n",
      "38814 2836 431 49\n",
      "Number of treatment 38814\n",
      "Revenue -2002.0999999999995\n",
      "****************************************************************************************************\n",
      "11666 29984 68 412\n",
      "Number of treatment 11666\n",
      "Revenue -5189.9\n",
      "****************************************************************************************************\n",
      "41650 0 480 0\n"
     ]
    },
    {
     "name": "stderr",
     "output_type": "stream",
     "text": [
      "  8%|▊         | 834/10000 [00:35<06:35, 23.16it/s]"
     ]
    },
    {
     "name": "stdout",
     "output_type": "stream",
     "text": [
      "41650 0 480 0\n",
      "41650 0 480 0\n",
      "41650 0 480 0\n",
      "41650 0 480 0\n",
      "41650 0 480 0\n"
     ]
    },
    {
     "name": "stderr",
     "output_type": "stream",
     "text": [
      "\r",
      "  8%|▊         | 837/10000 [00:35<06:30, 23.45it/s]"
     ]
    },
    {
     "name": "stdout",
     "output_type": "stream",
     "text": [
      "41650 0 480 0\n",
      "41650 0 480 0\n",
      "41650 0 480 0\n",
      "41650 0 480 0\n",
      "41594 56 480 0\n",
      "Number of treatment 41594\n",
      "Revenue -1439.0999999999995\n",
      "****************************************************************************************************\n"
     ]
    },
    {
     "name": "stderr",
     "output_type": "stream",
     "text": [
      "  8%|▊         | 843/10000 [00:36<06:39, 22.91it/s]"
     ]
    },
    {
     "name": "stdout",
     "output_type": "stream",
     "text": [
      "41650 0 480 0\n",
      "41642 8 480 0\n",
      "Number of treatment 41642\n",
      "Revenue -1446.3000000000002\n",
      "****************************************************************************************************\n",
      "41650 0 480 0\n",
      "41650 0 480 0\n",
      "16818 24832 124 356\n",
      "Number of treatment 16818\n",
      "Revenue -4842.7\n",
      "****************************************************************************************************\n"
     ]
    },
    {
     "name": "stderr",
     "output_type": "stream",
     "text": [
      "  8%|▊         | 849/10000 [00:36<06:39, 22.89it/s]"
     ]
    },
    {
     "name": "stdout",
     "output_type": "stream",
     "text": [
      "41650 0 480 0\n",
      "41650 0 480 0\n",
      "41650 0 480 0\n",
      "0 41650 0 480\n",
      "4678 36972 29 451\n",
      "Number of treatment 4678\n",
      "Revenue -4921.7\n",
      "****************************************************************************************************\n"
     ]
    },
    {
     "name": "stderr",
     "output_type": "stream",
     "text": [
      "  9%|▊         | 855/10000 [00:36<06:25, 23.74it/s]"
     ]
    },
    {
     "name": "stdout",
     "output_type": "stream",
     "text": [
      "0 41650 0 480\n",
      "41650 0 480 0\n",
      "41650 0 480 0\n",
      "41650 0 480 0\n",
      "41650 0 480 0\n",
      "41650 0 480 0\n"
     ]
    },
    {
     "name": "stderr",
     "output_type": "stream",
     "text": [
      "\r",
      "  9%|▊         | 858/10000 [00:36<06:26, 23.66it/s]"
     ]
    },
    {
     "name": "stdout",
     "output_type": "stream",
     "text": [
      "41650 0 480 0\n",
      "7634 34016 50 430\n",
      "Number of treatment 7634\n",
      "Revenue -4945.1\n",
      "****************************************************************************************************\n",
      "22252 19398 187 293\n",
      "Number of treatment 22252\n",
      "Revenue -4397.799999999999\n",
      "****************************************************************************************************\n",
      "41650 0 480 0\n",
      "41650 0 480 0\n"
     ]
    },
    {
     "name": "stderr",
     "output_type": "stream",
     "text": [
      "  9%|▊         | 864/10000 [00:37<06:19, 24.05it/s]"
     ]
    },
    {
     "name": "stdout",
     "output_type": "stream",
     "text": [
      "41650 0 480 0\n",
      "41650 0 480 0\n",
      "0 41650 0 480\n",
      "41650 0 480 0\n",
      "41650 0 480 0\n"
     ]
    },
    {
     "name": "stderr",
     "output_type": "stream",
     "text": [
      "  9%|▊         | 870/10000 [00:37<06:18, 24.14it/s]"
     ]
    },
    {
     "name": "stdout",
     "output_type": "stream",
     "text": [
      "0 41650 0 480\n",
      "41650 0 480 0\n",
      "41650 0 480 0\n",
      "41650 0 480 0\n",
      "41650 0 480 0\n",
      "41650 0 480 0\n"
     ]
    },
    {
     "name": "stderr",
     "output_type": "stream",
     "text": [
      "\r",
      "  9%|▊         | 873/10000 [00:37<06:17, 24.15it/s]"
     ]
    },
    {
     "name": "stdout",
     "output_type": "stream",
     "text": [
      "41650 0 480 0\n",
      "41650 0 480 0\n",
      "41650 0 480 0\n",
      "41650 0 480 0\n"
     ]
    },
    {
     "name": "stderr",
     "output_type": "stream",
     "text": [
      "  9%|▉         | 879/10000 [00:37<06:11, 24.54it/s]"
     ]
    },
    {
     "name": "stdout",
     "output_type": "stream",
     "text": [
      "41650 0 480 0\n",
      "41650 0 480 0\n",
      "41650 0 480 0\n",
      "11058 30592 63 417\n",
      "Number of treatment 11058\n",
      "Revenue -5198.7\n",
      "****************************************************************************************************\n",
      "29915 11735 291 189\n",
      "Number of treatment 29915\n",
      "Revenue -3467.25\n",
      "****************************************************************************************************\n"
     ]
    },
    {
     "name": "stderr",
     "output_type": "stream",
     "text": [
      "  9%|▉         | 885/10000 [00:37<06:12, 24.48it/s]"
     ]
    },
    {
     "name": "stdout",
     "output_type": "stream",
     "text": [
      "41650 0 480 0\n",
      "41650 0 480 0\n",
      "41650 0 480 0\n",
      "41650 0 480 0\n",
      "41650 0 480 0\n"
     ]
    },
    {
     "name": "stderr",
     "output_type": "stream",
     "text": [
      "\r",
      "  9%|▉         | 888/10000 [00:38<06:36, 22.97it/s]"
     ]
    },
    {
     "name": "stdout",
     "output_type": "stream",
     "text": [
      "14013 27637 84 396\n",
      "Number of treatment 14013\n",
      "Revenue -5221.95\n",
      "****************************************************************************************************\n",
      "0 41650 0 480\n",
      "0 41650 0 480\n",
      "41650 0 480 0\n",
      "41650 0 480 0\n"
     ]
    },
    {
     "name": "stderr",
     "output_type": "stream",
     "text": [
      "  9%|▉         | 894/10000 [00:38<06:18, 24.09it/s]"
     ]
    },
    {
     "name": "stdout",
     "output_type": "stream",
     "text": [
      "41650 0 480 0\n",
      "41650 0 480 0\n",
      "40941 709 471 9\n",
      "Number of treatment 40941\n",
      "Revenue -1521.1499999999996\n",
      "****************************************************************************************************\n",
      "41650 0 480 0\n",
      "41650 0 480 0\n"
     ]
    },
    {
     "name": "stderr",
     "output_type": "stream",
     "text": [
      "  9%|▉         | 900/10000 [00:38<06:35, 23.02it/s]"
     ]
    },
    {
     "name": "stdout",
     "output_type": "stream",
     "text": [
      "41650 0 480 0\n",
      "41650 0 480 0\n",
      "41650 0 480 0\n",
      "41650 0 480 0\n",
      "41650 0 480 0\n"
     ]
    },
    {
     "name": "stderr",
     "output_type": "stream",
     "text": [
      "\r",
      "  9%|▉         | 903/10000 [00:38<06:30, 23.31it/s]"
     ]
    },
    {
     "name": "stdout",
     "output_type": "stream",
     "text": [
      "41650 0 480 0\n",
      "41650 0 480 0\n",
      "41650 0 480 0\n",
      "41650 0 480 0\n",
      "41650 0 480 0\n"
     ]
    },
    {
     "name": "stderr",
     "output_type": "stream",
     "text": [
      "  9%|▉         | 909/10000 [00:39<06:30, 23.30it/s]"
     ]
    },
    {
     "name": "stdout",
     "output_type": "stream",
     "text": [
      "0 41650 0 480\n",
      "41650 0 480 0\n",
      "15476 26174 98 382\n",
      "Number of treatment 15476\n",
      "Revenue -5161.4\n",
      "****************************************************************************************************\n",
      "41650 0 480 0\n",
      "41650 0 480 0\n"
     ]
    },
    {
     "name": "stderr",
     "output_type": "stream",
     "text": [
      "  9%|▉         | 915/10000 [00:39<06:35, 22.97it/s]"
     ]
    },
    {
     "name": "stdout",
     "output_type": "stream",
     "text": [
      "12264 29386 72 408\n",
      "Number of treatment 12264\n",
      "Revenue -5199.6\n",
      "****************************************************************************************************\n",
      "41650 0 480 0\n",
      "41650 0 480 0\n",
      "41650 0 480 0\n",
      "0 41650 0 480\n"
     ]
    },
    {
     "name": "stderr",
     "output_type": "stream",
     "text": [
      "\r",
      "  9%|▉         | 918/10000 [00:39<06:35, 22.96it/s]"
     ]
    },
    {
     "name": "stdout",
     "output_type": "stream",
     "text": [
      "41650 0 480 0\n",
      "0 41650 0 480\n",
      "41650 0 480 0\n",
      "41650 0 480 0\n",
      "41650 0 480 0\n"
     ]
    },
    {
     "name": "stderr",
     "output_type": "stream",
     "text": [
      "  9%|▉         | 924/10000 [00:39<06:13, 24.32it/s]"
     ]
    },
    {
     "name": "stdout",
     "output_type": "stream",
     "text": [
      "38331 3319 423 57\n",
      "Number of treatment 38331\n",
      "Revenue -2089.6499999999996\n",
      "****************************************************************************************************\n",
      "41650 0 480 0\n",
      "41650 0 480 0\n",
      "41650 0 480 0\n",
      "41650 0 480 0\n",
      "41650 0 480 0\n"
     ]
    },
    {
     "name": "stderr",
     "output_type": "stream",
     "text": [
      "  9%|▉         | 930/10000 [00:39<06:29, 23.29it/s]"
     ]
    },
    {
     "name": "stdout",
     "output_type": "stream",
     "text": [
      "41650 0 480 0\n",
      "41650 0 480 0\n",
      "0 41650 0 480\n",
      "9667 31983 57 423\n",
      "Number of treatment 9667\n",
      "Revenue -5110.05\n",
      "****************************************************************************************************\n",
      "41650 0 480 0\n"
     ]
    },
    {
     "name": "stderr",
     "output_type": "stream",
     "text": [
      "  9%|▉         | 936/10000 [00:40<06:35, 22.92it/s]"
     ]
    },
    {
     "name": "stdout",
     "output_type": "stream",
     "text": [
      "41650 0 480 0\n",
      "41650 0 480 0\n",
      "0 41650 0 480\n",
      "41650 0 480 0\n",
      "41650 0 480 0\n"
     ]
    },
    {
     "name": "stderr",
     "output_type": "stream",
     "text": [
      "\r",
      "  9%|▉         | 939/10000 [00:40<06:37, 22.80it/s]"
     ]
    },
    {
     "name": "stdout",
     "output_type": "stream",
     "text": [
      "41650 0 480 0\n",
      "11636 30014 68 412\n",
      "Number of treatment 11636\n",
      "Revenue -5185.4\n",
      "****************************************************************************************************\n",
      "41650 0 480 0\n",
      "41650 0 480 0\n",
      "13292 28358 76 404\n",
      "Number of treatment 13292\n",
      "Revenue -5273.8\n",
      "****************************************************************************************************\n"
     ]
    },
    {
     "name": "stderr",
     "output_type": "stream",
     "text": [
      "  9%|▉         | 945/10000 [00:40<06:32, 23.08it/s]"
     ]
    },
    {
     "name": "stdout",
     "output_type": "stream",
     "text": [
      "41650 0 480 0\n",
      "41650 0 480 0\n",
      "41650 0 480 0\n",
      "41650 0 480 0\n",
      "41650 0 480 0\n"
     ]
    },
    {
     "name": "stderr",
     "output_type": "stream",
     "text": [
      " 10%|▉         | 951/10000 [00:40<06:31, 23.10it/s]"
     ]
    },
    {
     "name": "stdout",
     "output_type": "stream",
     "text": [
      "32537 9113 328 152\n",
      "Number of treatment 32537\n",
      "Revenue -3120.55\n",
      "****************************************************************************************************\n",
      "41650 0 480 0\n",
      "41650 0 480 0\n",
      "41650 0 480 0\n",
      "41650 0 480 0\n"
     ]
    },
    {
     "name": "stderr",
     "output_type": "stream",
     "text": [
      "\r",
      " 10%|▉         | 954/10000 [00:40<06:22, 23.63it/s]"
     ]
    },
    {
     "name": "stdout",
     "output_type": "stream",
     "text": [
      "41650 0 480 0\n",
      "41650 0 480 0\n",
      "41650 0 480 0\n",
      "41650 0 480 0\n",
      "41650 0 480 0\n"
     ]
    },
    {
     "name": "stderr",
     "output_type": "stream",
     "text": [
      " 10%|▉         | 960/10000 [00:41<06:28, 23.27it/s]"
     ]
    },
    {
     "name": "stdout",
     "output_type": "stream",
     "text": [
      "41650 0 480 0\n",
      "41650 0 480 0\n",
      "41650 0 480 0\n",
      "41650 0 480 0\n",
      "41650 0 480 0\n"
     ]
    },
    {
     "name": "stderr",
     "output_type": "stream",
     "text": [
      " 10%|▉         | 966/10000 [00:41<06:35, 22.82it/s]"
     ]
    },
    {
     "name": "stdout",
     "output_type": "stream",
     "text": [
      "41650 0 480 0\n",
      "41650 0 480 0\n",
      "41650 0 480 0\n",
      "31930 9720 318 162\n",
      "Number of treatment 31930\n",
      "Revenue -3229.5\n",
      "****************************************************************************************************\n",
      "41650 0 480 0\n"
     ]
    },
    {
     "name": "stderr",
     "output_type": "stream",
     "text": [
      "\r",
      " 10%|▉         | 969/10000 [00:41<06:30, 23.13it/s]"
     ]
    },
    {
     "name": "stdout",
     "output_type": "stream",
     "text": [
      "41650 0 480 0\n",
      "15739 25911 106 374\n",
      "Number of treatment 15739\n",
      "Revenue -5040.85\n",
      "****************************************************************************************************\n",
      "41650 0 480 0\n",
      "41650 0 480 0\n",
      "41650 0 480 0\n"
     ]
    },
    {
     "name": "stderr",
     "output_type": "stream",
     "text": [
      " 10%|▉         | 975/10000 [00:41<06:38, 22.64it/s]"
     ]
    },
    {
     "name": "stdout",
     "output_type": "stream",
     "text": [
      "41650 0 480 0\n",
      "6919 34731 47 433\n",
      "Number of treatment 6919\n",
      "Revenue -4897.85\n",
      "****************************************************************************************************\n",
      "13937 27713 83 397\n",
      "Number of treatment 13937\n",
      "Revenue -5230.549999999999\n",
      "****************************************************************************************************\n",
      "41650 0 480 0\n",
      "8117 33533 55 425\n",
      "Number of treatment 8117\n",
      "Revenue -4917.55\n",
      "****************************************************************************************************\n"
     ]
    },
    {
     "name": "stderr",
     "output_type": "stream",
     "text": [
      " 10%|▉         | 981/10000 [00:42<06:21, 23.64it/s]"
     ]
    },
    {
     "name": "stdout",
     "output_type": "stream",
     "text": [
      "13550 28100 79 401\n",
      "Number of treatment 13550\n",
      "Revenue -5252.5\n",
      "****************************************************************************************************\n",
      "41650 0 480 0\n",
      "372 41278 4 476\n",
      "Number of treatment 372\n",
      "Revenue -4775.8\n",
      "****************************************************************************************************\n",
      "41650 0 480 0\n",
      "41650 0 480 0\n"
     ]
    },
    {
     "name": "stderr",
     "output_type": "stream",
     "text": [
      "\r",
      " 10%|▉         | 984/10000 [00:42<06:21, 23.63it/s]"
     ]
    },
    {
     "name": "stdout",
     "output_type": "stream",
     "text": [
      "41650 0 480 0\n",
      "0 41650 0 480\n",
      "41650 0 480 0\n",
      "0 41650 0 480\n",
      "0 41650 0 480\n"
     ]
    },
    {
     "name": "stderr",
     "output_type": "stream",
     "text": [
      " 10%|▉         | 990/10000 [00:42<06:16, 23.96it/s]"
     ]
    },
    {
     "name": "stdout",
     "output_type": "stream",
     "text": [
      "41650 0 480 0\n",
      "41644 6 480 0\n",
      "Number of treatment 41644\n",
      "Revenue -1446.5999999999995\n",
      "****************************************************************************************************\n",
      "0 41650 0 480\n",
      "47 41603 0 480\n",
      "Number of treatment 47\n",
      "Revenue -4807.05\n",
      "****************************************************************************************************\n",
      "41650 0 480 0\n"
     ]
    },
    {
     "name": "stderr",
     "output_type": "stream",
     "text": [
      " 10%|▉         | 996/10000 [00:42<06:17, 23.84it/s]"
     ]
    },
    {
     "name": "stdout",
     "output_type": "stream",
     "text": [
      "41650 0 480 0\n",
      "41650 0 480 0\n",
      "41650 0 480 0\n",
      "41650 0 480 0\n",
      "41650 0 480 0\n"
     ]
    },
    {
     "name": "stderr",
     "output_type": "stream",
     "text": [
      "\r",
      " 10%|▉         | 999/10000 [00:42<06:22, 23.52it/s]"
     ]
    },
    {
     "name": "stdout",
     "output_type": "stream",
     "text": [
      "39491 2159 448 32\n",
      "Number of treatment 39491\n",
      "Revenue -1763.6499999999996\n",
      "****************************************************************************************************\n",
      "41650 0 480 0\n",
      "41650 0 480 0\n",
      "41650 0 480 0\n",
      "41650 0 480 0\n"
     ]
    },
    {
     "name": "stderr",
     "output_type": "stream",
     "text": [
      " 10%|█         | 1005/10000 [00:43<06:44, 22.24it/s]"
     ]
    },
    {
     "name": "stdout",
     "output_type": "stream",
     "text": [
      "41650 0 480 0\n",
      "41650 0 480 0\n",
      "41650 0 480 0\n",
      "19153 22497 153 327\n",
      "Number of treatment 19153\n",
      "Revenue -4612.95\n",
      "****************************************************************************************************\n",
      "41650 0 480 0\n"
     ]
    },
    {
     "name": "stderr",
     "output_type": "stream",
     "text": [
      " 10%|█         | 1011/10000 [00:43<06:55, 21.65it/s]"
     ]
    },
    {
     "name": "stdout",
     "output_type": "stream",
     "text": [
      "41650 0 480 0\n",
      "41548 102 480 0\n",
      "Number of treatment 41548\n",
      "Revenue -1432.1999999999998\n",
      "****************************************************************************************************\n",
      "41650 0 480 0\n",
      "41650 0 480 0\n",
      "41650 0 480 0\n"
     ]
    },
    {
     "name": "stderr",
     "output_type": "stream",
     "text": [
      "\r",
      " 10%|█         | 1014/10000 [00:43<06:57, 21.54it/s]"
     ]
    },
    {
     "name": "stdout",
     "output_type": "stream",
     "text": [
      "0 41650 0 480\n",
      "41650 0 480 0\n",
      "0 41650 0 480\n",
      "28343 13307 268 212\n",
      "Number of treatment 28343\n",
      "Revenue -3691.45\n",
      "****************************************************************************************************\n",
      "41650 0 480 0\n"
     ]
    },
    {
     "name": "stderr",
     "output_type": "stream",
     "text": [
      " 10%|█         | 1020/10000 [00:43<06:38, 22.52it/s]"
     ]
    },
    {
     "name": "stdout",
     "output_type": "stream",
     "text": [
      "41650 0 480 0\n",
      "41650 0 480 0\n",
      "25882 15768 231 249\n",
      "Number of treatment 25882\n",
      "Revenue -4062.2999999999997\n",
      "****************************************************************************************************\n",
      "41650 0 480 0\n",
      "41650 0 480 0\n"
     ]
    },
    {
     "name": "stderr",
     "output_type": "stream",
     "text": [
      " 10%|█         | 1026/10000 [00:44<06:22, 23.44it/s]"
     ]
    },
    {
     "name": "stdout",
     "output_type": "stream",
     "text": [
      "41650 0 480 0\n",
      "0 41650 0 480\n",
      "41650 0 480 0\n",
      "41650 0 480 0\n",
      "41650 0 480 0\n"
     ]
    },
    {
     "name": "stderr",
     "output_type": "stream",
     "text": [
      "\r",
      " 10%|█         | 1029/10000 [00:44<06:22, 23.43it/s]"
     ]
    },
    {
     "name": "stdout",
     "output_type": "stream",
     "text": [
      "41650 0 480 0\n",
      "41650 0 480 0\n",
      "41650 0 480 0\n",
      "41650 0 480 0\n",
      "41650 0 480 0\n"
     ]
    },
    {
     "name": "stderr",
     "output_type": "stream",
     "text": [
      " 10%|█         | 1035/10000 [00:44<06:23, 23.38it/s]"
     ]
    },
    {
     "name": "stdout",
     "output_type": "stream",
     "text": [
      "41650 0 480 0\n",
      "41650 0 480 0\n",
      "41650 0 480 0\n",
      "41650 0 480 0\n",
      "41650 0 480 0\n"
     ]
    },
    {
     "name": "stderr",
     "output_type": "stream",
     "text": [
      " 10%|█         | 1041/10000 [00:44<06:12, 24.03it/s]"
     ]
    },
    {
     "name": "stdout",
     "output_type": "stream",
     "text": [
      "41650 0 480 0\n",
      "41650 0 480 0\n",
      "41650 0 480 0\n",
      "41650 0 480 0\n",
      "41650 0 480 0\n",
      "41650 0 480 0\n"
     ]
    },
    {
     "name": "stderr",
     "output_type": "stream",
     "text": [
      " 10%|█         | 1047/10000 [00:44<06:24, 23.26it/s]"
     ]
    },
    {
     "name": "stdout",
     "output_type": "stream",
     "text": [
      "40321 1329 466 14\n",
      "Number of treatment 40321\n",
      "Revenue -1528.1499999999996\n",
      "****************************************************************************************************\n",
      "41650 0 480 0\n",
      "41650 0 480 0\n",
      "41650 0 480 0\n",
      "41650 0 480 0\n"
     ]
    },
    {
     "name": "stderr",
     "output_type": "stream",
     "text": [
      " 11%|█         | 1053/10000 [00:45<06:11, 24.06it/s]"
     ]
    },
    {
     "name": "stdout",
     "output_type": "stream",
     "text": [
      "0 41650 0 480\n",
      "41650 0 480 0\n",
      "0 41650 0 480\n",
      "41650 0 480 0\n",
      "41650 0 480 0\n",
      "41650 0 480 0\n"
     ]
    },
    {
     "name": "stderr",
     "output_type": "stream",
     "text": [
      " 11%|█         | 1059/10000 [00:45<06:08, 24.27it/s]"
     ]
    },
    {
     "name": "stdout",
     "output_type": "stream",
     "text": [
      "41650 0 480 0\n",
      "41650 0 480 0\n",
      "41650 0 480 0\n",
      "41650 0 480 0\n",
      "41650 0 480 0\n",
      "0 41650 0 480\n"
     ]
    },
    {
     "name": "stderr",
     "output_type": "stream",
     "text": [
      " 11%|█         | 1065/10000 [00:45<05:59, 24.85it/s]"
     ]
    },
    {
     "name": "stdout",
     "output_type": "stream",
     "text": [
      "41585 65 480 0\n",
      "Number of treatment 41585\n",
      "Revenue -1437.75\n",
      "****************************************************************************************************\n",
      "41650 0 480 0\n",
      "41650 0 480 0\n",
      "41650 0 480 0\n",
      "41650 0 480 0\n",
      "41650 0 480 0\n"
     ]
    },
    {
     "name": "stderr",
     "output_type": "stream",
     "text": [
      "\r",
      " 11%|█         | 1068/10000 [00:45<06:00, 24.81it/s]"
     ]
    },
    {
     "name": "stdout",
     "output_type": "stream",
     "text": [
      "41650 0 480 0\n",
      "13288 28362 76 404\n",
      "Number of treatment 13288\n",
      "Revenue -5273.2\n",
      "****************************************************************************************************\n",
      "41650 0 480 0\n",
      "41650 0 480 0\n",
      "41650 0 480 0\n"
     ]
    },
    {
     "name": "stderr",
     "output_type": "stream",
     "text": [
      " 11%|█         | 1074/10000 [00:46<05:57, 24.95it/s]"
     ]
    },
    {
     "name": "stdout",
     "output_type": "stream",
     "text": [
      "39204 2446 443 37\n",
      "Number of treatment 39204\n",
      "Revenue -1820.5999999999995\n",
      "****************************************************************************************************\n",
      "36531 5119 391 89\n",
      "Number of treatment 36531\n",
      "Revenue -2459.6499999999996\n",
      "****************************************************************************************************\n",
      "41650 0 480 0\n",
      "41650 0 480 0\n",
      "41650 0 480 0\n",
      "41650 0 480 0\n"
     ]
    },
    {
     "name": "stderr",
     "output_type": "stream",
     "text": [
      " 11%|█         | 1080/10000 [00:46<06:05, 24.42it/s]"
     ]
    },
    {
     "name": "stdout",
     "output_type": "stream",
     "text": [
      "41650 0 480 0\n",
      "41650 0 480 0\n",
      "12 41638 0 480\n",
      "Number of treatment 12\n",
      "Revenue -4801.8\n",
      "****************************************************************************************************\n",
      "41650 0 480 0\n",
      "41650 0 480 0\n"
     ]
    },
    {
     "name": "stderr",
     "output_type": "stream",
     "text": [
      " 11%|█         | 1086/10000 [00:46<06:11, 24.02it/s]"
     ]
    },
    {
     "name": "stdout",
     "output_type": "stream",
     "text": [
      "0 41650 0 480\n",
      "41650 0 480 0\n",
      "13266 28384 76 404\n",
      "Number of treatment 13266\n",
      "Revenue -5269.9\n",
      "****************************************************************************************************\n",
      "41650 0 480 0\n",
      "41650 0 480 0\n"
     ]
    },
    {
     "name": "stderr",
     "output_type": "stream",
     "text": [
      "\r",
      " 11%|█         | 1089/10000 [00:46<06:27, 22.99it/s]"
     ]
    },
    {
     "name": "stdout",
     "output_type": "stream",
     "text": [
      "41650 0 480 0\n",
      "41650 0 480 0\n",
      "40542 1108 467 13\n",
      "Number of treatment 40542\n",
      "Revenue -1541.3000000000002\n",
      "****************************************************************************************************\n",
      "41650 0 480 0\n",
      "41650 0 480 0\n"
     ]
    },
    {
     "name": "stderr",
     "output_type": "stream",
     "text": [
      " 11%|█         | 1095/10000 [00:46<06:28, 22.91it/s]"
     ]
    },
    {
     "name": "stdout",
     "output_type": "stream",
     "text": [
      "41650 0 480 0\n",
      "41650 0 480 0\n",
      "41519 131 479 1\n",
      "Number of treatment 41519\n",
      "Revenue -1447.8499999999995\n",
      "****************************************************************************************************\n",
      "41650 0 480 0\n",
      "41650 0 480 0\n"
     ]
    },
    {
     "name": "stderr",
     "output_type": "stream",
     "text": [
      " 11%|█         | 1101/10000 [00:47<06:24, 23.16it/s]"
     ]
    },
    {
     "name": "stdout",
     "output_type": "stream",
     "text": [
      "41650 0 480 0\n",
      "2478 39172 19 461\n",
      "Number of treatment 2478\n",
      "Revenue -4791.7\n",
      "****************************************************************************************************\n",
      "41650 0 480 0\n",
      "41650 0 480 0\n",
      "41642 8 480 0\n"
     ]
    },
    {
     "name": "stderr",
     "output_type": "stream",
     "text": [
      "\r",
      " 11%|█         | 1104/10000 [00:47<06:29, 22.82it/s]"
     ]
    },
    {
     "name": "stdout",
     "output_type": "stream",
     "text": [
      "41650 0 480 0\n",
      "41650 0 480 0\n",
      "12810 28840 74 406\n",
      "41650 0 480 0\n",
      "41650 0 480 0\n"
     ]
    },
    {
     "name": "stderr",
     "output_type": "stream",
     "text": [
      " 11%|█         | 1110/10000 [00:47<06:21, 23.32it/s]"
     ]
    },
    {
     "name": "stdout",
     "output_type": "stream",
     "text": [
      "41650 0 480 0\n",
      "41650 0 480 0\n",
      "7009 34641 48 432\n",
      "Number of treatment 7009\n",
      "Revenue -4891.35\n",
      "****************************************************************************************************\n",
      "41650 0 480 0\n",
      "41650 0 480 0\n"
     ]
    },
    {
     "name": "stderr",
     "output_type": "stream",
     "text": [
      " 11%|█         | 1116/10000 [00:47<06:15, 23.64it/s]"
     ]
    },
    {
     "name": "stdout",
     "output_type": "stream",
     "text": [
      "41650 0 480 0\n",
      "41650 0 480 0\n",
      "0 41650 0 480\n",
      "41650 0 480 0\n",
      "41650 0 480 0\n"
     ]
    },
    {
     "name": "stderr",
     "output_type": "stream",
     "text": [
      " 11%|█         | 1122/10000 [00:48<06:05, 24.30it/s]"
     ]
    },
    {
     "name": "stdout",
     "output_type": "stream",
     "text": [
      "41650 0 480 0\n",
      "41650 0 480 0\n",
      "41650 0 480 0\n",
      "41650 0 480 0\n",
      "41650 0 480 0\n",
      "41650 0 480 0\n"
     ]
    },
    {
     "name": "stderr",
     "output_type": "stream",
     "text": [
      " 11%|█▏        | 1128/10000 [00:48<05:58, 24.72it/s]"
     ]
    },
    {
     "name": "stdout",
     "output_type": "stream",
     "text": [
      "41650 0 480 0\n",
      "41650 0 480 0\n",
      "41650 0 480 0\n",
      "41650 0 480 0\n",
      "41650 0 480 0\n",
      "41650 0 480 0\n"
     ]
    },
    {
     "name": "stderr",
     "output_type": "stream",
     "text": [
      " 11%|█▏        | 1134/10000 [00:48<05:58, 24.71it/s]"
     ]
    },
    {
     "name": "stdout",
     "output_type": "stream",
     "text": [
      "0 41650 0 480\n",
      "41650 0 480 0\n",
      "41650 0 480 0\n",
      "41650 0 480 0\n",
      "41650 0 480 0\n",
      "0 41650 0 480\n"
     ]
    },
    {
     "name": "stderr",
     "output_type": "stream",
     "text": [
      "\r",
      " 11%|█▏        | 1137/10000 [00:48<06:11, 23.85it/s]"
     ]
    },
    {
     "name": "stdout",
     "output_type": "stream",
     "text": [
      "41650 0 480 0\n",
      "41650 0 480 0\n",
      "41650 0 480 0\n",
      "41650 0 480 0\n",
      "41650 0 480 0\n"
     ]
    },
    {
     "name": "stderr",
     "output_type": "stream",
     "text": [
      " 11%|█▏        | 1143/10000 [00:48<06:13, 23.72it/s]"
     ]
    },
    {
     "name": "stdout",
     "output_type": "stream",
     "text": [
      "41650 0 480 0\n",
      "41650 0 480 0\n",
      "41650 0 480 0\n",
      "41650 0 480 0\n",
      "41650 0 480 0\n"
     ]
    },
    {
     "name": "stderr",
     "output_type": "stream",
     "text": [
      " 11%|█▏        | 1149/10000 [00:49<06:03, 24.37it/s]"
     ]
    },
    {
     "name": "stdout",
     "output_type": "stream",
     "text": [
      "41650 0 480 0\n",
      "41650 0 480 0\n",
      "41650 0 480 0\n",
      "0 41650 0 480\n",
      "41650 0 480 0\n"
     ]
    },
    {
     "name": "stderr",
     "output_type": "stream",
     "text": [
      "\r",
      " 12%|█▏        | 1152/10000 [00:49<06:15, 23.57it/s]"
     ]
    },
    {
     "name": "stdout",
     "output_type": "stream",
     "text": [
      "41644 6 480 0\n",
      "41650 0 480 0\n",
      "41650 0 480 0\n",
      "41650 0 480 0\n",
      "41650 0 480 0\n"
     ]
    },
    {
     "name": "stderr",
     "output_type": "stream",
     "text": [
      " 12%|█▏        | 1158/10000 [00:49<06:19, 23.33it/s]"
     ]
    },
    {
     "name": "stdout",
     "output_type": "stream",
     "text": [
      "0 41650 0 480\n",
      "41650 0 480 0\n",
      "41650 0 480 0\n",
      "41650 0 480 0\n",
      "41650 0 480 0\n"
     ]
    },
    {
     "name": "stderr",
     "output_type": "stream",
     "text": [
      " 12%|█▏        | 1164/10000 [00:49<06:12, 23.70it/s]"
     ]
    },
    {
     "name": "stdout",
     "output_type": "stream",
     "text": [
      "41650 0 480 0\n",
      "41650 0 480 0\n",
      "41650 0 480 0\n",
      "41650 0 480 0\n",
      "21208 20442 177 303\n",
      "Number of treatment 21208\n",
      "Revenue -4441.2\n",
      "****************************************************************************************************\n"
     ]
    },
    {
     "name": "stderr",
     "output_type": "stream",
     "text": [
      "\r",
      " 12%|█▏        | 1167/10000 [00:49<06:25, 22.93it/s]"
     ]
    },
    {
     "name": "stdout",
     "output_type": "stream",
     "text": [
      "41650 0 480 0\n",
      "41650 0 480 0\n",
      "19294 22356 157 323\n",
      "Number of treatment 19294\n",
      "Revenue -4554.1\n",
      "****************************************************************************************************\n",
      "41650 0 480 0\n",
      "41650 0 480 0\n"
     ]
    },
    {
     "name": "stderr",
     "output_type": "stream",
     "text": [
      " 12%|█▏        | 1173/10000 [00:50<06:22, 23.06it/s]"
     ]
    },
    {
     "name": "stdout",
     "output_type": "stream",
     "text": [
      "41650 0 480 0\n",
      "10882 30768 61 419\n",
      "Number of treatment 10882\n",
      "Revenue -5212.3\n",
      "****************************************************************************************************\n",
      "41649 1 480 0\n",
      "41650 0 480 0\n",
      "41650 0 480 0\n"
     ]
    },
    {
     "name": "stderr",
     "output_type": "stream",
     "text": [
      " 12%|█▏        | 1179/10000 [00:50<06:18, 23.33it/s]"
     ]
    },
    {
     "name": "stdout",
     "output_type": "stream",
     "text": [
      "41650 0 480 0\n",
      "41650 0 480 0\n",
      "9150 32500 56 424\n",
      "Number of treatment 9150\n",
      "Revenue -5052.5\n",
      "****************************************************************************************************\n",
      "41650 0 480 0\n",
      "41650 0 480 0\n"
     ]
    },
    {
     "name": "stderr",
     "output_type": "stream",
     "text": [
      " 12%|█▏        | 1185/10000 [00:50<06:02, 24.30it/s]"
     ]
    },
    {
     "name": "stdout",
     "output_type": "stream",
     "text": [
      "41650 0 480 0\n",
      "41650 0 480 0\n",
      "6559 35091 44 436\n",
      "Number of treatment 6559\n",
      "Revenue -4903.85\n",
      "****************************************************************************************************\n",
      "41650 0 480 0\n",
      "41650 0 480 0\n",
      "41650 0 480 0\n"
     ]
    },
    {
     "name": "stderr",
     "output_type": "stream",
     "text": [
      "\r",
      " 12%|█▏        | 1188/10000 [00:50<06:07, 23.95it/s]"
     ]
    },
    {
     "name": "stdout",
     "output_type": "stream",
     "text": [
      "41650 0 480 0\n",
      "41650 0 480 0\n",
      "41650 0 480 0\n",
      "41650 0 480 0\n",
      "41650 0 480 0\n"
     ]
    },
    {
     "name": "stderr",
     "output_type": "stream",
     "text": [
      " 12%|█▏        | 1194/10000 [00:51<06:38, 22.12it/s]"
     ]
    },
    {
     "name": "stdout",
     "output_type": "stream",
     "text": [
      "19581 22069 161 319\n",
      "Number of treatment 19581\n",
      "Revenue -4517.15\n",
      "****************************************************************************************************\n",
      "41650 0 480 0\n",
      "1634 40016 14 466\n",
      "Number of treatment 1634\n",
      "Revenue -4765.1\n",
      "****************************************************************************************************\n",
      "41650 0 480 0\n",
      "41650 0 480 0\n"
     ]
    },
    {
     "name": "stderr",
     "output_type": "stream",
     "text": [
      " 12%|█▏        | 1200/10000 [00:51<06:21, 23.04it/s]"
     ]
    },
    {
     "name": "stdout",
     "output_type": "stream",
     "text": [
      "41650 0 480 0\n",
      "41650 0 480 0\n",
      "41650 0 480 0\n",
      "0 41650 0 480\n",
      "41650 0 480 0\n"
     ]
    },
    {
     "name": "stderr",
     "output_type": "stream",
     "text": [
      "\r",
      " 12%|█▏        | 1203/10000 [00:51<06:23, 22.92it/s]"
     ]
    },
    {
     "name": "stdout",
     "output_type": "stream",
     "text": [
      "41650 0 480 0\n",
      "41650 0 480 0\n",
      "41650 0 480 0\n",
      "41650 0 480 0\n",
      "41650 0 480 0\n"
     ]
    },
    {
     "name": "stderr",
     "output_type": "stream",
     "text": [
      " 12%|█▏        | 1209/10000 [00:51<06:02, 24.23it/s]"
     ]
    },
    {
     "name": "stdout",
     "output_type": "stream",
     "text": [
      "32007 9643 318 162\n",
      "Number of treatment 32007\n",
      "Revenue -3241.05\n",
      "****************************************************************************************************\n",
      "41650 0 480 0\n",
      "41650 0 480 0\n",
      "41650 0 480 0\n",
      "0 41650 0 480\n",
      "41650 0 480 0\n"
     ]
    },
    {
     "name": "stderr",
     "output_type": "stream",
     "text": [
      " 12%|█▏        | 1215/10000 [00:52<06:08, 23.84it/s]"
     ]
    },
    {
     "name": "stdout",
     "output_type": "stream",
     "text": [
      "41650 0 480 0\n",
      "41650 0 480 0\n",
      "41650 0 480 0\n",
      "41650 0 480 0\n",
      "41650 0 480 0\n"
     ]
    },
    {
     "name": "stderr",
     "output_type": "stream",
     "text": [
      " 12%|█▏        | 1221/10000 [00:52<06:08, 23.81it/s]"
     ]
    },
    {
     "name": "stdout",
     "output_type": "stream",
     "text": [
      "41650 0 480 0\n",
      "41650 0 480 0\n",
      "41650 0 480 0\n",
      "41650 0 480 0\n",
      "41650 0 480 0\n"
     ]
    },
    {
     "name": "stderr",
     "output_type": "stream",
     "text": [
      "\r",
      " 12%|█▏        | 1224/10000 [00:52<06:12, 23.59it/s]"
     ]
    },
    {
     "name": "stdout",
     "output_type": "stream",
     "text": [
      "0 41650 0 480\n",
      "41650 0 480 0\n",
      "8432 33218 55 425\n",
      "Number of treatment 8432\n",
      "Revenue -4964.8\n",
      "****************************************************************************************************\n",
      "41650 0 480 0\n",
      "34058 7592 358 122\n",
      "Number of treatment 34058\n",
      "Revenue -2748.7\n",
      "****************************************************************************************************\n"
     ]
    },
    {
     "name": "stderr",
     "output_type": "stream",
     "text": [
      " 12%|█▏        | 1230/10000 [00:52<06:15, 23.34it/s]"
     ]
    },
    {
     "name": "stdout",
     "output_type": "stream",
     "text": [
      "41650 0 480 0\n",
      "7045 34605 48 432\n",
      "Number of treatment 7045\n",
      "Revenue -4896.75\n",
      "****************************************************************************************************\n",
      "41650 0 480 0\n",
      "41650 0 480 0\n",
      "41650 0 480 0\n"
     ]
    },
    {
     "name": "stderr",
     "output_type": "stream",
     "text": [
      " 12%|█▏        | 1236/10000 [00:52<06:13, 23.47it/s]"
     ]
    },
    {
     "name": "stdout",
     "output_type": "stream",
     "text": [
      "41650 0 480 0\n",
      "41650 0 480 0\n",
      "41650 0 480 0\n",
      "41650 0 480 0\n",
      "41650 0 480 0\n"
     ]
    },
    {
     "name": "stderr",
     "output_type": "stream",
     "text": [
      "\r",
      " 12%|█▏        | 1239/10000 [00:53<06:14, 23.37it/s]"
     ]
    },
    {
     "name": "stdout",
     "output_type": "stream",
     "text": [
      "41650 0 480 0\n",
      "41650 0 480 0\n",
      "41650 0 480 0\n",
      "0 41650 0 480\n",
      "0 41650 0 480\n"
     ]
    },
    {
     "name": "stderr",
     "output_type": "stream",
     "text": [
      " 12%|█▏        | 1245/10000 [00:53<06:12, 23.50it/s]"
     ]
    },
    {
     "name": "stdout",
     "output_type": "stream",
     "text": [
      "41650 0 480 0\n",
      "41650 0 480 0\n",
      "41650 0 480 0\n",
      "41650 0 480 0\n",
      "41650 0 480 0\n"
     ]
    },
    {
     "name": "stderr",
     "output_type": "stream",
     "text": [
      " 13%|█▎        | 1251/10000 [00:53<06:00, 24.24it/s]"
     ]
    },
    {
     "name": "stdout",
     "output_type": "stream",
     "text": [
      "41650 0 480 0\n",
      "41650 0 480 0\n",
      "41650 0 480 0\n",
      "41650 0 480 0\n",
      "41650 0 480 0\n"
     ]
    },
    {
     "name": "stderr",
     "output_type": "stream",
     "text": [
      "\r",
      " 13%|█▎        | 1254/10000 [00:53<06:10, 23.64it/s]"
     ]
    },
    {
     "name": "stdout",
     "output_type": "stream",
     "text": [
      "41650 0 480 0\n",
      "28200 13450 268 212\n",
      "Number of treatment 28200\n",
      "Revenue -3670.0\n",
      "****************************************************************************************************\n",
      "41650 0 480 0\n",
      "41650 0 480 0\n",
      "41650 0 480 0\n"
     ]
    },
    {
     "name": "stderr",
     "output_type": "stream",
     "text": [
      " 13%|█▎        | 1260/10000 [00:53<06:30, 22.39it/s]"
     ]
    },
    {
     "name": "stdout",
     "output_type": "stream",
     "text": [
      "41650 0 480 0\n",
      "41650 0 480 0\n",
      "0 41650 0 480\n",
      "41650 0 480 0\n",
      "41650 0 480 0\n"
     ]
    },
    {
     "name": "stderr",
     "output_type": "stream",
     "text": [
      " 13%|█▎        | 1266/10000 [00:54<06:10, 23.56it/s]"
     ]
    },
    {
     "name": "stdout",
     "output_type": "stream",
     "text": [
      "13202 28448 76 404\n",
      "Number of treatment 13202\n",
      "Revenue -5260.3\n",
      "****************************************************************************************************\n",
      "41650 0 480 0\n",
      "41650 0 480 0\n",
      "41650 0 480 0\n",
      "41650 0 480 0\n",
      "41650 0 480 0\n"
     ]
    },
    {
     "name": "stderr",
     "output_type": "stream",
     "text": [
      " 13%|█▎        | 1272/10000 [00:54<05:59, 24.30it/s]"
     ]
    },
    {
     "name": "stdout",
     "output_type": "stream",
     "text": [
      "41650 0 480 0\n",
      "41650 0 480 0\n",
      "41650 0 480 0\n",
      "11437 30213 67 413\n",
      "Number of treatment 11437\n",
      "Revenue -5175.55\n",
      "****************************************************************************************************\n",
      "41650 0 480 0\n",
      "0 41650 0 480\n"
     ]
    },
    {
     "name": "stderr",
     "output_type": "stream",
     "text": [
      " 13%|█▎        | 1278/10000 [00:54<05:57, 24.41it/s]"
     ]
    },
    {
     "name": "stdout",
     "output_type": "stream",
     "text": [
      "41650 0 480 0\n",
      "41650 0 480 0\n",
      "41650 0 480 0\n",
      "0 41650 0 480\n",
      "41650 0 480 0\n"
     ]
    },
    {
     "name": "stderr",
     "output_type": "stream",
     "text": [
      "\r",
      " 13%|█▎        | 1281/10000 [00:54<06:00, 24.22it/s]"
     ]
    },
    {
     "name": "stdout",
     "output_type": "stream",
     "text": [
      "41650 0 480 0\n",
      "41650 0 480 0\n",
      "41650 0 480 0\n",
      "0 41650 0 480\n",
      "41650 0 480 0\n"
     ]
    },
    {
     "name": "stderr",
     "output_type": "stream",
     "text": [
      " 13%|█▎        | 1287/10000 [00:55<05:57, 24.40it/s]"
     ]
    },
    {
     "name": "stdout",
     "output_type": "stream",
     "text": [
      "41650 0 480 0\n",
      "41650 0 480 0\n",
      "41650 0 480 0\n",
      "41650 0 480 0\n",
      "41441 209 477 3\n",
      "Number of treatment 41441\n",
      "Revenue -1476.1499999999996\n",
      "****************************************************************************************************\n"
     ]
    },
    {
     "name": "stderr",
     "output_type": "stream",
     "text": [
      " 13%|█▎        | 1293/10000 [00:55<05:57, 24.39it/s]"
     ]
    },
    {
     "name": "stdout",
     "output_type": "stream",
     "text": [
      "41650 0 480 0\n",
      "41650 0 480 0\n",
      "41650 0 480 0\n",
      "13003 28647 75 405\n",
      "Number of treatment 13003\n",
      "Revenue -5250.45\n",
      "****************************************************************************************************\n",
      "41650 0 480 0\n"
     ]
    },
    {
     "name": "stderr",
     "output_type": "stream",
     "text": [
      "\r",
      " 13%|█▎        | 1296/10000 [00:55<06:05, 23.78it/s]"
     ]
    },
    {
     "name": "stdout",
     "output_type": "stream",
     "text": [
      "41650 0 480 0\n",
      "41650 0 480 0\n",
      "41650 0 480 0\n",
      "8398 33252 55 425\n",
      "Number of treatment 8398\n",
      "Revenue -4959.7\n",
      "****************************************************************************************************\n",
      "40378 1272 466 14\n",
      "Number of treatment 40378\n",
      "Revenue -1536.6999999999998\n",
      "****************************************************************************************************\n"
     ]
    },
    {
     "name": "stderr",
     "output_type": "stream",
     "text": [
      " 13%|█▎        | 1302/10000 [00:55<06:11, 23.44it/s]"
     ]
    },
    {
     "name": "stdout",
     "output_type": "stream",
     "text": [
      "41650 0 480 0\n",
      "0 41650 0 480\n",
      "41650 0 480 0\n",
      "41650 0 480 0\n",
      "41650 0 480 0\n"
     ]
    },
    {
     "name": "stderr",
     "output_type": "stream",
     "text": [
      " 13%|█▎        | 1308/10000 [00:55<06:27, 22.45it/s]"
     ]
    },
    {
     "name": "stdout",
     "output_type": "stream",
     "text": [
      "0 41650 0 480\n",
      "41650 0 480 0\n",
      "41650 0 480 0\n",
      "41650 0 480 0\n",
      "41650 0 480 0\n"
     ]
    },
    {
     "name": "stderr",
     "output_type": "stream",
     "text": [
      "\r",
      " 13%|█▎        | 1311/10000 [00:56<06:28, 22.39it/s]"
     ]
    },
    {
     "name": "stdout",
     "output_type": "stream",
     "text": [
      "41650 0 480 0\n",
      "41650 0 480 0\n",
      "41650 0 480 0\n",
      "41650 0 480 0\n",
      "2042 39608 17 463\n",
      "Number of treatment 2042\n",
      "Revenue -4766.3\n",
      "****************************************************************************************************\n"
     ]
    },
    {
     "name": "stderr",
     "output_type": "stream",
     "text": [
      " 13%|█▎        | 1317/10000 [00:56<06:22, 22.72it/s]"
     ]
    },
    {
     "name": "stdout",
     "output_type": "stream",
     "text": [
      "41650 0 480 0\n",
      "41650 0 480 0\n",
      "41650 0 480 0\n",
      "41650 0 480 0\n",
      "41650 0 480 0\n"
     ]
    },
    {
     "name": "stderr",
     "output_type": "stream",
     "text": [
      " 13%|█▎        | 1323/10000 [00:56<06:12, 23.31it/s]"
     ]
    },
    {
     "name": "stdout",
     "output_type": "stream",
     "text": [
      "41650 0 480 0\n",
      "41650 0 480 0\n",
      "41650 0 480 0\n",
      "41650 0 480 0\n",
      "41650 0 480 0\n"
     ]
    },
    {
     "name": "stderr",
     "output_type": "stream",
     "text": [
      "\r",
      " 13%|█▎        | 1326/10000 [00:56<06:11, 23.34it/s]"
     ]
    },
    {
     "name": "stdout",
     "output_type": "stream",
     "text": [
      "41650 0 480 0\n",
      "0 41650 0 480\n",
      "41650 0 480 0\n",
      "41650 0 480 0\n",
      "41650 0 480 0\n"
     ]
    },
    {
     "name": "stderr",
     "output_type": "stream",
     "text": [
      " 13%|█▎        | 1332/10000 [00:57<06:40, 21.67it/s]"
     ]
    },
    {
     "name": "stdout",
     "output_type": "stream",
     "text": [
      "41650 0 480 0\n",
      "0 41650 0 480\n",
      "41650 0 480 0\n",
      "41650 0 480 0\n"
     ]
    },
    {
     "name": "stderr",
     "output_type": "stream",
     "text": [
      "\r",
      " 13%|█▎        | 1335/10000 [00:57<06:33, 22.01it/s]"
     ]
    },
    {
     "name": "stdout",
     "output_type": "stream",
     "text": [
      "41650 0 480 0\n",
      "41650 0 480 0\n",
      "41650 0 480 0\n",
      "41650 0 480 0\n",
      "41650 0 480 0\n"
     ]
    },
    {
     "name": "stderr",
     "output_type": "stream",
     "text": [
      " 13%|█▎        | 1341/10000 [00:57<06:36, 21.82it/s]"
     ]
    },
    {
     "name": "stdout",
     "output_type": "stream",
     "text": [
      "40941 709 471 9\n",
      "41650 0 480 0\n",
      "41650 0 480 0\n",
      "41650 0 480 0\n",
      "41650 0 480 0\n"
     ]
    },
    {
     "name": "stderr",
     "output_type": "stream",
     "text": [
      " 13%|█▎        | 1347/10000 [00:57<06:22, 22.65it/s]"
     ]
    },
    {
     "name": "stdout",
     "output_type": "stream",
     "text": [
      "6916 34734 47 433\n",
      "Number of treatment 6916\n",
      "Revenue -4897.4\n",
      "****************************************************************************************************\n",
      "41650 0 480 0\n",
      "41650 0 480 0\n",
      "41650 0 480 0\n",
      "35875 5775 383 97\n",
      "Number of treatment 35875\n",
      "Revenue -2521.25\n",
      "****************************************************************************************************\n"
     ]
    },
    {
     "name": "stderr",
     "output_type": "stream",
     "text": [
      "\r",
      " 14%|█▎        | 1350/10000 [00:57<06:23, 22.55it/s]"
     ]
    },
    {
     "name": "stdout",
     "output_type": "stream",
     "text": [
      "41650 0 480 0\n",
      "41650 0 480 0\n",
      "41650 0 480 0\n",
      "41650 0 480 0\n",
      "0 41650 0 480\n"
     ]
    },
    {
     "name": "stderr",
     "output_type": "stream",
     "text": [
      " 14%|█▎        | 1356/10000 [00:58<06:24, 22.47it/s]"
     ]
    },
    {
     "name": "stdout",
     "output_type": "stream",
     "text": [
      "41650 0 480 0\n",
      "41650 0 480 0\n",
      "41650 0 480 0\n",
      "41650 0 480 0\n",
      "41650 0 480 0\n"
     ]
    },
    {
     "name": "stderr",
     "output_type": "stream",
     "text": [
      " 14%|█▎        | 1362/10000 [00:58<06:20, 22.71it/s]"
     ]
    },
    {
     "name": "stdout",
     "output_type": "stream",
     "text": [
      "41650 0 480 0\n",
      "0 41650 0 480\n",
      "41650 0 480 0\n",
      "41650 0 480 0\n",
      "41650 0 480 0\n"
     ]
    },
    {
     "name": "stderr",
     "output_type": "stream",
     "text": [
      " 14%|█▎        | 1368/10000 [00:58<05:57, 24.15it/s]"
     ]
    },
    {
     "name": "stdout",
     "output_type": "stream",
     "text": [
      "41650 0 480 0\n",
      "41650 0 480 0\n",
      "41650 0 480 0\n",
      "41650 0 480 0\n",
      "41650 0 480 0\n",
      "4493 37157 29 451\n",
      "Number of treatment 4493\n",
      "Revenue -4893.95\n",
      "****************************************************************************************************\n"
     ]
    },
    {
     "name": "stderr",
     "output_type": "stream",
     "text": [
      "\r",
      " 14%|█▎        | 1371/10000 [00:58<06:06, 23.56it/s]"
     ]
    },
    {
     "name": "stdout",
     "output_type": "stream",
     "text": [
      "27764 13886 257 223\n",
      "Number of treatment 27764\n",
      "Revenue -3824.5999999999995\n",
      "****************************************************************************************************\n",
      "41604 46 480 0\n",
      "Number of treatment 41604\n",
      "Revenue -1440.5999999999995\n",
      "****************************************************************************************************\n",
      "41650 0 480 0\n",
      "41650 0 480 0\n",
      "41650 0 480 0\n"
     ]
    },
    {
     "name": "stderr",
     "output_type": "stream",
     "text": [
      " 14%|█▍        | 1377/10000 [00:58<05:59, 24.00it/s]"
     ]
    },
    {
     "name": "stdout",
     "output_type": "stream",
     "text": [
      "41650 0 480 0\n",
      "0 41650 0 480\n",
      "39406 2244 447 33\n",
      "Number of treatment 39406\n",
      "Revenue -1770.8999999999996\n",
      "****************************************************************************************************\n",
      "1809 39841 16 464\n",
      "Number of treatment 1809\n",
      "Revenue -4751.35\n",
      "****************************************************************************************************\n",
      "41650 0 480 0\n"
     ]
    },
    {
     "name": "stderr",
     "output_type": "stream",
     "text": [
      " 14%|█▍        | 1383/10000 [00:59<06:09, 23.31it/s]"
     ]
    },
    {
     "name": "stdout",
     "output_type": "stream",
     "text": [
      "41650 0 480 0\n",
      "41649 1 480 0\n",
      "41650 0 480 0\n",
      "41650 0 480 0\n",
      "41650 0 480 0\n"
     ]
    },
    {
     "name": "stderr",
     "output_type": "stream",
     "text": [
      "\r",
      " 14%|█▍        | 1386/10000 [00:59<06:09, 23.33it/s]"
     ]
    },
    {
     "name": "stdout",
     "output_type": "stream",
     "text": [
      "41650 0 480 0\n",
      "0 41650 0 480\n",
      "37909 3741 415 65\n",
      "Number of treatment 37909\n",
      "Revenue -2186.3499999999995\n",
      "****************************************************************************************************\n",
      "41650 0 480 0\n",
      "41650 0 480 0\n"
     ]
    },
    {
     "name": "stderr",
     "output_type": "stream",
     "text": [
      " 14%|█▍        | 1392/10000 [00:59<06:28, 22.15it/s]"
     ]
    },
    {
     "name": "stdout",
     "output_type": "stream",
     "text": [
      "41650 0 480 0\n",
      "36871 4779 397 83\n",
      "Number of treatment 36871\n",
      "Revenue -2390.6499999999996\n",
      "****************************************************************************************************\n",
      "11383 30267 67 413\n",
      "Number of treatment 11383\n",
      "Revenue -5167.45\n",
      "****************************************************************************************************\n",
      "41650 0 480 0\n",
      "12222 29428 72 408\n",
      "Number of treatment 12222\n",
      "Revenue -5193.3\n",
      "****************************************************************************************************\n"
     ]
    },
    {
     "name": "stderr",
     "output_type": "stream",
     "text": [
      " 14%|█▍        | 1398/10000 [00:59<06:29, 22.07it/s]"
     ]
    },
    {
     "name": "stdout",
     "output_type": "stream",
     "text": [
      "41650 0 480 0\n",
      "18344 23306 145 335\n",
      "Number of treatment 18344\n",
      "Revenue -4651.6\n",
      "****************************************************************************************************\n",
      "41650 0 480 0\n",
      "41650 0 480 0\n",
      "41650 0 480 0\n"
     ]
    },
    {
     "name": "stderr",
     "output_type": "stream",
     "text": [
      "\r",
      " 14%|█▍        | 1401/10000 [01:00<06:34, 21.79it/s]"
     ]
    },
    {
     "name": "stdout",
     "output_type": "stream",
     "text": [
      "13269 28381 76 404\n",
      "Number of treatment 13269\n",
      "Revenue -5270.35\n",
      "****************************************************************************************************\n",
      "41650 0 480 0\n",
      "41650 0 480 0\n",
      "41650 0 480 0\n",
      "37664 3986 407 73\n",
      "Number of treatment 37664\n",
      "Revenue -2309.5999999999995\n",
      "****************************************************************************************************\n"
     ]
    },
    {
     "name": "stderr",
     "output_type": "stream",
     "text": [
      " 14%|█▍        | 1407/10000 [01:00<06:33, 21.82it/s]"
     ]
    },
    {
     "name": "stdout",
     "output_type": "stream",
     "text": [
      "41650 0 480 0\n",
      "41650 0 480 0\n",
      "0 41650 0 480\n",
      "12973 28677 75 405\n",
      "Number of treatment 12973\n",
      "Revenue -5245.95\n",
      "****************************************************************************************************\n",
      "41650 0 480 0\n"
     ]
    },
    {
     "name": "stderr",
     "output_type": "stream",
     "text": [
      " 14%|█▍        | 1413/10000 [01:00<06:28, 22.08it/s]"
     ]
    },
    {
     "name": "stdout",
     "output_type": "stream",
     "text": [
      "41650 0 480 0\n",
      "41650 0 480 0\n",
      "41650 0 480 0\n",
      "41650 0 480 0\n",
      "41650 0 480 0\n"
     ]
    },
    {
     "name": "stderr",
     "output_type": "stream",
     "text": [
      "\r",
      " 14%|█▍        | 1416/10000 [01:00<06:20, 22.56it/s]"
     ]
    },
    {
     "name": "stdout",
     "output_type": "stream",
     "text": [
      "41650 0 480 0\n",
      "41650 0 480 0\n",
      "41650 0 480 0\n",
      "41650 0 480 0\n",
      "0 41650 0 480\n"
     ]
    },
    {
     "name": "stderr",
     "output_type": "stream",
     "text": [
      " 14%|█▍        | 1422/10000 [01:00<06:08, 23.25it/s]"
     ]
    },
    {
     "name": "stdout",
     "output_type": "stream",
     "text": [
      "41650 0 480 0\n",
      "41650 0 480 0\n",
      "41650 0 480 0\n",
      "37989 3661 417 63\n",
      "Number of treatment 37989\n",
      "Revenue -2158.3499999999995\n",
      "****************************************************************************************************\n",
      "2580 39070 20 460\n",
      "Number of treatment 2580\n",
      "Revenue -4787.0\n",
      "****************************************************************************************************\n"
     ]
    },
    {
     "name": "stderr",
     "output_type": "stream",
     "text": [
      " 14%|█▍        | 1428/10000 [01:01<06:01, 23.71it/s]"
     ]
    },
    {
     "name": "stdout",
     "output_type": "stream",
     "text": [
      "41650 0 480 0\n",
      "41650 0 480 0\n",
      "41650 0 480 0\n",
      "41650 0 480 0\n",
      "790 40860 5 475\n",
      "Number of treatment 790\n",
      "Revenue -4818.5\n",
      "****************************************************************************************************\n"
     ]
    },
    {
     "name": "stderr",
     "output_type": "stream",
     "text": [
      "\r",
      " 14%|█▍        | 1431/10000 [01:01<06:01, 23.73it/s]"
     ]
    },
    {
     "name": "stdout",
     "output_type": "stream",
     "text": [
      "41650 0 480 0\n",
      "104 41546 1 479\n",
      "Number of treatment 104\n",
      "Revenue -4795.6\n",
      "****************************************************************************************************\n",
      "21 41629 0 480\n",
      "Number of treatment 21\n",
      "Revenue -4803.15\n",
      "****************************************************************************************************\n",
      "41650 0 480 0\n",
      "41650 0 480 0\n"
     ]
    },
    {
     "name": "stderr",
     "output_type": "stream",
     "text": [
      " 14%|█▍        | 1437/10000 [01:01<06:01, 23.71it/s]"
     ]
    },
    {
     "name": "stdout",
     "output_type": "stream",
     "text": [
      "41650 0 480 0\n",
      "41650 0 480 0\n",
      "41650 0 480 0\n",
      "41650 0 480 0\n",
      "41650 0 480 0\n"
     ]
    },
    {
     "name": "stderr",
     "output_type": "stream",
     "text": [
      " 14%|█▍        | 1443/10000 [01:01<06:07, 23.29it/s]"
     ]
    },
    {
     "name": "stdout",
     "output_type": "stream",
     "text": [
      "2364 39286 19 461\n",
      "Number of treatment 2364\n",
      "Revenue -4774.6\n",
      "****************************************************************************************************\n",
      "40029 1621 459 21\n",
      "Number of treatment 40029\n",
      "Revenue -1624.3499999999995\n",
      "****************************************************************************************************\n",
      "13137 28513 76 404\n",
      "Number of treatment 13137\n",
      "Revenue -5250.55\n",
      "****************************************************************************************************\n",
      "41650 0 480 0\n",
      "41650 0 480 0\n"
     ]
    },
    {
     "name": "stderr",
     "output_type": "stream",
     "text": [
      " 14%|█▍        | 1449/10000 [01:02<05:53, 24.19it/s]"
     ]
    },
    {
     "name": "stdout",
     "output_type": "stream",
     "text": [
      "41650 0 480 0\n",
      "41650 0 480 0\n",
      "41650 0 480 0\n",
      "41650 0 480 0\n",
      "41650 0 480 0\n",
      "41650 0 480 0\n"
     ]
    },
    {
     "name": "stderr",
     "output_type": "stream",
     "text": [
      "\r",
      " 15%|█▍        | 1452/10000 [01:02<06:04, 23.43it/s]"
     ]
    },
    {
     "name": "stdout",
     "output_type": "stream",
     "text": [
      "41650 0 480 0\n",
      "41650 0 480 0\n",
      "41650 0 480 0\n",
      "41650 0 480 0\n",
      "41650 0 480 0\n"
     ]
    },
    {
     "name": "stderr",
     "output_type": "stream",
     "text": [
      " 15%|█▍        | 1458/10000 [01:02<06:12, 22.96it/s]"
     ]
    },
    {
     "name": "stdout",
     "output_type": "stream",
     "text": [
      "13710 27940 79 401\n",
      "Number of treatment 13710\n",
      "Revenue -5276.5\n",
      "****************************************************************************************************\n",
      "41650 0 480 0\n",
      "41650 0 480 0\n",
      "41650 0 480 0\n",
      "41650 0 480 0\n"
     ]
    },
    {
     "name": "stderr",
     "output_type": "stream",
     "text": [
      " 15%|█▍        | 1464/10000 [01:02<06:13, 22.83it/s]"
     ]
    },
    {
     "name": "stdout",
     "output_type": "stream",
     "text": [
      "41649 1 480 0\n",
      "41650 0 480 0\n",
      "41650 0 480 0\n",
      "29911 11739 290 190\n",
      "Number of treatment 29911\n",
      "Revenue -3486.6499999999996\n",
      "****************************************************************************************************\n",
      "0 41650 0 480\n"
     ]
    },
    {
     "name": "stderr",
     "output_type": "stream",
     "text": [
      "\r",
      " 15%|█▍        | 1467/10000 [01:02<06:07, 23.21it/s]"
     ]
    },
    {
     "name": "stdout",
     "output_type": "stream",
     "text": [
      "41650 0 480 0\n",
      "41650 0 480 0\n",
      "41650 0 480 0\n",
      "41650 0 480 0\n",
      "36888 4762 397 83\n",
      "Number of treatment 36888\n",
      "Revenue -2393.2\n",
      "****************************************************************************************************\n"
     ]
    },
    {
     "name": "stderr",
     "output_type": "stream",
     "text": [
      " 15%|█▍        | 1473/10000 [01:03<06:10, 23.01it/s]"
     ]
    },
    {
     "name": "stdout",
     "output_type": "stream",
     "text": [
      "41650 0 480 0\n",
      "17445 24205 136 344\n",
      "Number of treatment 17445\n",
      "Revenue -4696.75\n",
      "****************************************************************************************************\n",
      "0 41650 0 480\n",
      "41650 0 480 0\n",
      "41650 0 480 0\n"
     ]
    },
    {
     "name": "stderr",
     "output_type": "stream",
     "text": [
      " 15%|█▍        | 1479/10000 [01:03<06:23, 22.25it/s]"
     ]
    },
    {
     "name": "stdout",
     "output_type": "stream",
     "text": [
      "0 41650 0 480\n",
      "41650 0 480 0\n",
      "41650 0 480 0\n",
      "41650 0 480 0\n",
      "30476 11174 296 184\n",
      "Number of treatment 30476\n",
      "Revenue -3451.3999999999996\n",
      "****************************************************************************************************\n"
     ]
    },
    {
     "name": "stderr",
     "output_type": "stream",
     "text": [
      "\r",
      " 15%|█▍        | 1482/10000 [01:03<06:18, 22.50it/s]"
     ]
    },
    {
     "name": "stdout",
     "output_type": "stream",
     "text": [
      "41650 0 480 0\n",
      "41649 1 480 0\n",
      "41650 0 480 0\n",
      "41650 0 480 0\n",
      "41650 0 480 0\n"
     ]
    },
    {
     "name": "stderr",
     "output_type": "stream",
     "text": [
      " 15%|█▍        | 1488/10000 [01:03<06:09, 23.03it/s]"
     ]
    },
    {
     "name": "stdout",
     "output_type": "stream",
     "text": [
      "41650 0 480 0\n",
      "41650 0 480 0\n",
      "41047 603 471 9\n",
      "Number of treatment 41047\n",
      "Revenue -1537.0500000000002\n",
      "****************************************************************************************************\n",
      "41650 0 480 0\n",
      "41650 0 480 0\n"
     ]
    },
    {
     "name": "stderr",
     "output_type": "stream",
     "text": [
      " 15%|█▍        | 1494/10000 [01:04<06:01, 23.52it/s]"
     ]
    },
    {
     "name": "stdout",
     "output_type": "stream",
     "text": [
      "41650 0 480 0\n",
      "41650 0 480 0\n",
      "41650 0 480 0\n",
      "41650 0 480 0\n",
      "41650 0 480 0\n",
      "41650 0 480 0\n"
     ]
    },
    {
     "name": "stderr",
     "output_type": "stream",
     "text": [
      " 15%|█▌        | 1500/10000 [01:04<06:04, 23.34it/s]"
     ]
    },
    {
     "name": "stdout",
     "output_type": "stream",
     "text": [
      "41650 0 480 0\n",
      "41650 0 480 0\n",
      "41650 0 480 0\n",
      "40148 1502 461 19\n",
      "Number of treatment 40148\n",
      "Revenue -1602.1999999999998\n",
      "****************************************************************************************************\n",
      "41650 0 480 0\n"
     ]
    },
    {
     "name": "stderr",
     "output_type": "stream",
     "text": [
      "\r",
      " 15%|█▌        | 1503/10000 [01:04<06:07, 23.14it/s]"
     ]
    },
    {
     "name": "stdout",
     "output_type": "stream",
     "text": [
      "41650 0 480 0\n",
      "10584 31066 61 419\n",
      "Number of treatment 10584\n",
      "Revenue -5167.6\n",
      "****************************************************************************************************\n",
      "41650 0 480 0\n",
      "0 41650 0 480\n",
      "41650 0 480 0\n"
     ]
    },
    {
     "name": "stderr",
     "output_type": "stream",
     "text": [
      " 15%|█▌        | 1509/10000 [01:04<06:02, 23.43it/s]"
     ]
    },
    {
     "name": "stdout",
     "output_type": "stream",
     "text": [
      "41650 0 480 0\n",
      "41650 0 480 0\n",
      "41650 0 480 0\n",
      "41650 0 480 0\n",
      "41650 0 480 0\n"
     ]
    },
    {
     "name": "stderr",
     "output_type": "stream",
     "text": [
      " 15%|█▌        | 1515/10000 [01:04<06:09, 22.96it/s]"
     ]
    },
    {
     "name": "stdout",
     "output_type": "stream",
     "text": [
      "41650 0 480 0\n",
      "39495 2155 448 32\n",
      "Number of treatment 39495\n",
      "Revenue -1764.25\n",
      "****************************************************************************************************\n",
      "41650 0 480 0\n",
      "0 41650 0 480\n",
      "41650 0 480 0\n"
     ]
    },
    {
     "name": "stderr",
     "output_type": "stream",
     "text": [
      "\r",
      " 15%|█▌        | 1518/10000 [01:05<06:20, 22.30it/s]"
     ]
    },
    {
     "name": "stdout",
     "output_type": "stream",
     "text": [
      "41647 3 480 0\n",
      "Number of treatment 41647\n",
      "Revenue -1447.0500000000002\n",
      "****************************************************************************************************\n",
      "41650 0 480 0\n",
      "41650 0 480 0\n",
      "41650 0 480 0\n",
      "0 41650 0 480\n"
     ]
    },
    {
     "name": "stderr",
     "output_type": "stream",
     "text": [
      " 15%|█▌        | 1524/10000 [01:05<06:14, 22.65it/s]"
     ]
    },
    {
     "name": "stdout",
     "output_type": "stream",
     "text": [
      "41650 0 480 0\n",
      "41650 0 480 0\n",
      "41650 0 480 0\n",
      "41650 0 480 0\n",
      "41650 0 480 0\n"
     ]
    },
    {
     "name": "stderr",
     "output_type": "stream",
     "text": [
      " 15%|█▌        | 1530/10000 [01:05<06:16, 22.51it/s]"
     ]
    },
    {
     "name": "stdout",
     "output_type": "stream",
     "text": [
      "41650 0 480 0\n",
      "41650 0 480 0\n",
      "0 41650 0 480\n",
      "0 41650 0 480\n",
      "41650 0 480 0\n"
     ]
    },
    {
     "name": "stderr",
     "output_type": "stream",
     "text": [
      "\r",
      " 15%|█▌        | 1533/10000 [01:05<06:13, 22.65it/s]"
     ]
    },
    {
     "name": "stdout",
     "output_type": "stream",
     "text": [
      "0 41650 0 480\n",
      "41650 0 480 0\n",
      "41650 0 480 0\n",
      "41650 0 480 0\n",
      "41650 0 480 0\n"
     ]
    },
    {
     "name": "stderr",
     "output_type": "stream",
     "text": [
      " 15%|█▌        | 1539/10000 [01:06<06:04, 23.21it/s]"
     ]
    },
    {
     "name": "stdout",
     "output_type": "stream",
     "text": [
      "41650 0 480 0\n",
      "41650 0 480 0\n",
      "41650 0 480 0\n",
      "41650 0 480 0\n",
      "0 41650 0 480\n"
     ]
    },
    {
     "name": "stderr",
     "output_type": "stream",
     "text": [
      " 15%|█▌        | 1545/10000 [01:06<06:03, 23.27it/s]"
     ]
    },
    {
     "name": "stdout",
     "output_type": "stream",
     "text": [
      "41650 0 480 0\n",
      "41650 0 480 0\n",
      "41650 0 480 0\n",
      "26735 14915 242 238\n",
      "Number of treatment 26735\n",
      "Revenue -3970.25\n",
      "****************************************************************************************************\n",
      "41650 0 480 0\n"
     ]
    },
    {
     "name": "stderr",
     "output_type": "stream",
     "text": [
      "\r",
      " 15%|█▌        | 1548/10000 [01:06<06:08, 22.92it/s]"
     ]
    },
    {
     "name": "stdout",
     "output_type": "stream",
     "text": [
      "41650 0 480 0\n",
      "40364 1286 466 14\n",
      "Number of treatment 40364\n",
      "Revenue -1534.5999999999995\n",
      "****************************************************************************************************\n",
      "41650 0 480 0\n",
      "41650 0 480 0\n",
      "1236 40414 12 468\n",
      "Number of treatment 1236\n",
      "Revenue -4745.4\n",
      "****************************************************************************************************\n"
     ]
    },
    {
     "name": "stderr",
     "output_type": "stream",
     "text": [
      " 16%|█▌        | 1554/10000 [01:06<06:04, 23.17it/s]"
     ]
    },
    {
     "name": "stdout",
     "output_type": "stream",
     "text": [
      "41650 0 480 0\n",
      "41650 0 480 0\n",
      "41650 0 480 0\n",
      "0 41650 0 480\n",
      "41650 0 480 0\n",
      "41650 0 480 0\n"
     ]
    },
    {
     "name": "stderr",
     "output_type": "stream",
     "text": [
      " 16%|█▌        | 1560/10000 [01:06<05:52, 23.93it/s]"
     ]
    },
    {
     "name": "stdout",
     "output_type": "stream",
     "text": [
      "841 40809 6 474\n",
      "Number of treatment 841\n",
      "Revenue -4806.15\n",
      "****************************************************************************************************\n",
      "36031 5619 386 94\n",
      "Number of treatment 36031\n",
      "Revenue -2484.6499999999996\n",
      "****************************************************************************************************\n",
      "41650 0 480 0\n",
      "41650 0 480 0\n",
      "41650 0 480 0\n"
     ]
    },
    {
     "name": "stderr",
     "output_type": "stream",
     "text": [
      " 16%|█▌        | 1566/10000 [01:07<05:58, 23.53it/s]"
     ]
    },
    {
     "name": "stdout",
     "output_type": "stream",
     "text": [
      "41650 0 480 0\n",
      "41650 0 480 0\n",
      "41650 0 480 0\n",
      "41650 0 480 0\n",
      "0 41650 0 480\n"
     ]
    },
    {
     "name": "stderr",
     "output_type": "stream",
     "text": [
      "\r",
      " 16%|█▌        | 1569/10000 [01:07<06:03, 23.22it/s]"
     ]
    },
    {
     "name": "stdout",
     "output_type": "stream",
     "text": [
      "0 41650 0 480\n",
      "41650 0 480 0\n",
      "37884 3766 415 65\n",
      "Number of treatment 37884\n",
      "Revenue -2182.5999999999995\n",
      "****************************************************************************************************\n",
      "41650 0 480 0\n",
      "13924 27726 83 397\n",
      "Number of treatment 13924\n",
      "Revenue -5228.6\n",
      "****************************************************************************************************\n"
     ]
    },
    {
     "name": "stderr",
     "output_type": "stream",
     "text": [
      " 16%|█▌        | 1575/10000 [01:07<06:11, 22.66it/s]"
     ]
    },
    {
     "name": "stdout",
     "output_type": "stream",
     "text": [
      "21087 20563 176 304\n",
      "Number of treatment 21087\n",
      "Revenue -4443.049999999999\n",
      "****************************************************************************************************\n",
      "41650 0 480 0\n",
      "41650 0 480 0\n",
      "41650 0 480 0\n",
      "41650 0 480 0\n"
     ]
    },
    {
     "name": "stderr",
     "output_type": "stream",
     "text": [
      " 16%|█▌        | 1581/10000 [01:07<06:06, 22.96it/s]"
     ]
    },
    {
     "name": "stdout",
     "output_type": "stream",
     "text": [
      "41650 0 480 0\n",
      "41650 0 480 0\n",
      "1415 40235 13 467\n",
      "Number of treatment 1415\n",
      "Revenue -4752.25\n",
      "****************************************************************************************************\n",
      "41650 0 480 0\n",
      "41650 0 480 0\n"
     ]
    },
    {
     "name": "stderr",
     "output_type": "stream",
     "text": [
      "\r",
      " 16%|█▌        | 1584/10000 [01:07<05:59, 23.39it/s]"
     ]
    },
    {
     "name": "stdout",
     "output_type": "stream",
     "text": [
      "41650 0 480 0\n",
      "41650 0 480 0\n",
      "41650 0 480 0\n",
      "41650 0 480 0\n",
      "41650 0 480 0\n"
     ]
    },
    {
     "name": "stderr",
     "output_type": "stream",
     "text": [
      " 16%|█▌        | 1590/10000 [01:08<06:09, 22.78it/s]"
     ]
    },
    {
     "name": "stdout",
     "output_type": "stream",
     "text": [
      "42 41608 0 480\n",
      "Number of treatment 42\n",
      "Revenue -4806.3\n",
      "****************************************************************************************************\n",
      "41650 0 480 0\n",
      "41650 0 480 0\n",
      "41650 0 480 0\n",
      "41650 0 480 0\n"
     ]
    },
    {
     "name": "stderr",
     "output_type": "stream",
     "text": [
      " 16%|█▌        | 1596/10000 [01:08<06:05, 22.98it/s]"
     ]
    },
    {
     "name": "stdout",
     "output_type": "stream",
     "text": [
      "41650 0 480 0\n",
      "41650 0 480 0\n",
      "41650 0 480 0\n",
      "41650 0 480 0\n",
      "40815 835 470 10\n",
      "Number of treatment 40815\n",
      "Revenue -1522.25\n",
      "****************************************************************************************************\n"
     ]
    },
    {
     "name": "stderr",
     "output_type": "stream",
     "text": [
      "\r",
      " 16%|█▌        | 1599/10000 [01:08<05:58, 23.41it/s]"
     ]
    },
    {
     "name": "stdout",
     "output_type": "stream",
     "text": [
      "38436 3214 425 55\n",
      "Number of treatment 38436\n",
      "Revenue -2065.3999999999996\n",
      "****************************************************************************************************\n",
      "41637 13 480 0\n",
      "Number of treatment 41637\n",
      "Revenue -1445.5500000000002\n",
      "****************************************************************************************************\n",
      "41650 0 480 0\n",
      "41650 0 480 0\n",
      "41650 0 480 0\n"
     ]
    },
    {
     "name": "stderr",
     "output_type": "stream",
     "text": [
      " 16%|█▌        | 1605/10000 [01:08<06:01, 23.24it/s]"
     ]
    },
    {
     "name": "stdout",
     "output_type": "stream",
     "text": [
      "38731 2919 431 49\n",
      "Number of treatment 38731\n",
      "Revenue -1989.6499999999996\n",
      "****************************************************************************************************\n",
      "41650 0 480 0\n",
      "41650 0 480 0\n",
      "9649 32001 57 423\n",
      "Number of treatment 9649\n",
      "Revenue -5107.35\n",
      "****************************************************************************************************\n",
      "41650 0 480 0\n"
     ]
    },
    {
     "name": "stderr",
     "output_type": "stream",
     "text": [
      " 16%|█▌        | 1611/10000 [01:09<06:07, 22.84it/s]"
     ]
    },
    {
     "name": "stdout",
     "output_type": "stream",
     "text": [
      "39464 2186 448 32\n",
      "Number of treatment 39464\n",
      "Revenue -1759.5999999999995\n",
      "****************************************************************************************************\n",
      "41650 0 480 0\n",
      "41650 0 480 0\n",
      "41650 0 480 0\n",
      "0 41650 0 480\n"
     ]
    },
    {
     "name": "stderr",
     "output_type": "stream",
     "text": [
      "\r",
      " 16%|█▌        | 1614/10000 [01:09<06:06, 22.86it/s]"
     ]
    },
    {
     "name": "stdout",
     "output_type": "stream",
     "text": [
      "41650 0 480 0\n",
      "41650 0 480 0\n",
      "41650 0 480 0\n",
      "41650 0 480 0\n",
      "41650 0 480 0\n"
     ]
    },
    {
     "name": "stderr",
     "output_type": "stream",
     "text": [
      " 16%|█▌        | 1620/10000 [01:09<06:19, 22.07it/s]"
     ]
    },
    {
     "name": "stdout",
     "output_type": "stream",
     "text": [
      "41650 0 480 0\n",
      "41650 0 480 0\n",
      "41650 0 480 0\n",
      "41650 0 480 0\n",
      "41650 0 480 0\n"
     ]
    },
    {
     "name": "stderr",
     "output_type": "stream",
     "text": [
      " 16%|█▋        | 1626/10000 [01:09<06:03, 23.06it/s]"
     ]
    },
    {
     "name": "stdout",
     "output_type": "stream",
     "text": [
      "41650 0 480 0\n",
      "41650 0 480 0\n",
      "41650 0 480 0\n",
      "41650 0 480 0\n",
      "41650 0 480 0\n"
     ]
    },
    {
     "name": "stderr",
     "output_type": "stream",
     "text": [
      "\r",
      " 16%|█▋        | 1629/10000 [01:09<06:16, 22.21it/s]"
     ]
    },
    {
     "name": "stdout",
     "output_type": "stream",
     "text": [
      "41650 0 480 0\n",
      "41650 0 480 0\n",
      "41650 0 480 0\n",
      "21578 20072 181 299\n",
      "Number of treatment 21578\n",
      "Revenue -4416.7\n",
      "****************************************************************************************************\n",
      "41650 0 480 0\n"
     ]
    },
    {
     "name": "stderr",
     "output_type": "stream",
     "text": [
      " 16%|█▋        | 1635/10000 [01:10<06:13, 22.37it/s]"
     ]
    },
    {
     "name": "stdout",
     "output_type": "stream",
     "text": [
      "41650 0 480 0\n",
      "41650 0 480 0\n",
      "41650 0 480 0\n",
      "40284 1366 465 15\n",
      "Number of treatment 40284\n",
      "Revenue -1542.5999999999995\n",
      "****************************************************************************************************\n",
      "41650 0 480 0\n"
     ]
    },
    {
     "name": "stderr",
     "output_type": "stream",
     "text": [
      " 16%|█▋        | 1641/10000 [01:10<06:00, 23.19it/s]"
     ]
    },
    {
     "name": "stdout",
     "output_type": "stream",
     "text": [
      "41650 0 480 0\n",
      "10525 31125 60 420\n",
      "Number of treatment 10525\n",
      "Revenue -5178.75\n",
      "****************************************************************************************************\n",
      "41650 0 480 0\n",
      "41650 0 480 0\n",
      "41650 0 480 0\n",
      "41650 0 480 0\n"
     ]
    },
    {
     "name": "stderr",
     "output_type": "stream",
     "text": [
      " 16%|█▋        | 1647/10000 [01:10<05:54, 23.55it/s]"
     ]
    },
    {
     "name": "stdout",
     "output_type": "stream",
     "text": [
      "41650 0 480 0\n",
      "0 41650 0 480\n",
      "0 41650 0 480\n",
      "41650 0 480 0\n",
      "41650 0 480 0\n"
     ]
    },
    {
     "name": "stderr",
     "output_type": "stream",
     "text": [
      " 17%|█▋        | 1653/10000 [01:10<05:48, 23.95it/s]"
     ]
    },
    {
     "name": "stdout",
     "output_type": "stream",
     "text": [
      "41650 0 480 0\n",
      "0 41650 0 480\n",
      "41650 0 480 0\n",
      "41650 0 480 0\n",
      "37828 3822 413 67\n",
      "Number of treatment 37828\n",
      "Revenue -2214.2\n",
      "****************************************************************************************************\n",
      "41650 0 480 0\n"
     ]
    },
    {
     "name": "stderr",
     "output_type": "stream",
     "text": [
      "\r",
      " 17%|█▋        | 1656/10000 [01:11<05:54, 23.57it/s]"
     ]
    },
    {
     "name": "stdout",
     "output_type": "stream",
     "text": [
      "41650 0 480 0\n",
      "41650 0 480 0\n",
      "38788 2862 431 49\n",
      "Number of treatment 38788\n",
      "Revenue -1998.1999999999998\n",
      "****************************************************************************************************\n",
      "41629 21 480 0\n",
      "41650 0 480 0\n"
     ]
    },
    {
     "name": "stderr",
     "output_type": "stream",
     "text": [
      " 17%|█▋        | 1662/10000 [01:11<05:50, 23.82it/s]"
     ]
    },
    {
     "name": "stdout",
     "output_type": "stream",
     "text": [
      "41650 0 480 0\n",
      "41650 0 480 0\n",
      "41650 0 480 0\n",
      "41650 0 480 0\n",
      "0 41650 0 480\n"
     ]
    },
    {
     "name": "stderr",
     "output_type": "stream",
     "text": [
      " 17%|█▋        | 1668/10000 [01:11<06:01, 23.05it/s]"
     ]
    },
    {
     "name": "stdout",
     "output_type": "stream",
     "text": [
      "41650 0 480 0\n",
      "13298 28352 76 404\n",
      "Number of treatment 13298\n",
      "Revenue -5274.7\n",
      "****************************************************************************************************\n",
      "41650 0 480 0\n",
      "41650 0 480 0\n",
      "41650 0 480 0\n"
     ]
    },
    {
     "name": "stderr",
     "output_type": "stream",
     "text": [
      "\r",
      " 17%|█▋        | 1671/10000 [01:11<06:06, 22.70it/s]"
     ]
    },
    {
     "name": "stdout",
     "output_type": "stream",
     "text": [
      "41650 0 480 0\n",
      "41650 0 480 0\n",
      "41650 0 480 0\n",
      "41650 0 480 0\n",
      "41650 0 480 0\n"
     ]
    },
    {
     "name": "stderr",
     "output_type": "stream",
     "text": [
      " 17%|█▋        | 1677/10000 [01:12<06:17, 22.05it/s]"
     ]
    },
    {
     "name": "stdout",
     "output_type": "stream",
     "text": [
      "41650 0 480 0\n",
      "41650 0 480 0\n",
      "41650 0 480 0\n",
      "41650 0 480 0\n",
      "41585 65 480 0\n"
     ]
    },
    {
     "name": "stderr",
     "output_type": "stream",
     "text": [
      " 17%|█▋        | 1683/10000 [01:12<05:59, 23.13it/s]"
     ]
    },
    {
     "name": "stdout",
     "output_type": "stream",
     "text": [
      "41650 0 480 0\n",
      "41650 0 480 0\n",
      "41650 0 480 0\n",
      "41650 0 480 0\n",
      "40055 1595 459 21\n",
      "Number of treatment 40055\n",
      "Revenue -1628.25\n",
      "****************************************************************************************************\n"
     ]
    },
    {
     "name": "stderr",
     "output_type": "stream",
     "text": [
      " 17%|█▋        | 1689/10000 [01:12<05:43, 24.19it/s]"
     ]
    },
    {
     "name": "stdout",
     "output_type": "stream",
     "text": [
      "41650 0 480 0\n",
      "41650 0 480 0\n",
      "41650 0 480 0\n",
      "41650 0 480 0\n",
      "41649 1 480 0\n",
      "41650 0 480 0\n"
     ]
    },
    {
     "name": "stderr",
     "output_type": "stream",
     "text": [
      "\r",
      " 17%|█▋        | 1692/10000 [01:12<05:45, 24.02it/s]"
     ]
    },
    {
     "name": "stdout",
     "output_type": "stream",
     "text": [
      "41650 0 480 0\n",
      "41650 0 480 0\n",
      "41650 0 480 0\n",
      "0 41650 0 480\n",
      "14573 27077 92 388\n",
      "Number of treatment 14573\n",
      "Revenue -5145.95\n",
      "****************************************************************************************************\n"
     ]
    },
    {
     "name": "stderr",
     "output_type": "stream",
     "text": [
      " 17%|█▋        | 1698/10000 [01:12<05:38, 24.53it/s]"
     ]
    },
    {
     "name": "stdout",
     "output_type": "stream",
     "text": [
      "41650 0 480 0\n",
      "41650 0 480 0\n",
      "41650 0 480 0\n",
      "41650 0 480 0\n",
      "41600 50 480 0\n",
      "Number of treatment 41600\n",
      "Revenue -1440.0\n",
      "****************************************************************************************************\n"
     ]
    },
    {
     "name": "stderr",
     "output_type": "stream",
     "text": [
      " 17%|█▋        | 1704/10000 [01:13<05:45, 24.03it/s]"
     ]
    },
    {
     "name": "stdout",
     "output_type": "stream",
     "text": [
      "41650 0 480 0\n",
      "41650 0 480 0\n",
      "41364 286 476 4\n",
      "Number of treatment 41364\n",
      "Revenue -1484.5999999999995\n",
      "****************************************************************************************************\n",
      "41650 0 480 0\n",
      "41650 0 480 0\n"
     ]
    },
    {
     "name": "stderr",
     "output_type": "stream",
     "text": [
      " 17%|█▋        | 1710/10000 [01:13<05:37, 24.55it/s]"
     ]
    },
    {
     "name": "stdout",
     "output_type": "stream",
     "text": [
      "41650 0 480 0\n",
      "37718 3932 410 70\n",
      "Number of treatment 37718\n",
      "Revenue -2257.7\n",
      "****************************************************************************************************\n",
      "41650 0 480 0\n",
      "41650 0 480 0\n",
      "41639 11 480 0\n",
      "41609 41 480 0\n",
      "Number of treatment 41609\n",
      "Revenue -1441.3499999999995\n",
      "****************************************************************************************************\n"
     ]
    },
    {
     "name": "stderr",
     "output_type": "stream",
     "text": [
      " 17%|█▋        | 1716/10000 [01:13<05:24, 25.56it/s]"
     ]
    },
    {
     "name": "stdout",
     "output_type": "stream",
     "text": [
      "41650 0 480 0\n",
      "41644 6 480 0\n",
      "41650 0 480 0\n",
      "0 41650 0 480\n",
      "0 41650 0 480\n",
      "41650 0 480 0\n"
     ]
    },
    {
     "name": "stderr",
     "output_type": "stream",
     "text": [
      " 17%|█▋        | 1722/10000 [01:13<05:28, 25.20it/s]"
     ]
    },
    {
     "name": "stdout",
     "output_type": "stream",
     "text": [
      "41650 0 480 0\n",
      "0 41650 0 480\n",
      "41650 0 480 0\n",
      "41650 0 480 0\n",
      "8636 33014 56 424\n",
      "Number of treatment 8636\n",
      "Revenue -4975.4\n",
      "****************************************************************************************************\n",
      "41650 0 480 0\n"
     ]
    },
    {
     "name": "stderr",
     "output_type": "stream",
     "text": [
      "\r",
      " 17%|█▋        | 1725/10000 [01:13<05:24, 25.49it/s]"
     ]
    },
    {
     "name": "stdout",
     "output_type": "stream",
     "text": [
      "41650 0 480 0\n",
      "41650 0 480 0\n",
      "40466 1184 466 14\n",
      "Number of treatment 40466\n",
      "Revenue -1549.8999999999996\n",
      "****************************************************************************************************\n",
      "41650 0 480 0\n",
      "41650 0 480 0\n"
     ]
    },
    {
     "name": "stderr",
     "output_type": "stream",
     "text": [
      " 17%|█▋        | 1731/10000 [01:14<05:42, 24.11it/s]"
     ]
    },
    {
     "name": "stdout",
     "output_type": "stream",
     "text": [
      "41113 537 472 8\n",
      "Number of treatment 41113\n",
      "Revenue -1526.9499999999998\n",
      "****************************************************************************************************\n",
      "41650 0 480 0\n",
      "41650 0 480 0\n",
      "12089 29561 69 411\n",
      "Number of treatment 12089\n",
      "Revenue -5233.35\n",
      "****************************************************************************************************\n",
      "41650 0 480 0\n"
     ]
    },
    {
     "name": "stderr",
     "output_type": "stream",
     "text": [
      " 17%|█▋        | 1737/10000 [01:14<05:51, 23.50it/s]"
     ]
    },
    {
     "name": "stdout",
     "output_type": "stream",
     "text": [
      "0 41650 0 480\n",
      "31877 9773 316 164\n",
      "Number of treatment 31877\n",
      "Revenue -3261.55\n",
      "****************************************************************************************************\n",
      "41650 0 480 0\n",
      "41650 0 480 0\n",
      "19726 21924 162 318\n",
      "Number of treatment 19726\n",
      "Revenue -4518.9\n",
      "****************************************************************************************************\n"
     ]
    },
    {
     "name": "stderr",
     "output_type": "stream",
     "text": [
      "\r",
      " 17%|█▋        | 1740/10000 [01:14<05:56, 23.17it/s]"
     ]
    },
    {
     "name": "stdout",
     "output_type": "stream",
     "text": [
      "41650 0 480 0\n",
      "40852 798 470 10\n",
      "Number of treatment 40852\n",
      "Revenue -1527.8000000000002\n",
      "****************************************************************************************************\n",
      "41650 0 480 0\n",
      "41650 0 480 0\n",
      "12694 28956 74 406\n",
      "Number of treatment 12694\n",
      "Revenue -5224.1\n",
      "****************************************************************************************************\n"
     ]
    },
    {
     "name": "stderr",
     "output_type": "stream",
     "text": [
      " 17%|█▋        | 1746/10000 [01:14<05:48, 23.71it/s]"
     ]
    },
    {
     "name": "stdout",
     "output_type": "stream",
     "text": [
      "41650 0 480 0\n",
      "41650 0 480 0\n",
      "41650 0 480 0\n",
      "39576 2074 449 31\n",
      "Number of treatment 39576\n",
      "Revenue -1756.3999999999996\n",
      "****************************************************************************************************\n",
      "41649 1 480 0\n"
     ]
    },
    {
     "name": "stderr",
     "output_type": "stream",
     "text": [
      " 18%|█▊        | 1752/10000 [01:15<05:49, 23.59it/s]"
     ]
    },
    {
     "name": "stdout",
     "output_type": "stream",
     "text": [
      "41650 0 480 0\n",
      "41650 0 480 0\n",
      "41650 0 480 0\n",
      "41650 0 480 0\n",
      "41650 0 480 0\n"
     ]
    },
    {
     "name": "stderr",
     "output_type": "stream",
     "text": [
      " 18%|█▊        | 1758/10000 [01:15<05:36, 24.52it/s]"
     ]
    },
    {
     "name": "stdout",
     "output_type": "stream",
     "text": [
      "0 41650 0 480\n",
      "41650 0 480 0\n",
      "41650 0 480 0\n",
      "41650 0 480 0\n",
      "41650 0 480 0\n",
      "41650 0 480 0\n"
     ]
    },
    {
     "name": "stderr",
     "output_type": "stream",
     "text": [
      "\r",
      " 18%|█▊        | 1761/10000 [01:15<05:52, 23.36it/s]"
     ]
    },
    {
     "name": "stdout",
     "output_type": "stream",
     "text": [
      "41642 8 480 0\n",
      "41650 0 480 0\n",
      "41650 0 480 0\n",
      "41650 0 480 0\n",
      "41650 0 480 0\n"
     ]
    },
    {
     "name": "stderr",
     "output_type": "stream",
     "text": [
      " 18%|█▊        | 1767/10000 [01:15<05:44, 23.89it/s]"
     ]
    },
    {
     "name": "stdout",
     "output_type": "stream",
     "text": [
      "0 41650 0 480\n",
      "41650 0 480 0\n",
      "41650 0 480 0\n",
      "41650 0 480 0\n",
      "41650 0 480 0\n"
     ]
    },
    {
     "name": "stderr",
     "output_type": "stream",
     "text": [
      " 18%|█▊        | 1773/10000 [01:16<05:31, 24.83it/s]"
     ]
    },
    {
     "name": "stdout",
     "output_type": "stream",
     "text": [
      "39575 2075 449 31\n",
      "Number of treatment 39575\n",
      "Revenue -1756.25\n",
      "****************************************************************************************************\n",
      "41650 0 480 0\n",
      "41650 0 480 0\n",
      "41650 0 480 0\n",
      "41650 0 480 0\n",
      "80 41570 0 480\n",
      "Number of treatment 80\n",
      "Revenue -4812.0\n",
      "****************************************************************************************************\n"
     ]
    },
    {
     "name": "stderr",
     "output_type": "stream",
     "text": [
      " 18%|█▊        | 1779/10000 [01:16<05:25, 25.24it/s]"
     ]
    },
    {
     "name": "stdout",
     "output_type": "stream",
     "text": [
      "41650 0 480 0\n",
      "41650 0 480 0\n",
      "41650 0 480 0\n",
      "41650 0 480 0\n",
      "41650 0 480 0\n",
      "41649 1 480 0\n"
     ]
    },
    {
     "name": "stderr",
     "output_type": "stream",
     "text": [
      " 18%|█▊        | 1785/10000 [01:16<05:41, 24.04it/s]"
     ]
    },
    {
     "name": "stdout",
     "output_type": "stream",
     "text": [
      "41650 0 480 0\n",
      "41650 0 480 0\n",
      "41650 0 480 0\n",
      "13307 28343 76 404\n",
      "Number of treatment 13307\n",
      "Revenue -5276.05\n",
      "****************************************************************************************************\n",
      "41650 0 480 0\n"
     ]
    },
    {
     "name": "stderr",
     "output_type": "stream",
     "text": [
      "\r",
      " 18%|█▊        | 1788/10000 [01:16<05:36, 24.40it/s]"
     ]
    },
    {
     "name": "stdout",
     "output_type": "stream",
     "text": [
      "41650 0 480 0\n",
      "41650 0 480 0\n",
      "41650 0 480 0\n",
      "41650 0 480 0\n",
      "13148 28502 76 404\n",
      "Number of treatment 13148\n",
      "Revenue -5252.2\n",
      "****************************************************************************************************\n"
     ]
    },
    {
     "name": "stderr",
     "output_type": "stream",
     "text": [
      " 18%|█▊        | 1794/10000 [01:16<05:36, 24.37it/s]"
     ]
    },
    {
     "name": "stdout",
     "output_type": "stream",
     "text": [
      "41650 0 480 0\n",
      "41650 0 480 0\n",
      "41650 0 480 0\n",
      "41650 0 480 0\n",
      "41650 0 480 0\n"
     ]
    },
    {
     "name": "stderr",
     "output_type": "stream",
     "text": [
      " 18%|█▊        | 1800/10000 [01:17<05:46, 23.65it/s]"
     ]
    },
    {
     "name": "stdout",
     "output_type": "stream",
     "text": [
      "18985 22665 153 327\n",
      "Number of treatment 18985\n",
      "Revenue -4587.75\n",
      "****************************************************************************************************\n",
      "41650 0 480 0\n",
      "41650 0 480 0\n",
      "41650 0 480 0\n",
      "41650 0 480 0\n"
     ]
    },
    {
     "name": "stderr",
     "output_type": "stream",
     "text": [
      " 18%|█▊        | 1806/10000 [01:17<05:35, 24.45it/s]"
     ]
    },
    {
     "name": "stdout",
     "output_type": "stream",
     "text": [
      "39575 2075 449 31\n",
      "41650 0 480 0\n",
      "41650 0 480 0\n",
      "41650 0 480 0\n",
      "41650 0 480 0\n",
      "9929 31721 58 422\n",
      "Number of treatment 9929\n",
      "Revenue -5129.35\n",
      "****************************************************************************************************\n"
     ]
    },
    {
     "name": "stderr",
     "output_type": "stream",
     "text": [
      " 18%|█▊        | 1812/10000 [01:17<05:26, 25.10it/s]"
     ]
    },
    {
     "name": "stdout",
     "output_type": "stream",
     "text": [
      "41650 0 480 0\n",
      "41650 0 480 0\n",
      "41650 0 480 0\n",
      "2670 38980 20 460\n",
      "Number of treatment 2670\n",
      "Revenue -4800.5\n",
      "****************************************************************************************************\n",
      "41650 0 480 0\n",
      "41650 0 480 0\n"
     ]
    },
    {
     "name": "stderr",
     "output_type": "stream",
     "text": [
      " 18%|█▊        | 1818/10000 [01:17<05:30, 24.72it/s]"
     ]
    },
    {
     "name": "stdout",
     "output_type": "stream",
     "text": [
      "41650 0 480 0\n",
      "41650 0 480 0\n",
      "41650 0 480 0\n",
      "41650 0 480 0\n",
      "41650 0 480 0\n",
      "41650 0 480 0\n"
     ]
    },
    {
     "name": "stderr",
     "output_type": "stream",
     "text": [
      "\r",
      " 18%|█▊        | 1821/10000 [01:17<05:36, 24.28it/s]"
     ]
    },
    {
     "name": "stdout",
     "output_type": "stream",
     "text": [
      "41650 0 480 0\n",
      "41337 313 476 4\n",
      "Number of treatment 41337\n",
      "Revenue -1480.5500000000002\n",
      "****************************************************************************************************\n",
      "0 41650 0 480\n",
      "41650 0 480 0\n",
      "41650 0 480 0\n"
     ]
    },
    {
     "name": "stderr",
     "output_type": "stream",
     "text": [
      " 18%|█▊        | 1827/10000 [01:18<05:35, 24.35it/s]"
     ]
    },
    {
     "name": "stdout",
     "output_type": "stream",
     "text": [
      "12668 28982 74 406\n",
      "Number of treatment 12668\n",
      "Revenue -5220.2\n",
      "****************************************************************************************************\n",
      "41650 0 480 0\n",
      "41650 0 480 0\n",
      "41650 0 480 0\n",
      "41650 0 480 0\n"
     ]
    },
    {
     "name": "stderr",
     "output_type": "stream",
     "text": [
      " 18%|█▊        | 1833/10000 [01:18<05:37, 24.18it/s]"
     ]
    },
    {
     "name": "stdout",
     "output_type": "stream",
     "text": [
      "41650 0 480 0\n",
      "34386 7264 362 118\n",
      "Number of treatment 34386\n",
      "Revenue -2717.8999999999996\n",
      "****************************************************************************************************\n",
      "41650 0 480 0\n",
      "41650 0 480 0\n",
      "41650 0 480 0\n"
     ]
    },
    {
     "name": "stderr",
     "output_type": "stream",
     "text": [
      "\r",
      " 18%|█▊        | 1836/10000 [01:18<05:44, 23.70it/s]"
     ]
    },
    {
     "name": "stdout",
     "output_type": "stream",
     "text": [
      "13866 27784 81 399\n",
      "Number of treatment 13866\n",
      "Revenue -5259.9\n",
      "****************************************************************************************************\n",
      "41650 0 480 0\n",
      "41650 0 480 0\n",
      "18 41632 0 480\n",
      "Number of treatment 18\n",
      "Revenue -4802.7\n",
      "****************************************************************************************************\n",
      "39315 2335 444 36\n",
      "Number of treatment 39315\n",
      "Revenue -1817.25\n",
      "****************************************************************************************************\n"
     ]
    },
    {
     "name": "stderr",
     "output_type": "stream",
     "text": [
      " 18%|█▊        | 1842/10000 [01:18<05:47, 23.50it/s]"
     ]
    },
    {
     "name": "stdout",
     "output_type": "stream",
     "text": [
      "41650 0 480 0\n",
      "41650 0 480 0\n",
      "41650 0 480 0\n",
      "16599 25051 118 362\n",
      "Number of treatment 16599\n",
      "Revenue -4929.85\n",
      "****************************************************************************************************\n",
      "6722 34928 46 434\n",
      "Number of treatment 6722\n",
      "Revenue -4888.3\n",
      "****************************************************************************************************\n"
     ]
    },
    {
     "name": "stderr",
     "output_type": "stream",
     "text": [
      " 18%|█▊        | 1848/10000 [01:19<05:46, 23.50it/s]"
     ]
    },
    {
     "name": "stdout",
     "output_type": "stream",
     "text": [
      "16610 25040 118 362\n",
      "Number of treatment 16610\n",
      "Revenue -4931.5\n",
      "****************************************************************************************************\n",
      "41650 0 480 0\n",
      "41650 0 480 0\n",
      "31670 9980 315 165\n",
      "Number of treatment 31670\n",
      "Revenue -3250.5\n",
      "****************************************************************************************************\n",
      "41650 0 480 0\n"
     ]
    },
    {
     "name": "stderr",
     "output_type": "stream",
     "text": [
      "\r",
      " 19%|█▊        | 1851/10000 [01:19<05:47, 23.46it/s]"
     ]
    },
    {
     "name": "stdout",
     "output_type": "stream",
     "text": [
      "30583 11067 299 181\n",
      "Number of treatment 30583\n",
      "Revenue -3407.45\n",
      "****************************************************************************************************\n",
      "41650 0 480 0\n",
      "6945 34705 47 433\n",
      "Number of treatment 6945\n",
      "Revenue -4901.75\n",
      "****************************************************************************************************\n",
      "41650 0 480 0\n",
      "41650 0 480 0\n"
     ]
    },
    {
     "name": "stderr",
     "output_type": "stream",
     "text": [
      " 19%|█▊        | 1857/10000 [01:19<05:39, 24.01it/s]"
     ]
    },
    {
     "name": "stdout",
     "output_type": "stream",
     "text": [
      "41650 0 480 0\n",
      "41650 0 480 0\n",
      "41650 0 480 0\n",
      "20058 21592 163 317\n",
      "Number of treatment 20058\n",
      "Revenue -4548.7\n",
      "****************************************************************************************************\n",
      "41650 0 480 0\n",
      "41650 0 480 0\n"
     ]
    },
    {
     "name": "stderr",
     "output_type": "stream",
     "text": [
      " 19%|█▊        | 1863/10000 [01:19<05:32, 24.44it/s]"
     ]
    },
    {
     "name": "stdout",
     "output_type": "stream",
     "text": [
      "41650 0 480 0\n",
      "41650 0 480 0\n",
      "41650 0 480 0\n",
      "41650 0 480 0\n",
      "41650 0 480 0\n"
     ]
    },
    {
     "name": "stderr",
     "output_type": "stream",
     "text": [
      " 19%|█▊        | 1869/10000 [01:19<05:33, 24.40it/s]"
     ]
    },
    {
     "name": "stdout",
     "output_type": "stream",
     "text": [
      "41650 0 480 0\n",
      "41650 0 480 0\n",
      "13096 28554 76 404\n",
      "Number of treatment 13096\n",
      "Revenue -5244.4\n",
      "****************************************************************************************************\n",
      "41650 0 480 0\n",
      "41650 0 480 0\n"
     ]
    },
    {
     "name": "stderr",
     "output_type": "stream",
     "text": [
      "\r",
      " 19%|█▊        | 1872/10000 [01:20<05:29, 24.67it/s]"
     ]
    },
    {
     "name": "stdout",
     "output_type": "stream",
     "text": [
      "41650 0 480 0\n",
      "41650 0 480 0\n",
      "41650 0 480 0\n",
      "41650 0 480 0\n",
      "41650 0 480 0\n"
     ]
    },
    {
     "name": "stderr",
     "output_type": "stream",
     "text": [
      " 19%|█▉        | 1878/10000 [01:20<05:34, 24.31it/s]"
     ]
    },
    {
     "name": "stdout",
     "output_type": "stream",
     "text": [
      "41650 0 480 0\n",
      "0 41650 0 480\n",
      "41650 0 480 0\n",
      "41650 0 480 0\n",
      "41650 0 480 0\n",
      "41650 0 480 0\n"
     ]
    },
    {
     "name": "stderr",
     "output_type": "stream",
     "text": [
      " 19%|█▉        | 1884/10000 [01:20<05:34, 24.27it/s]"
     ]
    },
    {
     "name": "stdout",
     "output_type": "stream",
     "text": [
      "41650 0 480 0\n",
      "41650 0 480 0\n",
      "0 41650 0 480\n",
      "41650 0 480 0\n",
      "41650 0 480 0\n"
     ]
    },
    {
     "name": "stderr",
     "output_type": "stream",
     "text": [
      " 19%|█▉        | 1890/10000 [01:20<05:35, 24.15it/s]"
     ]
    },
    {
     "name": "stdout",
     "output_type": "stream",
     "text": [
      "41650 0 480 0\n",
      "41650 0 480 0\n",
      "41650 0 480 0\n",
      "41650 0 480 0\n",
      "13172 28478 76 404\n",
      "Number of treatment 13172\n",
      "Revenue -5255.8\n",
      "****************************************************************************************************\n"
     ]
    },
    {
     "name": "stderr",
     "output_type": "stream",
     "text": [
      " 19%|█▉        | 1896/10000 [01:21<05:31, 24.42it/s]"
     ]
    },
    {
     "name": "stdout",
     "output_type": "stream",
     "text": [
      "41650 0 480 0\n",
      "41650 0 480 0\n",
      "41650 0 480 0\n",
      "41650 0 480 0\n",
      "41650 0 480 0\n",
      "41650 0 480 0\n"
     ]
    },
    {
     "name": "stderr",
     "output_type": "stream",
     "text": [
      "\r",
      " 19%|█▉        | 1899/10000 [01:21<05:37, 24.02it/s]"
     ]
    },
    {
     "name": "stdout",
     "output_type": "stream",
     "text": [
      "41650 0 480 0\n",
      "41650 0 480 0\n",
      "41650 0 480 0\n",
      "41650 0 480 0\n",
      "38978 2672 437 43\n",
      "Number of treatment 38978\n",
      "Revenue -1906.6999999999998\n",
      "****************************************************************************************************\n"
     ]
    },
    {
     "name": "stderr",
     "output_type": "stream",
     "text": [
      " 19%|█▉        | 1905/10000 [01:21<05:32, 24.34it/s]"
     ]
    },
    {
     "name": "stdout",
     "output_type": "stream",
     "text": [
      "41650 0 480 0\n",
      "41650 0 480 0\n",
      "41650 0 480 0\n",
      "41650 0 480 0\n",
      "18709 22941 150 330\n",
      "Number of treatment 18709\n",
      "Revenue -4606.35\n",
      "****************************************************************************************************\n"
     ]
    },
    {
     "name": "stderr",
     "output_type": "stream",
     "text": [
      " 19%|█▉        | 1911/10000 [01:21<05:25, 24.84it/s]"
     ]
    },
    {
     "name": "stdout",
     "output_type": "stream",
     "text": [
      "41650 0 480 0\n",
      "2502 39148 19 461\n",
      "Number of treatment 2502\n",
      "Revenue -4795.3\n",
      "****************************************************************************************************\n",
      "41650 0 480 0\n",
      "41650 0 480 0\n",
      "41650 0 480 0\n",
      "41650 0 480 0\n"
     ]
    },
    {
     "name": "stderr",
     "output_type": "stream",
     "text": [
      " 19%|█▉        | 1917/10000 [01:21<05:26, 24.72it/s]"
     ]
    },
    {
     "name": "stdout",
     "output_type": "stream",
     "text": [
      "41650 0 480 0\n",
      "41650 0 480 0\n",
      "41650 0 480 0\n",
      "41650 0 480 0\n",
      "0 41650 0 480\n"
     ]
    },
    {
     "name": "stderr",
     "output_type": "stream",
     "text": [
      "\r",
      " 19%|█▉        | 1920/10000 [01:22<05:31, 24.36it/s]"
     ]
    },
    {
     "name": "stdout",
     "output_type": "stream",
     "text": [
      "41650 0 480 0\n",
      "41650 0 480 0\n",
      "41650 0 480 0\n",
      "0 41650 0 480\n",
      "41650 0 480 0\n"
     ]
    },
    {
     "name": "stderr",
     "output_type": "stream",
     "text": [
      " 19%|█▉        | 1926/10000 [01:22<05:41, 23.61it/s]"
     ]
    },
    {
     "name": "stdout",
     "output_type": "stream",
     "text": [
      "41650 0 480 0\n",
      "0 41650 0 480\n",
      "41650 0 480 0\n",
      "41650 0 480 0\n",
      "41650 0 480 0\n"
     ]
    },
    {
     "name": "stderr",
     "output_type": "stream",
     "text": [
      " 19%|█▉        | 1932/10000 [01:22<05:34, 24.10it/s]"
     ]
    },
    {
     "name": "stdout",
     "output_type": "stream",
     "text": [
      "41650 0 480 0\n",
      "12125 29525 70 410\n",
      "Number of treatment 12125\n",
      "Revenue -5218.75\n",
      "****************************************************************************************************\n",
      "41650 0 480 0\n",
      "41650 0 480 0\n",
      "41650 0 480 0\n"
     ]
    },
    {
     "name": "stderr",
     "output_type": "stream",
     "text": [
      "\r",
      " 19%|█▉        | 1935/10000 [01:22<05:40, 23.70it/s]"
     ]
    },
    {
     "name": "stdout",
     "output_type": "stream",
     "text": [
      "41650 0 480 0\n",
      "6877 34773 47 433\n",
      "Number of treatment 6877\n",
      "Revenue -4891.55\n",
      "****************************************************************************************************\n",
      "41650 0 480 0\n",
      "41565 85 480 0\n",
      "Number of treatment 41565\n",
      "Revenue -1434.75\n",
      "****************************************************************************************************\n",
      "41650 0 480 0\n"
     ]
    },
    {
     "name": "stderr",
     "output_type": "stream",
     "text": [
      " 19%|█▉        | 1941/10000 [01:22<05:43, 23.46it/s]"
     ]
    },
    {
     "name": "stdout",
     "output_type": "stream",
     "text": [
      "41650 0 480 0\n",
      "41650 0 480 0\n",
      "41650 0 480 0\n",
      "41650 0 480 0\n",
      "41650 0 480 0\n"
     ]
    },
    {
     "name": "stderr",
     "output_type": "stream",
     "text": [
      " 19%|█▉        | 1947/10000 [01:23<05:35, 23.99it/s]"
     ]
    },
    {
     "name": "stdout",
     "output_type": "stream",
     "text": [
      "41650 0 480 0\n",
      "41650 0 480 0\n",
      "41650 0 480 0\n",
      "41650 0 480 0\n",
      "41650 0 480 0\n"
     ]
    },
    {
     "name": "stderr",
     "output_type": "stream",
     "text": [
      "\r",
      " 20%|█▉        | 1950/10000 [01:23<05:42, 23.51it/s]"
     ]
    },
    {
     "name": "stdout",
     "output_type": "stream",
     "text": [
      "41650 0 480 0\n",
      "41650 0 480 0\n",
      "41650 0 480 0\n",
      "41650 0 480 0\n",
      "38789 2861 431 49\n",
      "Number of treatment 38789\n",
      "Revenue -1998.3499999999995\n",
      "****************************************************************************************************\n"
     ]
    },
    {
     "name": "stderr",
     "output_type": "stream",
     "text": [
      " 20%|█▉        | 1956/10000 [01:23<05:29, 24.39it/s]"
     ]
    },
    {
     "name": "stdout",
     "output_type": "stream",
     "text": [
      "41650 0 480 0\n",
      "41650 0 480 0\n",
      "41650 0 480 0\n",
      "41650 0 480 0\n",
      "41650 0 480 0\n",
      "41650 0 480 0\n"
     ]
    },
    {
     "name": "stderr",
     "output_type": "stream",
     "text": [
      " 20%|█▉        | 1962/10000 [01:23<05:31, 24.22it/s]"
     ]
    },
    {
     "name": "stdout",
     "output_type": "stream",
     "text": [
      "41650 0 480 0\n",
      "41650 0 480 0\n",
      "41650 0 480 0\n",
      "34952 6698 373 107\n",
      "Number of treatment 34952\n",
      "Revenue -2582.8\n",
      "****************************************************************************************************\n",
      "41650 0 480 0\n"
     ]
    },
    {
     "name": "stderr",
     "output_type": "stream",
     "text": [
      " 20%|█▉        | 1968/10000 [01:24<05:29, 24.40it/s]"
     ]
    },
    {
     "name": "stdout",
     "output_type": "stream",
     "text": [
      "41650 0 480 0\n",
      "41650 0 480 0\n",
      "37139 4511 401 79\n",
      "Number of treatment 37139\n",
      "Revenue -2350.8499999999995\n",
      "****************************************************************************************************\n",
      "41650 0 480 0\n",
      "41650 0 480 0\n"
     ]
    },
    {
     "name": "stderr",
     "output_type": "stream",
     "text": [
      "\r",
      " 20%|█▉        | 1971/10000 [01:24<05:28, 24.46it/s]"
     ]
    },
    {
     "name": "stdout",
     "output_type": "stream",
     "text": [
      "41650 0 480 0\n",
      "41650 0 480 0\n",
      "41650 0 480 0\n",
      "41650 0 480 0\n",
      "12477 29173 72 408\n",
      "Number of treatment 12477\n",
      "Revenue -5231.55\n",
      "****************************************************************************************************\n"
     ]
    },
    {
     "name": "stderr",
     "output_type": "stream",
     "text": [
      " 20%|█▉        | 1977/10000 [01:24<05:26, 24.55it/s]"
     ]
    },
    {
     "name": "stdout",
     "output_type": "stream",
     "text": [
      "41650 0 480 0\n",
      "21169 20481 176 304\n",
      "Number of treatment 21169\n",
      "Revenue -4455.35\n",
      "****************************************************************************************************\n",
      "41650 0 480 0\n",
      "41650 0 480 0\n",
      "41650 0 480 0\n"
     ]
    },
    {
     "name": "stderr",
     "output_type": "stream",
     "text": [
      " 20%|█▉        | 1983/10000 [01:24<05:37, 23.74it/s]"
     ]
    },
    {
     "name": "stdout",
     "output_type": "stream",
     "text": [
      "41650 0 480 0\n",
      "3467 38183 24 456\n",
      "Number of treatment 3467\n",
      "Revenue -4840.05\n",
      "****************************************************************************************************\n",
      "41650 0 480 0\n",
      "41642 8 480 0\n",
      "41650 0 480 0\n"
     ]
    },
    {
     "name": "stderr",
     "output_type": "stream",
     "text": [
      "\r",
      " 20%|█▉        | 1986/10000 [01:24<05:43, 23.33it/s]"
     ]
    },
    {
     "name": "stdout",
     "output_type": "stream",
     "text": [
      "34488 7162 364 116\n",
      "Number of treatment 34488\n",
      "Revenue -2693.2\n",
      "****************************************************************************************************\n",
      "41650 0 480 0\n",
      "41650 0 480 0\n",
      "41650 0 480 0\n",
      "9834 31816 57 423\n",
      "Number of treatment 9834\n",
      "Revenue -5135.1\n",
      "****************************************************************************************************\n"
     ]
    },
    {
     "name": "stderr",
     "output_type": "stream",
     "text": [
      " 20%|█▉        | 1992/10000 [01:25<05:51, 22.77it/s]"
     ]
    },
    {
     "name": "stdout",
     "output_type": "stream",
     "text": [
      "41081 569 472 8\n",
      "Number of treatment 41081\n",
      "Revenue -1522.1499999999996\n",
      "****************************************************************************************************\n",
      "41650 0 480 0\n",
      "41650 0 480 0\n",
      "41650 0 480 0\n",
      "40446 1204 466 14\n",
      "Number of treatment 40446\n",
      "Revenue -1546.8999999999996\n",
      "****************************************************************************************************\n"
     ]
    },
    {
     "name": "stderr",
     "output_type": "stream",
     "text": [
      " 20%|█▉        | 1998/10000 [01:25<05:46, 23.10it/s]"
     ]
    },
    {
     "name": "stdout",
     "output_type": "stream",
     "text": [
      "41650 0 480 0\n",
      "41650 0 480 0\n",
      "41650 0 480 0\n",
      "41650 0 480 0\n",
      "41650 0 480 0\n"
     ]
    },
    {
     "name": "stderr",
     "output_type": "stream",
     "text": [
      " 20%|██        | 2004/10000 [01:25<05:36, 23.79it/s]"
     ]
    },
    {
     "name": "stdout",
     "output_type": "stream",
     "text": [
      "9124 32526 56 424\n",
      "Number of treatment 9124\n",
      "Revenue -5048.6\n",
      "****************************************************************************************************\n",
      "0 41650 0 480\n",
      "41650 0 480 0\n",
      "40077 1573 459 21\n",
      "Number of treatment 40077\n",
      "Revenue -1631.5500000000002\n",
      "****************************************************************************************************\n",
      "41650 0 480 0\n",
      "0 41650 0 480\n"
     ]
    },
    {
     "name": "stderr",
     "output_type": "stream",
     "text": [
      "\r",
      " 20%|██        | 2007/10000 [01:25<05:37, 23.65it/s]"
     ]
    },
    {
     "name": "stdout",
     "output_type": "stream",
     "text": [
      "41650 0 480 0\n",
      "41650 0 480 0\n",
      "0 41650 0 480\n",
      "41650 0 480 0\n",
      "41650 0 480 0\n"
     ]
    },
    {
     "name": "stderr",
     "output_type": "stream",
     "text": [
      " 20%|██        | 2013/10000 [01:25<05:37, 23.70it/s]"
     ]
    },
    {
     "name": "stdout",
     "output_type": "stream",
     "text": [
      "41650 0 480 0\n",
      "8823 32827 56 424\n",
      "Number of treatment 8823\n",
      "Revenue -5003.45\n",
      "****************************************************************************************************\n",
      "41650 0 480 0\n",
      "41650 0 480 0\n",
      "41650 0 480 0\n"
     ]
    },
    {
     "name": "stderr",
     "output_type": "stream",
     "text": [
      " 20%|██        | 2019/10000 [01:26<05:35, 23.80it/s]"
     ]
    },
    {
     "name": "stdout",
     "output_type": "stream",
     "text": [
      "41650 0 480 0\n",
      "41650 0 480 0\n",
      "41650 0 480 0\n",
      "0 41650 0 480\n",
      "41650 0 480 0\n"
     ]
    },
    {
     "name": "stderr",
     "output_type": "stream",
     "text": [
      "\r",
      " 20%|██        | 2022/10000 [01:26<05:38, 23.60it/s]"
     ]
    },
    {
     "name": "stdout",
     "output_type": "stream",
     "text": [
      "41650 0 480 0\n",
      "35072 6578 374 106\n",
      "Number of treatment 35072\n",
      "Revenue -2580.8\n",
      "****************************************************************************************************\n",
      "41650 0 480 0\n",
      "41650 0 480 0\n",
      "41650 0 480 0\n"
     ]
    },
    {
     "name": "stderr",
     "output_type": "stream",
     "text": [
      " 20%|██        | 2028/10000 [01:26<05:41, 23.37it/s]"
     ]
    },
    {
     "name": "stdout",
     "output_type": "stream",
     "text": [
      "41650 0 480 0\n",
      "41650 0 480 0\n",
      "41650 0 480 0\n",
      "41650 0 480 0\n",
      "41350 300 476 4\n",
      "Number of treatment 41350\n",
      "Revenue -1482.5\n",
      "****************************************************************************************************\n"
     ]
    },
    {
     "name": "stderr",
     "output_type": "stream",
     "text": [
      " 20%|██        | 2034/10000 [01:26<05:31, 24.05it/s]"
     ]
    },
    {
     "name": "stdout",
     "output_type": "stream",
     "text": [
      "41650 0 480 0\n",
      "41650 0 480 0\n",
      "41650 0 480 0\n",
      "41650 0 480 0\n",
      "41650 0 480 0\n",
      "41650 0 480 0\n"
     ]
    },
    {
     "name": "stderr",
     "output_type": "stream",
     "text": [
      " 20%|██        | 2040/10000 [01:27<05:26, 24.36it/s]"
     ]
    },
    {
     "name": "stdout",
     "output_type": "stream",
     "text": [
      "41650 0 480 0\n",
      "41650 0 480 0\n",
      "41650 0 480 0\n",
      "41650 0 480 0\n",
      "41650 0 480 0\n"
     ]
    },
    {
     "name": "stderr",
     "output_type": "stream",
     "text": [
      "\r",
      " 20%|██        | 2043/10000 [01:27<05:33, 23.83it/s]"
     ]
    },
    {
     "name": "stdout",
     "output_type": "stream",
     "text": [
      "41650 0 480 0\n",
      "4348 37302 29 451\n",
      "Number of treatment 4348\n",
      "Revenue -4872.2\n",
      "****************************************************************************************************\n",
      "41650 0 480 0\n",
      "41650 0 480 0\n",
      "41650 0 480 0\n"
     ]
    },
    {
     "name": "stderr",
     "output_type": "stream",
     "text": [
      " 20%|██        | 2049/10000 [01:27<05:29, 24.13it/s]"
     ]
    },
    {
     "name": "stdout",
     "output_type": "stream",
     "text": [
      "41650 0 480 0\n",
      "0 41650 0 480\n",
      "0 41650 0 480\n",
      "0 41650 0 480\n",
      "41650 0 480 0\n"
     ]
    },
    {
     "name": "stderr",
     "output_type": "stream",
     "text": [
      " 21%|██        | 2055/10000 [01:27<05:34, 23.78it/s]"
     ]
    },
    {
     "name": "stdout",
     "output_type": "stream",
     "text": [
      "41650 0 480 0\n",
      "21003 20647 175 305\n",
      "Number of treatment 21003\n",
      "Revenue -4450.45\n",
      "****************************************************************************************************\n",
      "41650 0 480 0\n",
      "41650 0 480 0\n",
      "41650 0 480 0\n"
     ]
    },
    {
     "name": "stderr",
     "output_type": "stream",
     "text": [
      " 21%|██        | 2061/10000 [01:27<05:20, 24.78it/s]"
     ]
    },
    {
     "name": "stdout",
     "output_type": "stream",
     "text": [
      "41650 0 480 0\n",
      "41650 0 480 0\n",
      "0 41650 0 480\n",
      "41650 0 480 0\n",
      "41650 0 480 0\n",
      "37178 4472 401 79\n",
      "Number of treatment 37178\n",
      "Revenue -2356.7\n",
      "****************************************************************************************************\n"
     ]
    },
    {
     "name": "stderr",
     "output_type": "stream",
     "text": [
      "\r",
      " 21%|██        | 2064/10000 [01:28<05:28, 24.15it/s]"
     ]
    },
    {
     "name": "stdout",
     "output_type": "stream",
     "text": [
      "38873 2777 432 48\n",
      "Number of treatment 38873\n",
      "Revenue -1990.9499999999998\n",
      "****************************************************************************************************\n",
      "41650 0 480 0\n",
      "41650 0 480 0\n",
      "0 41650 0 480\n",
      "41650 0 480 0\n"
     ]
    },
    {
     "name": "stderr",
     "output_type": "stream",
     "text": [
      " 21%|██        | 2070/10000 [01:28<05:39, 23.33it/s]"
     ]
    },
    {
     "name": "stdout",
     "output_type": "stream",
     "text": [
      "0 41650 0 480\n",
      "41650 0 480 0\n",
      "41650 0 480 0\n",
      "0 41650 0 480\n",
      "41650 0 480 0\n"
     ]
    },
    {
     "name": "stderr",
     "output_type": "stream",
     "text": [
      " 21%|██        | 2076/10000 [01:28<05:37, 23.51it/s]"
     ]
    },
    {
     "name": "stdout",
     "output_type": "stream",
     "text": [
      "41650 0 480 0\n",
      "41650 0 480 0\n",
      "0 41650 0 480\n",
      "41650 0 480 0\n",
      "0 41650 0 480\n"
     ]
    },
    {
     "name": "stderr",
     "output_type": "stream",
     "text": [
      "\r",
      " 21%|██        | 2079/10000 [01:28<05:40, 23.27it/s]"
     ]
    },
    {
     "name": "stdout",
     "output_type": "stream",
     "text": [
      "41650 0 480 0\n",
      "41650 0 480 0\n",
      "41650 0 480 0\n",
      "41650 0 480 0\n",
      "41650 0 480 0\n"
     ]
    },
    {
     "name": "stderr",
     "output_type": "stream",
     "text": [
      " 21%|██        | 2085/10000 [01:29<05:43, 23.06it/s]"
     ]
    },
    {
     "name": "stdout",
     "output_type": "stream",
     "text": [
      "8927 32723 56 424\n",
      "Number of treatment 8927\n",
      "Revenue -5019.05\n",
      "****************************************************************************************************\n",
      "41650 0 480 0\n",
      "41650 0 480 0\n",
      "41650 0 480 0\n",
      "29801 11849 289 191\n",
      "Number of treatment 29801\n",
      "Revenue -3490.1499999999996\n",
      "****************************************************************************************************\n"
     ]
    },
    {
     "name": "stderr",
     "output_type": "stream",
     "text": [
      " 21%|██        | 2091/10000 [01:29<05:30, 23.94it/s]"
     ]
    },
    {
     "name": "stdout",
     "output_type": "stream",
     "text": [
      "555 41095 5 475\n",
      "Number of treatment 555\n",
      "Revenue -4783.25\n",
      "****************************************************************************************************\n",
      "41650 0 480 0\n",
      "41650 0 480 0\n",
      "41650 0 480 0\n",
      "36827 4823 396 84\n",
      "Number of treatment 36827\n",
      "Revenue -2404.05\n",
      "****************************************************************************************************\n",
      "41650 0 480 0\n"
     ]
    },
    {
     "name": "stderr",
     "output_type": "stream",
     "text": [
      " 21%|██        | 2097/10000 [01:29<05:22, 24.53it/s]"
     ]
    },
    {
     "name": "stdout",
     "output_type": "stream",
     "text": [
      "41650 0 480 0\n",
      "41650 0 480 0\n",
      "41650 0 480 0\n",
      "41650 0 480 0\n",
      "0 41650 0 480\n",
      "41650 0 480 0\n"
     ]
    },
    {
     "name": "stderr",
     "output_type": "stream",
     "text": [
      " 21%|██        | 2103/10000 [01:29<05:27, 24.13it/s]"
     ]
    },
    {
     "name": "stdout",
     "output_type": "stream",
     "text": [
      "41650 0 480 0\n",
      "0 41650 0 480\n",
      "41650 0 480 0\n",
      "41650 0 480 0\n",
      "0 41650 0 480\n"
     ]
    },
    {
     "name": "stderr",
     "output_type": "stream",
     "text": [
      " 21%|██        | 2109/10000 [01:30<05:16, 24.89it/s]"
     ]
    },
    {
     "name": "stdout",
     "output_type": "stream",
     "text": [
      "41650 0 480 0\n",
      "41650 0 480 0\n",
      "41650 0 480 0\n",
      "40196 1454 463 17\n",
      "Number of treatment 40196\n",
      "Revenue -1569.3999999999996\n",
      "****************************************************************************************************\n",
      "41650 0 480 0\n",
      "41650 0 480 0\n"
     ]
    },
    {
     "name": "stderr",
     "output_type": "stream",
     "text": [
      "\r",
      " 21%|██        | 2112/10000 [01:30<05:25, 24.23it/s]"
     ]
    },
    {
     "name": "stdout",
     "output_type": "stream",
     "text": [
      "41650 0 480 0\n",
      "41650 0 480 0\n",
      "34744 6906 369 111\n",
      "Number of treatment 34744\n",
      "Revenue -2631.5999999999995\n",
      "****************************************************************************************************\n",
      "41650 0 480 0\n",
      "41431 219 477 3\n",
      "Number of treatment 41431\n",
      "Revenue -1474.6499999999996\n",
      "****************************************************************************************************\n"
     ]
    },
    {
     "name": "stderr",
     "output_type": "stream",
     "text": [
      " 21%|██        | 2118/10000 [01:30<05:31, 23.75it/s]"
     ]
    },
    {
     "name": "stdout",
     "output_type": "stream",
     "text": [
      "41650 0 480 0\n",
      "41650 0 480 0\n",
      "41650 0 480 0\n",
      "41650 0 480 0\n",
      "41650 0 480 0\n"
     ]
    },
    {
     "name": "stderr",
     "output_type": "stream",
     "text": [
      " 21%|██        | 2124/10000 [01:30<05:28, 23.98it/s]"
     ]
    },
    {
     "name": "stdout",
     "output_type": "stream",
     "text": [
      "41650 0 480 0\n",
      "41650 0 480 0\n",
      "41650 0 480 0\n",
      "30697 10953 299 181\n",
      "Number of treatment 30697\n",
      "Revenue -3424.55\n",
      "****************************************************************************************************\n",
      "41650 0 480 0\n",
      "41650 0 480 0\n"
     ]
    },
    {
     "name": "stderr",
     "output_type": "stream",
     "text": [
      " 21%|██▏       | 2130/10000 [01:30<05:17, 24.80it/s]"
     ]
    },
    {
     "name": "stdout",
     "output_type": "stream",
     "text": [
      "41650 0 480 0\n",
      "35100 6550 374 106\n",
      "Number of treatment 35100\n",
      "Revenue -2585.0\n",
      "****************************************************************************************************\n",
      "41650 0 480 0\n",
      "41650 0 480 0\n",
      "0 41650 0 480\n",
      "41634 16 480 0\n",
      "Number of treatment 41634\n",
      "Revenue -1445.0999999999995\n",
      "****************************************************************************************************\n"
     ]
    },
    {
     "name": "stderr",
     "output_type": "stream",
     "text": [
      " 21%|██▏       | 2136/10000 [01:31<05:18, 24.71it/s]"
     ]
    },
    {
     "name": "stdout",
     "output_type": "stream",
     "text": [
      "41650 0 480 0\n",
      "41650 0 480 0\n",
      "41650 0 480 0\n",
      "41650 0 480 0\n",
      "32865 8785 335 145\n",
      "Number of treatment 32865\n",
      "Revenue -3029.75\n",
      "****************************************************************************************************\n"
     ]
    },
    {
     "name": "stderr",
     "output_type": "stream",
     "text": [
      "\r",
      " 21%|██▏       | 2139/10000 [01:31<05:24, 24.24it/s]"
     ]
    },
    {
     "name": "stdout",
     "output_type": "stream",
     "text": [
      "41650 0 480 0\n",
      "41650 0 480 0\n",
      "41650 0 480 0\n",
      "41650 0 480 0\n",
      "41650 0 480 0\n"
     ]
    },
    {
     "name": "stderr",
     "output_type": "stream",
     "text": [
      " 21%|██▏       | 2145/10000 [01:31<05:37, 23.24it/s]"
     ]
    },
    {
     "name": "stdout",
     "output_type": "stream",
     "text": [
      "41650 0 480 0\n",
      "41650 0 480 0\n",
      "41650 0 480 0\n",
      "41650 0 480 0\n",
      "41650 0 480 0\n"
     ]
    },
    {
     "name": "stderr",
     "output_type": "stream",
     "text": [
      " 22%|██▏       | 2151/10000 [01:31<05:32, 23.57it/s]"
     ]
    },
    {
     "name": "stdout",
     "output_type": "stream",
     "text": [
      "41650 0 480 0\n",
      "41650 0 480 0\n",
      "41650 0 480 0\n",
      "41650 0 480 0\n",
      "41650 0 480 0\n",
      "41650 0 480 0\n"
     ]
    },
    {
     "name": "stderr",
     "output_type": "stream",
     "text": [
      " 22%|██▏       | 2157/10000 [01:32<05:19, 24.54it/s]"
     ]
    },
    {
     "name": "stdout",
     "output_type": "stream",
     "text": [
      "41650 0 480 0\n",
      "41650 0 480 0\n",
      "40678 972 468 12\n",
      "Number of treatment 40678\n",
      "Revenue -1541.6999999999998\n",
      "****************************************************************************************************\n",
      "41650 0 480 0\n",
      "41650 0 480 0\n",
      "41650 0 480 0\n"
     ]
    },
    {
     "name": "stderr",
     "output_type": "stream",
     "text": [
      " 22%|██▏       | 2163/10000 [01:32<05:18, 24.58it/s]"
     ]
    },
    {
     "name": "stdout",
     "output_type": "stream",
     "text": [
      "41650 0 480 0\n",
      "0 41650 0 480\n",
      "41650 0 480 0\n",
      "41650 0 480 0\n",
      "41650 0 480 0\n"
     ]
    },
    {
     "name": "stderr",
     "output_type": "stream",
     "text": [
      "\r",
      " 22%|██▏       | 2166/10000 [01:32<05:30, 23.69it/s]"
     ]
    },
    {
     "name": "stdout",
     "output_type": "stream",
     "text": [
      "41650 0 480 0\n",
      "41650 0 480 0\n",
      "41650 0 480 0\n",
      "41650 0 480 0\n",
      "41650 0 480 0\n"
     ]
    },
    {
     "name": "stderr",
     "output_type": "stream",
     "text": [
      " 22%|██▏       | 2172/10000 [01:32<05:26, 24.01it/s]"
     ]
    },
    {
     "name": "stdout",
     "output_type": "stream",
     "text": [
      "41650 0 480 0\n",
      "41650 0 480 0\n",
      "41650 0 480 0\n",
      "39435 2215 448 32\n",
      "Number of treatment 39435\n",
      "Revenue -1755.25\n",
      "****************************************************************************************************\n",
      "41650 0 480 0\n",
      "41650 0 480 0\n"
     ]
    },
    {
     "name": "stderr",
     "output_type": "stream",
     "text": [
      " 22%|██▏       | 2178/10000 [01:32<05:14, 24.85it/s]"
     ]
    },
    {
     "name": "stdout",
     "output_type": "stream",
     "text": [
      "41650 0 480 0\n",
      "41650 0 480 0\n",
      "41650 0 480 0\n",
      "41650 0 480 0\n",
      "40410 1240 466 14\n",
      "Number of treatment 40410\n",
      "Revenue -1541.5\n",
      "****************************************************************************************************\n",
      "41650 0 480 0\n"
     ]
    },
    {
     "name": "stderr",
     "output_type": "stream",
     "text": [
      " 22%|██▏       | 2184/10000 [01:33<05:11, 25.06it/s]"
     ]
    },
    {
     "name": "stdout",
     "output_type": "stream",
     "text": [
      "9081 32569 56 424\n",
      "Number of treatment 9081\n",
      "Revenue -5042.15\n",
      "****************************************************************************************************\n",
      "41650 0 480 0\n",
      "41650 0 480 0\n",
      "41650 0 480 0\n",
      "41650 0 480 0\n",
      "41650 0 480 0\n"
     ]
    },
    {
     "name": "stderr",
     "output_type": "stream",
     "text": [
      " 22%|██▏       | 2190/10000 [01:33<05:07, 25.38it/s]"
     ]
    },
    {
     "name": "stdout",
     "output_type": "stream",
     "text": [
      "41650 0 480 0\n",
      "41650 0 480 0\n",
      "3406 38244 23 457\n",
      "Number of treatment 3406\n",
      "Revenue -4850.9\n",
      "****************************************************************************************************\n",
      "41650 0 480 0\n",
      "41650 0 480 0\n",
      "41650 0 480 0\n"
     ]
    },
    {
     "name": "stderr",
     "output_type": "stream",
     "text": [
      " 22%|██▏       | 2196/10000 [01:33<05:09, 25.19it/s]"
     ]
    },
    {
     "name": "stdout",
     "output_type": "stream",
     "text": [
      "41650 0 480 0\n",
      "41650 0 480 0\n",
      "41650 0 480 0\n",
      "41650 0 480 0\n",
      "41650 0 480 0\n"
     ]
    },
    {
     "name": "stderr",
     "output_type": "stream",
     "text": [
      " 22%|██▏       | 2202/10000 [01:33<05:17, 24.53it/s]"
     ]
    },
    {
     "name": "stdout",
     "output_type": "stream",
     "text": [
      "41650 0 480 0\n",
      "41650 0 480 0\n",
      "41650 0 480 0\n",
      "41650 0 480 0\n",
      "41650 0 480 0\n"
     ]
    },
    {
     "name": "stderr",
     "output_type": "stream",
     "text": [
      "\r",
      " 22%|██▏       | 2205/10000 [01:33<05:14, 24.75it/s]"
     ]
    },
    {
     "name": "stdout",
     "output_type": "stream",
     "text": [
      "35453 6197 377 103\n",
      "Number of treatment 35453\n",
      "Revenue -2577.95\n",
      "****************************************************************************************************\n",
      "41650 0 480 0\n",
      "41650 0 480 0\n",
      "41650 0 480 0\n",
      "41650 0 480 0\n",
      "41650 0 480 0\n"
     ]
    },
    {
     "name": "stderr",
     "output_type": "stream",
     "text": [
      " 22%|██▏       | 2211/10000 [01:34<05:23, 24.11it/s]"
     ]
    },
    {
     "name": "stdout",
     "output_type": "stream",
     "text": [
      "0 41650 0 480\n",
      "39800 1850 452 28\n",
      "Number of treatment 39800\n",
      "Revenue -1730.0\n",
      "****************************************************************************************************\n",
      "12598 29052 74 406\n",
      "Number of treatment 12598\n",
      "Revenue -5209.7\n",
      "****************************************************************************************************\n",
      "41650 0 480 0\n",
      "6851 34799 47 433\n",
      "Number of treatment 6851\n",
      "Revenue -4887.65\n",
      "****************************************************************************************************\n"
     ]
    },
    {
     "name": "stderr",
     "output_type": "stream",
     "text": [
      " 22%|██▏       | 2217/10000 [01:34<05:24, 23.95it/s]"
     ]
    },
    {
     "name": "stdout",
     "output_type": "stream",
     "text": [
      "41650 0 480 0\n",
      "41650 0 480 0\n",
      "2872 38778 22 458\n",
      "Number of treatment 2872\n",
      "Revenue -4790.8\n",
      "****************************************************************************************************\n",
      "36276 5374 388 92\n",
      "Number of treatment 36276\n",
      "Revenue -2481.3999999999996\n",
      "****************************************************************************************************\n",
      "41650 0 480 0\n"
     ]
    },
    {
     "name": "stderr",
     "output_type": "stream",
     "text": [
      " 22%|██▏       | 2223/10000 [01:34<05:21, 24.16it/s]"
     ]
    },
    {
     "name": "stdout",
     "output_type": "stream",
     "text": [
      "40433 1217 466 14\n",
      "Number of treatment 40433\n",
      "Revenue -1544.9499999999998\n",
      "****************************************************************************************************\n",
      "41650 0 480 0\n",
      "0 41650 0 480\n",
      "41650 0 480 0\n",
      "0 41650 0 480\n",
      "41650 0 480 0\n"
     ]
    },
    {
     "name": "stderr",
     "output_type": "stream",
     "text": [
      " 22%|██▏       | 2229/10000 [01:34<05:08, 25.22it/s]"
     ]
    },
    {
     "name": "stdout",
     "output_type": "stream",
     "text": [
      "41650 0 480 0\n",
      "0 41650 0 480\n",
      "41650 0 480 0\n",
      "41650 0 480 0\n",
      "41650 0 480 0\n",
      "41650 0 480 0\n"
     ]
    },
    {
     "name": "stderr",
     "output_type": "stream",
     "text": [
      " 22%|██▏       | 2235/10000 [01:35<05:15, 24.60it/s]"
     ]
    },
    {
     "name": "stdout",
     "output_type": "stream",
     "text": [
      "38988 2662 437 43\n",
      "Number of treatment 38988\n",
      "Revenue -1908.1999999999998\n",
      "****************************************************************************************************\n",
      "41650 0 480 0\n",
      "13011 28639 75 405\n",
      "Number of treatment 13011\n",
      "Revenue -5251.65\n",
      "****************************************************************************************************\n",
      "41650 0 480 0\n",
      "19053 22597 153 327\n",
      "Number of treatment 19053\n",
      "Revenue -4597.95\n",
      "****************************************************************************************************\n"
     ]
    },
    {
     "name": "stderr",
     "output_type": "stream",
     "text": [
      "\r",
      " 22%|██▏       | 2238/10000 [01:35<05:20, 24.25it/s]"
     ]
    },
    {
     "name": "stdout",
     "output_type": "stream",
     "text": [
      "41650 0 480 0\n",
      "41650 0 480 0\n",
      "41650 0 480 0\n",
      "41650 0 480 0\n",
      "41650 0 480 0\n"
     ]
    },
    {
     "name": "stderr",
     "output_type": "stream",
     "text": [
      " 22%|██▏       | 2244/10000 [01:35<05:25, 23.81it/s]"
     ]
    },
    {
     "name": "stdout",
     "output_type": "stream",
     "text": [
      "41650 0 480 0\n",
      "13306 28344 76 404\n",
      "Number of treatment 13306\n",
      "Revenue -5275.9\n",
      "****************************************************************************************************\n",
      "41650 0 480 0\n",
      "13332 28318 76 404\n",
      "Number of treatment 13332\n",
      "Revenue -5279.8\n",
      "****************************************************************************************************\n",
      "0 41650 0 480\n"
     ]
    },
    {
     "name": "stderr",
     "output_type": "stream",
     "text": [
      " 22%|██▎       | 2250/10000 [01:35<05:21, 24.13it/s]"
     ]
    },
    {
     "name": "stdout",
     "output_type": "stream",
     "text": [
      "0 41650 0 480\n",
      "41650 0 480 0\n",
      "41650 0 480 0\n",
      "41650 0 480 0\n",
      "0 41650 0 480\n"
     ]
    },
    {
     "name": "stderr",
     "output_type": "stream",
     "text": [
      "\r",
      " 23%|██▎       | 2253/10000 [01:35<05:20, 24.16it/s]"
     ]
    },
    {
     "name": "stdout",
     "output_type": "stream",
     "text": [
      "41650 0 480 0\n",
      "41650 0 480 0\n",
      "41650 0 480 0\n",
      "41650 0 480 0\n",
      "41650 0 480 0\n"
     ]
    },
    {
     "name": "stderr",
     "output_type": "stream",
     "text": [
      " 23%|██▎       | 2259/10000 [01:36<05:22, 23.98it/s]"
     ]
    },
    {
     "name": "stdout",
     "output_type": "stream",
     "text": [
      "41650 0 480 0\n",
      "41650 0 480 0\n",
      "0 41650 0 480\n",
      "41650 0 480 0\n",
      "41650 0 480 0\n"
     ]
    },
    {
     "name": "stderr",
     "output_type": "stream",
     "text": [
      " 23%|██▎       | 2265/10000 [01:36<05:19, 24.21it/s]"
     ]
    },
    {
     "name": "stdout",
     "output_type": "stream",
     "text": [
      "41650 0 480 0\n",
      "41650 0 480 0\n",
      "41650 0 480 0\n",
      "41650 0 480 0\n",
      "41650 0 480 0\n",
      "41650 0 480 0\n"
     ]
    },
    {
     "name": "stderr",
     "output_type": "stream",
     "text": [
      " 23%|██▎       | 2271/10000 [01:36<05:19, 24.22it/s]"
     ]
    },
    {
     "name": "stdout",
     "output_type": "stream",
     "text": [
      "41650 0 480 0\n",
      "41650 0 480 0\n",
      "41650 0 480 0\n",
      "41650 0 480 0\n",
      "607 41043 5 475\n",
      "Number of treatment 607\n",
      "Revenue -4791.05\n",
      "****************************************************************************************************\n"
     ]
    },
    {
     "name": "stderr",
     "output_type": "stream",
     "text": [
      "\r",
      " 23%|██▎       | 2274/10000 [01:36<05:24, 23.83it/s]"
     ]
    },
    {
     "name": "stdout",
     "output_type": "stream",
     "text": [
      "312 41338 4 476\n",
      "Number of treatment 312\n",
      "Revenue -4766.8\n",
      "****************************************************************************************************\n",
      "41650 0 480 0\n",
      "41650 0 480 0\n",
      "41650 0 480 0\n",
      "41650 0 480 0\n"
     ]
    },
    {
     "name": "stderr",
     "output_type": "stream",
     "text": [
      " 23%|██▎       | 2280/10000 [01:37<05:22, 23.95it/s]"
     ]
    },
    {
     "name": "stdout",
     "output_type": "stream",
     "text": [
      "41650 0 480 0\n",
      "41650 0 480 0\n",
      "41650 0 480 0\n",
      "41650 0 480 0\n",
      "41650 0 480 0\n"
     ]
    },
    {
     "name": "stderr",
     "output_type": "stream",
     "text": [
      " 23%|██▎       | 2286/10000 [01:37<05:25, 23.69it/s]"
     ]
    },
    {
     "name": "stdout",
     "output_type": "stream",
     "text": [
      "41650 0 480 0\n",
      "41650 0 480 0\n",
      "41650 0 480 0\n",
      "41650 0 480 0\n",
      "41650 0 480 0\n"
     ]
    },
    {
     "name": "stderr",
     "output_type": "stream",
     "text": [
      "\r",
      " 23%|██▎       | 2289/10000 [01:37<05:17, 24.31it/s]"
     ]
    },
    {
     "name": "stdout",
     "output_type": "stream",
     "text": [
      "41650 0 480 0\n",
      "41650 0 480 0\n",
      "0 41650 0 480\n",
      "37743 3907 410 70\n",
      "Number of treatment 37743\n",
      "Revenue -2261.45\n",
      "****************************************************************************************************\n",
      "27060 14590 247 233\n",
      "Number of treatment 27060\n",
      "Revenue -3919.0\n",
      "****************************************************************************************************\n"
     ]
    },
    {
     "name": "stderr",
     "output_type": "stream",
     "text": [
      " 23%|██▎       | 2295/10000 [01:37<05:16, 24.37it/s]"
     ]
    },
    {
     "name": "stdout",
     "output_type": "stream",
     "text": [
      "41650 0 480 0\n",
      "41650 0 480 0\n",
      "41650 0 480 0\n",
      "41650 0 480 0\n",
      "41650 0 480 0\n",
      "41650 0 480 0\n"
     ]
    },
    {
     "name": "stderr",
     "output_type": "stream",
     "text": [
      " 23%|██▎       | 2301/10000 [01:37<05:14, 24.47it/s]"
     ]
    },
    {
     "name": "stdout",
     "output_type": "stream",
     "text": [
      "3055 38595 22 458\n",
      "Number of treatment 3055\n",
      "Revenue -4818.25\n",
      "****************************************************************************************************\n",
      "41650 0 480 0\n",
      "41650 0 480 0\n",
      "41650 0 480 0\n",
      "41650 0 480 0\n"
     ]
    },
    {
     "name": "stderr",
     "output_type": "stream",
     "text": [
      " 23%|██▎       | 2307/10000 [01:38<05:08, 24.97it/s]"
     ]
    },
    {
     "name": "stdout",
     "output_type": "stream",
     "text": [
      "41650 0 480 0\n",
      "41650 0 480 0\n",
      "41650 0 480 0\n",
      "16999 24651 127 353\n",
      "Number of treatment 16999\n",
      "Revenue -4809.85\n",
      "****************************************************************************************************\n",
      "0 41650 0 480\n",
      "41650 0 480 0\n"
     ]
    },
    {
     "name": "stderr",
     "output_type": "stream",
     "text": [
      " 23%|██▎       | 2313/10000 [01:38<05:07, 25.00it/s]"
     ]
    },
    {
     "name": "stdout",
     "output_type": "stream",
     "text": [
      "41650 0 480 0\n",
      "41650 0 480 0\n",
      "41650 0 480 0\n",
      "11644 30006 68 412\n",
      "Number of treatment 11644\n",
      "Revenue -5186.6\n",
      "****************************************************************************************************\n",
      "41650 0 480 0\n",
      "429 41221 5 475\n",
      "Number of treatment 429\n",
      "Revenue -4764.35\n",
      "****************************************************************************************************\n"
     ]
    },
    {
     "name": "stderr",
     "output_type": "stream",
     "text": [
      " 23%|██▎       | 2319/10000 [01:38<05:12, 24.61it/s]"
     ]
    },
    {
     "name": "stdout",
     "output_type": "stream",
     "text": [
      "35366 6284 375 105\n",
      "Number of treatment 35366\n",
      "Revenue -2604.8999999999996\n",
      "****************************************************************************************************\n",
      "41650 0 480 0\n",
      "41650 0 480 0\n",
      "13699 27951 79 401\n",
      "Number of treatment 13699\n",
      "Revenue -5274.85\n",
      "****************************************************************************************************\n",
      "28308 13342 268 212\n",
      "Number of treatment 28308\n",
      "Revenue -3686.2\n",
      "****************************************************************************************************\n",
      "41650 0 480 0\n"
     ]
    },
    {
     "name": "stderr",
     "output_type": "stream",
     "text": [
      " 23%|██▎       | 2325/10000 [01:38<05:06, 25.00it/s]"
     ]
    },
    {
     "name": "stdout",
     "output_type": "stream",
     "text": [
      "41650 0 480 0\n",
      "16417 25233 116 364\n",
      "Number of treatment 16417\n",
      "Revenue -4942.549999999999\n",
      "****************************************************************************************************\n",
      "41650 0 480 0\n",
      "41650 0 480 0\n",
      "41650 0 480 0\n",
      "41650 0 480 0\n"
     ]
    },
    {
     "name": "stderr",
     "output_type": "stream",
     "text": [
      " 23%|██▎       | 2331/10000 [01:39<04:57, 25.74it/s]"
     ]
    },
    {
     "name": "stdout",
     "output_type": "stream",
     "text": [
      "41650 0 480 0\n",
      "41650 0 480 0\n",
      "41650 0 480 0\n",
      "41650 0 480 0\n",
      "41650 0 480 0\n",
      "41650 0 480 0\n"
     ]
    },
    {
     "name": "stderr",
     "output_type": "stream",
     "text": [
      " 23%|██▎       | 2337/10000 [01:39<04:59, 25.60it/s]"
     ]
    },
    {
     "name": "stdout",
     "output_type": "stream",
     "text": [
      "41650 0 480 0\n",
      "41650 0 480 0\n",
      "41650 0 480 0\n",
      "41650 0 480 0\n",
      "41650 0 480 0\n",
      "41650 0 480 0\n"
     ]
    },
    {
     "name": "stderr",
     "output_type": "stream",
     "text": [
      " 23%|██▎       | 2343/10000 [01:39<04:56, 25.80it/s]"
     ]
    },
    {
     "name": "stdout",
     "output_type": "stream",
     "text": [
      "18502 23148 147 333\n",
      "Number of treatment 18502\n",
      "Revenue -4635.299999999999\n",
      "****************************************************************************************************\n",
      "0 41650 0 480\n",
      "41650 0 480 0\n",
      "41650 0 480 0\n",
      "0 41650 0 480\n",
      "41650 0 480 0\n"
     ]
    },
    {
     "name": "stderr",
     "output_type": "stream",
     "text": [
      " 23%|██▎       | 2349/10000 [01:39<04:56, 25.80it/s]"
     ]
    },
    {
     "name": "stdout",
     "output_type": "stream",
     "text": [
      "41650 0 480 0\n",
      "41650 0 480 0\n",
      "0 41650 0 480\n",
      "41465 185 478 2\n",
      "Number of treatment 41465\n",
      "Revenue -1459.75\n",
      "****************************************************************************************************\n",
      "41650 0 480 0\n",
      "41650 0 480 0\n"
     ]
    },
    {
     "name": "stderr",
     "output_type": "stream",
     "text": [
      " 24%|██▎       | 2355/10000 [01:40<04:58, 25.64it/s]"
     ]
    },
    {
     "name": "stdout",
     "output_type": "stream",
     "text": [
      "41650 0 480 0\n",
      "41650 0 480 0\n",
      "41650 0 480 0\n",
      "0 41650 0 480\n",
      "41650 0 480 0\n",
      "41650 0 480 0\n"
     ]
    },
    {
     "name": "stderr",
     "output_type": "stream",
     "text": [
      " 24%|██▎       | 2361/10000 [01:40<05:07, 24.82it/s]"
     ]
    },
    {
     "name": "stdout",
     "output_type": "stream",
     "text": [
      "41650 0 480 0\n",
      "41650 0 480 0\n",
      "41650 0 480 0\n",
      "41650 0 480 0\n",
      "41644 6 480 0\n"
     ]
    },
    {
     "name": "stderr",
     "output_type": "stream",
     "text": [
      "\r",
      " 24%|██▎       | 2364/10000 [01:40<05:05, 24.97it/s]"
     ]
    },
    {
     "name": "stdout",
     "output_type": "stream",
     "text": [
      "41650 0 480 0\n",
      "41650 0 480 0\n",
      "41650 0 480 0\n",
      "41650 0 480 0\n",
      "41650 0 480 0\n"
     ]
    },
    {
     "name": "stderr",
     "output_type": "stream",
     "text": [
      " 24%|██▎       | 2370/10000 [01:40<05:03, 25.14it/s]"
     ]
    },
    {
     "name": "stdout",
     "output_type": "stream",
     "text": [
      "41650 0 480 0\n",
      "41650 0 480 0\n",
      "41650 0 480 0\n",
      "41650 0 480 0\n",
      "41650 0 480 0\n"
     ]
    },
    {
     "name": "stderr",
     "output_type": "stream",
     "text": [
      " 24%|██▍       | 2376/10000 [01:40<05:10, 24.56it/s]"
     ]
    },
    {
     "name": "stdout",
     "output_type": "stream",
     "text": [
      "41650 0 480 0\n",
      "41650 0 480 0\n",
      "41650 0 480 0\n",
      "41650 0 480 0\n",
      "41650 0 480 0\n"
     ]
    },
    {
     "name": "stderr",
     "output_type": "stream",
     "text": [
      "\r",
      " 24%|██▍       | 2379/10000 [01:41<05:15, 24.14it/s]"
     ]
    },
    {
     "name": "stdout",
     "output_type": "stream",
     "text": [
      "23761 17889 210 270\n",
      "Number of treatment 23761\n",
      "Revenue -4164.15\n",
      "****************************************************************************************************\n",
      "41650 0 480 0\n",
      "41650 0 480 0\n",
      "40752 898 469 11\n",
      "Number of treatment 40752\n",
      "Revenue -1532.8000000000002\n",
      "****************************************************************************************************\n",
      "41650 0 480 0\n"
     ]
    },
    {
     "name": "stderr",
     "output_type": "stream",
     "text": [
      " 24%|██▍       | 2385/10000 [01:41<05:08, 24.65it/s]"
     ]
    },
    {
     "name": "stdout",
     "output_type": "stream",
     "text": [
      "41650 0 480 0\n",
      "41650 0 480 0\n",
      "38745 2905 431 49\n",
      "Number of treatment 38745\n",
      "Revenue -1991.75\n",
      "****************************************************************************************************\n",
      "41650 0 480 0\n",
      "41650 0 480 0\n",
      "41650 0 480 0\n"
     ]
    },
    {
     "name": "stderr",
     "output_type": "stream",
     "text": [
      " 24%|██▍       | 2391/10000 [01:41<05:14, 24.18it/s]"
     ]
    },
    {
     "name": "stdout",
     "output_type": "stream",
     "text": [
      "41650 0 480 0\n",
      "41650 0 480 0\n",
      "13192 28458 76 404\n",
      "Number of treatment 13192\n",
      "Revenue -5258.8\n",
      "****************************************************************************************************\n",
      "41650 0 480 0\n",
      "41650 0 480 0\n"
     ]
    },
    {
     "name": "stderr",
     "output_type": "stream",
     "text": [
      " 24%|██▍       | 2397/10000 [01:41<05:08, 24.67it/s]"
     ]
    },
    {
     "name": "stdout",
     "output_type": "stream",
     "text": [
      "41650 0 480 0\n",
      "41650 0 480 0\n",
      "41650 0 480 0\n",
      "41650 0 480 0\n",
      "286 41364 4 476\n",
      "Number of treatment 286\n",
      "Revenue -4762.9\n",
      "****************************************************************************************************\n",
      "41650 0 480 0\n"
     ]
    },
    {
     "name": "stderr",
     "output_type": "stream",
     "text": [
      " 24%|██▍       | 2403/10000 [01:42<05:23, 23.51it/s]"
     ]
    },
    {
     "name": "stdout",
     "output_type": "stream",
     "text": [
      "41650 0 480 0\n",
      "41650 0 480 0\n",
      "41650 0 480 0\n",
      "41650 0 480 0\n",
      "41650 0 480 0\n"
     ]
    },
    {
     "name": "stderr",
     "output_type": "stream",
     "text": [
      "\r",
      " 24%|██▍       | 2406/10000 [01:42<05:20, 23.68it/s]"
     ]
    },
    {
     "name": "stdout",
     "output_type": "stream",
     "text": [
      "41650 0 480 0\n",
      "41650 0 480 0\n",
      "0 41650 0 480\n",
      "41650 0 480 0\n",
      "10760 30890 61 419\n",
      "Number of treatment 10760\n",
      "Revenue -5194.0\n",
      "****************************************************************************************************\n"
     ]
    },
    {
     "name": "stderr",
     "output_type": "stream",
     "text": [
      " 24%|██▍       | 2412/10000 [01:42<05:17, 23.88it/s]"
     ]
    },
    {
     "name": "stdout",
     "output_type": "stream",
     "text": [
      "41650 0 480 0\n",
      "41650 0 480 0\n",
      "41650 0 480 0\n",
      "41650 0 480 0\n",
      "40265 1385 465 15\n",
      "Number of treatment 40265\n",
      "Revenue -1539.75\n",
      "****************************************************************************************************\n",
      "41650 0 480 0\n"
     ]
    },
    {
     "name": "stderr",
     "output_type": "stream",
     "text": [
      " 24%|██▍       | 2418/10000 [01:42<05:07, 24.65it/s]"
     ]
    },
    {
     "name": "stdout",
     "output_type": "stream",
     "text": [
      "41650 0 480 0\n",
      "41650 0 480 0\n",
      "41650 0 480 0\n",
      "41650 0 480 0\n",
      "41650 0 480 0\n",
      "41650 0 480 0\n"
     ]
    },
    {
     "name": "stderr",
     "output_type": "stream",
     "text": [
      " 24%|██▍       | 2424/10000 [01:42<05:06, 24.71it/s]"
     ]
    },
    {
     "name": "stdout",
     "output_type": "stream",
     "text": [
      "41650 0 480 0\n",
      "38609 3041 429 51\n",
      "Number of treatment 38609\n",
      "Revenue -2011.3499999999995\n",
      "****************************************************************************************************\n",
      "41650 0 480 0\n",
      "41650 0 480 0\n",
      "41650 0 480 0\n",
      "41650 0 480 0\n"
     ]
    },
    {
     "name": "stderr",
     "output_type": "stream",
     "text": [
      " 24%|██▍       | 2430/10000 [01:43<05:07, 24.63it/s]"
     ]
    },
    {
     "name": "stdout",
     "output_type": "stream",
     "text": [
      "13262 28388 76 404\n",
      "Number of treatment 13262\n",
      "Revenue -5269.3\n",
      "****************************************************************************************************\n",
      "41650 0 480 0\n",
      "41650 0 480 0\n",
      "41650 0 480 0\n",
      "41650 0 480 0\n"
     ]
    },
    {
     "name": "stderr",
     "output_type": "stream",
     "text": [
      " 24%|██▍       | 2436/10000 [01:43<05:07, 24.59it/s]"
     ]
    },
    {
     "name": "stdout",
     "output_type": "stream",
     "text": [
      "5204 36446 37 443\n",
      "Number of treatment 5204\n",
      "Revenue -4840.6\n",
      "****************************************************************************************************\n",
      "0 41650 0 480\n",
      "41650 0 480 0\n",
      "41650 0 480 0\n",
      "41650 0 480 0\n"
     ]
    },
    {
     "name": "stderr",
     "output_type": "stream",
     "text": [
      " 24%|██▍       | 2442/10000 [01:43<05:01, 25.10it/s]"
     ]
    },
    {
     "name": "stdout",
     "output_type": "stream",
     "text": [
      "41650 0 480 0\n",
      "41650 0 480 0\n",
      "41650 0 480 0\n",
      "41650 0 480 0\n",
      "12508 29142 73 407\n",
      "Number of treatment 12508\n",
      "Revenue -5216.2\n",
      "****************************************************************************************************\n",
      "41650 0 480 0\n"
     ]
    },
    {
     "name": "stderr",
     "output_type": "stream",
     "text": [
      "\r",
      " 24%|██▍       | 2445/10000 [01:43<05:06, 24.63it/s]"
     ]
    },
    {
     "name": "stdout",
     "output_type": "stream",
     "text": [
      "41650 0 480 0\n",
      "41650 0 480 0\n",
      "41650 0 480 0\n",
      "41650 0 480 0\n",
      "41650 0 480 0\n"
     ]
    },
    {
     "name": "stderr",
     "output_type": "stream",
     "text": [
      " 25%|██▍       | 2451/10000 [01:43<05:02, 24.98it/s]"
     ]
    },
    {
     "name": "stdout",
     "output_type": "stream",
     "text": [
      "41650 0 480 0\n",
      "41650 0 480 0\n",
      "41650 0 480 0\n",
      "41650 0 480 0\n",
      "41650 0 480 0\n",
      "41650 0 480 0\n"
     ]
    },
    {
     "name": "stderr",
     "output_type": "stream",
     "text": [
      " 25%|██▍       | 2457/10000 [01:44<04:59, 25.16it/s]"
     ]
    },
    {
     "name": "stdout",
     "output_type": "stream",
     "text": [
      "41650 0 480 0\n",
      "41647 3 480 0\n",
      "41650 0 480 0\n",
      "41650 0 480 0\n",
      "41650 0 480 0\n"
     ]
    },
    {
     "name": "stderr",
     "output_type": "stream",
     "text": [
      " 25%|██▍       | 2463/10000 [01:44<05:11, 24.22it/s]"
     ]
    },
    {
     "name": "stdout",
     "output_type": "stream",
     "text": [
      "41650 0 480 0\n",
      "0 41650 0 480\n",
      "41650 0 480 0\n",
      "41650 0 480 0\n",
      "9949 31701 58 422\n",
      "Number of treatment 9949\n",
      "Revenue -5132.35\n",
      "****************************************************************************************************\n"
     ]
    },
    {
     "name": "stderr",
     "output_type": "stream",
     "text": [
      "\r",
      " 25%|██▍       | 2466/10000 [01:44<05:13, 24.01it/s]"
     ]
    },
    {
     "name": "stdout",
     "output_type": "stream",
     "text": [
      "41650 0 480 0\n",
      "41650 0 480 0\n",
      "27713 13937 257 223\n",
      "Number of treatment 27713\n",
      "Revenue -3816.95\n",
      "****************************************************************************************************\n",
      "28156 13494 267 213\n",
      "Number of treatment 28156\n",
      "Revenue -3683.3999999999996\n",
      "****************************************************************************************************\n",
      "40731 919 469 11\n",
      "Number of treatment 40731\n",
      "Revenue -1529.6499999999996\n",
      "****************************************************************************************************\n"
     ]
    },
    {
     "name": "stderr",
     "output_type": "stream",
     "text": [
      " 25%|██▍       | 2472/10000 [01:44<05:27, 22.99it/s]"
     ]
    },
    {
     "name": "stdout",
     "output_type": "stream",
     "text": [
      "41650 0 480 0\n",
      "41650 0 480 0\n",
      "41650 0 480 0\n",
      "41650 0 480 0\n",
      "41650 0 480 0\n"
     ]
    },
    {
     "name": "stderr",
     "output_type": "stream",
     "text": [
      " 25%|██▍       | 2478/10000 [01:45<05:17, 23.71it/s]"
     ]
    },
    {
     "name": "stdout",
     "output_type": "stream",
     "text": [
      "41650 0 480 0\n",
      "41650 0 480 0\n",
      "41650 0 480 0\n",
      "41650 0 480 0\n",
      "31253 10397 308 172\n",
      "Number of treatment 31253\n",
      "Revenue -3327.95\n",
      "****************************************************************************************************\n"
     ]
    },
    {
     "name": "stderr",
     "output_type": "stream",
     "text": [
      "\r",
      " 25%|██▍       | 2481/10000 [01:45<05:18, 23.61it/s]"
     ]
    },
    {
     "name": "stdout",
     "output_type": "stream",
     "text": [
      "41650 0 480 0\n",
      "41650 0 480 0\n",
      "41650 0 480 0\n",
      "41650 0 480 0\n",
      "40941 709 471 9\n"
     ]
    },
    {
     "name": "stderr",
     "output_type": "stream",
     "text": [
      " 25%|██▍       | 2487/10000 [01:45<05:19, 23.52it/s]"
     ]
    },
    {
     "name": "stdout",
     "output_type": "stream",
     "text": [
      "41650 0 480 0\n",
      "41650 0 480 0\n",
      "41650 0 480 0\n",
      "41650 0 480 0\n",
      "41650 0 480 0\n"
     ]
    },
    {
     "name": "stderr",
     "output_type": "stream",
     "text": [
      " 25%|██▍       | 2493/10000 [01:45<05:15, 23.82it/s]"
     ]
    },
    {
     "name": "stdout",
     "output_type": "stream",
     "text": [
      "41650 0 480 0\n",
      "41650 0 480 0\n",
      "41650 0 480 0\n",
      "41650 0 480 0\n",
      "41650 0 480 0\n"
     ]
    },
    {
     "name": "stderr",
     "output_type": "stream",
     "text": [
      "\r",
      " 25%|██▍       | 2496/10000 [01:45<05:15, 23.82it/s]"
     ]
    },
    {
     "name": "stdout",
     "output_type": "stream",
     "text": [
      "11013 30637 63 417\n",
      "Number of treatment 11013\n",
      "Revenue -5191.95\n",
      "****************************************************************************************************\n",
      "41650 0 480 0\n",
      "41650 0 480 0\n",
      "41650 0 480 0\n",
      "40813 837 470 10\n",
      "Number of treatment 40813\n",
      "Revenue -1521.9499999999998\n",
      "****************************************************************************************************\n"
     ]
    },
    {
     "name": "stderr",
     "output_type": "stream",
     "text": [
      " 25%|██▌       | 2502/10000 [01:46<05:10, 24.12it/s]"
     ]
    },
    {
     "name": "stdout",
     "output_type": "stream",
     "text": [
      "41650 0 480 0\n",
      "41650 0 480 0\n",
      "41650 0 480 0\n",
      "41650 0 480 0\n",
      "41650 0 480 0\n",
      "41588 62 480 0\n"
     ]
    },
    {
     "name": "stderr",
     "output_type": "stream",
     "text": [
      " 25%|██▌       | 2508/10000 [01:46<05:06, 24.43it/s]"
     ]
    },
    {
     "name": "stdout",
     "output_type": "stream",
     "text": [
      "41650 0 480 0\n",
      "41650 0 480 0\n",
      "8809 32841 56 424\n",
      "Number of treatment 8809\n",
      "Revenue -5001.35\n",
      "****************************************************************************************************\n",
      "41650 0 480 0\n",
      "41650 0 480 0\n"
     ]
    },
    {
     "name": "stderr",
     "output_type": "stream",
     "text": [
      " 25%|██▌       | 2514/10000 [01:46<04:59, 24.97it/s]"
     ]
    },
    {
     "name": "stdout",
     "output_type": "stream",
     "text": [
      "41650 0 480 0\n",
      "0 41650 0 480\n",
      "41650 0 480 0\n",
      "26240 15410 236 244\n",
      "Number of treatment 26240\n",
      "Revenue -4016.0\n",
      "****************************************************************************************************\n",
      "41650 0 480 0\n",
      "41650 0 480 0\n"
     ]
    },
    {
     "name": "stderr",
     "output_type": "stream",
     "text": [
      " 25%|██▌       | 2520/10000 [01:46<04:59, 24.97it/s]"
     ]
    },
    {
     "name": "stdout",
     "output_type": "stream",
     "text": [
      "41650 0 480 0\n",
      "41650 0 480 0\n",
      "41650 0 480 0\n",
      "22474 19176 189 291\n",
      "Number of treatment 22474\n",
      "Revenue -4391.1\n",
      "****************************************************************************************************\n",
      "22672 18978 190 290\n",
      "Number of treatment 22672\n",
      "Revenue -4400.799999999999\n",
      "****************************************************************************************************\n",
      "0 41650 0 480\n"
     ]
    },
    {
     "name": "stderr",
     "output_type": "stream",
     "text": [
      " 25%|██▌       | 2526/10000 [01:47<04:52, 25.53it/s]"
     ]
    },
    {
     "name": "stdout",
     "output_type": "stream",
     "text": [
      "41650 0 480 0\n",
      "41650 0 480 0\n",
      "41650 0 480 0\n",
      "41650 0 480 0\n",
      "41650 0 480 0\n",
      "41650 0 480 0\n"
     ]
    },
    {
     "name": "stderr",
     "output_type": "stream",
     "text": [
      " 25%|██▌       | 2532/10000 [01:47<05:03, 24.59it/s]"
     ]
    },
    {
     "name": "stdout",
     "output_type": "stream",
     "text": [
      "41650 0 480 0\n",
      "41650 0 480 0\n",
      "0 41650 0 480\n",
      "0 41650 0 480\n",
      "0 41650 0 480\n"
     ]
    },
    {
     "name": "stderr",
     "output_type": "stream",
     "text": [
      "\r",
      " 25%|██▌       | 2535/10000 [01:47<05:23, 23.07it/s]"
     ]
    },
    {
     "name": "stdout",
     "output_type": "stream",
     "text": [
      "41650 0 480 0\n",
      "41650 0 480 0\n",
      "41650 0 480 0\n",
      "41650 0 480 0\n",
      "41650 0 480 0\n"
     ]
    },
    {
     "name": "stderr",
     "output_type": "stream",
     "text": [
      " 25%|██▌       | 2541/10000 [01:47<05:29, 22.60it/s]"
     ]
    },
    {
     "name": "stdout",
     "output_type": "stream",
     "text": [
      "9707 31943 57 423\n",
      "Number of treatment 9707\n",
      "Revenue -5116.05\n",
      "****************************************************************************************************\n",
      "41650 0 480 0\n",
      "41621 29 480 0\n",
      "Number of treatment 41621\n",
      "Revenue -1443.1499999999996\n",
      "****************************************************************************************************\n",
      "41650 0 480 0\n",
      "12629 29021 74 406\n",
      "Number of treatment 12629\n",
      "Revenue -5214.35\n",
      "****************************************************************************************************\n"
     ]
    },
    {
     "name": "stderr",
     "output_type": "stream",
     "text": [
      " 25%|██▌       | 2547/10000 [01:47<05:25, 22.88it/s]"
     ]
    },
    {
     "name": "stdout",
     "output_type": "stream",
     "text": [
      "41650 0 480 0\n",
      "41650 0 480 0\n",
      "41650 0 480 0\n",
      "41650 0 480 0\n",
      "41650 0 480 0\n"
     ]
    },
    {
     "name": "stderr",
     "output_type": "stream",
     "text": [
      "\r",
      " 26%|██▌       | 2550/10000 [01:48<05:33, 22.31it/s]"
     ]
    },
    {
     "name": "stdout",
     "output_type": "stream",
     "text": [
      "41650 0 480 0\n",
      "41650 0 480 0\n",
      "41650 0 480 0\n",
      "41650 0 480 0\n",
      "41650 0 480 0\n"
     ]
    },
    {
     "name": "stderr",
     "output_type": "stream",
     "text": [
      " 26%|██▌       | 2556/10000 [01:48<05:17, 23.44it/s]"
     ]
    },
    {
     "name": "stdout",
     "output_type": "stream",
     "text": [
      "41650 0 480 0\n",
      "41650 0 480 0\n",
      "41650 0 480 0\n",
      "35520 6130 377 103\n",
      "Number of treatment 35520\n",
      "Revenue -2588.0\n",
      "****************************************************************************************************\n",
      "41650 0 480 0\n"
     ]
    },
    {
     "name": "stderr",
     "output_type": "stream",
     "text": [
      " 26%|██▌       | 2562/10000 [01:48<05:14, 23.63it/s]"
     ]
    },
    {
     "name": "stdout",
     "output_type": "stream",
     "text": [
      "41650 0 480 0\n",
      "0 41650 0 480\n",
      "41650 0 480 0\n",
      "41650 0 480 0\n",
      "41477 173 478 2\n",
      "Number of treatment 41477\n",
      "Revenue -1461.5500000000002\n",
      "****************************************************************************************************\n"
     ]
    },
    {
     "name": "stderr",
     "output_type": "stream",
     "text": [
      "\r",
      " 26%|██▌       | 2565/10000 [01:48<05:17, 23.41it/s]"
     ]
    },
    {
     "name": "stdout",
     "output_type": "stream",
     "text": [
      "40700 950 469 11\n",
      "Number of treatment 40700\n",
      "Revenue -1525.0\n",
      "****************************************************************************************************\n",
      "41650 0 480 0\n",
      "40309 1341 465 15\n",
      "Number of treatment 40309\n",
      "Revenue -1546.3499999999995\n",
      "****************************************************************************************************\n",
      "0 41650 0 480\n",
      "41650 0 480 0\n"
     ]
    },
    {
     "name": "stderr",
     "output_type": "stream",
     "text": [
      " 26%|██▌       | 2571/10000 [01:49<05:15, 23.54it/s]"
     ]
    },
    {
     "name": "stdout",
     "output_type": "stream",
     "text": [
      "41650 0 480 0\n",
      "41208 442 472 8\n",
      "Number of treatment 41208\n",
      "Revenue -1541.1999999999998\n",
      "****************************************************************************************************\n",
      "41650 0 480 0\n",
      "41650 0 480 0\n",
      "41650 0 480 0\n",
      "41650 0 480 0\n"
     ]
    },
    {
     "name": "stderr",
     "output_type": "stream",
     "text": [
      " 26%|██▌       | 2577/10000 [01:49<05:07, 24.18it/s]"
     ]
    },
    {
     "name": "stdout",
     "output_type": "stream",
     "text": [
      "41650 0 480 0\n",
      "41650 0 480 0\n",
      "41650 0 480 0\n",
      "13879 27771 82 398\n",
      "Number of treatment 13879\n",
      "Revenue -5241.85\n",
      "****************************************************************************************************\n",
      "41650 0 480 0\n"
     ]
    },
    {
     "name": "stderr",
     "output_type": "stream",
     "text": [
      " 26%|██▌       | 2583/10000 [01:49<05:14, 23.56it/s]"
     ]
    },
    {
     "name": "stdout",
     "output_type": "stream",
     "text": [
      "41581 69 480 0\n",
      "Number of treatment 41581\n",
      "Revenue -1437.1499999999996\n",
      "****************************************************************************************************\n",
      "41650 0 480 0\n",
      "41650 0 480 0\n",
      "41650 0 480 0\n",
      "41650 0 480 0\n"
     ]
    },
    {
     "name": "stderr",
     "output_type": "stream",
     "text": [
      "\r",
      " 26%|██▌       | 2586/10000 [01:49<05:15, 23.49it/s]"
     ]
    },
    {
     "name": "stdout",
     "output_type": "stream",
     "text": [
      "41650 0 480 0\n",
      "12244 29406 72 408\n",
      "Number of treatment 12244\n",
      "Revenue -5196.6\n",
      "****************************************************************************************************\n",
      "41650 0 480 0\n",
      "41650 0 480 0\n",
      "41650 0 480 0\n"
     ]
    },
    {
     "name": "stderr",
     "output_type": "stream",
     "text": [
      " 26%|██▌       | 2592/10000 [01:49<05:16, 23.38it/s]"
     ]
    },
    {
     "name": "stdout",
     "output_type": "stream",
     "text": [
      "41650 0 480 0\n",
      "41650 0 480 0\n",
      "41650 0 480 0\n",
      "41650 0 480 0\n",
      "41650 0 480 0\n"
     ]
    },
    {
     "name": "stderr",
     "output_type": "stream",
     "text": [
      " 26%|██▌       | 2598/10000 [01:50<05:18, 23.26it/s]"
     ]
    },
    {
     "name": "stdout",
     "output_type": "stream",
     "text": [
      "26501 15149 238 242\n",
      "Number of treatment 26501\n",
      "Revenue -4015.1499999999996\n",
      "****************************************************************************************************\n",
      "41557 93 480 0\n",
      "Number of treatment 41557\n",
      "Revenue -1433.5500000000002\n",
      "****************************************************************************************************\n",
      "41650 0 480 0\n",
      "41650 0 480 0\n",
      "41650 0 480 0\n"
     ]
    },
    {
     "name": "stderr",
     "output_type": "stream",
     "text": [
      "\r",
      " 26%|██▌       | 2601/10000 [01:50<05:17, 23.31it/s]"
     ]
    },
    {
     "name": "stdout",
     "output_type": "stream",
     "text": [
      "41650 0 480 0\n",
      "41650 0 480 0\n",
      "41650 0 480 0\n",
      "41650 0 480 0\n",
      "41650 0 480 0\n"
     ]
    },
    {
     "name": "stderr",
     "output_type": "stream",
     "text": [
      " 26%|██▌       | 2607/10000 [01:50<05:21, 23.00it/s]"
     ]
    },
    {
     "name": "stdout",
     "output_type": "stream",
     "text": [
      "41650 0 480 0\n",
      "41650 0 480 0\n",
      "41650 0 480 0\n",
      "41650 0 480 0\n",
      "41650 0 480 0\n"
     ]
    },
    {
     "name": "stderr",
     "output_type": "stream",
     "text": [
      " 26%|██▌       | 2613/10000 [01:50<05:28, 22.49it/s]"
     ]
    },
    {
     "name": "stdout",
     "output_type": "stream",
     "text": [
      "41629 21 480 0\n",
      "41382 268 476 4\n",
      "Number of treatment 41382\n",
      "Revenue -1487.3000000000002\n",
      "****************************************************************************************************\n",
      "5288 36362 37 443\n",
      "Number of treatment 5288\n",
      "Revenue -4853.2\n",
      "****************************************************************************************************\n",
      "41650 0 480 0\n",
      "41650 0 480 0\n"
     ]
    },
    {
     "name": "stderr",
     "output_type": "stream",
     "text": [
      "\r",
      " 26%|██▌       | 2616/10000 [01:50<05:30, 22.32it/s]"
     ]
    },
    {
     "name": "stdout",
     "output_type": "stream",
     "text": [
      "41650 0 480 0\n",
      "41650 0 480 0\n",
      "41650 0 480 0\n",
      "41650 0 480 0\n",
      "33332 8318 348 132\n",
      "Number of treatment 33332\n",
      "Revenue -2839.8\n",
      "****************************************************************************************************\n"
     ]
    },
    {
     "name": "stderr",
     "output_type": "stream",
     "text": [
      " 26%|██▌       | 2622/10000 [01:51<05:19, 23.10it/s]"
     ]
    },
    {
     "name": "stdout",
     "output_type": "stream",
     "text": [
      "41650 0 480 0\n",
      "41650 0 480 0\n",
      "41650 0 480 0\n",
      "41650 0 480 0\n",
      "19542 22108 160 320\n",
      "Number of treatment 19542\n",
      "Revenue -4531.299999999999\n",
      "****************************************************************************************************\n"
     ]
    },
    {
     "name": "stderr",
     "output_type": "stream",
     "text": [
      " 26%|██▋       | 2628/10000 [01:51<05:16, 23.30it/s]"
     ]
    },
    {
     "name": "stdout",
     "output_type": "stream",
     "text": [
      "41650 0 480 0\n",
      "41650 0 480 0\n",
      "41650 0 480 0\n",
      "41650 0 480 0\n",
      "39554 2096 449 31\n",
      "Number of treatment 39554\n",
      "Revenue -1753.0999999999995\n",
      "****************************************************************************************************\n"
     ]
    },
    {
     "name": "stderr",
     "output_type": "stream",
     "text": [
      " 26%|██▋       | 2634/10000 [01:51<05:09, 23.81it/s]"
     ]
    },
    {
     "name": "stdout",
     "output_type": "stream",
     "text": [
      "41650 0 480 0\n",
      "41650 0 480 0\n",
      "41650 0 480 0\n",
      "33449 8201 350 130\n",
      "Number of treatment 33449\n",
      "Revenue -2817.3499999999995\n",
      "****************************************************************************************************\n",
      "17600 24050 138 342\n",
      "Number of treatment 17600\n",
      "Revenue -4680.0\n",
      "****************************************************************************************************\n",
      "41650 0 480 0\n"
     ]
    },
    {
     "name": "stderr",
     "output_type": "stream",
     "text": [
      "\r",
      " 26%|██▋       | 2637/10000 [01:51<05:09, 23.78it/s]"
     ]
    },
    {
     "name": "stdout",
     "output_type": "stream",
     "text": [
      "41650 0 480 0\n",
      "41650 0 480 0\n",
      "41650 0 480 0\n",
      "0 41650 0 480\n",
      "41650 0 480 0\n"
     ]
    },
    {
     "name": "stderr",
     "output_type": "stream",
     "text": [
      " 26%|██▋       | 2643/10000 [01:52<05:05, 24.12it/s]"
     ]
    },
    {
     "name": "stdout",
     "output_type": "stream",
     "text": [
      "41650 0 480 0\n",
      "41650 0 480 0\n",
      "41267 383 475 5\n",
      "Number of treatment 41267\n",
      "Revenue -1490.0500000000002\n",
      "****************************************************************************************************\n",
      "41650 0 480 0\n",
      "41650 0 480 0\n"
     ]
    },
    {
     "name": "stderr",
     "output_type": "stream",
     "text": [
      " 26%|██▋       | 2649/10000 [01:52<05:07, 23.87it/s]"
     ]
    },
    {
     "name": "stdout",
     "output_type": "stream",
     "text": [
      "41650 0 480 0\n",
      "41650 0 480 0\n",
      "41650 0 480 0\n",
      "41650 0 480 0\n",
      "41650 0 480 0\n"
     ]
    },
    {
     "name": "stderr",
     "output_type": "stream",
     "text": [
      "\r",
      " 27%|██▋       | 2652/10000 [01:52<05:09, 23.72it/s]"
     ]
    },
    {
     "name": "stdout",
     "output_type": "stream",
     "text": [
      "41650 0 480 0\n",
      "41647 3 480 0\n",
      "41650 0 480 0\n",
      "41650 0 480 0\n",
      "41650 0 480 0\n"
     ]
    },
    {
     "name": "stderr",
     "output_type": "stream",
     "text": [
      " 27%|██▋       | 2658/10000 [01:52<05:15, 23.27it/s]"
     ]
    },
    {
     "name": "stdout",
     "output_type": "stream",
     "text": [
      "2155 39495 17 463\n",
      "Number of treatment 2155\n",
      "Revenue -4783.25\n",
      "****************************************************************************************************\n",
      "41650 0 480 0\n",
      "37404 4246 404 76\n",
      "Number of treatment 37404\n",
      "Revenue -2330.5999999999995\n",
      "****************************************************************************************************\n",
      "8439 33211 55 425\n",
      "Number of treatment 8439\n",
      "Revenue -4965.85\n",
      "****************************************************************************************************\n",
      "0 41650 0 480\n"
     ]
    },
    {
     "name": "stderr",
     "output_type": "stream",
     "text": [
      " 27%|██▋       | 2664/10000 [01:53<05:18, 23.05it/s]"
     ]
    },
    {
     "name": "stdout",
     "output_type": "stream",
     "text": [
      "41650 0 480 0\n",
      "33169 8481 344 136\n",
      "Number of treatment 33169\n",
      "Revenue -2895.3499999999995\n",
      "****************************************************************************************************\n",
      "41650 0 480 0\n",
      "41650 0 480 0\n",
      "41650 0 480 0\n"
     ]
    },
    {
     "name": "stderr",
     "output_type": "stream",
     "text": [
      "\r",
      " 27%|██▋       | 2667/10000 [01:53<05:23, 22.68it/s]"
     ]
    },
    {
     "name": "stdout",
     "output_type": "stream",
     "text": [
      "41650 0 480 0\n",
      "33542 8108 350 130\n",
      "Number of treatment 33542\n",
      "Revenue -2831.3\n",
      "****************************************************************************************************\n",
      "1488 40162 14 466\n",
      "Number of treatment 1488\n",
      "Revenue -4743.2\n",
      "****************************************************************************************************\n",
      "41220 430 472 8\n",
      "Number of treatment 41220\n",
      "Revenue -1543.0\n",
      "****************************************************************************************************\n",
      "41650 0 480 0\n"
     ]
    },
    {
     "name": "stderr",
     "output_type": "stream",
     "text": [
      " 27%|██▋       | 2673/10000 [01:53<05:21, 22.77it/s]"
     ]
    },
    {
     "name": "stdout",
     "output_type": "stream",
     "text": [
      "41650 0 480 0\n",
      "41650 0 480 0\n",
      "41650 0 480 0\n",
      "41650 0 480 0\n",
      "41650 0 480 0\n"
     ]
    },
    {
     "name": "stderr",
     "output_type": "stream",
     "text": [
      " 27%|██▋       | 2679/10000 [01:53<05:28, 22.29it/s]"
     ]
    },
    {
     "name": "stdout",
     "output_type": "stream",
     "text": [
      "14235 27415 88 392\n",
      "Number of treatment 14235\n",
      "Revenue -5175.25\n",
      "****************************************************************************************************\n",
      "41650 0 480 0\n",
      "41480 170 478 2\n",
      "Number of treatment 41480\n",
      "Revenue -1462.0\n",
      "****************************************************************************************************\n",
      "41650 0 480 0\n",
      "41650 0 480 0\n"
     ]
    },
    {
     "name": "stderr",
     "output_type": "stream",
     "text": [
      "\r",
      " 27%|██▋       | 2682/10000 [01:53<05:29, 22.19it/s]"
     ]
    },
    {
     "name": "stdout",
     "output_type": "stream",
     "text": [
      "0 41650 0 480\n",
      "41650 0 480 0\n",
      "16725 24925 121 359\n",
      "Number of treatment 16725\n",
      "Revenue -4888.75\n",
      "****************************************************************************************************\n",
      "41650 0 480 0\n",
      "41650 0 480 0\n"
     ]
    },
    {
     "name": "stderr",
     "output_type": "stream",
     "text": [
      " 27%|██▋       | 2688/10000 [01:54<05:24, 22.56it/s]"
     ]
    },
    {
     "name": "stdout",
     "output_type": "stream",
     "text": [
      "41650 0 480 0\n",
      "41650 0 480 0\n",
      "41650 0 480 0\n",
      "9628 32022 57 423\n",
      "Number of treatment 9628\n",
      "Revenue -5104.2\n",
      "****************************************************************************************************\n",
      "41650 0 480 0\n"
     ]
    },
    {
     "name": "stderr",
     "output_type": "stream",
     "text": [
      " 27%|██▋       | 2694/10000 [01:54<05:21, 22.74it/s]"
     ]
    },
    {
     "name": "stdout",
     "output_type": "stream",
     "text": [
      "41650 0 480 0\n",
      "41650 0 480 0\n",
      "4591 37059 29 451\n",
      "Number of treatment 4591\n",
      "Revenue -4908.65\n",
      "****************************************************************************************************\n",
      "0 41650 0 480\n",
      "0 41650 0 480\n"
     ]
    },
    {
     "name": "stderr",
     "output_type": "stream",
     "text": [
      "\r",
      " 27%|██▋       | 2697/10000 [01:54<05:22, 22.63it/s]"
     ]
    },
    {
     "name": "stdout",
     "output_type": "stream",
     "text": [
      "41650 0 480 0\n",
      "41650 0 480 0\n",
      "41650 0 480 0\n",
      "41650 0 480 0\n",
      "41650 0 480 0\n"
     ]
    },
    {
     "name": "stderr",
     "output_type": "stream",
     "text": [
      " 27%|██▋       | 2703/10000 [01:54<05:15, 23.13it/s]"
     ]
    },
    {
     "name": "stdout",
     "output_type": "stream",
     "text": [
      "31169 10481 308 172\n",
      "Number of treatment 31169\n",
      "Revenue -3315.3499999999995\n",
      "****************************************************************************************************\n",
      "41650 0 480 0\n",
      "41650 0 480 0\n",
      "41650 0 480 0\n",
      "41650 0 480 0\n"
     ]
    },
    {
     "name": "stderr",
     "output_type": "stream",
     "text": [
      " 27%|██▋       | 2709/10000 [01:54<05:14, 23.19it/s]"
     ]
    },
    {
     "name": "stdout",
     "output_type": "stream",
     "text": [
      "41650 0 480 0\n",
      "7505 34145 50 430\n",
      "Number of treatment 7505\n",
      "Revenue -4925.75\n",
      "****************************************************************************************************\n",
      "41650 0 480 0\n",
      "41650 0 480 0\n",
      "41650 0 480 0\n"
     ]
    },
    {
     "name": "stderr",
     "output_type": "stream",
     "text": [
      "\r",
      " 27%|██▋       | 2712/10000 [01:55<05:08, 23.59it/s]"
     ]
    },
    {
     "name": "stdout",
     "output_type": "stream",
     "text": [
      "41650 0 480 0\n",
      "41650 0 480 0\n",
      "41650 0 480 0\n",
      "41650 0 480 0\n",
      "41650 0 480 0\n"
     ]
    },
    {
     "name": "stderr",
     "output_type": "stream",
     "text": [
      " 27%|██▋       | 2718/10000 [01:55<05:06, 23.76it/s]"
     ]
    },
    {
     "name": "stdout",
     "output_type": "stream",
     "text": [
      "21087 20563 176 304\n",
      "1 41649 0 480\n",
      "Number of treatment 1\n",
      "Revenue -4800.15\n",
      "****************************************************************************************************\n",
      "41650 0 480 0\n",
      "41650 0 480 0\n",
      "41375 275 476 4\n",
      "Number of treatment 41375\n",
      "Revenue -1486.25\n",
      "****************************************************************************************************\n"
     ]
    },
    {
     "name": "stderr",
     "output_type": "stream",
     "text": [
      " 27%|██▋       | 2724/10000 [01:55<04:56, 24.54it/s]"
     ]
    },
    {
     "name": "stdout",
     "output_type": "stream",
     "text": [
      "0 41650 0 480\n",
      "41650 0 480 0\n",
      "41650 0 480 0\n",
      "41650 0 480 0\n",
      "41650 0 480 0\n",
      "41650 0 480 0\n"
     ]
    },
    {
     "name": "stderr",
     "output_type": "stream",
     "text": [
      " 27%|██▋       | 2730/10000 [01:55<04:59, 24.29it/s]"
     ]
    },
    {
     "name": "stdout",
     "output_type": "stream",
     "text": [
      "41650 0 480 0\n",
      "0 41650 0 480\n",
      "41649 1 480 0\n",
      "41650 0 480 0\n",
      "41650 0 480 0\n"
     ]
    },
    {
     "name": "stderr",
     "output_type": "stream",
     "text": [
      "\r",
      " 27%|██▋       | 2733/10000 [01:55<05:08, 23.54it/s]"
     ]
    },
    {
     "name": "stdout",
     "output_type": "stream",
     "text": [
      "0 41650 0 480\n",
      "41650 0 480 0\n",
      "41650 0 480 0\n",
      "41650 0 480 0\n",
      "41650 0 480 0\n"
     ]
    },
    {
     "name": "stderr",
     "output_type": "stream",
     "text": [
      " 27%|██▋       | 2739/10000 [01:56<05:19, 22.75it/s]"
     ]
    },
    {
     "name": "stdout",
     "output_type": "stream",
     "text": [
      "41650 0 480 0\n",
      "13448 28202 77 403\n",
      "Number of treatment 13448\n",
      "Revenue -5277.2\n",
      "****************************************************************************************************\n",
      "41650 0 480 0\n",
      "41650 0 480 0\n",
      "41650 0 480 0\n"
     ]
    },
    {
     "name": "stderr",
     "output_type": "stream",
     "text": [
      " 27%|██▋       | 2745/10000 [01:56<05:04, 23.79it/s]"
     ]
    },
    {
     "name": "stdout",
     "output_type": "stream",
     "text": [
      "41650 0 480 0\n",
      "41650 0 480 0\n",
      "41650 0 480 0\n",
      "41650 0 480 0\n",
      "0 41650 0 480\n",
      "41650 0 480 0\n"
     ]
    },
    {
     "name": "stderr",
     "output_type": "stream",
     "text": [
      " 28%|██▊       | 2751/10000 [01:56<05:06, 23.68it/s]"
     ]
    },
    {
     "name": "stdout",
     "output_type": "stream",
     "text": [
      "28779 12871 274 206\n",
      "Number of treatment 28779\n",
      "Revenue -3636.8499999999995\n",
      "****************************************************************************************************\n",
      "41650 0 480 0\n",
      "41639 11 480 0\n",
      "41650 0 480 0\n",
      "41650 0 480 0\n"
     ]
    },
    {
     "name": "stderr",
     "output_type": "stream",
     "text": [
      "\r",
      " 28%|██▊       | 2754/10000 [01:56<05:16, 22.93it/s]"
     ]
    },
    {
     "name": "stdout",
     "output_type": "stream",
     "text": [
      "41650 0 480 0\n",
      "16022 25628 111 369\n",
      "Number of treatment 16022\n",
      "Revenue -4983.299999999999\n",
      "****************************************************************************************************\n",
      "41650 0 480 0\n",
      "41366 284 476 4\n",
      "Number of treatment 41366\n",
      "Revenue -1484.8999999999996\n",
      "****************************************************************************************************\n",
      "41650 0 480 0\n"
     ]
    },
    {
     "name": "stderr",
     "output_type": "stream",
     "text": [
      " 28%|██▊       | 2760/10000 [01:57<05:13, 23.13it/s]"
     ]
    },
    {
     "name": "stdout",
     "output_type": "stream",
     "text": [
      "0 41650 0 480\n",
      "41650 0 480 0\n",
      "41650 0 480 0\n",
      "41650 0 480 0\n",
      "40966 684 471 9\n",
      "Number of treatment 40966\n",
      "Revenue -1524.8999999999996\n",
      "****************************************************************************************************\n"
     ]
    },
    {
     "name": "stderr",
     "output_type": "stream",
     "text": [
      " 28%|██▊       | 2766/10000 [01:57<05:13, 23.06it/s]"
     ]
    },
    {
     "name": "stdout",
     "output_type": "stream",
     "text": [
      "41650 0 480 0\n",
      "41650 0 480 0\n",
      "41650 0 480 0\n",
      "41650 0 480 0\n",
      "41650 0 480 0\n"
     ]
    },
    {
     "name": "stderr",
     "output_type": "stream",
     "text": [
      "\r",
      " 28%|██▊       | 2769/10000 [01:57<05:08, 23.40it/s]"
     ]
    },
    {
     "name": "stdout",
     "output_type": "stream",
     "text": [
      "41650 0 480 0\n",
      "41650 0 480 0\n",
      "41650 0 480 0\n",
      "41650 0 480 0\n",
      "41650 0 480 0\n"
     ]
    },
    {
     "name": "stderr",
     "output_type": "stream",
     "text": [
      " 28%|██▊       | 2775/10000 [01:57<05:12, 23.15it/s]"
     ]
    },
    {
     "name": "stdout",
     "output_type": "stream",
     "text": [
      "41650 0 480 0\n",
      "41650 0 480 0\n",
      "36903 4747 398 82\n",
      "Number of treatment 36903\n",
      "Revenue -2375.45\n",
      "****************************************************************************************************\n",
      "22432 19218 189 291\n",
      "Number of treatment 22432\n",
      "Revenue -4384.799999999999\n",
      "****************************************************************************************************\n",
      "41650 0 480 0\n"
     ]
    },
    {
     "name": "stderr",
     "output_type": "stream",
     "text": [
      " 28%|██▊       | 2781/10000 [01:58<05:15, 22.91it/s]"
     ]
    },
    {
     "name": "stdout",
     "output_type": "stream",
     "text": [
      "41650 0 480 0\n",
      "0 41650 0 480\n",
      "54 41596 0 480\n",
      "Number of treatment 54\n",
      "Revenue -4808.1\n",
      "****************************************************************************************************\n",
      "15953 25697 109 371\n",
      "Number of treatment 15953\n",
      "Revenue -5012.95\n",
      "****************************************************************************************************\n",
      "41650 0 480 0\n"
     ]
    },
    {
     "name": "stderr",
     "output_type": "stream",
     "text": [
      "\r",
      " 28%|██▊       | 2784/10000 [01:58<05:13, 23.05it/s]"
     ]
    },
    {
     "name": "stdout",
     "output_type": "stream",
     "text": [
      "11960 29690 69 411\n",
      "Number of treatment 11960\n",
      "Revenue -5214.0\n",
      "****************************************************************************************************\n",
      "0 41650 0 480\n",
      "41650 0 480 0\n",
      "14413 27237 90 390\n",
      "Number of treatment 14413\n",
      "Revenue -5161.95\n",
      "****************************************************************************************************\n",
      "41650 0 480 0\n"
     ]
    },
    {
     "name": "stderr",
     "output_type": "stream",
     "text": [
      " 28%|██▊       | 2790/10000 [01:58<05:22, 22.35it/s]"
     ]
    },
    {
     "name": "stdout",
     "output_type": "stream",
     "text": [
      "41650 0 480 0\n",
      "41650 0 480 0\n",
      "41650 0 480 0\n",
      "38136 3514 421 59\n",
      "Number of treatment 38136\n",
      "Revenue -2100.3999999999996\n",
      "****************************************************************************************************\n",
      "41650 0 480 0\n"
     ]
    },
    {
     "name": "stderr",
     "output_type": "stream",
     "text": [
      " 28%|██▊       | 2796/10000 [01:58<05:06, 23.51it/s]"
     ]
    },
    {
     "name": "stdout",
     "output_type": "stream",
     "text": [
      "0 41650 0 480\n",
      "41650 0 480 0\n",
      "41650 0 480 0\n",
      "18985 22665 153 327\n",
      "41650 0 480 0\n"
     ]
    },
    {
     "name": "stderr",
     "output_type": "stream",
     "text": [
      "\r",
      " 28%|██▊       | 2799/10000 [01:58<05:05, 23.58it/s]"
     ]
    },
    {
     "name": "stdout",
     "output_type": "stream",
     "text": [
      "40125 1525 459 21\n",
      "Number of treatment 40125\n",
      "Revenue -1638.75\n",
      "****************************************************************************************************\n",
      "41650 0 480 0\n",
      "41650 0 480 0\n",
      "41650 0 480 0\n",
      "41650 0 480 0\n"
     ]
    },
    {
     "name": "stderr",
     "output_type": "stream",
     "text": [
      " 28%|██▊       | 2805/10000 [01:59<05:09, 23.24it/s]"
     ]
    },
    {
     "name": "stdout",
     "output_type": "stream",
     "text": [
      "41611 39 480 0\n",
      "Number of treatment 41611\n",
      "Revenue -1441.6499999999996\n",
      "****************************************************************************************************\n",
      "41650 0 480 0\n",
      "41650 0 480 0\n",
      "41650 0 480 0\n",
      "41650 0 480 0\n"
     ]
    },
    {
     "name": "stderr",
     "output_type": "stream",
     "text": [
      " 28%|██▊       | 2811/10000 [01:59<05:02, 23.80it/s]"
     ]
    },
    {
     "name": "stdout",
     "output_type": "stream",
     "text": [
      "41650 0 480 0\n",
      "41650 0 480 0\n",
      "41650 0 480 0\n",
      "14 41636 0 480\n",
      "Number of treatment 14\n",
      "Revenue -4802.1\n",
      "****************************************************************************************************\n",
      "13538 28112 78 402\n",
      "Number of treatment 13538\n",
      "Revenue -5270.7\n",
      "****************************************************************************************************\n"
     ]
    },
    {
     "name": "stderr",
     "output_type": "stream",
     "text": [
      " 28%|██▊       | 2817/10000 [01:59<04:55, 24.32it/s]"
     ]
    },
    {
     "name": "stdout",
     "output_type": "stream",
     "text": [
      "41650 0 480 0\n",
      "0 41650 0 480\n",
      "41650 0 480 0\n",
      "0 41650 0 480\n",
      "41650 0 480 0\n",
      "41650 0 480 0\n"
     ]
    },
    {
     "name": "stderr",
     "output_type": "stream",
     "text": [
      "\r",
      " 28%|██▊       | 2820/10000 [01:59<04:57, 24.09it/s]"
     ]
    },
    {
     "name": "stdout",
     "output_type": "stream",
     "text": [
      "41650 0 480 0\n",
      "41650 0 480 0\n",
      "0 41650 0 480\n",
      "15891 25759 107 373\n",
      "Number of treatment 15891\n",
      "Revenue -5043.65\n",
      "****************************************************************************************************\n",
      "41650 0 480 0\n"
     ]
    },
    {
     "name": "stderr",
     "output_type": "stream",
     "text": [
      " 28%|██▊       | 2826/10000 [01:59<05:03, 23.66it/s]"
     ]
    },
    {
     "name": "stdout",
     "output_type": "stream",
     "text": [
      "9165 32485 56 424\n",
      "Number of treatment 9165\n",
      "Revenue -5054.75\n",
      "****************************************************************************************************\n",
      "41650 0 480 0\n",
      "41647 3 480 0\n",
      "41650 0 480 0\n",
      "41650 0 480 0\n"
     ]
    },
    {
     "name": "stderr",
     "output_type": "stream",
     "text": [
      " 28%|██▊       | 2832/10000 [02:00<04:53, 24.40it/s]"
     ]
    },
    {
     "name": "stdout",
     "output_type": "stream",
     "text": [
      "3901 37749 24 456\n",
      "Number of treatment 3901\n",
      "Revenue -4905.15\n",
      "****************************************************************************************************\n",
      "41650 0 480 0\n",
      "0 41650 0 480\n",
      "41650 0 480 0\n",
      "41650 0 480 0\n"
     ]
    },
    {
     "name": "stderr",
     "output_type": "stream",
     "text": [
      "\r",
      " 28%|██▊       | 2835/10000 [02:00<04:57, 24.08it/s]"
     ]
    },
    {
     "name": "stdout",
     "output_type": "stream",
     "text": [
      "41650 0 480 0\n",
      "41650 0 480 0\n",
      "41650 0 480 0\n",
      "41650 0 480 0\n",
      "41650 0 480 0\n"
     ]
    },
    {
     "name": "stderr",
     "output_type": "stream",
     "text": [
      " 28%|██▊       | 2841/10000 [02:00<04:55, 24.22it/s]"
     ]
    },
    {
     "name": "stdout",
     "output_type": "stream",
     "text": [
      "41650 0 480 0\n",
      "41650 0 480 0\n",
      "24105 17545 212 268\n",
      "Number of treatment 24105\n",
      "Revenue -4175.75\n",
      "****************************************************************************************************\n",
      "41650 0 480 0\n",
      "41650 0 480 0\n"
     ]
    },
    {
     "name": "stderr",
     "output_type": "stream",
     "text": [
      " 28%|██▊       | 2847/10000 [02:00<05:18, 22.46it/s]"
     ]
    },
    {
     "name": "stdout",
     "output_type": "stream",
     "text": [
      "41650 0 480 0\n",
      "41650 0 480 0\n",
      "41650 0 480 0\n",
      "41650 0 480 0\n",
      "41650 0 480 0\n"
     ]
    },
    {
     "name": "stderr",
     "output_type": "stream",
     "text": [
      " 29%|██▊       | 2853/10000 [02:01<05:03, 23.53it/s]"
     ]
    },
    {
     "name": "stdout",
     "output_type": "stream",
     "text": [
      "41650 0 480 0\n",
      "41650 0 480 0\n",
      "41650 0 480 0\n",
      "41650 0 480 0\n",
      "41650 0 480 0\n",
      "41650 0 480 0\n"
     ]
    },
    {
     "name": "stderr",
     "output_type": "stream",
     "text": [
      " 29%|██▊       | 2859/10000 [02:01<04:53, 24.37it/s]"
     ]
    },
    {
     "name": "stdout",
     "output_type": "stream",
     "text": [
      "41650 0 480 0\n",
      "41650 0 480 0\n",
      "41650 0 480 0\n",
      "41650 0 480 0\n",
      "41650 0 480 0\n",
      "41650 0 480 0\n"
     ]
    },
    {
     "name": "stderr",
     "output_type": "stream",
     "text": [
      " 29%|██▊       | 2865/10000 [02:01<04:50, 24.56it/s]"
     ]
    },
    {
     "name": "stdout",
     "output_type": "stream",
     "text": [
      "41650 0 480 0\n",
      "24185 17465 214 266\n",
      "Number of treatment 24185\n",
      "Revenue -4147.75\n",
      "****************************************************************************************************\n",
      "41650 0 480 0\n",
      "41650 0 480 0\n",
      "41650 0 480 0\n",
      "41650 0 480 0\n"
     ]
    },
    {
     "name": "stderr",
     "output_type": "stream",
     "text": [
      "\r",
      " 29%|██▊       | 2868/10000 [02:01<04:50, 24.55it/s]"
     ]
    },
    {
     "name": "stdout",
     "output_type": "stream",
     "text": [
      "41650 0 480 0\n",
      "41650 0 480 0\n",
      "41650 0 480 0\n",
      "41650 0 480 0\n",
      "4278 37372 29 451\n",
      "Number of treatment 4278\n",
      "Revenue -4861.7\n",
      "****************************************************************************************************\n"
     ]
    },
    {
     "name": "stderr",
     "output_type": "stream",
     "text": [
      " 29%|██▊       | 2874/10000 [02:01<04:57, 23.92it/s]"
     ]
    },
    {
     "name": "stdout",
     "output_type": "stream",
     "text": [
      "41650 0 480 0\n",
      "41650 0 480 0\n",
      "13418 28232 77 403\n",
      "Number of treatment 13418\n",
      "Revenue -5272.7\n",
      "****************************************************************************************************\n",
      "41650 0 480 0\n",
      "1367 40283 13 467\n",
      "Number of treatment 1367\n",
      "Revenue -4745.05\n",
      "****************************************************************************************************\n"
     ]
    },
    {
     "name": "stderr",
     "output_type": "stream",
     "text": [
      " 29%|██▉       | 2880/10000 [02:02<05:04, 23.39it/s]"
     ]
    },
    {
     "name": "stdout",
     "output_type": "stream",
     "text": [
      "41650 0 480 0\n",
      "41650 0 480 0\n",
      "41650 0 480 0\n",
      "41650 0 480 0\n",
      "41650 0 480 0\n"
     ]
    },
    {
     "name": "stderr",
     "output_type": "stream",
     "text": [
      " 29%|██▉       | 2886/10000 [02:02<04:49, 24.59it/s]"
     ]
    },
    {
     "name": "stdout",
     "output_type": "stream",
     "text": [
      "41638 12 480 0\n",
      "Number of treatment 41638\n",
      "Revenue -1445.6999999999998\n",
      "****************************************************************************************************\n",
      "41650 0 480 0\n",
      "41650 0 480 0\n",
      "41650 0 480 0\n",
      "41650 0 480 0\n",
      "41650 0 480 0\n"
     ]
    },
    {
     "name": "stderr",
     "output_type": "stream",
     "text": [
      "\r",
      " 29%|██▉       | 2889/10000 [02:02<04:55, 24.03it/s]"
     ]
    },
    {
     "name": "stdout",
     "output_type": "stream",
     "text": [
      "18402 23248 146 334\n",
      "Number of treatment 18402\n",
      "Revenue -4640.299999999999\n",
      "****************************************************************************************************\n",
      "0 41650 0 480\n",
      "41650 0 480 0\n",
      "41650 0 480 0\n",
      "0 41650 0 480\n"
     ]
    },
    {
     "name": "stderr",
     "output_type": "stream",
     "text": [
      " 29%|██▉       | 2895/10000 [02:02<04:54, 24.09it/s]"
     ]
    },
    {
     "name": "stdout",
     "output_type": "stream",
     "text": [
      "12697 28953 74 406\n",
      "Number of treatment 12697\n",
      "Revenue -5224.55\n",
      "****************************************************************************************************\n",
      "41650 0 480 0\n",
      "12192 29458 71 409\n",
      "Number of treatment 12192\n",
      "Revenue -5208.8\n",
      "****************************************************************************************************\n",
      "15113 26537 95 385\n",
      "Number of treatment 15113\n",
      "Revenue -5166.95\n",
      "****************************************************************************************************\n",
      "41650 0 480 0\n"
     ]
    },
    {
     "name": "stderr",
     "output_type": "stream",
     "text": [
      " 29%|██▉       | 2901/10000 [02:03<05:11, 22.81it/s]"
     ]
    },
    {
     "name": "stdout",
     "output_type": "stream",
     "text": [
      "41650 0 480 0\n",
      "41650 0 480 0\n",
      "41650 0 480 0\n",
      "41650 0 480 0\n",
      "34930 6720 373 107\n",
      "Number of treatment 34930\n",
      "Revenue -2579.5\n",
      "****************************************************************************************************\n"
     ]
    },
    {
     "name": "stderr",
     "output_type": "stream",
     "text": [
      "\r",
      " 29%|██▉       | 2904/10000 [02:03<05:22, 21.99it/s]"
     ]
    },
    {
     "name": "stdout",
     "output_type": "stream",
     "text": [
      "41650 0 480 0\n",
      "39149 2501 439 41\n",
      "Number of treatment 39149\n",
      "Revenue -1892.3499999999995\n",
      "****************************************************************************************************\n",
      "41650 0 480 0\n",
      "0 41650 0 480\n",
      "41650 0 480 0\n"
     ]
    },
    {
     "name": "stderr",
     "output_type": "stream",
     "text": [
      " 29%|██▉       | 2910/10000 [02:03<05:21, 22.04it/s]"
     ]
    },
    {
     "name": "stdout",
     "output_type": "stream",
     "text": [
      "41650 0 480 0\n",
      "41650 0 480 0\n",
      "0 41650 0 480\n",
      "41650 0 480 0\n",
      "41650 0 480 0\n"
     ]
    },
    {
     "name": "stderr",
     "output_type": "stream",
     "text": [
      " 29%|██▉       | 2916/10000 [02:03<05:09, 22.88it/s]"
     ]
    },
    {
     "name": "stdout",
     "output_type": "stream",
     "text": [
      "41650 0 480 0\n",
      "41650 0 480 0\n",
      "41650 0 480 0\n",
      "41650 0 480 0\n",
      "39965 1685 457 23\n",
      "Number of treatment 39965\n",
      "Revenue -1654.75\n",
      "****************************************************************************************************\n"
     ]
    },
    {
     "name": "stderr",
     "output_type": "stream",
     "text": [
      "\r",
      " 29%|██▉       | 2919/10000 [02:03<05:26, 21.71it/s]"
     ]
    },
    {
     "name": "stdout",
     "output_type": "stream",
     "text": [
      "41650 0 480 0\n",
      "41650 0 480 0\n",
      "41650 0 480 0\n",
      "37143 4507 401 79\n",
      "Number of treatment 37143\n",
      "Revenue -2351.45\n",
      "****************************************************************************************************\n",
      "41650 0 480 0\n"
     ]
    },
    {
     "name": "stderr",
     "output_type": "stream",
     "text": [
      " 29%|██▉       | 2925/10000 [02:04<05:22, 21.92it/s]"
     ]
    },
    {
     "name": "stdout",
     "output_type": "stream",
     "text": [
      "37222 4428 402 78\n",
      "Number of treatment 37222\n",
      "Revenue -2343.3\n",
      "****************************************************************************************************\n",
      "35735 5915 380 100\n",
      "Number of treatment 35735\n",
      "Revenue -2560.25\n",
      "****************************************************************************************************\n",
      "40592 1058 467 13\n",
      "Number of treatment 40592\n",
      "Revenue -1548.8000000000002\n",
      "****************************************************************************************************\n",
      "41650 0 480 0\n",
      "41650 0 480 0\n"
     ]
    },
    {
     "name": "stderr",
     "output_type": "stream",
     "text": [
      " 29%|██▉       | 2931/10000 [02:04<05:17, 22.28it/s]"
     ]
    },
    {
     "name": "stdout",
     "output_type": "stream",
     "text": [
      "41650 0 480 0\n",
      "41648 2 480 0\n",
      "41650 0 480 0\n",
      "41650 0 480 0\n",
      "41650 0 480 0\n"
     ]
    },
    {
     "name": "stderr",
     "output_type": "stream",
     "text": [
      "\r",
      " 29%|██▉       | 2934/10000 [02:04<05:13, 22.57it/s]"
     ]
    },
    {
     "name": "stdout",
     "output_type": "stream",
     "text": [
      "41650 0 480 0\n",
      "41650 0 480 0\n",
      "41650 0 480 0\n",
      "41650 0 480 0\n",
      "41650 0 480 0\n"
     ]
    },
    {
     "name": "stderr",
     "output_type": "stream",
     "text": [
      " 29%|██▉       | 2940/10000 [02:04<05:13, 22.49it/s]"
     ]
    },
    {
     "name": "stdout",
     "output_type": "stream",
     "text": [
      "25873 15777 231 249\n",
      "Number of treatment 25873\n",
      "Revenue -4060.95\n",
      "****************************************************************************************************\n",
      "41599 51 480 0\n",
      "41650 0 480 0\n",
      "41650 0 480 0\n",
      "41650 0 480 0\n"
     ]
    },
    {
     "name": "stderr",
     "output_type": "stream",
     "text": [
      " 29%|██▉       | 2946/10000 [02:05<05:08, 22.90it/s]"
     ]
    },
    {
     "name": "stdout",
     "output_type": "stream",
     "text": [
      "41650 0 480 0\n",
      "41650 0 480 0\n",
      "41618 32 480 0\n",
      "1564 40086 14 466\n",
      "Number of treatment 1564\n",
      "Revenue -4754.6\n",
      "****************************************************************************************************\n",
      "0 41650 0 480\n"
     ]
    },
    {
     "name": "stderr",
     "output_type": "stream",
     "text": [
      "\r",
      " 29%|██▉       | 2949/10000 [02:05<05:08, 22.84it/s]"
     ]
    },
    {
     "name": "stdout",
     "output_type": "stream",
     "text": [
      "41650 0 480 0\n",
      "41650 0 480 0\n",
      "41650 0 480 0\n",
      "39928 1722 456 24\n",
      "Number of treatment 39928\n",
      "Revenue -1669.1999999999998\n",
      "****************************************************************************************************\n",
      "41650 0 480 0\n"
     ]
    },
    {
     "name": "stderr",
     "output_type": "stream",
     "text": [
      " 30%|██▉       | 2955/10000 [02:05<05:10, 22.71it/s]"
     ]
    },
    {
     "name": "stdout",
     "output_type": "stream",
     "text": [
      "41650 0 480 0\n",
      "18502 23148 147 333\n",
      "13377 28273 77 403\n",
      "41650 0 480 0\n",
      "41650 0 480 0\n"
     ]
    },
    {
     "name": "stderr",
     "output_type": "stream",
     "text": [
      " 30%|██▉       | 2961/10000 [02:05<04:56, 23.74it/s]"
     ]
    },
    {
     "name": "stdout",
     "output_type": "stream",
     "text": [
      "41650 0 480 0\n",
      "41650 0 480 0\n",
      "41650 0 480 0\n",
      "41650 0 480 0\n",
      "39077 2573 439 41\n",
      "Number of treatment 39077\n",
      "Revenue -1881.5500000000002\n",
      "****************************************************************************************************\n"
     ]
    },
    {
     "name": "stderr",
     "output_type": "stream",
     "text": [
      "\r",
      " 30%|██▉       | 2964/10000 [02:05<04:59, 23.47it/s]"
     ]
    },
    {
     "name": "stdout",
     "output_type": "stream",
     "text": [
      "41650 0 480 0\n",
      "41650 0 480 0\n",
      "41650 0 480 0\n",
      "41650 0 480 0\n",
      "41650 0 480 0\n"
     ]
    },
    {
     "name": "stderr",
     "output_type": "stream",
     "text": [
      " 30%|██▉       | 2970/10000 [02:06<05:02, 23.25it/s]"
     ]
    },
    {
     "name": "stdout",
     "output_type": "stream",
     "text": [
      "748 40902 5 475\n",
      "Number of treatment 748\n",
      "Revenue -4812.2\n",
      "****************************************************************************************************\n",
      "41650 0 480 0\n",
      "41650 0 480 0\n",
      "14268 27382 89 391\n",
      "Number of treatment 14268\n",
      "Revenue -5160.2\n",
      "****************************************************************************************************\n",
      "13255 28395 76 404\n",
      "Number of treatment 13255\n",
      "Revenue -5268.25\n",
      "****************************************************************************************************\n"
     ]
    },
    {
     "name": "stderr",
     "output_type": "stream",
     "text": [
      " 30%|██▉       | 2976/10000 [02:06<05:04, 23.09it/s]"
     ]
    },
    {
     "name": "stdout",
     "output_type": "stream",
     "text": [
      "41650 0 480 0\n",
      "41650 0 480 0\n",
      "41650 0 480 0\n",
      "41650 0 480 0\n",
      "41650 0 480 0\n"
     ]
    },
    {
     "name": "stderr",
     "output_type": "stream",
     "text": [
      " 30%|██▉       | 2982/10000 [02:06<04:52, 23.96it/s]"
     ]
    },
    {
     "name": "stdout",
     "output_type": "stream",
     "text": [
      "41650 0 480 0\n",
      "41650 0 480 0\n",
      "41650 0 480 0\n",
      "41650 0 480 0\n",
      "0 41650 0 480\n",
      "41650 0 480 0\n"
     ]
    },
    {
     "name": "stderr",
     "output_type": "stream",
     "text": [
      "\r",
      " 30%|██▉       | 2985/10000 [02:06<04:59, 23.45it/s]"
     ]
    },
    {
     "name": "stdout",
     "output_type": "stream",
     "text": [
      "41650 0 480 0\n",
      "41650 0 480 0\n",
      "41650 0 480 0\n",
      "41650 0 480 0\n",
      "41650 0 480 0\n"
     ]
    },
    {
     "name": "stderr",
     "output_type": "stream",
     "text": [
      " 30%|██▉       | 2991/10000 [02:07<04:50, 24.13it/s]"
     ]
    },
    {
     "name": "stdout",
     "output_type": "stream",
     "text": [
      "41650 0 480 0\n",
      "12987 28663 75 405\n",
      "Number of treatment 12987\n",
      "Revenue -5248.05\n",
      "****************************************************************************************************\n",
      "41648 2 480 0\n",
      "41650 0 480 0\n",
      "41650 0 480 0\n",
      "41650 0 480 0\n"
     ]
    },
    {
     "name": "stderr",
     "output_type": "stream",
     "text": [
      " 30%|██▉       | 2997/10000 [02:07<04:40, 24.99it/s]"
     ]
    },
    {
     "name": "stdout",
     "output_type": "stream",
     "text": [
      "41650 0 480 0\n",
      "41650 0 480 0\n",
      "41650 0 480 0\n",
      "41650 0 480 0\n",
      "0 41650 0 480\n"
     ]
    },
    {
     "name": "stderr",
     "output_type": "stream",
     "text": [
      " 30%|███       | 3003/10000 [02:07<04:44, 24.57it/s]"
     ]
    },
    {
     "name": "stdout",
     "output_type": "stream",
     "text": [
      "40305 1345 465 15\n",
      "Number of treatment 40305\n",
      "Revenue -1545.75\n",
      "****************************************************************************************************\n",
      "41650 0 480 0\n",
      "41650 0 480 0\n",
      "41650 0 480 0\n",
      "41650 0 480 0\n"
     ]
    },
    {
     "name": "stderr",
     "output_type": "stream",
     "text": [
      " 30%|███       | 3009/10000 [02:07<04:41, 24.87it/s]"
     ]
    },
    {
     "name": "stdout",
     "output_type": "stream",
     "text": [
      "0 41650 0 480\n",
      "41650 0 480 0\n",
      "41650 0 480 0\n",
      "41650 0 480 0\n",
      "41650 0 480 0\n",
      "41650 0 480 0\n"
     ]
    },
    {
     "name": "stderr",
     "output_type": "stream",
     "text": [
      " 30%|███       | 3015/10000 [02:08<04:39, 25.00it/s]"
     ]
    },
    {
     "name": "stdout",
     "output_type": "stream",
     "text": [
      "0 41650 0 480\n",
      "41650 0 480 0\n",
      "41650 0 480 0\n",
      "41650 0 480 0\n",
      "41650 0 480 0\n",
      "41650 0 480 0\n"
     ]
    },
    {
     "name": "stderr",
     "output_type": "stream",
     "text": [
      "\r",
      " 30%|███       | 3018/10000 [02:08<04:40, 24.92it/s]"
     ]
    },
    {
     "name": "stdout",
     "output_type": "stream",
     "text": [
      "41650 0 480 0\n",
      "41650 0 480 0\n",
      "41650 0 480 0\n",
      "41650 0 480 0\n",
      "41650 0 480 0\n"
     ]
    },
    {
     "name": "stderr",
     "output_type": "stream",
     "text": [
      " 30%|███       | 3024/10000 [02:08<04:56, 23.55it/s]"
     ]
    },
    {
     "name": "stdout",
     "output_type": "stream",
     "text": [
      "41650 0 480 0\n",
      "41650 0 480 0\n",
      "41650 0 480 0\n",
      "28846 12804 275 205\n",
      "Number of treatment 28846\n",
      "Revenue -3626.8999999999996\n",
      "****************************************************************************************************\n",
      "41650 0 480 0\n"
     ]
    },
    {
     "name": "stderr",
     "output_type": "stream",
     "text": [
      " 30%|███       | 3030/10000 [02:08<04:51, 23.93it/s]"
     ]
    },
    {
     "name": "stdout",
     "output_type": "stream",
     "text": [
      "33985 7665 356 124\n",
      "Number of treatment 33985\n",
      "Revenue -2777.75\n",
      "****************************************************************************************************\n",
      "41650 0 480 0\n",
      "41650 0 480 0\n",
      "41650 0 480 0\n",
      "41650 0 480 0\n"
     ]
    },
    {
     "name": "stderr",
     "output_type": "stream",
     "text": [
      "\r",
      " 30%|███       | 3033/10000 [02:08<04:53, 23.71it/s]"
     ]
    },
    {
     "name": "stdout",
     "output_type": "stream",
     "text": [
      "13185 28465 76 404\n",
      "Number of treatment 13185\n",
      "Revenue -5257.75\n",
      "****************************************************************************************************\n",
      "41650 0 480 0\n",
      "41650 0 480 0\n",
      "41650 0 480 0\n",
      "15749 25901 106 374\n",
      "Number of treatment 15749\n",
      "Revenue -5042.35\n",
      "****************************************************************************************************\n"
     ]
    },
    {
     "name": "stderr",
     "output_type": "stream",
     "text": [
      " 30%|███       | 3039/10000 [02:09<04:59, 23.25it/s]"
     ]
    },
    {
     "name": "stdout",
     "output_type": "stream",
     "text": [
      "41650 0 480 0\n",
      "32870 8780 335 145\n",
      "Number of treatment 32870\n",
      "Revenue -3030.5\n",
      "****************************************************************************************************\n",
      "41650 0 480 0\n",
      "41650 0 480 0\n",
      "41650 0 480 0\n"
     ]
    },
    {
     "name": "stderr",
     "output_type": "stream",
     "text": [
      " 30%|███       | 3045/10000 [02:09<05:01, 23.10it/s]"
     ]
    },
    {
     "name": "stdout",
     "output_type": "stream",
     "text": [
      "41650 0 480 0\n",
      "41650 0 480 0\n",
      "41650 0 480 0\n",
      "41650 0 480 0\n",
      "41650 0 480 0\n"
     ]
    },
    {
     "name": "stderr",
     "output_type": "stream",
     "text": [
      "\r",
      " 30%|███       | 3048/10000 [02:09<05:04, 22.84it/s]"
     ]
    },
    {
     "name": "stdout",
     "output_type": "stream",
     "text": [
      "41650 0 480 0\n",
      "41650 0 480 0\n",
      "41650 0 480 0\n",
      "41650 0 480 0\n",
      "2056 39594 17 463\n",
      "Number of treatment 2056\n",
      "Revenue -4768.4\n",
      "****************************************************************************************************\n"
     ]
    },
    {
     "name": "stderr",
     "output_type": "stream",
     "text": [
      " 31%|███       | 3054/10000 [02:09<04:59, 23.20it/s]"
     ]
    },
    {
     "name": "stdout",
     "output_type": "stream",
     "text": [
      "41650 0 480 0\n",
      "41650 0 480 0\n",
      "41650 0 480 0\n",
      "41650 0 480 0\n",
      "41366 284 476 4\n"
     ]
    },
    {
     "name": "stderr",
     "output_type": "stream",
     "text": [
      " 31%|███       | 3060/10000 [02:09<04:54, 23.60it/s]"
     ]
    },
    {
     "name": "stdout",
     "output_type": "stream",
     "text": [
      "41650 0 480 0\n",
      "41650 0 480 0\n",
      "41650 0 480 0\n",
      "40501 1149 467 13\n",
      "Number of treatment 40501\n",
      "Revenue -1535.1499999999996\n",
      "****************************************************************************************************\n",
      "41650 0 480 0\n",
      "41650 0 480 0\n"
     ]
    },
    {
     "name": "stderr",
     "output_type": "stream",
     "text": [
      " 31%|███       | 3066/10000 [02:10<04:45, 24.28it/s]"
     ]
    },
    {
     "name": "stdout",
     "output_type": "stream",
     "text": [
      "41650 0 480 0\n",
      "0 41650 0 480\n",
      "41650 0 480 0\n",
      "41650 0 480 0\n",
      "41650 0 480 0\n"
     ]
    },
    {
     "name": "stderr",
     "output_type": "stream",
     "text": [
      "\r",
      " 31%|███       | 3069/10000 [02:10<04:43, 24.44it/s]"
     ]
    },
    {
     "name": "stdout",
     "output_type": "stream",
     "text": [
      "0 41650 0 480\n",
      "41650 0 480 0\n",
      "41650 0 480 0\n",
      "41650 0 480 0\n",
      "41650 0 480 0\n"
     ]
    },
    {
     "name": "stderr",
     "output_type": "stream",
     "text": [
      " 31%|███       | 3075/10000 [02:10<04:56, 23.37it/s]"
     ]
    },
    {
     "name": "stdout",
     "output_type": "stream",
     "text": [
      "41650 0 480 0\n",
      "41650 0 480 0\n",
      "0 41650 0 480\n",
      "41650 0 480 0\n",
      "17371 24279 136 344\n",
      "Number of treatment 17371\n",
      "Revenue -4685.65\n",
      "****************************************************************************************************\n"
     ]
    },
    {
     "name": "stderr",
     "output_type": "stream",
     "text": [
      " 31%|███       | 3081/10000 [02:10<05:09, 22.37it/s]"
     ]
    },
    {
     "name": "stdout",
     "output_type": "stream",
     "text": [
      "13262 28388 76 404\n",
      "0 41650 0 480\n",
      "41650 0 480 0\n",
      "6884 34766 47 433\n",
      "Number of treatment 6884\n",
      "Revenue -4892.6\n",
      "****************************************************************************************************\n",
      "41650 0 480 0\n"
     ]
    },
    {
     "name": "stderr",
     "output_type": "stream",
     "text": [
      "\r",
      " 31%|███       | 3084/10000 [02:10<05:05, 22.63it/s]"
     ]
    },
    {
     "name": "stdout",
     "output_type": "stream",
     "text": [
      "41650 0 480 0\n",
      "32886 8764 335 145\n",
      "Number of treatment 32886\n",
      "Revenue -3032.8999999999996\n",
      "****************************************************************************************************\n",
      "0 41650 0 480\n",
      "41650 0 480 0\n",
      "41650 0 480 0\n"
     ]
    },
    {
     "name": "stderr",
     "output_type": "stream",
     "text": [
      " 31%|███       | 3090/10000 [02:11<04:56, 23.28it/s]"
     ]
    },
    {
     "name": "stdout",
     "output_type": "stream",
     "text": [
      "495 41155 5 475\n",
      "Number of treatment 495\n",
      "Revenue -4774.25\n",
      "****************************************************************************************************\n",
      "41650 0 480 0\n",
      "41650 0 480 0\n",
      "2224 39426 18 462\n",
      "Number of treatment 2224\n",
      "Revenue -4773.6\n",
      "****************************************************************************************************\n",
      "41650 0 480 0\n",
      "41650 0 480 0\n"
     ]
    },
    {
     "name": "stderr",
     "output_type": "stream",
     "text": [
      " 31%|███       | 3096/10000 [02:11<04:57, 23.20it/s]"
     ]
    },
    {
     "name": "stdout",
     "output_type": "stream",
     "text": [
      "41650 0 480 0\n",
      "41650 0 480 0\n",
      "14709 26941 94 386\n",
      "Number of treatment 14709\n",
      "Revenue -5126.35\n",
      "****************************************************************************************************\n",
      "41650 0 480 0\n",
      "41650 0 480 0\n"
     ]
    },
    {
     "name": "stderr",
     "output_type": "stream",
     "text": [
      " 31%|███       | 3102/10000 [02:11<04:54, 23.40it/s]"
     ]
    },
    {
     "name": "stdout",
     "output_type": "stream",
     "text": [
      "41650 0 480 0\n",
      "41650 0 480 0\n",
      "41650 0 480 0\n",
      "41650 0 480 0\n",
      "41650 0 480 0\n"
     ]
    },
    {
     "name": "stderr",
     "output_type": "stream",
     "text": [
      "\r",
      " 31%|███       | 3105/10000 [02:11<04:50, 23.73it/s]"
     ]
    },
    {
     "name": "stdout",
     "output_type": "stream",
     "text": [
      "41650 0 480 0\n",
      "41650 0 480 0\n",
      "41650 0 480 0\n",
      "41649 1 480 0\n",
      "8757 32893 56 424\n",
      "Number of treatment 8757\n",
      "Revenue -4993.55\n",
      "****************************************************************************************************\n"
     ]
    },
    {
     "name": "stderr",
     "output_type": "stream",
     "text": [
      " 31%|███       | 3111/10000 [02:12<04:45, 24.13it/s]"
     ]
    },
    {
     "name": "stdout",
     "output_type": "stream",
     "text": [
      "41650 0 480 0\n",
      "0 41650 0 480\n",
      "41650 0 480 0\n",
      "14968 26682 95 385\n",
      "Number of treatment 14968\n",
      "Revenue -5145.2\n",
      "****************************************************************************************************\n",
      "41650 0 480 0\n",
      "41650 0 480 0\n"
     ]
    },
    {
     "name": "stderr",
     "output_type": "stream",
     "text": [
      " 31%|███       | 3117/10000 [02:12<04:41, 24.49it/s]"
     ]
    },
    {
     "name": "stdout",
     "output_type": "stream",
     "text": [
      "41650 0 480 0\n",
      "41650 0 480 0\n",
      "41650 0 480 0\n",
      "41650 0 480 0\n",
      "41648 2 480 0\n",
      "41650 0 480 0\n"
     ]
    },
    {
     "name": "stderr",
     "output_type": "stream",
     "text": [
      " 31%|███       | 3123/10000 [02:12<04:47, 23.95it/s]"
     ]
    },
    {
     "name": "stdout",
     "output_type": "stream",
     "text": [
      "0 41650 0 480\n",
      "41650 0 480 0\n",
      "41650 0 480 0\n",
      "41650 0 480 0\n",
      "12932 28718 75 405\n",
      "Number of treatment 12932\n",
      "Revenue -5239.8\n",
      "****************************************************************************************************\n"
     ]
    },
    {
     "name": "stderr",
     "output_type": "stream",
     "text": [
      " 31%|███▏      | 3129/10000 [02:12<04:54, 23.36it/s]"
     ]
    },
    {
     "name": "stdout",
     "output_type": "stream",
     "text": [
      "1487 40163 14 466\n",
      "Number of treatment 1487\n",
      "Revenue -4743.05\n",
      "****************************************************************************************************\n",
      "41650 0 480 0\n",
      "41650 0 480 0\n",
      "38004 3646 417 63\n",
      "Number of treatment 38004\n",
      "Revenue -2160.5999999999995\n",
      "****************************************************************************************************\n",
      "41650 0 480 0\n"
     ]
    },
    {
     "name": "stderr",
     "output_type": "stream",
     "text": [
      " 31%|███▏      | 3135/10000 [02:13<04:43, 24.23it/s]"
     ]
    },
    {
     "name": "stdout",
     "output_type": "stream",
     "text": [
      "41650 0 480 0\n",
      "0 41650 0 480\n",
      "41650 0 480 0\n",
      "41650 0 480 0\n",
      "41650 0 480 0\n",
      "41650 0 480 0\n"
     ]
    },
    {
     "name": "stderr",
     "output_type": "stream",
     "text": [
      " 31%|███▏      | 3141/10000 [02:13<04:39, 24.54it/s]"
     ]
    },
    {
     "name": "stdout",
     "output_type": "stream",
     "text": [
      "41650 0 480 0\n",
      "5798 35852 40 440\n",
      "Number of treatment 5798\n",
      "Revenue -4869.7\n",
      "****************************************************************************************************\n",
      "41650 0 480 0\n",
      "41650 0 480 0\n",
      "41650 0 480 0\n",
      "41650 0 480 0\n"
     ]
    },
    {
     "name": "stderr",
     "output_type": "stream",
     "text": [
      "\r",
      " 31%|███▏      | 3144/10000 [02:13<04:46, 23.91it/s]"
     ]
    },
    {
     "name": "stdout",
     "output_type": "stream",
     "text": [
      "25373 16277 226 254\n",
      "Number of treatment 25373\n",
      "Revenue -4085.95\n",
      "****************************************************************************************************\n",
      "41650 0 480 0\n",
      "10756 30894 61 419\n",
      "Number of treatment 10756\n",
      "Revenue -5193.4\n",
      "****************************************************************************************************\n",
      "41650 0 480 0\n",
      "41650 0 480 0\n"
     ]
    },
    {
     "name": "stderr",
     "output_type": "stream",
     "text": [
      " 32%|███▏      | 3150/10000 [02:13<04:51, 23.51it/s]"
     ]
    },
    {
     "name": "stdout",
     "output_type": "stream",
     "text": [
      "36742 4908 395 85\n",
      "Number of treatment 36742\n",
      "Revenue -2411.3\n",
      "****************************************************************************************************\n",
      "41650 0 480 0\n",
      "41650 0 480 0\n",
      "4277 37373 29 451\n",
      "Number of treatment 4277\n",
      "Revenue -4861.55\n",
      "****************************************************************************************************\n",
      "41650 0 480 0\n"
     ]
    },
    {
     "name": "stderr",
     "output_type": "stream",
     "text": [
      " 32%|███▏      | 3156/10000 [02:13<04:37, 24.69it/s]"
     ]
    },
    {
     "name": "stdout",
     "output_type": "stream",
     "text": [
      "0 41650 0 480\n",
      "41650 0 480 0\n",
      "41650 0 480 0\n",
      "41650 0 480 0\n",
      "41650 0 480 0\n",
      "41650 0 480 0\n"
     ]
    },
    {
     "name": "stderr",
     "output_type": "stream",
     "text": [
      " 32%|███▏      | 3162/10000 [02:14<04:38, 24.57it/s]"
     ]
    },
    {
     "name": "stdout",
     "output_type": "stream",
     "text": [
      "41650 0 480 0\n",
      "19916 21734 162 318\n",
      "Number of treatment 19916\n",
      "Revenue -4547.4\n",
      "****************************************************************************************************\n",
      "41650 0 480 0\n",
      "41650 0 480 0\n",
      "0 41650 0 480\n"
     ]
    },
    {
     "name": "stderr",
     "output_type": "stream",
     "text": [
      "\r",
      " 32%|███▏      | 3165/10000 [02:14<04:40, 24.36it/s]"
     ]
    },
    {
     "name": "stdout",
     "output_type": "stream",
     "text": [
      "37870 3780 414 66\n",
      "Number of treatment 37870\n",
      "Revenue -2200.5\n",
      "****************************************************************************************************\n",
      "41650 0 480 0\n",
      "19212 22438 156 324\n",
      "Number of treatment 19212\n",
      "Revenue -4561.799999999999\n",
      "****************************************************************************************************\n",
      "41650 0 480 0\n",
      "41650 0 480 0\n"
     ]
    },
    {
     "name": "stderr",
     "output_type": "stream",
     "text": [
      " 32%|███▏      | 3171/10000 [02:14<04:39, 24.47it/s]"
     ]
    },
    {
     "name": "stdout",
     "output_type": "stream",
     "text": [
      "39199 2451 443 37\n",
      "Number of treatment 39199\n",
      "Revenue -1819.8499999999995\n",
      "****************************************************************************************************\n",
      "41650 0 480 0\n",
      "41650 0 480 0\n",
      "40221 1429 464 16\n",
      "Number of treatment 40221\n",
      "Revenue -1553.1499999999996\n",
      "****************************************************************************************************\n",
      "41650 0 480 0\n"
     ]
    },
    {
     "name": "stderr",
     "output_type": "stream",
     "text": [
      " 32%|███▏      | 3177/10000 [02:14<04:40, 24.35it/s]"
     ]
    },
    {
     "name": "stdout",
     "output_type": "stream",
     "text": [
      "35281 6369 375 105\n",
      "Number of treatment 35281\n",
      "Revenue -2592.1499999999996\n",
      "****************************************************************************************************\n",
      "41650 0 480 0\n",
      "41650 0 480 0\n",
      "41650 0 480 0\n",
      "41650 0 480 0\n",
      "12431 29219 72 408\n",
      "Number of treatment 12431\n",
      "Revenue -5224.65\n",
      "****************************************************************************************************\n"
     ]
    },
    {
     "name": "stderr",
     "output_type": "stream",
     "text": [
      " 32%|███▏      | 3183/10000 [02:15<04:42, 24.09it/s]"
     ]
    },
    {
     "name": "stdout",
     "output_type": "stream",
     "text": [
      "41650 0 480 0\n",
      "41650 0 480 0\n",
      "41650 0 480 0\n",
      "41650 0 480 0\n",
      "41650 0 480 0\n"
     ]
    },
    {
     "name": "stderr",
     "output_type": "stream",
     "text": [
      " 32%|███▏      | 3189/10000 [02:15<04:39, 24.40it/s]"
     ]
    },
    {
     "name": "stdout",
     "output_type": "stream",
     "text": [
      "41650 0 480 0\n",
      "41650 0 480 0\n",
      "41650 0 480 0\n",
      "41650 0 480 0\n",
      "41650 0 480 0\n",
      "41650 0 480 0\n"
     ]
    },
    {
     "name": "stderr",
     "output_type": "stream",
     "text": [
      "\r",
      " 32%|███▏      | 3192/10000 [02:15<04:42, 24.11it/s]"
     ]
    },
    {
     "name": "stdout",
     "output_type": "stream",
     "text": [
      "41650 0 480 0\n",
      "41650 0 480 0\n",
      "41650 0 480 0\n",
      "41650 0 480 0\n",
      "41650 0 480 0\n"
     ]
    },
    {
     "name": "stderr",
     "output_type": "stream",
     "text": [
      " 32%|███▏      | 3198/10000 [02:15<04:42, 24.10it/s]"
     ]
    },
    {
     "name": "stdout",
     "output_type": "stream",
     "text": [
      "41650 0 480 0\n",
      "41650 0 480 0\n",
      "41650 0 480 0\n",
      "41650 0 480 0\n",
      "41650 0 480 0\n"
     ]
    },
    {
     "name": "stderr",
     "output_type": "stream",
     "text": [
      " 32%|███▏      | 3204/10000 [02:15<04:45, 23.79it/s]"
     ]
    },
    {
     "name": "stdout",
     "output_type": "stream",
     "text": [
      "41650 0 480 0\n",
      "41650 0 480 0\n",
      "41650 0 480 0\n",
      "41159 491 472 8\n",
      "Number of treatment 41159\n",
      "Revenue -1533.8499999999995\n",
      "****************************************************************************************************\n",
      "41650 0 480 0\n"
     ]
    },
    {
     "name": "stderr",
     "output_type": "stream",
     "text": [
      "\r",
      " 32%|███▏      | 3207/10000 [02:16<04:46, 23.69it/s]"
     ]
    },
    {
     "name": "stdout",
     "output_type": "stream",
     "text": [
      "41650 0 480 0\n",
      "41650 0 480 0\n",
      "41650 0 480 0\n",
      "41650 0 480 0\n",
      "41650 0 480 0\n"
     ]
    },
    {
     "name": "stderr",
     "output_type": "stream",
     "text": [
      " 32%|███▏      | 3213/10000 [02:16<04:39, 24.31it/s]"
     ]
    },
    {
     "name": "stdout",
     "output_type": "stream",
     "text": [
      "12749 28901 74 406\n",
      "Number of treatment 12749\n",
      "Revenue -5232.35\n",
      "****************************************************************************************************\n",
      "41650 0 480 0\n",
      "41650 0 480 0\n",
      "41650 0 480 0\n",
      "41650 0 480 0\n",
      "41650 0 480 0\n"
     ]
    },
    {
     "name": "stderr",
     "output_type": "stream",
     "text": [
      " 32%|███▏      | 3219/10000 [02:16<04:29, 25.18it/s]"
     ]
    },
    {
     "name": "stdout",
     "output_type": "stream",
     "text": [
      "41650 0 480 0\n",
      "41650 0 480 0\n",
      "19417 22233 158 322\n",
      "Number of treatment 19417\n",
      "Revenue -4552.549999999999\n",
      "****************************************************************************************************\n",
      "41650 0 480 0\n",
      "41650 0 480 0\n",
      "41650 0 480 0\n"
     ]
    },
    {
     "name": "stderr",
     "output_type": "stream",
     "text": [
      " 32%|███▏      | 3225/10000 [02:16<04:29, 25.16it/s]"
     ]
    },
    {
     "name": "stdout",
     "output_type": "stream",
     "text": [
      "41650 0 480 0\n",
      "41650 0 480 0\n",
      "41650 0 480 0\n",
      "10165 31485 58 422\n",
      "Number of treatment 10165\n",
      "Revenue -5164.75\n",
      "****************************************************************************************************\n",
      "41650 0 480 0\n",
      "41650 0 480 0\n"
     ]
    },
    {
     "name": "stderr",
     "output_type": "stream",
     "text": [
      " 32%|███▏      | 3231/10000 [02:17<04:32, 24.87it/s]"
     ]
    },
    {
     "name": "stdout",
     "output_type": "stream",
     "text": [
      "0 41650 0 480\n",
      "41650 0 480 0\n",
      "0 41650 0 480\n",
      "41650 0 480 0\n",
      "41650 0 480 0\n"
     ]
    },
    {
     "name": "stderr",
     "output_type": "stream",
     "text": [
      " 32%|███▏      | 3237/10000 [02:17<04:43, 23.84it/s]"
     ]
    },
    {
     "name": "stdout",
     "output_type": "stream",
     "text": [
      "41650 0 480 0\n",
      "12546 29104 74 406\n",
      "Number of treatment 12546\n",
      "Revenue -5201.9\n",
      "****************************************************************************************************\n",
      "25018 16632 221 259\n",
      "Number of treatment 25018\n",
      "Revenue -4132.7\n",
      "****************************************************************************************************\n",
      "41650 0 480 0\n",
      "26568 15082 239 241\n",
      "Number of treatment 26568\n",
      "Revenue -4005.2\n",
      "****************************************************************************************************\n"
     ]
    },
    {
     "name": "stderr",
     "output_type": "stream",
     "text": [
      " 32%|███▏      | 3243/10000 [02:17<04:31, 24.92it/s]"
     ]
    },
    {
     "name": "stdout",
     "output_type": "stream",
     "text": [
      "0 41650 0 480\n",
      "13254 28396 76 404\n",
      "Number of treatment 13254\n",
      "Revenue -5268.1\n",
      "****************************************************************************************************\n",
      "41650 0 480 0\n",
      "41650 0 480 0\n",
      "41650 0 480 0\n",
      "0 41650 0 480\n"
     ]
    },
    {
     "name": "stderr",
     "output_type": "stream",
     "text": [
      "\r",
      " 32%|███▏      | 3246/10000 [02:17<04:36, 24.42it/s]"
     ]
    },
    {
     "name": "stdout",
     "output_type": "stream",
     "text": [
      "41650 0 480 0\n",
      "41650 0 480 0\n",
      "41650 0 480 0\n",
      "21260 20390 178 302\n",
      "Number of treatment 21260\n",
      "Revenue -4429.0\n",
      "****************************************************************************************************\n",
      "41650 0 480 0\n"
     ]
    },
    {
     "name": "stderr",
     "output_type": "stream",
     "text": [
      " 33%|███▎      | 3252/10000 [02:17<04:31, 24.82it/s]"
     ]
    },
    {
     "name": "stdout",
     "output_type": "stream",
     "text": [
      "41650 0 480 0\n",
      "41650 0 480 0\n",
      "41650 0 480 0\n",
      "41650 0 480 0\n",
      "41650 0 480 0\n",
      "41650 0 480 0\n"
     ]
    },
    {
     "name": "stderr",
     "output_type": "stream",
     "text": [
      " 33%|███▎      | 3258/10000 [02:18<04:25, 25.42it/s]"
     ]
    },
    {
     "name": "stdout",
     "output_type": "stream",
     "text": [
      "41650 0 480 0\n",
      "41650 0 480 0\n",
      "41650 0 480 0\n",
      "41650 0 480 0\n",
      "0 41650 0 480\n",
      "41650 0 480 0\n"
     ]
    },
    {
     "name": "stderr",
     "output_type": "stream",
     "text": [
      " 33%|███▎      | 3264/10000 [02:18<04:21, 25.77it/s]"
     ]
    },
    {
     "name": "stdout",
     "output_type": "stream",
     "text": [
      "41650 0 480 0\n",
      "41650 0 480 0\n",
      "41650 0 480 0\n",
      "41650 0 480 0\n",
      "41650 0 480 0\n"
     ]
    },
    {
     "name": "stderr",
     "output_type": "stream",
     "text": [
      " 33%|███▎      | 3270/10000 [02:18<04:20, 25.79it/s]"
     ]
    },
    {
     "name": "stdout",
     "output_type": "stream",
     "text": [
      "14679 26971 93 387\n",
      "Number of treatment 14679\n",
      "Revenue -5141.85\n",
      "****************************************************************************************************\n",
      "41650 0 480 0\n",
      "41650 0 480 0\n",
      "41650 0 480 0\n",
      "41650 0 480 0\n",
      "0 41650 0 480\n"
     ]
    },
    {
     "name": "stderr",
     "output_type": "stream",
     "text": [
      " 33%|███▎      | 3276/10000 [02:18<04:16, 26.21it/s]"
     ]
    },
    {
     "name": "stdout",
     "output_type": "stream",
     "text": [
      "41650 0 480 0\n",
      "41650 0 480 0\n",
      "13370 28280 77 403\n",
      "Number of treatment 13370\n",
      "Revenue -5265.5\n",
      "****************************************************************************************************\n",
      "40623 1027 467 13\n",
      "Number of treatment 40623\n",
      "Revenue -1553.4499999999998\n",
      "****************************************************************************************************\n",
      "41650 0 480 0\n",
      "40748 902 469 11\n",
      "Number of treatment 40748\n",
      "Revenue -1532.1999999999998\n",
      "****************************************************************************************************\n"
     ]
    },
    {
     "name": "stderr",
     "output_type": "stream",
     "text": [
      " 33%|███▎      | 3282/10000 [02:19<04:16, 26.24it/s]"
     ]
    },
    {
     "name": "stdout",
     "output_type": "stream",
     "text": [
      "21442 20208 181 299\n",
      "Number of treatment 21442\n",
      "Revenue -4396.299999999999\n",
      "****************************************************************************************************\n",
      "41650 0 480 0\n",
      "41650 0 480 0\n",
      "41650 0 480 0\n",
      "41650 0 480 0\n",
      "41650 0 480 0\n"
     ]
    },
    {
     "name": "stderr",
     "output_type": "stream",
     "text": [
      " 33%|███▎      | 3288/10000 [02:19<04:25, 25.24it/s]"
     ]
    },
    {
     "name": "stdout",
     "output_type": "stream",
     "text": [
      "41650 0 480 0\n",
      "41650 0 480 0\n",
      "41650 0 480 0\n",
      "41650 0 480 0\n",
      "12001 29649 69 411\n",
      "Number of treatment 12001\n",
      "Revenue -5220.15\n",
      "****************************************************************************************************\n"
     ]
    },
    {
     "name": "stderr",
     "output_type": "stream",
     "text": [
      "\r",
      " 33%|███▎      | 3291/10000 [02:19<04:35, 24.36it/s]"
     ]
    },
    {
     "name": "stdout",
     "output_type": "stream",
     "text": [
      "41650 0 480 0\n",
      "41650 0 480 0\n",
      "41650 0 480 0\n",
      "41650 0 480 0\n",
      "41650 0 480 0\n"
     ]
    },
    {
     "name": "stderr",
     "output_type": "stream",
     "text": [
      " 33%|███▎      | 3297/10000 [02:19<04:41, 23.77it/s]"
     ]
    },
    {
     "name": "stdout",
     "output_type": "stream",
     "text": [
      "41650 0 480 0\n",
      "41650 0 480 0\n",
      "41650 0 480 0\n",
      "41650 0 480 0\n",
      "41650 0 480 0\n"
     ]
    },
    {
     "name": "stderr",
     "output_type": "stream",
     "text": [
      " 33%|███▎      | 3303/10000 [02:19<04:28, 24.94it/s]"
     ]
    },
    {
     "name": "stdout",
     "output_type": "stream",
     "text": [
      "41650 0 480 0\n",
      "41650 0 480 0\n",
      "41650 0 480 0\n",
      "41650 0 480 0\n",
      "41650 0 480 0\n",
      "41650 0 480 0\n"
     ]
    },
    {
     "name": "stderr",
     "output_type": "stream",
     "text": [
      " 33%|███▎      | 3309/10000 [02:20<04:26, 25.10it/s]"
     ]
    },
    {
     "name": "stdout",
     "output_type": "stream",
     "text": [
      "41650 0 480 0\n",
      "41650 0 480 0\n",
      "41650 0 480 0\n",
      "41650 0 480 0\n",
      "41650 0 480 0\n",
      "0 41650 0 480\n"
     ]
    },
    {
     "name": "stderr",
     "output_type": "stream",
     "text": [
      " 33%|███▎      | 3315/10000 [02:20<04:39, 23.94it/s]"
     ]
    },
    {
     "name": "stdout",
     "output_type": "stream",
     "text": [
      "41650 0 480 0\n",
      "41650 0 480 0\n",
      "14252 27398 88 392\n",
      "Number of treatment 14252\n",
      "Revenue -5177.799999999999\n",
      "****************************************************************************************************\n",
      "41650 0 480 0\n",
      "41650 0 480 0\n"
     ]
    },
    {
     "name": "stderr",
     "output_type": "stream",
     "text": [
      " 33%|███▎      | 3321/10000 [02:20<04:30, 24.72it/s]"
     ]
    },
    {
     "name": "stdout",
     "output_type": "stream",
     "text": [
      "41650 0 480 0\n",
      "41650 0 480 0\n",
      "41650 0 480 0\n",
      "0 41650 0 480\n",
      "41650 0 480 0\n",
      "41650 0 480 0\n"
     ]
    },
    {
     "name": "stderr",
     "output_type": "stream",
     "text": [
      " 33%|███▎      | 3327/10000 [02:20<04:28, 24.85it/s]"
     ]
    },
    {
     "name": "stdout",
     "output_type": "stream",
     "text": [
      "25464 16186 226 254\n",
      "Number of treatment 25464\n",
      "Revenue -4099.6\n",
      "****************************************************************************************************\n",
      "41650 0 480 0\n",
      "41650 0 480 0\n",
      "41650 0 480 0\n",
      "41650 0 480 0\n",
      "41609 41 480 0\n"
     ]
    },
    {
     "name": "stderr",
     "output_type": "stream",
     "text": [
      " 33%|███▎      | 3333/10000 [02:21<04:28, 24.82it/s]"
     ]
    },
    {
     "name": "stdout",
     "output_type": "stream",
     "text": [
      "41650 0 480 0\n",
      "41650 0 480 0\n",
      "41650 0 480 0\n",
      "41650 0 480 0\n",
      "0 41650 0 480\n",
      "0 41650 0 480\n"
     ]
    },
    {
     "name": "stderr",
     "output_type": "stream",
     "text": [
      "\r",
      " 33%|███▎      | 3336/10000 [02:21<04:36, 24.11it/s]"
     ]
    },
    {
     "name": "stdout",
     "output_type": "stream",
     "text": [
      "41650 0 480 0\n",
      "0 41650 0 480\n",
      "0 41650 0 480\n",
      "0 41650 0 480\n",
      "41650 0 480 0\n"
     ]
    },
    {
     "name": "stderr",
     "output_type": "stream",
     "text": [
      " 33%|███▎      | 3342/10000 [02:21<04:45, 23.29it/s]"
     ]
    },
    {
     "name": "stdout",
     "output_type": "stream",
     "text": [
      "40039 1611 459 21\n",
      "Number of treatment 40039\n",
      "Revenue -1625.8499999999995\n",
      "****************************************************************************************************\n",
      "41650 0 480 0\n",
      "41650 0 480 0\n",
      "13854 27796 81 399\n",
      "Number of treatment 13854\n",
      "Revenue -5258.1\n",
      "****************************************************************************************************\n",
      "41650 0 480 0\n"
     ]
    },
    {
     "name": "stderr",
     "output_type": "stream",
     "text": [
      " 33%|███▎      | 3348/10000 [02:21<04:45, 23.29it/s]"
     ]
    },
    {
     "name": "stdout",
     "output_type": "stream",
     "text": [
      "41650 0 480 0\n",
      "41650 0 480 0\n",
      "41650 0 480 0\n",
      "41650 0 480 0\n",
      "41650 0 480 0\n"
     ]
    },
    {
     "name": "stderr",
     "output_type": "stream",
     "text": [
      "\r",
      " 34%|███▎      | 3351/10000 [02:21<04:43, 23.42it/s]"
     ]
    },
    {
     "name": "stdout",
     "output_type": "stream",
     "text": [
      "41650 0 480 0\n",
      "40828 822 470 10\n",
      "Number of treatment 40828\n",
      "Revenue -1524.1999999999998\n",
      "****************************************************************************************************\n",
      "37887 3763 415 65\n",
      "Number of treatment 37887\n",
      "Revenue -2183.05\n",
      "****************************************************************************************************\n",
      "41650 0 480 0\n",
      "41650 0 480 0\n"
     ]
    },
    {
     "name": "stderr",
     "output_type": "stream",
     "text": [
      " 34%|███▎      | 3357/10000 [02:22<04:48, 23.00it/s]"
     ]
    },
    {
     "name": "stdout",
     "output_type": "stream",
     "text": [
      "41650 0 480 0\n",
      "41650 0 480 0\n",
      "12732 28918 74 406\n",
      "Number of treatment 12732\n",
      "Revenue -5229.8\n",
      "****************************************************************************************************\n",
      "0 41650 0 480\n",
      "41650 0 480 0\n"
     ]
    },
    {
     "name": "stderr",
     "output_type": "stream",
     "text": [
      " 34%|███▎      | 3363/10000 [02:22<04:52, 22.73it/s]"
     ]
    },
    {
     "name": "stdout",
     "output_type": "stream",
     "text": [
      "13262 28388 76 404\n",
      "41650 0 480 0\n",
      "41650 0 480 0\n",
      "35975 5675 384 96\n",
      "Number of treatment 35975\n",
      "Revenue -2516.25\n",
      "****************************************************************************************************\n",
      "41650 0 480 0\n"
     ]
    },
    {
     "name": "stderr",
     "output_type": "stream",
     "text": [
      "\r",
      " 34%|███▎      | 3366/10000 [02:22<04:59, 22.15it/s]"
     ]
    },
    {
     "name": "stdout",
     "output_type": "stream",
     "text": [
      "13573 28077 79 401\n",
      "Number of treatment 13573\n",
      "Revenue -5255.95\n",
      "****************************************************************************************************\n",
      "41650 0 480 0\n",
      "41650 0 480 0\n",
      "0 41650 0 480\n",
      "41650 0 480 0\n"
     ]
    },
    {
     "name": "stderr",
     "output_type": "stream",
     "text": [
      " 34%|███▎      | 3372/10000 [02:22<05:01, 21.97it/s]"
     ]
    },
    {
     "name": "stdout",
     "output_type": "stream",
     "text": [
      "41650 0 480 0\n",
      "41650 0 480 0\n",
      "41650 0 480 0\n",
      "41650 0 480 0\n",
      "41650 0 480 0\n"
     ]
    },
    {
     "name": "stderr",
     "output_type": "stream",
     "text": [
      " 34%|███▍      | 3378/10000 [02:23<04:53, 22.54it/s]"
     ]
    },
    {
     "name": "stdout",
     "output_type": "stream",
     "text": [
      "41650 0 480 0\n",
      "41650 0 480 0\n",
      "13116 28534 76 404\n",
      "Number of treatment 13116\n",
      "Revenue -5247.4\n",
      "****************************************************************************************************\n",
      "41650 0 480 0\n",
      "41650 0 480 0\n"
     ]
    },
    {
     "name": "stderr",
     "output_type": "stream",
     "text": [
      "\r",
      " 34%|███▍      | 3381/10000 [02:23<04:58, 22.17it/s]"
     ]
    },
    {
     "name": "stdout",
     "output_type": "stream",
     "text": [
      "41650 0 480 0\n",
      "41650 0 480 0\n",
      "34819 6831 372 108\n",
      "Number of treatment 34819\n",
      "Revenue -2582.8499999999995\n",
      "****************************************************************************************************\n",
      "41650 0 480 0\n",
      "2853 38797 22 458\n",
      "Number of treatment 2853\n",
      "Revenue -4787.95\n",
      "****************************************************************************************************\n"
     ]
    },
    {
     "name": "stderr",
     "output_type": "stream",
     "text": [
      " 34%|███▍      | 3387/10000 [02:23<04:56, 22.28it/s]"
     ]
    },
    {
     "name": "stdout",
     "output_type": "stream",
     "text": [
      "41650 0 480 0\n",
      "41650 0 480 0\n",
      "41650 0 480 0\n",
      "41650 0 480 0\n",
      "41650 0 480 0\n"
     ]
    },
    {
     "name": "stderr",
     "output_type": "stream",
     "text": [
      " 34%|███▍      | 3393/10000 [02:23<04:48, 22.93it/s]"
     ]
    },
    {
     "name": "stdout",
     "output_type": "stream",
     "text": [
      "41650 0 480 0\n",
      "41650 0 480 0\n",
      "41650 0 480 0\n",
      "41650 0 480 0\n",
      "41650 0 480 0\n"
     ]
    },
    {
     "name": "stderr",
     "output_type": "stream",
     "text": [
      "\r",
      " 34%|███▍      | 3396/10000 [02:23<04:38, 23.68it/s]"
     ]
    },
    {
     "name": "stdout",
     "output_type": "stream",
     "text": [
      "41650 0 480 0\n",
      "1909 39741 16 464\n",
      "Number of treatment 1909\n",
      "Revenue -4766.35\n",
      "****************************************************************************************************\n",
      "41650 0 480 0\n",
      "41650 0 480 0\n",
      "41650 0 480 0\n"
     ]
    },
    {
     "name": "stderr",
     "output_type": "stream",
     "text": [
      " 34%|███▍      | 3402/10000 [02:24<04:37, 23.78it/s]"
     ]
    },
    {
     "name": "stdout",
     "output_type": "stream",
     "text": [
      "41650 0 480 0\n",
      "0 41650 0 480\n",
      "41650 0 480 0\n",
      "41650 0 480 0\n",
      "41650 0 480 0\n"
     ]
    },
    {
     "name": "stderr",
     "output_type": "stream",
     "text": [
      " 34%|███▍      | 3408/10000 [02:24<04:34, 24.05it/s]"
     ]
    },
    {
     "name": "stdout",
     "output_type": "stream",
     "text": [
      "41650 0 480 0\n",
      "41650 0 480 0\n",
      "41650 0 480 0\n",
      "13314 28336 76 404\n",
      "Number of treatment 13314\n",
      "Revenue -5277.1\n",
      "****************************************************************************************************\n",
      "40533 1117 467 13\n",
      "Number of treatment 40533\n",
      "Revenue -1539.9499999999998\n",
      "****************************************************************************************************\n",
      "41624 26 480 0\n",
      "Number of treatment 41624\n",
      "Revenue -1443.5999999999995\n",
      "****************************************************************************************************\n"
     ]
    },
    {
     "name": "stderr",
     "output_type": "stream",
     "text": [
      " 34%|███▍      | 3414/10000 [02:24<04:28, 24.51it/s]"
     ]
    },
    {
     "name": "stdout",
     "output_type": "stream",
     "text": [
      "41650 0 480 0\n",
      "41650 0 480 0\n",
      "41650 0 480 0\n",
      "41650 0 480 0\n",
      "41650 0 480 0\n"
     ]
    },
    {
     "name": "stderr",
     "output_type": "stream",
     "text": [
      "\r",
      " 34%|███▍      | 3417/10000 [02:24<04:31, 24.23it/s]"
     ]
    },
    {
     "name": "stdout",
     "output_type": "stream",
     "text": [
      "41650 0 480 0\n",
      "41650 0 480 0\n",
      "41650 0 480 0\n",
      "41650 0 480 0\n",
      "12836 28814 75 405\n",
      "Number of treatment 12836\n",
      "Revenue -5225.4\n",
      "****************************************************************************************************\n"
     ]
    },
    {
     "name": "stderr",
     "output_type": "stream",
     "text": [
      " 34%|███▍      | 3423/10000 [02:25<04:29, 24.43it/s]"
     ]
    },
    {
     "name": "stdout",
     "output_type": "stream",
     "text": [
      "41650 0 480 0\n",
      "41650 0 480 0\n",
      "41650 0 480 0\n",
      "41650 0 480 0\n",
      "41650 0 480 0\n"
     ]
    },
    {
     "name": "stderr",
     "output_type": "stream",
     "text": [
      " 34%|███▍      | 3429/10000 [02:25<04:32, 24.12it/s]"
     ]
    },
    {
     "name": "stdout",
     "output_type": "stream",
     "text": [
      "41650 0 480 0\n",
      "41650 0 480 0\n",
      "0 41650 0 480\n",
      "0 41650 0 480\n",
      "41650 0 480 0\n"
     ]
    },
    {
     "name": "stderr",
     "output_type": "stream",
     "text": [
      "\r",
      " 34%|███▍      | 3432/10000 [02:25<04:29, 24.33it/s]"
     ]
    },
    {
     "name": "stdout",
     "output_type": "stream",
     "text": [
      "0 41650 0 480\n",
      "41650 0 480 0\n",
      "41650 0 480 0\n",
      "41650 0 480 0\n",
      "85 41565 1 479\n",
      "Number of treatment 85\n",
      "Revenue -4792.75\n",
      "****************************************************************************************************\n"
     ]
    },
    {
     "name": "stderr",
     "output_type": "stream",
     "text": [
      " 34%|███▍      | 3438/10000 [02:25<04:32, 24.11it/s]"
     ]
    },
    {
     "name": "stdout",
     "output_type": "stream",
     "text": [
      "41650 0 480 0\n",
      "41650 0 480 0\n",
      "41650 0 480 0\n",
      "41650 0 480 0\n",
      "41650 0 480 0\n"
     ]
    },
    {
     "name": "stderr",
     "output_type": "stream",
     "text": [
      " 34%|███▍      | 3444/10000 [02:25<04:34, 23.90it/s]"
     ]
    },
    {
     "name": "stdout",
     "output_type": "stream",
     "text": [
      "41650 0 480 0\n",
      "41650 0 480 0\n",
      "0 41650 0 480\n",
      "25968 15682 233 247\n",
      "Number of treatment 25968\n",
      "Revenue -4035.2\n",
      "****************************************************************************************************\n",
      "41650 0 480 0\n"
     ]
    },
    {
     "name": "stderr",
     "output_type": "stream",
     "text": [
      "\r",
      " 34%|███▍      | 3447/10000 [02:26<04:31, 24.15it/s]"
     ]
    },
    {
     "name": "stdout",
     "output_type": "stream",
     "text": [
      "41650 0 480 0\n",
      "41650 0 480 0\n",
      "41650 0 480 0\n",
      "41650 0 480 0\n",
      "41650 0 480 0\n"
     ]
    },
    {
     "name": "stderr",
     "output_type": "stream",
     "text": [
      " 35%|███▍      | 3453/10000 [02:26<04:38, 23.53it/s]"
     ]
    },
    {
     "name": "stdout",
     "output_type": "stream",
     "text": [
      "32086 9564 322 158\n",
      "Number of treatment 32086\n",
      "Revenue -3172.8999999999996\n",
      "****************************************************************************************************\n",
      "41650 0 480 0\n",
      "41650 0 480 0\n",
      "41650 0 480 0\n",
      "41650 0 480 0\n"
     ]
    },
    {
     "name": "stderr",
     "output_type": "stream",
     "text": [
      " 35%|███▍      | 3459/10000 [02:26<04:30, 24.14it/s]"
     ]
    },
    {
     "name": "stdout",
     "output_type": "stream",
     "text": [
      "41650 0 480 0\n",
      "41650 0 480 0\n",
      "41650 0 480 0\n",
      "41650 0 480 0\n",
      "41650 0 480 0\n"
     ]
    },
    {
     "name": "stderr",
     "output_type": "stream",
     "text": [
      "\r",
      " 35%|███▍      | 3462/10000 [02:26<04:39, 23.36it/s]"
     ]
    },
    {
     "name": "stdout",
     "output_type": "stream",
     "text": [
      "41650 0 480 0\n",
      "41650 0 480 0\n",
      "41650 0 480 0\n",
      "41650 0 480 0\n",
      "41650 0 480 0\n"
     ]
    },
    {
     "name": "stderr",
     "output_type": "stream",
     "text": [
      " 35%|███▍      | 3468/10000 [02:26<04:46, 22.83it/s]"
     ]
    },
    {
     "name": "stdout",
     "output_type": "stream",
     "text": [
      "41650 0 480 0\n",
      "41650 0 480 0\n",
      "0 41650 0 480\n",
      "41650 0 480 0\n",
      "5625 36025 40 440\n",
      "Number of treatment 5625\n",
      "Revenue -4843.75\n",
      "****************************************************************************************************\n"
     ]
    },
    {
     "name": "stderr",
     "output_type": "stream",
     "text": [
      " 35%|███▍      | 3474/10000 [02:27<04:54, 22.17it/s]"
     ]
    },
    {
     "name": "stdout",
     "output_type": "stream",
     "text": [
      "0 41650 0 480\n",
      "0 41650 0 480\n",
      "41650 0 480 0\n",
      "28982 12668 277 203\n",
      "Number of treatment 28982\n",
      "Revenue -3607.3\n",
      "****************************************************************************************************\n",
      "41650 0 480 0\n"
     ]
    },
    {
     "name": "stderr",
     "output_type": "stream",
     "text": [
      "\r",
      " 35%|███▍      | 3477/10000 [02:27<04:53, 22.21it/s]"
     ]
    },
    {
     "name": "stdout",
     "output_type": "stream",
     "text": [
      "7669 33981 50 430\n",
      "Number of treatment 7669\n",
      "Revenue -4950.35\n",
      "****************************************************************************************************\n",
      "41650 0 480 0\n",
      "0 41650 0 480\n",
      "7417 34233 50 430\n",
      "Number of treatment 7417\n",
      "Revenue -4912.55\n",
      "****************************************************************************************************\n",
      "41650 0 480 0\n"
     ]
    },
    {
     "name": "stderr",
     "output_type": "stream",
     "text": [
      " 35%|███▍      | 3483/10000 [02:27<04:53, 22.20it/s]"
     ]
    },
    {
     "name": "stdout",
     "output_type": "stream",
     "text": [
      "36348 5302 390 90\n",
      "Number of treatment 36348\n",
      "Revenue -2452.2\n",
      "****************************************************************************************************\n",
      "41650 0 480 0\n",
      "0 41650 0 480\n",
      "9406 32244 57 423\n",
      "Number of treatment 9406\n",
      "Revenue -5070.9\n",
      "****************************************************************************************************\n",
      "41650 0 480 0\n"
     ]
    },
    {
     "name": "stderr",
     "output_type": "stream",
     "text": [
      " 35%|███▍      | 3489/10000 [02:27<05:02, 21.49it/s]"
     ]
    },
    {
     "name": "stdout",
     "output_type": "stream",
     "text": [
      "41650 0 480 0\n",
      "41650 0 480 0\n",
      "41650 0 480 0\n",
      "41650 0 480 0\n",
      "41650 0 480 0\n"
     ]
    },
    {
     "name": "stderr",
     "output_type": "stream",
     "text": [
      "\r",
      " 35%|███▍      | 3492/10000 [02:28<05:01, 21.61it/s]"
     ]
    },
    {
     "name": "stdout",
     "output_type": "stream",
     "text": [
      "41650 0 480 0\n",
      "41650 0 480 0\n",
      "41650 0 480 0\n",
      "41650 0 480 0\n",
      "41650 0 480 0\n"
     ]
    },
    {
     "name": "stderr",
     "output_type": "stream",
     "text": [
      " 35%|███▍      | 3498/10000 [02:28<04:48, 22.54it/s]"
     ]
    },
    {
     "name": "stdout",
     "output_type": "stream",
     "text": [
      "41650 0 480 0\n",
      "41650 0 480 0\n",
      "18 41632 0 480\n",
      "41650 0 480 0\n",
      "21154 20496 176 304\n",
      "Number of treatment 21154\n",
      "Revenue -4453.1\n",
      "****************************************************************************************************\n"
     ]
    },
    {
     "name": "stderr",
     "output_type": "stream",
     "text": [
      " 35%|███▌      | 3504/10000 [02:28<04:41, 23.05it/s]"
     ]
    },
    {
     "name": "stdout",
     "output_type": "stream",
     "text": [
      "0 41650 0 480\n",
      "14374 27276 89 391\n",
      "Number of treatment 14374\n",
      "Revenue -5176.1\n",
      "****************************************************************************************************\n",
      "11301 30349 66 414\n",
      "Number of treatment 11301\n",
      "Revenue -5175.15\n",
      "****************************************************************************************************\n",
      "41650 0 480 0\n",
      "41650 0 480 0\n"
     ]
    },
    {
     "name": "stderr",
     "output_type": "stream",
     "text": [
      "\r",
      " 35%|███▌      | 3507/10000 [02:28<05:00, 21.63it/s]"
     ]
    },
    {
     "name": "stdout",
     "output_type": "stream",
     "text": [
      "14226 27424 88 392\n",
      "Number of treatment 14226\n",
      "Revenue -5173.9\n",
      "****************************************************************************************************\n",
      "19428 22222 159 321\n",
      "Number of treatment 19428\n",
      "Revenue -4534.2\n",
      "****************************************************************************************************\n",
      "41650 0 480 0\n",
      "41650 0 480 0\n",
      "41650 0 480 0\n"
     ]
    },
    {
     "name": "stderr",
     "output_type": "stream",
     "text": [
      " 35%|███▌      | 3513/10000 [02:29<04:47, 22.55it/s]"
     ]
    },
    {
     "name": "stdout",
     "output_type": "stream",
     "text": [
      "40837 813 470 10\n",
      "Number of treatment 40837\n",
      "Revenue -1525.5500000000002\n",
      "****************************************************************************************************\n",
      "41650 0 480 0\n",
      "41650 0 480 0\n",
      "41650 0 480 0\n",
      "41650 0 480 0\n"
     ]
    },
    {
     "name": "stderr",
     "output_type": "stream",
     "text": [
      " 35%|███▌      | 3519/10000 [02:29<04:48, 22.48it/s]"
     ]
    },
    {
     "name": "stdout",
     "output_type": "stream",
     "text": [
      "27242 14408 250 230\n",
      "Number of treatment 27242\n",
      "Revenue -3886.2999999999997\n",
      "****************************************************************************************************\n",
      "41650 0 480 0\n",
      "41650 0 480 0\n",
      "41650 0 480 0\n",
      "41650 0 480 0\n"
     ]
    },
    {
     "name": "stderr",
     "output_type": "stream",
     "text": [
      "\r",
      " 35%|███▌      | 3522/10000 [02:29<04:39, 23.22it/s]"
     ]
    },
    {
     "name": "stdout",
     "output_type": "stream",
     "text": [
      "32124 9526 322 158\n",
      "Number of treatment 32124\n",
      "Revenue -3178.5999999999995\n",
      "****************************************************************************************************\n",
      "41650 0 480 0\n",
      "41650 0 480 0\n",
      "41650 0 480 0\n",
      "41650 0 480 0\n"
     ]
    },
    {
     "name": "stderr",
     "output_type": "stream",
     "text": [
      " 35%|███▌      | 3528/10000 [02:29<04:41, 22.95it/s]"
     ]
    },
    {
     "name": "stdout",
     "output_type": "stream",
     "text": [
      "41650 0 480 0\n",
      "41650 0 480 0\n",
      "41650 0 480 0\n",
      "41650 0 480 0\n",
      "41650 0 480 0\n"
     ]
    },
    {
     "name": "stderr",
     "output_type": "stream",
     "text": [
      " 35%|███▌      | 3534/10000 [02:29<04:30, 23.94it/s]"
     ]
    },
    {
     "name": "stdout",
     "output_type": "stream",
     "text": [
      "41650 0 480 0\n",
      "40168 1482 461 19\n",
      "Number of treatment 40168\n",
      "Revenue -1605.1999999999998\n",
      "****************************************************************************************************\n",
      "41650 0 480 0\n",
      "41650 0 480 0\n",
      "41650 0 480 0\n"
     ]
    },
    {
     "name": "stderr",
     "output_type": "stream",
     "text": [
      " 35%|███▌      | 3540/10000 [02:30<04:27, 24.18it/s]"
     ]
    },
    {
     "name": "stdout",
     "output_type": "stream",
     "text": [
      "41650 0 480 0\n",
      "12018 29632 69 411\n",
      "Number of treatment 12018\n",
      "Revenue -5222.7\n",
      "****************************************************************************************************\n",
      "41650 0 480 0\n",
      "41650 0 480 0\n",
      "41650 0 480 0\n",
      "41650 0 480 0\n"
     ]
    },
    {
     "name": "stderr",
     "output_type": "stream",
     "text": [
      " 35%|███▌      | 3546/10000 [02:30<04:19, 24.91it/s]"
     ]
    },
    {
     "name": "stdout",
     "output_type": "stream",
     "text": [
      "41650 0 480 0\n",
      "41650 0 480 0\n",
      "41650 0 480 0\n",
      "41650 0 480 0\n",
      "41650 0 480 0\n",
      "41650 0 480 0\n"
     ]
    },
    {
     "name": "stderr",
     "output_type": "stream",
     "text": [
      " 36%|███▌      | 3552/10000 [02:30<04:17, 25.01it/s]"
     ]
    },
    {
     "name": "stdout",
     "output_type": "stream",
     "text": [
      "41650 0 480 0\n",
      "41650 0 480 0\n",
      "41650 0 480 0\n",
      "41650 0 480 0\n",
      "14110 27540 86 394\n",
      "Number of treatment 14110\n",
      "Revenue -5196.5\n",
      "****************************************************************************************************\n",
      "41650 0 480 0\n"
     ]
    },
    {
     "name": "stderr",
     "output_type": "stream",
     "text": [
      "\r",
      " 36%|███▌      | 3555/10000 [02:30<04:32, 23.69it/s]"
     ]
    },
    {
     "name": "stdout",
     "output_type": "stream",
     "text": [
      "41650 0 480 0\n",
      "41650 0 480 0\n",
      "27758 13892 257 223\n",
      "Number of treatment 27758\n",
      "Revenue -3823.7\n",
      "****************************************************************************************************\n",
      "41650 0 480 0\n",
      "33831 7819 353 127\n",
      "Number of treatment 33831\n",
      "Revenue -2814.6499999999996\n",
      "****************************************************************************************************\n"
     ]
    },
    {
     "name": "stderr",
     "output_type": "stream",
     "text": [
      " 36%|███▌      | 3561/10000 [02:30<04:24, 24.35it/s]"
     ]
    },
    {
     "name": "stdout",
     "output_type": "stream",
     "text": [
      "41650 0 480 0\n",
      "41650 0 480 0\n",
      "41650 0 480 0\n",
      "41650 0 480 0\n",
      "0 41650 0 480\n"
     ]
    },
    {
     "name": "stderr",
     "output_type": "stream",
     "text": [
      " 36%|███▌      | 3567/10000 [02:31<04:25, 24.25it/s]"
     ]
    },
    {
     "name": "stdout",
     "output_type": "stream",
     "text": [
      "41650 0 480 0\n",
      "41650 0 480 0\n",
      "41648 2 480 0\n",
      "41650 0 480 0\n",
      "41650 0 480 0\n",
      "41650 0 480 0\n"
     ]
    },
    {
     "name": "stderr",
     "output_type": "stream",
     "text": [
      " 36%|███▌      | 3573/10000 [02:31<04:22, 24.51it/s]"
     ]
    },
    {
     "name": "stdout",
     "output_type": "stream",
     "text": [
      "41650 0 480 0\n",
      "41650 0 480 0\n",
      "41650 0 480 0\n",
      "0 41650 0 480\n",
      "41650 0 480 0\n"
     ]
    },
    {
     "name": "stderr",
     "output_type": "stream",
     "text": [
      " 36%|███▌      | 3579/10000 [02:31<04:16, 24.99it/s]"
     ]
    },
    {
     "name": "stdout",
     "output_type": "stream",
     "text": [
      "41650 0 480 0\n",
      "41650 0 480 0\n",
      "41650 0 480 0\n",
      "41650 0 480 0\n",
      "20069 21581 163 317\n",
      "Number of treatment 20069\n",
      "Revenue -4550.35\n",
      "****************************************************************************************************\n",
      "41650 0 480 0\n"
     ]
    },
    {
     "name": "stderr",
     "output_type": "stream",
     "text": [
      "\r",
      " 36%|███▌      | 3582/10000 [02:31<04:19, 24.69it/s]"
     ]
    },
    {
     "name": "stdout",
     "output_type": "stream",
     "text": [
      "41650 0 480 0\n",
      "41650 0 480 0\n",
      "41650 0 480 0\n",
      "41650 0 480 0\n",
      "41650 0 480 0\n"
     ]
    },
    {
     "name": "stderr",
     "output_type": "stream",
     "text": [
      " 36%|███▌      | 3588/10000 [02:32<04:25, 24.13it/s]"
     ]
    },
    {
     "name": "stdout",
     "output_type": "stream",
     "text": [
      "41650 0 480 0\n",
      "41650 0 480 0\n",
      "41650 0 480 0\n",
      "41650 0 480 0\n",
      "41650 0 480 0\n"
     ]
    },
    {
     "name": "stderr",
     "output_type": "stream",
     "text": [
      " 36%|███▌      | 3594/10000 [02:32<04:26, 24.02it/s]"
     ]
    },
    {
     "name": "stdout",
     "output_type": "stream",
     "text": [
      "41650 0 480 0\n",
      "41631 19 480 0\n",
      "41650 0 480 0\n",
      "41650 0 480 0\n",
      "41650 0 480 0\n",
      "41650 0 480 0\n"
     ]
    },
    {
     "name": "stderr",
     "output_type": "stream",
     "text": [
      " 36%|███▌      | 3600/10000 [02:32<04:24, 24.23it/s]"
     ]
    },
    {
     "name": "stdout",
     "output_type": "stream",
     "text": [
      "41650 0 480 0\n",
      "17688 23962 138 342\n",
      "Number of treatment 17688\n",
      "Revenue -4693.2\n",
      "****************************************************************************************************\n",
      "41650 0 480 0\n",
      "41650 0 480 0\n",
      "41650 0 480 0\n"
     ]
    },
    {
     "name": "stderr",
     "output_type": "stream",
     "text": [
      " 36%|███▌      | 3606/10000 [02:32<04:15, 25.04it/s]"
     ]
    },
    {
     "name": "stdout",
     "output_type": "stream",
     "text": [
      "41570 80 480 0\n",
      "Number of treatment 41570\n",
      "Revenue -1435.5\n",
      "****************************************************************************************************\n",
      "41650 0 480 0\n",
      "41650 0 480 0\n",
      "35752 5898 381 99\n",
      "41650 0 480 0\n",
      "41650 0 480 0\n"
     ]
    },
    {
     "name": "stderr",
     "output_type": "stream",
     "text": [
      "\r",
      " 36%|███▌      | 3609/10000 [02:32<04:12, 25.28it/s]"
     ]
    },
    {
     "name": "stdout",
     "output_type": "stream",
     "text": [
      "0 41650 0 480\n",
      "41650 0 480 0\n",
      "41650 0 480 0\n",
      "41650 0 480 0\n",
      "19784 21866 162 318\n",
      "Number of treatment 19784\n",
      "Revenue -4527.6\n",
      "****************************************************************************************************\n"
     ]
    },
    {
     "name": "stderr",
     "output_type": "stream",
     "text": [
      " 36%|███▌      | 3615/10000 [02:33<04:24, 24.14it/s]"
     ]
    },
    {
     "name": "stdout",
     "output_type": "stream",
     "text": [
      "11788 29862 68 412\n",
      "Number of treatment 11788\n",
      "Revenue -5208.2\n",
      "****************************************************************************************************\n",
      "41650 0 480 0\n",
      "41650 0 480 0\n",
      "41650 0 480 0\n",
      "41650 0 480 0\n"
     ]
    },
    {
     "name": "stderr",
     "output_type": "stream",
     "text": [
      " 36%|███▌      | 3621/10000 [02:33<04:17, 24.79it/s]"
     ]
    },
    {
     "name": "stdout",
     "output_type": "stream",
     "text": [
      "41650 0 480 0\n",
      "41650 0 480 0\n",
      "41650 0 480 0\n",
      "41650 0 480 0\n",
      "41650 0 480 0\n",
      "2142 39508 17 463\n",
      "Number of treatment 2142\n",
      "Revenue -4781.3\n",
      "****************************************************************************************************\n"
     ]
    },
    {
     "name": "stderr",
     "output_type": "stream",
     "text": [
      " 36%|███▋      | 3627/10000 [02:33<04:15, 24.90it/s]"
     ]
    },
    {
     "name": "stdout",
     "output_type": "stream",
     "text": [
      "0 41650 0 480\n",
      "41650 0 480 0\n",
      "40802 848 470 10\n",
      "Number of treatment 40802\n",
      "Revenue -1520.3000000000002\n",
      "****************************************************************************************************\n",
      "18336 23314 145 335\n",
      "Number of treatment 18336\n",
      "Revenue -4650.4\n",
      "****************************************************************************************************\n",
      "41650 0 480 0\n"
     ]
    },
    {
     "name": "stderr",
     "output_type": "stream",
     "text": [
      "\r",
      " 36%|███▋      | 3630/10000 [02:33<04:23, 24.16it/s]"
     ]
    },
    {
     "name": "stdout",
     "output_type": "stream",
     "text": [
      "41650 0 480 0\n",
      "13531 28119 78 402\n",
      "Number of treatment 13531\n",
      "Revenue -5269.65\n",
      "****************************************************************************************************\n",
      "41650 0 480 0\n",
      "41630 20 480 0\n",
      "Number of treatment 41630\n",
      "Revenue -1444.5\n",
      "****************************************************************************************************\n",
      "41650 0 480 0\n"
     ]
    },
    {
     "name": "stderr",
     "output_type": "stream",
     "text": [
      " 36%|███▋      | 3636/10000 [02:34<04:28, 23.70it/s]"
     ]
    },
    {
     "name": "stdout",
     "output_type": "stream",
     "text": [
      "41650 0 480 0\n",
      "41650 0 480 0\n",
      "12970 28680 75 405\n",
      "Number of treatment 12970\n",
      "Revenue -5245.5\n",
      "****************************************************************************************************\n",
      "41650 0 480 0\n",
      "41650 0 480 0\n",
      "41650 0 480 0\n"
     ]
    },
    {
     "name": "stderr",
     "output_type": "stream",
     "text": [
      " 36%|███▋      | 3642/10000 [02:34<04:19, 24.46it/s]"
     ]
    },
    {
     "name": "stdout",
     "output_type": "stream",
     "text": [
      "41650 0 480 0\n",
      "41650 0 480 0\n",
      "41650 0 480 0\n",
      "41650 0 480 0\n",
      "41650 0 480 0\n",
      "0 41650 0 480\n"
     ]
    },
    {
     "name": "stderr",
     "output_type": "stream",
     "text": [
      " 36%|███▋      | 3648/10000 [02:34<04:12, 25.13it/s]"
     ]
    },
    {
     "name": "stdout",
     "output_type": "stream",
     "text": [
      "0 41650 0 480\n",
      "41650 0 480 0\n",
      "0 41650 0 480\n",
      "41650 0 480 0\n",
      "41650 0 480 0\n",
      "41650 0 480 0\n"
     ]
    },
    {
     "name": "stderr",
     "output_type": "stream",
     "text": [
      " 37%|███▋      | 3654/10000 [02:34<04:08, 25.57it/s]"
     ]
    },
    {
     "name": "stdout",
     "output_type": "stream",
     "text": [
      "41650 0 480 0\n",
      "41650 0 480 0\n",
      "41650 0 480 0\n",
      "41650 0 480 0\n",
      "41650 0 480 0\n",
      "41650 0 480 0\n"
     ]
    },
    {
     "name": "stderr",
     "output_type": "stream",
     "text": [
      " 37%|███▋      | 3660/10000 [02:35<04:16, 24.75it/s]"
     ]
    },
    {
     "name": "stdout",
     "output_type": "stream",
     "text": [
      "41650 0 480 0\n",
      "22424 19226 189 291\n",
      "Number of treatment 22424\n",
      "Revenue -4383.6\n",
      "****************************************************************************************************\n",
      "41650 0 480 0\n",
      "41650 0 480 0\n",
      "41650 0 480 0\n"
     ]
    },
    {
     "name": "stderr",
     "output_type": "stream",
     "text": [
      " 37%|███▋      | 3666/10000 [02:35<04:12, 25.07it/s]"
     ]
    },
    {
     "name": "stdout",
     "output_type": "stream",
     "text": [
      "41650 0 480 0\n",
      "41650 0 480 0\n",
      "41650 0 480 0\n",
      "41650 0 480 0\n",
      "0 41650 0 480\n",
      "41650 0 480 0\n"
     ]
    },
    {
     "name": "stderr",
     "output_type": "stream",
     "text": [
      " 37%|███▋      | 3672/10000 [02:35<04:29, 23.51it/s]"
     ]
    },
    {
     "name": "stdout",
     "output_type": "stream",
     "text": [
      "2679 38971 20 460\n",
      "Number of treatment 2679\n",
      "Revenue -4801.85\n",
      "****************************************************************************************************\n",
      "34881 6769 373 107\n",
      "Number of treatment 34881\n",
      "Revenue -2572.1499999999996\n",
      "****************************************************************************************************\n",
      "41650 0 480 0\n",
      "41650 0 480 0\n",
      "41650 0 480 0\n"
     ]
    },
    {
     "name": "stderr",
     "output_type": "stream",
     "text": [
      " 37%|███▋      | 3678/10000 [02:35<04:21, 24.21it/s]"
     ]
    },
    {
     "name": "stdout",
     "output_type": "stream",
     "text": [
      "16991 24659 126 354\n",
      "Number of treatment 16991\n",
      "Revenue -4828.65\n",
      "****************************************************************************************************\n",
      "41650 0 480 0\n",
      "41650 0 480 0\n",
      "0 41650 0 480\n",
      "41650 0 480 0\n",
      "41650 0 480 0\n"
     ]
    },
    {
     "name": "stderr",
     "output_type": "stream",
     "text": [
      " 37%|███▋      | 3684/10000 [02:36<04:18, 24.44it/s]"
     ]
    },
    {
     "name": "stdout",
     "output_type": "stream",
     "text": [
      "41650 0 480 0\n",
      "41650 0 480 0\n",
      "41650 0 480 0\n",
      "41357 293 476 4\n",
      "Number of treatment 41357\n",
      "Revenue -1483.5500000000002\n",
      "****************************************************************************************************\n",
      "41650 0 480 0\n",
      "35496 6154 377 103\n",
      "Number of treatment 35496\n",
      "Revenue -2584.3999999999996\n",
      "****************************************************************************************************\n"
     ]
    },
    {
     "name": "stderr",
     "output_type": "stream",
     "text": [
      "\r",
      " 37%|███▋      | 3687/10000 [02:36<04:25, 23.76it/s]"
     ]
    },
    {
     "name": "stdout",
     "output_type": "stream",
     "text": [
      "41650 0 480 0\n",
      "41650 0 480 0\n",
      "41650 0 480 0\n",
      "41650 0 480 0\n",
      "33736 7914 352 128\n",
      "Number of treatment 33736\n",
      "Revenue -2820.3999999999996\n",
      "****************************************************************************************************\n"
     ]
    },
    {
     "name": "stderr",
     "output_type": "stream",
     "text": [
      " 37%|███▋      | 3693/10000 [02:36<04:21, 24.13it/s]"
     ]
    },
    {
     "name": "stdout",
     "output_type": "stream",
     "text": [
      "41626 24 480 0\n",
      "Number of treatment 41626\n",
      "Revenue -1443.8999999999996\n",
      "****************************************************************************************************\n",
      "0 41650 0 480\n",
      "41650 0 480 0\n",
      "23408 18242 202 278\n",
      "Number of treatment 23408\n",
      "Revenue -4271.2\n",
      "****************************************************************************************************\n",
      "41650 0 480 0\n"
     ]
    },
    {
     "name": "stderr",
     "output_type": "stream",
     "text": [
      " 37%|███▋      | 3699/10000 [02:36<04:16, 24.55it/s]"
     ]
    },
    {
     "name": "stdout",
     "output_type": "stream",
     "text": [
      "41650 0 480 0\n",
      "41650 0 480 0\n",
      "0 41650 0 480\n",
      "41650 0 480 0\n",
      "41650 0 480 0\n",
      "41650 0 480 0\n"
     ]
    },
    {
     "name": "stderr",
     "output_type": "stream",
     "text": [
      " 37%|███▋      | 3705/10000 [02:36<04:11, 25.04it/s]"
     ]
    },
    {
     "name": "stdout",
     "output_type": "stream",
     "text": [
      "41650 0 480 0\n",
      "41650 0 480 0\n",
      "0 41650 0 480\n",
      "20616 21034 170 310\n",
      "Number of treatment 20616\n",
      "Revenue -4492.4\n",
      "****************************************************************************************************\n",
      "41650 0 480 0\n",
      "8168 33482 55 425\n",
      "Number of treatment 8168\n",
      "Revenue -4925.2\n",
      "****************************************************************************************************\n"
     ]
    },
    {
     "name": "stderr",
     "output_type": "stream",
     "text": [
      " 37%|███▋      | 3711/10000 [02:37<04:08, 25.26it/s]"
     ]
    },
    {
     "name": "stdout",
     "output_type": "stream",
     "text": [
      "41650 0 480 0\n",
      "41650 0 480 0\n",
      "0 41650 0 480\n",
      "41650 0 480 0\n",
      "41650 0 480 0\n",
      "41650 0 480 0\n"
     ]
    },
    {
     "name": "stderr",
     "output_type": "stream",
     "text": [
      " 37%|███▋      | 3717/10000 [02:37<04:12, 24.86it/s]"
     ]
    },
    {
     "name": "stdout",
     "output_type": "stream",
     "text": [
      "41650 0 480 0\n",
      "41650 0 480 0\n",
      "41650 0 480 0\n",
      "41650 0 480 0\n",
      "41644 6 480 0\n",
      "41650 0 480 0\n"
     ]
    },
    {
     "name": "stderr",
     "output_type": "stream",
     "text": [
      " 37%|███▋      | 3723/10000 [02:37<04:25, 23.64it/s]"
     ]
    },
    {
     "name": "stdout",
     "output_type": "stream",
     "text": [
      "41650 0 480 0\n",
      "54 41596 0 480\n",
      "41650 0 480 0\n",
      "41650 0 480 0\n",
      "41650 0 480 0\n"
     ]
    },
    {
     "name": "stderr",
     "output_type": "stream",
     "text": [
      " 37%|███▋      | 3729/10000 [02:37<04:17, 24.35it/s]"
     ]
    },
    {
     "name": "stdout",
     "output_type": "stream",
     "text": [
      "41650 0 480 0\n",
      "41650 0 480 0\n",
      "41650 0 480 0\n",
      "41650 0 480 0\n",
      "41650 0 480 0\n",
      "47 41603 0 480\n"
     ]
    },
    {
     "name": "stderr",
     "output_type": "stream",
     "text": [
      "\r",
      " 37%|███▋      | 3732/10000 [02:37<04:23, 23.77it/s]"
     ]
    },
    {
     "name": "stdout",
     "output_type": "stream",
     "text": [
      "41650 0 480 0\n",
      "41650 0 480 0\n",
      "41650 0 480 0\n",
      "0 41650 0 480\n",
      "41650 0 480 0\n"
     ]
    },
    {
     "name": "stderr",
     "output_type": "stream",
     "text": [
      " 37%|███▋      | 3738/10000 [02:38<04:14, 24.57it/s]"
     ]
    },
    {
     "name": "stdout",
     "output_type": "stream",
     "text": [
      "0 41650 0 480\n",
      "41650 0 480 0\n",
      "41650 0 480 0\n",
      "41649 1 480 0\n",
      "28640 13010 272 208\n",
      "Number of treatment 28640\n",
      "Revenue -3656.0\n",
      "****************************************************************************************************\n",
      "41650 0 480 0\n"
     ]
    },
    {
     "name": "stderr",
     "output_type": "stream",
     "text": [
      " 37%|███▋      | 3744/10000 [02:38<04:07, 25.25it/s]"
     ]
    },
    {
     "name": "stdout",
     "output_type": "stream",
     "text": [
      "41650 0 480 0\n",
      "41650 0 480 0\n",
      "41650 0 480 0\n",
      "13336 28314 76 404\n",
      "Number of treatment 13336\n",
      "Revenue -5280.4\n",
      "****************************************************************************************************\n",
      "40671 979 467 13\n",
      "Number of treatment 40671\n",
      "Revenue -1560.6499999999996\n",
      "****************************************************************************************************\n",
      "41650 0 480 0\n"
     ]
    },
    {
     "name": "stderr",
     "output_type": "stream",
     "text": [
      " 38%|███▊      | 3750/10000 [02:38<04:12, 24.76it/s]"
     ]
    },
    {
     "name": "stdout",
     "output_type": "stream",
     "text": [
      "41650 0 480 0\n",
      "12139 29511 71 409\n",
      "Number of treatment 12139\n",
      "Revenue -5200.85\n",
      "****************************************************************************************************\n",
      "19640 22010 161 319\n",
      "Number of treatment 19640\n",
      "Revenue -4526.0\n",
      "****************************************************************************************************\n",
      "41650 0 480 0\n",
      "41650 0 480 0\n",
      "41650 0 480 0\n"
     ]
    },
    {
     "name": "stderr",
     "output_type": "stream",
     "text": [
      " 38%|███▊      | 3756/10000 [02:38<04:06, 25.30it/s]"
     ]
    },
    {
     "name": "stdout",
     "output_type": "stream",
     "text": [
      "7682 33968 50 430\n",
      "Number of treatment 7682\n",
      "Revenue -4952.3\n",
      "****************************************************************************************************\n",
      "41650 0 480 0\n",
      "41650 0 480 0\n",
      "41650 0 480 0\n",
      "41650 0 480 0\n"
     ]
    },
    {
     "name": "stderr",
     "output_type": "stream",
     "text": [
      " 38%|███▊      | 3762/10000 [02:39<04:22, 23.72it/s]"
     ]
    },
    {
     "name": "stdout",
     "output_type": "stream",
     "text": [
      "41650 0 480 0\n",
      "0 41650 0 480\n",
      "41650 0 480 0\n",
      "41650 0 480 0\n",
      "0 41650 0 480\n"
     ]
    },
    {
     "name": "stderr",
     "output_type": "stream",
     "text": [
      "\r",
      " 38%|███▊      | 3765/10000 [02:39<04:30, 23.09it/s]"
     ]
    },
    {
     "name": "stdout",
     "output_type": "stream",
     "text": [
      "41635 15 480 0\n",
      "41650 0 480 0\n",
      "41650 0 480 0\n",
      "41650 0 480 0\n",
      "41650 0 480 0\n"
     ]
    },
    {
     "name": "stderr",
     "output_type": "stream",
     "text": [
      " 38%|███▊      | 3771/10000 [02:39<04:42, 22.02it/s]"
     ]
    },
    {
     "name": "stdout",
     "output_type": "stream",
     "text": [
      "41650 0 480 0\n",
      "41650 0 480 0\n",
      "41650 0 480 0\n",
      "41650 0 480 0\n",
      "41650 0 480 0\n"
     ]
    },
    {
     "name": "stderr",
     "output_type": "stream",
     "text": [
      " 38%|███▊      | 3777/10000 [02:39<04:42, 22.01it/s]"
     ]
    },
    {
     "name": "stdout",
     "output_type": "stream",
     "text": [
      "41650 0 480 0\n",
      "41650 0 480 0\n",
      "13220 28430 76 404\n",
      "Number of treatment 13220\n",
      "Revenue -5263.0\n",
      "****************************************************************************************************\n",
      "41650 0 480 0\n",
      "41650 0 480 0\n"
     ]
    },
    {
     "name": "stderr",
     "output_type": "stream",
     "text": [
      "\r",
      " 38%|███▊      | 3780/10000 [02:40<04:40, 22.15it/s]"
     ]
    },
    {
     "name": "stdout",
     "output_type": "stream",
     "text": [
      "41650 0 480 0\n",
      "41650 0 480 0\n",
      "41650 0 480 0\n",
      "41650 0 480 0\n",
      "41524 126 479 1\n",
      "Number of treatment 41524\n",
      "Revenue -1448.5999999999995\n",
      "****************************************************************************************************\n"
     ]
    },
    {
     "name": "stderr",
     "output_type": "stream",
     "text": [
      " 38%|███▊      | 3786/10000 [02:40<04:35, 22.51it/s]"
     ]
    },
    {
     "name": "stdout",
     "output_type": "stream",
     "text": [
      "41650 0 480 0\n",
      "3698 37952 24 456\n",
      "Number of treatment 3698\n",
      "Revenue -4874.7\n",
      "****************************************************************************************************\n",
      "41650 0 480 0\n",
      "41650 0 480 0\n",
      "41650 0 480 0\n"
     ]
    },
    {
     "name": "stderr",
     "output_type": "stream",
     "text": [
      " 38%|███▊      | 3792/10000 [02:40<04:29, 23.07it/s]"
     ]
    },
    {
     "name": "stdout",
     "output_type": "stream",
     "text": [
      "41650 0 480 0\n",
      "41650 0 480 0\n",
      "41650 0 480 0\n",
      "41650 0 480 0\n",
      "41650 0 480 0\n"
     ]
    },
    {
     "name": "stderr",
     "output_type": "stream",
     "text": [
      "\r",
      " 38%|███▊      | 3795/10000 [02:40<04:30, 22.93it/s]"
     ]
    },
    {
     "name": "stdout",
     "output_type": "stream",
     "text": [
      "41650 0 480 0\n",
      "41650 0 480 0\n",
      "41650 0 480 0\n",
      "41650 0 480 0\n",
      "41650 0 480 0\n"
     ]
    },
    {
     "name": "stderr",
     "output_type": "stream",
     "text": [
      " 38%|███▊      | 3801/10000 [02:40<04:26, 23.30it/s]"
     ]
    },
    {
     "name": "stdout",
     "output_type": "stream",
     "text": [
      "0 41650 0 480\n",
      "41650 0 480 0\n",
      "41650 0 480 0\n",
      "41406 244 477 3\n",
      "Number of treatment 41406\n",
      "Revenue -1470.8999999999996\n",
      "****************************************************************************************************\n",
      "41650 0 480 0\n"
     ]
    },
    {
     "name": "stderr",
     "output_type": "stream",
     "text": [
      " 38%|███▊      | 3807/10000 [02:41<04:28, 23.07it/s]"
     ]
    },
    {
     "name": "stdout",
     "output_type": "stream",
     "text": [
      "41650 0 480 0\n",
      "41650 0 480 0\n",
      "12217 29433 71 409\n",
      "Number of treatment 12217\n",
      "Revenue -5212.55\n",
      "****************************************************************************************************\n",
      "41650 0 480 0\n",
      "41650 0 480 0\n"
     ]
    },
    {
     "name": "stderr",
     "output_type": "stream",
     "text": [
      "\r",
      " 38%|███▊      | 3810/10000 [02:41<04:38, 22.23it/s]"
     ]
    },
    {
     "name": "stdout",
     "output_type": "stream",
     "text": [
      "41650 0 480 0\n",
      "41650 0 480 0\n",
      "41650 0 480 0\n",
      "21418 20232 181 299\n",
      "Number of treatment 21418\n",
      "Revenue -4392.7\n",
      "****************************************************************************************************\n",
      "41650 0 480 0\n"
     ]
    },
    {
     "name": "stderr",
     "output_type": "stream",
     "text": [
      " 38%|███▊      | 3816/10000 [02:41<04:34, 22.53it/s]"
     ]
    },
    {
     "name": "stdout",
     "output_type": "stream",
     "text": [
      "0 41650 0 480\n",
      "41650 0 480 0\n",
      "41650 0 480 0\n",
      "41650 0 480 0\n",
      "41650 0 480 0\n"
     ]
    },
    {
     "name": "stderr",
     "output_type": "stream",
     "text": [
      " 38%|███▊      | 3822/10000 [02:41<04:19, 23.77it/s]"
     ]
    },
    {
     "name": "stdout",
     "output_type": "stream",
     "text": [
      "41650 0 480 0\n",
      "41650 0 480 0\n",
      "41650 0 480 0\n",
      "41650 0 480 0\n",
      "41650 0 480 0\n",
      "13765 27885 81 399\n",
      "Number of treatment 13765\n",
      "Revenue -5244.75\n",
      "****************************************************************************************************\n"
     ]
    },
    {
     "name": "stderr",
     "output_type": "stream",
     "text": [
      " 38%|███▊      | 3828/10000 [02:42<04:24, 23.36it/s]"
     ]
    },
    {
     "name": "stdout",
     "output_type": "stream",
     "text": [
      "41650 0 480 0\n",
      "23082 18568 196 284\n",
      "Number of treatment 23082\n",
      "Revenue -4342.299999999999\n",
      "****************************************************************************************************\n",
      "41650 0 480 0\n",
      "41650 0 480 0\n",
      "41650 0 480 0\n"
     ]
    },
    {
     "name": "stderr",
     "output_type": "stream",
     "text": [
      "\r",
      " 38%|███▊      | 3831/10000 [02:42<04:32, 22.65it/s]"
     ]
    },
    {
     "name": "stdout",
     "output_type": "stream",
     "text": [
      "41650 0 480 0\n",
      "41650 0 480 0\n",
      "39090 2560 439 41\n",
      "Number of treatment 39090\n",
      "Revenue -1883.5\n",
      "****************************************************************************************************\n",
      "41650 0 480 0\n",
      "41650 0 480 0\n"
     ]
    },
    {
     "name": "stderr",
     "output_type": "stream",
     "text": [
      " 38%|███▊      | 3837/10000 [02:42<04:45, 21.58it/s]"
     ]
    },
    {
     "name": "stdout",
     "output_type": "stream",
     "text": [
      "41650 0 480 0\n",
      "41650 0 480 0\n",
      "41650 0 480 0\n",
      "41650 0 480 0\n",
      "12984 28666 75 405\n"
     ]
    },
    {
     "name": "stderr",
     "output_type": "stream",
     "text": [
      " 38%|███▊      | 3843/10000 [02:42<04:50, 21.17it/s]"
     ]
    },
    {
     "name": "stdout",
     "output_type": "stream",
     "text": [
      "41650 0 480 0\n",
      "41650 0 480 0\n",
      "1562 40088 14 466\n",
      "Number of treatment 1562\n",
      "Revenue -4754.3\n",
      "****************************************************************************************************\n",
      "0 41650 0 480\n",
      "41650 0 480 0\n"
     ]
    },
    {
     "name": "stderr",
     "output_type": "stream",
     "text": [
      "\r",
      " 38%|███▊      | 3846/10000 [02:42<04:49, 21.27it/s]"
     ]
    },
    {
     "name": "stdout",
     "output_type": "stream",
     "text": [
      "41650 0 480 0\n",
      "41650 0 480 0\n",
      "41650 0 480 0\n",
      "0 41650 0 480\n",
      "41650 0 480 0\n"
     ]
    },
    {
     "name": "stderr",
     "output_type": "stream",
     "text": [
      " 39%|███▊      | 3852/10000 [02:43<04:40, 21.92it/s]"
     ]
    },
    {
     "name": "stdout",
     "output_type": "stream",
     "text": [
      "9619 32031 57 423\n",
      "Number of treatment 9619\n",
      "Revenue -5102.85\n",
      "****************************************************************************************************\n",
      "0 41650 0 480\n",
      "41650 0 480 0\n",
      "41650 0 480 0\n",
      "41650 0 480 0\n"
     ]
    },
    {
     "name": "stderr",
     "output_type": "stream",
     "text": [
      " 39%|███▊      | 3858/10000 [02:43<04:30, 22.68it/s]"
     ]
    },
    {
     "name": "stdout",
     "output_type": "stream",
     "text": [
      "41630 20 480 0\n",
      "41650 0 480 0\n",
      "41650 0 480 0\n",
      "33305 8345 347 133\n",
      "Number of treatment 33305\n",
      "Revenue -2855.75\n",
      "****************************************************************************************************\n",
      "41650 0 480 0\n"
     ]
    },
    {
     "name": "stderr",
     "output_type": "stream",
     "text": [
      "\r",
      " 39%|███▊      | 3861/10000 [02:43<04:32, 22.55it/s]"
     ]
    },
    {
     "name": "stdout",
     "output_type": "stream",
     "text": [
      "2099 39551 17 463\n",
      "Number of treatment 2099\n",
      "Revenue -4774.85\n",
      "****************************************************************************************************\n",
      "41650 0 480 0\n",
      "0 41650 0 480\n",
      "41650 0 480 0\n",
      "41650 0 480 0\n"
     ]
    },
    {
     "name": "stderr",
     "output_type": "stream",
     "text": [
      " 39%|███▊      | 3867/10000 [02:43<04:35, 22.26it/s]"
     ]
    },
    {
     "name": "stdout",
     "output_type": "stream",
     "text": [
      "41650 0 480 0\n",
      "41650 0 480 0\n",
      "9811 31839 57 423\n",
      "Number of treatment 9811\n",
      "Revenue -5131.65\n",
      "****************************************************************************************************\n",
      "41650 0 480 0\n",
      "41650 0 480 0\n"
     ]
    },
    {
     "name": "stderr",
     "output_type": "stream",
     "text": [
      " 39%|███▊      | 3873/10000 [02:44<04:44, 21.53it/s]"
     ]
    },
    {
     "name": "stdout",
     "output_type": "stream",
     "text": [
      "41650 0 480 0\n",
      "41650 0 480 0\n",
      "41650 0 480 0\n",
      "41650 0 480 0\n",
      "41650 0 480 0\n"
     ]
    },
    {
     "name": "stderr",
     "output_type": "stream",
     "text": [
      "\r",
      " 39%|███▉      | 3876/10000 [02:44<04:46, 21.41it/s]"
     ]
    },
    {
     "name": "stdout",
     "output_type": "stream",
     "text": [
      "41650 0 480 0\n",
      "12154 29496 71 409\n",
      "Number of treatment 12154\n",
      "Revenue -5203.1\n",
      "****************************************************************************************************\n",
      "41650 0 480 0\n",
      "25155 16495 223 257\n",
      "Number of treatment 25155\n",
      "Revenue -4113.25\n",
      "****************************************************************************************************\n",
      "41650 0 480 0\n"
     ]
    },
    {
     "name": "stderr",
     "output_type": "stream",
     "text": [
      " 39%|███▉      | 3882/10000 [02:44<04:35, 22.19it/s]"
     ]
    },
    {
     "name": "stdout",
     "output_type": "stream",
     "text": [
      "0 41650 0 480\n",
      "41650 0 480 0\n",
      "41650 0 480 0\n",
      "41650 0 480 0\n",
      "41650 0 480 0\n"
     ]
    },
    {
     "name": "stderr",
     "output_type": "stream",
     "text": [
      " 39%|███▉      | 3888/10000 [02:44<04:14, 23.98it/s]"
     ]
    },
    {
     "name": "stdout",
     "output_type": "stream",
     "text": [
      "41650 0 480 0\n",
      "41650 0 480 0\n",
      "41650 0 480 0\n",
      "41650 0 480 0\n",
      "41650 0 480 0\n",
      "14116 27534 86 394\n",
      "Number of treatment 14116\n",
      "Revenue -5197.4\n",
      "****************************************************************************************************\n"
     ]
    },
    {
     "name": "stderr",
     "output_type": "stream",
     "text": [
      " 39%|███▉      | 3894/10000 [02:45<04:15, 23.87it/s]"
     ]
    },
    {
     "name": "stdout",
     "output_type": "stream",
     "text": [
      "41650 0 480 0\n",
      "41650 0 480 0\n",
      "41650 0 480 0\n",
      "41650 0 480 0\n",
      "41650 0 480 0\n",
      "0 41650 0 480\n"
     ]
    },
    {
     "name": "stderr",
     "output_type": "stream",
     "text": [
      " 39%|███▉      | 3900/10000 [02:45<04:10, 24.32it/s]"
     ]
    },
    {
     "name": "stdout",
     "output_type": "stream",
     "text": [
      "41650 0 480 0\n",
      "0 41650 0 480\n",
      "35633 6017 378 102\n",
      "Number of treatment 35633\n",
      "Revenue -2584.95\n",
      "****************************************************************************************************\n",
      "41650 0 480 0\n",
      "19518 22132 159 321\n",
      "Number of treatment 19518\n",
      "Revenue -4547.7\n",
      "****************************************************************************************************\n"
     ]
    },
    {
     "name": "stderr",
     "output_type": "stream",
     "text": [
      " 39%|███▉      | 3906/10000 [02:45<04:06, 24.68it/s]"
     ]
    },
    {
     "name": "stdout",
     "output_type": "stream",
     "text": [
      "41650 0 480 0\n",
      "41650 0 480 0\n",
      "0 41650 0 480\n",
      "13373 28277 77 403\n",
      "Number of treatment 13373\n",
      "Revenue -5265.95\n",
      "****************************************************************************************************\n",
      "26057 15593 233 247\n",
      "Number of treatment 26057\n",
      "Revenue -4048.5499999999997\n",
      "****************************************************************************************************\n",
      "41650 0 480 0\n"
     ]
    },
    {
     "name": "stderr",
     "output_type": "stream",
     "text": [
      " 39%|███▉      | 3912/10000 [02:45<03:59, 25.40it/s]"
     ]
    },
    {
     "name": "stdout",
     "output_type": "stream",
     "text": [
      "1270 40380 12 468\n",
      "Number of treatment 1270\n",
      "Revenue -4750.5\n",
      "****************************************************************************************************\n",
      "41650 0 480 0\n",
      "41650 0 480 0\n",
      "0 41650 0 480\n",
      "0 41650 0 480\n",
      "41650 0 480 0\n"
     ]
    },
    {
     "name": "stderr",
     "output_type": "stream",
     "text": [
      " 39%|███▉      | 3918/10000 [02:46<03:55, 25.83it/s]"
     ]
    },
    {
     "name": "stdout",
     "output_type": "stream",
     "text": [
      "41650 0 480 0\n",
      "41650 0 480 0\n",
      "41650 0 480 0\n",
      "41650 0 480 0\n",
      "41650 0 480 0\n",
      "41650 0 480 0\n"
     ]
    },
    {
     "name": "stderr",
     "output_type": "stream",
     "text": [
      " 39%|███▉      | 3924/10000 [02:46<03:54, 25.92it/s]"
     ]
    },
    {
     "name": "stdout",
     "output_type": "stream",
     "text": [
      "41650 0 480 0\n",
      "41650 0 480 0\n",
      "41650 0 480 0\n",
      "41650 0 480 0\n",
      "41650 0 480 0\n",
      "41650 0 480 0\n"
     ]
    },
    {
     "name": "stderr",
     "output_type": "stream",
     "text": [
      " 39%|███▉      | 3930/10000 [02:46<03:56, 25.67it/s]"
     ]
    },
    {
     "name": "stdout",
     "output_type": "stream",
     "text": [
      "12386 29264 72 408\n",
      "Number of treatment 12386\n",
      "Revenue -5217.9\n",
      "****************************************************************************************************\n",
      "41650 0 480 0\n",
      "41650 0 480 0\n",
      "41650 0 480 0\n",
      "41650 0 480 0\n",
      "41650 0 480 0\n"
     ]
    },
    {
     "name": "stderr",
     "output_type": "stream",
     "text": [
      " 39%|███▉      | 3936/10000 [02:46<04:01, 25.13it/s]"
     ]
    },
    {
     "name": "stdout",
     "output_type": "stream",
     "text": [
      "41650 0 480 0\n",
      "35087 6563 374 106\n",
      "Number of treatment 35087\n",
      "Revenue -2583.05\n",
      "****************************************************************************************************\n",
      "41650 0 480 0\n",
      "41650 0 480 0\n",
      "41650 0 480 0\n",
      "41650 0 480 0\n"
     ]
    },
    {
     "name": "stderr",
     "output_type": "stream",
     "text": [
      " 39%|███▉      | 3942/10000 [02:46<03:54, 25.80it/s]"
     ]
    },
    {
     "name": "stdout",
     "output_type": "stream",
     "text": [
      "41650 0 480 0\n",
      "40002 1648 458 22\n",
      "Number of treatment 40002\n",
      "Revenue -1640.3000000000002\n",
      "****************************************************************************************************\n",
      "41650 0 480 0\n",
      "41650 0 480 0\n",
      "41650 0 480 0\n",
      "41650 0 480 0\n"
     ]
    },
    {
     "name": "stderr",
     "output_type": "stream",
     "text": [
      " 39%|███▉      | 3948/10000 [02:47<03:53, 25.97it/s]"
     ]
    },
    {
     "name": "stdout",
     "output_type": "stream",
     "text": [
      "41650 0 480 0\n",
      "41650 0 480 0\n",
      "10 41640 0 480\n",
      "41650 0 480 0\n",
      "41650 0 480 0\n",
      "41650 0 480 0\n"
     ]
    },
    {
     "name": "stderr",
     "output_type": "stream",
     "text": [
      "\r",
      " 40%|███▉      | 3951/10000 [02:47<04:01, 25.05it/s]"
     ]
    },
    {
     "name": "stdout",
     "output_type": "stream",
     "text": [
      "41611 39 480 0\n",
      "41650 0 480 0\n",
      "41600 50 480 0\n",
      "41650 0 480 0\n",
      "41650 0 480 0\n"
     ]
    },
    {
     "name": "stderr",
     "output_type": "stream",
     "text": [
      " 40%|███▉      | 3957/10000 [02:47<04:03, 24.83it/s]"
     ]
    },
    {
     "name": "stdout",
     "output_type": "stream",
     "text": [
      "41650 0 480 0\n",
      "41650 0 480 0\n",
      "6100 35550 40 440\n",
      "Number of treatment 6100\n",
      "Revenue -4915.0\n",
      "****************************************************************************************************\n",
      "41650 0 480 0\n",
      "41650 0 480 0\n",
      "0 41650 0 480\n"
     ]
    },
    {
     "name": "stderr",
     "output_type": "stream",
     "text": [
      " 40%|███▉      | 3963/10000 [02:47<04:05, 24.64it/s]"
     ]
    },
    {
     "name": "stdout",
     "output_type": "stream",
     "text": [
      "41650 0 480 0\n",
      "41650 0 480 0\n",
      "41650 0 480 0\n",
      "0 41650 0 480\n",
      "41650 0 480 0\n"
     ]
    },
    {
     "name": "stderr",
     "output_type": "stream",
     "text": [
      " 40%|███▉      | 3969/10000 [02:48<04:08, 24.24it/s]"
     ]
    },
    {
     "name": "stdout",
     "output_type": "stream",
     "text": [
      "41488 162 478 2\n",
      "41650 0 480 0\n",
      "39399 2251 447 33\n",
      "Number of treatment 39399\n",
      "Revenue -1769.8499999999995\n",
      "****************************************************************************************************\n",
      "41650 0 480 0\n",
      "41650 0 480 0\n"
     ]
    },
    {
     "name": "stderr",
     "output_type": "stream",
     "text": [
      " 40%|███▉      | 3975/10000 [02:48<04:02, 24.81it/s]"
     ]
    },
    {
     "name": "stdout",
     "output_type": "stream",
     "text": [
      "41650 0 480 0\n",
      "41650 0 480 0\n",
      "41650 0 480 0\n",
      "41650 0 480 0\n",
      "41650 0 480 0\n",
      "41650 0 480 0\n"
     ]
    },
    {
     "name": "stderr",
     "output_type": "stream",
     "text": [
      "\r",
      " 40%|███▉      | 3978/10000 [02:48<04:16, 23.50it/s]"
     ]
    },
    {
     "name": "stdout",
     "output_type": "stream",
     "text": [
      "41635 15 480 0\n",
      "40720 930 469 11\n",
      "Number of treatment 40720\n",
      "Revenue -1528.0\n",
      "****************************************************************************************************\n",
      "41650 0 480 0\n",
      "41650 0 480 0\n",
      "41650 0 480 0\n"
     ]
    },
    {
     "name": "stderr",
     "output_type": "stream",
     "text": [
      " 40%|███▉      | 3984/10000 [02:48<04:30, 22.27it/s]"
     ]
    },
    {
     "name": "stdout",
     "output_type": "stream",
     "text": [
      "7864 33786 52 428\n",
      "Number of treatment 7864\n",
      "Revenue -4939.6\n",
      "****************************************************************************************************\n",
      "41650 0 480 0\n",
      "41650 0 480 0\n",
      "19111 22539 153 327\n",
      "Number of treatment 19111\n",
      "Revenue -4606.65\n",
      "****************************************************************************************************\n",
      "41650 0 480 0\n"
     ]
    },
    {
     "name": "stderr",
     "output_type": "stream",
     "text": [
      " 40%|███▉      | 3990/10000 [02:49<04:36, 21.77it/s]"
     ]
    },
    {
     "name": "stdout",
     "output_type": "stream",
     "text": [
      "41650 0 480 0\n",
      "41650 0 480 0\n",
      "41650 0 480 0\n",
      "0 41650 0 480\n",
      "41650 0 480 0\n"
     ]
    },
    {
     "name": "stderr",
     "output_type": "stream",
     "text": [
      "\r",
      " 40%|███▉      | 3993/10000 [02:49<04:27, 22.42it/s]"
     ]
    },
    {
     "name": "stdout",
     "output_type": "stream",
     "text": [
      "41650 0 480 0\n",
      "0 41650 0 480\n",
      "41650 0 480 0\n",
      "0 41650 0 480\n",
      "15870 25780 107 373\n",
      "Number of treatment 15870\n",
      "Revenue -5040.5\n",
      "****************************************************************************************************\n"
     ]
    },
    {
     "name": "stderr",
     "output_type": "stream",
     "text": [
      " 40%|███▉      | 3999/10000 [02:49<04:29, 22.29it/s]"
     ]
    },
    {
     "name": "stdout",
     "output_type": "stream",
     "text": [
      "41650 0 480 0\n",
      "41650 0 480 0\n",
      "41650 0 480 0\n",
      "41650 0 480 0\n",
      "41650 0 480 0\n"
     ]
    },
    {
     "name": "stderr",
     "output_type": "stream",
     "text": [
      " 40%|████      | 4005/10000 [02:49<04:25, 22.62it/s]"
     ]
    },
    {
     "name": "stdout",
     "output_type": "stream",
     "text": [
      "41650 0 480 0\n",
      "41650 0 480 0\n",
      "41650 0 480 0\n",
      "0 41650 0 480\n",
      "41650 0 480 0\n"
     ]
    },
    {
     "name": "stderr",
     "output_type": "stream",
     "text": [
      "\r",
      " 40%|████      | 4008/10000 [02:49<04:17, 23.29it/s]"
     ]
    },
    {
     "name": "stdout",
     "output_type": "stream",
     "text": [
      "41650 0 480 0\n",
      "41650 0 480 0\n",
      "41650 0 480 0\n",
      "0 41650 0 480\n",
      "41260 390 475 5\n",
      "Number of treatment 41260\n",
      "Revenue -1489.0\n",
      "****************************************************************************************************\n"
     ]
    },
    {
     "name": "stderr",
     "output_type": "stream",
     "text": [
      " 40%|████      | 4014/10000 [02:50<04:25, 22.57it/s]"
     ]
    },
    {
     "name": "stdout",
     "output_type": "stream",
     "text": [
      "41650 0 480 0\n",
      "41650 0 480 0\n",
      "41650 0 480 0\n",
      "41650 0 480 0\n",
      "41650 0 480 0\n"
     ]
    },
    {
     "name": "stderr",
     "output_type": "stream",
     "text": [
      " 40%|████      | 4020/10000 [02:50<04:40, 21.35it/s]"
     ]
    },
    {
     "name": "stdout",
     "output_type": "stream",
     "text": [
      "41650 0 480 0\n",
      "14297 27353 89 391\n",
      "Number of treatment 14297\n",
      "Revenue -5164.549999999999\n",
      "****************************************************************************************************\n",
      "41650 0 480 0\n",
      "41650 0 480 0\n",
      "41650 0 480 0\n"
     ]
    },
    {
     "name": "stderr",
     "output_type": "stream",
     "text": [
      "\r",
      " 40%|████      | 4023/10000 [02:50<04:43, 21.09it/s]"
     ]
    },
    {
     "name": "stdout",
     "output_type": "stream",
     "text": [
      "41650 0 480 0\n",
      "31280 10370 308 172\n",
      "Number of treatment 31280\n",
      "Revenue -3332.0\n",
      "****************************************************************************************************\n",
      "41650 0 480 0\n",
      "40892 758 470 10\n",
      "Number of treatment 40892\n",
      "Revenue -1533.8000000000002\n",
      "****************************************************************************************************\n",
      "41650 0 480 0\n"
     ]
    },
    {
     "name": "stderr",
     "output_type": "stream",
     "text": [
      " 40%|████      | 4029/10000 [02:50<04:38, 21.44it/s]"
     ]
    },
    {
     "name": "stdout",
     "output_type": "stream",
     "text": [
      "19482 22168 159 321\n",
      "Number of treatment 19482\n",
      "Revenue -4542.299999999999\n",
      "****************************************************************************************************\n",
      "41650 0 480 0\n",
      "0 41650 0 480\n",
      "41650 0 480 0\n",
      "41650 0 480 0\n"
     ]
    },
    {
     "name": "stderr",
     "output_type": "stream",
     "text": [
      " 40%|████      | 4035/10000 [02:51<04:36, 21.60it/s]"
     ]
    },
    {
     "name": "stdout",
     "output_type": "stream",
     "text": [
      "21777 19873 182 298\n",
      "Number of treatment 21777\n",
      "Revenue -4426.549999999999\n",
      "****************************************************************************************************\n",
      "41650 0 480 0\n",
      "41650 0 480 0\n",
      "31111 10539 307 173\n",
      "Number of treatment 31111\n",
      "Revenue -3326.6499999999996\n",
      "****************************************************************************************************\n",
      "41650 0 480 0\n"
     ]
    },
    {
     "name": "stderr",
     "output_type": "stream",
     "text": [
      "\r",
      " 40%|████      | 4038/10000 [02:51<04:35, 21.63it/s]"
     ]
    },
    {
     "name": "stdout",
     "output_type": "stream",
     "text": [
      "41650 0 480 0\n",
      "41650 0 480 0\n",
      "41650 0 480 0\n",
      "41650 0 480 0\n",
      "41650 0 480 0\n"
     ]
    },
    {
     "name": "stderr",
     "output_type": "stream",
     "text": [
      " 40%|████      | 4044/10000 [02:51<04:21, 22.81it/s]"
     ]
    },
    {
     "name": "stdout",
     "output_type": "stream",
     "text": [
      "41331 319 476 4\n",
      "Number of treatment 41331\n",
      "Revenue -1479.6499999999996\n",
      "****************************************************************************************************\n",
      "41650 0 480 0\n",
      "41650 0 480 0\n",
      "41650 0 480 0\n",
      "41650 0 480 0\n",
      "41650 0 480 0\n"
     ]
    },
    {
     "name": "stderr",
     "output_type": "stream",
     "text": [
      " 40%|████      | 4050/10000 [02:51<04:05, 24.22it/s]"
     ]
    },
    {
     "name": "stdout",
     "output_type": "stream",
     "text": [
      "41650 0 480 0\n",
      "41650 0 480 0\n",
      "41650 0 480 0\n",
      "41650 0 480 0\n",
      "41650 0 480 0\n"
     ]
    },
    {
     "name": "stderr",
     "output_type": "stream",
     "text": [
      " 41%|████      | 4056/10000 [02:51<04:04, 24.31it/s]"
     ]
    },
    {
     "name": "stdout",
     "output_type": "stream",
     "text": [
      "41650 0 480 0\n",
      "16816 24834 124 356\n",
      "Number of treatment 16816\n",
      "Revenue -4842.4\n",
      "****************************************************************************************************\n",
      "41650 0 480 0\n",
      "41650 0 480 0\n",
      "41650 0 480 0\n"
     ]
    },
    {
     "name": "stderr",
     "output_type": "stream",
     "text": [
      " 41%|████      | 4062/10000 [02:52<03:57, 24.95it/s]"
     ]
    },
    {
     "name": "stdout",
     "output_type": "stream",
     "text": [
      "41650 0 480 0\n",
      "41650 0 480 0\n",
      "41650 0 480 0\n",
      "41650 0 480 0\n",
      "41650 0 480 0\n",
      "41650 0 480 0\n"
     ]
    },
    {
     "name": "stderr",
     "output_type": "stream",
     "text": [
      " 41%|████      | 4068/10000 [02:52<03:56, 25.12it/s]"
     ]
    },
    {
     "name": "stdout",
     "output_type": "stream",
     "text": [
      "41650 0 480 0\n",
      "41650 0 480 0\n",
      "19792 21858 162 318\n",
      "Number of treatment 19792\n",
      "Revenue -4528.799999999999\n",
      "****************************************************************************************************\n",
      "41650 0 480 0\n",
      "12816 28834 74 406\n",
      "41650 0 480 0\n"
     ]
    },
    {
     "name": "stderr",
     "output_type": "stream",
     "text": [
      " 41%|████      | 4074/10000 [02:52<03:52, 25.50it/s]"
     ]
    },
    {
     "name": "stdout",
     "output_type": "stream",
     "text": [
      "41650 0 480 0\n",
      "41650 0 480 0\n",
      "41650 0 480 0\n",
      "41650 0 480 0\n",
      "41650 0 480 0\n",
      "41650 0 480 0\n"
     ]
    },
    {
     "name": "stderr",
     "output_type": "stream",
     "text": [
      " 41%|████      | 4080/10000 [02:52<03:52, 25.42it/s]"
     ]
    },
    {
     "name": "stdout",
     "output_type": "stream",
     "text": [
      "20039 21611 163 317\n",
      "Number of treatment 20039\n",
      "Revenue -4545.85\n",
      "****************************************************************************************************\n",
      "41650 0 480 0\n",
      "41650 0 480 0\n",
      "33267 8383 347 133\n",
      "Number of treatment 33267\n",
      "Revenue -2850.05\n",
      "****************************************************************************************************\n",
      "41650 0 480 0\n",
      "41650 0 480 0\n"
     ]
    },
    {
     "name": "stderr",
     "output_type": "stream",
     "text": [
      " 41%|████      | 4086/10000 [02:53<03:52, 25.45it/s]"
     ]
    },
    {
     "name": "stdout",
     "output_type": "stream",
     "text": [
      "13046 28604 75 405\n",
      "Number of treatment 13046\n",
      "Revenue -5256.9\n",
      "****************************************************************************************************\n",
      "41650 0 480 0\n",
      "13418 28232 77 403\n",
      "41650 0 480 0\n",
      "41241 409 474 6\n",
      "Number of treatment 41241\n",
      "Revenue -1506.1499999999996\n",
      "****************************************************************************************************\n",
      "41650 0 480 0\n"
     ]
    },
    {
     "name": "stderr",
     "output_type": "stream",
     "text": [
      " 41%|████      | 4092/10000 [02:53<03:51, 25.47it/s]"
     ]
    },
    {
     "name": "stdout",
     "output_type": "stream",
     "text": [
      "41650 0 480 0\n",
      "41650 0 480 0\n",
      "41650 0 480 0\n",
      "41650 0 480 0\n",
      "41650 0 480 0\n",
      "41650 0 480 0\n"
     ]
    },
    {
     "name": "stderr",
     "output_type": "stream",
     "text": [
      "\r",
      " 41%|████      | 4095/10000 [02:53<04:09, 23.71it/s]"
     ]
    },
    {
     "name": "stdout",
     "output_type": "stream",
     "text": [
      "0 41650 0 480\n",
      "41635 15 480 0\n",
      "41650 0 480 0\n",
      "41650 0 480 0\n",
      "41650 0 480 0\n"
     ]
    },
    {
     "name": "stderr",
     "output_type": "stream",
     "text": [
      " 41%|████      | 4101/10000 [02:53<04:12, 23.39it/s]"
     ]
    },
    {
     "name": "stdout",
     "output_type": "stream",
     "text": [
      "0 41650 0 480\n",
      "41650 0 480 0\n",
      "41650 0 480 0\n",
      "41650 0 480 0\n",
      "41650 0 480 0\n"
     ]
    },
    {
     "name": "stderr",
     "output_type": "stream",
     "text": [
      " 41%|████      | 4107/10000 [02:54<04:17, 22.89it/s]"
     ]
    },
    {
     "name": "stdout",
     "output_type": "stream",
     "text": [
      "41565 85 480 0\n",
      "41650 0 480 0\n",
      "41650 0 480 0\n",
      "41650 0 480 0\n",
      "41650 0 480 0\n"
     ]
    },
    {
     "name": "stderr",
     "output_type": "stream",
     "text": [
      "\r",
      " 41%|████      | 4110/10000 [02:54<04:13, 23.20it/s]"
     ]
    },
    {
     "name": "stdout",
     "output_type": "stream",
     "text": [
      "41650 0 480 0\n",
      "41650 0 480 0\n",
      "0 41650 0 480\n",
      "13227 28423 76 404\n",
      "Number of treatment 13227\n",
      "Revenue -5264.05\n",
      "****************************************************************************************************\n",
      "41650 0 480 0\n"
     ]
    },
    {
     "name": "stderr",
     "output_type": "stream",
     "text": [
      " 41%|████      | 4116/10000 [02:54<04:08, 23.66it/s]"
     ]
    },
    {
     "name": "stdout",
     "output_type": "stream",
     "text": [
      "41650 0 480 0\n",
      "41650 0 480 0\n",
      "32527 9123 328 152\n",
      "Number of treatment 32527\n",
      "Revenue -3119.05\n",
      "****************************************************************************************************\n",
      "41650 0 480 0\n",
      "0 41650 0 480\n",
      "41650 0 480 0\n"
     ]
    },
    {
     "name": "stderr",
     "output_type": "stream",
     "text": [
      " 41%|████      | 4122/10000 [02:54<03:58, 24.69it/s]"
     ]
    },
    {
     "name": "stdout",
     "output_type": "stream",
     "text": [
      "41650 0 480 0\n",
      "41650 0 480 0\n",
      "41650 0 480 0\n",
      "41650 0 480 0\n",
      "41650 0 480 0\n",
      "35977 5673 384 96\n",
      "Number of treatment 35977\n",
      "Revenue -2516.55\n",
      "****************************************************************************************************\n"
     ]
    },
    {
     "name": "stderr",
     "output_type": "stream",
     "text": [
      " 41%|████▏     | 4128/10000 [02:54<04:10, 23.48it/s]"
     ]
    },
    {
     "name": "stdout",
     "output_type": "stream",
     "text": [
      "41650 0 480 0\n",
      "41650 0 480 0\n",
      "41650 0 480 0\n",
      "23593 18057 205 275\n",
      "Number of treatment 23593\n",
      "Revenue -4238.95\n",
      "****************************************************************************************************\n",
      "14366 27284 89 391\n",
      "Number of treatment 14366\n",
      "Revenue -5174.9\n",
      "****************************************************************************************************\n"
     ]
    },
    {
     "name": "stderr",
     "output_type": "stream",
     "text": [
      " 41%|████▏     | 4134/10000 [02:55<04:16, 22.91it/s]"
     ]
    },
    {
     "name": "stdout",
     "output_type": "stream",
     "text": [
      "37574 4076 405 75\n",
      "Number of treatment 37574\n",
      "Revenue -2336.0999999999995\n",
      "****************************************************************************************************\n",
      "41650 0 480 0\n",
      "41650 0 480 0\n",
      "41650 0 480 0\n",
      "41650 0 480 0\n"
     ]
    },
    {
     "name": "stderr",
     "output_type": "stream",
     "text": [
      "\r",
      " 41%|████▏     | 4137/10000 [02:55<04:17, 22.74it/s]"
     ]
    },
    {
     "name": "stdout",
     "output_type": "stream",
     "text": [
      "41650 0 480 0\n",
      "41650 0 480 0\n",
      "41650 0 480 0\n",
      "0 41650 0 480\n",
      "41650 0 480 0\n"
     ]
    },
    {
     "name": "stderr",
     "output_type": "stream",
     "text": [
      " 41%|████▏     | 4143/10000 [02:55<04:15, 22.94it/s]"
     ]
    },
    {
     "name": "stdout",
     "output_type": "stream",
     "text": [
      "41650 0 480 0\n",
      "41650 0 480 0\n",
      "41650 0 480 0\n",
      "41650 0 480 0\n",
      "41650 0 480 0\n"
     ]
    },
    {
     "name": "stderr",
     "output_type": "stream",
     "text": [
      " 41%|████▏     | 4149/10000 [02:55<03:59, 24.43it/s]"
     ]
    },
    {
     "name": "stdout",
     "output_type": "stream",
     "text": [
      "0 41650 0 480\n",
      "41650 0 480 0\n",
      "41650 0 480 0\n",
      "28151 13499 267 213\n",
      "Number of treatment 28151\n",
      "Revenue -3682.6499999999996\n",
      "****************************************************************************************************\n",
      "41650 0 480 0\n",
      "41650 0 480 0\n"
     ]
    },
    {
     "name": "stderr",
     "output_type": "stream",
     "text": [
      " 42%|████▏     | 4155/10000 [02:56<03:52, 25.10it/s]"
     ]
    },
    {
     "name": "stdout",
     "output_type": "stream",
     "text": [
      "41650 0 480 0\n",
      "41650 0 480 0\n",
      "41650 0 480 0\n",
      "0 41650 0 480\n",
      "41650 0 480 0\n",
      "41650 0 480 0\n"
     ]
    },
    {
     "name": "stderr",
     "output_type": "stream",
     "text": [
      " 42%|████▏     | 4161/10000 [02:56<03:55, 24.79it/s]"
     ]
    },
    {
     "name": "stdout",
     "output_type": "stream",
     "text": [
      "41650 0 480 0\n",
      "41650 0 480 0\n",
      "41650 0 480 0\n",
      "41650 0 480 0\n",
      "39928 1722 456 24\n",
      "41650 0 480 0\n"
     ]
    },
    {
     "name": "stderr",
     "output_type": "stream",
     "text": [
      " 42%|████▏     | 4167/10000 [02:56<03:51, 25.19it/s]"
     ]
    },
    {
     "name": "stdout",
     "output_type": "stream",
     "text": [
      "40157 1493 461 19\n",
      "Number of treatment 40157\n",
      "Revenue -1603.5500000000002\n",
      "****************************************************************************************************\n",
      "25481 16169 226 254\n",
      "Number of treatment 25481\n",
      "Revenue -4102.15\n",
      "****************************************************************************************************\n",
      "41650 0 480 0\n",
      "0 41650 0 480\n",
      "41650 0 480 0\n",
      "41650 0 480 0\n"
     ]
    },
    {
     "name": "stderr",
     "output_type": "stream",
     "text": [
      " 42%|████▏     | 4173/10000 [02:56<03:48, 25.55it/s]"
     ]
    },
    {
     "name": "stdout",
     "output_type": "stream",
     "text": [
      "41650 0 480 0\n",
      "41650 0 480 0\n",
      "41650 0 480 0\n",
      "0 41650 0 480\n",
      "41650 0 480 0\n",
      "41650 0 480 0\n"
     ]
    },
    {
     "name": "stderr",
     "output_type": "stream",
     "text": [
      " 42%|████▏     | 4179/10000 [02:56<03:51, 25.12it/s]"
     ]
    },
    {
     "name": "stdout",
     "output_type": "stream",
     "text": [
      "41650 0 480 0\n",
      "41650 0 480 0\n",
      "41650 0 480 0\n",
      "26770 14880 243 237\n",
      "Number of treatment 26770\n",
      "Revenue -3955.5\n",
      "****************************************************************************************************\n",
      "41650 0 480 0\n"
     ]
    },
    {
     "name": "stderr",
     "output_type": "stream",
     "text": [
      "\r",
      " 42%|████▏     | 4182/10000 [02:57<04:03, 23.93it/s]"
     ]
    },
    {
     "name": "stdout",
     "output_type": "stream",
     "text": [
      "41650 0 480 0\n",
      "41650 0 480 0\n",
      "40121 1529 459 21\n",
      "Number of treatment 40121\n",
      "Revenue -1638.1499999999996\n",
      "****************************************************************************************************\n",
      "41650 0 480 0\n",
      "41650 0 480 0\n"
     ]
    },
    {
     "name": "stderr",
     "output_type": "stream",
     "text": [
      " 42%|████▏     | 4188/10000 [02:57<03:54, 24.82it/s]"
     ]
    },
    {
     "name": "stdout",
     "output_type": "stream",
     "text": [
      "41650 0 480 0\n",
      "41650 0 480 0\n",
      "41650 0 480 0\n",
      "15655 25995 100 380\n",
      "Number of treatment 15655\n",
      "Revenue -5148.25\n",
      "****************************************************************************************************\n",
      "41650 0 480 0\n"
     ]
    },
    {
     "name": "stderr",
     "output_type": "stream",
     "text": [
      " 42%|████▏     | 4194/10000 [02:57<04:05, 23.66it/s]"
     ]
    },
    {
     "name": "stdout",
     "output_type": "stream",
     "text": [
      "41612 38 480 0\n",
      "Number of treatment 41612\n",
      "Revenue -1441.8000000000002\n",
      "****************************************************************************************************\n",
      "41650 0 480 0\n",
      "41650 0 480 0\n",
      "41650 0 480 0\n",
      "41650 0 480 0\n"
     ]
    },
    {
     "name": "stderr",
     "output_type": "stream",
     "text": [
      "\r",
      " 42%|████▏     | 4197/10000 [02:57<04:04, 23.77it/s]"
     ]
    },
    {
     "name": "stdout",
     "output_type": "stream",
     "text": [
      "41650 0 480 0\n",
      "41650 0 480 0\n",
      "41650 0 480 0\n",
      "41650 0 480 0\n",
      "41650 0 480 0\n"
     ]
    },
    {
     "name": "stderr",
     "output_type": "stream",
     "text": [
      " 42%|████▏     | 4203/10000 [02:57<03:59, 24.16it/s]"
     ]
    },
    {
     "name": "stdout",
     "output_type": "stream",
     "text": [
      "13245 28405 76 404\n",
      "Number of treatment 13245\n",
      "Revenue -5266.75\n",
      "****************************************************************************************************\n",
      "37080 4570 400 80\n",
      "Number of treatment 37080\n",
      "Revenue -2362.0\n",
      "****************************************************************************************************\n",
      "33309 8341 347 133\n",
      "Number of treatment 33309\n",
      "Revenue -2856.3499999999995\n",
      "****************************************************************************************************\n",
      "41650 0 480 0\n",
      "41650 0 480 0\n",
      "41650 0 480 0\n"
     ]
    },
    {
     "name": "stderr",
     "output_type": "stream",
     "text": [
      " 42%|████▏     | 4209/10000 [02:58<03:50, 25.12it/s]"
     ]
    },
    {
     "name": "stdout",
     "output_type": "stream",
     "text": [
      "0 41650 0 480\n",
      "41650 0 480 0\n",
      "41650 0 480 0\n",
      "41650 0 480 0\n",
      "41650 0 480 0\n",
      "41650 0 480 0\n"
     ]
    },
    {
     "name": "stderr",
     "output_type": "stream",
     "text": [
      " 42%|████▏     | 4215/10000 [02:58<03:44, 25.73it/s]"
     ]
    },
    {
     "name": "stdout",
     "output_type": "stream",
     "text": [
      "41650 0 480 0\n",
      "41650 0 480 0\n",
      "41650 0 480 0\n",
      "34467 7183 363 117\n",
      "Number of treatment 34467\n",
      "Revenue -2710.05\n",
      "****************************************************************************************************\n",
      "26158 15492 236 244\n",
      "Number of treatment 26158\n",
      "Revenue -4003.7\n",
      "****************************************************************************************************\n"
     ]
    },
    {
     "name": "stderr",
     "output_type": "stream",
     "text": [
      " 42%|████▏     | 4221/10000 [02:58<03:50, 25.12it/s]"
     ]
    },
    {
     "name": "stdout",
     "output_type": "stream",
     "text": [
      "41520 130 479 1\n",
      "Number of treatment 41520\n",
      "Revenue -1448.0\n",
      "****************************************************************************************************\n",
      "41650 0 480 0\n",
      "41650 0 480 0\n",
      "41650 0 480 0\n",
      "41650 0 480 0\n"
     ]
    },
    {
     "name": "stderr",
     "output_type": "stream",
     "text": [
      "\r",
      " 42%|████▏     | 4224/10000 [02:58<04:01, 23.88it/s]"
     ]
    },
    {
     "name": "stdout",
     "output_type": "stream",
     "text": [
      "41650 0 480 0\n",
      "27482 14168 254 226\n",
      "Number of treatment 27482\n",
      "Revenue -3842.3\n",
      "****************************************************************************************************\n",
      "41650 0 480 0\n",
      "41650 0 480 0\n",
      "41650 0 480 0\n"
     ]
    },
    {
     "name": "stderr",
     "output_type": "stream",
     "text": [
      " 42%|████▏     | 4230/10000 [02:59<03:57, 24.25it/s]"
     ]
    },
    {
     "name": "stdout",
     "output_type": "stream",
     "text": [
      "41650 0 480 0\n",
      "41650 0 480 0\n",
      "41650 0 480 0\n",
      "41650 0 480 0\n",
      "0 41650 0 480\n"
     ]
    },
    {
     "name": "stderr",
     "output_type": "stream",
     "text": [
      " 42%|████▏     | 4236/10000 [02:59<03:56, 24.41it/s]"
     ]
    },
    {
     "name": "stdout",
     "output_type": "stream",
     "text": [
      "41649 1 480 0\n",
      "41650 0 480 0\n",
      "41650 0 480 0\n",
      "41650 0 480 0\n",
      "41650 0 480 0\n",
      "41650 0 480 0\n"
     ]
    },
    {
     "name": "stderr",
     "output_type": "stream",
     "text": [
      " 42%|████▏     | 4242/10000 [02:59<03:54, 24.60it/s]"
     ]
    },
    {
     "name": "stdout",
     "output_type": "stream",
     "text": [
      "41650 0 480 0\n",
      "8711 32939 56 424\n",
      "Number of treatment 8711\n",
      "Revenue -4986.65\n",
      "****************************************************************************************************\n",
      "41650 0 480 0\n",
      "41650 0 480 0\n",
      "41650 0 480 0\n"
     ]
    },
    {
     "name": "stderr",
     "output_type": "stream",
     "text": [
      " 42%|████▏     | 4248/10000 [02:59<03:51, 24.82it/s]"
     ]
    },
    {
     "name": "stdout",
     "output_type": "stream",
     "text": [
      "41650 0 480 0\n",
      "41650 0 480 0\n",
      "41650 0 480 0\n",
      "41650 0 480 0\n",
      "41650 0 480 0\n",
      "41650 0 480 0\n"
     ]
    },
    {
     "name": "stderr",
     "output_type": "stream",
     "text": [
      "\r",
      " 43%|████▎     | 4251/10000 [02:59<03:58, 24.13it/s]"
     ]
    },
    {
     "name": "stdout",
     "output_type": "stream",
     "text": [
      "41650 0 480 0\n",
      "41650 0 480 0\n",
      "19649 22001 161 319\n",
      "Number of treatment 19649\n",
      "Revenue -4527.35\n",
      "****************************************************************************************************\n",
      "41650 0 480 0\n",
      "27615 14035 256 224\n",
      "Number of treatment 27615\n",
      "Revenue -3822.25\n",
      "****************************************************************************************************\n"
     ]
    },
    {
     "name": "stderr",
     "output_type": "stream",
     "text": [
      " 43%|████▎     | 4257/10000 [03:00<04:00, 23.92it/s]"
     ]
    },
    {
     "name": "stdout",
     "output_type": "stream",
     "text": [
      "41650 0 480 0\n",
      "0 41650 0 480\n",
      "41650 0 480 0\n",
      "41650 0 480 0\n",
      "41650 0 480 0\n",
      "41650 0 480 0\n"
     ]
    },
    {
     "name": "stderr",
     "output_type": "stream",
     "text": [
      " 43%|████▎     | 4263/10000 [03:00<03:49, 25.01it/s]"
     ]
    },
    {
     "name": "stdout",
     "output_type": "stream",
     "text": [
      "41488 162 478 2\n",
      "41650 0 480 0\n",
      "41650 0 480 0\n",
      "41650 0 480 0\n",
      "41650 0 480 0\n",
      "41650 0 480 0\n"
     ]
    },
    {
     "name": "stderr",
     "output_type": "stream",
     "text": [
      " 43%|████▎     | 4269/10000 [03:00<03:43, 25.65it/s]"
     ]
    },
    {
     "name": "stdout",
     "output_type": "stream",
     "text": [
      "41650 0 480 0\n",
      "0 41650 0 480\n",
      "41650 0 480 0\n",
      "13241 28409 76 404\n",
      "Number of treatment 13241\n",
      "Revenue -5266.15\n",
      "****************************************************************************************************\n",
      "41650 0 480 0\n",
      "41650 0 480 0\n"
     ]
    },
    {
     "name": "stderr",
     "output_type": "stream",
     "text": [
      " 43%|████▎     | 4275/10000 [03:00<03:46, 25.31it/s]"
     ]
    },
    {
     "name": "stdout",
     "output_type": "stream",
     "text": [
      "41650 0 480 0\n",
      "41650 0 480 0\n",
      "0 41650 0 480\n",
      "41650 0 480 0\n",
      "0 41650 0 480\n",
      "40030 1620 459 21\n",
      "Number of treatment 40030\n",
      "Revenue -1624.5\n",
      "****************************************************************************************************\n"
     ]
    },
    {
     "name": "stderr",
     "output_type": "stream",
     "text": [
      " 43%|████▎     | 4281/10000 [03:01<03:47, 25.09it/s]"
     ]
    },
    {
     "name": "stdout",
     "output_type": "stream",
     "text": [
      "41650 0 480 0\n",
      "41650 0 480 0\n",
      "38991 2659 437 43\n",
      "Number of treatment 38991\n",
      "Revenue -1908.6499999999996\n",
      "****************************************************************************************************\n",
      "41650 0 480 0\n",
      "60 41590 0 480\n",
      "Number of treatment 60\n",
      "Revenue -4809.0\n",
      "****************************************************************************************************\n",
      "41650 0 480 0\n"
     ]
    },
    {
     "name": "stderr",
     "output_type": "stream",
     "text": [
      " 43%|████▎     | 4287/10000 [03:01<03:49, 24.87it/s]"
     ]
    },
    {
     "name": "stdout",
     "output_type": "stream",
     "text": [
      "41650 0 480 0\n",
      "41650 0 480 0\n",
      "41650 0 480 0\n",
      "18041 23609 143 337\n",
      "Number of treatment 18041\n",
      "Revenue -4646.15\n",
      "****************************************************************************************************\n",
      "0 41650 0 480\n"
     ]
    },
    {
     "name": "stderr",
     "output_type": "stream",
     "text": [
      " 43%|████▎     | 4293/10000 [03:01<03:56, 24.15it/s]"
     ]
    },
    {
     "name": "stdout",
     "output_type": "stream",
     "text": [
      "41650 0 480 0\n",
      "41650 0 480 0\n",
      "41650 0 480 0\n",
      "41650 0 480 0\n",
      "41650 0 480 0\n"
     ]
    },
    {
     "name": "stderr",
     "output_type": "stream",
     "text": [
      "\r",
      " 43%|████▎     | 4296/10000 [03:01<04:02, 23.57it/s]"
     ]
    },
    {
     "name": "stdout",
     "output_type": "stream",
     "text": [
      "41650 0 480 0\n",
      "11001 30649 63 417\n",
      "Number of treatment 11001\n",
      "Revenue -5190.15\n",
      "****************************************************************************************************\n",
      "41650 0 480 0\n",
      "0 41650 0 480\n",
      "41650 0 480 0\n"
     ]
    },
    {
     "name": "stderr",
     "output_type": "stream",
     "text": [
      " 43%|████▎     | 4302/10000 [03:02<04:09, 22.82it/s]"
     ]
    },
    {
     "name": "stdout",
     "output_type": "stream",
     "text": [
      "41650 0 480 0\n",
      "41650 0 480 0\n",
      "41650 0 480 0\n",
      "41650 0 480 0\n",
      "24860 16790 220 260\n",
      "Number of treatment 24860\n",
      "Revenue -4129.0\n",
      "****************************************************************************************************\n"
     ]
    },
    {
     "name": "stderr",
     "output_type": "stream",
     "text": [
      " 43%|████▎     | 4308/10000 [03:02<04:05, 23.14it/s]"
     ]
    },
    {
     "name": "stdout",
     "output_type": "stream",
     "text": [
      "41650 0 480 0\n",
      "41650 0 480 0\n",
      "41650 0 480 0\n",
      "41650 0 480 0\n",
      "41650 0 480 0\n"
     ]
    },
    {
     "name": "stderr",
     "output_type": "stream",
     "text": [
      "\r",
      " 43%|████▎     | 4311/10000 [03:02<04:14, 22.36it/s]"
     ]
    },
    {
     "name": "stdout",
     "output_type": "stream",
     "text": [
      "41650 0 480 0\n",
      "41650 0 480 0\n",
      "41650 0 480 0\n",
      "0 41650 0 480\n",
      "41650 0 480 0\n"
     ]
    },
    {
     "name": "stderr",
     "output_type": "stream",
     "text": [
      " 43%|████▎     | 4317/10000 [03:02<04:14, 22.33it/s]"
     ]
    },
    {
     "name": "stdout",
     "output_type": "stream",
     "text": [
      "41650 0 480 0\n",
      "0 41650 0 480\n",
      "0 41650 0 480\n",
      "41650 0 480 0\n",
      "41650 0 480 0\n"
     ]
    },
    {
     "name": "stderr",
     "output_type": "stream",
     "text": [
      " 43%|████▎     | 4323/10000 [03:02<04:05, 23.15it/s]"
     ]
    },
    {
     "name": "stdout",
     "output_type": "stream",
     "text": [
      "14254 27396 88 392\n",
      "Number of treatment 14254\n",
      "Revenue -5178.1\n",
      "****************************************************************************************************\n",
      "41650 0 480 0\n",
      "41650 0 480 0\n",
      "41650 0 480 0\n",
      "4054 37596 26 454\n",
      "Number of treatment 4054\n",
      "Revenue -4888.1\n",
      "****************************************************************************************************\n"
     ]
    },
    {
     "name": "stderr",
     "output_type": "stream",
     "text": [
      "\r",
      " 43%|████▎     | 4326/10000 [03:03<04:08, 22.88it/s]"
     ]
    },
    {
     "name": "stdout",
     "output_type": "stream",
     "text": [
      "41650 0 480 0\n",
      "41650 0 480 0\n",
      "41650 0 480 0\n",
      "41650 0 480 0\n",
      "41650 0 480 0\n"
     ]
    },
    {
     "name": "stderr",
     "output_type": "stream",
     "text": [
      " 43%|████▎     | 4332/10000 [03:03<04:05, 23.08it/s]"
     ]
    },
    {
     "name": "stdout",
     "output_type": "stream",
     "text": [
      "11064 30586 63 417\n",
      "Number of treatment 11064\n",
      "Revenue -5199.6\n",
      "****************************************************************************************************\n",
      "41650 0 480 0\n",
      "0 41650 0 480\n",
      "41650 0 480 0\n",
      "41650 0 480 0\n"
     ]
    },
    {
     "name": "stderr",
     "output_type": "stream",
     "text": [
      " 43%|████▎     | 4338/10000 [03:03<04:01, 23.48it/s]"
     ]
    },
    {
     "name": "stdout",
     "output_type": "stream",
     "text": [
      "41650 0 480 0\n",
      "41650 0 480 0\n",
      "41650 0 480 0\n",
      "41650 0 480 0\n",
      "41650 0 480 0\n"
     ]
    },
    {
     "name": "stderr",
     "output_type": "stream",
     "text": [
      "\r",
      " 43%|████▎     | 4341/10000 [03:03<03:54, 24.13it/s]"
     ]
    },
    {
     "name": "stdout",
     "output_type": "stream",
     "text": [
      "41650 0 480 0\n",
      "41650 0 480 0\n",
      "41650 0 480 0\n",
      "41650 0 480 0\n",
      "0 41650 0 480\n"
     ]
    },
    {
     "name": "stderr",
     "output_type": "stream",
     "text": [
      " 43%|████▎     | 4347/10000 [03:04<04:06, 22.95it/s]"
     ]
    },
    {
     "name": "stdout",
     "output_type": "stream",
     "text": [
      "41650 0 480 0\n",
      "41650 0 480 0\n",
      "0 41650 0 480\n",
      "3977 37673 26 454\n",
      "Number of treatment 3977\n",
      "Revenue -4876.55\n",
      "****************************************************************************************************\n",
      "41650 0 480 0\n"
     ]
    },
    {
     "name": "stderr",
     "output_type": "stream",
     "text": [
      " 44%|████▎     | 4353/10000 [03:04<04:03, 23.17it/s]"
     ]
    },
    {
     "name": "stdout",
     "output_type": "stream",
     "text": [
      "41650 0 480 0\n",
      "41650 0 480 0\n",
      "41650 0 480 0\n",
      "41650 0 480 0\n",
      "41650 0 480 0\n"
     ]
    },
    {
     "name": "stderr",
     "output_type": "stream",
     "text": [
      "\r",
      " 44%|████▎     | 4356/10000 [03:04<04:03, 23.17it/s]"
     ]
    },
    {
     "name": "stdout",
     "output_type": "stream",
     "text": [
      "41650 0 480 0\n",
      "41650 0 480 0\n",
      "41650 0 480 0\n",
      "41650 0 480 0\n",
      "41650 0 480 0\n"
     ]
    },
    {
     "name": "stderr",
     "output_type": "stream",
     "text": [
      " 44%|████▎     | 4362/10000 [03:04<03:57, 23.73it/s]"
     ]
    },
    {
     "name": "stdout",
     "output_type": "stream",
     "text": [
      "41650 0 480 0\n",
      "41650 0 480 0\n",
      "0 41650 0 480\n",
      "41650 0 480 0\n",
      "41650 0 480 0\n"
     ]
    },
    {
     "name": "stderr",
     "output_type": "stream",
     "text": [
      " 44%|████▎     | 4368/10000 [03:04<04:00, 23.41it/s]"
     ]
    },
    {
     "name": "stdout",
     "output_type": "stream",
     "text": [
      "41650 0 480 0\n",
      "41650 0 480 0\n",
      "41650 0 480 0\n",
      "41650 0 480 0\n",
      "41650 0 480 0\n"
     ]
    },
    {
     "name": "stderr",
     "output_type": "stream",
     "text": [
      "\r",
      " 44%|████▎     | 4371/10000 [03:05<04:03, 23.14it/s]"
     ]
    },
    {
     "name": "stdout",
     "output_type": "stream",
     "text": [
      "41650 0 480 0\n",
      "0 41650 0 480\n",
      "14775 26875 94 386\n",
      "Number of treatment 14775\n",
      "Revenue -5136.25\n",
      "****************************************************************************************************\n",
      "41650 0 480 0\n",
      "41623 27 480 0\n",
      "Number of treatment 41623\n",
      "Revenue -1443.4499999999998\n",
      "****************************************************************************************************\n"
     ]
    },
    {
     "name": "stderr",
     "output_type": "stream",
     "text": [
      " 44%|████▍     | 4377/10000 [03:05<03:59, 23.43it/s]"
     ]
    },
    {
     "name": "stdout",
     "output_type": "stream",
     "text": [
      "22022 19628 186 294\n",
      "Number of treatment 22022\n",
      "Revenue -4383.299999999999\n",
      "****************************************************************************************************\n",
      "41650 0 480 0\n",
      "41650 0 480 0\n",
      "41650 0 480 0\n",
      "41650 0 480 0\n"
     ]
    },
    {
     "name": "stderr",
     "output_type": "stream",
     "text": [
      " 44%|████▍     | 4383/10000 [03:05<03:57, 23.69it/s]"
     ]
    },
    {
     "name": "stdout",
     "output_type": "stream",
     "text": [
      "41650 0 480 0\n",
      "41650 0 480 0\n",
      "41650 0 480 0\n",
      "41650 0 480 0\n",
      "41650 0 480 0\n"
     ]
    },
    {
     "name": "stderr",
     "output_type": "stream",
     "text": [
      "\r",
      " 44%|████▍     | 4386/10000 [03:05<04:03, 23.02it/s]"
     ]
    },
    {
     "name": "stdout",
     "output_type": "stream",
     "text": [
      "41650 0 480 0\n",
      "41650 0 480 0\n",
      "0 41650 0 480\n",
      "41650 0 480 0\n",
      "39255 2395 444 36\n",
      "Number of treatment 39255\n",
      "Revenue -1808.25\n",
      "****************************************************************************************************\n"
     ]
    },
    {
     "name": "stderr",
     "output_type": "stream",
     "text": [
      " 44%|████▍     | 4392/10000 [03:05<04:01, 23.22it/s]"
     ]
    },
    {
     "name": "stdout",
     "output_type": "stream",
     "text": [
      "41650 0 480 0\n",
      "41650 0 480 0\n",
      "41650 0 480 0\n",
      "41650 0 480 0\n",
      "41650 0 480 0\n"
     ]
    },
    {
     "name": "stderr",
     "output_type": "stream",
     "text": [
      " 44%|████▍     | 4398/10000 [03:06<04:01, 23.22it/s]"
     ]
    },
    {
     "name": "stdout",
     "output_type": "stream",
     "text": [
      "41650 0 480 0\n",
      "41650 0 480 0\n",
      "41650 0 480 0\n",
      "41137 513 472 8\n",
      "Number of treatment 41137\n",
      "Revenue -1530.5500000000002\n",
      "****************************************************************************************************\n",
      "41650 0 480 0\n"
     ]
    },
    {
     "name": "stderr",
     "output_type": "stream",
     "text": [
      "\r",
      " 44%|████▍     | 4401/10000 [03:06<04:02, 23.06it/s]"
     ]
    },
    {
     "name": "stdout",
     "output_type": "stream",
     "text": [
      "41650 0 480 0\n",
      "41650 0 480 0\n",
      "41650 0 480 0\n",
      "0 41650 0 480\n",
      "41650 0 480 0\n"
     ]
    },
    {
     "name": "stderr",
     "output_type": "stream",
     "text": [
      " 44%|████▍     | 4407/10000 [03:06<04:04, 22.84it/s]"
     ]
    },
    {
     "name": "stdout",
     "output_type": "stream",
     "text": [
      "41650 0 480 0\n",
      "41650 0 480 0\n",
      "41650 0 480 0\n",
      "41650 0 480 0\n",
      "0 41650 0 480\n"
     ]
    },
    {
     "name": "stderr",
     "output_type": "stream",
     "text": [
      " 44%|████▍     | 4413/10000 [03:06<04:10, 22.34it/s]"
     ]
    },
    {
     "name": "stdout",
     "output_type": "stream",
     "text": [
      "41650 0 480 0\n",
      "0 41650 0 480\n",
      "41650 0 480 0\n",
      "41650 0 480 0\n",
      "41650 0 480 0\n"
     ]
    },
    {
     "name": "stderr",
     "output_type": "stream",
     "text": [
      "\r",
      " 44%|████▍     | 4416/10000 [03:06<04:13, 22.06it/s]"
     ]
    },
    {
     "name": "stdout",
     "output_type": "stream",
     "text": [
      "41650 0 480 0\n",
      "14532 27118 92 388\n",
      "Number of treatment 14532\n",
      "Revenue -5139.799999999999\n",
      "****************************************************************************************************\n",
      "0 41650 0 480\n",
      "41650 0 480 0\n",
      "41650 0 480 0\n"
     ]
    },
    {
     "name": "stderr",
     "output_type": "stream",
     "text": [
      " 44%|████▍     | 4422/10000 [03:07<04:05, 22.72it/s]"
     ]
    },
    {
     "name": "stdout",
     "output_type": "stream",
     "text": [
      "41650 0 480 0\n",
      "39716 1934 450 30\n",
      "Number of treatment 39716\n",
      "Revenue -1757.3999999999996\n",
      "****************************************************************************************************\n",
      "41650 0 480 0\n",
      "41650 0 480 0\n",
      "41650 0 480 0\n"
     ]
    },
    {
     "name": "stderr",
     "output_type": "stream",
     "text": [
      " 44%|████▍     | 4428/10000 [03:07<04:06, 22.60it/s]"
     ]
    },
    {
     "name": "stdout",
     "output_type": "stream",
     "text": [
      "41650 0 480 0\n",
      "41650 0 480 0\n",
      "41650 0 480 0\n",
      "41650 0 480 0\n",
      "36387 5263 390 90\n",
      "Number of treatment 36387\n",
      "Revenue -2458.05\n",
      "****************************************************************************************************\n"
     ]
    },
    {
     "name": "stderr",
     "output_type": "stream",
     "text": [
      "\r",
      " 44%|████▍     | 4431/10000 [03:07<04:07, 22.49it/s]"
     ]
    },
    {
     "name": "stdout",
     "output_type": "stream",
     "text": [
      "41650 0 480 0\n",
      "41650 0 480 0\n",
      "41650 0 480 0\n",
      "41650 0 480 0\n",
      "0 41650 0 480\n"
     ]
    },
    {
     "name": "stderr",
     "output_type": "stream",
     "text": [
      " 44%|████▍     | 4437/10000 [03:07<04:00, 23.14it/s]"
     ]
    },
    {
     "name": "stdout",
     "output_type": "stream",
     "text": [
      "41650 0 480 0\n",
      "41650 0 480 0\n",
      "41650 0 480 0\n",
      "41650 0 480 0\n",
      "41650 0 480 0\n"
     ]
    },
    {
     "name": "stderr",
     "output_type": "stream",
     "text": [
      " 44%|████▍     | 4443/10000 [03:08<04:15, 21.76it/s]"
     ]
    },
    {
     "name": "stdout",
     "output_type": "stream",
     "text": [
      "21586 20064 181 299\n",
      "Number of treatment 21586\n",
      "Revenue -4417.9\n",
      "****************************************************************************************************\n",
      "41650 0 480 0\n",
      "37378 4272 404 76\n",
      "Number of treatment 37378\n",
      "Revenue -2326.7\n",
      "****************************************************************************************************\n",
      "41650 0 480 0\n",
      "41650 0 480 0\n"
     ]
    },
    {
     "name": "stderr",
     "output_type": "stream",
     "text": [
      "\r",
      " 44%|████▍     | 4446/10000 [03:08<04:18, 21.48it/s]"
     ]
    },
    {
     "name": "stdout",
     "output_type": "stream",
     "text": [
      "41650 0 480 0\n",
      "41650 0 480 0\n",
      "41650 0 480 0\n",
      "41650 0 480 0\n",
      "41650 0 480 0\n"
     ]
    },
    {
     "name": "stderr",
     "output_type": "stream",
     "text": [
      " 45%|████▍     | 4452/10000 [03:08<04:13, 21.88it/s]"
     ]
    },
    {
     "name": "stdout",
     "output_type": "stream",
     "text": [
      "41650 0 480 0\n",
      "41650 0 480 0\n",
      "41650 0 480 0\n",
      "41650 0 480 0\n",
      "41650 0 480 0\n"
     ]
    },
    {
     "name": "stderr",
     "output_type": "stream",
     "text": [
      " 45%|████▍     | 4458/10000 [03:08<04:21, 21.22it/s]"
     ]
    },
    {
     "name": "stdout",
     "output_type": "stream",
     "text": [
      "41650 0 480 0\n",
      "41650 0 480 0\n",
      "10692 30958 61 419\n",
      "Number of treatment 10692\n",
      "Revenue -5183.8\n",
      "****************************************************************************************************\n",
      "41650 0 480 0\n",
      "12814 28836 74 406\n",
      "Number of treatment 12814\n",
      "Revenue -5242.1\n",
      "****************************************************************************************************\n"
     ]
    },
    {
     "name": "stderr",
     "output_type": "stream",
     "text": [
      "\r",
      " 45%|████▍     | 4461/10000 [03:09<04:17, 21.55it/s]"
     ]
    },
    {
     "name": "stdout",
     "output_type": "stream",
     "text": [
      "41650 0 480 0\n",
      "41650 0 480 0\n",
      "41650 0 480 0\n",
      "41650 0 480 0\n",
      "0 41650 0 480\n"
     ]
    },
    {
     "name": "stderr",
     "output_type": "stream",
     "text": [
      " 45%|████▍     | 4467/10000 [03:09<04:13, 21.80it/s]"
     ]
    },
    {
     "name": "stdout",
     "output_type": "stream",
     "text": [
      "41650 0 480 0\n",
      "41650 0 480 0\n",
      "41650 0 480 0\n",
      "41650 0 480 0\n",
      "41650 0 480 0\n"
     ]
    },
    {
     "name": "stderr",
     "output_type": "stream",
     "text": [
      " 45%|████▍     | 4473/10000 [03:09<04:12, 21.86it/s]"
     ]
    },
    {
     "name": "stdout",
     "output_type": "stream",
     "text": [
      "5699 35951 40 440\n",
      "Number of treatment 5699\n",
      "Revenue -4854.85\n",
      "****************************************************************************************************\n",
      "41598 52 480 0\n",
      "Number of treatment 41598\n",
      "Revenue -1439.6999999999998\n",
      "****************************************************************************************************\n",
      "41650 0 480 0\n",
      "41650 0 480 0\n",
      "41650 0 480 0\n"
     ]
    },
    {
     "name": "stderr",
     "output_type": "stream",
     "text": [
      "\r",
      " 45%|████▍     | 4476/10000 [03:09<04:19, 21.32it/s]"
     ]
    },
    {
     "name": "stdout",
     "output_type": "stream",
     "text": [
      "41650 0 480 0\n",
      "41650 0 480 0\n",
      "41650 0 480 0\n",
      "41650 0 480 0\n",
      "41650 0 480 0\n"
     ]
    },
    {
     "name": "stderr",
     "output_type": "stream",
     "text": [
      " 45%|████▍     | 4482/10000 [03:10<04:22, 21.03it/s]"
     ]
    },
    {
     "name": "stdout",
     "output_type": "stream",
     "text": [
      "41650 0 480 0\n",
      "41650 0 480 0\n",
      "41650 0 480 0\n",
      "41650 0 480 0\n",
      "37864 3786 414 66\n",
      "Number of treatment 37864\n",
      "Revenue -2199.5999999999995\n",
      "****************************************************************************************************\n"
     ]
    },
    {
     "name": "stderr",
     "output_type": "stream",
     "text": [
      " 45%|████▍     | 4488/10000 [03:10<04:11, 21.95it/s]"
     ]
    },
    {
     "name": "stdout",
     "output_type": "stream",
     "text": [
      "0 41650 0 480\n",
      "41650 0 480 0\n",
      "41650 0 480 0\n",
      "54 41596 0 480\n",
      "41650 0 480 0\n"
     ]
    },
    {
     "name": "stderr",
     "output_type": "stream",
     "text": [
      "\r",
      " 45%|████▍     | 4491/10000 [03:10<04:12, 21.80it/s]"
     ]
    },
    {
     "name": "stdout",
     "output_type": "stream",
     "text": [
      "41650 0 480 0\n",
      "3644 38006 24 456\n",
      "Number of treatment 3644\n",
      "Revenue -4866.6\n",
      "****************************************************************************************************\n",
      "41650 0 480 0\n",
      "41650 0 480 0\n",
      "41650 0 480 0\n"
     ]
    },
    {
     "name": "stderr",
     "output_type": "stream",
     "text": [
      " 45%|████▍     | 4497/10000 [03:10<04:01, 22.74it/s]"
     ]
    },
    {
     "name": "stdout",
     "output_type": "stream",
     "text": [
      "41650 0 480 0\n",
      "0 41650 0 480\n",
      "41650 0 480 0\n",
      "40702 948 469 11\n",
      "Number of treatment 40702\n",
      "Revenue -1525.3000000000002\n",
      "****************************************************************************************************\n",
      "41650 0 480 0\n",
      "41650 0 480 0\n"
     ]
    },
    {
     "name": "stderr",
     "output_type": "stream",
     "text": [
      " 45%|████▌     | 4503/10000 [03:10<03:49, 23.95it/s]"
     ]
    },
    {
     "name": "stdout",
     "output_type": "stream",
     "text": [
      "41650 0 480 0\n",
      "41650 0 480 0\n",
      "41650 0 480 0\n",
      "41650 0 480 0\n",
      "41650 0 480 0\n"
     ]
    },
    {
     "name": "stderr",
     "output_type": "stream",
     "text": [
      " 45%|████▌     | 4509/10000 [03:11<03:47, 24.12it/s]"
     ]
    },
    {
     "name": "stdout",
     "output_type": "stream",
     "text": [
      "41650 0 480 0\n",
      "41650 0 480 0\n",
      "41650 0 480 0\n",
      "41650 0 480 0\n",
      "41650 0 480 0\n",
      "4319 37331 29 451\n",
      "Number of treatment 4319\n",
      "Revenue -4867.85\n",
      "****************************************************************************************************\n"
     ]
    },
    {
     "name": "stderr",
     "output_type": "stream",
     "text": [
      " 45%|████▌     | 4515/10000 [03:11<03:42, 24.65it/s]"
     ]
    },
    {
     "name": "stdout",
     "output_type": "stream",
     "text": [
      "0 41650 0 480\n",
      "41650 0 480 0\n",
      "41650 0 480 0\n",
      "41650 0 480 0\n",
      "41650 0 480 0\n",
      "41650 0 480 0\n"
     ]
    },
    {
     "name": "stderr",
     "output_type": "stream",
     "text": [
      " 45%|████▌     | 4521/10000 [03:11<03:49, 23.86it/s]"
     ]
    },
    {
     "name": "stdout",
     "output_type": "stream",
     "text": [
      "16996 24654 126 354\n",
      "Number of treatment 16996\n",
      "Revenue -4829.4\n",
      "****************************************************************************************************\n",
      "41650 0 480 0\n",
      "41650 0 480 0\n",
      "41650 0 480 0\n",
      "0 41650 0 480\n"
     ]
    },
    {
     "name": "stderr",
     "output_type": "stream",
     "text": [
      " 45%|████▌     | 4527/10000 [03:11<03:43, 24.45it/s]"
     ]
    },
    {
     "name": "stdout",
     "output_type": "stream",
     "text": [
      "41650 0 480 0\n",
      "41650 0 480 0\n",
      "0 41650 0 480\n",
      "41650 0 480 0\n",
      "41650 0 480 0\n",
      "1526 40124 14 466\n",
      "Number of treatment 1526\n",
      "Revenue -4748.9\n",
      "****************************************************************************************************\n"
     ]
    },
    {
     "name": "stderr",
     "output_type": "stream",
     "text": [
      "\r",
      " 45%|████▌     | 4530/10000 [03:12<03:48, 23.93it/s]"
     ]
    },
    {
     "name": "stdout",
     "output_type": "stream",
     "text": [
      "41647 3 480 0\n",
      "41650 0 480 0\n",
      "40305 1345 465 15\n",
      "41650 0 480 0\n",
      "41650 0 480 0\n"
     ]
    },
    {
     "name": "stderr",
     "output_type": "stream",
     "text": [
      " 45%|████▌     | 4536/10000 [03:12<03:59, 22.80it/s]"
     ]
    },
    {
     "name": "stdout",
     "output_type": "stream",
     "text": [
      "21808 19842 183 297\n",
      "Number of treatment 21808\n",
      "Revenue -4411.2\n",
      "****************************************************************************************************\n",
      "41650 0 480 0\n",
      "41650 0 480 0\n",
      "41650 0 480 0\n",
      "38877 2773 433 47\n",
      "Number of treatment 38877\n",
      "Revenue -1971.5500000000002\n",
      "****************************************************************************************************\n"
     ]
    },
    {
     "name": "stderr",
     "output_type": "stream",
     "text": [
      " 45%|████▌     | 4542/10000 [03:12<04:02, 22.50it/s]"
     ]
    },
    {
     "name": "stdout",
     "output_type": "stream",
     "text": [
      "41650 0 480 0\n",
      "41650 0 480 0\n",
      "41650 0 480 0\n",
      "41650 0 480 0\n",
      "41650 0 480 0\n"
     ]
    },
    {
     "name": "stderr",
     "output_type": "stream",
     "text": [
      "\r",
      " 45%|████▌     | 4545/10000 [03:12<04:06, 22.12it/s]"
     ]
    },
    {
     "name": "stdout",
     "output_type": "stream",
     "text": [
      "15121 26529 95 385\n",
      "Number of treatment 15121\n",
      "Revenue -5168.15\n",
      "****************************************************************************************************\n",
      "41650 0 480 0\n",
      "41650 0 480 0\n",
      "41650 0 480 0\n",
      "0 41650 0 480\n"
     ]
    },
    {
     "name": "stderr",
     "output_type": "stream",
     "text": [
      " 46%|████▌     | 4551/10000 [03:13<04:11, 21.65it/s]"
     ]
    },
    {
     "name": "stdout",
     "output_type": "stream",
     "text": [
      "41650 0 480 0\n",
      "0 41650 0 480\n",
      "41650 0 480 0\n",
      "0 41650 0 480\n",
      "41650 0 480 0\n"
     ]
    },
    {
     "name": "stderr",
     "output_type": "stream",
     "text": [
      " 46%|████▌     | 4557/10000 [03:13<04:19, 20.97it/s]"
     ]
    },
    {
     "name": "stdout",
     "output_type": "stream",
     "text": [
      "41650 0 480 0\n",
      "41650 0 480 0\n",
      "41650 0 480 0\n",
      "20540 21110 169 311\n",
      "Number of treatment 20540\n",
      "Revenue -4501.0\n",
      "****************************************************************************************************\n",
      "31930 9720 318 162\n"
     ]
    },
    {
     "name": "stderr",
     "output_type": "stream",
     "text": [
      "\r",
      " 46%|████▌     | 4560/10000 [03:13<04:17, 21.12it/s]"
     ]
    },
    {
     "name": "stdout",
     "output_type": "stream",
     "text": [
      "41650 0 480 0\n",
      "41650 0 480 0\n",
      "41650 0 480 0\n",
      "4560 37090 29 451\n",
      "Number of treatment 4560\n",
      "Revenue -4904.0\n",
      "****************************************************************************************************\n",
      "6036 35614 40 440\n",
      "Number of treatment 6036\n",
      "Revenue -4905.4\n",
      "****************************************************************************************************\n"
     ]
    },
    {
     "name": "stderr",
     "output_type": "stream",
     "text": [
      " 46%|████▌     | 4566/10000 [03:13<04:12, 21.49it/s]"
     ]
    },
    {
     "name": "stdout",
     "output_type": "stream",
     "text": [
      "41650 0 480 0\n",
      "0 41650 0 480\n",
      "41650 0 480 0\n",
      "41635 15 480 0\n",
      "41650 0 480 0\n"
     ]
    },
    {
     "name": "stderr",
     "output_type": "stream",
     "text": [
      " 46%|████▌     | 4572/10000 [03:14<04:11, 21.57it/s]"
     ]
    },
    {
     "name": "stdout",
     "output_type": "stream",
     "text": [
      "21221 20429 178 302\n",
      "Number of treatment 21221\n",
      "Revenue -4423.15\n",
      "****************************************************************************************************\n",
      "41650 0 480 0\n",
      "41650 0 480 0\n",
      "41650 0 480 0\n",
      "41650 0 480 0\n"
     ]
    },
    {
     "name": "stderr",
     "output_type": "stream",
     "text": [
      "\r",
      " 46%|████▌     | 4575/10000 [03:14<04:01, 22.45it/s]"
     ]
    },
    {
     "name": "stdout",
     "output_type": "stream",
     "text": [
      "39356 2294 445 35\n",
      "Number of treatment 39356\n",
      "Revenue -1803.3999999999996\n",
      "****************************************************************************************************\n",
      "41650 0 480 0\n",
      "41650 0 480 0\n",
      "41650 0 480 0\n",
      "41650 0 480 0\n"
     ]
    },
    {
     "name": "stderr",
     "output_type": "stream",
     "text": [
      " 46%|████▌     | 4581/10000 [03:14<03:59, 22.60it/s]"
     ]
    },
    {
     "name": "stdout",
     "output_type": "stream",
     "text": [
      "41650 0 480 0\n",
      "32549 9101 328 152\n",
      "Number of treatment 32549\n",
      "Revenue -3122.3499999999995\n",
      "****************************************************************************************************\n",
      "41650 0 480 0\n",
      "41650 0 480 0\n",
      "31523 10127 311 169\n",
      "Number of treatment 31523\n",
      "Revenue -3308.45\n",
      "****************************************************************************************************\n"
     ]
    },
    {
     "name": "stderr",
     "output_type": "stream",
     "text": [
      " 46%|████▌     | 4587/10000 [03:14<04:02, 22.36it/s]"
     ]
    },
    {
     "name": "stdout",
     "output_type": "stream",
     "text": [
      "41650 0 480 0\n",
      "41650 0 480 0\n",
      "41650 0 480 0\n",
      "12323 29327 72 408\n",
      "Number of treatment 12323\n",
      "Revenue -5208.45\n",
      "****************************************************************************************************\n",
      "41650 0 480 0\n"
     ]
    },
    {
     "name": "stderr",
     "output_type": "stream",
     "text": [
      "\r",
      " 46%|████▌     | 4590/10000 [03:14<04:07, 21.88it/s]"
     ]
    },
    {
     "name": "stdout",
     "output_type": "stream",
     "text": [
      "41650 0 480 0\n",
      "41650 0 480 0\n",
      "41650 0 480 0\n",
      "41650 0 480 0\n",
      "41650 0 480 0\n"
     ]
    },
    {
     "name": "stderr",
     "output_type": "stream",
     "text": [
      " 46%|████▌     | 4596/10000 [03:15<03:54, 23.02it/s]"
     ]
    },
    {
     "name": "stdout",
     "output_type": "stream",
     "text": [
      "41650 0 480 0\n",
      "41650 0 480 0\n",
      "0 41650 0 480\n",
      "41650 0 480 0\n",
      "41650 0 480 0\n"
     ]
    },
    {
     "name": "stderr",
     "output_type": "stream",
     "text": [
      " 46%|████▌     | 4602/10000 [03:15<03:46, 23.83it/s]"
     ]
    },
    {
     "name": "stdout",
     "output_type": "stream",
     "text": [
      "7815 33835 52 428\n",
      "Number of treatment 7815\n",
      "Revenue -4932.25\n",
      "****************************************************************************************************\n",
      "41650 0 480 0\n",
      "41650 0 480 0\n",
      "0 41650 0 480\n",
      "41650 0 480 0\n"
     ]
    },
    {
     "name": "stderr",
     "output_type": "stream",
     "text": [
      " 46%|████▌     | 4608/10000 [03:15<03:41, 24.30it/s]"
     ]
    },
    {
     "name": "stdout",
     "output_type": "stream",
     "text": [
      "41650 0 480 0\n",
      "41650 0 480 0\n",
      "41641 9 480 0\n",
      "Number of treatment 41641\n",
      "Revenue -1446.1499999999996\n",
      "****************************************************************************************************\n",
      "13377 28273 77 403\n",
      "41650 0 480 0\n",
      "41650 0 480 0\n"
     ]
    },
    {
     "name": "stderr",
     "output_type": "stream",
     "text": [
      " 46%|████▌     | 4614/10000 [03:15<03:39, 24.50it/s]"
     ]
    },
    {
     "name": "stdout",
     "output_type": "stream",
     "text": [
      "41650 0 480 0\n",
      "41650 0 480 0\n",
      "41650 0 480 0\n",
      "41650 0 480 0\n",
      "41650 0 480 0\n",
      "41650 0 480 0\n"
     ]
    },
    {
     "name": "stderr",
     "output_type": "stream",
     "text": [
      "\r",
      " 46%|████▌     | 4617/10000 [03:15<03:44, 23.94it/s]"
     ]
    },
    {
     "name": "stdout",
     "output_type": "stream",
     "text": [
      "41650 0 480 0\n",
      "41650 0 480 0\n",
      "4912 36738 34 446\n",
      "Number of treatment 4912\n",
      "Revenue -4856.8\n",
      "****************************************************************************************************\n",
      "41650 0 480 0\n",
      "41650 0 480 0\n"
     ]
    },
    {
     "name": "stderr",
     "output_type": "stream",
     "text": [
      " 46%|████▌     | 4623/10000 [03:16<03:48, 23.57it/s]"
     ]
    },
    {
     "name": "stdout",
     "output_type": "stream",
     "text": [
      "41650 0 480 0\n",
      "41650 0 480 0\n",
      "0 41650 0 480\n",
      "41650 0 480 0\n",
      "41650 0 480 0\n"
     ]
    },
    {
     "name": "stderr",
     "output_type": "stream",
     "text": [
      " 46%|████▋     | 4629/10000 [03:16<03:44, 23.91it/s]"
     ]
    },
    {
     "name": "stdout",
     "output_type": "stream",
     "text": [
      "41650 0 480 0\n",
      "41650 0 480 0\n",
      "41650 0 480 0\n",
      "3640 38010 24 456\n",
      "Number of treatment 3640\n",
      "Revenue -4866.0\n",
      "****************************************************************************************************\n",
      "41650 0 480 0\n"
     ]
    },
    {
     "name": "stderr",
     "output_type": "stream",
     "text": [
      "\r",
      " 46%|████▋     | 4632/10000 [03:16<03:45, 23.80it/s]"
     ]
    },
    {
     "name": "stdout",
     "output_type": "stream",
     "text": [
      "41650 0 480 0\n",
      "41650 0 480 0\n",
      "10004 31646 58 422\n",
      "Number of treatment 10004\n",
      "Revenue -5140.6\n",
      "****************************************************************************************************\n",
      "41650 0 480 0\n",
      "41650 0 480 0\n"
     ]
    },
    {
     "name": "stderr",
     "output_type": "stream",
     "text": [
      " 46%|████▋     | 4638/10000 [03:16<03:52, 23.01it/s]"
     ]
    },
    {
     "name": "stdout",
     "output_type": "stream",
     "text": [
      "41650 0 480 0\n",
      "41650 0 480 0\n",
      "41650 0 480 0\n",
      "41650 0 480 0\n",
      "41650 0 480 0\n"
     ]
    },
    {
     "name": "stderr",
     "output_type": "stream",
     "text": [
      " 46%|████▋     | 4644/10000 [03:17<03:50, 23.27it/s]"
     ]
    },
    {
     "name": "stdout",
     "output_type": "stream",
     "text": [
      "41541 109 480 0\n",
      "Number of treatment 41541\n",
      "Revenue -1431.1499999999996\n",
      "****************************************************************************************************\n",
      "41650 0 480 0\n",
      "943 40707 7 473\n",
      "Number of treatment 943\n",
      "Revenue -4801.45\n",
      "****************************************************************************************************\n",
      "41650 0 480 0\n",
      "26661 14989 239 241\n",
      "Number of treatment 26661\n",
      "Revenue -4019.1499999999996\n",
      "****************************************************************************************************\n"
     ]
    },
    {
     "name": "stderr",
     "output_type": "stream",
     "text": [
      " 46%|████▋     | 4650/10000 [03:17<03:35, 24.81it/s]"
     ]
    },
    {
     "name": "stdout",
     "output_type": "stream",
     "text": [
      "41647 3 480 0\n",
      "0 41650 0 480\n",
      "41650 0 480 0\n",
      "41650 0 480 0\n",
      "41650 0 480 0\n",
      "41650 0 480 0\n"
     ]
    },
    {
     "name": "stderr",
     "output_type": "stream",
     "text": [
      "\r",
      " 47%|████▋     | 4653/10000 [03:17<03:38, 24.53it/s]"
     ]
    },
    {
     "name": "stdout",
     "output_type": "stream",
     "text": [
      "41650 0 480 0\n",
      "31224 10426 308 172\n",
      "Number of treatment 31224\n",
      "Revenue -3323.5999999999995\n",
      "****************************************************************************************************\n",
      "41650 0 480 0\n",
      "41650 0 480 0\n",
      "3828 37822 24 456\n",
      "Number of treatment 3828\n",
      "Revenue -4894.2\n",
      "****************************************************************************************************\n"
     ]
    },
    {
     "name": "stderr",
     "output_type": "stream",
     "text": [
      " 47%|████▋     | 4659/10000 [03:17<03:38, 24.46it/s]"
     ]
    },
    {
     "name": "stdout",
     "output_type": "stream",
     "text": [
      "41650 0 480 0\n",
      "41650 0 480 0\n",
      "37776 3874 411 69\n",
      "Number of treatment 37776\n",
      "Revenue -2246.3999999999996\n",
      "****************************************************************************************************\n",
      "41650 0 480 0\n",
      "0 41650 0 480\n"
     ]
    },
    {
     "name": "stderr",
     "output_type": "stream",
     "text": [
      " 47%|████▋     | 4665/10000 [03:17<03:42, 23.99it/s]"
     ]
    },
    {
     "name": "stdout",
     "output_type": "stream",
     "text": [
      "41650 0 480 0\n",
      "41650 0 480 0\n",
      "41650 0 480 0\n",
      "41650 0 480 0\n",
      "41650 0 480 0\n"
     ]
    },
    {
     "name": "stderr",
     "output_type": "stream",
     "text": [
      "\r",
      " 47%|████▋     | 4668/10000 [03:18<03:42, 23.99it/s]"
     ]
    },
    {
     "name": "stdout",
     "output_type": "stream",
     "text": [
      "41650 0 480 0\n",
      "41650 0 480 0\n",
      "41387 263 477 3\n",
      "Number of treatment 41387\n",
      "Revenue -1468.0500000000002\n",
      "****************************************************************************************************\n",
      "41650 0 480 0\n",
      "41650 0 480 0\n"
     ]
    },
    {
     "name": "stderr",
     "output_type": "stream",
     "text": [
      " 47%|████▋     | 4674/10000 [03:18<03:45, 23.61it/s]"
     ]
    },
    {
     "name": "stdout",
     "output_type": "stream",
     "text": [
      "41650 0 480 0\n",
      "41650 0 480 0\n",
      "41650 0 480 0\n",
      "41650 0 480 0\n",
      "41650 0 480 0\n"
     ]
    },
    {
     "name": "stderr",
     "output_type": "stream",
     "text": [
      " 47%|████▋     | 4680/10000 [03:18<03:56, 22.45it/s]"
     ]
    },
    {
     "name": "stdout",
     "output_type": "stream",
     "text": [
      "39238 2412 443 37\n",
      "Number of treatment 39238\n",
      "Revenue -1825.6999999999998\n",
      "****************************************************************************************************\n",
      "41650 0 480 0\n",
      "41650 0 480 0\n",
      "15208 26442 95 385\n",
      "Number of treatment 15208\n",
      "Revenue -5181.2\n",
      "****************************************************************************************************\n",
      "5724 35926 40 440\n",
      "Number of treatment 5724\n",
      "Revenue -4858.6\n",
      "****************************************************************************************************\n"
     ]
    },
    {
     "name": "stderr",
     "output_type": "stream",
     "text": [
      "\r",
      " 47%|████▋     | 4683/10000 [03:18<03:54, 22.70it/s]"
     ]
    },
    {
     "name": "stdout",
     "output_type": "stream",
     "text": [
      "29308 12342 283 197\n",
      "Number of treatment 29308\n",
      "Revenue -3536.2\n",
      "****************************************************************************************************\n",
      "41650 0 480 0\n",
      "41650 0 480 0\n",
      "41508 142 479 1\n",
      "Number of treatment 41508\n",
      "Revenue -1446.1999999999998\n",
      "****************************************************************************************************\n",
      "41650 0 480 0\n"
     ]
    },
    {
     "name": "stderr",
     "output_type": "stream",
     "text": [
      " 47%|████▋     | 4689/10000 [03:18<03:54, 22.63it/s]"
     ]
    },
    {
     "name": "stdout",
     "output_type": "stream",
     "text": [
      "41650 0 480 0\n",
      "41650 0 480 0\n",
      "41650 0 480 0\n",
      "41650 0 480 0\n",
      "0 41650 0 480\n"
     ]
    },
    {
     "name": "stderr",
     "output_type": "stream",
     "text": [
      " 47%|████▋     | 4695/10000 [03:19<03:52, 22.77it/s]"
     ]
    },
    {
     "name": "stdout",
     "output_type": "stream",
     "text": [
      "41650 0 480 0\n",
      "41650 0 480 0\n",
      "41650 0 480 0\n",
      "41650 0 480 0\n",
      "41650 0 480 0\n"
     ]
    },
    {
     "name": "stderr",
     "output_type": "stream",
     "text": [
      " 47%|████▋     | 4701/10000 [03:19<03:44, 23.59it/s]"
     ]
    },
    {
     "name": "stdout",
     "output_type": "stream",
     "text": [
      "41650 0 480 0\n",
      "41650 0 480 0\n",
      "0 41650 0 480\n",
      "41650 0 480 0\n",
      "41650 0 480 0\n",
      "41650 0 480 0\n"
     ]
    },
    {
     "name": "stderr",
     "output_type": "stream",
     "text": [
      " 47%|████▋     | 4707/10000 [03:19<03:35, 24.60it/s]"
     ]
    },
    {
     "name": "stdout",
     "output_type": "stream",
     "text": [
      "41650 0 480 0\n",
      "41650 0 480 0\n",
      "41650 0 480 0\n",
      "41650 0 480 0\n",
      "41650 0 480 0\n",
      "41375 275 476 4\n"
     ]
    },
    {
     "name": "stderr",
     "output_type": "stream",
     "text": [
      "\r",
      " 47%|████▋     | 4710/10000 [03:19<03:39, 24.15it/s]"
     ]
    },
    {
     "name": "stdout",
     "output_type": "stream",
     "text": [
      "41650 0 480 0\n",
      "41650 0 480 0\n",
      "196 41454 4 476\n",
      "Number of treatment 196\n",
      "Revenue -4749.4\n",
      "****************************************************************************************************\n",
      "41650 0 480 0\n",
      "41650 0 480 0\n"
     ]
    },
    {
     "name": "stderr",
     "output_type": "stream",
     "text": [
      " 47%|████▋     | 4716/10000 [03:20<03:48, 23.17it/s]"
     ]
    },
    {
     "name": "stdout",
     "output_type": "stream",
     "text": [
      "41650 0 480 0\n",
      "41650 0 480 0\n",
      "41650 0 480 0\n",
      "2039 39611 17 463\n",
      "Number of treatment 2039\n",
      "Revenue -4765.85\n",
      "****************************************************************************************************\n",
      "41650 0 480 0\n"
     ]
    },
    {
     "name": "stderr",
     "output_type": "stream",
     "text": [
      " 47%|████▋     | 4722/10000 [03:20<03:39, 24.01it/s]"
     ]
    },
    {
     "name": "stdout",
     "output_type": "stream",
     "text": [
      "41650 0 480 0\n",
      "41650 0 480 0\n",
      "41650 0 480 0\n",
      "41650 0 480 0\n",
      "19455 22195 159 321\n",
      "Number of treatment 19455\n",
      "Revenue -4538.25\n",
      "****************************************************************************************************\n"
     ]
    },
    {
     "name": "stderr",
     "output_type": "stream",
     "text": [
      "\r",
      " 47%|████▋     | 4725/10000 [03:20<03:42, 23.74it/s]"
     ]
    },
    {
     "name": "stdout",
     "output_type": "stream",
     "text": [
      "41650 0 480 0\n",
      "41650 0 480 0\n",
      "41650 0 480 0\n",
      "41650 0 480 0\n",
      "2686 38964 21 459\n",
      "Number of treatment 2686\n",
      "Revenue -4782.9\n",
      "****************************************************************************************************\n"
     ]
    },
    {
     "name": "stderr",
     "output_type": "stream",
     "text": [
      " 47%|████▋     | 4731/10000 [03:20<03:41, 23.76it/s]"
     ]
    },
    {
     "name": "stdout",
     "output_type": "stream",
     "text": [
      "41650 0 480 0\n",
      "40986 664 471 9\n",
      "Number of treatment 40986\n",
      "Revenue -1527.8999999999996\n",
      "****************************************************************************************************\n",
      "41650 0 480 0\n",
      "41644 6 480 0\n",
      "41650 0 480 0\n"
     ]
    },
    {
     "name": "stderr",
     "output_type": "stream",
     "text": [
      " 47%|████▋     | 4737/10000 [03:21<03:40, 23.92it/s]"
     ]
    },
    {
     "name": "stdout",
     "output_type": "stream",
     "text": [
      "41650 0 480 0\n",
      "41650 0 480 0\n",
      "41650 0 480 0\n",
      "41650 0 480 0\n",
      "41650 0 480 0\n",
      "41650 0 480 0\n"
     ]
    },
    {
     "name": "stderr",
     "output_type": "stream",
     "text": [
      " 47%|████▋     | 4743/10000 [03:21<03:28, 25.18it/s]"
     ]
    },
    {
     "name": "stdout",
     "output_type": "stream",
     "text": [
      "41650 0 480 0\n",
      "41650 0 480 0\n",
      "41650 0 480 0\n",
      "41650 0 480 0\n",
      "41650 0 480 0\n",
      "41650 0 480 0\n"
     ]
    },
    {
     "name": "stderr",
     "output_type": "stream",
     "text": [
      " 47%|████▋     | 4749/10000 [03:21<03:31, 24.87it/s]"
     ]
    },
    {
     "name": "stdout",
     "output_type": "stream",
     "text": [
      "41650 0 480 0\n",
      "29550 12100 286 194\n",
      "Number of treatment 29550\n",
      "Revenue -3512.5\n",
      "****************************************************************************************************\n",
      "15215 26435 95 385\n",
      "Number of treatment 15215\n",
      "Revenue -5182.25\n",
      "****************************************************************************************************\n",
      "41650 0 480 0\n",
      "41650 0 480 0\n",
      "41650 0 480 0\n"
     ]
    },
    {
     "name": "stderr",
     "output_type": "stream",
     "text": [
      " 48%|████▊     | 4755/10000 [03:21<03:28, 25.16it/s]"
     ]
    },
    {
     "name": "stdout",
     "output_type": "stream",
     "text": [
      "0 41650 0 480\n",
      "0 41650 0 480\n",
      "41650 0 480 0\n",
      "41650 0 480 0\n",
      "41650 0 480 0\n",
      "41650 0 480 0\n"
     ]
    },
    {
     "name": "stderr",
     "output_type": "stream",
     "text": [
      " 48%|████▊     | 4761/10000 [03:21<03:25, 25.44it/s]"
     ]
    },
    {
     "name": "stdout",
     "output_type": "stream",
     "text": [
      "41650 0 480 0\n",
      "41650 0 480 0\n",
      "41650 0 480 0\n",
      "41650 0 480 0\n",
      "41650 0 480 0\n"
     ]
    },
    {
     "name": "stderr",
     "output_type": "stream",
     "text": [
      "\r",
      " 48%|████▊     | 4764/10000 [03:22<03:30, 24.92it/s]"
     ]
    },
    {
     "name": "stdout",
     "output_type": "stream",
     "text": [
      "41650 0 480 0\n",
      "41650 0 480 0\n",
      "41650 0 480 0\n",
      "41650 0 480 0\n",
      "41650 0 480 0\n"
     ]
    },
    {
     "name": "stderr",
     "output_type": "stream",
     "text": [
      " 48%|████▊     | 4770/10000 [03:22<03:36, 24.15it/s]"
     ]
    },
    {
     "name": "stdout",
     "output_type": "stream",
     "text": [
      "0 41650 0 480\n",
      "16701 24949 121 359\n",
      "Number of treatment 16701\n",
      "Revenue -4885.15\n",
      "****************************************************************************************************\n",
      "4146 37504 27 453\n",
      "Number of treatment 4146\n",
      "Revenue -4881.9\n",
      "****************************************************************************************************\n",
      "0 41650 0 480\n",
      "41650 0 480 0\n"
     ]
    },
    {
     "name": "stderr",
     "output_type": "stream",
     "text": [
      " 48%|████▊     | 4776/10000 [03:22<03:33, 24.50it/s]"
     ]
    },
    {
     "name": "stdout",
     "output_type": "stream",
     "text": [
      "41650 0 480 0\n",
      "41650 0 480 0\n",
      "41650 0 480 0\n",
      "41650 0 480 0\n",
      "41650 0 480 0\n",
      "0 41650 0 480\n"
     ]
    },
    {
     "name": "stderr",
     "output_type": "stream",
     "text": [
      " 48%|████▊     | 4782/10000 [03:22<03:31, 24.71it/s]"
     ]
    },
    {
     "name": "stdout",
     "output_type": "stream",
     "text": [
      "41650 0 480 0\n",
      "41650 0 480 0\n",
      "1878 39772 16 464\n",
      "Number of treatment 1878\n",
      "Revenue -4761.7\n",
      "****************************************************************************************************\n",
      "41650 0 480 0\n",
      "41650 0 480 0\n"
     ]
    },
    {
     "name": "stderr",
     "output_type": "stream",
     "text": [
      "\r",
      " 48%|████▊     | 4785/10000 [03:22<03:42, 23.43it/s]"
     ]
    },
    {
     "name": "stdout",
     "output_type": "stream",
     "text": [
      "41650 0 480 0\n",
      "33256 8394 347 133\n",
      "Number of treatment 33256\n",
      "Revenue -2848.3999999999996\n",
      "****************************************************************************************************\n",
      "41650 0 480 0\n",
      "41650 0 480 0\n",
      "13006 28644 75 405\n",
      "Number of treatment 13006\n",
      "Revenue -5250.9\n",
      "****************************************************************************************************\n"
     ]
    },
    {
     "name": "stderr",
     "output_type": "stream",
     "text": [
      " 48%|████▊     | 4791/10000 [03:23<04:00, 21.62it/s]"
     ]
    },
    {
     "name": "stdout",
     "output_type": "stream",
     "text": [
      "41650 0 480 0\n",
      "41650 0 480 0\n",
      "41439 211 477 3\n",
      "Number of treatment 41439\n",
      "Revenue -1475.8499999999995\n",
      "****************************************************************************************************\n",
      "13377 28273 77 403\n",
      "41650 0 480 0\n"
     ]
    },
    {
     "name": "stderr",
     "output_type": "stream",
     "text": [
      " 48%|████▊     | 4797/10000 [03:23<04:03, 21.41it/s]"
     ]
    },
    {
     "name": "stdout",
     "output_type": "stream",
     "text": [
      "41650 0 480 0\n",
      "41650 0 480 0\n",
      "41650 0 480 0\n",
      "0 41650 0 480\n",
      "12323 29327 72 408\n"
     ]
    },
    {
     "name": "stderr",
     "output_type": "stream",
     "text": [
      "\r",
      " 48%|████▊     | 4800/10000 [03:23<04:00, 21.59it/s]"
     ]
    },
    {
     "name": "stdout",
     "output_type": "stream",
     "text": [
      "41650 0 480 0\n",
      "9587 32063 57 423\n",
      "Number of treatment 9587\n",
      "Revenue -5098.05\n",
      "****************************************************************************************************\n",
      "41650 0 480 0\n",
      "0 41650 0 480\n",
      "41650 0 480 0\n"
     ]
    },
    {
     "name": "stderr",
     "output_type": "stream",
     "text": [
      " 48%|████▊     | 4806/10000 [03:23<03:53, 22.20it/s]"
     ]
    },
    {
     "name": "stdout",
     "output_type": "stream",
     "text": [
      "41650 0 480 0\n",
      "41650 0 480 0\n",
      "41650 0 480 0\n",
      "41650 0 480 0\n",
      "13177 28473 76 404\n",
      "Number of treatment 13177\n",
      "Revenue -5256.55\n",
      "****************************************************************************************************\n"
     ]
    },
    {
     "name": "stderr",
     "output_type": "stream",
     "text": [
      " 48%|████▊     | 4812/10000 [03:24<03:48, 22.70it/s]"
     ]
    },
    {
     "name": "stdout",
     "output_type": "stream",
     "text": [
      "41650 0 480 0\n",
      "41650 0 480 0\n",
      "41650 0 480 0\n",
      "41650 0 480 0\n",
      "41650 0 480 0\n"
     ]
    },
    {
     "name": "stderr",
     "output_type": "stream",
     "text": [
      "\r",
      " 48%|████▊     | 4815/10000 [03:24<03:44, 23.12it/s]"
     ]
    },
    {
     "name": "stdout",
     "output_type": "stream",
     "text": [
      "41650 0 480 0\n",
      "41650 0 480 0\n",
      "41650 0 480 0\n",
      "41650 0 480 0\n",
      "41650 0 480 0\n"
     ]
    },
    {
     "name": "stderr",
     "output_type": "stream",
     "text": [
      " 48%|████▊     | 4821/10000 [03:24<03:43, 23.22it/s]"
     ]
    },
    {
     "name": "stdout",
     "output_type": "stream",
     "text": [
      "41650 0 480 0\n",
      "41650 0 480 0\n",
      "0 41650 0 480\n",
      "41650 0 480 0\n",
      "12682 28968 74 406\n",
      "Number of treatment 12682\n",
      "Revenue -5222.3\n",
      "****************************************************************************************************\n"
     ]
    },
    {
     "name": "stderr",
     "output_type": "stream",
     "text": [
      " 48%|████▊     | 4827/10000 [03:24<03:45, 22.98it/s]"
     ]
    },
    {
     "name": "stdout",
     "output_type": "stream",
     "text": [
      "41650 0 480 0\n",
      "41621 29 480 0\n",
      "41650 0 480 0\n",
      "41650 0 480 0\n",
      "41650 0 480 0\n"
     ]
    },
    {
     "name": "stderr",
     "output_type": "stream",
     "text": [
      "\r",
      " 48%|████▊     | 4830/10000 [03:24<03:47, 22.69it/s]"
     ]
    },
    {
     "name": "stdout",
     "output_type": "stream",
     "text": [
      "0 41650 0 480\n",
      "41650 0 480 0\n",
      "41650 0 480 0\n",
      "41650 0 480 0\n",
      "513 41137 5 475\n",
      "Number of treatment 513\n",
      "Revenue -4776.95\n",
      "****************************************************************************************************\n"
     ]
    },
    {
     "name": "stderr",
     "output_type": "stream",
     "text": [
      " 48%|████▊     | 4836/10000 [03:25<03:40, 23.44it/s]"
     ]
    },
    {
     "name": "stdout",
     "output_type": "stream",
     "text": [
      "38785 2865 431 49\n",
      "Number of treatment 38785\n",
      "Revenue -1997.75\n",
      "****************************************************************************************************\n",
      "41650 0 480 0\n",
      "41650 0 480 0\n",
      "41650 0 480 0\n",
      "41650 0 480 0\n"
     ]
    },
    {
     "name": "stderr",
     "output_type": "stream",
     "text": [
      " 48%|████▊     | 4842/10000 [03:25<03:38, 23.56it/s]"
     ]
    },
    {
     "name": "stdout",
     "output_type": "stream",
     "text": [
      "39409 2241 447 33\n",
      "Number of treatment 39409\n",
      "Revenue -1771.3499999999995\n",
      "****************************************************************************************************\n",
      "41650 0 480 0\n",
      "41650 0 480 0\n",
      "0 41650 0 480\n",
      "12861 28789 75 405\n"
     ]
    },
    {
     "name": "stderr",
     "output_type": "stream",
     "text": [
      "\r",
      " 48%|████▊     | 4845/10000 [03:25<03:45, 22.89it/s]"
     ]
    },
    {
     "name": "stdout",
     "output_type": "stream",
     "text": [
      "3831 37819 24 456\n",
      "Number of treatment 3831\n",
      "Revenue -4894.65\n",
      "****************************************************************************************************\n",
      "41650 0 480 0\n",
      "0 41650 0 480\n",
      "0 41650 0 480\n",
      "41650 0 480 0\n"
     ]
    },
    {
     "name": "stderr",
     "output_type": "stream",
     "text": [
      " 49%|████▊     | 4851/10000 [03:25<03:39, 23.49it/s]"
     ]
    },
    {
     "name": "stdout",
     "output_type": "stream",
     "text": [
      "41650 0 480 0\n",
      "41650 0 480 0\n",
      "41650 0 480 0\n",
      "41650 0 480 0\n",
      "41650 0 480 0\n"
     ]
    },
    {
     "name": "stderr",
     "output_type": "stream",
     "text": [
      " 49%|████▊     | 4857/10000 [03:26<03:33, 24.12it/s]"
     ]
    },
    {
     "name": "stdout",
     "output_type": "stream",
     "text": [
      "13165 28485 76 404\n",
      "31628 10022 313 167\n",
      "Number of treatment 31628\n",
      "Revenue -3284.2\n",
      "****************************************************************************************************\n",
      "14066 27584 85 395\n",
      "Number of treatment 14066\n",
      "Revenue -5209.9\n",
      "****************************************************************************************************\n",
      "41650 0 480 0\n",
      "48 41602 0 480\n",
      "Number of treatment 48\n",
      "Revenue -4807.2\n",
      "****************************************************************************************************\n"
     ]
    },
    {
     "name": "stderr",
     "output_type": "stream",
     "text": [
      "\r",
      " 49%|████▊     | 4860/10000 [03:26<03:36, 23.73it/s]"
     ]
    },
    {
     "name": "stdout",
     "output_type": "stream",
     "text": [
      "41650 0 480 0\n",
      "41650 0 480 0\n",
      "41650 0 480 0\n",
      "35038 6612 374 106\n",
      "Number of treatment 35038\n",
      "Revenue -2575.7\n",
      "****************************************************************************************************\n",
      "41650 0 480 0\n"
     ]
    },
    {
     "name": "stderr",
     "output_type": "stream",
     "text": [
      " 49%|████▊     | 4866/10000 [03:26<03:38, 23.45it/s]"
     ]
    },
    {
     "name": "stdout",
     "output_type": "stream",
     "text": [
      "41650 0 480 0\n",
      "37463 4187 404 76\n",
      "Number of treatment 37463\n",
      "Revenue -2339.45\n",
      "****************************************************************************************************\n",
      "41650 0 480 0\n",
      "9604 32046 57 423\n",
      "Number of treatment 9604\n",
      "Revenue -5100.6\n",
      "****************************************************************************************************\n",
      "31735 9915 315 165\n",
      "Number of treatment 31735\n",
      "Revenue -3260.25\n",
      "****************************************************************************************************\n"
     ]
    },
    {
     "name": "stderr",
     "output_type": "stream",
     "text": [
      " 49%|████▊     | 4872/10000 [03:26<03:41, 23.20it/s]"
     ]
    },
    {
     "name": "stdout",
     "output_type": "stream",
     "text": [
      "38650 3000 429 51\n",
      "Number of treatment 38650\n",
      "Revenue -2017.5\n",
      "****************************************************************************************************\n",
      "41650 0 480 0\n",
      "41650 0 480 0\n",
      "41650 0 480 0\n",
      "41650 0 480 0\n"
     ]
    },
    {
     "name": "stderr",
     "output_type": "stream",
     "text": [
      "\r",
      " 49%|████▉     | 4875/10000 [03:26<03:44, 22.80it/s]"
     ]
    },
    {
     "name": "stdout",
     "output_type": "stream",
     "text": [
      "41650 0 480 0\n",
      "0 41650 0 480\n",
      "41650 0 480 0\n",
      "0 41650 0 480\n",
      "41650 0 480 0\n"
     ]
    },
    {
     "name": "stderr",
     "output_type": "stream",
     "text": [
      " 49%|████▉     | 4881/10000 [03:27<03:31, 24.22it/s]"
     ]
    },
    {
     "name": "stdout",
     "output_type": "stream",
     "text": [
      "41650 0 480 0\n",
      "41650 0 480 0\n",
      "41650 0 480 0\n",
      "41650 0 480 0\n",
      "41650 0 480 0\n",
      "41650 0 480 0\n"
     ]
    },
    {
     "name": "stderr",
     "output_type": "stream",
     "text": [
      " 49%|████▉     | 4887/10000 [03:27<03:33, 23.93it/s]"
     ]
    },
    {
     "name": "stdout",
     "output_type": "stream",
     "text": [
      "41650 0 480 0\n",
      "41650 0 480 0\n",
      "41650 0 480 0\n",
      "34441 7209 363 117\n",
      "Number of treatment 34441\n",
      "Revenue -2706.1499999999996\n",
      "****************************************************************************************************\n",
      "41650 0 480 0\n"
     ]
    },
    {
     "name": "stderr",
     "output_type": "stream",
     "text": [
      " 49%|████▉     | 4893/10000 [03:27<03:39, 23.27it/s]"
     ]
    },
    {
     "name": "stdout",
     "output_type": "stream",
     "text": [
      "41650 0 480 0\n",
      "41650 0 480 0\n",
      "41650 0 480 0\n",
      "41650 0 480 0\n",
      "41650 0 480 0\n"
     ]
    },
    {
     "name": "stderr",
     "output_type": "stream",
     "text": [
      "\r",
      " 49%|████▉     | 4896/10000 [03:27<03:36, 23.54it/s]"
     ]
    },
    {
     "name": "stdout",
     "output_type": "stream",
     "text": [
      "41650 0 480 0\n",
      "41650 0 480 0\n",
      "33305 8345 347 133\n",
      "0 41650 0 480\n",
      "41650 0 480 0\n"
     ]
    },
    {
     "name": "stderr",
     "output_type": "stream",
     "text": [
      " 49%|████▉     | 4902/10000 [03:28<03:35, 23.62it/s]"
     ]
    },
    {
     "name": "stdout",
     "output_type": "stream",
     "text": [
      "41650 0 480 0\n",
      "41650 0 480 0\n",
      "0 41650 0 480\n",
      "41650 0 480 0\n",
      "14278 27372 89 391\n",
      "Number of treatment 14278\n",
      "Revenue -5161.7\n",
      "****************************************************************************************************\n"
     ]
    },
    {
     "name": "stderr",
     "output_type": "stream",
     "text": [
      " 49%|████▉     | 4908/10000 [03:28<03:37, 23.46it/s]"
     ]
    },
    {
     "name": "stdout",
     "output_type": "stream",
     "text": [
      "41650 0 480 0\n",
      "13235 28415 76 404\n",
      "Number of treatment 13235\n",
      "Revenue -5265.25\n",
      "****************************************************************************************************\n",
      "41650 0 480 0\n",
      "41650 0 480 0\n",
      "41650 0 480 0\n"
     ]
    },
    {
     "name": "stderr",
     "output_type": "stream",
     "text": [
      " 49%|████▉     | 4914/10000 [03:28<03:30, 24.18it/s]"
     ]
    },
    {
     "name": "stdout",
     "output_type": "stream",
     "text": [
      "41650 0 480 0\n",
      "41650 0 480 0\n",
      "41650 0 480 0\n",
      "41650 0 480 0\n",
      "41650 0 480 0\n",
      "34133 7517 359 121\n",
      "Number of treatment 34133\n",
      "Revenue -2739.95\n",
      "****************************************************************************************************\n"
     ]
    },
    {
     "name": "stderr",
     "output_type": "stream",
     "text": [
      "\r",
      " 49%|████▉     | 4917/10000 [03:28<03:37, 23.32it/s]"
     ]
    },
    {
     "name": "stdout",
     "output_type": "stream",
     "text": [
      "41650 0 480 0\n",
      "41650 0 480 0\n",
      "41650 0 480 0\n",
      "41650 0 480 0\n",
      "41650 0 480 0\n"
     ]
    },
    {
     "name": "stderr",
     "output_type": "stream",
     "text": [
      " 49%|████▉     | 4923/10000 [03:28<03:35, 23.60it/s]"
     ]
    },
    {
     "name": "stdout",
     "output_type": "stream",
     "text": [
      "21095 20555 176 304\n",
      "Number of treatment 21095\n",
      "Revenue -4444.25\n",
      "****************************************************************************************************\n",
      "41650 0 480 0\n",
      "41650 0 480 0\n",
      "41650 0 480 0\n",
      "41650 0 480 0\n"
     ]
    },
    {
     "name": "stderr",
     "output_type": "stream",
     "text": [
      " 49%|████▉     | 4929/10000 [03:29<03:34, 23.69it/s]"
     ]
    },
    {
     "name": "stdout",
     "output_type": "stream",
     "text": [
      "41650 0 480 0\n",
      "41650 0 480 0\n",
      "41650 0 480 0\n",
      "41650 0 480 0\n",
      "41650 0 480 0\n"
     ]
    },
    {
     "name": "stderr",
     "output_type": "stream",
     "text": [
      "\r",
      " 49%|████▉     | 4932/10000 [03:29<03:33, 23.68it/s]"
     ]
    },
    {
     "name": "stdout",
     "output_type": "stream",
     "text": [
      "41650 0 480 0\n",
      "0 41650 0 480\n",
      "41650 0 480 0\n",
      "39253 2397 444 36\n",
      "Number of treatment 39253\n",
      "Revenue -1807.9499999999998\n",
      "****************************************************************************************************\n",
      "41650 0 480 0\n"
     ]
    },
    {
     "name": "stderr",
     "output_type": "stream",
     "text": [
      " 49%|████▉     | 4938/10000 [03:29<03:30, 24.07it/s]"
     ]
    },
    {
     "name": "stdout",
     "output_type": "stream",
     "text": [
      "41650 0 480 0\n",
      "41650 0 480 0\n",
      "41650 0 480 0\n",
      "41650 0 480 0\n",
      "6381 35269 42 438\n",
      "Number of treatment 6381\n",
      "Revenue -4917.15\n",
      "****************************************************************************************************\n",
      "41461 189 478 2\n",
      "Number of treatment 41461\n",
      "Revenue -1459.1499999999996\n",
      "****************************************************************************************************\n"
     ]
    },
    {
     "name": "stderr",
     "output_type": "stream",
     "text": [
      " 49%|████▉     | 4944/10000 [03:29<03:25, 24.56it/s]"
     ]
    },
    {
     "name": "stdout",
     "output_type": "stream",
     "text": [
      "41650 0 480 0\n",
      "0 41650 0 480\n",
      "41650 0 480 0\n",
      "1088 40562 9 471\n",
      "Number of treatment 1088\n",
      "Revenue -4783.2\n",
      "****************************************************************************************************\n",
      "41650 0 480 0\n"
     ]
    },
    {
     "name": "stderr",
     "output_type": "stream",
     "text": [
      " 50%|████▉     | 4950/10000 [03:30<03:39, 22.97it/s]"
     ]
    },
    {
     "name": "stdout",
     "output_type": "stream",
     "text": [
      "15 41635 0 480\n",
      "41650 0 480 0\n",
      "41650 0 480 0\n",
      "0 41650 0 480\n",
      "41650 0 480 0\n"
     ]
    },
    {
     "name": "stderr",
     "output_type": "stream",
     "text": [
      "\r",
      " 50%|████▉     | 4953/10000 [03:30<03:42, 22.67it/s]"
     ]
    },
    {
     "name": "stdout",
     "output_type": "stream",
     "text": [
      "41650 0 480 0\n",
      "41650 0 480 0\n",
      "13237 28413 76 404\n",
      "Number of treatment 13237\n",
      "Revenue -5265.55\n",
      "****************************************************************************************************\n",
      "14854 26796 94 386\n",
      "Number of treatment 14854\n",
      "Revenue -5148.1\n",
      "****************************************************************************************************\n",
      "41650 0 480 0\n"
     ]
    },
    {
     "name": "stderr",
     "output_type": "stream",
     "text": [
      " 50%|████▉     | 4959/10000 [03:30<03:34, 23.53it/s]"
     ]
    },
    {
     "name": "stdout",
     "output_type": "stream",
     "text": [
      "41650 0 480 0\n",
      "0 41650 0 480\n",
      "41650 0 480 0\n",
      "41650 0 480 0\n",
      "41650 0 480 0\n"
     ]
    },
    {
     "name": "stderr",
     "output_type": "stream",
     "text": [
      " 50%|████▉     | 4965/10000 [03:30<03:34, 23.53it/s]"
     ]
    },
    {
     "name": "stdout",
     "output_type": "stream",
     "text": [
      "41650 0 480 0\n",
      "41650 0 480 0\n",
      "41650 0 480 0\n",
      "41650 0 480 0\n",
      "41650 0 480 0\n"
     ]
    },
    {
     "name": "stderr",
     "output_type": "stream",
     "text": [
      "\r",
      " 50%|████▉     | 4968/10000 [03:30<03:37, 23.14it/s]"
     ]
    },
    {
     "name": "stdout",
     "output_type": "stream",
     "text": [
      "19822 21828 162 318\n",
      "Number of treatment 19822\n",
      "Revenue -4533.299999999999\n",
      "****************************************************************************************************\n",
      "41650 0 480 0\n",
      "41650 0 480 0\n",
      "41650 0 480 0\n",
      "41650 0 480 0\n"
     ]
    },
    {
     "name": "stderr",
     "output_type": "stream",
     "text": [
      " 50%|████▉     | 4974/10000 [03:31<03:41, 22.73it/s]"
     ]
    },
    {
     "name": "stdout",
     "output_type": "stream",
     "text": [
      "41650 0 480 0\n",
      "41650 0 480 0\n",
      "105 41545 1 479\n",
      "Number of treatment 105\n",
      "Revenue -4795.75\n",
      "****************************************************************************************************\n",
      "41650 0 480 0\n",
      "41650 0 480 0\n"
     ]
    },
    {
     "name": "stderr",
     "output_type": "stream",
     "text": [
      " 50%|████▉     | 4980/10000 [03:31<03:41, 22.67it/s]"
     ]
    },
    {
     "name": "stdout",
     "output_type": "stream",
     "text": [
      "41650 0 480 0\n",
      "41650 0 480 0\n",
      "41650 0 480 0\n",
      "41650 0 480 0\n",
      "41650 0 480 0\n"
     ]
    },
    {
     "name": "stderr",
     "output_type": "stream",
     "text": [
      "\r",
      " 50%|████▉     | 4983/10000 [03:31<03:40, 22.78it/s]"
     ]
    },
    {
     "name": "stdout",
     "output_type": "stream",
     "text": [
      "41650 0 480 0\n",
      "41650 0 480 0\n",
      "41650 0 480 0\n",
      "3105 38545 22 458\n",
      "Number of treatment 3105\n",
      "Revenue -4825.75\n",
      "****************************************************************************************************\n",
      "6430 35220 43 437\n",
      "Number of treatment 6430\n",
      "Revenue -4904.5\n",
      "****************************************************************************************************\n"
     ]
    },
    {
     "name": "stderr",
     "output_type": "stream",
     "text": [
      " 50%|████▉     | 4989/10000 [03:31<03:35, 23.28it/s]"
     ]
    },
    {
     "name": "stdout",
     "output_type": "stream",
     "text": [
      "41650 0 480 0\n",
      "41650 0 480 0\n",
      "41650 0 480 0\n",
      "41650 0 480 0\n",
      "41650 0 480 0\n"
     ]
    },
    {
     "name": "stderr",
     "output_type": "stream",
     "text": [
      " 50%|████▉     | 4995/10000 [03:32<03:37, 23.01it/s]"
     ]
    },
    {
     "name": "stdout",
     "output_type": "stream",
     "text": [
      "41650 0 480 0\n",
      "41650 0 480 0\n",
      "0 41650 0 480\n",
      "41650 0 480 0\n",
      "0 41650 0 480\n"
     ]
    },
    {
     "name": "stderr",
     "output_type": "stream",
     "text": [
      "\r",
      " 50%|████▉     | 4998/10000 [03:32<03:35, 23.22it/s]"
     ]
    },
    {
     "name": "stdout",
     "output_type": "stream",
     "text": [
      "41650 0 480 0\n",
      "41650 0 480 0\n",
      "41650 0 480 0\n",
      "41650 0 480 0\n",
      "41650 0 480 0\n"
     ]
    },
    {
     "name": "stderr",
     "output_type": "stream",
     "text": [
      " 50%|█████     | 5004/10000 [03:32<03:27, 24.13it/s]"
     ]
    },
    {
     "name": "stdout",
     "output_type": "stream",
     "text": [
      "41650 0 480 0\n",
      "41650 0 480 0\n",
      "41650 0 480 0\n",
      "35524 6126 377 103\n",
      "Number of treatment 35524\n",
      "Revenue -2588.5999999999995\n",
      "****************************************************************************************************\n",
      "41650 0 480 0\n"
     ]
    },
    {
     "name": "stderr",
     "output_type": "stream",
     "text": [
      " 50%|█████     | 5010/10000 [03:32<03:20, 24.92it/s]"
     ]
    },
    {
     "name": "stdout",
     "output_type": "stream",
     "text": [
      "41650 0 480 0\n",
      "41650 0 480 0\n",
      "41650 0 480 0\n",
      "15043 26607 95 385\n",
      "Number of treatment 15043\n",
      "Revenue -5156.45\n",
      "****************************************************************************************************\n",
      "39349 2301 445 35\n",
      "Number of treatment 39349\n",
      "Revenue -1802.3499999999995\n",
      "****************************************************************************************************\n",
      "41650 0 480 0\n"
     ]
    },
    {
     "name": "stderr",
     "output_type": "stream",
     "text": [
      " 50%|█████     | 5016/10000 [03:32<03:24, 24.41it/s]"
     ]
    },
    {
     "name": "stdout",
     "output_type": "stream",
     "text": [
      "41650 0 480 0\n",
      "41650 0 480 0\n",
      "41650 0 480 0\n",
      "41650 0 480 0\n",
      "41650 0 480 0\n"
     ]
    },
    {
     "name": "stderr",
     "output_type": "stream",
     "text": [
      "\r",
      " 50%|█████     | 5019/10000 [03:32<03:26, 24.15it/s]"
     ]
    },
    {
     "name": "stdout",
     "output_type": "stream",
     "text": [
      "41650 0 480 0\n",
      "41650 0 480 0\n",
      "41650 0 480 0\n",
      "41650 0 480 0\n",
      "41650 0 480 0\n",
      "41650 0 480 "
     ]
    },
    {
     "name": "stderr",
     "output_type": "stream",
     "text": [
      " 50%|█████     | 5025/10000 [03:33<03:24, 24.33it/s]"
     ]
    },
    {
     "name": "stdout",
     "output_type": "stream",
     "text": [
      "0\n",
      "0 41650 0 480\n",
      "41650 0 480 0\n",
      "13292 28358 76 404\n",
      "41650 0 480 0\n"
     ]
    },
    {
     "name": "stderr",
     "output_type": "stream",
     "text": [
      " 50%|█████     | 5031/10000 [03:33<03:19, 24.88it/s]"
     ]
    },
    {
     "name": "stdout",
     "output_type": "stream",
     "text": [
      "41650 0 480 0\n",
      "41650 0 480 0\n",
      "41650 0 480 0\n",
      "41650 0 480 0\n",
      "41650 0 480 0\n",
      "41650 0 480 0\n"
     ]
    },
    {
     "name": "stderr",
     "output_type": "stream",
     "text": [
      " 50%|█████     | 5037/10000 [03:33<03:21, 24.58it/s]"
     ]
    },
    {
     "name": "stdout",
     "output_type": "stream",
     "text": [
      "41650 0 480 0\n",
      "41650 0 480 0\n",
      "41650 0 480 0\n",
      "146 41504 2 478\n",
      "Number of treatment 146\n",
      "Revenue -4781.9\n",
      "****************************************************************************************************\n",
      "41650 0 480 0\n"
     ]
    },
    {
     "name": "stderr",
     "output_type": "stream",
     "text": [
      " 50%|█████     | 5043/10000 [03:33<03:19, 24.85it/s]"
     ]
    },
    {
     "name": "stdout",
     "output_type": "stream",
     "text": [
      "41650 0 480 0\n",
      "41650 0 480 0\n",
      "41650 0 480 0\n",
      "41650 0 480 0\n",
      "41650 0 480 0\n",
      "41650 0 480 0\n"
     ]
    },
    {
     "name": "stderr",
     "output_type": "stream",
     "text": [
      " 50%|█████     | 5049/10000 [03:34<03:15, 25.32it/s]"
     ]
    },
    {
     "name": "stdout",
     "output_type": "stream",
     "text": [
      "41650 0 480 0\n",
      "41650 0 480 0\n",
      "41650 0 480 0\n",
      "41650 0 480 0\n",
      "40903 747 470 10\n",
      "Number of treatment 40903\n",
      "Revenue -1535.4499999999998\n",
      "****************************************************************************************************\n",
      "41650 0 480 0\n"
     ]
    },
    {
     "name": "stderr",
     "output_type": "stream",
     "text": [
      " 51%|█████     | 5055/10000 [03:34<03:15, 25.31it/s]"
     ]
    },
    {
     "name": "stdout",
     "output_type": "stream",
     "text": [
      "41650 0 480 0\n",
      "41650 0 480 0\n",
      "0 41650 0 480\n",
      "41650 0 480 0\n",
      "41650 0 480 0\n",
      "41650 0 480 0\n"
     ]
    },
    {
     "name": "stderr",
     "output_type": "stream",
     "text": [
      "\r",
      " 51%|█████     | 5058/10000 [03:34<03:20, 24.63it/s]"
     ]
    },
    {
     "name": "stdout",
     "output_type": "stream",
     "text": [
      "41650 0 480 0\n",
      "39643 2007 450 30\n",
      "Number of treatment 39643\n",
      "Revenue -1746.4499999999998\n",
      "****************************************************************************************************\n",
      "41642 8 480 0\n",
      "41650 0 480 0\n",
      "41650 0 480 0\n"
     ]
    },
    {
     "name": "stderr",
     "output_type": "stream",
     "text": [
      " 51%|█████     | 5064/10000 [03:34<03:21, 24.52it/s]"
     ]
    },
    {
     "name": "stdout",
     "output_type": "stream",
     "text": [
      "41650 0 480 0\n",
      "0 41650 0 480\n",
      "41650 0 480 0\n",
      "41650 0 480 0\n",
      "41650 0 480 0\n"
     ]
    },
    {
     "name": "stderr",
     "output_type": "stream",
     "text": [
      " 51%|█████     | 5070/10000 [03:35<03:20, 24.60it/s]"
     ]
    },
    {
     "name": "stdout",
     "output_type": "stream",
     "text": [
      "41650 0 480 0\n",
      "41650 0 480 0\n",
      "41650 0 480 0\n",
      "13108 28542 76 404\n",
      "Number of treatment 13108\n",
      "Revenue -5246.2\n",
      "****************************************************************************************************\n",
      "41650 0 480 0\n"
     ]
    },
    {
     "name": "stderr",
     "output_type": "stream",
     "text": [
      "\r",
      " 51%|█████     | 5073/10000 [03:35<03:29, 23.57it/s]"
     ]
    },
    {
     "name": "stdout",
     "output_type": "stream",
     "text": [
      "41650 0 480 0\n",
      "41650 0 480 0\n",
      "41650 0 480 0\n",
      "41650 0 480 0\n",
      "41650 0 480 0\n"
     ]
    },
    {
     "name": "stderr",
     "output_type": "stream",
     "text": [
      " 51%|█████     | 5079/10000 [03:35<03:22, 24.34it/s]"
     ]
    },
    {
     "name": "stdout",
     "output_type": "stream",
     "text": [
      "41650 0 480 0\n",
      "41650 0 480 0\n",
      "41650 0 480 0\n",
      "32830 8820 335 145\n",
      "Number of treatment 32830\n",
      "Revenue -3024.5\n",
      "****************************************************************************************************\n",
      "41650 0 480 0\n",
      "41650 0 480 0\n"
     ]
    },
    {
     "name": "stderr",
     "output_type": "stream",
     "text": [
      " 51%|█████     | 5085/10000 [03:35<03:17, 24.89it/s]"
     ]
    },
    {
     "name": "stdout",
     "output_type": "stream",
     "text": [
      "0 41650 0 480\n",
      "41650 0 480 0\n",
      "41650 0 480 0\n",
      "41650 0 480 0\n",
      "41650 0 480 0\n",
      "41594 56 480 0\n"
     ]
    },
    {
     "name": "stderr",
     "output_type": "stream",
     "text": [
      " 51%|█████     | 5091/10000 [03:35<03:17, 24.82it/s]"
     ]
    },
    {
     "name": "stdout",
     "output_type": "stream",
     "text": [
      "0 41650 0 480\n",
      "41650 0 480 0\n",
      "0 41650 0 480\n",
      "41650 0 480 0\n",
      "41650 0 480 0\n",
      "41650 0 480 0\n"
     ]
    },
    {
     "name": "stderr",
     "output_type": "stream",
     "text": [
      " 51%|█████     | 5097/10000 [03:36<03:21, 24.34it/s]"
     ]
    },
    {
     "name": "stdout",
     "output_type": "stream",
     "text": [
      "2673 38977 20 460\n",
      "Number of treatment 2673\n",
      "Revenue -4800.95\n",
      "****************************************************************************************************\n",
      "41650 0 480 0\n",
      "41650 0 480 0\n",
      "41650 0 480 0\n",
      "41650 0 480 0\n"
     ]
    },
    {
     "name": "stderr",
     "output_type": "stream",
     "text": [
      " 51%|█████     | 5103/10000 [03:36<03:16, 24.91it/s]"
     ]
    },
    {
     "name": "stdout",
     "output_type": "stream",
     "text": [
      "41650 0 480 0\n",
      "41650 0 480 0\n",
      "41650 0 480 0\n",
      "41650 0 480 0\n",
      "41009 641 471 9\n",
      "Number of treatment 41009\n",
      "Revenue -1531.3499999999995\n",
      "****************************************************************************************************\n"
     ]
    },
    {
     "name": "stderr",
     "output_type": "stream",
     "text": [
      " 51%|█████     | 5109/10000 [03:36<03:18, 24.70it/s]"
     ]
    },
    {
     "name": "stdout",
     "output_type": "stream",
     "text": [
      "41650 0 480 0\n",
      "149 41501 2 478\n",
      "Number of treatment 149\n",
      "Revenue -4782.35\n",
      "****************************************************************************************************\n",
      "41605 45 480 0\n",
      "Number of treatment 41605\n",
      "Revenue -1440.75\n",
      "****************************************************************************************************\n",
      "41650 0 480 0\n",
      "41650 0 480 0\n",
      "41650 0 480 0\n"
     ]
    },
    {
     "name": "stderr",
     "output_type": "stream",
     "text": [
      "\r",
      " 51%|█████     | 5112/10000 [03:36<03:16, 24.93it/s]"
     ]
    },
    {
     "name": "stdout",
     "output_type": "stream",
     "text": [
      "0 41650 0 480\n",
      "41650 0 480 0\n",
      "41650 0 480 0\n",
      "41650 0 480 0\n",
      "11960 29690 69 411\n"
     ]
    },
    {
     "name": "stderr",
     "output_type": "stream",
     "text": [
      " 51%|█████     | 5118/10000 [03:37<03:21, 24.21it/s]"
     ]
    },
    {
     "name": "stdout",
     "output_type": "stream",
     "text": [
      "41650 0 480 0\n",
      "41650 0 480 0\n",
      "41650 0 480 0\n",
      "41650 0 480 0\n",
      "41650 0 480 0\n"
     ]
    },
    {
     "name": "stderr",
     "output_type": "stream",
     "text": [
      " 51%|█████     | 5124/10000 [03:37<03:16, 24.85it/s]"
     ]
    },
    {
     "name": "stdout",
     "output_type": "stream",
     "text": [
      "41650 0 480 0\n",
      "41650 0 480 0\n",
      "41650 0 480 0\n",
      "41650 0 480 0\n",
      "41650 0 480 0\n",
      "7826 33824 52 428\n",
      "Number of treatment 7826\n",
      "Revenue -4933.9\n",
      "****************************************************************************************************\n"
     ]
    },
    {
     "name": "stderr",
     "output_type": "stream",
     "text": [
      " 51%|█████▏    | 5130/10000 [03:37<03:18, 24.58it/s]"
     ]
    },
    {
     "name": "stdout",
     "output_type": "stream",
     "text": [
      "41650 0 480 0\n",
      "20254 21396 163 317\n",
      "Number of treatment 20254\n",
      "Revenue -4578.1\n",
      "****************************************************************************************************\n",
      "41650 0 480 0\n",
      "41650 0 480 0\n",
      "41650 0 480 0\n"
     ]
    },
    {
     "name": "stderr",
     "output_type": "stream",
     "text": [
      " 51%|█████▏    | 5136/10000 [03:37<03:12, 25.29it/s]"
     ]
    },
    {
     "name": "stdout",
     "output_type": "stream",
     "text": [
      "41650 0 480 0\n",
      "41650 0 480 0\n",
      "41650 0 480 0\n",
      "41650 0 480 0\n",
      "41650 0 480 0\n",
      "41650 0 480 0\n"
     ]
    },
    {
     "name": "stderr",
     "output_type": "stream",
     "text": [
      " 51%|█████▏    | 5142/10000 [03:37<03:11, 25.41it/s]"
     ]
    },
    {
     "name": "stdout",
     "output_type": "stream",
     "text": [
      "41650 0 480 0\n",
      "41600 50 480 0\n",
      "13216 28434 76 404\n",
      "Number of treatment 13216\n",
      "Revenue -5262.4\n",
      "****************************************************************************************************\n",
      "41650 0 480 0\n",
      "41650 0 480 0\n",
      "41650 0 480 0\n"
     ]
    },
    {
     "name": "stderr",
     "output_type": "stream",
     "text": [
      " 51%|█████▏    | 5148/10000 [03:38<03:10, 25.53it/s]"
     ]
    },
    {
     "name": "stdout",
     "output_type": "stream",
     "text": [
      "41650 0 480 0\n",
      "41650 0 480 0\n",
      "33744 7906 352 128\n",
      "Number of treatment 33744\n",
      "Revenue -2821.5999999999995\n",
      "****************************************************************************************************\n",
      "41650 0 480 0\n",
      "41650 0 480 0\n",
      "41650 0 480 0\n"
     ]
    },
    {
     "name": "stderr",
     "output_type": "stream",
     "text": [
      "\r",
      " 52%|█████▏    | 5151/10000 [03:38<03:15, 24.82it/s]"
     ]
    },
    {
     "name": "stdout",
     "output_type": "stream",
     "text": [
      "41650 0 480 0\n",
      "41650 0 480 0\n",
      "41650 0 480 0\n",
      "41650 0 480 0\n",
      "41650 0 480 0\n"
     ]
    },
    {
     "name": "stderr",
     "output_type": "stream",
     "text": [
      " 52%|█████▏    | 5157/10000 [03:38<03:16, 24.69it/s]"
     ]
    },
    {
     "name": "stdout",
     "output_type": "stream",
     "text": [
      "41650 0 480 0\n",
      "41650 0 480 0\n",
      "14007 27643 84 396\n",
      "Number of treatment 14007\n",
      "Revenue -5221.049999999999\n",
      "****************************************************************************************************\n",
      "41650 0 480 0\n",
      "41650 0 480 0\n",
      "41650 0 480 0\n"
     ]
    },
    {
     "name": "stderr",
     "output_type": "stream",
     "text": [
      " 52%|█████▏    | 5163/10000 [03:38<03:11, 25.29it/s]"
     ]
    },
    {
     "name": "stdout",
     "output_type": "stream",
     "text": [
      "13756 27894 80 400\n",
      "Number of treatment 13756\n",
      "Revenue -5263.4\n",
      "****************************************************************************************************\n",
      "41650 0 480 0\n",
      "41650 0 480 0\n",
      "13263 28387 76 404\n",
      "Number of treatment 13263\n",
      "Revenue -5269.45\n",
      "****************************************************************************************************\n",
      "41650 0 480 0\n"
     ]
    },
    {
     "name": "stderr",
     "output_type": "stream",
     "text": [
      " 52%|█████▏    | 5169/10000 [03:39<03:15, 24.70it/s]"
     ]
    },
    {
     "name": "stdout",
     "output_type": "stream",
     "text": [
      "41650 0 480 0\n",
      "41650 0 480 0\n",
      "41650 0 480 0\n",
      "41650 0 480 0\n",
      "18864 22786 151 329\n",
      "Number of treatment 18864\n",
      "Revenue -4609.6\n",
      "****************************************************************************************************\n",
      "41650 0 480 0\n"
     ]
    },
    {
     "name": "stderr",
     "output_type": "stream",
     "text": [
      " 52%|█████▏    | 5175/10000 [03:39<03:12, 25.07it/s]"
     ]
    },
    {
     "name": "stdout",
     "output_type": "stream",
     "text": [
      "41650 0 480 0\n",
      "41650 0 480 0\n",
      "41650 0 480 0\n",
      "41650 0 480 0\n",
      "0 41650 0 480\n",
      "41650 0 480 0\n"
     ]
    },
    {
     "name": "stderr",
     "output_type": "stream",
     "text": [
      " 52%|█████▏    | 5181/10000 [03:39<03:12, 25.10it/s]"
     ]
    },
    {
     "name": "stdout",
     "output_type": "stream",
     "text": [
      "41650 0 480 0\n",
      "41650 0 480 0\n",
      "41650 0 480 0\n",
      "41650 0 480 0\n",
      "0 41650 0 480\n",
      "41650 0 480 "
     ]
    },
    {
     "name": "stderr",
     "output_type": "stream",
     "text": [
      "\r",
      " 52%|█████▏    | 5184/10000 [03:39<03:16, 24.51it/s]"
     ]
    },
    {
     "name": "stdout",
     "output_type": "stream",
     "text": [
      "0\n",
      "41650 0 480 0\n",
      "24824 16826 220 260\n",
      "Number of treatment 24824\n",
      "Revenue -4123.6\n",
      "****************************************************************************************************\n",
      "41650 0 480 0\n",
      "41650 0 480 0\n"
     ]
    },
    {
     "name": "stderr",
     "output_type": "stream",
     "text": [
      " 52%|█████▏    | 5190/10000 [03:39<03:15, 24.56it/s]"
     ]
    },
    {
     "name": "stdout",
     "output_type": "stream",
     "text": [
      "41650 0 480 0\n",
      "41650 0 480 0\n",
      "41650 0 480 0\n",
      "41650 0 480 0\n",
      "41650 0 480 0\n",
      "30396 11254 294 186\n",
      "Number of treatment 30396\n",
      "Revenue -3479.3999999999996\n",
      "****************************************************************************************************\n"
     ]
    },
    {
     "name": "stderr",
     "output_type": "stream",
     "text": [
      " 52%|█████▏    | 5196/10000 [03:40<03:15, 24.61it/s]"
     ]
    },
    {
     "name": "stdout",
     "output_type": "stream",
     "text": [
      "1028 40622 9 471\n",
      "Number of treatment 1028\n",
      "Revenue -4774.2\n",
      "****************************************************************************************************\n",
      "41650 0 480 0\n",
      "0 41650 0 480\n",
      "41650 0 480 0\n",
      "41650 0 480 0\n"
     ]
    },
    {
     "name": "stderr",
     "output_type": "stream",
     "text": [
      " 52%|█████▏    | 5202/10000 [03:40<03:14, 24.68it/s]"
     ]
    },
    {
     "name": "stdout",
     "output_type": "stream",
     "text": [
      "41650 0 480 0\n",
      "41650 0 480 0\n",
      "41650 0 480 0\n",
      "0 41650 0 480\n",
      "0 41650 0 480\n",
      "41121 529 472 8\n",
      "Number of treatment 41121\n",
      "Revenue -1528.1499999999996\n",
      "****************************************************************************************************\n"
     ]
    },
    {
     "name": "stderr",
     "output_type": "stream",
     "text": [
      " 52%|█████▏    | 5208/10000 [03:40<03:11, 25.01it/s]"
     ]
    },
    {
     "name": "stdout",
     "output_type": "stream",
     "text": [
      "41650 0 480 0\n",
      "0 41650 0 480\n",
      "41650 0 480 0\n",
      "41650 0 480 0\n",
      "41650 0 480 0\n",
      "41650 0 480 0\n"
     ]
    },
    {
     "name": "stderr",
     "output_type": "stream",
     "text": [
      "\r",
      " 52%|█████▏    | 5211/10000 [03:40<03:18, 24.17it/s]"
     ]
    },
    {
     "name": "stdout",
     "output_type": "stream",
     "text": [
      "41650 0 480 0\n",
      "0 41650 0 480\n",
      "39435 2215 448 32\n",
      "41650 0 480 0\n"
     ]
    },
    {
     "name": "stderr",
     "output_type": "stream",
     "text": [
      " 52%|█████▏    | 5217/10000 [03:41<03:28, 22.98it/s]"
     ]
    },
    {
     "name": "stdout",
     "output_type": "stream",
     "text": [
      "41650 0 480 0\n",
      "41650 0 480 0\n",
      "41650 0 480 0\n",
      "41650 0 480 0\n",
      "9329 32321 57 423\n",
      "Number of treatment 9329\n",
      "Revenue -5059.35\n",
      "****************************************************************************************************\n"
     ]
    },
    {
     "name": "stderr",
     "output_type": "stream",
     "text": [
      " 52%|█████▏    | 5223/10000 [03:41<03:28, 22.87it/s]"
     ]
    },
    {
     "name": "stdout",
     "output_type": "stream",
     "text": [
      "41650 0 480 0\n",
      "21010 20640 175 305\n",
      "Number of treatment 21010\n",
      "Revenue -4451.5\n",
      "****************************************************************************************************\n",
      "41650 0 480 0\n",
      "41650 0 480 0\n",
      "33798 7852 353 127\n",
      "Number of treatment 33798\n",
      "Revenue -2809.7\n",
      "****************************************************************************************************\n"
     ]
    },
    {
     "name": "stderr",
     "output_type": "stream",
     "text": [
      "\r",
      " 52%|█████▏    | 5226/10000 [03:41<03:36, 22.03it/s]"
     ]
    },
    {
     "name": "stdout",
     "output_type": "stream",
     "text": [
      "41650 0 480 0\n",
      "41650 0 480 0\n",
      "41650 0 480 0\n",
      "41650 0 480 0\n",
      "41650 0 480 0\n"
     ]
    },
    {
     "name": "stderr",
     "output_type": "stream",
     "text": [
      " 52%|█████▏    | 5232/10000 [03:41<03:33, 22.29it/s]"
     ]
    },
    {
     "name": "stdout",
     "output_type": "stream",
     "text": [
      "41650 0 480 0\n",
      "41650 0 480 0\n",
      "41650 0 480 0\n",
      "0 41650 0 480\n",
      "3798 37852 24 456\n",
      "Number of treatment 3798\n",
      "Revenue -4889.7\n",
      "****************************************************************************************************\n"
     ]
    },
    {
     "name": "stderr",
     "output_type": "stream",
     "text": [
      " 52%|█████▏    | 5238/10000 [03:41<03:24, 23.25it/s]"
     ]
    },
    {
     "name": "stdout",
     "output_type": "stream",
     "text": [
      "39840 1810 453 27\n",
      "Number of treatment 39840\n",
      "Revenue -1716.0\n",
      "****************************************************************************************************\n",
      "41650 0 480 0\n",
      "41650 0 480 0\n",
      "1369 40281 13 467\n",
      "Number of treatment 1369\n",
      "Revenue -4745.35\n",
      "****************************************************************************************************\n",
      "41650 0 480 0\n"
     ]
    },
    {
     "name": "stderr",
     "output_type": "stream",
     "text": [
      "\r",
      " 52%|█████▏    | 5241/10000 [03:42<03:23, 23.36it/s]"
     ]
    },
    {
     "name": "stdout",
     "output_type": "stream",
     "text": [
      "41650 0 480 0\n",
      "41650 0 480 0\n",
      "41650 0 480 0\n",
      "41650 0 480 0\n",
      "41650 0 480 0\n"
     ]
    },
    {
     "name": "stderr",
     "output_type": "stream",
     "text": [
      " 52%|█████▏    | 5247/10000 [03:42<03:30, 22.62it/s]"
     ]
    },
    {
     "name": "stdout",
     "output_type": "stream",
     "text": [
      "41650 0 480 0\n",
      "17224 24426 133 347\n",
      "Number of treatment 17224\n",
      "Revenue -4723.6\n",
      "****************************************************************************************************\n",
      "41650 0 480 0\n",
      "41650 0 480 0\n",
      "41650 0 480 0\n"
     ]
    },
    {
     "name": "stderr",
     "output_type": "stream",
     "text": [
      " 53%|█████▎    | 5253/10000 [03:42<03:34, 22.16it/s]"
     ]
    },
    {
     "name": "stdout",
     "output_type": "stream",
     "text": [
      "41650 0 480 0\n",
      "41650 0 480 0\n",
      "41650 0 480 0\n",
      "41650 0 480 0\n",
      "41634 16 480 0\n"
     ]
    },
    {
     "name": "stderr",
     "output_type": "stream",
     "text": [
      "\r",
      " 53%|█████▎    | 5256/10000 [03:42<03:34, 22.15it/s]"
     ]
    },
    {
     "name": "stdout",
     "output_type": "stream",
     "text": [
      "41650 0 480 0\n",
      "41650 0 480 0\n",
      "9338 32312 57 423\n",
      "Number of treatment 9338\n",
      "Revenue -5060.7\n",
      "****************************************************************************************************\n",
      "41650 0 480 0\n",
      "41650 0 480 0\n"
     ]
    },
    {
     "name": "stderr",
     "output_type": "stream",
     "text": [
      " 53%|█████▎    | 5262/10000 [03:43<03:34, 22.10it/s]"
     ]
    },
    {
     "name": "stdout",
     "output_type": "stream",
     "text": [
      "41650 0 480 0\n",
      "41650 0 480 0\n",
      "41650 0 480 0\n",
      "41650 0 480 0\n",
      "41650 0 480 0\n"
     ]
    },
    {
     "name": "stderr",
     "output_type": "stream",
     "text": [
      " 53%|█████▎    | 5268/10000 [03:43<03:36, 21.89it/s]"
     ]
    },
    {
     "name": "stdout",
     "output_type": "stream",
     "text": [
      "41650 0 480 0\n",
      "41650 0 480 0\n",
      "41650 0 480 0\n",
      "41650 0 480 0\n",
      "41650 0 480 0\n"
     ]
    },
    {
     "name": "stderr",
     "output_type": "stream",
     "text": [
      "\r",
      " 53%|█████▎    | 5271/10000 [03:43<03:31, 22.39it/s]"
     ]
    },
    {
     "name": "stdout",
     "output_type": "stream",
     "text": [
      "41650 0 480 0\n",
      "41650 0 480 0\n",
      "41650 0 480 0\n",
      "41650 0 480 0\n",
      "41644 6 480 0\n"
     ]
    },
    {
     "name": "stderr",
     "output_type": "stream",
     "text": [
      " 53%|█████▎    | 5277/10000 [03:43<03:34, 22.01it/s]"
     ]
    },
    {
     "name": "stdout",
     "output_type": "stream",
     "text": [
      "39286 2364 444 36\n",
      "Number of treatment 39286\n",
      "Revenue -1812.8999999999996\n",
      "****************************************************************************************************\n",
      "41650 0 480 0\n",
      "41650 0 480 0\n",
      "41650 0 480 0\n",
      "41650 0 480 0\n"
     ]
    },
    {
     "name": "stderr",
     "output_type": "stream",
     "text": [
      " 53%|█████▎    | 5283/10000 [03:43<03:19, 23.61it/s]"
     ]
    },
    {
     "name": "stdout",
     "output_type": "stream",
     "text": [
      "41650 0 480 0\n",
      "41650 0 480 0\n",
      "41650 0 480 0\n",
      "41650 0 480 0\n",
      "41650 0 480 0\n",
      "41650 0 480 0\n"
     ]
    },
    {
     "name": "stderr",
     "output_type": "stream",
     "text": [
      " 53%|█████▎    | 5289/10000 [03:44<03:12, 24.51it/s]"
     ]
    },
    {
     "name": "stdout",
     "output_type": "stream",
     "text": [
      "32763 8887 334 146\n",
      "Number of treatment 32763\n",
      "Revenue -3034.45\n",
      "****************************************************************************************************\n",
      "0 41650 0 480\n",
      "41650 0 480 0\n",
      "41650 0 480 0\n",
      "41650 0 480 0\n",
      "12445 29205 72 408\n",
      "Number of treatment 12445\n",
      "Revenue -5226.75\n",
      "****************************************************************************************************\n"
     ]
    },
    {
     "name": "stderr",
     "output_type": "stream",
     "text": [
      " 53%|█████▎    | 5295/10000 [03:44<03:22, 23.23it/s]"
     ]
    },
    {
     "name": "stdout",
     "output_type": "stream",
     "text": [
      "41650 0 480 0\n",
      "41650 0 480 0\n",
      "41650 0 480 0\n",
      "41650 0 480 0\n",
      "41650 0 480 0\n"
     ]
    },
    {
     "name": "stderr",
     "output_type": "stream",
     "text": [
      "\r",
      " 53%|█████▎    | 5298/10000 [03:44<03:29, 22.46it/s]"
     ]
    },
    {
     "name": "stdout",
     "output_type": "stream",
     "text": [
      "41650 0 480 0\n",
      "41650 0 480 0\n",
      "41650 0 480 0\n",
      "41650 0 480 0\n",
      "41650 0 480 0\n"
     ]
    },
    {
     "name": "stderr",
     "output_type": "stream",
     "text": [
      " 53%|█████▎    | 5304/10000 [03:44<03:18, 23.64it/s]"
     ]
    },
    {
     "name": "stdout",
     "output_type": "stream",
     "text": [
      "41650 0 480 0\n",
      "41650 0 480 0\n",
      "41650 0 480 0\n",
      "41650 0 480 0\n",
      "41650 0 480 0\n",
      "41650 0 480 0\n"
     ]
    },
    {
     "name": "stderr",
     "output_type": "stream",
     "text": [
      " 53%|█████▎    | 5310/10000 [03:45<03:18, 23.63it/s]"
     ]
    },
    {
     "name": "stdout",
     "output_type": "stream",
     "text": [
      "41650 0 480 0\n",
      "41650 0 480 0\n",
      "41650 0 480 0\n",
      "41650 0 480 0\n",
      "41650 0 480 0\n"
     ]
    },
    {
     "name": "stderr",
     "output_type": "stream",
     "text": [
      " 53%|█████▎    | 5316/10000 [03:45<03:12, 24.27it/s]"
     ]
    },
    {
     "name": "stdout",
     "output_type": "stream",
     "text": [
      "41650 0 480 0\n",
      "0 41650 0 480\n",
      "41650 0 480 0\n",
      "41650 0 480 0\n",
      "41650 0 480 0\n"
     ]
    },
    {
     "name": "stderr",
     "output_type": "stream",
     "text": [
      "\r",
      " 53%|█████▎    | 5319/10000 [03:45<03:15, 23.94it/s]"
     ]
    },
    {
     "name": "stdout",
     "output_type": "stream",
     "text": [
      "41650 0 480 0\n",
      "41650 0 480 0\n",
      "41650 0 480 0\n",
      "41650 0 480 0\n",
      "41650 0 480 0\n"
     ]
    },
    {
     "name": "stderr",
     "output_type": "stream",
     "text": [
      " 53%|█████▎    | 5325/10000 [03:45<03:12, 24.25it/s]"
     ]
    },
    {
     "name": "stdout",
     "output_type": "stream",
     "text": [
      "41650 0 480 0\n",
      "41650 0 480 0\n",
      "41650 0 480 0\n",
      "41650 0 480 0\n",
      "0 41650 0 480\n",
      "41650 0 480 0\n"
     ]
    },
    {
     "name": "stderr",
     "output_type": "stream",
     "text": [
      " 53%|█████▎    | 5331/10000 [03:45<03:12, 24.28it/s]"
     ]
    },
    {
     "name": "stdout",
     "output_type": "stream",
     "text": [
      "0 41650 0 480\n",
      "22555 19095 189 291\n",
      "Number of treatment 22555\n",
      "Revenue -4403.25\n",
      "****************************************************************************************************\n",
      "41650 0 480 0\n",
      "41650 0 480 0\n",
      "41650 0 480 0\n",
      "41650 0 480 "
     ]
    },
    {
     "name": "stderr",
     "output_type": "stream",
     "text": [
      " 53%|█████▎    | 5337/10000 [03:46<03:12, 24.24it/s]"
     ]
    },
    {
     "name": "stdout",
     "output_type": "stream",
     "text": [
      "0\n",
      "41650 0 480 0\n",
      "41650 0 480 0\n",
      "0 41650 0 480\n",
      "41650 0 480 0\n"
     ]
    },
    {
     "name": "stderr",
     "output_type": "stream",
     "text": [
      "\r",
      " 53%|█████▎    | 5340/10000 [03:46<03:11, 24.33it/s]"
     ]
    },
    {
     "name": "stdout",
     "output_type": "stream",
     "text": [
      "11950 29700 68 412\n",
      "Number of treatment 11950\n",
      "Revenue -5232.5\n",
      "****************************************************************************************************\n",
      "0 41650 0 480\n",
      "41650 0 480 0\n",
      "21843 19807 183 297\n",
      "Number of treatment 21843\n",
      "Revenue -4416.45\n",
      "****************************************************************************************************\n",
      "41650 0 480 0\n"
     ]
    },
    {
     "name": "stderr",
     "output_type": "stream",
     "text": [
      " 53%|█████▎    | 5346/10000 [03:46<03:26, 22.59it/s]"
     ]
    },
    {
     "name": "stdout",
     "output_type": "stream",
     "text": [
      "41650 0 480 0\n",
      "41650 0 480 0\n",
      "41650 0 480 0\n",
      "41650 0 480 0\n",
      "41650 0 480 0\n"
     ]
    },
    {
     "name": "stderr",
     "output_type": "stream",
     "text": [
      " 54%|█████▎    | 5352/10000 [03:46<03:18, 23.42it/s]"
     ]
    },
    {
     "name": "stdout",
     "output_type": "stream",
     "text": [
      "41650 0 480 0\n",
      "41650 0 480 0\n",
      "41650 0 480 0\n",
      "41650 0 480 0\n",
      "41650 0 480 0\n"
     ]
    },
    {
     "name": "stderr",
     "output_type": "stream",
     "text": [
      " 54%|█████▎    | 5358/10000 [03:47<03:09, 24.52it/s]"
     ]
    },
    {
     "name": "stdout",
     "output_type": "stream",
     "text": [
      "41650 0 480 0\n",
      "17657 23993 138 342\n",
      "Number of treatment 17657\n",
      "Revenue -4688.549999999999\n",
      "****************************************************************************************************\n",
      "19917 21733 162 318\n",
      "Number of treatment 19917\n",
      "Revenue -4547.549999999999\n",
      "****************************************************************************************************\n",
      "41650 0 480 0\n",
      "41650 0 480 0\n",
      "41650 0 480 0\n"
     ]
    },
    {
     "name": "stderr",
     "output_type": "stream",
     "text": [
      " 54%|█████▎    | 5364/10000 [03:47<03:05, 25.05it/s]"
     ]
    },
    {
     "name": "stdout",
     "output_type": "stream",
     "text": [
      "41650 0 480 0\n",
      "41650 0 480 0\n",
      "41650 0 480 0\n",
      "41650 0 480 0\n",
      "41650 0 480 0\n",
      "28111 13539 266 214\n",
      "Number of treatment 28111\n",
      "Revenue -3696.6499999999996\n",
      "****************************************************************************************************\n"
     ]
    },
    {
     "name": "stderr",
     "output_type": "stream",
     "text": [
      " 54%|█████▎    | 5370/10000 [03:47<03:02, 25.37it/s]"
     ]
    },
    {
     "name": "stdout",
     "output_type": "stream",
     "text": [
      "41650 0 480 0\n",
      "41650 0 480 0\n",
      "41650 0 480 0\n",
      "0 41650 0 480\n",
      "0 41650 0 480\n",
      "41529 121 479 1\n",
      "Number of treatment 41529\n",
      "Revenue -1449.3499999999995\n",
      "****************************************************************************************************\n"
     ]
    },
    {
     "name": "stderr",
     "output_type": "stream",
     "text": [
      " 54%|█████▍    | 5376/10000 [03:47<02:59, 25.74it/s]"
     ]
    },
    {
     "name": "stdout",
     "output_type": "stream",
     "text": [
      "41650 0 480 0\n",
      "41650 0 480 0\n",
      "0 41650 0 480\n",
      "41650 0 480 0\n",
      "41650 0 480 0\n",
      "41650 0 480 0\n"
     ]
    },
    {
     "name": "stderr",
     "output_type": "stream",
     "text": [
      "\r",
      " 54%|█████▍    | 5379/10000 [03:47<03:05, 24.90it/s]"
     ]
    },
    {
     "name": "stdout",
     "output_type": "stream",
     "text": [
      "41650 0 480 0\n",
      "41647 3 480 0\n",
      "32958 8692 337 143\n",
      "Number of treatment 32958\n",
      "Revenue -3003.7\n",
      "****************************************************************************************************\n",
      "41650 0 480 0\n",
      "12981 28669 75 405\n",
      "Number of treatment 12981\n",
      "Revenue -5247.15\n",
      "****************************************************************************************************\n"
     ]
    },
    {
     "name": "stderr",
     "output_type": "stream",
     "text": [
      " 54%|█████▍    | 5385/10000 [03:48<03:08, 24.50it/s]"
     ]
    },
    {
     "name": "stdout",
     "output_type": "stream",
     "text": [
      "7239 34411 49 431\n",
      "Number of treatment 7239\n",
      "Revenue -4905.85\n",
      "****************************************************************************************************\n",
      "41650 0 480 0\n",
      "41650 0 480 0\n",
      "41650 0 480 0\n",
      "41650 0 480 0\n",
      "41650 0 480 0\n"
     ]
    },
    {
     "name": "stderr",
     "output_type": "stream",
     "text": [
      " 54%|█████▍    | 5391/10000 [03:48<03:04, 24.96it/s]"
     ]
    },
    {
     "name": "stdout",
     "output_type": "stream",
     "text": [
      "41650 0 480 0\n",
      "41650 0 480 0\n",
      "41650 0 480 0\n",
      "41650 0 480 0\n",
      "41650 0 480 0\n"
     ]
    },
    {
     "name": "stderr",
     "output_type": "stream",
     "text": [
      " 54%|█████▍    | 5397/10000 [03:48<03:04, 24.95it/s]"
     ]
    },
    {
     "name": "stdout",
     "output_type": "stream",
     "text": [
      "41650 0 480 0\n",
      "41650 0 480 0\n",
      "41650 0 480 0\n",
      "41650 0 480 0\n",
      "41650 0 480 0\n"
     ]
    },
    {
     "name": "stderr",
     "output_type": "stream",
     "text": [
      "\r",
      " 54%|█████▍    | 5400/10000 [03:48<03:09, 24.31it/s]"
     ]
    },
    {
     "name": "stdout",
     "output_type": "stream",
     "text": [
      "41650 0 480 0\n",
      "41650 0 480 0\n",
      "41650 0 480 0\n",
      "41650 0 480 0\n",
      "41650 0 480 0\n"
     ]
    },
    {
     "name": "stderr",
     "output_type": "stream",
     "text": [
      " 54%|█████▍    | 5406/10000 [03:49<03:09, 24.25it/s]"
     ]
    },
    {
     "name": "stdout",
     "output_type": "stream",
     "text": [
      "41650 0 480 0\n",
      "0 41650 0 480\n",
      "41650 0 480 0\n",
      "41650 0 480 0\n",
      "41650 0 480 0\n"
     ]
    },
    {
     "name": "stderr",
     "output_type": "stream",
     "text": [
      " 54%|█████▍    | 5412/10000 [03:49<03:05, 24.71it/s]"
     ]
    },
    {
     "name": "stdout",
     "output_type": "stream",
     "text": [
      "41650 0 480 0\n",
      "41650 0 480 0\n",
      "41650 0 480 0\n",
      "41650 0 480 0\n",
      "41650 0 480 0\n",
      "0 41650 0 480\n"
     ]
    },
    {
     "name": "stderr",
     "output_type": "stream",
     "text": [
      " 54%|█████▍    | 5418/10000 [03:49<03:05, 24.68it/s]"
     ]
    },
    {
     "name": "stdout",
     "output_type": "stream",
     "text": [
      "41650 0 480 0\n",
      "41650 0 480 0\n",
      "41650 0 480 0\n",
      "0 41650 0 480\n",
      "0 41650 0 480\n",
      "41650 0 480 0\n"
     ]
    },
    {
     "name": "stderr",
     "output_type": "stream",
     "text": [
      " 54%|█████▍    | 5424/10000 [03:49<03:02, 25.01it/s]"
     ]
    },
    {
     "name": "stdout",
     "output_type": "stream",
     "text": [
      "41591 59 480 0\n",
      "Number of treatment 41591\n",
      "Revenue -1438.6499999999996\n",
      "****************************************************************************************************\n",
      "41650 0 480 0\n",
      "41650 0 480 0\n",
      "41650 0 480 0\n",
      "41637 13 480 0\n"
     ]
    },
    {
     "name": "stderr",
     "output_type": "stream",
     "text": [
      "\r",
      " 54%|█████▍    | 5427/10000 [03:49<03:05, 24.62it/s]"
     ]
    },
    {
     "name": "stdout",
     "output_type": "stream",
     "text": [
      "41650 0 480 0\n",
      "41650 0 480 0\n",
      "41650 0 480 0\n",
      "41650 0 480 0\n",
      "41650 0 480 0\n"
     ]
    },
    {
     "name": "stderr",
     "output_type": "stream",
     "text": [
      " 54%|█████▍    | 5433/10000 [03:50<03:07, 24.36it/s]"
     ]
    },
    {
     "name": "stdout",
     "output_type": "stream",
     "text": [
      "41650 0 480 0\n",
      "0 41650 0 480\n",
      "41650 0 480 0\n",
      "41650 0 480 0\n",
      "13320 28330 76 404\n",
      "Number of treatment 13320\n",
      "Revenue -5278.0\n",
      "****************************************************************************************************\n"
     ]
    },
    {
     "name": "stderr",
     "output_type": "stream",
     "text": [
      " 54%|█████▍    | 5439/10000 [03:50<03:02, 24.93it/s]"
     ]
    },
    {
     "name": "stdout",
     "output_type": "stream",
     "text": [
      "41650 0 480 0\n",
      "41650 0 480 0\n",
      "41650 0 480 0\n",
      "41650 0 480 0\n",
      "41650 0 480 0\n",
      "41650 0 480 0\n"
     ]
    },
    {
     "name": "stderr",
     "output_type": "stream",
     "text": [
      " 54%|█████▍    | 5445/10000 [03:50<03:01, 25.07it/s]"
     ]
    },
    {
     "name": "stdout",
     "output_type": "stream",
     "text": [
      "41650 0 480 0\n",
      "41650 0 480 0\n",
      "369 41281 4 476\n",
      "Number of treatment 369\n",
      "Revenue -4775.35\n",
      "****************************************************************************************************\n",
      "41650 0 480 0\n",
      "41650 0 480 0\n"
     ]
    },
    {
     "name": "stderr",
     "output_type": "stream",
     "text": [
      "\r",
      " 54%|█████▍    | 5448/10000 [03:50<03:04, 24.72it/s]"
     ]
    },
    {
     "name": "stdout",
     "output_type": "stream",
     "text": [
      "10777 30873 61 419\n",
      "Number of treatment 10777\n",
      "Revenue -5196.55\n",
      "****************************************************************************************************\n",
      "41650 0 480 0\n",
      "41650 0 480 0\n",
      "41650 0 480 0\n",
      "39711 1939 450 30\n",
      "Number of treatment 39711\n",
      "Revenue -1756.6499999999996\n",
      "****************************************************************************************************\n"
     ]
    },
    {
     "name": "stderr",
     "output_type": "stream",
     "text": [
      " 55%|█████▍    | 5454/10000 [03:50<03:05, 24.55it/s]"
     ]
    },
    {
     "name": "stdout",
     "output_type": "stream",
     "text": [
      "41650 0 480 0\n",
      "41650 0 480 0\n",
      "41650 0 480 0\n",
      "41650 0 480 0\n",
      "40748 902 469 11\n"
     ]
    },
    {
     "name": "stderr",
     "output_type": "stream",
     "text": [
      " 55%|█████▍    | 5460/10000 [03:51<03:02, 24.83it/s]"
     ]
    },
    {
     "name": "stdout",
     "output_type": "stream",
     "text": [
      "41650 0 480 0\n",
      "27 41623 0 480\n",
      "Number of treatment 27\n",
      "Revenue -4804.05\n",
      "****************************************************************************************************\n",
      "41650 0 480 0\n",
      "41650 0 480 0\n",
      "41650 0 480 0\n",
      "41650 0 480 0\n"
     ]
    },
    {
     "name": "stderr",
     "output_type": "stream",
     "text": [
      " 55%|█████▍    | 5466/10000 [03:51<03:02, 24.88it/s]"
     ]
    },
    {
     "name": "stdout",
     "output_type": "stream",
     "text": [
      "41650 0 480 0\n",
      "41650 0 480 0\n",
      "0 41650 0 480\n",
      "41650 0 480 0\n",
      "41650 0 480 0\n",
      "41650 0 480 0\n"
     ]
    },
    {
     "name": "stderr",
     "output_type": "stream",
     "text": [
      " 55%|█████▍    | 5472/10000 [03:51<02:59, 25.26it/s]"
     ]
    },
    {
     "name": "stdout",
     "output_type": "stream",
     "text": [
      "0 41650 0 480\n",
      "41650 0 480 0\n",
      "41650 0 480 0\n",
      "41650 0 480 0\n",
      "41650 0 480 0\n",
      "41650 0 480 0\n"
     ]
    },
    {
     "name": "stderr",
     "output_type": "stream",
     "text": [
      " 55%|█████▍    | 5478/10000 [03:51<02:58, 25.31it/s]"
     ]
    },
    {
     "name": "stdout",
     "output_type": "stream",
     "text": [
      "41650 0 480 0\n",
      "41650 0 480 0\n",
      "41650 0 480 0\n",
      "41650 0 480 0\n",
      "41650 0 480 0\n"
     ]
    },
    {
     "name": "stderr",
     "output_type": "stream",
     "text": [
      "\r",
      " 55%|█████▍    | 5481/10000 [03:52<03:01, 24.87it/s]"
     ]
    },
    {
     "name": "stdout",
     "output_type": "stream",
     "text": [
      "36320 5330 390 90\n",
      "Number of treatment 36320\n",
      "Revenue -2448.0\n",
      "****************************************************************************************************\n",
      "41650 0 480 0\n",
      "41650 0 480 0\n",
      "41650 0 480 0\n",
      "41650 0 480 0\n"
     ]
    },
    {
     "name": "stderr",
     "output_type": "stream",
     "text": [
      " 55%|█████▍    | 5487/10000 [03:52<03:02, 24.67it/s]"
     ]
    },
    {
     "name": "stdout",
     "output_type": "stream",
     "text": [
      "41650 0 480 0\n",
      "41650 0 480 0\n",
      "41650 0 480 0\n",
      "41650 0 480 0\n",
      "41650 0 480 0\n",
      "41650 0 480 0\n"
     ]
    },
    {
     "name": "stderr",
     "output_type": "stream",
     "text": [
      " 55%|█████▍    | 5493/10000 [03:52<03:06, 24.14it/s]"
     ]
    },
    {
     "name": "stdout",
     "output_type": "stream",
     "text": [
      "13370 28280 77 403\n",
      "41650 0 480 0\n",
      "41650 0 480 0\n",
      "41650 0 480 0\n",
      "41650 0 480 0\n"
     ]
    },
    {
     "name": "stderr",
     "output_type": "stream",
     "text": [
      " 55%|█████▍    | 5499/10000 [03:52<03:08, 23.87it/s]"
     ]
    },
    {
     "name": "stdout",
     "output_type": "stream",
     "text": [
      "41650 0 480 0\n",
      "41650 0 480 0\n",
      "41650 0 480 0\n",
      "41650 0 480 0\n",
      "41650 0 480 0\n"
     ]
    },
    {
     "name": "stderr",
     "output_type": "stream",
     "text": [
      " 55%|█████▌    | 5505/10000 [03:53<03:00, 24.97it/s]"
     ]
    },
    {
     "name": "stdout",
     "output_type": "stream",
     "text": [
      "41650 0 480 0\n",
      "225 41425 4 476\n",
      "Number of treatment 225\n",
      "Revenue -4753.75\n",
      "****************************************************************************************************\n",
      "41650 0 480 0\n",
      "41650 0 480 0\n",
      "41650 0 480 0\n",
      "41650 0 480 0\n"
     ]
    },
    {
     "name": "stderr",
     "output_type": "stream",
     "text": [
      " 55%|█████▌    | 5511/10000 [03:53<03:00, 24.89it/s]"
     ]
    },
    {
     "name": "stdout",
     "output_type": "stream",
     "text": [
      "41650 0 480 0\n",
      "41650 0 480 0\n",
      "41650 0 480 0\n",
      "41650 0 480 0\n",
      "41650 0 480 0\n",
      "8520 33130 56 424\n",
      "Number of treatment 8520\n",
      "Revenue -4958.0\n",
      "****************************************************************************************************\n"
     ]
    },
    {
     "name": "stderr",
     "output_type": "stream",
     "text": [
      " 55%|█████▌    | 5517/10000 [03:53<02:57, 25.30it/s]"
     ]
    },
    {
     "name": "stdout",
     "output_type": "stream",
     "text": [
      "41650 0 480 0\n",
      "41650 0 480 0\n",
      "41650 0 480 0\n",
      "12838 28812 75 405\n",
      "Number of treatment 12838\n",
      "Revenue -5225.7\n",
      "****************************************************************************************************\n",
      "44 41606 0 480\n",
      "Number of treatment 44\n",
      "Revenue -4806.6\n",
      "****************************************************************************************************\n",
      "41650 0 480 0\n"
     ]
    },
    {
     "name": "stderr",
     "output_type": "stream",
     "text": [
      "\r",
      " 55%|█████▌    | 5520/10000 [03:53<03:03, 24.38it/s]"
     ]
    },
    {
     "name": "stdout",
     "output_type": "stream",
     "text": [
      "37299 4351 403 77\n",
      "Number of treatment 37299\n",
      "Revenue -2334.8499999999995\n",
      "****************************************************************************************************\n",
      "41650 0 480 0\n",
      "41650 0 480 0\n",
      "41620 30 480 0\n",
      "Number of treatment 41620\n",
      "Revenue -1443.0\n",
      "****************************************************************************************************\n",
      "41650 0 480 0\n"
     ]
    },
    {
     "name": "stderr",
     "output_type": "stream",
     "text": [
      " 55%|█████▌    | 5526/10000 [03:53<03:08, 23.70it/s]"
     ]
    },
    {
     "name": "stdout",
     "output_type": "stream",
     "text": [
      "41650 0 480 0\n",
      "41650 0 480 0\n",
      "41650 0 480 0\n",
      "41650 0 480 0\n",
      "40955 695 471 9\n",
      "Number of treatment 40955\n",
      "Revenue -1523.25\n",
      "****************************************************************************************************\n"
     ]
    },
    {
     "name": "stderr",
     "output_type": "stream",
     "text": [
      " 55%|█████▌    | 5532/10000 [03:54<03:10, 23.46it/s]"
     ]
    },
    {
     "name": "stdout",
     "output_type": "stream",
     "text": [
      "41650 0 480 0\n",
      "41650 0 480 0\n",
      "41650 0 480 0\n",
      "35428 6222 376 104\n",
      "Number of treatment 35428\n",
      "Revenue -2594.2\n",
      "****************************************************************************************************\n",
      "8578 33072 56 424\n",
      "Number of treatment 8578\n",
      "Revenue -4966.7\n",
      "****************************************************************************************************\n"
     ]
    },
    {
     "name": "stderr",
     "output_type": "stream",
     "text": [
      "\r",
      " 55%|█████▌    | 5535/10000 [03:54<03:17, 22.59it/s]"
     ]
    },
    {
     "name": "stdout",
     "output_type": "stream",
     "text": [
      "41650 0 480 0\n",
      "41650 0 480 0\n",
      "41650 0 480 0\n",
      "41650 0 480 0\n",
      "41650 0 480 0\n"
     ]
    },
    {
     "name": "stderr",
     "output_type": "stream",
     "text": [
      " 55%|█████▌    | 5541/10000 [03:54<03:07, 23.77it/s]"
     ]
    },
    {
     "name": "stdout",
     "output_type": "stream",
     "text": [
      "41650 0 480 0\n",
      "41650 0 480 0\n",
      "41650 0 480 0\n",
      "41650 0 480 0\n",
      "11013 30637 63 417\n"
     ]
    },
    {
     "name": "stderr",
     "output_type": "stream",
     "text": [
      " 55%|█████▌    | 5547/10000 [03:54<03:10, 23.40it/s]"
     ]
    },
    {
     "name": "stdout",
     "output_type": "stream",
     "text": [
      "40858 792 470 10\n",
      "Number of treatment 40858\n",
      "Revenue -1528.6999999999998\n",
      "****************************************************************************************************\n",
      "31282 10368 308 172\n",
      "Number of treatment 31282\n",
      "Revenue -3332.3\n",
      "****************************************************************************************************\n",
      "8049 33601 54 426\n",
      "Number of treatment 8049\n",
      "Revenue -4927.35\n",
      "****************************************************************************************************\n",
      "0 41650 0 480\n",
      "41650 0 480 0\n"
     ]
    },
    {
     "name": "stderr",
     "output_type": "stream",
     "text": [
      "\r",
      " 56%|█████▌    | 5550/10000 [03:54<03:12, 23.08it/s]"
     ]
    },
    {
     "name": "stdout",
     "output_type": "stream",
     "text": [
      "41650 0 480 0\n",
      "41650 0 480 0\n",
      "41650 0 480 0\n",
      "41650 0 480 0\n",
      "28190 13460 268 212\n",
      "Number of treatment 28190\n",
      "Revenue -3668.5\n",
      "****************************************************************************************************\n"
     ]
    },
    {
     "name": "stderr",
     "output_type": "stream",
     "text": [
      " 56%|█████▌    | 5556/10000 [03:55<03:14, 22.81it/s]"
     ]
    },
    {
     "name": "stdout",
     "output_type": "stream",
     "text": [
      "41650 0 480 0\n",
      "41650 0 480 0\n",
      "41650 0 480 0\n",
      "41650 0 480 0\n",
      "41650 0 480 0\n"
     ]
    },
    {
     "name": "stderr",
     "output_type": "stream",
     "text": [
      " 56%|█████▌    | 5562/10000 [03:55<03:04, 24.02it/s]"
     ]
    },
    {
     "name": "stdout",
     "output_type": "stream",
     "text": [
      "41650 0 480 0\n",
      "41650 0 480 0\n",
      "41650 0 480 0\n",
      "41650 0 480 0\n",
      "18441 23209 147 333\n",
      "Number of treatment 18441\n",
      "Revenue -4626.15\n",
      "****************************************************************************************************\n",
      "41650 0 480 0\n"
     ]
    },
    {
     "name": "stderr",
     "output_type": "stream",
     "text": [
      " 56%|█████▌    | 5568/10000 [03:55<02:58, 24.87it/s]"
     ]
    },
    {
     "name": "stdout",
     "output_type": "stream",
     "text": [
      "41650 0 480 0\n",
      "41644 6 480 0\n",
      "26290 15360 236 244\n",
      "Number of treatment 26290\n",
      "Revenue -4023.5\n",
      "****************************************************************************************************\n",
      "41650 0 480 0\n",
      "0 41650 0 480\n",
      "41650 0 480 0\n"
     ]
    },
    {
     "name": "stderr",
     "output_type": "stream",
     "text": [
      " 56%|█████▌    | 5574/10000 [03:55<02:51, 25.78it/s]"
     ]
    },
    {
     "name": "stdout",
     "output_type": "stream",
     "text": [
      "41650 0 480 0\n",
      "41650 0 480 0\n",
      "41650 0 480 0\n",
      "41650 0 480 0\n",
      "41650 0 480 0\n",
      "41650 0 480 0\n"
     ]
    },
    {
     "name": "stderr",
     "output_type": "stream",
     "text": [
      " 56%|█████▌    | 5580/10000 [03:56<02:48, 26.24it/s]"
     ]
    },
    {
     "name": "stdout",
     "output_type": "stream",
     "text": [
      "41650 0 480 0\n",
      "41650 0 480 0\n",
      "41650 0 480 0\n",
      "41650 0 480 0\n",
      "41650 0 480 0\n",
      "41650 0 480 0\n"
     ]
    },
    {
     "name": "stderr",
     "output_type": "stream",
     "text": [
      " 56%|█████▌    | 5586/10000 [03:56<02:46, 26.46it/s]"
     ]
    },
    {
     "name": "stdout",
     "output_type": "stream",
     "text": [
      "41650 0 480 0\n",
      "41650 0 480 0\n",
      "40900 750 470 10\n",
      "Number of treatment 40900\n",
      "Revenue -1535.0\n",
      "****************************************************************************************************\n",
      "41650 0 480 0\n",
      "41650 0 480 0\n",
      "41650 0 480 0\n"
     ]
    },
    {
     "name": "stderr",
     "output_type": "stream",
     "text": [
      " 56%|█████▌    | 5592/10000 [03:56<03:00, 24.38it/s]"
     ]
    },
    {
     "name": "stdout",
     "output_type": "stream",
     "text": [
      "41650 0 480 0\n",
      "41650 0 480 0\n",
      "41650 0 480 0\n",
      "41650 0 480 0\n",
      "0 41650 0 480\n"
     ]
    },
    {
     "name": "stderr",
     "output_type": "stream",
     "text": [
      "\r",
      " 56%|█████▌    | 5595/10000 [03:56<03:04, 23.88it/s]"
     ]
    },
    {
     "name": "stdout",
     "output_type": "stream",
     "text": [
      "41650 0 480 0\n",
      "41650 0 480 0\n",
      "41650 0 480 0\n",
      "41650 0 480 0\n",
      "41650 0 480 0\n"
     ]
    },
    {
     "name": "stderr",
     "output_type": "stream",
     "text": [
      " 56%|█████▌    | 5601/10000 [03:56<02:57, 24.73it/s]"
     ]
    },
    {
     "name": "stdout",
     "output_type": "stream",
     "text": [
      "41650 0 480 0\n",
      "41650 0 480 0\n",
      "0 41650 0 480\n",
      "41650 0 480 0\n",
      "0 41650 0 480\n",
      "41650 0 480 0\n"
     ]
    },
    {
     "name": "stderr",
     "output_type": "stream",
     "text": [
      " 56%|█████▌    | 5607/10000 [03:57<03:00, 24.35it/s]"
     ]
    },
    {
     "name": "stdout",
     "output_type": "stream",
     "text": [
      "41650 0 480 0\n",
      "41650 0 480 0\n",
      "41650 0 480 0\n",
      "41650 0 480 0\n",
      "41650 0 480 0\n"
     ]
    },
    {
     "name": "stderr",
     "output_type": "stream",
     "text": [
      " 56%|█████▌    | 5613/10000 [03:57<03:03, 23.91it/s]"
     ]
    },
    {
     "name": "stdout",
     "output_type": "stream",
     "text": [
      "41650 0 480 0\n",
      "41650 0 480 0\n",
      "19396 22254 157 323\n",
      "Number of treatment 19396\n",
      "Revenue -4569.4\n",
      "****************************************************************************************************\n",
      "0 41650 0 480\n",
      "41650 0 480 0\n",
      "41650 0 480 0\n"
     ]
    },
    {
     "name": "stderr",
     "output_type": "stream",
     "text": [
      " 56%|█████▌    | 5619/10000 [03:57<03:11, 22.93it/s]"
     ]
    },
    {
     "name": "stdout",
     "output_type": "stream",
     "text": [
      "41650 0 480 0\n",
      "41650 0 480 0\n",
      "41650 0 480 0\n",
      "41650 0 480 0\n",
      "41650 0 480 0\n"
     ]
    },
    {
     "name": "stderr",
     "output_type": "stream",
     "text": [
      "\r",
      " 56%|█████▌    | 5622/10000 [03:57<03:12, 22.72it/s]"
     ]
    },
    {
     "name": "stdout",
     "output_type": "stream",
     "text": [
      "41650 0 480 0\n",
      "41650 0 480 0\n",
      "41650 0 480 0\n",
      "41650 0 480 0\n",
      "41650 0 480 0\n"
     ]
    },
    {
     "name": "stderr",
     "output_type": "stream",
     "text": [
      " 56%|█████▋    | 5628/10000 [03:58<03:12, 22.76it/s]"
     ]
    },
    {
     "name": "stdout",
     "output_type": "stream",
     "text": [
      "41650 0 480 0\n",
      "41650 0 480 0\n",
      "0 41650 0 480\n",
      "41650 0 480 0\n",
      "41650 0 480 0\n"
     ]
    },
    {
     "name": "stderr",
     "output_type": "stream",
     "text": [
      " 56%|█████▋    | 5634/10000 [03:58<03:14, 22.48it/s]"
     ]
    },
    {
     "name": "stdout",
     "output_type": "stream",
     "text": [
      "41650 0 480 0\n",
      "41650 0 480 0\n",
      "41650 0 480 0\n",
      "41650 0 480 0\n",
      "41650 0 480 0\n"
     ]
    },
    {
     "name": "stderr",
     "output_type": "stream",
     "text": [
      "\r",
      " 56%|█████▋    | 5637/10000 [03:58<03:16, 22.15it/s]"
     ]
    },
    {
     "name": "stdout",
     "output_type": "stream",
     "text": [
      "0 41650 0 480\n",
      "41650 0 480 0\n",
      "35505 6145 377 103\n",
      "Number of treatment 35505\n",
      "Revenue -2585.75\n",
      "****************************************************************************************************\n",
      "41650 0 480 0\n",
      "41650 0 480 0\n"
     ]
    },
    {
     "name": "stderr",
     "output_type": "stream",
     "text": [
      " 56%|█████▋    | 5643/10000 [03:58<03:09, 23.01it/s]"
     ]
    },
    {
     "name": "stdout",
     "output_type": "stream",
     "text": [
      "41650 0 480 0\n",
      "41650 0 480 0\n",
      "41650 0 480 0\n",
      "41650 0 480 0\n",
      "41650 0 480 0\n"
     ]
    },
    {
     "name": "stderr",
     "output_type": "stream",
     "text": [
      " 56%|█████▋    | 5649/10000 [03:59<03:02, 23.80it/s]"
     ]
    },
    {
     "name": "stdout",
     "output_type": "stream",
     "text": [
      "41650 0 480 0\n",
      "41650 0 480 0\n",
      "41650 0 480 0\n",
      "41650 0 480 0\n",
      "167 41483 2 478\n",
      "Number of treatment 167\n",
      "Revenue -4785.05\n",
      "****************************************************************************************************\n"
     ]
    },
    {
     "name": "stderr",
     "output_type": "stream",
     "text": [
      "\r",
      " 57%|█████▋    | 5652/10000 [03:59<03:04, 23.56it/s]"
     ]
    },
    {
     "name": "stdout",
     "output_type": "stream",
     "text": [
      "41650 0 480 0\n",
      "41650 0 480 0\n",
      "41650 0 480 0\n",
      "0 41650 0 480\n",
      "41650 0 480 0\n"
     ]
    },
    {
     "name": "stderr",
     "output_type": "stream",
     "text": [
      " 57%|█████▋    | 5658/10000 [03:59<03:09, 22.93it/s]"
     ]
    },
    {
     "name": "stdout",
     "output_type": "stream",
     "text": [
      "41650 0 480 0\n",
      "41650 0 480 0\n",
      "41650 0 480 0\n",
      "41650 0 480 0\n",
      "41650 0 480 0\n"
     ]
    },
    {
     "name": "stderr",
     "output_type": "stream",
     "text": [
      " 57%|█████▋    | 5664/10000 [03:59<03:06, 23.25it/s]"
     ]
    },
    {
     "name": "stdout",
     "output_type": "stream",
     "text": [
      "41650 0 480 0\n",
      "41650 0 480 0\n",
      "41650 0 480 0\n",
      "41650 0 480 0\n",
      "41650 0 480 0\n"
     ]
    },
    {
     "name": "stderr",
     "output_type": "stream",
     "text": [
      "\r",
      " 57%|█████▋    | 5667/10000 [03:59<03:07, 23.13it/s]"
     ]
    },
    {
     "name": "stdout",
     "output_type": "stream",
     "text": [
      "41650 0 480 0\n",
      "13806 27844 81 399\n",
      "Number of treatment 13806\n",
      "Revenue -5250.9\n",
      "****************************************************************************************************\n",
      "41650 0 480 0\n",
      "41650 0 480 0\n",
      "41650 0 480 0\n"
     ]
    },
    {
     "name": "stderr",
     "output_type": "stream",
     "text": [
      " 57%|█████▋    | 5673/10000 [04:00<03:05, 23.32it/s]"
     ]
    },
    {
     "name": "stdout",
     "output_type": "stream",
     "text": [
      "41650 0 480 0\n",
      "41650 0 480 0\n",
      "41650 0 480 0\n",
      "41650 0 480 0\n",
      "40988 662 471 9\n",
      "Number of treatment 40988\n",
      "Revenue -1528.1999999999998\n",
      "****************************************************************************************************\n"
     ]
    },
    {
     "name": "stderr",
     "output_type": "stream",
     "text": [
      " 57%|█████▋    | 5679/10000 [04:00<03:09, 22.83it/s]"
     ]
    },
    {
     "name": "stdout",
     "output_type": "stream",
     "text": [
      "41650 0 480 0\n",
      "41650 0 480 0\n",
      "41650 0 480 0\n",
      "41650 0 480 0\n",
      "41650 0 480 0\n"
     ]
    },
    {
     "name": "stderr",
     "output_type": "stream",
     "text": [
      "\r",
      " 57%|█████▋    | 5682/10000 [04:00<03:03, 23.51it/s]"
     ]
    },
    {
     "name": "stdout",
     "output_type": "stream",
     "text": [
      "0 41650 0 480\n",
      "41650 0 480 0\n",
      "41650 0 480 0\n",
      "41650 0 480 0\n",
      "41650 0 480 0\n"
     ]
    },
    {
     "name": "stderr",
     "output_type": "stream",
     "text": [
      " 57%|█████▋    | 5688/10000 [04:00<03:04, 23.35it/s]"
     ]
    },
    {
     "name": "stdout",
     "output_type": "stream",
     "text": [
      "41650 0 480 0\n",
      "41621 29 480 0\n",
      "41650 0 480 0\n",
      "41650 0 480 0\n",
      "6 41644 0 480\n"
     ]
    },
    {
     "name": "stderr",
     "output_type": "stream",
     "text": [
      " 57%|█████▋    | 5694/10000 [04:01<03:03, 23.41it/s]"
     ]
    },
    {
     "name": "stdout",
     "output_type": "stream",
     "text": [
      "41650 0 480 0\n",
      "0 41650 0 480\n",
      "41650 0 480 0\n",
      "41650 0 480 0\n",
      "41650 0 480 0\n"
     ]
    },
    {
     "name": "stderr",
     "output_type": "stream",
     "text": [
      "\r",
      " 57%|█████▋    | 5697/10000 [04:01<03:04, 23.38it/s]"
     ]
    },
    {
     "name": "stdout",
     "output_type": "stream",
     "text": [
      "41650 0 480 0\n",
      "41650 0 480 0\n",
      "41650 0 480 0\n",
      "41650 0 480 0\n",
      "29109 12541 281 199\n",
      "Number of treatment 29109\n",
      "Revenue -3546.3499999999995\n",
      "****************************************************************************************************\n"
     ]
    },
    {
     "name": "stderr",
     "output_type": "stream",
     "text": [
      " 57%|█████▋    | 5703/10000 [04:01<03:10, 22.52it/s]"
     ]
    },
    {
     "name": "stdout",
     "output_type": "stream",
     "text": [
      "41650 0 480 0\n",
      "41650 0 480 0\n",
      "41650 0 480 0\n",
      "0 41650 0 480\n",
      "41650 0 480 0\n"
     ]
    },
    {
     "name": "stderr",
     "output_type": "stream",
     "text": [
      " 57%|█████▋    | 5709/10000 [04:01<03:06, 22.99it/s]"
     ]
    },
    {
     "name": "stdout",
     "output_type": "stream",
     "text": [
      "41650 0 480 0\n",
      "41650 0 480 0\n",
      "41650 0 480 0\n",
      "41650 0 480 0\n",
      "41650 0 480 0\n"
     ]
    },
    {
     "name": "stderr",
     "output_type": "stream",
     "text": [
      "\r",
      " 57%|█████▋    | 5712/10000 [04:01<03:02, 23.51it/s]"
     ]
    },
    {
     "name": "stdout",
     "output_type": "stream",
     "text": [
      "41650 0 480 0\n",
      "41650 0 480 0\n",
      "41650 0 480 0\n",
      "41650 0 480 0\n",
      "41650 0 480 0\n"
     ]
    },
    {
     "name": "stderr",
     "output_type": "stream",
     "text": [
      " 57%|█████▋    | 5718/10000 [04:02<02:55, 24.38it/s]"
     ]
    },
    {
     "name": "stdout",
     "output_type": "stream",
     "text": [
      "41650 0 480 0\n",
      "41650 0 480 0\n",
      "41650 0 480 0\n",
      "41650 0 480 0\n",
      "41650 0 480 0\n",
      "41650 0 480 0\n"
     ]
    },
    {
     "name": "stderr",
     "output_type": "stream",
     "text": [
      " 57%|█████▋    | 5724/10000 [04:02<02:54, 24.49it/s]"
     ]
    },
    {
     "name": "stdout",
     "output_type": "stream",
     "text": [
      "41650 0 480 0\n",
      "41650 0 480 0\n",
      "41650 0 480 0\n",
      "743 40907 5 475\n",
      "Number of treatment 743\n",
      "Revenue -4811.45\n",
      "****************************************************************************************************\n",
      "38128 3522 420 60\n",
      "Number of treatment 38128\n",
      "Revenue -2119.2\n",
      "****************************************************************************************************\n"
     ]
    },
    {
     "name": "stderr",
     "output_type": "stream",
     "text": [
      " 57%|█████▋    | 5730/10000 [04:02<03:02, 23.34it/s]"
     ]
    },
    {
     "name": "stdout",
     "output_type": "stream",
     "text": [
      "41650 0 480 0\n",
      "41650 0 480 0\n",
      "0 41650 0 480\n",
      "41650 0 480 0\n",
      "24277 17373 215 265\n",
      "Number of treatment 24277\n",
      "Revenue -4141.549999999999\n",
      "****************************************************************************************************\n"
     ]
    },
    {
     "name": "stderr",
     "output_type": "stream",
     "text": [
      "\r",
      " 57%|█████▋    | 5733/10000 [04:02<03:02, 23.34it/s]"
     ]
    },
    {
     "name": "stdout",
     "output_type": "stream",
     "text": [
      "41650 0 480 0\n",
      "41650 0 480 0\n",
      "41650 0 480 0\n",
      "19148 22502 153 327\n",
      "Number of treatment 19148\n",
      "Revenue -4612.2\n",
      "****************************************************************************************************\n",
      "41650 0 480 0\n"
     ]
    },
    {
     "name": "stderr",
     "output_type": "stream",
     "text": [
      " 57%|█████▋    | 5739/10000 [04:02<03:10, 22.40it/s]"
     ]
    },
    {
     "name": "stdout",
     "output_type": "stream",
     "text": [
      "41650 0 480 0\n",
      "40945 705 471 9\n",
      "Number of treatment 40945\n",
      "Revenue -1521.75\n",
      "****************************************************************************************************\n",
      "41650 0 480 0\n",
      "41650 0 480 0\n",
      "41650 0 480 0\n"
     ]
    },
    {
     "name": "stderr",
     "output_type": "stream",
     "text": [
      " 57%|█████▋    | 5745/10000 [04:03<03:08, 22.58it/s]"
     ]
    },
    {
     "name": "stdout",
     "output_type": "stream",
     "text": [
      "41650 0 480 0\n",
      "41650 0 480 0\n",
      "0 41650 0 480\n",
      "41650 0 480 0\n",
      "41650 0 480 0\n"
     ]
    },
    {
     "name": "stderr",
     "output_type": "stream",
     "text": [
      "\r",
      " 57%|█████▋    | 5748/10000 [04:03<03:08, 22.59it/s]"
     ]
    },
    {
     "name": "stdout",
     "output_type": "stream",
     "text": [
      "22356 19294 189 291\n",
      "Number of treatment 22356\n",
      "Revenue -4373.4\n",
      "****************************************************************************************************\n",
      "41650 0 480 0\n",
      "41650 0 480 0\n",
      "41650 0 480 0\n",
      "37013 4637 400 80\n",
      "Number of treatment 37013\n",
      "Revenue -2351.95\n",
      "****************************************************************************************************\n"
     ]
    },
    {
     "name": "stderr",
     "output_type": "stream",
     "text": [
      " 58%|█████▊    | 5754/10000 [04:03<03:15, 21.77it/s]"
     ]
    },
    {
     "name": "stdout",
     "output_type": "stream",
     "text": [
      "0 41650 0 480\n",
      "41650 0 480 0\n",
      "41650 0 480 0\n",
      "41650 0 480 0\n",
      "8467 33183 55 425\n",
      "Number of treatment 8467\n",
      "Revenue -4970.05\n",
      "****************************************************************************************************\n"
     ]
    },
    {
     "name": "stderr",
     "output_type": "stream",
     "text": [
      " 58%|█████▊    | 5760/10000 [04:03<03:07, 22.57it/s]"
     ]
    },
    {
     "name": "stdout",
     "output_type": "stream",
     "text": [
      "41650 0 480 0\n",
      "41650 0 480 0\n",
      "41650 0 480 0\n",
      "0 41650 0 480\n",
      "41650 0 480 0\n"
     ]
    },
    {
     "name": "stderr",
     "output_type": "stream",
     "text": [
      "\r",
      " 58%|█████▊    | 5763/10000 [04:04<03:04, 22.91it/s]"
     ]
    },
    {
     "name": "stdout",
     "output_type": "stream",
     "text": [
      "41650 0 480 0\n",
      "41650 0 480 0\n",
      "41650 0 480 0\n",
      "0 41650 0 480\n",
      "41650 0 480 0\n"
     ]
    },
    {
     "name": "stderr",
     "output_type": "stream",
     "text": [
      " 58%|█████▊    | 5769/10000 [04:04<03:03, 23.10it/s]"
     ]
    },
    {
     "name": "stdout",
     "output_type": "stream",
     "text": [
      "41650 0 480 0\n",
      "41650 0 480 0\n",
      "41650 0 480 0\n",
      "41650 0 480 0\n",
      "19 41631 0 480\n",
      "Number of treatment 19\n",
      "Revenue -4802.85\n",
      "****************************************************************************************************\n"
     ]
    },
    {
     "name": "stderr",
     "output_type": "stream",
     "text": [
      " 58%|█████▊    | 5775/10000 [04:04<02:58, 23.68it/s]"
     ]
    },
    {
     "name": "stdout",
     "output_type": "stream",
     "text": [
      "13363 28287 77 403\n",
      "Number of treatment 13363\n",
      "Revenue -5264.45\n",
      "****************************************************************************************************\n",
      "20734 20916 170 310\n",
      "Number of treatment 20734\n",
      "Revenue -4510.1\n",
      "****************************************************************************************************\n",
      "32887 8763 335 145\n",
      "Number of treatment 32887\n",
      "Revenue -3033.05\n",
      "****************************************************************************************************\n",
      "41650 0 480 0\n",
      "41650 0 480 0\n",
      "41650 0 480 0\n"
     ]
    },
    {
     "name": "stderr",
     "output_type": "stream",
     "text": [
      " 58%|█████▊    | 5781/10000 [04:04<02:55, 24.11it/s]"
     ]
    },
    {
     "name": "stdout",
     "output_type": "stream",
     "text": [
      "34357 7293 361 119\n",
      "Number of treatment 34357\n",
      "Revenue -2733.55\n",
      "****************************************************************************************************\n",
      "18126 23524 143 337\n",
      "41650 0 480 0\n",
      "41650 0 480 0\n",
      "41650 0 480 0\n"
     ]
    },
    {
     "name": "stderr",
     "output_type": "stream",
     "text": [
      " 58%|█████▊    | 5787/10000 [04:05<02:46, 25.33it/s]"
     ]
    },
    {
     "name": "stdout",
     "output_type": "stream",
     "text": [
      "0 41650 0 480\n",
      "41650 0 480 0\n",
      "41650 0 480 0\n",
      "41650 0 480 0\n",
      "41650 0 480 0\n",
      "41650 0 480 0\n"
     ]
    },
    {
     "name": "stderr",
     "output_type": "stream",
     "text": [
      "\r",
      " 58%|█████▊    | 5790/10000 [04:05<02:53, 24.21it/s]"
     ]
    },
    {
     "name": "stdout",
     "output_type": "stream",
     "text": [
      "41650 0 480 0\n",
      "41650 0 480 0\n",
      "0 41650 0 480\n",
      "41650 0 480 0\n",
      "0 41650 0 480\n"
     ]
    },
    {
     "name": "stderr",
     "output_type": "stream",
     "text": [
      " 58%|█████▊    | 5796/10000 [04:05<03:02, 23.06it/s]"
     ]
    },
    {
     "name": "stdout",
     "output_type": "stream",
     "text": [
      "0 41650 0 480\n",
      "41650 0 480 0\n",
      "41650 0 480 0\n",
      "41650 0 480 0\n",
      "41650 0 480 0\n"
     ]
    },
    {
     "name": "stderr",
     "output_type": "stream",
     "text": [
      " 58%|█████▊    | 5802/10000 [04:05<03:09, 22.21it/s]"
     ]
    },
    {
     "name": "stdout",
     "output_type": "stream",
     "text": [
      "41650 0 480 0\n",
      "41650 0 480 0\n",
      "41650 0 480 0\n",
      "41650 0 480 0\n",
      "41650 0 480 0\n"
     ]
    },
    {
     "name": "stderr",
     "output_type": "stream",
     "text": [
      " 58%|█████▊    | 5808/10000 [04:05<02:59, 23.36it/s]"
     ]
    },
    {
     "name": "stdout",
     "output_type": "stream",
     "text": [
      "41650 0 480 0\n",
      "41650 0 480 0\n",
      "41650 0 480 0\n",
      "41650 0 480 0\n",
      "41650 0 480 0\n",
      "41650 0 480 0\n"
     ]
    },
    {
     "name": "stderr",
     "output_type": "stream",
     "text": [
      " 58%|█████▊    | 5814/10000 [04:06<02:49, 24.74it/s]"
     ]
    },
    {
     "name": "stdout",
     "output_type": "stream",
     "text": [
      "41650 0 480 0\n",
      "41650 0 480 0\n",
      "41650 0 480 0\n",
      "41650 0 480 0\n",
      "9042 32608 56 424\n",
      "Number of treatment 9042\n",
      "Revenue -5036.3\n",
      "****************************************************************************************************\n",
      "40849 801 470 10\n",
      "Number of treatment 40849\n",
      "Revenue -1527.3499999999995\n",
      "****************************************************************************************************\n"
     ]
    },
    {
     "name": "stderr",
     "output_type": "stream",
     "text": [
      " 58%|█████▊    | 5820/10000 [04:06<02:47, 24.94it/s]"
     ]
    },
    {
     "name": "stdout",
     "output_type": "stream",
     "text": [
      "41650 0 480 0\n",
      "41650 0 480 0\n",
      "41594 56 480 0\n",
      "19843 21807 162 318\n",
      "Number of treatment 19843\n",
      "Revenue -4536.45\n",
      "****************************************************************************************************\n",
      "41650 0 480 0\n",
      "304 41346 4 476\n",
      "Number of treatment 304\n",
      "Revenue -4765.6\n",
      "****************************************************************************************************\n"
     ]
    },
    {
     "name": "stderr",
     "output_type": "stream",
     "text": [
      "\r",
      " 58%|█████▊    | 5823/10000 [04:06<02:48, 24.76it/s]"
     ]
    },
    {
     "name": "stdout",
     "output_type": "stream",
     "text": [
      "41650 0 480 0\n",
      "0 41650 0 480\n",
      "41650 0 480 0\n",
      "41650 0 480 0\n",
      "0 41650 0 480\n"
     ]
    },
    {
     "name": "stderr",
     "output_type": "stream",
     "text": [
      " 58%|█████▊    | 5829/10000 [04:06<02:51, 24.29it/s]"
     ]
    },
    {
     "name": "stdout",
     "output_type": "stream",
     "text": [
      "1914 39736 16 464\n",
      "Number of treatment 1914\n",
      "Revenue -4767.1\n",
      "****************************************************************************************************\n",
      "41650 0 480 0\n",
      "41650 0 480 0\n",
      "41650 0 480 0\n",
      "41650 0 480 0\n"
     ]
    },
    {
     "name": "stderr",
     "output_type": "stream",
     "text": [
      " 58%|█████▊    | 5835/10000 [04:07<02:45, 25.09it/s]"
     ]
    },
    {
     "name": "stdout",
     "output_type": "stream",
     "text": [
      "41650 0 480 0\n",
      "41650 0 480 0\n",
      "41650 0 480 0\n",
      "41650 0 480 0\n",
      "3071 38579 22 458\n",
      "Number of treatment 3071\n",
      "Revenue -4820.65\n",
      "****************************************************************************************************\n",
      "41650 0 480 0\n"
     ]
    },
    {
     "name": "stderr",
     "output_type": "stream",
     "text": [
      " 58%|█████▊    | 5841/10000 [04:07<02:43, 25.48it/s]"
     ]
    },
    {
     "name": "stdout",
     "output_type": "stream",
     "text": [
      "41650 0 480 0\n",
      "41650 0 480 0\n",
      "41650 0 480 0\n",
      "41594 56 480 0\n",
      "41650 0 480 0\n",
      "41650 0 480 0\n"
     ]
    },
    {
     "name": "stderr",
     "output_type": "stream",
     "text": [
      " 58%|█████▊    | 5847/10000 [04:07<02:47, 24.82it/s]"
     ]
    },
    {
     "name": "stdout",
     "output_type": "stream",
     "text": [
      "41650 0 480 0\n",
      "41650 0 480 0\n",
      "41650 0 480 0\n",
      "41650 0 480 0\n",
      "41650 0 480 0\n"
     ]
    },
    {
     "name": "stderr",
     "output_type": "stream",
     "text": [
      "\r",
      " 58%|█████▊    | 5850/10000 [04:07<02:51, 24.19it/s]"
     ]
    },
    {
     "name": "stdout",
     "output_type": "stream",
     "text": [
      "0 41650 0 480\n",
      "9178 32472 56 424\n",
      "Number of treatment 9178\n",
      "Revenue -5056.7\n",
      "****************************************************************************************************\n",
      "0 41650 0 480\n",
      "41650 0 480 0\n",
      "41650 0 480 0\n"
     ]
    },
    {
     "name": "stderr",
     "output_type": "stream",
     "text": [
      " 59%|█████▊    | 5856/10000 [04:07<02:58, 23.19it/s]"
     ]
    },
    {
     "name": "stdout",
     "output_type": "stream",
     "text": [
      "41650 0 480 0\n",
      "41650 0 480 0\n",
      "41650 0 480 0\n",
      "41650 0 480 0\n",
      "41650 0 480 0\n"
     ]
    },
    {
     "name": "stderr",
     "output_type": "stream",
     "text": [
      " 59%|█████▊    | 5862/10000 [04:08<02:57, 23.29it/s]"
     ]
    },
    {
     "name": "stdout",
     "output_type": "stream",
     "text": [
      "41650 0 480 0\n",
      "41650 0 480 0\n",
      "41650 0 480 0\n",
      "41650 0 480 0\n",
      "41650 0 480 0\n"
     ]
    },
    {
     "name": "stderr",
     "output_type": "stream",
     "text": [
      "\r",
      " 59%|█████▊    | 5865/10000 [04:08<02:59, 23.05it/s]"
     ]
    },
    {
     "name": "stdout",
     "output_type": "stream",
     "text": [
      "41650 0 480 0\n",
      "41650 0 480 0\n",
      "41650 0 480 0\n",
      "64 41586 0 480\n",
      "Number of treatment 64\n",
      "Revenue -4809.6\n",
      "****************************************************************************************************\n",
      "41650 0 480 0\n"
     ]
    },
    {
     "name": "stderr",
     "output_type": "stream",
     "text": [
      " 59%|█████▊    | 5871/10000 [04:08<03:03, 22.44it/s]"
     ]
    },
    {
     "name": "stdout",
     "output_type": "stream",
     "text": [
      "4470 37180 29 451\n",
      "Number of treatment 4470\n",
      "Revenue -4890.5\n",
      "****************************************************************************************************\n",
      "41650 0 480 0\n",
      "9444 32206 57 423\n",
      "Number of treatment 9444\n",
      "Revenue -5076.6\n",
      "****************************************************************************************************\n",
      "41650 0 480 0\n",
      "41650 0 480 0\n"
     ]
    },
    {
     "name": "stderr",
     "output_type": "stream",
     "text": [
      " 59%|█████▉    | 5877/10000 [04:08<03:02, 22.63it/s]"
     ]
    },
    {
     "name": "stdout",
     "output_type": "stream",
     "text": [
      "41650 0 480 0\n",
      "18954 22696 151 329\n",
      "Number of treatment 18954\n",
      "Revenue -4623.1\n",
      "****************************************************************************************************\n",
      "41650 0 480 0\n",
      "41650 0 480 0\n",
      "41650 0 480 0\n"
     ]
    },
    {
     "name": "stderr",
     "output_type": "stream",
     "text": [
      "\r",
      " 59%|█████▉    | 5880/10000 [04:08<03:04, 22.36it/s]"
     ]
    },
    {
     "name": "stdout",
     "output_type": "stream",
     "text": [
      "41650 0 480 0\n",
      "38154 3496 421 59\n",
      "Number of treatment 38154\n",
      "Revenue -2103.0999999999995\n",
      "****************************************************************************************************\n",
      "41650 0 480 0\n",
      "37367 4283 404 76\n",
      "Number of treatment 37367\n",
      "Revenue -2325.05\n",
      "****************************************************************************************************\n",
      "41650 0 480 0\n"
     ]
    },
    {
     "name": "stderr",
     "output_type": "stream",
     "text": [
      " 59%|█████▉    | 5886/10000 [04:09<03:06, 22.12it/s]"
     ]
    },
    {
     "name": "stdout",
     "output_type": "stream",
     "text": [
      "2688 38962 21 459\n",
      "Number of treatment 2688\n",
      "Revenue -4783.2\n",
      "****************************************************************************************************\n",
      "41650 0 480 0\n",
      "41650 0 480 0\n",
      "41650 0 480 0\n",
      "41650 0 480 0\n"
     ]
    },
    {
     "name": "stderr",
     "output_type": "stream",
     "text": [
      " 59%|█████▉    | 5892/10000 [04:09<02:57, 23.09it/s]"
     ]
    },
    {
     "name": "stdout",
     "output_type": "stream",
     "text": [
      "41650 0 480 0\n",
      "0 41650 0 480\n",
      "41650 0 480 0\n",
      "41650 0 480 0\n",
      "41650 0 480 0\n"
     ]
    },
    {
     "name": "stderr",
     "output_type": "stream",
     "text": [
      " 59%|█████▉    | 5898/10000 [04:09<02:53, 23.65it/s]"
     ]
    },
    {
     "name": "stdout",
     "output_type": "stream",
     "text": [
      "41650 0 480 0\n",
      "11867 29783 68 412\n",
      "Number of treatment 11867\n",
      "Revenue -5220.05\n",
      "****************************************************************************************************\n",
      "41650 0 480 0\n",
      "41650 0 480 0\n",
      "41650 0 480 0\n",
      "41610 40 480 0\n",
      "Number of treatment 41610\n",
      "Revenue -1441.5\n",
      "****************************************************************************************************\n"
     ]
    },
    {
     "name": "stderr",
     "output_type": "stream",
     "text": [
      "\r",
      " 59%|█████▉    | 5901/10000 [04:09<02:59, 22.84it/s]"
     ]
    },
    {
     "name": "stdout",
     "output_type": "stream",
     "text": [
      "41650 0 480 0\n",
      "41650 0 480 0\n",
      "41650 0 480 0\n",
      "41650 0 480 0\n",
      "41650 0 480 0\n"
     ]
    },
    {
     "name": "stderr",
     "output_type": "stream",
     "text": [
      " 59%|█████▉    | 5907/10000 [04:10<02:55, 23.28it/s]"
     ]
    },
    {
     "name": "stdout",
     "output_type": "stream",
     "text": [
      "41650 0 480 0\n",
      "41650 0 480 0\n",
      "41650 0 480 0\n",
      "41650 0 480 0\n",
      "41650 0 480 0\n"
     ]
    },
    {
     "name": "stderr",
     "output_type": "stream",
     "text": [
      " 59%|█████▉    | 5913/10000 [04:10<02:56, 23.12it/s]"
     ]
    },
    {
     "name": "stdout",
     "output_type": "stream",
     "text": [
      "13240 28410 76 404\n",
      "Number of treatment 13240\n",
      "Revenue -5266.0\n",
      "****************************************************************************************************\n",
      "41650 0 480 0\n",
      "41650 0 480 0\n",
      "4259 37391 29 451\n",
      "Number of treatment 4259\n",
      "Revenue -4858.85\n",
      "****************************************************************************************************\n",
      "41650 0 480 0\n"
     ]
    },
    {
     "name": "stderr",
     "output_type": "stream",
     "text": [
      "\r",
      " 59%|█████▉    | 5916/10000 [04:10<02:57, 22.98it/s]"
     ]
    },
    {
     "name": "stdout",
     "output_type": "stream",
     "text": [
      "41650 0 480 0\n",
      "41650 0 480 0\n",
      "41650 0 480 0\n",
      "41650 0 480 0\n",
      "41650 0 480 0\n"
     ]
    },
    {
     "name": "stderr",
     "output_type": "stream",
     "text": [
      " 59%|█████▉    | 5922/10000 [04:10<02:54, 23.42it/s]"
     ]
    },
    {
     "name": "stdout",
     "output_type": "stream",
     "text": [
      "41650 0 480 0\n",
      "41650 0 480 0\n",
      "41650 0 480 0\n",
      "41650 0 480 0\n",
      "36238 5412 388 92\n",
      "Number of treatment 36238\n",
      "Revenue -2475.7\n",
      "****************************************************************************************************\n"
     ]
    },
    {
     "name": "stderr",
     "output_type": "stream",
     "text": [
      " 59%|█████▉    | 5928/10000 [04:11<03:06, 21.82it/s]"
     ]
    },
    {
     "name": "stdout",
     "output_type": "stream",
     "text": [
      "14974 26676 95 385\n",
      "Number of treatment 14974\n",
      "Revenue -5146.1\n",
      "****************************************************************************************************\n",
      "41650 0 480 0\n",
      "41650 0 480 0\n",
      "41650 0 480 0\n",
      "41650 0 480 0\n"
     ]
    },
    {
     "name": "stderr",
     "output_type": "stream",
     "text": [
      "\r",
      " 59%|█████▉    | 5931/10000 [04:11<03:04, 22.03it/s]"
     ]
    },
    {
     "name": "stdout",
     "output_type": "stream",
     "text": [
      "41650 0 480 0\n",
      "41650 0 480 0\n",
      "41650 0 480 0\n",
      "0 41650 0 480\n",
      "41650 0 480 0\n"
     ]
    },
    {
     "name": "stderr",
     "output_type": "stream",
     "text": [
      " 59%|█████▉    | 5937/10000 [04:11<02:58, 22.73it/s]"
     ]
    },
    {
     "name": "stdout",
     "output_type": "stream",
     "text": [
      "41650 0 480 0\n",
      "41650 0 480 0\n",
      "41650 0 480 0\n",
      "41650 0 480 0\n",
      "41650 0 480 0\n"
     ]
    },
    {
     "name": "stderr",
     "output_type": "stream",
     "text": [
      " 59%|█████▉    | 5943/10000 [04:11<02:51, 23.60it/s]"
     ]
    },
    {
     "name": "stdout",
     "output_type": "stream",
     "text": [
      "41650 0 480 0\n",
      "41650 0 480 0\n",
      "34225 7425 359 121\n",
      "Number of treatment 34225\n",
      "Revenue -2753.75\n",
      "****************************************************************************************************\n",
      "15703 25947 103 377\n",
      "Number of treatment 15703\n",
      "Revenue -5095.45\n",
      "****************************************************************************************************\n",
      "41650 0 480 0\n"
     ]
    },
    {
     "name": "stderr",
     "output_type": "stream",
     "text": [
      "\r",
      " 59%|█████▉    | 5946/10000 [04:11<02:52, 23.53it/s]"
     ]
    },
    {
     "name": "stdout",
     "output_type": "stream",
     "text": [
      "41650 0 480 0\n",
      "41650 0 480 0\n",
      "41650 0 480 0\n",
      "41650 0 480 0\n",
      "41650 0 480 0\n"
     ]
    },
    {
     "name": "stderr",
     "output_type": "stream",
     "text": [
      " 60%|█████▉    | 5952/10000 [04:12<02:48, 24.09it/s]"
     ]
    },
    {
     "name": "stdout",
     "output_type": "stream",
     "text": [
      "41650 0 480 0\n",
      "41650 0 480 0\n",
      "41650 0 480 0\n",
      "41650 0 480 0\n",
      "41650 0 480 0\n",
      "41650 0 480 0\n"
     ]
    },
    {
     "name": "stderr",
     "output_type": "stream",
     "text": [
      " 60%|█████▉    | 5958/10000 [04:12<02:46, 24.32it/s]"
     ]
    },
    {
     "name": "stdout",
     "output_type": "stream",
     "text": [
      "41650 0 480 0\n",
      "0 41650 0 480\n",
      "41650 0 480 0\n",
      "12410 29240 72 408\n",
      "Number of treatment 12410\n",
      "Revenue -5221.5\n",
      "****************************************************************************************************\n",
      "0 41650 0 480\n"
     ]
    },
    {
     "name": "stderr",
     "output_type": "stream",
     "text": [
      " 60%|█████▉    | 5964/10000 [04:12<02:42, 24.91it/s]"
     ]
    },
    {
     "name": "stdout",
     "output_type": "stream",
     "text": [
      "41650 0 480 0\n",
      "41650 0 480 0\n",
      "41650 0 480 0\n",
      "41650 0 480 0\n",
      "41650 0 480 0\n",
      "0 41650 0 480\n"
     ]
    },
    {
     "name": "stderr",
     "output_type": "stream",
     "text": [
      " 60%|█████▉    | 5970/10000 [04:12<02:42, 24.84it/s]"
     ]
    },
    {
     "name": "stdout",
     "output_type": "stream",
     "text": [
      "41650 0 480 0\n",
      "41650 0 480 0\n",
      "41650 0 480 0\n",
      "41650 0 480 0\n",
      "41650 0 480 0\n"
     ]
    },
    {
     "name": "stderr",
     "output_type": "stream",
     "text": [
      "\r",
      " 60%|█████▉    | 5973/10000 [04:12<02:41, 24.89it/s]"
     ]
    },
    {
     "name": "stdout",
     "output_type": "stream",
     "text": [
      "0 41650 0 480\n",
      "41650 0 480 0\n",
      "41650 0 480 0\n",
      "41650 0 480 0\n",
      "41650 0 480 0\n",
      "2642 39008 "
     ]
    },
    {
     "name": "stderr",
     "output_type": "stream",
     "text": [
      " 60%|█████▉    | 5979/10000 [04:13<02:41, 24.95it/s]"
     ]
    },
    {
     "name": "stdout",
     "output_type": "stream",
     "text": [
      "20 460\n",
      "Number of treatment 2642\n",
      "Revenue -4796.3\n",
      "****************************************************************************************************\n",
      "41650 0 480 0\n",
      "33904 7746 354 126\n",
      "Number of treatment 33904\n",
      "Revenue -2805.5999999999995\n",
      "****************************************************************************************************\n",
      "41650 0 480 0\n",
      "41650 0 480 0\n"
     ]
    },
    {
     "name": "stderr",
     "output_type": "stream",
     "text": [
      " 60%|█████▉    | 5985/10000 [04:13<02:45, 24.27it/s]"
     ]
    },
    {
     "name": "stdout",
     "output_type": "stream",
     "text": [
      "41650 0 480 0\n",
      "41650 0 480 0\n",
      "41650 0 480 0\n",
      "41650 0 480 0\n",
      "41650 0 480 0\n"
     ]
    },
    {
     "name": "stderr",
     "output_type": "stream",
     "text": [
      "\r",
      " 60%|█████▉    | 5988/10000 [04:13<02:47, 24.01it/s]"
     ]
    },
    {
     "name": "stdout",
     "output_type": "stream",
     "text": [
      "41650 0 480 0\n",
      "41650 0 480 0\n",
      "41650 0 480 0\n",
      "41650 0 480 0\n",
      "24688 16962 219 261\n",
      "Number of treatment 24688\n",
      "Revenue -4123.2\n",
      "****************************************************************************************************\n"
     ]
    },
    {
     "name": "stderr",
     "output_type": "stream",
     "text": [
      " 60%|█████▉    | 5994/10000 [04:13<02:45, 24.14it/s]"
     ]
    },
    {
     "name": "stdout",
     "output_type": "stream",
     "text": [
      "41650 0 480 0\n",
      "41650 0 480 0\n",
      "30712 10938 300 180\n",
      "Number of treatment 30712\n",
      "Revenue -3406.8\n",
      "****************************************************************************************************\n",
      "41650 0 480 0\n",
      "41650 0 480 0\n"
     ]
    },
    {
     "name": "stderr",
     "output_type": "stream",
     "text": [
      " 60%|██████    | 6000/10000 [04:14<02:44, 24.31it/s]"
     ]
    },
    {
     "name": "stdout",
     "output_type": "stream",
     "text": [
      "41650 0 480 0\n",
      "41650 0 480 0\n",
      "41650 0 480 0\n",
      "41650 0 480 0\n",
      "41650 0 480 0\n"
     ]
    },
    {
     "name": "stderr",
     "output_type": "stream",
     "text": [
      " 60%|██████    | 6006/10000 [04:14<02:41, 24.80it/s]"
     ]
    },
    {
     "name": "stdout",
     "output_type": "stream",
     "text": [
      "1479 40171 14 466\n",
      "Number of treatment 1479\n",
      "Revenue -4741.85\n",
      "****************************************************************************************************\n",
      "13847 27803 81 399\n",
      "Number of treatment 13847\n",
      "Revenue -5257.049999999999\n",
      "****************************************************************************************************\n",
      "41650 0 480 0\n",
      "41650 0 480 0\n",
      "41650 0 480 0\n",
      "41650 0 480 0\n"
     ]
    },
    {
     "name": "stderr",
     "output_type": "stream",
     "text": [
      "\r",
      " 60%|██████    | 6009/10000 [04:14<02:42, 24.49it/s]"
     ]
    },
    {
     "name": "stdout",
     "output_type": "stream",
     "text": [
      "41650 0 480 0\n",
      "41650 0 480 0\n",
      "41650 0 480 0\n",
      "41650 0 480 0\n",
      "41650 0 480 0\n"
     ]
    },
    {
     "name": "stderr",
     "output_type": "stream",
     "text": [
      " 60%|██████    | 6015/10000 [04:14<02:46, 23.89it/s]"
     ]
    },
    {
     "name": "stdout",
     "output_type": "stream",
     "text": [
      "40426 1224 466 14\n",
      "Number of treatment 40426\n",
      "Revenue -1543.8999999999996\n",
      "****************************************************************************************************\n",
      "41650 0 480 0\n",
      "41650 0 480 0\n",
      "41650 0 480 0\n",
      "39423 2227 447 33\n",
      "Number of treatment 39423\n",
      "Revenue -1773.4499999999998\n",
      "****************************************************************************************************\n"
     ]
    },
    {
     "name": "stderr",
     "output_type": "stream",
     "text": [
      " 60%|██████    | 6021/10000 [04:14<02:42, 24.45it/s]"
     ]
    },
    {
     "name": "stdout",
     "output_type": "stream",
     "text": [
      "41650 0 480 0\n",
      "41650 0 480 0\n",
      "27905 13745 261 219\n",
      "Number of treatment 27905\n",
      "Revenue -3765.75\n",
      "****************************************************************************************************\n",
      "41650 0 480 0\n",
      "0 41650 0 480\n"
     ]
    },
    {
     "name": "stderr",
     "output_type": "stream",
     "text": [
      " 60%|██████    | 6027/10000 [04:15<02:38, 25.13it/s]"
     ]
    },
    {
     "name": "stdout",
     "output_type": "stream",
     "text": [
      "13227 28423 76 404\n",
      "41650 0 480 0\n",
      "41650 0 480 0\n",
      "41650 0 480 0\n",
      "41650 0 480 0\n",
      "41650 0 480 0\n"
     ]
    },
    {
     "name": "stderr",
     "output_type": "stream",
     "text": [
      " 60%|██████    | 6033/10000 [04:15<02:35, 25.56it/s]"
     ]
    },
    {
     "name": "stdout",
     "output_type": "stream",
     "text": [
      "41650 0 480 0\n",
      "41650 0 480 0\n",
      "41650 0 480 0\n",
      "41650 0 480 0\n",
      "41650 0 480 0\n",
      "41650 0 480 0\n"
     ]
    },
    {
     "name": "stderr",
     "output_type": "stream",
     "text": [
      "\r",
      " 60%|██████    | 6036/10000 [04:15<02:39, 24.79it/s]"
     ]
    },
    {
     "name": "stdout",
     "output_type": "stream",
     "text": [
      "31818 9832 315 165\n",
      "Number of treatment 31818\n",
      "Revenue -3272.7\n",
      "****************************************************************************************************\n",
      "41650 0 480 0\n",
      "41650 0 480 0\n",
      "39859 1791 454 26\n",
      "Number of treatment 39859\n",
      "Revenue -1698.8499999999995\n",
      "****************************************************************************************************\n",
      "41650 0 480 0\n"
     ]
    },
    {
     "name": "stderr",
     "output_type": "stream",
     "text": [
      " 60%|██████    | 6042/10000 [04:15<02:38, 24.93it/s]"
     ]
    },
    {
     "name": "stdout",
     "output_type": "stream",
     "text": [
      "41650 0 480 0\n",
      "41650 0 480 0\n",
      "41650 0 480 0\n",
      "23845 17805 210 270\n",
      "Number of treatment 23845\n",
      "Revenue -4176.75\n",
      "****************************************************************************************************\n",
      "41650 0 480 0\n"
     ]
    },
    {
     "name": "stderr",
     "output_type": "stream",
     "text": [
      " 60%|██████    | 6048/10000 [04:15<02:47, 23.61it/s]"
     ]
    },
    {
     "name": "stdout",
     "output_type": "stream",
     "text": [
      "41650 0 480 0\n",
      "41650 0 480 0\n",
      "13371 28279 77 403\n",
      "Number of treatment 13371\n",
      "Revenue -5265.65\n",
      "****************************************************************************************************\n",
      "41650 0 480 0\n",
      "41650 0 480 0\n"
     ]
    },
    {
     "name": "stderr",
     "output_type": "stream",
     "text": [
      "\r",
      " 61%|██████    | 6051/10000 [04:16<02:52, 22.87it/s]"
     ]
    },
    {
     "name": "stdout",
     "output_type": "stream",
     "text": [
      "41650 0 480 0\n",
      "41650 0 480 0\n",
      "41620 30 480 0\n",
      "41650 0 480 0\n",
      "41650 0 480 0\n"
     ]
    },
    {
     "name": "stderr",
     "output_type": "stream",
     "text": [
      " 61%|██████    | 6057/10000 [04:16<02:45, 23.86it/s]"
     ]
    },
    {
     "name": "stdout",
     "output_type": "stream",
     "text": [
      "41650 0 480 0\n",
      "41366 284 476 4\n",
      "41650 0 480 0\n",
      "9132 32518 56 424\n",
      "Number of treatment 9132\n",
      "Revenue -5049.8\n",
      "****************************************************************************************************\n",
      "1678 39972 15 465\n",
      "Number of treatment 1678\n",
      "Revenue -4751.7\n",
      "****************************************************************************************************\n"
     ]
    },
    {
     "name": "stderr",
     "output_type": "stream",
     "text": [
      " 61%|██████    | 6063/10000 [04:16<02:43, 24.11it/s]"
     ]
    },
    {
     "name": "stdout",
     "output_type": "stream",
     "text": [
      "41650 0 480 0\n",
      "20971 20679 175 305\n",
      "Number of treatment 20971\n",
      "Revenue -4445.65\n",
      "****************************************************************************************************\n",
      "41650 0 480 0\n",
      "41650 0 480 0\n",
      "41650 0 480 0\n"
     ]
    },
    {
     "name": "stderr",
     "output_type": "stream",
     "text": [
      "\r",
      " 61%|██████    | 6066/10000 [04:16<02:42, 24.18it/s]"
     ]
    },
    {
     "name": "stdout",
     "output_type": "stream",
     "text": [
      "37814 3836 412 68\n",
      "Number of treatment 37814\n",
      "Revenue -2232.0999999999995\n",
      "****************************************************************************************************\n",
      "41620 30 480 0\n",
      "41650 0 480 0\n",
      "41650 0 480 0\n",
      "41650 0 480 0\n"
     ]
    },
    {
     "name": "stderr",
     "output_type": "stream",
     "text": [
      " 61%|██████    | 6072/10000 [04:17<02:48, 23.32it/s]"
     ]
    },
    {
     "name": "stdout",
     "output_type": "stream",
     "text": [
      "41650 0 480 0\n",
      "0 41650 0 480\n",
      "41650 0 480 0\n",
      "41650 0 480 0\n",
      "41650 0 480 0\n"
     ]
    },
    {
     "name": "stderr",
     "output_type": "stream",
     "text": [
      " 61%|██████    | 6078/10000 [04:17<02:39, 24.55it/s]"
     ]
    },
    {
     "name": "stdout",
     "output_type": "stream",
     "text": [
      "0 41650 0 480\n",
      "41650 0 480 0\n",
      "41650 0 480 0\n",
      "13532 28118 78 402\n",
      "Number of treatment 13532\n",
      "Revenue -5269.8\n",
      "****************************************************************************************************\n",
      "41650 0 480 0\n",
      "41650 0 480 0\n"
     ]
    },
    {
     "name": "stderr",
     "output_type": "stream",
     "text": [
      " 61%|██████    | 6084/10000 [04:17<02:45, 23.73it/s]"
     ]
    },
    {
     "name": "stdout",
     "output_type": "stream",
     "text": [
      "41650 0 480 0\n",
      "41650 0 480 0\n",
      "41650 0 480 0\n",
      "0 41650 0 480\n",
      "0 41650 0 480\n"
     ]
    },
    {
     "name": "stderr",
     "output_type": "stream",
     "text": [
      "\r",
      " 61%|██████    | 6087/10000 [04:17<02:40, 24.35it/s]"
     ]
    },
    {
     "name": "stdout",
     "output_type": "stream",
     "text": [
      "41650 0 480 0\n",
      "41650 0 480 0\n",
      "21464 20186 181 299\n",
      "Number of treatment 21464\n",
      "Revenue -4399.6\n",
      "****************************************************************************************************\n",
      "41650 0 480 0\n",
      "41650 0 480 0\n"
     ]
    },
    {
     "name": "stderr",
     "output_type": "stream",
     "text": [
      " 61%|██████    | 6093/10000 [04:17<02:41, 24.23it/s]"
     ]
    },
    {
     "name": "stdout",
     "output_type": "stream",
     "text": [
      "41650 0 480 0\n",
      "0 41650 0 480\n",
      "41650 0 480 0\n",
      "41650 0 480 0\n",
      "41650 0 480 0\n"
     ]
    },
    {
     "name": "stderr",
     "output_type": "stream",
     "text": [
      " 61%|██████    | 6099/10000 [04:18<02:42, 24.05it/s]"
     ]
    },
    {
     "name": "stdout",
     "output_type": "stream",
     "text": [
      "41650 0 480 0\n",
      "41650 0 480 0\n",
      "41000 650 471 9\n",
      "Number of treatment 41000\n",
      "Revenue -1530.0\n",
      "****************************************************************************************************\n",
      "32137 9513 322 158\n",
      "Number of treatment 32137\n",
      "Revenue -3180.55\n",
      "****************************************************************************************************\n",
      "0 41650 0 480\n"
     ]
    },
    {
     "name": "stderr",
     "output_type": "stream",
     "text": [
      " 61%|██████    | 6105/10000 [04:18<02:35, 25.12it/s]"
     ]
    },
    {
     "name": "stdout",
     "output_type": "stream",
     "text": [
      "41650 0 480 0\n",
      "41650 0 480 0\n",
      "41650 0 480 0\n",
      "41650 0 480 0\n",
      "41461 189 478 2\n",
      "41650 0 480 0\n"
     ]
    },
    {
     "name": "stderr",
     "output_type": "stream",
     "text": [
      "\r",
      " 61%|██████    | 6108/10000 [04:18<02:36, 24.93it/s]"
     ]
    },
    {
     "name": "stdout",
     "output_type": "stream",
     "text": [
      "41650 0 480 0\n",
      "41650 0 480 0\n",
      "41650 0 480 0\n",
      "41650 0 480 0\n",
      "41650 0 480 0\n"
     ]
    },
    {
     "name": "stderr",
     "output_type": "stream",
     "text": [
      " 61%|██████    | 6114/10000 [04:18<02:39, 24.31it/s]"
     ]
    },
    {
     "name": "stdout",
     "output_type": "stream",
     "text": [
      "41650 0 480 0\n",
      "41520 130 479 1\n",
      "11902 29748 68 412\n",
      "Number of treatment 11902\n",
      "Revenue -5225.3\n",
      "****************************************************************************************************\n",
      "41650 0 480 0\n",
      "41650 0 480 0\n"
     ]
    },
    {
     "name": "stderr",
     "output_type": "stream",
     "text": [
      " 61%|██████    | 6120/10000 [04:18<02:36, 24.77it/s]"
     ]
    },
    {
     "name": "stdout",
     "output_type": "stream",
     "text": [
      "41650 0 480 0\n",
      "41650 0 480 0\n",
      "41650 0 480 0\n",
      "41650 0 480 0\n",
      "41650 0 480 0\n"
     ]
    },
    {
     "name": "stderr",
     "output_type": "stream",
     "text": [
      "\r",
      " 61%|██████    | 6123/10000 [04:19<02:39, 24.35it/s]"
     ]
    },
    {
     "name": "stdout",
     "output_type": "stream",
     "text": [
      "28214 13436 268 212\n",
      "Number of treatment 28214\n",
      "Revenue -3672.0999999999995\n",
      "****************************************************************************************************\n",
      "41650 0 480 0\n",
      "0 41650 0 480\n",
      "41650 0 480 0\n",
      "41650 0 480 0\n"
     ]
    },
    {
     "name": "stderr",
     "output_type": "stream",
     "text": [
      " 61%|██████▏   | 6129/10000 [04:19<02:34, 25.13it/s]"
     ]
    },
    {
     "name": "stdout",
     "output_type": "stream",
     "text": [
      "41650 0 480 0\n",
      "41650 0 480 0\n",
      "41650 0 480 0\n",
      "41650 0 480 0\n",
      "41650 0 480 0\n",
      "41650 0 480 0\n"
     ]
    },
    {
     "name": "stderr",
     "output_type": "stream",
     "text": [
      " 61%|██████▏   | 6135/10000 [04:19<02:30, 25.61it/s]"
     ]
    },
    {
     "name": "stdout",
     "output_type": "stream",
     "text": [
      "0 41650 0 480\n",
      "41650 0 480 0\n",
      "13919 27731 83 397\n",
      "Number of treatment 13919\n",
      "Revenue -5227.85\n",
      "****************************************************************************************************\n",
      "41650 0 480 0\n",
      "41650 0 480 0\n",
      "41650 0 480 0\n"
     ]
    },
    {
     "name": "stderr",
     "output_type": "stream",
     "text": [
      " 61%|██████▏   | 6141/10000 [04:19<02:30, 25.59it/s]"
     ]
    },
    {
     "name": "stdout",
     "output_type": "stream",
     "text": [
      "13370 28280 77 403\n",
      "41650 0 480 0\n",
      "41650 0 480 0\n",
      "25066 16584 221 259\n",
      "Number of treatment 25066\n",
      "Revenue -4139.9\n",
      "****************************************************************************************************\n",
      "41650 0 480 0\n",
      "41650 0 480 0\n"
     ]
    },
    {
     "name": "stderr",
     "output_type": "stream",
     "text": [
      " 61%|██████▏   | 6147/10000 [04:20<02:30, 25.66it/s]"
     ]
    },
    {
     "name": "stdout",
     "output_type": "stream",
     "text": [
      "41650 0 480 0\n",
      "41650 0 480 0\n",
      "27394 14256 252 228\n",
      "Number of treatment 27394\n",
      "Revenue -3869.0999999999995\n",
      "****************************************************************************************************\n",
      "41650 0 480 0\n",
      "0 41650 0 480\n",
      "41650 0 480 0\n"
     ]
    },
    {
     "name": "stderr",
     "output_type": "stream",
     "text": [
      " 62%|██████▏   | 6153/10000 [04:20<02:33, 25.12it/s]"
     ]
    },
    {
     "name": "stdout",
     "output_type": "stream",
     "text": [
      "0 41650 0 480\n",
      "41650 0 480 0\n",
      "41650 0 480 0\n",
      "41650 0 480 0\n",
      "41650 0 480 0\n"
     ]
    },
    {
     "name": "stderr",
     "output_type": "stream",
     "text": [
      " 62%|██████▏   | 6159/10000 [04:20<02:37, 24.33it/s]"
     ]
    },
    {
     "name": "stdout",
     "output_type": "stream",
     "text": [
      "28583 13067 271 209\n",
      "Number of treatment 28583\n",
      "Revenue -3667.45\n",
      "****************************************************************************************************\n",
      "41650 0 480 0\n",
      "41650 0 480 0\n",
      "41394 256 477 3\n",
      "Number of treatment 41394\n",
      "Revenue -1469.0999999999995\n",
      "****************************************************************************************************\n",
      "41650 0 480 0\n"
     ]
    },
    {
     "name": "stderr",
     "output_type": "stream",
     "text": [
      " 62%|██████▏   | 6165/10000 [04:20<02:33, 24.93it/s]"
     ]
    },
    {
     "name": "stdout",
     "output_type": "stream",
     "text": [
      "41650 0 480 0\n",
      "41650 0 480 0\n",
      "41650 0 480 0\n",
      "41650 0 480 0\n",
      "35875 5775 383 97\n",
      "41650 0 480 0\n"
     ]
    },
    {
     "name": "stderr",
     "output_type": "stream",
     "text": [
      "\r",
      " 62%|██████▏   | 6168/10000 [04:20<02:38, 24.14it/s]"
     ]
    },
    {
     "name": "stdout",
     "output_type": "stream",
     "text": [
      "41650 0 480 0\n",
      "10374 31276 58 422\n",
      "Number of treatment 10374\n",
      "Revenue -5196.1\n",
      "****************************************************************************************************\n",
      "41650 0 480 0\n",
      "41650 0 480 0\n",
      "41650 0 480 0\n"
     ]
    },
    {
     "name": "stderr",
     "output_type": "stream",
     "text": [
      " 62%|██████▏   | 6174/10000 [04:21<02:39, 23.92it/s]"
     ]
    },
    {
     "name": "stdout",
     "output_type": "stream",
     "text": [
      "41650 0 480 0\n",
      "41650 0 480 0\n",
      "0 41650 0 480\n",
      "41650 0 480 0\n",
      "41650 0 480 0\n"
     ]
    },
    {
     "name": "stderr",
     "output_type": "stream",
     "text": [
      " 62%|██████▏   | 6180/10000 [04:21<02:32, 25.11it/s]"
     ]
    },
    {
     "name": "stdout",
     "output_type": "stream",
     "text": [
      "41650 0 480 0\n",
      "41650 0 480 0\n",
      "41650 0 480 0\n",
      "37367 4283 404 76\n",
      "41650 0 480 0\n",
      "41650 0 480 0\n"
     ]
    },
    {
     "name": "stderr",
     "output_type": "stream",
     "text": [
      " 62%|██████▏   | 6186/10000 [04:21<02:35, 24.54it/s]"
     ]
    },
    {
     "name": "stdout",
     "output_type": "stream",
     "text": [
      "41650 0 480 0\n",
      "41650 0 480 0\n",
      "41650 0 480 0\n",
      "41650 0 480 0\n",
      "41650 0 480 0\n"
     ]
    },
    {
     "name": "stderr",
     "output_type": "stream",
     "text": [
      " 62%|██████▏   | 6192/10000 [04:21<02:33, 24.87it/s]"
     ]
    },
    {
     "name": "stdout",
     "output_type": "stream",
     "text": [
      "0 41650 0 480\n",
      "0 41650 0 480\n",
      "41650 0 480 0\n",
      "41650 0 480 0\n",
      "27657 13993 257 223\n",
      "Number of treatment 27657\n",
      "Revenue -3808.55\n",
      "****************************************************************************************************\n",
      "41650 0 480 0\n"
     ]
    },
    {
     "name": "stderr",
     "output_type": "stream",
     "text": [
      " 62%|██████▏   | 6198/10000 [04:22<02:36, 24.37it/s]"
     ]
    },
    {
     "name": "stdout",
     "output_type": "stream",
     "text": [
      "41650 0 480 0\n",
      "24177 17473 214 266\n",
      "Number of treatment 24177\n",
      "Revenue -4146.549999999999\n",
      "****************************************************************************************************\n",
      "41650 0 480 0\n",
      "41650 0 480 0\n",
      "41650 0 480 0\n",
      "2757 38893 21 459\n",
      "Number of treatment 2757\n",
      "Revenue -4793.55\n",
      "****************************************************************************************************\n"
     ]
    },
    {
     "name": "stderr",
     "output_type": "stream",
     "text": [
      "\r",
      " 62%|██████▏   | 6201/10000 [04:22<02:37, 24.15it/s]"
     ]
    },
    {
     "name": "stdout",
     "output_type": "stream",
     "text": [
      "41650 0 480 0\n",
      "40637 1013 467 13\n",
      "Number of treatment 40637\n",
      "Revenue -1555.5500000000002\n",
      "****************************************************************************************************\n",
      "41650 0 480 0\n",
      "0 41650 0 480\n",
      "41650 0 480 0\n"
     ]
    },
    {
     "name": "stderr",
     "output_type": "stream",
     "text": [
      " 62%|██████▏   | 6207/10000 [04:22<02:37, 24.03it/s]"
     ]
    },
    {
     "name": "stdout",
     "output_type": "stream",
     "text": [
      "41650 0 480 0\n",
      "41650 0 480 0\n",
      "41650 0 480 0\n",
      "41650 0 480 0\n",
      "41650 0 480 0\n"
     ]
    },
    {
     "name": "stderr",
     "output_type": "stream",
     "text": [
      " 62%|██████▏   | 6213/10000 [04:22<02:37, 24.04it/s]"
     ]
    },
    {
     "name": "stdout",
     "output_type": "stream",
     "text": [
      "41650 0 480 0\n",
      "41637 13 480 0\n",
      "41650 0 480 0\n",
      "12388 29262 72 408\n",
      "Number of treatment 12388\n",
      "Revenue -5218.2\n",
      "****************************************************************************************************\n",
      "41650 0 480 0\n"
     ]
    },
    {
     "name": "stderr",
     "output_type": "stream",
     "text": [
      " 62%|██████▏   | 6219/10000 [04:22<02:34, 24.52it/s]"
     ]
    },
    {
     "name": "stdout",
     "output_type": "stream",
     "text": [
      "41650 0 480 0\n",
      "41650 0 480 0\n",
      "41650 0 480 0\n",
      "41650 0 480 0\n",
      "41650 0 480 0\n",
      "41650 0 480 0\n"
     ]
    },
    {
     "name": "stderr",
     "output_type": "stream",
     "text": [
      " 62%|██████▏   | 6225/10000 [04:23<02:30, 25.16it/s]"
     ]
    },
    {
     "name": "stdout",
     "output_type": "stream",
     "text": [
      "6715 34935 46 434\n",
      "Number of treatment 6715\n",
      "Revenue -4887.25\n",
      "****************************************************************************************************\n",
      "41650 0 480 0\n",
      "41650 0 480 0\n",
      "0 41650 0 480\n",
      "41650 0 480 0\n",
      "41650 0 480 0\n"
     ]
    },
    {
     "name": "stderr",
     "output_type": "stream",
     "text": [
      "\r",
      " 62%|██████▏   | 6228/10000 [04:23<02:31, 24.96it/s]"
     ]
    },
    {
     "name": "stdout",
     "output_type": "stream",
     "text": [
      "41650 0 480 0\n",
      "41650 0 480 0\n",
      "41650 0 480 0\n",
      "41650 0 480 0\n",
      "13775 27875 81 399\n",
      "Number of treatment 13775\n",
      "Revenue -5246.25\n",
      "****************************************************************************************************\n"
     ]
    },
    {
     "name": "stderr",
     "output_type": "stream",
     "text": [
      " 62%|██████▏   | 6234/10000 [04:23<02:29, 25.25it/s]"
     ]
    },
    {
     "name": "stdout",
     "output_type": "stream",
     "text": [
      "41650 0 480 0\n",
      "41650 0 480 0\n",
      "27076 14574 247 233\n",
      "Number of treatment 27076\n",
      "Revenue -3921.3999999999996\n",
      "****************************************************************************************************\n",
      "41650 0 480 0\n",
      "41650 0 480 0\n"
     ]
    },
    {
     "name": "stderr",
     "output_type": "stream",
     "text": [
      " 62%|██████▏   | 6240/10000 [04:23<02:29, 25.22it/s]"
     ]
    },
    {
     "name": "stdout",
     "output_type": "stream",
     "text": [
      "41650 0 480 0\n",
      "41650 0 480 0\n",
      "41650 0 480 0\n",
      "23301 18349 199 281\n",
      "Number of treatment 23301\n",
      "Revenue -4315.15\n",
      "****************************************************************************************************\n",
      "0 41650 0 480\n",
      "41650 0 480 0\n"
     ]
    },
    {
     "name": "stderr",
     "output_type": "stream",
     "text": [
      " 62%|██████▏   | 6246/10000 [04:24<02:31, 24.76it/s]"
     ]
    },
    {
     "name": "stdout",
     "output_type": "stream",
     "text": [
      "41650 0 480 0\n",
      "41316 334 476 4\n",
      "Number of treatment 41316\n",
      "Revenue -1477.3999999999996\n",
      "****************************************************************************************************\n",
      "41650 0 480 0\n",
      "41650 0 480 0\n",
      "41650 0 480 0\n",
      "41650 0 480 0\n"
     ]
    },
    {
     "name": "stderr",
     "output_type": "stream",
     "text": [
      " 63%|██████▎   | 6252/10000 [04:24<02:30, 24.90it/s]"
     ]
    },
    {
     "name": "stdout",
     "output_type": "stream",
     "text": [
      "41650 0 480 0\n",
      "12147 29503 71 409\n",
      "Number of treatment 12147\n",
      "Revenue -5202.05\n",
      "****************************************************************************************************\n",
      "0 41650 0 480\n",
      "41650 0 480 0\n",
      "0 41650 0 480\n",
      "41650 0 480 0\n"
     ]
    },
    {
     "name": "stderr",
     "output_type": "stream",
     "text": [
      " 63%|██████▎   | 6258/10000 [04:24<02:34, 24.23it/s]"
     ]
    },
    {
     "name": "stdout",
     "output_type": "stream",
     "text": [
      "3428 38222 23 457\n",
      "Number of treatment 3428\n",
      "Revenue -4854.2\n",
      "****************************************************************************************************\n",
      "41650 0 480 0\n",
      "13387 28263 77 403\n",
      "Number of treatment 13387\n",
      "Revenue -5268.05\n",
      "****************************************************************************************************\n",
      "13501 28149 77 403\n",
      "Number of treatment 13501\n",
      "Revenue -5285.15\n",
      "****************************************************************************************************\n",
      "41650 0 480 0\n"
     ]
    },
    {
     "name": "stderr",
     "output_type": "stream",
     "text": [
      " 63%|██████▎   | 6264/10000 [04:24<02:31, 24.70it/s]"
     ]
    },
    {
     "name": "stdout",
     "output_type": "stream",
     "text": [
      "12873 28777 75 405\n",
      "Number of treatment 12873\n",
      "Revenue -5230.95\n",
      "****************************************************************************************************\n",
      "41650 0 480 0\n",
      "41650 0 480 0\n",
      "34541 7109 366 114\n",
      "Number of treatment 34541\n",
      "Revenue -2661.1499999999996\n",
      "****************************************************************************************************\n",
      "41650 0 480 0\n",
      "10584 31066 61 419\n"
     ]
    },
    {
     "name": "stderr",
     "output_type": "stream",
     "text": [
      "\r",
      " 63%|██████▎   | 6267/10000 [04:24<02:34, 24.15it/s]"
     ]
    },
    {
     "name": "stdout",
     "output_type": "stream",
     "text": [
      "41650 0 480 0\n",
      "41650 0 480 0\n",
      "0 41650 0 480\n",
      "0 41650 0 480\n",
      "41650 0 480 0\n"
     ]
    },
    {
     "name": "stderr",
     "output_type": "stream",
     "text": [
      " 63%|██████▎   | 6273/10000 [04:25<02:32, 24.47it/s]"
     ]
    },
    {
     "name": "stdout",
     "output_type": "stream",
     "text": [
      "41650 0 480 0\n",
      "41650 0 480 0\n",
      "41650 0 480 0\n",
      "39050 2600 438 42\n",
      "Number of treatment 39050\n",
      "Revenue -1897.5\n",
      "****************************************************************************************************\n",
      "41650 0 480 0\n"
     ]
    },
    {
     "name": "stderr",
     "output_type": "stream",
     "text": [
      " 63%|██████▎   | 6279/10000 [04:25<02:40, 23.20it/s]"
     ]
    },
    {
     "name": "stdout",
     "output_type": "stream",
     "text": [
      "41650 0 480 0\n",
      "13282 28368 76 404\n",
      "Number of treatment 13282\n",
      "Revenue -5272.3\n",
      "****************************************************************************************************\n",
      "7318 34332 49 431\n",
      "Number of treatment 7318\n",
      "Revenue -4917.7\n",
      "****************************************************************************************************\n",
      "34190 7460 359 121\n",
      "Number of treatment 34190\n",
      "Revenue -2748.5\n",
      "****************************************************************************************************\n",
      "41650 0 480 0\n"
     ]
    },
    {
     "name": "stderr",
     "output_type": "stream",
     "text": [
      " 63%|██████▎   | 6285/10000 [04:25<02:38, 23.38it/s]"
     ]
    },
    {
     "name": "stdout",
     "output_type": "stream",
     "text": [
      "25928 15722 232 248\n",
      "Number of treatment 25928\n",
      "Revenue -4049.2\n",
      "****************************************************************************************************\n",
      "41650 0 480 0\n",
      "41650 0 480 0\n",
      "41650 0 480 0\n",
      "0 41650 0 480\n",
      "41650 0 480 0\n"
     ]
    },
    {
     "name": "stderr",
     "output_type": "stream",
     "text": [
      "\r",
      " 63%|██████▎   | 6288/10000 [04:25<02:38, 23.39it/s]"
     ]
    },
    {
     "name": "stdout",
     "output_type": "stream",
     "text": [
      "41650 0 480 0\n",
      "41650 0 480 0\n",
      "0 41650 0 480\n",
      "41650 0 480 0\n",
      "41621 29 480 0\n"
     ]
    },
    {
     "name": "stderr",
     "output_type": "stream",
     "text": [
      " 63%|██████▎   | 6294/10000 [04:26<02:34, 24.01it/s]"
     ]
    },
    {
     "name": "stdout",
     "output_type": "stream",
     "text": [
      "41650 0 480 0\n",
      "41650 0 480 0\n",
      "0 41650 0 480\n",
      "41650 0 480 0\n",
      "41650 0 480 0\n",
      "41650 0 480 0\n"
     ]
    },
    {
     "name": "stderr",
     "output_type": "stream",
     "text": [
      " 63%|██████▎   | 6300/10000 [04:26<02:28, 24.94it/s]"
     ]
    },
    {
     "name": "stdout",
     "output_type": "stream",
     "text": [
      "41650 0 480 0\n",
      "41650 0 480 0\n",
      "41650 0 480 0\n",
      "41650 0 480 0\n",
      "41650 0 480 0\n",
      "41650 0 480 0\n"
     ]
    },
    {
     "name": "stderr",
     "output_type": "stream",
     "text": [
      " 63%|██████▎   | 6306/10000 [04:26<02:28, 24.90it/s]"
     ]
    },
    {
     "name": "stdout",
     "output_type": "stream",
     "text": [
      "20064 21586 163 317\n",
      "Number of treatment 20064\n",
      "Revenue -4549.6\n",
      "****************************************************************************************************\n",
      "0 41650 0 480\n",
      "36528 5122 391 89\n",
      "Number of treatment 36528\n",
      "Revenue -2459.2\n",
      "****************************************************************************************************\n",
      "4838 36812 33 447\n",
      "Number of treatment 4838\n",
      "Revenue -4865.7\n",
      "****************************************************************************************************\n",
      "41650 0 480 0\n"
     ]
    },
    {
     "name": "stderr",
     "output_type": "stream",
     "text": [
      " 63%|██████▎   | 6312/10000 [04:26<02:33, 23.99it/s]"
     ]
    },
    {
     "name": "stdout",
     "output_type": "stream",
     "text": [
      "41650 0 480 0\n",
      "41650 0 480 0\n",
      "41650 0 480 0\n",
      "41650 0 480 0\n",
      "6677 34973 45 435\n",
      "Number of treatment 6677\n",
      "Revenue -4901.55\n",
      "****************************************************************************************************\n"
     ]
    },
    {
     "name": "stderr",
     "output_type": "stream",
     "text": [
      " 63%|██████▎   | 6318/10000 [04:27<02:29, 24.62it/s]"
     ]
    },
    {
     "name": "stdout",
     "output_type": "stream",
     "text": [
      "11589 30061 67 413\n",
      "Number of treatment 11589\n",
      "Revenue -5198.35\n",
      "****************************************************************************************************\n",
      "41650 0 480 0\n",
      "41650 0 480 0\n",
      "41650 0 480 0\n",
      "41650 0 480 0\n",
      "41650 0 480 0\n"
     ]
    },
    {
     "name": "stderr",
     "output_type": "stream",
     "text": [
      " 63%|██████▎   | 6324/10000 [04:27<02:28, 24.79it/s]"
     ]
    },
    {
     "name": "stdout",
     "output_type": "stream",
     "text": [
      "41650 0 480 0\n",
      "41650 0 480 0\n",
      "41650 0 480 0\n",
      "41650 0 480 0\n",
      "41650 0 480 0\n",
      "41650 0 480 0\n"
     ]
    },
    {
     "name": "stderr",
     "output_type": "stream",
     "text": [
      " 63%|██████▎   | 6330/10000 [04:27<02:28, 24.79it/s]"
     ]
    },
    {
     "name": "stdout",
     "output_type": "stream",
     "text": [
      "41650 0 480 0\n",
      "41650 0 480 0\n",
      "41650 0 480 0\n",
      "41650 0 480 0\n",
      "41650 0 480 0\n",
      "41650 0 480 0\n"
     ]
    },
    {
     "name": "stderr",
     "output_type": "stream",
     "text": [
      "\r",
      " 63%|██████▎   | 6333/10000 [04:27<02:34, 23.70it/s]"
     ]
    },
    {
     "name": "stdout",
     "output_type": "stream",
     "text": [
      "41650 0 480 0\n",
      "12460 29190 72 408\n",
      "Number of treatment 12460\n",
      "Revenue -5229.0\n",
      "****************************************************************************************************\n",
      "41650 0 480 0\n",
      "41650 0 480 0\n",
      "41650 0 480 0\n"
     ]
    },
    {
     "name": "stderr",
     "output_type": "stream",
     "text": [
      " 63%|██████▎   | 6339/10000 [04:27<02:30, 24.29it/s]"
     ]
    },
    {
     "name": "stdout",
     "output_type": "stream",
     "text": [
      "41650 0 480 0\n",
      "41650 0 480 0\n",
      "41650 0 480 0\n",
      "41650 0 480 0\n",
      "41650 0 480 0\n",
      "41650 0 480 0\n"
     ]
    },
    {
     "name": "stderr",
     "output_type": "stream",
     "text": [
      " 63%|██████▎   | 6345/10000 [04:28<02:28, 24.60it/s]"
     ]
    },
    {
     "name": "stdout",
     "output_type": "stream",
     "text": [
      "41650 0 480 0\n",
      "41647 3 480 0\n",
      "41650 0 480 0\n",
      "41650 0 480 0\n",
      "41489 161 478 2\n",
      "Number of treatment 41489\n",
      "Revenue -1463.3499999999995\n",
      "****************************************************************************************************\n"
     ]
    },
    {
     "name": "stderr",
     "output_type": "stream",
     "text": [
      " 64%|██████▎   | 6351/10000 [04:28<02:32, 23.90it/s]"
     ]
    },
    {
     "name": "stdout",
     "output_type": "stream",
     "text": [
      "41650 0 480 0\n",
      "41650 0 480 0\n",
      "35523 6127 377 103\n",
      "Number of treatment 35523\n",
      "Revenue -2588.45\n",
      "****************************************************************************************************\n",
      "41650 0 480 0\n",
      "41650 0 480 0\n"
     ]
    },
    {
     "name": "stderr",
     "output_type": "stream",
     "text": [
      " 64%|██████▎   | 6357/10000 [04:28<02:27, 24.66it/s]"
     ]
    },
    {
     "name": "stdout",
     "output_type": "stream",
     "text": [
      "41650 0 480 0\n",
      "40747 903 469 11\n",
      "Number of treatment 40747\n",
      "Revenue -1532.0500000000002\n",
      "****************************************************************************************************\n",
      "41650 0 480 0\n",
      "41650 0 480 0\n",
      "41650 0 480 0\n",
      "41650 0 480 0\n"
     ]
    },
    {
     "name": "stderr",
     "output_type": "stream",
     "text": [
      "\r",
      " 64%|██████▎   | 6360/10000 [04:28<02:29, 24.42it/s]"
     ]
    },
    {
     "name": "stdout",
     "output_type": "stream",
     "text": [
      "41650 0 480 0\n",
      "41650 0 480 0\n",
      "41650 0 480 0\n",
      "41650 0 480 0\n",
      "41650 0 480 0\n"
     ]
    },
    {
     "name": "stderr",
     "output_type": "stream",
     "text": [
      " 64%|██████▎   | 6366/10000 [04:29<02:34, 23.60it/s]"
     ]
    },
    {
     "name": "stdout",
     "output_type": "stream",
     "text": [
      "41650 0 480 0\n",
      "41650 0 480 0\n",
      "41650 0 480 0\n",
      "41650 0 480 0\n",
      "40681 969 468 12\n",
      "Number of treatment 40681\n",
      "Revenue -1542.1499999999996\n",
      "****************************************************************************************************\n"
     ]
    },
    {
     "name": "stderr",
     "output_type": "stream",
     "text": [
      " 64%|██████▎   | 6372/10000 [04:29<02:33, 23.64it/s]"
     ]
    },
    {
     "name": "stdout",
     "output_type": "stream",
     "text": [
      "41650 0 480 0\n",
      "41650 0 480 0\n",
      "41650 0 480 0\n",
      "41650 0 480 0\n",
      "41650 0 480 0\n"
     ]
    },
    {
     "name": "stderr",
     "output_type": "stream",
     "text": [
      " 64%|██████▍   | 6378/10000 [04:29<02:25, 24.82it/s]"
     ]
    },
    {
     "name": "stdout",
     "output_type": "stream",
     "text": [
      "12073 29577 69 411\n",
      "Number of treatment 12073\n",
      "Revenue -5230.95\n",
      "****************************************************************************************************\n",
      "41650 0 480 0\n",
      "41650 0 480 0\n",
      "41650 0 480 0\n",
      "41650 0 480 0\n",
      "41650 0 480 0\n"
     ]
    },
    {
     "name": "stderr",
     "output_type": "stream",
     "text": [
      "\r",
      " 64%|██████▍   | 6381/10000 [04:29<02:26, 24.76it/s]"
     ]
    },
    {
     "name": "stdout",
     "output_type": "stream",
     "text": [
      "0 41650 0 480\n",
      "41650 0 480 0\n",
      "41517 133 479 1\n",
      "Number of treatment 41517\n",
      "Revenue -1447.5500000000002\n",
      "****************************************************************************************************\n",
      "41650 0 480 0\n",
      "41650 0 480 0\n"
     ]
    },
    {
     "name": "stderr",
     "output_type": "stream",
     "text": [
      " 64%|██████▍   | 6387/10000 [04:29<02:31, 23.77it/s]"
     ]
    },
    {
     "name": "stdout",
     "output_type": "stream",
     "text": [
      "15945 25705 109 371\n",
      "Number of treatment 15945\n",
      "Revenue -5011.75\n",
      "****************************************************************************************************\n",
      "41650 0 480 0\n",
      "41650 0 480 0\n",
      "41650 0 480 0\n",
      "41650 0 480 0\n"
     ]
    },
    {
     "name": "stderr",
     "output_type": "stream",
     "text": [
      " 64%|██████▍   | 6393/10000 [04:30<02:29, 24.15it/s]"
     ]
    },
    {
     "name": "stdout",
     "output_type": "stream",
     "text": [
      "41650 0 480 0\n",
      "41650 0 480 0\n",
      "41650 0 480 0\n",
      "41650 0 480 0\n",
      "41650 0 480 0\n",
      "41650 0 480 0\n"
     ]
    },
    {
     "name": "stderr",
     "output_type": "stream",
     "text": [
      " 64%|██████▍   | 6399/10000 [04:30<02:29, 24.14it/s]"
     ]
    },
    {
     "name": "stdout",
     "output_type": "stream",
     "text": [
      "41650 0 480 0\n",
      "41650 0 480 0\n",
      "41650 0 480 0\n",
      "41650 0 480 0\n",
      "41650 0 480 0\n"
     ]
    },
    {
     "name": "stderr",
     "output_type": "stream",
     "text": [
      " 64%|██████▍   | 6405/10000 [04:30<02:24, 24.85it/s]"
     ]
    },
    {
     "name": "stdout",
     "output_type": "stream",
     "text": [
      "41650 0 480 0\n",
      "41650 0 480 0\n",
      "41650 0 480 0\n",
      "41650 0 480 0\n",
      "41650 0 480 0\n",
      "41650 0 480 0\n"
     ]
    },
    {
     "name": "stderr",
     "output_type": "stream",
     "text": [
      "\r",
      " 64%|██████▍   | 6408/10000 [04:30<02:26, 24.54it/s]"
     ]
    },
    {
     "name": "stdout",
     "output_type": "stream",
     "text": [
      "21606 20044 181 299\n",
      "Number of treatment 21606\n",
      "Revenue -4420.9\n",
      "****************************************************************************************************\n",
      "41650 0 480 0\n",
      "41650 0 480 0\n",
      "41650 0 480 0\n",
      "30166 11484 293 187\n",
      "Number of treatment 30166\n",
      "Revenue -3464.8999999999996\n",
      "****************************************************************************************************\n"
     ]
    },
    {
     "name": "stderr",
     "output_type": "stream",
     "text": [
      " 64%|██████▍   | 6414/10000 [04:30<02:31, 23.70it/s]"
     ]
    },
    {
     "name": "stdout",
     "output_type": "stream",
     "text": [
      "41650 0 480 0\n",
      "41650 0 480 0\n",
      "40564 1086 467 13\n",
      "Number of treatment 40564\n",
      "Revenue -1544.5999999999995\n",
      "****************************************************************************************************\n",
      "41650 0 480 0\n",
      "41650 0 480 0\n"
     ]
    },
    {
     "name": "stderr",
     "output_type": "stream",
     "text": [
      " 64%|██████▍   | 6420/10000 [04:31<02:30, 23.77it/s]"
     ]
    },
    {
     "name": "stdout",
     "output_type": "stream",
     "text": [
      "40302 1348 465 15\n",
      "Number of treatment 40302\n",
      "Revenue -1545.3000000000002\n",
      "****************************************************************************************************\n",
      "0 41650 0 480\n",
      "41650 0 480 0\n",
      "41650 0 480 0\n",
      "41650 0 480 0\n"
     ]
    },
    {
     "name": "stderr",
     "output_type": "stream",
     "text": [
      " 64%|██████▍   | 6426/10000 [04:31<02:25, 24.60it/s]"
     ]
    },
    {
     "name": "stdout",
     "output_type": "stream",
     "text": [
      "41650 0 480 0\n",
      "41650 0 480 0\n",
      "41650 0 480 0\n",
      "0 41650 0 480\n",
      "41650 0 480 0\n",
      "41650 0 480 0\n"
     ]
    },
    {
     "name": "stderr",
     "output_type": "stream",
     "text": [
      "\r",
      " 64%|██████▍   | 6429/10000 [04:31<02:27, 24.17it/s]"
     ]
    },
    {
     "name": "stdout",
     "output_type": "stream",
     "text": [
      "41650 0 480 0\n",
      "41650 0 480 0\n",
      "41650 0 480 0\n",
      "41650 0 480 0\n",
      "41650 0 480 0\n"
     ]
    },
    {
     "name": "stderr",
     "output_type": "stream",
     "text": [
      " 64%|██████▍   | 6435/10000 [04:31<02:29, 23.81it/s]"
     ]
    },
    {
     "name": "stdout",
     "output_type": "stream",
     "text": [
      "41650 0 480 0\n",
      "38236 3414 423 57\n",
      "Number of treatment 38236\n",
      "Revenue -2075.3999999999996\n",
      "****************************************************************************************************\n",
      "41650 0 480 0\n",
      "41650 0 480 0\n",
      "41650 0 480 0\n",
      "41650 0 480 0\n"
     ]
    },
    {
     "name": "stderr",
     "output_type": "stream",
     "text": [
      " 64%|██████▍   | 6441/10000 [04:32<02:25, 24.53it/s]"
     ]
    },
    {
     "name": "stdout",
     "output_type": "stream",
     "text": [
      "41650 0 480 0\n",
      "0 41650 0 480\n",
      "41650 0 480 0\n",
      "41650 0 480 0\n",
      "0 41650 0 480\n"
     ]
    },
    {
     "name": "stderr",
     "output_type": "stream",
     "text": [
      " 64%|██████▍   | 6447/10000 [04:32<02:21, 25.04it/s]"
     ]
    },
    {
     "name": "stdout",
     "output_type": "stream",
     "text": [
      "41650 0 480 0\n",
      "41650 0 480 0\n",
      "41650 0 480 0\n",
      "41650 0 480 0\n",
      "41650 0 480 0\n",
      "17419 24231 136 344\n",
      "Number of treatment 17419\n",
      "Revenue -4692.85\n",
      "****************************************************************************************************\n"
     ]
    },
    {
     "name": "stderr",
     "output_type": "stream",
     "text": [
      " 65%|██████▍   | 6453/10000 [04:32<02:27, 23.98it/s]"
     ]
    },
    {
     "name": "stdout",
     "output_type": "stream",
     "text": [
      "41650 0 480 0\n",
      "0 41650 0 480\n",
      "41650 0 480 0\n",
      "41650 0 480 0\n",
      "41650 0 480 0\n"
     ]
    },
    {
     "name": "stderr",
     "output_type": "stream",
     "text": [
      "\r",
      " 65%|██████▍   | 6456/10000 [04:32<02:28, 23.90it/s]"
     ]
    },
    {
     "name": "stdout",
     "output_type": "stream",
     "text": [
      "41650 0 480 0\n",
      "41650 0 480 0\n",
      "41650 0 480 0\n",
      "41650 0 480 0\n",
      "41650 0 480 0\n"
     ]
    },
    {
     "name": "stderr",
     "output_type": "stream",
     "text": [
      " 65%|██████▍   | 6462/10000 [04:32<02:27, 23.93it/s]"
     ]
    },
    {
     "name": "stdout",
     "output_type": "stream",
     "text": [
      "41650 0 480 0\n",
      "41650 0 480 0\n",
      "41650 0 480 0\n",
      "41650 0 480 0\n",
      "41650 0 480 0\n"
     ]
    },
    {
     "name": "stderr",
     "output_type": "stream",
     "text": [
      " 65%|██████▍   | 6468/10000 [04:33<02:25, 24.34it/s]"
     ]
    },
    {
     "name": "stdout",
     "output_type": "stream",
     "text": [
      "10525 31125 60 420\n",
      "0 41650 0 480\n",
      "41650 0 480 0\n",
      "40871 779 470 10\n",
      "Number of treatment 40871\n",
      "Revenue -1530.6499999999996\n",
      "****************************************************************************************************\n",
      "28829 12821 274 206\n",
      "Number of treatment 28829\n",
      "Revenue -3644.3499999999995\n",
      "****************************************************************************************************\n",
      "41650 0 480 0\n"
     ]
    },
    {
     "name": "stderr",
     "output_type": "stream",
     "text": [
      " 65%|██████▍   | 6474/10000 [04:33<02:23, 24.57it/s]"
     ]
    },
    {
     "name": "stdout",
     "output_type": "stream",
     "text": [
      "33523 8127 350 130\n",
      "Number of treatment 33523\n",
      "Revenue -2828.45\n",
      "****************************************************************************************************\n",
      "41650 0 480 0\n",
      "7952 33698 54 426\n",
      "Number of treatment 7952\n",
      "Revenue -4912.8\n",
      "****************************************************************************************************\n",
      "7797 33853 52 428\n",
      "Number of treatment 7797\n",
      "Revenue -4929.55\n",
      "****************************************************************************************************\n",
      "41632 18 480 0\n",
      "Number of treatment 41632\n",
      "Revenue -1444.8000000000002\n",
      "****************************************************************************************************\n"
     ]
    },
    {
     "name": "stderr",
     "output_type": "stream",
     "text": [
      " 65%|██████▍   | 6480/10000 [04:33<02:19, 25.25it/s]"
     ]
    },
    {
     "name": "stdout",
     "output_type": "stream",
     "text": [
      "41650 0 480 0\n",
      "41650 0 480 0\n",
      "41650 0 480 0\n",
      "41650 0 480 0\n",
      "41650 0 480 0\n",
      "41650 0 480 0\n"
     ]
    },
    {
     "name": "stderr",
     "output_type": "stream",
     "text": [
      " 65%|██████▍   | 6486/10000 [04:33<02:15, 25.88it/s]"
     ]
    },
    {
     "name": "stdout",
     "output_type": "stream",
     "text": [
      "41650 0 480 0\n",
      "0 41650 0 480\n",
      "41650 0 480 0\n",
      "41650 0 480 0\n",
      "642 41008 5 475\n",
      "Number of treatment 642\n",
      "Revenue -4796.3\n",
      "****************************************************************************************************\n",
      "41650 0 480 0\n"
     ]
    },
    {
     "name": "stderr",
     "output_type": "stream",
     "text": [
      "\r",
      " 65%|██████▍   | 6489/10000 [04:34<02:15, 25.84it/s]"
     ]
    },
    {
     "name": "stdout",
     "output_type": "stream",
     "text": [
      "41650 0 480 0\n",
      "41650 0 480 0\n",
      "41650 0 480 0\n",
      "13721 27929 79 401\n",
      "Number of treatment 13721\n",
      "Revenue -5278.15\n",
      "****************************************************************************************************\n",
      "41650 0 480 0\n"
     ]
    },
    {
     "name": "stderr",
     "output_type": "stream",
     "text": [
      " 65%|██████▍   | 6495/10000 [04:34<02:20, 24.91it/s]"
     ]
    },
    {
     "name": "stdout",
     "output_type": "stream",
     "text": [
      "41650 0 480 0\n",
      "41650 0 480 0\n",
      "41650 0 480 0\n",
      "41650 0 480 0\n",
      "41218 432 472 8\n",
      "Number of treatment 41218\n",
      "Revenue -1542.6999999999998\n",
      "****************************************************************************************************\n",
      "41650 0 480 0\n"
     ]
    },
    {
     "name": "stderr",
     "output_type": "stream",
     "text": [
      " 65%|██████▌   | 6501/10000 [04:34<02:18, 25.32it/s]"
     ]
    },
    {
     "name": "stdout",
     "output_type": "stream",
     "text": [
      "41650 0 480 0\n",
      "41650 0 480 0\n",
      "41650 0 480 0\n",
      "41650 0 480 0\n",
      "41650 0 480 0\n"
     ]
    },
    {
     "name": "stderr",
     "output_type": "stream",
     "text": [
      " 65%|██████▌   | 6507/10000 [04:34<02:19, 24.98it/s]"
     ]
    },
    {
     "name": "stdout",
     "output_type": "stream",
     "text": [
      "41650 0 480 0\n",
      "41650 0 480 0\n",
      "1933 39717 16 464\n",
      "Number of treatment 1933\n",
      "Revenue -4769.95\n",
      "****************************************************************************************************\n",
      "41650 0 480 0\n",
      "41650 0 480 0\n"
     ]
    },
    {
     "name": "stderr",
     "output_type": "stream",
     "text": [
      "\r",
      " 65%|██████▌   | 6510/10000 [04:34<02:22, 24.55it/s]"
     ]
    },
    {
     "name": "stdout",
     "output_type": "stream",
     "text": [
      "41650 0 480 0\n",
      "41650 0 480 0\n",
      "41650 0 480 0\n",
      "41650 0 480 0\n",
      "41650 0 480 0\n"
     ]
    },
    {
     "name": "stderr",
     "output_type": "stream",
     "text": [
      " 65%|██████▌   | 6516/10000 [04:35<02:20, 24.76it/s]"
     ]
    },
    {
     "name": "stdout",
     "output_type": "stream",
     "text": [
      "41650 0 480 0\n",
      "41650 0 480 0\n",
      "41650 0 480 0\n",
      "41650 0 480 0\n",
      "41650 0 480 0\n",
      "41650 0 480 0\n"
     ]
    },
    {
     "name": "stderr",
     "output_type": "stream",
     "text": [
      " 65%|██████▌   | 6522/10000 [04:35<02:19, 24.93it/s]"
     ]
    },
    {
     "name": "stdout",
     "output_type": "stream",
     "text": [
      "41650 0 480 0\n",
      "41650 0 480 0\n",
      "41650 0 480 0\n",
      "41650 0 480 0\n",
      "41650 0 480 0\n"
     ]
    },
    {
     "name": "stderr",
     "output_type": "stream",
     "text": [
      " 65%|██████▌   | 6528/10000 [04:35<02:21, 24.52it/s]"
     ]
    },
    {
     "name": "stdout",
     "output_type": "stream",
     "text": [
      "0 41650 0 480\n",
      "6934 34716 47 433\n",
      "Number of treatment 6934\n",
      "Revenue -4900.1\n",
      "****************************************************************************************************\n",
      "41650 0 480 0\n",
      "41650 0 480 0\n",
      "41650 0 480 0\n"
     ]
    },
    {
     "name": "stderr",
     "output_type": "stream",
     "text": [
      " 65%|██████▌   | 6534/10000 [04:35<02:16, 25.32it/s]"
     ]
    },
    {
     "name": "stdout",
     "output_type": "stream",
     "text": [
      "0 41650 0 480\n",
      "41650 0 480 0\n",
      "41650 0 480 0\n",
      "41650 0 480 0\n",
      "41650 0 480 0\n",
      "41650 0 480 0\n"
     ]
    },
    {
     "name": "stderr",
     "output_type": "stream",
     "text": [
      " 65%|██████▌   | 6540/10000 [04:36<02:16, 25.27it/s]"
     ]
    },
    {
     "name": "stdout",
     "output_type": "stream",
     "text": [
      "41650 0 480 0\n",
      "12673 28977 74 406\n",
      "Number of treatment 12673\n",
      "Revenue -5220.95\n",
      "****************************************************************************************************\n",
      "41588 62 480 0\n",
      "41650 0 480 0\n",
      "41650 0 480 0\n",
      "41650 0 480 0\n"
     ]
    },
    {
     "name": "stderr",
     "output_type": "stream",
     "text": [
      " 65%|██████▌   | 6546/10000 [04:36<02:17, 25.15it/s]"
     ]
    },
    {
     "name": "stdout",
     "output_type": "stream",
     "text": [
      "0 41650 0 480\n",
      "41650 0 480 0\n",
      "41650 0 480 0\n",
      "41650 0 480 0\n",
      "41650 0 480 0\n",
      "41650 0 480 0\n"
     ]
    },
    {
     "name": "stderr",
     "output_type": "stream",
     "text": [
      " 66%|██████▌   | 6552/10000 [04:36<02:19, 24.75it/s]"
     ]
    },
    {
     "name": "stdout",
     "output_type": "stream",
     "text": [
      "41650 0 480 0\n",
      "0 41650 0 480\n",
      "40638 1012 467 13\n",
      "Number of treatment 40638\n",
      "Revenue -1555.6999999999998\n",
      "****************************************************************************************************\n",
      "41650 0 480 0\n",
      "41650 0 480 0\n",
      "41650 0 480 0\n"
     ]
    },
    {
     "name": "stderr",
     "output_type": "stream",
     "text": [
      " 66%|██████▌   | 6558/10000 [04:36<02:17, 25.05it/s]"
     ]
    },
    {
     "name": "stdout",
     "output_type": "stream",
     "text": [
      "41650 0 480 0\n",
      "41650 0 480 0\n",
      "41650 0 480 0\n",
      "41650 0 480 0\n",
      "41650 0 480 0\n",
      "41650 0 480 0\n"
     ]
    },
    {
     "name": "stderr",
     "output_type": "stream",
     "text": [
      "\r",
      " 66%|██████▌   | 6561/10000 [04:36<02:26, 23.51it/s]"
     ]
    },
    {
     "name": "stdout",
     "output_type": "stream",
     "text": [
      "41650 0 480 0\n",
      "41650 0 480 0\n",
      "41650 0 480 0\n",
      "41650 0 480 0\n",
      "41650 0 480 0\n"
     ]
    },
    {
     "name": "stderr",
     "output_type": "stream",
     "text": [
      " 66%|██████▌   | 6567/10000 [04:37<02:26, 23.40it/s]"
     ]
    },
    {
     "name": "stdout",
     "output_type": "stream",
     "text": [
      "41650 0 480 0\n",
      "41650 0 480 0\n",
      "41650 0 480 0\n",
      "41650 0 480 0\n",
      "41650 0 480 0\n"
     ]
    },
    {
     "name": "stderr",
     "output_type": "stream",
     "text": [
      " 66%|██████▌   | 6573/10000 [04:37<02:28, 23.09it/s]"
     ]
    },
    {
     "name": "stdout",
     "output_type": "stream",
     "text": [
      "41650 0 480 0\n",
      "41650 0 480 0\n",
      "41650 0 480 0\n",
      "41650 0 480 0\n",
      "41650 0 480 0\n"
     ]
    },
    {
     "name": "stderr",
     "output_type": "stream",
     "text": [
      "\r",
      " 66%|██████▌   | 6576/10000 [04:37<02:26, 23.32it/s]"
     ]
    },
    {
     "name": "stdout",
     "output_type": "stream",
     "text": [
      "41650 0 480 0\n",
      "41650 0 480 0\n",
      "41650 0 480 0\n",
      "41650 0 480 0\n",
      "41650 0 480 0\n"
     ]
    },
    {
     "name": "stderr",
     "output_type": "stream",
     "text": [
      " 66%|██████▌   | 6582/10000 [04:37<02:24, 23.73it/s]"
     ]
    },
    {
     "name": "stdout",
     "output_type": "stream",
     "text": [
      "41650 0 480 0\n",
      "41650 0 480 0\n",
      "41650 0 480 0\n",
      "41650 0 480 0\n",
      "41650 0 480 0\n"
     ]
    },
    {
     "name": "stderr",
     "output_type": "stream",
     "text": [
      " 66%|██████▌   | 6588/10000 [04:38<02:23, 23.85it/s]"
     ]
    },
    {
     "name": "stdout",
     "output_type": "stream",
     "text": [
      "40592 1058 467 13\n",
      "7024 34626 48 432\n",
      "Number of treatment 7024\n",
      "Revenue -4893.6\n",
      "****************************************************************************************************\n",
      "41650 0 480 0\n",
      "41650 0 480 0\n",
      "41650 0 480 0\n"
     ]
    },
    {
     "name": "stderr",
     "output_type": "stream",
     "text": [
      " 66%|██████▌   | 6594/10000 [04:38<02:19, 24.46it/s]"
     ]
    },
    {
     "name": "stdout",
     "output_type": "stream",
     "text": [
      "41650 0 480 0\n",
      "0 41650 0 480\n",
      "41650 0 480 0\n",
      "41650 0 480 0\n",
      "32101 9549 322 158\n",
      "Number of treatment 32101\n",
      "Revenue -3175.1499999999996\n",
      "****************************************************************************************************\n",
      "41650 0 480 0\n"
     ]
    },
    {
     "name": "stderr",
     "output_type": "stream",
     "text": [
      "\r",
      " 66%|██████▌   | 6597/10000 [04:38<02:24, 23.50it/s]"
     ]
    },
    {
     "name": "stdout",
     "output_type": "stream",
     "text": [
      "41650 0 480 0\n",
      "41650 0 480 0\n",
      "41650 0 480 0\n",
      "41650 0 480 0\n",
      "41650 0 480 0\n"
     ]
    },
    {
     "name": "stderr",
     "output_type": "stream",
     "text": [
      " 66%|██████▌   | 6603/10000 [04:38<02:18, 24.47it/s]"
     ]
    },
    {
     "name": "stdout",
     "output_type": "stream",
     "text": [
      "41650 0 480 0\n",
      "0 41650 0 480\n",
      "41650 0 480 0\n",
      "41650 0 480 0\n",
      "41650 0 480 0\n",
      "41650 0 480 0\n"
     ]
    },
    {
     "name": "stderr",
     "output_type": "stream",
     "text": [
      " 66%|██████▌   | 6609/10000 [04:38<02:17, 24.60it/s]"
     ]
    },
    {
     "name": "stdout",
     "output_type": "stream",
     "text": [
      "41650 0 480 0\n",
      "41179 471 472 8\n",
      "Number of treatment 41179\n",
      "Revenue -1536.8499999999995\n",
      "****************************************************************************************************\n",
      "41650 0 480 0\n",
      "41650 0 480 0\n",
      "41650 0 480 0\n"
     ]
    },
    {
     "name": "stderr",
     "output_type": "stream",
     "text": [
      " 66%|██████▌   | 6615/10000 [04:39<02:14, 25.10it/s]"
     ]
    },
    {
     "name": "stdout",
     "output_type": "stream",
     "text": [
      "0 41650 0 480\n",
      "41650 0 480 0\n",
      "41650 0 480 0\n",
      "41650 0 480 0\n",
      "41650 0 480 0\n",
      "41650 0 480 0\n"
     ]
    },
    {
     "name": "stderr",
     "output_type": "stream",
     "text": [
      " 66%|██████▌   | 6621/10000 [04:39<02:12, 25.49it/s]"
     ]
    },
    {
     "name": "stdout",
     "output_type": "stream",
     "text": [
      "41650 0 480 0\n",
      "41650 0 480 0\n",
      "41650 0 480 0\n",
      "41650 0 480 0\n",
      "41650 0 480 0\n",
      "41650 0 480 0\n"
     ]
    },
    {
     "name": "stderr",
     "output_type": "stream",
     "text": [
      " 66%|██████▋   | 6627/10000 [04:39<02:17, 24.48it/s]"
     ]
    },
    {
     "name": "stdout",
     "output_type": "stream",
     "text": [
      "23022 18628 195 285\n",
      "Number of treatment 23022\n",
      "Revenue -4353.299999999999\n",
      "****************************************************************************************************\n",
      "41650 0 480 0\n",
      "0 41650 0 480\n",
      "41650 0 480 0\n",
      "41650 0 480 0\n"
     ]
    },
    {
     "name": "stderr",
     "output_type": "stream",
     "text": [
      "\r",
      " 66%|██████▋   | 6630/10000 [04:39<02:22, 23.69it/s]"
     ]
    },
    {
     "name": "stdout",
     "output_type": "stream",
     "text": [
      "41650 0 480 0\n",
      "41650 0 480 0\n",
      "8490 33160 55 425\n",
      "Number of treatment 8490\n",
      "Revenue -4973.5\n",
      "****************************************************************************************************\n",
      "41650 0 480 0\n",
      "41650 0 480 0\n"
     ]
    },
    {
     "name": "stderr",
     "output_type": "stream",
     "text": [
      " 66%|██████▋   | 6636/10000 [04:40<02:24, 23.29it/s]"
     ]
    },
    {
     "name": "stdout",
     "output_type": "stream",
     "text": [
      "41650 0 480 0\n",
      "41650 0 480 0\n",
      "41650 0 480 0\n",
      "41650 0 480 0\n",
      "41650 0 480 0\n"
     ]
    },
    {
     "name": "stderr",
     "output_type": "stream",
     "text": [
      " 66%|██████▋   | 6642/10000 [04:40<02:33, 21.89it/s]"
     ]
    },
    {
     "name": "stdout",
     "output_type": "stream",
     "text": [
      "41650 0 480 0\n",
      "37234 4416 402 78\n",
      "Number of treatment 37234\n",
      "Revenue -2345.0999999999995\n",
      "****************************************************************************************************\n",
      "41650 0 480 0\n",
      "41650 0 480 0\n",
      "41650 0 480 0\n"
     ]
    },
    {
     "name": "stderr",
     "output_type": "stream",
     "text": [
      "\r",
      " 66%|██████▋   | 6645/10000 [04:40<02:31, 22.19it/s]"
     ]
    },
    {
     "name": "stdout",
     "output_type": "stream",
     "text": [
      "41620 30 480 0\n",
      "41650 0 480 0\n",
      "41650 0 480 0\n",
      "41650 0 480 0\n",
      "41650 0 480 0\n"
     ]
    },
    {
     "name": "stderr",
     "output_type": "stream",
     "text": [
      " 67%|██████▋   | 6651/10000 [04:40<02:25, 23.07it/s]"
     ]
    },
    {
     "name": "stdout",
     "output_type": "stream",
     "text": [
      "41650 0 480 0\n",
      "41650 0 480 0\n",
      "41650 0 480 0\n",
      "41650 0 480 0\n",
      "41650 0 480 0\n"
     ]
    },
    {
     "name": "stderr",
     "output_type": "stream",
     "text": [
      " 67%|██████▋   | 6657/10000 [04:40<02:20, 23.86it/s]"
     ]
    },
    {
     "name": "stdout",
     "output_type": "stream",
     "text": [
      "41650 0 480 0\n",
      "39785 1865 452 28\n",
      "Number of treatment 39785\n",
      "Revenue -1727.75\n",
      "****************************************************************************************************\n",
      "41650 0 480 0\n",
      "41650 0 480 0\n",
      "41650 0 480 0\n"
     ]
    },
    {
     "name": "stderr",
     "output_type": "stream",
     "text": [
      "\r",
      " 67%|██████▋   | 6660/10000 [04:41<02:22, 23.50it/s]"
     ]
    },
    {
     "name": "stdout",
     "output_type": "stream",
     "text": [
      "41650 0 480 0\n",
      "41650 0 480 0\n",
      "41650 0 480 0\n",
      "41650 0 480 0\n",
      "41650 0 480 0\n"
     ]
    },
    {
     "name": "stderr",
     "output_type": "stream",
     "text": [
      " 67%|██████▋   | 6666/10000 [04:41<02:20, 23.67it/s]"
     ]
    },
    {
     "name": "stdout",
     "output_type": "stream",
     "text": [
      "32751 8899 333 147\n",
      "Number of treatment 32751\n",
      "Revenue -3052.6499999999996\n",
      "****************************************************************************************************\n",
      "41650 0 480 0\n",
      "41650 0 480 0\n",
      "41650 0 480 0\n",
      "41650 0 480 0\n"
     ]
    },
    {
     "name": "stderr",
     "output_type": "stream",
     "text": [
      " 67%|██████▋   | 6672/10000 [04:41<02:20, 23.65it/s]"
     ]
    },
    {
     "name": "stdout",
     "output_type": "stream",
     "text": [
      "41650 0 480 0\n",
      "0 41650 0 480\n",
      "41650 0 480 0\n",
      "41650 0 480 0\n",
      "41650 0 480 0\n"
     ]
    },
    {
     "name": "stderr",
     "output_type": "stream",
     "text": [
      " 67%|██████▋   | 6678/10000 [04:41<02:16, 24.42it/s]"
     ]
    },
    {
     "name": "stdout",
     "output_type": "stream",
     "text": [
      "41650 0 480 0\n",
      "41650 0 480 0\n",
      "41650 0 480 0\n",
      "0 41650 0 480\n",
      "41650 0 480 0\n",
      "41650 0 480 0\n"
     ]
    },
    {
     "name": "stderr",
     "output_type": "stream",
     "text": [
      " 67%|██████▋   | 6684/10000 [04:42<02:13, 24.85it/s]"
     ]
    },
    {
     "name": "stdout",
     "output_type": "stream",
     "text": [
      "41650 0 480 0\n",
      "41650 0 480 0\n",
      "41650 0 480 0\n",
      "19395 22255 157 323\n",
      "Number of treatment 19395\n",
      "Revenue -4569.25\n",
      "****************************************************************************************************\n",
      "39848 1802 454 26\n",
      "Number of treatment 39848\n",
      "Revenue -1697.1999999999998\n",
      "****************************************************************************************************\n",
      "0 41650 0 480\n"
     ]
    },
    {
     "name": "stderr",
     "output_type": "stream",
     "text": [
      " 67%|██████▋   | 6690/10000 [04:42<02:11, 25.26it/s]"
     ]
    },
    {
     "name": "stdout",
     "output_type": "stream",
     "text": [
      "41650 0 480 0\n",
      "41650 0 480 0\n",
      "41650 0 480 0\n",
      "41650 0 480 0\n",
      "41650 0 480 0\n",
      "41650 0 480 0\n"
     ]
    },
    {
     "name": "stderr",
     "output_type": "stream",
     "text": [
      "\r",
      " 67%|██████▋   | 6693/10000 [04:42<02:12, 24.94it/s]"
     ]
    },
    {
     "name": "stdout",
     "output_type": "stream",
     "text": [
      "41650 0 480 0\n",
      "41650 0 480 0\n",
      "41650 0 480 0\n",
      "41650 0 480 0\n",
      "41650 0 480 0\n"
     ]
    },
    {
     "name": "stderr",
     "output_type": "stream",
     "text": [
      " 67%|██████▋   | 6699/10000 [04:42<02:17, 24.04it/s]"
     ]
    },
    {
     "name": "stdout",
     "output_type": "stream",
     "text": [
      "41650 0 480 0\n",
      "41629 21 480 0\n",
      "36979 4671 400 80\n",
      "Number of treatment 36979\n",
      "Revenue -2346.8499999999995\n",
      "****************************************************************************************************\n",
      "41650 0 480 0\n",
      "41650 0 480 0\n"
     ]
    },
    {
     "name": "stderr",
     "output_type": "stream",
     "text": [
      " 67%|██████▋   | 6705/10000 [04:42<02:24, 22.79it/s]"
     ]
    },
    {
     "name": "stdout",
     "output_type": "stream",
     "text": [
      "41650 0 480 0\n",
      "41650 0 480 0\n",
      "41650 0 480 0\n",
      "41650 0 480 0\n",
      "41650 0 480 0\n"
     ]
    },
    {
     "name": "stderr",
     "output_type": "stream",
     "text": [
      "\r",
      " 67%|██████▋   | 6708/10000 [04:43<02:30, 21.93it/s]"
     ]
    },
    {
     "name": "stdout",
     "output_type": "stream",
     "text": [
      "41650 0 480 0\n",
      "41650 0 480 0\n",
      "41650 0 480 0\n",
      "41650 0 480 0\n",
      "41650 0 480 0\n"
     ]
    },
    {
     "name": "stderr",
     "output_type": "stream",
     "text": [
      " 67%|██████▋   | 6714/10000 [04:43<02:28, 22.17it/s]"
     ]
    },
    {
     "name": "stdout",
     "output_type": "stream",
     "text": [
      "41650 0 480 0\n",
      "41650 0 480 0\n",
      "41650 0 480 0\n",
      "13439 28211 77 403\n",
      "Number of treatment 13439\n",
      "Revenue -5275.85\n",
      "****************************************************************************************************\n",
      "41650 0 480 0\n"
     ]
    },
    {
     "name": "stderr",
     "output_type": "stream",
     "text": [
      " 67%|██████▋   | 6720/10000 [04:43<02:18, 23.70it/s]"
     ]
    },
    {
     "name": "stdout",
     "output_type": "stream",
     "text": [
      "41650 0 480 0\n",
      "41650 0 480 0\n",
      "41650 0 480 0\n",
      "41650 0 480 0\n",
      "41650 0 480 0\n",
      "41650 0 480 0\n"
     ]
    },
    {
     "name": "stderr",
     "output_type": "stream",
     "text": [
      " 67%|██████▋   | 6726/10000 [04:43<02:11, 24.92it/s]"
     ]
    },
    {
     "name": "stdout",
     "output_type": "stream",
     "text": [
      "37329 4321 403 77\n",
      "Number of treatment 37329\n",
      "Revenue -2339.3499999999995\n",
      "****************************************************************************************************\n",
      "41650 0 480 0\n",
      "41650 0 480 0\n",
      "41650 0 480 0\n",
      "41650 0 480 0\n",
      "41650 0 480 0\n"
     ]
    },
    {
     "name": "stderr",
     "output_type": "stream",
     "text": [
      " 67%|██████▋   | 6732/10000 [04:44<02:09, 25.21it/s]"
     ]
    },
    {
     "name": "stdout",
     "output_type": "stream",
     "text": [
      "41650 0 480 0\n",
      "41650 0 480 0\n",
      "41650 0 480 0\n",
      "41650 0 480 0\n",
      "41650 0 480 0\n",
      "41650 0 480 0\n"
     ]
    },
    {
     "name": "stderr",
     "output_type": "stream",
     "text": [
      " 67%|██████▋   | 6738/10000 [04:44<02:08, 25.30it/s]"
     ]
    },
    {
     "name": "stdout",
     "output_type": "stream",
     "text": [
      "41650 0 480 0\n",
      "0 41650 0 480\n",
      "0 41650 0 480\n",
      "41650 0 480 0\n",
      "41650 0 480 0\n",
      "26217 15433 236 244\n",
      "Number of treatment 26217\n",
      "Revenue -4012.5499999999997\n",
      "****************************************************************************************************\n"
     ]
    },
    {
     "name": "stderr",
     "output_type": "stream",
     "text": [
      " 67%|██████▋   | 6744/10000 [04:44<02:08, 25.40it/s]"
     ]
    },
    {
     "name": "stdout",
     "output_type": "stream",
     "text": [
      "0 41650 0 480\n",
      "41650 0 480 0\n",
      "41650 0 480 0\n",
      "13458 28192 77 403\n",
      "Number of treatment 13458\n",
      "Revenue -5278.7\n",
      "****************************************************************************************************\n",
      "41650 0 480 0\n",
      "41650 0 480 0\n"
     ]
    },
    {
     "name": "stderr",
     "output_type": "stream",
     "text": [
      " 68%|██████▊   | 6750/10000 [04:44<02:15, 24.04it/s]"
     ]
    },
    {
     "name": "stdout",
     "output_type": "stream",
     "text": [
      "658 40992 5 475\n",
      "Number of treatment 658\n",
      "Revenue -4798.7\n",
      "****************************************************************************************************\n",
      "41650 0 480 0\n",
      "41650 0 480 0\n",
      "41650 0 480 0\n",
      "41650 0 480 0\n"
     ]
    },
    {
     "name": "stderr",
     "output_type": "stream",
     "text": [
      "\r",
      " 68%|██████▊   | 6753/10000 [04:44<02:12, 24.50it/s]"
     ]
    },
    {
     "name": "stdout",
     "output_type": "stream",
     "text": [
      "181 41469 3 477\n",
      "Number of treatment 181\n",
      "Revenue -4767.15\n",
      "****************************************************************************************************\n",
      "0 41650 0 480\n",
      "41650 0 480 0\n",
      "41650 0 480 0\n",
      "8788 32862 56 424\n",
      "Number of treatment 8788\n",
      "Revenue -4998.2\n",
      "****************************************************************************************************\n"
     ]
    },
    {
     "name": "stderr",
     "output_type": "stream",
     "text": [
      " 68%|██████▊   | 6759/10000 [04:45<02:12, 24.38it/s]"
     ]
    },
    {
     "name": "stdout",
     "output_type": "stream",
     "text": [
      "41650 0 480 0\n",
      "0 41650 0 480\n",
      "41650 0 480 0\n",
      "41650 0 480 0\n",
      "41650 0 480 0\n"
     ]
    },
    {
     "name": "stderr",
     "output_type": "stream",
     "text": [
      " 68%|██████▊   | 6765/10000 [04:45<02:11, 24.60it/s]"
     ]
    },
    {
     "name": "stdout",
     "output_type": "stream",
     "text": [
      "41650 0 480 0\n",
      "41650 0 480 0\n",
      "41650 0 480 0\n",
      "41650 0 480 0\n",
      "0 41650 0 480\n",
      "41650 0 480 0\n"
     ]
    },
    {
     "name": "stderr",
     "output_type": "stream",
     "text": [
      " 68%|██████▊   | 6771/10000 [04:45<02:17, 23.49it/s]"
     ]
    },
    {
     "name": "stdout",
     "output_type": "stream",
     "text": [
      "41650 0 480 0\n",
      "41650 0 480 0\n",
      "41650 0 480 0\n",
      "0 41650 0 480\n",
      "39583 2067 449 31\n",
      "Number of treatment 39583\n",
      "Revenue -1757.4499999999998\n",
      "****************************************************************************************************\n"
     ]
    },
    {
     "name": "stderr",
     "output_type": "stream",
     "text": [
      "\r",
      " 68%|██████▊   | 6774/10000 [04:45<02:22, 22.71it/s]"
     ]
    },
    {
     "name": "stdout",
     "output_type": "stream",
     "text": [
      "41650 0 480 0\n",
      "41650 0 480 0\n",
      "9671 31979 57 423\n",
      "Number of treatment 9671\n",
      "Revenue -5110.65\n",
      "****************************************************************************************************\n",
      "41650 0 480 0\n",
      "1604 40046 14 466\n",
      "Number of treatment 1604\n",
      "Revenue -4760.6\n",
      "****************************************************************************************************\n"
     ]
    },
    {
     "name": "stderr",
     "output_type": "stream",
     "text": [
      " 68%|██████▊   | 6780/10000 [04:46<02:13, 24.06it/s]"
     ]
    },
    {
     "name": "stdout",
     "output_type": "stream",
     "text": [
      "41650 0 480 0\n",
      "41650 0 480 0\n",
      "41650 0 480 0\n",
      "41650 0 480 0\n",
      "0 41650 0 480\n",
      "41650 0 480 0\n"
     ]
    },
    {
     "name": "stderr",
     "output_type": "stream",
     "text": [
      " 68%|██████▊   | 6786/10000 [04:46<02:10, 24.68it/s]"
     ]
    },
    {
     "name": "stdout",
     "output_type": "stream",
     "text": [
      "41650 0 480 0\n",
      "41650 0 480 0\n",
      "41650 0 480 0\n",
      "41650 0 480 0\n",
      "41650 0 480 0\n",
      "41650 0 480 0\n"
     ]
    },
    {
     "name": "stderr",
     "output_type": "stream",
     "text": [
      " 68%|██████▊   | 6792/10000 [04:46<02:10, 24.59it/s]"
     ]
    },
    {
     "name": "stdout",
     "output_type": "stream",
     "text": [
      "41650 0 480 0\n",
      "41650 0 480 0\n",
      "41650 0 480 0\n",
      "38456 3194 427 53\n",
      "Number of treatment 38456\n",
      "Revenue -2028.3999999999996\n",
      "****************************************************************************************************\n",
      "41650 0 480 0\n"
     ]
    },
    {
     "name": "stderr",
     "output_type": "stream",
     "text": [
      " 68%|██████▊   | 6798/10000 [04:46<02:15, 23.69it/s]"
     ]
    },
    {
     "name": "stdout",
     "output_type": "stream",
     "text": [
      "41650 0 480 0\n",
      "41650 0 480 0\n",
      "41650 0 480 0\n",
      "41650 0 480 0\n",
      "41650 0 480 0\n"
     ]
    },
    {
     "name": "stderr",
     "output_type": "stream",
     "text": [
      " 68%|██████▊   | 6804/10000 [04:47<02:11, 24.28it/s]"
     ]
    },
    {
     "name": "stdout",
     "output_type": "stream",
     "text": [
      "41650 0 480 0\n",
      "0 41650 0 480\n",
      "41650 0 480 0\n",
      "41650 0 480 0\n",
      "41650 0 480 0\n",
      "41650 0 480 0\n"
     ]
    },
    {
     "name": "stderr",
     "output_type": "stream",
     "text": [
      "\r",
      " 68%|██████▊   | 6807/10000 [04:47<02:14, 23.73it/s]"
     ]
    },
    {
     "name": "stdout",
     "output_type": "stream",
     "text": [
      "41650 0 480 0\n",
      "0 41650 0 480\n",
      "41650 0 480 0\n",
      "41650 0 480 0\n",
      "41650 0 480 0\n"
     ]
    },
    {
     "name": "stderr",
     "output_type": "stream",
     "text": [
      " 68%|██████▊   | 6813/10000 [04:47<02:19, 22.79it/s]"
     ]
    },
    {
     "name": "stdout",
     "output_type": "stream",
     "text": [
      "41650 0 480 0\n",
      "41650 0 480 0\n",
      "10415 31235 58 422\n",
      "Number of treatment 10415\n",
      "Revenue -5202.25\n",
      "****************************************************************************************************\n",
      "41650 0 480 0\n",
      "41650 0 480 0\n"
     ]
    },
    {
     "name": "stderr",
     "output_type": "stream",
     "text": [
      " 68%|██████▊   | 6819/10000 [04:47<02:12, 24.09it/s]"
     ]
    },
    {
     "name": "stdout",
     "output_type": "stream",
     "text": [
      "41650 0 480 0\n",
      "41650 0 480 0\n",
      "41650 0 480 0\n",
      "41637 13 480 0\n",
      "41650 0 480 0\n",
      "0 41650 0 480\n"
     ]
    },
    {
     "name": "stderr",
     "output_type": "stream",
     "text": [
      " 68%|██████▊   | 6825/10000 [04:47<02:14, 23.53it/s]"
     ]
    },
    {
     "name": "stdout",
     "output_type": "stream",
     "text": [
      "41650 0 480 0\n",
      "41644 6 480 0\n",
      "0 41650 0 480\n",
      "41650 0 480 0\n",
      "41650 0 480 0\n"
     ]
    },
    {
     "name": "stderr",
     "output_type": "stream",
     "text": [
      "\r",
      " 68%|██████▊   | 6828/10000 [04:48<02:15, 23.39it/s]"
     ]
    },
    {
     "name": "stdout",
     "output_type": "stream",
     "text": [
      "41650 0 480 0\n",
      "41650 0 480 0\n",
      "41650 0 480 0\n",
      "41650 0 480 0\n",
      "41650 0 480 0\n"
     ]
    },
    {
     "name": "stderr",
     "output_type": "stream",
     "text": [
      " 68%|██████▊   | 6834/10000 [04:48<02:12, 23.82it/s]"
     ]
    },
    {
     "name": "stdout",
     "output_type": "stream",
     "text": [
      "41650 0 480 0\n",
      "41650 0 480 0\n",
      "41650 0 480 0\n",
      "41448 202 478 2\n",
      "32403 9247 328 152\n",
      "Number of treatment 32403\n",
      "Revenue -3100.45\n",
      "****************************************************************************************************\n"
     ]
    },
    {
     "name": "stderr",
     "output_type": "stream",
     "text": [
      " 68%|██████▊   | 6840/10000 [04:48<02:11, 24.07it/s]"
     ]
    },
    {
     "name": "stdout",
     "output_type": "stream",
     "text": [
      "41650 0 480 0\n",
      "41650 0 480 0\n",
      "0 41650 0 480\n",
      "41650 0 480 0\n",
      "41650 0 480 0\n"
     ]
    },
    {
     "name": "stderr",
     "output_type": "stream",
     "text": [
      "\r",
      " 68%|██████▊   | 6843/10000 [04:48<02:12, 23.81it/s]"
     ]
    },
    {
     "name": "stdout",
     "output_type": "stream",
     "text": [
      "41650 0 480 0\n",
      "41650 0 480 0\n",
      "41650 0 480 0\n",
      "41650 0 480 0\n",
      "41650 0 480 0\n"
     ]
    },
    {
     "name": "stderr",
     "output_type": "stream",
     "text": [
      " 68%|██████▊   | 6849/10000 [04:48<02:13, 23.67it/s]"
     ]
    },
    {
     "name": "stdout",
     "output_type": "stream",
     "text": [
      "41650 0 480 0\n",
      "41650 0 480 0\n",
      "41650 0 480 0\n",
      "41650 0 480 0\n",
      "41650 0 480 0\n"
     ]
    },
    {
     "name": "stderr",
     "output_type": "stream",
     "text": [
      " 69%|██████▊   | 6855/10000 [04:49<02:15, 23.29it/s]"
     ]
    },
    {
     "name": "stdout",
     "output_type": "stream",
     "text": [
      "41650 0 480 0\n",
      "41650 0 480 0\n",
      "29581 12069 287 193\n",
      "Number of treatment 29581\n",
      "Revenue -3497.1499999999996\n",
      "****************************************************************************************************\n",
      "14993 26657 95 385\n",
      "Number of treatment 14993\n",
      "Revenue -5148.95\n",
      "****************************************************************************************************\n",
      "41650 0 480 0\n"
     ]
    },
    {
     "name": "stderr",
     "output_type": "stream",
     "text": [
      "\r",
      " 69%|██████▊   | 6858/10000 [04:49<02:19, 22.56it/s]"
     ]
    },
    {
     "name": "stdout",
     "output_type": "stream",
     "text": [
      "41650 0 480 0\n",
      "0 41650 0 480\n",
      "41650 0 480 0\n",
      "41650 0 480 0\n",
      "41650 0 480 0\n"
     ]
    },
    {
     "name": "stderr",
     "output_type": "stream",
     "text": [
      " 69%|██████▊   | 6864/10000 [04:49<02:24, 21.63it/s]"
     ]
    },
    {
     "name": "stdout",
     "output_type": "stream",
     "text": [
      "13230 28420 76 404\n",
      "Number of treatment 13230\n",
      "Revenue -5264.5\n",
      "****************************************************************************************************\n",
      "41650 0 480 0\n",
      "41650 0 480 0\n",
      "29603 12047 287 193\n",
      "Number of treatment 29603\n",
      "Revenue -3500.45\n",
      "****************************************************************************************************\n",
      "41650 0 480 0\n"
     ]
    },
    {
     "name": "stderr",
     "output_type": "stream",
     "text": [
      " 69%|██████▊   | 6870/10000 [04:49<02:22, 21.97it/s]"
     ]
    },
    {
     "name": "stdout",
     "output_type": "stream",
     "text": [
      "40644 1006 467 13\n",
      "Number of treatment 40644\n",
      "Revenue -1556.5999999999995\n",
      "****************************************************************************************************\n",
      "41650 0 480 0\n",
      "41650 0 480 0\n",
      "41650 0 480 0\n",
      "37545 4105 405 75\n",
      "Number of treatment 37545\n",
      "Revenue -2331.75\n",
      "****************************************************************************************************\n"
     ]
    },
    {
     "name": "stderr",
     "output_type": "stream",
     "text": [
      "\r",
      " 69%|██████▊   | 6873/10000 [04:50<02:23, 21.78it/s]"
     ]
    },
    {
     "name": "stdout",
     "output_type": "stream",
     "text": [
      "41650 0 480 0\n",
      "41650 0 480 0\n",
      "12126 29524 70 410\n",
      "Number of treatment 12126\n",
      "Revenue -5218.9\n",
      "****************************************************************************************************\n",
      "41650 0 480 0\n",
      "41650 0 480 0\n"
     ]
    },
    {
     "name": "stderr",
     "output_type": "stream",
     "text": [
      " 69%|██████▉   | 6879/10000 [04:50<02:22, 21.96it/s]"
     ]
    },
    {
     "name": "stdout",
     "output_type": "stream",
     "text": [
      "41650 0 480 0\n",
      "41650 0 480 0\n",
      "41650 0 480 0\n",
      "0 41650 0 480\n",
      "41582 68 480 0\n",
      "Number of treatment 41582\n",
      "Revenue -1437.3000000000002\n",
      "****************************************************************************************************\n"
     ]
    },
    {
     "name": "stderr",
     "output_type": "stream",
     "text": [
      " 69%|██████▉   | 6885/10000 [04:50<02:15, 22.93it/s]"
     ]
    },
    {
     "name": "stdout",
     "output_type": "stream",
     "text": [
      "41650 0 480 0\n",
      "0 41650 0 480\n",
      "41650 0 480 0\n",
      "41650 0 480 0\n",
      "41650 0 480 0\n"
     ]
    },
    {
     "name": "stderr",
     "output_type": "stream",
     "text": [
      " 69%|██████▉   | 6891/10000 [04:50<02:10, 23.83it/s]"
     ]
    },
    {
     "name": "stdout",
     "output_type": "stream",
     "text": [
      "38613 3037 429 51\n",
      "Number of treatment 38613\n",
      "Revenue -2011.9499999999998\n",
      "****************************************************************************************************\n",
      "41650 0 480 0\n",
      "41650 0 480 0\n",
      "41650 0 480 0\n",
      "41650 0 480 0\n",
      "8424 33226 55 425\n",
      "Number of treatment 8424\n",
      "Revenue -4963.6\n",
      "****************************************************************************************************\n"
     ]
    },
    {
     "name": "stderr",
     "output_type": "stream",
     "text": [
      "\r",
      " 69%|██████▉   | 6894/10000 [04:50<02:11, 23.55it/s]"
     ]
    },
    {
     "name": "stdout",
     "output_type": "stream",
     "text": [
      "41650 0 480 0\n",
      "6049 35601 40 440\n",
      "Number of treatment 6049\n",
      "Revenue -4907.35\n",
      "****************************************************************************************************\n",
      "13750 27900 80 400\n",
      "Number of treatment 13750\n",
      "Revenue -5262.5\n",
      "****************************************************************************************************\n",
      "41650 0 480 0\n",
      "41249 401 474 6\n"
     ]
    },
    {
     "name": "stderr",
     "output_type": "stream",
     "text": [
      " 69%|██████▉   | 6900/10000 [04:51<02:09, 24.03it/s]"
     ]
    },
    {
     "name": "stdout",
     "output_type": "stream",
     "text": [
      "41650 0 480 0\n",
      "41650 0 480 0\n",
      "41650 0 480 0\n",
      "9 41641 0 480\n",
      "Number of treatment 9\n",
      "Revenue -4801.35\n",
      "****************************************************************************************************\n",
      "41582 68 480 0\n",
      "41650"
     ]
    },
    {
     "name": "stderr",
     "output_type": "stream",
     "text": [
      " 69%|██████▉   | 6906/10000 [04:51<02:10, 23.64it/s]"
     ]
    },
    {
     "name": "stdout",
     "output_type": "stream",
     "text": [
      " 0 480 0\n",
      "41650 0 480 0\n",
      "41650 0 480 0\n",
      "0 41650 0 480\n",
      "41650 0 480 0\n"
     ]
    },
    {
     "name": "stderr",
     "output_type": "stream",
     "text": [
      " 69%|██████▉   | 6912/10000 [04:51<02:11, 23.57it/s]"
     ]
    },
    {
     "name": "stdout",
     "output_type": "stream",
     "text": [
      "13041 28609 75 405\n",
      "Number of treatment 13041\n",
      "Revenue -5256.15\n",
      "****************************************************************************************************\n",
      "41650 0 480 0\n",
      "0 41650 0 480\n",
      "38636 3014 429 51\n",
      "Number of treatment 38636\n",
      "Revenue -2015.3999999999996\n",
      "****************************************************************************************************\n",
      "41650 0 480 0\n",
      "41650 0 480 0\n"
     ]
    },
    {
     "name": "stderr",
     "output_type": "stream",
     "text": [
      " 69%|██████▉   | 6918/10000 [04:51<02:05, 24.51it/s]"
     ]
    },
    {
     "name": "stdout",
     "output_type": "stream",
     "text": [
      "41650 0 480 0\n",
      "41650 0 480 0\n",
      "41650 0 480 0\n",
      "0 41650 0 480\n",
      "41650 0 480 0\n",
      "41650 0 480 0\n"
     ]
    },
    {
     "name": "stderr",
     "output_type": "stream",
     "text": [
      " 69%|██████▉   | 6924/10000 [04:52<02:02, 25.06it/s]"
     ]
    },
    {
     "name": "stdout",
     "output_type": "stream",
     "text": [
      "41650 0 480 0\n",
      "41650 0 480 0\n",
      "41650 0 480 0\n",
      "41650 0 480 0\n",
      "0 41650 0 480\n",
      "41650 0 480 0\n"
     ]
    },
    {
     "name": "stderr",
     "output_type": "stream",
     "text": [
      " 69%|██████▉   | 6930/10000 [04:52<02:00, 25.50it/s]"
     ]
    },
    {
     "name": "stdout",
     "output_type": "stream",
     "text": [
      "41650 0 480 0\n",
      "41650 0 480 0\n",
      "41650 0 480 0\n",
      "41650 0 480 0\n",
      "41650 0 480 0\n",
      "41650 0 480 0\n"
     ]
    },
    {
     "name": "stderr",
     "output_type": "stream",
     "text": [
      "\r",
      " 69%|██████▉   | 6933/10000 [04:52<02:01, 25.30it/s]"
     ]
    },
    {
     "name": "stdout",
     "output_type": "stream",
     "text": [
      "41650 0 480 0\n",
      "41650 0 480 0\n",
      "41650 0 480 0\n",
      "41650 0 480 0\n",
      "41650 0 480 0\n"
     ]
    },
    {
     "name": "stderr",
     "output_type": "stream",
     "text": [
      " 69%|██████▉   | 6939/10000 [04:52<02:07, 24.05it/s]"
     ]
    },
    {
     "name": "stdout",
     "output_type": "stream",
     "text": [
      "41650 0 480 0\n",
      "41650 0 480 0\n",
      "41650 0 480 0\n",
      "41650 0 480 0\n",
      "41650 0 480 0\n"
     ]
    },
    {
     "name": "stderr",
     "output_type": "stream",
     "text": [
      " 69%|██████▉   | 6945/10000 [04:53<02:02, 24.87it/s]"
     ]
    },
    {
     "name": "stdout",
     "output_type": "stream",
     "text": [
      "41650 0 480 0\n",
      "41650 0 480 0\n",
      "12513 29137 73 407\n",
      "41650 0 480 0\n",
      "41650 0 480 0\n",
      "41650 0 480 0\n"
     ]
    },
    {
     "name": "stderr",
     "output_type": "stream",
     "text": [
      " 70%|██████▉   | 6951/10000 [04:53<02:04, 24.48it/s]"
     ]
    },
    {
     "name": "stdout",
     "output_type": "stream",
     "text": [
      "41621 29 480 0\n",
      "1103 40547 9 471\n",
      "Number of treatment 1103\n",
      "Revenue -4785.45\n",
      "****************************************************************************************************\n",
      "0 41650 0 480\n",
      "41650 0 480 0\n",
      "15948 25702 109 371\n",
      "Number of treatment 15948\n",
      "Revenue -5012.2\n",
      "****************************************************************************************************\n"
     ]
    },
    {
     "name": "stderr",
     "output_type": "stream",
     "text": [
      "\r",
      " 70%|██████▉   | 6954/10000 [04:53<02:08, 23.67it/s]"
     ]
    },
    {
     "name": "stdout",
     "output_type": "stream",
     "text": [
      "41650 0 480 0\n",
      "38311 3339 423 57\n",
      "Number of treatment 38311\n",
      "Revenue -2086.6499999999996\n",
      "****************************************************************************************************\n",
      "41650 0 480 0\n",
      "41650 0 480 0\n",
      "41650 0 480 0\n"
     ]
    },
    {
     "name": "stderr",
     "output_type": "stream",
     "text": [
      " 70%|██████▉   | 6960/10000 [04:53<02:05, 24.25it/s]"
     ]
    },
    {
     "name": "stdout",
     "output_type": "stream",
     "text": [
      "41650 0 480 0\n",
      "41650 0 480 0\n",
      "41650 0 480 0\n",
      "41650 0 480 0\n",
      "14472 27178 91 389\n",
      "Number of treatment 14472\n",
      "Revenue -5150.799999999999\n",
      "****************************************************************************************************\n",
      "41650 0 480 0\n"
     ]
    },
    {
     "name": "stderr",
     "output_type": "stream",
     "text": [
      " 70%|██████▉   | 6966/10000 [04:53<02:02, 24.67it/s]"
     ]
    },
    {
     "name": "stdout",
     "output_type": "stream",
     "text": [
      "41650 0 480 0\n",
      "41650 0 480 0\n",
      "41650 0 480 0\n",
      "0 41650 0 480\n",
      "41650 0 480 0\n",
      "41650 0 480 0\n"
     ]
    },
    {
     "name": "stderr",
     "output_type": "stream",
     "text": [
      " 70%|██████▉   | 6972/10000 [04:54<02:06, 23.98it/s]"
     ]
    },
    {
     "name": "stdout",
     "output_type": "stream",
     "text": [
      "41650 0 480 0\n",
      "37448 4202 404 76\n",
      "Number of treatment 37448\n",
      "Revenue -2337.2\n",
      "****************************************************************************************************\n",
      "41650 0 480 0\n",
      "41650 0 480 0\n",
      "41650 0 480 0\n"
     ]
    },
    {
     "name": "stderr",
     "output_type": "stream",
     "text": [
      " 70%|██████▉   | 6978/10000 [04:54<02:07, 23.74it/s]"
     ]
    },
    {
     "name": "stdout",
     "output_type": "stream",
     "text": [
      "41650 0 480 0\n",
      "41650 0 480 0\n",
      "41650 0 480 0\n",
      "41650 0 480 0\n",
      "0 41650 0 480\n"
     ]
    },
    {
     "name": "stderr",
     "output_type": "stream",
     "text": [
      "\r",
      " 70%|██████▉   | 6981/10000 [04:54<02:05, 24.15it/s]"
     ]
    },
    {
     "name": "stdout",
     "output_type": "stream",
     "text": [
      "5600 36050 40 440\n",
      "Number of treatment 5600\n",
      "Revenue -4840.0\n",
      "****************************************************************************************************\n",
      "23 41627 0 480\n",
      "Number of treatment 23\n",
      "Revenue -4803.45\n",
      "****************************************************************************************************\n",
      "35688 5962 378 102\n",
      "Number of treatment 35688\n",
      "Revenue -2593.2\n",
      "****************************************************************************************************\n",
      "5582 36068 40 440\n",
      "Number of treatment 5582\n",
      "Revenue -4837.3\n",
      "****************************************************************************************************\n",
      "41650 0 480 0\n"
     ]
    },
    {
     "name": "stderr",
     "output_type": "stream",
     "text": [
      " 70%|██████▉   | 6987/10000 [04:54<02:02, 24.67it/s]"
     ]
    },
    {
     "name": "stdout",
     "output_type": "stream",
     "text": [
      "41650 0 480 0\n",
      "41650 0 480 0\n",
      "41650 0 480 0\n",
      "41650 0 480 0\n",
      "431 41219 5 475\n",
      "Number of treatment 431\n",
      "Revenue -4764.65\n",
      "****************************************************************************************************\n",
      "0 41650 0 480\n"
     ]
    },
    {
     "name": "stderr",
     "output_type": "stream",
     "text": [
      " 70%|██████▉   | 6993/10000 [04:55<01:59, 25.08it/s]"
     ]
    },
    {
     "name": "stdout",
     "output_type": "stream",
     "text": [
      "41650 0 480 0\n",
      "41650 0 480 0\n",
      "41650 0 480 0\n",
      "0 41650 0 480\n",
      "41650 0 480 0\n",
      "41650 0 480 0\n"
     ]
    },
    {
     "name": "stderr",
     "output_type": "stream",
     "text": [
      " 70%|██████▉   | 6999/10000 [04:55<02:04, 24.20it/s]"
     ]
    },
    {
     "name": "stdout",
     "output_type": "stream",
     "text": [
      "41650 0 480 0\n",
      "41650 0 480 0\n",
      "41650 0 480 0\n",
      "41650 0 480 0\n",
      "41650 0 480 0\n"
     ]
    },
    {
     "name": "stderr",
     "output_type": "stream",
     "text": [
      " 70%|███████   | 7005/10000 [04:55<02:01, 24.59it/s]"
     ]
    },
    {
     "name": "stdout",
     "output_type": "stream",
     "text": [
      "41650 0 480 0\n",
      "41650 0 480 0\n",
      "11341 30309 66 414\n",
      "Number of treatment 11341\n",
      "Revenue -5181.15\n",
      "****************************************************************************************************\n",
      "41650 0 480 0\n",
      "41650 0 480 0\n",
      "41650 0 480 0\n"
     ]
    },
    {
     "name": "stderr",
     "output_type": "stream",
     "text": [
      " 70%|███████   | 7011/10000 [04:55<02:03, 24.17it/s]"
     ]
    },
    {
     "name": "stdout",
     "output_type": "stream",
     "text": [
      "41650 0 480 0\n",
      "0 41650 0 480\n",
      "41650 0 480 0\n",
      "41650 0 480 0\n",
      "41650 0 480 0\n"
     ]
    },
    {
     "name": "stderr",
     "output_type": "stream",
     "text": [
      "\r",
      " 70%|███████   | 7014/10000 [04:55<02:05, 23.73it/s]"
     ]
    },
    {
     "name": "stdout",
     "output_type": "stream",
     "text": [
      "41650 0 480 0\n",
      "41650 0 480 0\n",
      "41650 0 480 0\n",
      "41650 0 480 0\n",
      "41650 0 480 0\n"
     ]
    },
    {
     "name": "stderr",
     "output_type": "stream",
     "text": [
      " 70%|███████   | 7020/10000 [04:56<02:04, 23.97it/s]"
     ]
    },
    {
     "name": "stdout",
     "output_type": "stream",
     "text": [
      "41650 0 480 0\n",
      "41650 0 480 0\n",
      "41650 0 480 0\n",
      "41650 0 480 0\n",
      "41650 0 480 0\n"
     ]
    },
    {
     "name": "stderr",
     "output_type": "stream",
     "text": [
      " 70%|███████   | 7026/10000 [04:56<02:02, 24.20it/s]"
     ]
    },
    {
     "name": "stdout",
     "output_type": "stream",
     "text": [
      "41650 0 480 0\n",
      "41650 0 480 0\n",
      "41650 0 480 0\n",
      "14823 26827 94 386\n",
      "Number of treatment 14823\n",
      "Revenue -5143.45\n",
      "****************************************************************************************************\n",
      "41650 0 480 0\n",
      "41650 0 480 0\n"
     ]
    },
    {
     "name": "stderr",
     "output_type": "stream",
     "text": [
      " 70%|███████   | 7032/10000 [04:56<01:56, 25.49it/s]"
     ]
    },
    {
     "name": "stdout",
     "output_type": "stream",
     "text": [
      "41650 0 480 0\n",
      "41650 0 480 0\n",
      "41650 0 480 0\n",
      "0 41650 0 480\n",
      "41650 0 480 0\n",
      "41650 0 480 0\n"
     ]
    },
    {
     "name": "stderr",
     "output_type": "stream",
     "text": [
      " 70%|███████   | 7038/10000 [04:56<01:55, 25.59it/s]"
     ]
    },
    {
     "name": "stdout",
     "output_type": "stream",
     "text": [
      "0 41650 0 480\n",
      "0 41650 0 480\n",
      "41650 0 480 0\n",
      "41650 0 480 0\n",
      "41650 0 480 0\n"
     ]
    },
    {
     "name": "stderr",
     "output_type": "stream",
     "text": [
      " 70%|███████   | 7044/10000 [04:57<01:56, 25.27it/s]"
     ]
    },
    {
     "name": "stdout",
     "output_type": "stream",
     "text": [
      "41650 0 480 0\n",
      "41650 0 480 0\n",
      "40142 1508 461 19\n",
      "Number of treatment 40142\n",
      "Revenue -1601.3000000000002\n",
      "****************************************************************************************************\n",
      "0 41650 0 480\n",
      "0 41650 0 480\n",
      "41650 0 480 0\n"
     ]
    },
    {
     "name": "stderr",
     "output_type": "stream",
     "text": [
      " 70%|███████   | 7050/10000 [04:57<01:55, 25.46it/s]"
     ]
    },
    {
     "name": "stdout",
     "output_type": "stream",
     "text": [
      "41650 0 480 0\n",
      "41650 0 480 0\n",
      "2646 39004 20 460\n",
      "Number of treatment 2646\n",
      "Revenue -4796.9\n",
      "****************************************************************************************************\n",
      "41650 0 480 0\n",
      "41650 0 480 0\n",
      "41650 0 480 0\n"
     ]
    },
    {
     "name": "stderr",
     "output_type": "stream",
     "text": [
      "\r",
      " 71%|███████   | 7053/10000 [04:57<01:55, 25.43it/s]"
     ]
    },
    {
     "name": "stdout",
     "output_type": "stream",
     "text": [
      "41650 0 480 0\n",
      "41650 0 480 0\n",
      "41650 0 480 0\n",
      "9747 31903 57 423\n",
      "Number of treatment 9747\n",
      "Revenue -5122.05\n",
      "****************************************************************************************************\n",
      "41650 0 480 0\n"
     ]
    },
    {
     "name": "stderr",
     "output_type": "stream",
     "text": [
      " 71%|███████   | 7059/10000 [04:57<02:02, 24.08it/s]"
     ]
    },
    {
     "name": "stdout",
     "output_type": "stream",
     "text": [
      "41650 0 480 0\n",
      "18120 23530 143 337\n",
      "Number of treatment 18120\n",
      "Revenue -4658.0\n",
      "****************************************************************************************************\n",
      "41650 0 480 0\n",
      "41650 0 480 0\n",
      "34352 7298 361 119\n",
      "Number of treatment 34352\n",
      "Revenue -2732.8\n",
      "****************************************************************************************************\n"
     ]
    },
    {
     "name": "stderr",
     "output_type": "stream",
     "text": [
      " 71%|███████   | 7065/10000 [04:57<02:04, 23.66it/s]"
     ]
    },
    {
     "name": "stdout",
     "output_type": "stream",
     "text": [
      "41650 0 480 0\n",
      "41650 0 480 0\n",
      "41650 0 480 0\n",
      "41650 0 480 0\n",
      "38349 3301 423 57\n",
      "Number of treatment 38349\n",
      "Revenue -2092.3499999999995\n",
      "****************************************************************************************************\n"
     ]
    },
    {
     "name": "stderr",
     "output_type": "stream",
     "text": [
      "\r",
      " 71%|███████   | 7068/10000 [04:58<02:02, 24.02it/s]"
     ]
    },
    {
     "name": "stdout",
     "output_type": "stream",
     "text": [
      "41650 0 480 0\n",
      "41650 0 480 0\n",
      "41650 0 480 0\n",
      "40995 655 471 9\n",
      "Number of treatment 40995\n",
      "Revenue -1529.25\n",
      "****************************************************************************************************\n",
      "41650 0 480 0\n"
     ]
    },
    {
     "name": "stderr",
     "output_type": "stream",
     "text": [
      " 71%|███████   | 7074/10000 [04:58<02:04, 23.45it/s]"
     ]
    },
    {
     "name": "stdout",
     "output_type": "stream",
     "text": [
      "41650 0 480 0\n",
      "41650 0 480 0\n",
      "41650 0 480 0\n",
      "41650 0 480 0\n",
      "12980 28670 75 405\n",
      "Number of treatment 12980\n",
      "Revenue -5247.0\n",
      "****************************************************************************************************\n"
     ]
    },
    {
     "name": "stderr",
     "output_type": "stream",
     "text": [
      " 71%|███████   | 7080/10000 [04:58<02:03, 23.64it/s]"
     ]
    },
    {
     "name": "stdout",
     "output_type": "stream",
     "text": [
      "41650 0 480 0\n",
      "41650 0 480 0\n",
      "26425 15225 237 243\n",
      "Number of treatment 26425\n",
      "Revenue -4023.75\n",
      "****************************************************************************************************\n",
      "41650 0 480 0\n",
      "1201 40449 9 471\n",
      "Number of treatment 1201\n",
      "Revenue -4800.15\n",
      "****************************************************************************************************\n"
     ]
    },
    {
     "name": "stderr",
     "output_type": "stream",
     "text": [
      " 71%|███████   | 7086/10000 [04:58<01:58, 24.57it/s]"
     ]
    },
    {
     "name": "stdout",
     "output_type": "stream",
     "text": [
      "41650 0 480 0\n",
      "41650 0 480 0\n",
      "14289 27361 89 391\n",
      "Number of treatment 14289\n",
      "Revenue -5163.35\n",
      "****************************************************************************************************\n",
      "41650 0 480 0\n",
      "41650 0 480 0\n",
      "41650 0 480 0\n"
     ]
    },
    {
     "name": "stderr",
     "output_type": "stream",
     "text": [
      "\r",
      " 71%|███████   | 7089/10000 [04:58<01:59, 24.32it/s]"
     ]
    },
    {
     "name": "stdout",
     "output_type": "stream",
     "text": [
      "41650 0 480 0\n",
      "41650 0 480 0\n",
      "41650 0 480 0\n",
      "0 41650 0 480\n",
      "41650 0 480 0\n"
     ]
    },
    {
     "name": "stderr",
     "output_type": "stream",
     "text": [
      " 71%|███████   | 7095/10000 [04:59<01:58, 24.56it/s]"
     ]
    },
    {
     "name": "stdout",
     "output_type": "stream",
     "text": [
      "41650 0 480 0\n",
      "41650 0 480 0\n",
      "0 41650 0 480\n",
      "40386 1264 466 14\n",
      "Number of treatment 40386\n",
      "Revenue -1537.8999999999996\n",
      "****************************************************************************************************\n",
      "0 41650 0 480\n",
      "41650 0 480 0\n"
     ]
    },
    {
     "name": "stderr",
     "output_type": "stream",
     "text": [
      " 71%|███████   | 7101/10000 [04:59<01:59, 24.26it/s]"
     ]
    },
    {
     "name": "stdout",
     "output_type": "stream",
     "text": [
      "41650 0 480 0\n",
      "41650 0 480 0\n",
      "41650 0 480 0\n",
      "41650 0 480 0\n",
      "41650 0 480 0\n"
     ]
    },
    {
     "name": "stderr",
     "output_type": "stream",
     "text": [
      " 71%|███████   | 7107/10000 [04:59<01:58, 24.31it/s]"
     ]
    },
    {
     "name": "stdout",
     "output_type": "stream",
     "text": [
      "41650 0 480 0\n",
      "41650 0 480 0\n",
      "41650 0 480 0\n",
      "41650 0 480 0\n",
      "41650 0 480 0\n"
     ]
    },
    {
     "name": "stderr",
     "output_type": "stream",
     "text": [
      "\r",
      " 71%|███████   | 7110/10000 [04:59<02:00, 23.90it/s]"
     ]
    },
    {
     "name": "stdout",
     "output_type": "stream",
     "text": [
      "41650 0 480 0\n",
      "41650 0 480 0\n",
      "41650 0 480 0\n",
      "41650 0 480 0\n",
      "41560 90 480 0\n",
      "Number of treatment 41560\n",
      "Revenue -1434.0\n",
      "****************************************************************************************************\n"
     ]
    },
    {
     "name": "stderr",
     "output_type": "stream",
     "text": [
      " 71%|███████   | 7116/10000 [05:00<01:57, 24.50it/s]"
     ]
    },
    {
     "name": "stdout",
     "output_type": "stream",
     "text": [
      "41650 0 480 0\n",
      "41650 0 480 0\n",
      "41650 0 480 0\n",
      "41650 0 480 0\n",
      "41650 0 480 0\n",
      "12320 29330 72 408\n",
      "Number of treatment 12320\n",
      "Revenue -5208.0\n",
      "****************************************************************************************************\n"
     ]
    },
    {
     "name": "stderr",
     "output_type": "stream",
     "text": [
      " 71%|███████   | 7122/10000 [05:00<02:00, 23.91it/s]"
     ]
    },
    {
     "name": "stdout",
     "output_type": "stream",
     "text": [
      "41650 0 480 0\n",
      "41650 0 480 0\n",
      "41650 0 480 0\n",
      "41650 0 480 0\n",
      "41628 22 480 0\n",
      "Number of treatment 41628\n",
      "Revenue -1444.1999999999998\n",
      "****************************************************************************************************\n"
     ]
    },
    {
     "name": "stderr",
     "output_type": "stream",
     "text": [
      " 71%|███████▏  | 7128/10000 [05:00<01:57, 24.53it/s]"
     ]
    },
    {
     "name": "stdout",
     "output_type": "stream",
     "text": [
      "41650 0 480 0\n",
      "41650 0 480 0\n",
      "41650 0 480 0\n",
      "41650 0 480 0\n",
      "41650 0 480 0\n"
     ]
    },
    {
     "name": "stderr",
     "output_type": "stream",
     "text": [
      " 71%|███████▏  | 7134/10000 [05:00<01:54, 24.99it/s]"
     ]
    },
    {
     "name": "stdout",
     "output_type": "stream",
     "text": [
      "41650 0 480 0\n",
      "41650 0 480 0\n",
      "41650 0 480 0\n",
      "41650 0 480 0\n",
      "41650 0 480 0\n",
      "37440 4210 404 76\n",
      "Number of treatment 37440\n",
      "Revenue -2336.0\n",
      "****************************************************************************************************\n"
     ]
    },
    {
     "name": "stderr",
     "output_type": "stream",
     "text": [
      "\r",
      " 71%|███████▏  | 7137/10000 [05:00<01:57, 24.36it/s]"
     ]
    },
    {
     "name": "stdout",
     "output_type": "stream",
     "text": [
      "41650 0 480 0\n",
      "41650 0 480 0\n",
      "0 41650 0 480\n",
      "41650 0 480 0\n",
      "13394 28256 77 403\n",
      "Number of treatment 13394\n",
      "Revenue -5269.1\n",
      "****************************************************************************************************\n"
     ]
    },
    {
     "name": "stderr",
     "output_type": "stream",
     "text": [
      " 71%|███████▏  | 7143/10000 [05:01<01:54, 24.98it/s]"
     ]
    },
    {
     "name": "stdout",
     "output_type": "stream",
     "text": [
      "41650 0 480 0\n",
      "41650 0 480 0\n",
      "0 41650 0 480\n",
      "41650 0 480 0\n",
      "41650 0 480 0\n",
      "41650 0 480 0\n"
     ]
    },
    {
     "name": "stderr",
     "output_type": "stream",
     "text": [
      " 71%|███████▏  | 7149/10000 [05:01<01:57, 24.28it/s]"
     ]
    },
    {
     "name": "stdout",
     "output_type": "stream",
     "text": [
      "41650 0 480 0\n",
      "41650 0 480 0\n",
      "41650 0 480 0\n",
      "41650 0 480 0\n",
      "41650 0 480 0\n"
     ]
    },
    {
     "name": "stderr",
     "output_type": "stream",
     "text": [
      " 72%|███████▏  | 7155/10000 [05:01<01:55, 24.74it/s]"
     ]
    },
    {
     "name": "stdout",
     "output_type": "stream",
     "text": [
      "41650 0 480 0\n",
      "41650 0 480 0\n",
      "8948 32702 56 424\n",
      "Number of treatment 8948\n",
      "Revenue -5022.2\n",
      "****************************************************************************************************\n",
      "41650 0 480 0\n",
      "41650 0 480 0\n",
      "40348 1302 466 "
     ]
    },
    {
     "name": "stderr",
     "output_type": "stream",
     "text": [
      "\r",
      " 72%|███████▏  | 7158/10000 [05:01<01:57, 24.16it/s]"
     ]
    },
    {
     "name": "stdout",
     "output_type": "stream",
     "text": [
      "14\n",
      "Number of treatment 40348\n",
      "Revenue -1532.1999999999998\n",
      "****************************************************************************************************\n",
      "41650 0 480 0\n",
      "41650 0 480 0\n",
      "25103 16547 222 258\n",
      "Number of treatment 25103\n",
      "Revenue -4125.45\n",
      "****************************************************************************************************\n",
      "41650 0 480 0\n"
     ]
    },
    {
     "name": "stderr",
     "output_type": "stream",
     "text": [
      " 72%|███████▏  | 7164/10000 [05:02<01:54, 24.74it/s]"
     ]
    },
    {
     "name": "stdout",
     "output_type": "stream",
     "text": [
      "0 41650 0 480\n",
      "41650 0 480 0\n",
      "41650 0 480 0\n",
      "41650 0 480 0\n",
      "17010 24640 127 353\n",
      "Number of treatment 17010\n",
      "Revenue -4811.5\n",
      "****************************************************************************************************\n"
     ]
    },
    {
     "name": "stderr",
     "output_type": "stream",
     "text": [
      " 72%|███████▏  | 7170/10000 [05:02<01:58, 23.82it/s]"
     ]
    },
    {
     "name": "stdout",
     "output_type": "stream",
     "text": [
      "41650 0 480 0\n",
      "12321 29329 72 408\n",
      "Number of treatment 12321\n",
      "Revenue -5208.15\n",
      "****************************************************************************************************\n",
      "0 41650 0 480\n",
      "41650 0 480 0\n",
      "41650 0 480 0\n"
     ]
    },
    {
     "name": "stderr",
     "output_type": "stream",
     "text": [
      " 72%|███████▏  | 7176/10000 [05:02<01:57, 24.11it/s]"
     ]
    },
    {
     "name": "stdout",
     "output_type": "stream",
     "text": [
      "41650 0 480 0\n",
      "2893 38757 22 458\n",
      "Number of treatment 2893\n",
      "Revenue -4793.95\n",
      "****************************************************************************************************\n",
      "41650 0 480 0\n",
      "41650 0 480 0\n",
      "41650 0 480 0\n",
      "41650 0 480 0\n"
     ]
    },
    {
     "name": "stderr",
     "output_type": "stream",
     "text": [
      "\r",
      " 72%|███████▏  | 7179/10000 [05:02<01:57, 24.00it/s]"
     ]
    },
    {
     "name": "stdout",
     "output_type": "stream",
     "text": [
      "41650 0 480 0\n",
      "41650 0 480 0\n",
      "41650 0 480 0\n",
      "41650 0 480 0\n",
      "41650 0 480 0\n"
     ]
    },
    {
     "name": "stderr",
     "output_type": "stream",
     "text": [
      " 72%|███████▏  | 7185/10000 [05:02<01:58, 23.83it/s]"
     ]
    },
    {
     "name": "stdout",
     "output_type": "stream",
     "text": [
      "41650 0 480 0\n",
      "41650 0 480 0\n",
      "41650 0 480 0\n",
      "41650 0 480 0\n",
      "41650 0 480 0\n"
     ]
    },
    {
     "name": "stderr",
     "output_type": "stream",
     "text": [
      " 72%|███████▏  | 7191/10000 [05:03<01:58, 23.61it/s]"
     ]
    },
    {
     "name": "stdout",
     "output_type": "stream",
     "text": [
      "41650 0 480 0\n",
      "41650 0 480 0\n",
      "779 40871 5 475\n",
      "Number of treatment 779\n",
      "Revenue -4816.85\n",
      "****************************************************************************************************\n",
      "41650 0 480 0\n",
      "41650 0 480 0\n"
     ]
    },
    {
     "name": "stderr",
     "output_type": "stream",
     "text": [
      "\r",
      " 72%|███████▏  | 7194/10000 [05:03<01:58, 23.66it/s]"
     ]
    },
    {
     "name": "stdout",
     "output_type": "stream",
     "text": [
      "41650 0 480 0\n",
      "41650 0 480 0\n",
      "41650 0 480 0\n",
      "41650 0 480 0\n",
      "41650 0 480 0\n",
      "41650 0 480 0\n"
     ]
    },
    {
     "name": "stderr",
     "output_type": "stream",
     "text": [
      " 72%|███████▏  | 7200/10000 [05:03<01:55, 24.19it/s]"
     ]
    },
    {
     "name": "stdout",
     "output_type": "stream",
     "text": [
      "41650 0 480 0\n",
      "41650 0 480 0\n",
      "41650 0 480 0\n",
      "41650 0 480 0\n",
      "0 41650 0 480\n"
     ]
    },
    {
     "name": "stderr",
     "output_type": "stream",
     "text": [
      " 72%|███████▏  | 7206/10000 [05:03<01:53, 24.53it/s]"
     ]
    },
    {
     "name": "stdout",
     "output_type": "stream",
     "text": [
      "41650 0 480 0\n",
      "41650 0 480 0\n",
      "0 41650 0 480\n",
      "41650 0 480 0\n",
      "12630 29020 74 406\n",
      "Number of treatment 12630\n",
      "Revenue -5214.5\n",
      "****************************************************************************************************\n"
     ]
    },
    {
     "name": "stderr",
     "output_type": "stream",
     "text": [
      " 72%|███████▏  | 7212/10000 [05:04<01:50, 25.22it/s]"
     ]
    },
    {
     "name": "stdout",
     "output_type": "stream",
     "text": [
      "41650 0 480 0\n",
      "41650 0 480 0\n",
      "0 41650 0 480\n",
      "41650 0 480 0\n",
      "41650 0 480 0\n",
      "40225 1425 464 16\n",
      "Number of treatment 40225\n",
      "Revenue -1553.75\n",
      "****************************************************************************************************\n"
     ]
    },
    {
     "name": "stderr",
     "output_type": "stream",
     "text": [
      " 72%|███████▏  | 7218/10000 [05:04<01:51, 25.01it/s]"
     ]
    },
    {
     "name": "stdout",
     "output_type": "stream",
     "text": [
      "19757 21893 162 318\n",
      "Number of treatment 19757\n",
      "Revenue -4523.549999999999\n",
      "****************************************************************************************************\n",
      "41650 0 480 0\n",
      "41650 0 480 0\n",
      "41650 0 480 0\n",
      "41650 0 480 0\n"
     ]
    },
    {
     "name": "stderr",
     "output_type": "stream",
     "text": [
      "\r",
      " 72%|███████▏  | 7221/10000 [05:04<01:54, 24.32it/s]"
     ]
    },
    {
     "name": "stdout",
     "output_type": "stream",
     "text": [
      "9955 31695 58 422\n",
      "Number of treatment 9955\n",
      "Revenue -5133.25\n",
      "****************************************************************************************************\n",
      "29476 12174 285 195\n",
      "Number of treatment 29476\n",
      "Revenue -3521.3999999999996\n",
      "****************************************************************************************************\n",
      "41650 0 480 0\n",
      "41650 0 480 0\n",
      "41650 0 480 0\n"
     ]
    },
    {
     "name": "stderr",
     "output_type": "stream",
     "text": [
      " 72%|███████▏  | 7227/10000 [05:04<01:59, 23.14it/s]"
     ]
    },
    {
     "name": "stdout",
     "output_type": "stream",
     "text": [
      "41650 0 480 0\n",
      "41650 0 480 0\n",
      "41650 0 480 0\n",
      "436 41214 5 475\n",
      "Number of treatment 436\n",
      "Revenue -4765.4\n",
      "****************************************************************************************************\n",
      "41650 0 480 0\n"
     ]
    },
    {
     "name": "stderr",
     "output_type": "stream",
     "text": [
      " 72%|███████▏  | 7233/10000 [05:04<01:54, 24.20it/s]"
     ]
    },
    {
     "name": "stdout",
     "output_type": "stream",
     "text": [
      "0 41650 0 480\n",
      "41650 0 480 0\n",
      "41650 0 480 0\n",
      "41650 0 480 0\n",
      "41650 0 480 0\n",
      "41650 0 480 0\n"
     ]
    },
    {
     "name": "stderr",
     "output_type": "stream",
     "text": [
      " 72%|███████▏  | 7239/10000 [05:05<01:57, 23.55it/s]"
     ]
    },
    {
     "name": "stdout",
     "output_type": "stream",
     "text": [
      "32391 9259 328 152\n",
      "Number of treatment 32391\n",
      "Revenue -3098.6499999999996\n",
      "****************************************************************************************************\n",
      "41650 0 480 0\n",
      "39316 2334 444 36\n",
      "Number of treatment 39316\n",
      "Revenue -1817.3999999999996\n",
      "****************************************************************************************************\n",
      "41650 0 480 0\n",
      "41650 0 480 0\n"
     ]
    },
    {
     "name": "stderr",
     "output_type": "stream",
     "text": [
      " 72%|███████▏  | 7245/10000 [05:05<01:52, 24.38it/s]"
     ]
    },
    {
     "name": "stdout",
     "output_type": "stream",
     "text": [
      "41650 0 480 0\n",
      "41650 0 480 0\n",
      "41650 0 480 0\n",
      "41650 0 480 0\n",
      "41650 0 480 0\n",
      "41650 0 480 0\n"
     ]
    },
    {
     "name": "stderr",
     "output_type": "stream",
     "text": [
      " 73%|███████▎  | 7251/10000 [05:05<01:52, 24.49it/s]"
     ]
    },
    {
     "name": "stdout",
     "output_type": "stream",
     "text": [
      "41650 0 480 0\n",
      "41650 0 480 0\n",
      "41517 133 479 1\n",
      "612 41038 5 475\n",
      "Number of treatment 612\n",
      "Revenue -4791.8\n",
      "****************************************************************************************************\n",
      "41650 0 480 0\n",
      "41650 0 480 0\n"
     ]
    },
    {
     "name": "stderr",
     "output_type": "stream",
     "text": [
      "\r",
      " 73%|███████▎  | 7254/10000 [05:05<01:52, 24.44it/s]"
     ]
    },
    {
     "name": "stdout",
     "output_type": "stream",
     "text": [
      "0 41650 0 480\n",
      "0 41650 0 480\n",
      "41650 0 480 0\n",
      "41650 0 480 0\n",
      "41650 0 480 0\n"
     ]
    },
    {
     "name": "stderr",
     "output_type": "stream",
     "text": [
      " 73%|███████▎  | 7260/10000 [05:06<01:57, 23.30it/s]"
     ]
    },
    {
     "name": "stdout",
     "output_type": "stream",
     "text": [
      "41650 0 480 0\n",
      "41650 0 480 0\n",
      "4347 37303 29 451\n",
      "Number of treatment 4347\n",
      "Revenue -4872.05\n",
      "****************************************************************************************************\n",
      "41650 0 480 0\n",
      "41650 0 480 0\n"
     ]
    },
    {
     "name": "stderr",
     "output_type": "stream",
     "text": [
      " 73%|███████▎  | 7266/10000 [05:06<01:51, 24.49it/s]"
     ]
    },
    {
     "name": "stdout",
     "output_type": "stream",
     "text": [
      "13635 28015 79 401\n",
      "Number of treatment 13635\n",
      "Revenue -5265.25\n",
      "****************************************************************************************************\n",
      "41650 0 480 0\n",
      "41650 0 480 0\n",
      "41650 0 480 0\n",
      "41438 212 477 3\n",
      "Number of treatment 41438\n",
      "Revenue -1475.6999999999998\n",
      "****************************************************************************************************\n",
      "41361 289 476 4\n",
      "Number of treatment 41361\n",
      "Revenue -1484.1499999999996\n",
      "****************************************************************************************************\n"
     ]
    },
    {
     "name": "stderr",
     "output_type": "stream",
     "text": [
      " 73%|███████▎  | 7272/10000 [05:06<01:53, 24.03it/s]"
     ]
    },
    {
     "name": "stdout",
     "output_type": "stream",
     "text": [
      "41650 0 480 0\n",
      "41650 0 480 0\n",
      "103 41547 1 479\n",
      "Number of treatment 103\n",
      "Revenue -4795.45\n",
      "****************************************************************************************************\n",
      "41650 0 480 0\n",
      "41650 0 480 0\n"
     ]
    },
    {
     "name": "stderr",
     "output_type": "stream",
     "text": [
      "\r",
      " 73%|███████▎  | 7275/10000 [05:06<01:51, 24.39it/s]"
     ]
    },
    {
     "name": "stdout",
     "output_type": "stream",
     "text": [
      "41650 0 480 0\n",
      "0 41650 0 480\n",
      "41650 0 480 0\n",
      "41650 0 480 0\n",
      "41650 0 480 0\n"
     ]
    },
    {
     "name": "stderr",
     "output_type": "stream",
     "text": [
      " 73%|███████▎  | 7281/10000 [05:06<01:53, 24.00it/s]"
     ]
    },
    {
     "name": "stdout",
     "output_type": "stream",
     "text": [
      "41650 0 480 0\n",
      "41650 0 480 0\n",
      "41650 0 480 0\n",
      "41650 0 480 0\n",
      "41650 0 480 0\n"
     ]
    },
    {
     "name": "stderr",
     "output_type": "stream",
     "text": [
      " 73%|███████▎  | 7287/10000 [05:07<01:55, 23.53it/s]"
     ]
    },
    {
     "name": "stdout",
     "output_type": "stream",
     "text": [
      "41650 0 480 0\n",
      "41650 0 480 0\n",
      "41650 0 480 0\n",
      "41650 0 480 0\n",
      "41650 0 480 0\n"
     ]
    },
    {
     "name": "stderr",
     "output_type": "stream",
     "text": [
      "\r",
      " 73%|███████▎  | 7290/10000 [05:07<01:53, 23.96it/s]"
     ]
    },
    {
     "name": "stdout",
     "output_type": "stream",
     "text": [
      "41650 0 480 0\n",
      "41650 0 480 0\n",
      "0 41650 0 480\n",
      "32711 8939 332 148\n",
      "Number of treatment 32711\n",
      "Revenue -3066.6499999999996\n",
      "****************************************************************************************************\n",
      "41650 0 480 0\n"
     ]
    },
    {
     "name": "stderr",
     "output_type": "stream",
     "text": [
      " 73%|███████▎  | 7296/10000 [05:07<01:51, 24.20it/s]"
     ]
    },
    {
     "name": "stdout",
     "output_type": "stream",
     "text": [
      "41650 0 480 0\n",
      "41650 0 480 0\n",
      "1348 40302 13 467\n",
      "Number of treatment 1348\n",
      "Revenue -4742.2\n",
      "****************************************************************************************************\n",
      "41650 0 480 0\n",
      "41650 0 480 0\n",
      "41650 0 480 0\n"
     ]
    },
    {
     "name": "stderr",
     "output_type": "stream",
     "text": [
      " 73%|███████▎  | 7302/10000 [05:07<01:52, 23.92it/s]"
     ]
    },
    {
     "name": "stdout",
     "output_type": "stream",
     "text": [
      "41650 0 480 0\n",
      "41650 0 480 0\n",
      "41650 0 480 0\n",
      "41650 0 480 0\n",
      "41650 0 480 0\n"
     ]
    },
    {
     "name": "stderr",
     "output_type": "stream",
     "text": [
      " 73%|███████▎  | 7308/10000 [05:08<01:51, 24.13it/s]"
     ]
    },
    {
     "name": "stdout",
     "output_type": "stream",
     "text": [
      "41449 201 478 2\n",
      "Number of treatment 41449\n",
      "Revenue -1457.3499999999995\n",
      "****************************************************************************************************\n",
      "41650 0 480 0\n",
      "5110 36540 35 445\n",
      "Number of treatment 5110\n",
      "Revenue -4866.5\n",
      "****************************************************************************************************\n",
      "41650 0 480 0\n",
      "41650 0 480 0\n",
      "41650 0 480 0\n"
     ]
    },
    {
     "name": "stderr",
     "output_type": "stream",
     "text": [
      " 73%|███████▎  | 7314/10000 [05:08<01:57, 22.89it/s]"
     ]
    },
    {
     "name": "stdout",
     "output_type": "stream",
     "text": [
      "0 41650 0 480\n",
      "41650 0 480 0\n",
      "41650 0 480 0\n",
      "0 41650 0 480\n",
      "41650 0 480 0\n"
     ]
    },
    {
     "name": "stderr",
     "output_type": "stream",
     "text": [
      "\r",
      " 73%|███████▎  | 7317/10000 [05:08<02:01, 22.11it/s]"
     ]
    },
    {
     "name": "stdout",
     "output_type": "stream",
     "text": [
      "41650 0 480 0\n",
      "41650 0 480 0\n",
      "14618 27032 92 388\n",
      "Number of treatment 14618\n",
      "Revenue -5152.7\n",
      "****************************************************************************************************\n",
      "41650 0 480 0\n",
      "41608 42 480 0\n",
      "Number of treatment 41608\n",
      "Revenue -1441.1999999999998\n",
      "****************************************************************************************************\n"
     ]
    },
    {
     "name": "stderr",
     "output_type": "stream",
     "text": [
      " 73%|███████▎  | 7323/10000 [05:08<01:58, 22.51it/s]"
     ]
    },
    {
     "name": "stdout",
     "output_type": "stream",
     "text": [
      "41650 0 480 0\n",
      "2571 39079 19 461\n",
      "Number of treatment 2571\n",
      "Revenue -4805.65\n",
      "****************************************************************************************************\n",
      "41650 0 480 0\n",
      "41650 0 480 0\n",
      "41650 0 480 0\n"
     ]
    },
    {
     "name": "stderr",
     "output_type": "stream",
     "text": [
      " 73%|███████▎  | 7329/10000 [05:08<01:57, 22.83it/s]"
     ]
    },
    {
     "name": "stdout",
     "output_type": "stream",
     "text": [
      "0 41650 0 480\n",
      "41650 0 480 0\n",
      "41650 0 480 0\n",
      "41650 0 480 0\n",
      "41650 0 480 0\n"
     ]
    },
    {
     "name": "stderr",
     "output_type": "stream",
     "text": [
      "\r",
      " 73%|███████▎  | 7332/10000 [05:09<01:57, 22.70it/s]"
     ]
    },
    {
     "name": "stdout",
     "output_type": "stream",
     "text": [
      "41650 0 480 0\n",
      "41650 0 480 0\n",
      "41650 0 480 0\n",
      "41650 0 480 0\n",
      "41650 0 480 0\n"
     ]
    },
    {
     "name": "stderr",
     "output_type": "stream",
     "text": [
      " 73%|███████▎  | 7338/10000 [05:09<01:54, 23.22it/s]"
     ]
    },
    {
     "name": "stdout",
     "output_type": "stream",
     "text": [
      "0 41650 0 480\n",
      "41650 0 480 0\n",
      "41650 0 480 0\n",
      "41650 0 480 0\n",
      "41650 0 480 0\n"
     ]
    },
    {
     "name": "stderr",
     "output_type": "stream",
     "text": [
      " 73%|███████▎  | 7344/10000 [05:09<01:59, 22.26it/s]"
     ]
    },
    {
     "name": "stdout",
     "output_type": "stream",
     "text": [
      "41650 0 480 0\n",
      "41650 0 480 0\n",
      "41650 0 480 0\n",
      "41650 0 480 0\n",
      "41650 0 480 0\n"
     ]
    },
    {
     "name": "stderr",
     "output_type": "stream",
     "text": [
      "\r",
      " 73%|███████▎  | 7347/10000 [05:09<01:56, 22.87it/s]"
     ]
    },
    {
     "name": "stdout",
     "output_type": "stream",
     "text": [
      "41650 0 480 0\n",
      "41650 0 480 0\n",
      "41650 0 480 0\n",
      "41650 0 480 0\n",
      "41650 0 480 0\n"
     ]
    },
    {
     "name": "stderr",
     "output_type": "stream",
     "text": [
      " 74%|███████▎  | 7353/10000 [05:10<01:55, 22.92it/s]"
     ]
    },
    {
     "name": "stdout",
     "output_type": "stream",
     "text": [
      "41650 0 480 0\n",
      "41650 0 480 0\n",
      "0 41650 0 480\n",
      "0 41650 0 480\n",
      "1 41649 0 480\n"
     ]
    },
    {
     "name": "stderr",
     "output_type": "stream",
     "text": [
      " 74%|███████▎  | 7359/10000 [05:10<01:59, 22.09it/s]"
     ]
    },
    {
     "name": "stdout",
     "output_type": "stream",
     "text": [
      "41650 0 480 0\n",
      "41488 162 478 2\n",
      "41650 0 480 0\n",
      "41650 0 480 0\n",
      "9192 32458 56 424\n",
      "Number of treatment 9192\n",
      "Revenue -5058.8\n",
      "****************************************************************************************************\n"
     ]
    },
    {
     "name": "stderr",
     "output_type": "stream",
     "text": [
      "\r",
      " 74%|███████▎  | 7362/10000 [05:10<02:01, 21.79it/s]"
     ]
    },
    {
     "name": "stdout",
     "output_type": "stream",
     "text": [
      "26113 15537 233 247\n",
      "Number of treatment 26113\n",
      "Revenue -4056.95\n",
      "****************************************************************************************************\n",
      "41650 0 480 0\n",
      "41650 0 480 0\n",
      "0 41650 0 480\n",
      "41650 0 480 0\n"
     ]
    },
    {
     "name": "stderr",
     "output_type": "stream",
     "text": [
      " 74%|███████▎  | 7368/10000 [05:10<01:54, 22.96it/s]"
     ]
    },
    {
     "name": "stdout",
     "output_type": "stream",
     "text": [
      "176 41474 3 477\n",
      "Number of treatment 176\n",
      "Revenue -4766.4\n",
      "****************************************************************************************************\n",
      "41650 0 480 0\n",
      "15281 26369 96 384\n",
      "Number of treatment 15281\n",
      "Revenue -5172.15\n",
      "****************************************************************************************************\n",
      "41650 0 480 0\n",
      "41650 0 480 0\n"
     ]
    },
    {
     "name": "stderr",
     "output_type": "stream",
     "text": [
      " 74%|███████▎  | 7374/10000 [05:10<01:52, 23.27it/s]"
     ]
    },
    {
     "name": "stdout",
     "output_type": "stream",
     "text": [
      "41650 0 480 0\n",
      "41650 0 480 0\n",
      "41646 4 480 0\n",
      "Number of treatment 41646\n",
      "Revenue -1446.8999999999996\n",
      "****************************************************************************************************\n",
      "41650 0 480 0\n",
      "41650 0 480 0\n"
     ]
    },
    {
     "name": "stderr",
     "output_type": "stream",
     "text": [
      "\r",
      " 74%|███████▍  | 7377/10000 [05:11<01:53, 23.01it/s]"
     ]
    },
    {
     "name": "stdout",
     "output_type": "stream",
     "text": [
      "41650 0 480 0\n",
      "41650 0 480 0\n",
      "41650 0 480 0\n",
      "41650 0 480 0\n",
      "41650 0 480 0\n"
     ]
    },
    {
     "name": "stderr",
     "output_type": "stream",
     "text": [
      " 74%|███████▍  | 7383/10000 [05:11<01:57, 22.35it/s]"
     ]
    },
    {
     "name": "stdout",
     "output_type": "stream",
     "text": [
      "33541 8109 350 130\n",
      "Number of treatment 33541\n",
      "Revenue -2831.1499999999996\n",
      "****************************************************************************************************\n",
      "7916 33734 54 426\n",
      "Number of treatment 7916\n",
      "Revenue -4907.4\n",
      "****************************************************************************************************\n",
      "41650 0 480 0\n",
      "41650 0 480 0\n",
      "41650 0 480 0\n"
     ]
    },
    {
     "name": "stderr",
     "output_type": "stream",
     "text": [
      " 74%|███████▍  | 7389/10000 [05:11<01:55, 22.58it/s]"
     ]
    },
    {
     "name": "stdout",
     "output_type": "stream",
     "text": [
      "6069 35581 40 440\n",
      "Number of treatment 6069\n",
      "Revenue -4910.35\n",
      "****************************************************************************************************\n",
      "41650 0 480 0\n",
      "41650 0 480 0\n",
      "41650 0 480 0\n",
      "41650 0 480 0\n"
     ]
    },
    {
     "name": "stderr",
     "output_type": "stream",
     "text": [
      "\r",
      " 74%|███████▍  | 7392/10000 [05:11<01:54, 22.70it/s]"
     ]
    },
    {
     "name": "stdout",
     "output_type": "stream",
     "text": [
      "31504 10146 311 169\n",
      "Number of treatment 31504\n",
      "Revenue -3305.5999999999995\n",
      "****************************************************************************************************\n",
      "41650 0 480 0\n",
      "41650 0 480 0\n",
      "41650 0 480 0\n",
      "40078 1572 459 21\n",
      "Number of treatment 40078\n",
      "Revenue -1631.6999999999998\n",
      "****************************************************************************************************\n"
     ]
    },
    {
     "name": "stderr",
     "output_type": "stream",
     "text": [
      " 74%|███████▍  | 7398/10000 [05:12<01:56, 22.37it/s]"
     ]
    },
    {
     "name": "stdout",
     "output_type": "stream",
     "text": [
      "0 41650 0 480\n",
      "24644 17006 218 262\n",
      "Number of treatment 24644\n",
      "Revenue -4136.6\n",
      "****************************************************************************************************\n",
      "41650 0 480 0\n",
      "41650 0 480 0\n",
      "41650 0 480 0\n"
     ]
    },
    {
     "name": "stderr",
     "output_type": "stream",
     "text": [
      " 74%|███████▍  | 7404/10000 [05:12<02:03, 20.98it/s]"
     ]
    },
    {
     "name": "stdout",
     "output_type": "stream",
     "text": [
      "41650 0 480 0\n",
      "0 41650 0 480\n",
      "39490 2160 448 32\n",
      "Number of treatment 39490\n",
      "Revenue -1763.5\n",
      "****************************************************************************************************\n",
      "41650 0 480 0\n",
      "41650 0 480 0\n"
     ]
    },
    {
     "name": "stderr",
     "output_type": "stream",
     "text": [
      "\r",
      " 74%|███████▍  | 7407/10000 [05:12<02:04, 20.78it/s]"
     ]
    },
    {
     "name": "stdout",
     "output_type": "stream",
     "text": [
      "39362 2288 445 35\n",
      "Number of treatment 39362\n",
      "Revenue -1804.3000000000002\n",
      "****************************************************************************************************\n",
      "41650 0 480 0\n",
      "41650 0 480 0\n",
      "41650 0 480 0\n",
      "41650 0 480 0\n"
     ]
    },
    {
     "name": "stderr",
     "output_type": "stream",
     "text": [
      " 74%|███████▍  | 7413/10000 [05:12<01:53, 22.83it/s]"
     ]
    },
    {
     "name": "stdout",
     "output_type": "stream",
     "text": [
      "41650 0 480 0\n",
      "41650 0 480 0\n",
      "41650 0 480 0\n",
      "41650 0 480 0\n",
      "41650 0 480 0\n"
     ]
    },
    {
     "name": "stderr",
     "output_type": "stream",
     "text": [
      " 74%|███████▍  | 7419/10000 [05:12<01:52, 23.00it/s]"
     ]
    },
    {
     "name": "stdout",
     "output_type": "stream",
     "text": [
      "41650 0 480 0\n",
      "41650 0 480 0\n",
      "0 41650 0 480\n",
      "41650 0 480 0\n",
      "0 41650 0 480\n"
     ]
    },
    {
     "name": "stderr",
     "output_type": "stream",
     "text": [
      "\r",
      " 74%|███████▍  | 7422/10000 [05:13<01:52, 22.83it/s]"
     ]
    },
    {
     "name": "stdout",
     "output_type": "stream",
     "text": [
      "41650 0 480 0\n",
      "41650 0 480 0\n",
      "41650 0 480 0\n",
      "41650 0 480 0\n",
      "23180 18470 198 282\n",
      "Number of treatment 23180\n",
      "Revenue -4317.0\n",
      "****************************************************************************************************\n"
     ]
    },
    {
     "name": "stderr",
     "output_type": "stream",
     "text": [
      " 74%|███████▍  | 7428/10000 [05:13<01:53, 22.61it/s]"
     ]
    },
    {
     "name": "stdout",
     "output_type": "stream",
     "text": [
      "13245 28405 76 404\n",
      "41650 0 480 0\n",
      "41650 0 480 0\n",
      "41650 0 480 0\n",
      "41650 0 480 0\n"
     ]
    },
    {
     "name": "stderr",
     "output_type": "stream",
     "text": [
      " 74%|███████▍  | 7434/10000 [05:13<01:54, 22.32it/s]"
     ]
    },
    {
     "name": "stdout",
     "output_type": "stream",
     "text": [
      "290 41360 4 476\n",
      "Number of treatment 290\n",
      "Revenue -4763.5\n",
      "****************************************************************************************************\n",
      "41650 0 480 0\n",
      "41635 15 480 0\n",
      "14085 27565 85 395\n",
      "Number of treatment 14085\n",
      "Revenue -5212.75\n",
      "****************************************************************************************************\n",
      "41650 0 480 0\n"
     ]
    },
    {
     "name": "stderr",
     "output_type": "stream",
     "text": [
      "\r",
      " 74%|███████▍  | 7437/10000 [05:13<01:52, 22.78it/s]"
     ]
    },
    {
     "name": "stdout",
     "output_type": "stream",
     "text": [
      "41650 0 480 0\n",
      "41650 0 480 0\n",
      "41650 0 480 0\n",
      "41650 0 480 0\n",
      "41650 0 480 0\n"
     ]
    },
    {
     "name": "stderr",
     "output_type": "stream",
     "text": [
      " 74%|███████▍  | 7443/10000 [05:14<01:50, 23.08it/s]"
     ]
    },
    {
     "name": "stdout",
     "output_type": "stream",
     "text": [
      "3114 38536 22 458\n",
      "Number of treatment 3114\n",
      "Revenue -4827.1\n",
      "****************************************************************************************************\n",
      "41650 0 480 0\n",
      "41650 0 480 0\n",
      "41650 0 480 0\n",
      "41650 0 480 0\n"
     ]
    },
    {
     "name": "stderr",
     "output_type": "stream",
     "text": [
      " 74%|███████▍  | 7449/10000 [05:14<01:52, 22.66it/s]"
     ]
    },
    {
     "name": "stdout",
     "output_type": "stream",
     "text": [
      "41650 0 480 0\n",
      "0 41650 0 480\n",
      "37228 4422 402 78\n",
      "Number of treatment 37228\n",
      "Revenue -2344.2\n",
      "****************************************************************************************************\n",
      "41650 0 480 0\n",
      "41650 0 480 0\n"
     ]
    },
    {
     "name": "stderr",
     "output_type": "stream",
     "text": [
      "\r",
      " 75%|███████▍  | 7452/10000 [05:14<01:58, 21.54it/s]"
     ]
    },
    {
     "name": "stdout",
     "output_type": "stream",
     "text": [
      "41650 0 480 0\n",
      "41650 0 480 0\n",
      "0 41650 0 480\n",
      "41650 0 480 0\n",
      "41650 0 480 0\n"
     ]
    },
    {
     "name": "stderr",
     "output_type": "stream",
     "text": [
      " 75%|███████▍  | 7458/10000 [05:14<01:53, 22.38it/s]"
     ]
    },
    {
     "name": "stdout",
     "output_type": "stream",
     "text": [
      "41650 0 480 0\n",
      "41650 0 480 0\n",
      "41650 0 480 0\n",
      "41650 0 480 0\n",
      "0 41650 0 480\n"
     ]
    },
    {
     "name": "stderr",
     "output_type": "stream",
     "text": [
      " 75%|███████▍  | 7464/10000 [05:15<01:53, 22.25it/s]"
     ]
    },
    {
     "name": "stdout",
     "output_type": "stream",
     "text": [
      "41650 0 480 0\n",
      "41650 0 480 0\n",
      "41573 77 480 0\n",
      "Number of treatment 41573\n",
      "Revenue -1435.9499999999998\n",
      "****************************************************************************************************\n",
      "41650 0 480 0\n",
      "6208 35442 40 440\n",
      "Number of treatment 6208\n",
      "Revenue -4931.2\n",
      "****************************************************************************************************\n"
     ]
    },
    {
     "name": "stderr",
     "output_type": "stream",
     "text": [
      "\r",
      " 75%|███████▍  | 7467/10000 [05:15<01:53, 22.40it/s]"
     ]
    },
    {
     "name": "stdout",
     "output_type": "stream",
     "text": [
      "41650 0 480 0\n",
      "41650 0 480 0\n",
      "41650 0 480 0\n",
      "41650 0 480 0\n",
      "41650 0 480 0\n"
     ]
    },
    {
     "name": "stderr",
     "output_type": "stream",
     "text": [
      " 75%|███████▍  | 7473/10000 [05:15<01:49, 23.14it/s]"
     ]
    },
    {
     "name": "stdout",
     "output_type": "stream",
     "text": [
      "41650 0 480 0\n",
      "41650 0 480 0\n",
      "41650 0 480 0\n",
      "41650 0 480 0\n",
      "41650 0 480 0\n"
     ]
    },
    {
     "name": "stderr",
     "output_type": "stream",
     "text": [
      " 75%|███████▍  | 7479/10000 [05:15<01:51, 22.55it/s]"
     ]
    },
    {
     "name": "stdout",
     "output_type": "stream",
     "text": [
      "41650 0 480 0\n",
      "21660 19990 181 299\n",
      "Number of treatment 21660\n",
      "Revenue -4429.0\n",
      "****************************************************************************************************\n",
      "41650 0 480 0\n",
      "41650 0 480 0\n",
      "41650 0 480 0\n"
     ]
    },
    {
     "name": "stderr",
     "output_type": "stream",
     "text": [
      "\r",
      " 75%|███████▍  | 7482/10000 [05:15<01:47, 23.51it/s]"
     ]
    },
    {
     "name": "stdout",
     "output_type": "stream",
     "text": [
      "0 41650 0 480\n",
      "41650 0 480 0\n",
      "37588 4062 406 74\n",
      "Number of treatment 37588\n",
      "Revenue -2318.2\n",
      "****************************************************************************************************\n",
      "41650 0 480 0\n",
      "41650 0 480 0\n"
     ]
    },
    {
     "name": "stderr",
     "output_type": "stream",
     "text": [
      " 75%|███████▍  | 7488/10000 [05:16<01:46, 23.60it/s]"
     ]
    },
    {
     "name": "stdout",
     "output_type": "stream",
     "text": [
      "63 41587 0 480\n",
      "Number of treatment 63\n",
      "Revenue -4809.45\n",
      "****************************************************************************************************\n",
      "41650 0 480 0\n",
      "41650 0 480 0\n",
      "41650 0 480 0\n",
      "41650 0 480 0\n"
     ]
    },
    {
     "name": "stderr",
     "output_type": "stream",
     "text": [
      " 75%|███████▍  | 7494/10000 [05:16<01:44, 23.88it/s]"
     ]
    },
    {
     "name": "stdout",
     "output_type": "stream",
     "text": [
      "41650 0 480 0\n",
      "41650 0 480 0\n",
      "41650 0 480 0\n",
      "13800 27850 81 399\n",
      "Number of treatment 13800\n",
      "Revenue -5250.0\n",
      "****************************************************************************************************\n",
      "41650 0 480 0\n"
     ]
    },
    {
     "name": "stderr",
     "output_type": "stream",
     "text": [
      " 75%|███████▌  | 7500/10000 [05:16<01:43, 24.04it/s]"
     ]
    },
    {
     "name": "stdout",
     "output_type": "stream",
     "text": [
      "41650 0 480 0\n",
      "41650 0 480 0\n",
      "41650 0 480 0\n",
      "41650 0 480 0\n",
      "41650 0 480 0\n",
      "41650 0 480 0\n"
     ]
    },
    {
     "name": "stderr",
     "output_type": "stream",
     "text": [
      " 75%|███████▌  | 7506/10000 [05:16<01:39, 24.95it/s]"
     ]
    },
    {
     "name": "stdout",
     "output_type": "stream",
     "text": [
      "41650 0 480 0\n",
      "41650 0 480 0\n",
      "41650 0 480 0\n",
      "41650 0 480 0\n",
      "41650 0 480 0\n",
      "41650 0 480 0\n"
     ]
    },
    {
     "name": "stderr",
     "output_type": "stream",
     "text": [
      "\r",
      " 75%|███████▌  | 7509/10000 [05:16<01:44, 23.95it/s]"
     ]
    },
    {
     "name": "stdout",
     "output_type": "stream",
     "text": [
      "41650 0 480 0\n",
      "29816 11834 289 191\n",
      "Number of treatment 29816\n",
      "Revenue -3492.3999999999996\n",
      "****************************************************************************************************\n",
      "41650 0 480 0\n",
      "41650 0 480 0\n",
      "41650 0 480 0\n"
     ]
    },
    {
     "name": "stderr",
     "output_type": "stream",
     "text": [
      " 75%|███████▌  | 7515/10000 [05:17<01:48, 23.00it/s]"
     ]
    },
    {
     "name": "stdout",
     "output_type": "stream",
     "text": [
      "0 41650 0 480\n",
      "41650 0 480 0\n",
      "41650 0 480 0\n",
      "41650 0 480 0\n",
      "41650 0 480 0\n"
     ]
    },
    {
     "name": "stderr",
     "output_type": "stream",
     "text": [
      " 75%|███████▌  | 7521/10000 [05:17<01:42, 24.20it/s]"
     ]
    },
    {
     "name": "stdout",
     "output_type": "stream",
     "text": [
      "0 41650 0 480\n",
      "41650 0 480 0\n",
      "27799 13851 258 222\n",
      "Number of treatment 27799\n",
      "Revenue -3809.8499999999995\n",
      "****************************************************************************************************\n",
      "41650 0 480 0\n",
      "41650 0 480 0\n",
      "41650 0 480 0\n"
     ]
    },
    {
     "name": "stderr",
     "output_type": "stream",
     "text": [
      " 75%|███████▌  | 7527/10000 [05:17<01:39, 24.85it/s]"
     ]
    },
    {
     "name": "stdout",
     "output_type": "stream",
     "text": [
      "41650 0 480 0\n",
      "0 41650 0 480\n",
      "41650 0 480 0\n",
      "31222 10428 308 172\n",
      "Number of treatment 31222\n",
      "Revenue -3323.3\n",
      "****************************************************************************************************\n",
      "41650 0 480 0\n",
      "41650 0 480 0\n"
     ]
    },
    {
     "name": "stderr",
     "output_type": "stream",
     "text": [
      " 75%|███████▌  | 7533/10000 [05:17<01:36, 25.58it/s]"
     ]
    },
    {
     "name": "stdout",
     "output_type": "stream",
     "text": [
      "41650 0 480 0\n",
      "41650 0 480 0\n",
      "41650 0 480 0\n",
      "41650 0 480 0\n",
      "41650 0 480 0\n",
      "41650 0 480 0\n"
     ]
    },
    {
     "name": "stderr",
     "output_type": "stream",
     "text": [
      " 75%|███████▌  | 7539/10000 [05:18<01:36, 25.56it/s]"
     ]
    },
    {
     "name": "stdout",
     "output_type": "stream",
     "text": [
      "41650 0 480 0\n",
      "41650 0 480 0\n",
      "30900 10750 302 178\n",
      "Number of treatment 30900\n",
      "Revenue -3395.0\n",
      "****************************************************************************************************\n",
      "41650 0 480 0\n",
      "41650 0 480 0\n",
      "0 41650 0 480\n"
     ]
    },
    {
     "name": "stderr",
     "output_type": "stream",
     "text": [
      " 75%|███████▌  | 7545/10000 [05:18<01:36, 25.45it/s]"
     ]
    },
    {
     "name": "stdout",
     "output_type": "stream",
     "text": [
      "41650 0 480 0\n",
      "41650 0 480 0\n",
      "41650 0 480 0\n",
      "41650 0 480 0\n",
      "41650 0 480 0\n"
     ]
    },
    {
     "name": "stderr",
     "output_type": "stream",
     "text": [
      "\r",
      " 75%|███████▌  | 7548/10000 [05:18<01:41, 24.24it/s]"
     ]
    },
    {
     "name": "stdout",
     "output_type": "stream",
     "text": [
      "41650 0 480 0\n",
      "41650 0 480 0\n",
      "41650 0 480 0\n",
      "41650 0 480 0\n",
      "41650 0 480 0\n"
     ]
    },
    {
     "name": "stderr",
     "output_type": "stream",
     "text": [
      " 76%|███████▌  | 7554/10000 [05:18<01:40, 24.30it/s]"
     ]
    },
    {
     "name": "stdout",
     "output_type": "stream",
     "text": [
      "41650 0 480 0\n",
      "41650 0 480 0\n",
      "41650 0 480 0\n",
      "41406 244 477 3\n",
      "41650 0 480 0\n"
     ]
    },
    {
     "name": "stderr",
     "output_type": "stream",
     "text": [
      " 76%|███████▌  | 7560/10000 [05:18<01:39, 24.55it/s]"
     ]
    },
    {
     "name": "stdout",
     "output_type": "stream",
     "text": [
      "41650 0 480 0\n",
      "41650 0 480 0\n",
      "12950 28700 75 405\n",
      "Number of treatment 12950\n",
      "Revenue -5242.5\n",
      "****************************************************************************************************\n",
      "41650 0 480 0\n",
      "41650 0 480 0\n",
      "41650 0 "
     ]
    },
    {
     "name": "stderr",
     "output_type": "stream",
     "text": [
      "\r",
      " 76%|███████▌  | 7563/10000 [05:19<01:39, 24.43it/s]"
     ]
    },
    {
     "name": "stdout",
     "output_type": "stream",
     "text": [
      "480 0\n",
      "40825 825 470 10\n",
      "Number of treatment 40825\n",
      "Revenue -1523.75\n",
      "****************************************************************************************************\n",
      "41650 0 480 0\n",
      "41650 0 480 0\n",
      "41650 0 480 0\n"
     ]
    },
    {
     "name": "stderr",
     "output_type": "stream",
     "text": [
      " 76%|███████▌  | 7569/10000 [05:19<01:38, 24.74it/s]"
     ]
    },
    {
     "name": "stdout",
     "output_type": "stream",
     "text": [
      "41650 0 480 0\n",
      "41650 0 480 0\n",
      "41650 0 480 0\n",
      "41650 0 480 0\n",
      "41650 0 480 0\n",
      "0 41650 0 480\n"
     ]
    },
    {
     "name": "stderr",
     "output_type": "stream",
     "text": [
      " 76%|███████▌  | 7575/10000 [05:19<01:41, 23.82it/s]"
     ]
    },
    {
     "name": "stdout",
     "output_type": "stream",
     "text": [
      "41650 0 480 0\n",
      "41650 0 480 0\n",
      "41650 0 480 0\n",
      "6604 35046 44 436\n",
      "Number of treatment 6604\n",
      "Revenue -4910.6\n",
      "****************************************************************************************************\n",
      "41650 0 480 0\n"
     ]
    },
    {
     "name": "stderr",
     "output_type": "stream",
     "text": [
      " 76%|███████▌  | 7581/10000 [05:19<01:37, 24.73it/s]"
     ]
    },
    {
     "name": "stdout",
     "output_type": "stream",
     "text": [
      "41650 0 480 0\n",
      "41650 0 480 0\n",
      "3193 38457 23 457\n",
      "Number of treatment 3193\n",
      "Revenue -4818.95\n",
      "****************************************************************************************************\n",
      "41650 0 480 0\n",
      "41650 0 480 0\n",
      "41650 0 480 0\n"
     ]
    },
    {
     "name": "stderr",
     "output_type": "stream",
     "text": [
      " 76%|███████▌  | 7587/10000 [05:20<01:38, 24.59it/s]"
     ]
    },
    {
     "name": "stdout",
     "output_type": "stream",
     "text": [
      "41650 0 480 0\n",
      "11869 29781 68 412\n",
      "Number of treatment 11869\n",
      "Revenue -5220.35\n",
      "****************************************************************************************************\n",
      "41650 0 480 0\n",
      "41650 0 480 0\n",
      "41650 0 480 0\n",
      "4528 37122 29 451\n",
      "Number of treatment 4528\n",
      "Revenue -4899.2\n",
      "****************************************************************************************************\n"
     ]
    },
    {
     "name": "stderr",
     "output_type": "stream",
     "text": [
      " 76%|███████▌  | 7593/10000 [05:20<01:37, 24.78it/s]"
     ]
    },
    {
     "name": "stdout",
     "output_type": "stream",
     "text": [
      "41650 0 480 0\n",
      "41650 0 480 0\n",
      "0 41650 0 480\n",
      "0 41650 0 480\n",
      "41650 0 480 0\n"
     ]
    },
    {
     "name": "stderr",
     "output_type": "stream",
     "text": [
      " 76%|███████▌  | 7599/10000 [05:20<01:36, 24.92it/s]"
     ]
    },
    {
     "name": "stdout",
     "output_type": "stream",
     "text": [
      "41650 0 480 0\n",
      "0 41650 0 480\n",
      "41650 0 480 0\n",
      "41650 0 480 0\n",
      "41650 0 480 0\n",
      "41650 0 480 0\n"
     ]
    },
    {
     "name": "stderr",
     "output_type": "stream",
     "text": [
      " 76%|███████▌  | 7605/10000 [05:20<01:36, 24.82it/s]"
     ]
    },
    {
     "name": "stdout",
     "output_type": "stream",
     "text": [
      "41650 0 480 0\n",
      "16208 25442 113 367\n",
      "Number of treatment 16208\n",
      "Revenue -4971.2\n",
      "****************************************************************************************************\n",
      "41650 0 480 0\n",
      "41650 0 480 0\n",
      "41650 0 480 0\n",
      "0 41650 0 480\n"
     ]
    },
    {
     "name": "stderr",
     "output_type": "stream",
     "text": [
      " 76%|███████▌  | 7611/10000 [05:21<01:34, 25.25it/s]"
     ]
    },
    {
     "name": "stdout",
     "output_type": "stream",
     "text": [
      "41650 0 480 0\n",
      "41650 0 480 0\n",
      "41650 0 480 0\n",
      "41650 0 480 0\n",
      "41650 0 480 0\n",
      "41650 0 480 0\n"
     ]
    },
    {
     "name": "stderr",
     "output_type": "stream",
     "text": [
      " 76%|███████▌  | 7617/10000 [05:21<01:36, 24.63it/s]"
     ]
    },
    {
     "name": "stdout",
     "output_type": "stream",
     "text": [
      "15314 26336 97 383\n",
      "Number of treatment 15314\n",
      "Revenue -5157.1\n",
      "****************************************************************************************************\n",
      "41650 0 480 0\n",
      "41650 0 480 0\n",
      "41650 0 480 0\n",
      "1077 40573 9 471\n",
      "Number of treatment 1077\n",
      "Revenue -4781.55\n",
      "****************************************************************************************************\n",
      "41650 0 480 0\n"
     ]
    },
    {
     "name": "stderr",
     "output_type": "stream",
     "text": [
      "\r",
      " 76%|███████▌  | 7620/10000 [05:21<01:39, 23.88it/s]"
     ]
    },
    {
     "name": "stdout",
     "output_type": "stream",
     "text": [
      "41650 0 480 0\n",
      "14042 27608 85 395\n",
      "Number of treatment 14042\n",
      "Revenue -5206.299999999999\n",
      "****************************************************************************************************\n",
      "41650 0 480 0\n",
      "41650 0 480 0\n",
      "41650 0 480 0\n"
     ]
    },
    {
     "name": "stderr",
     "output_type": "stream",
     "text": [
      " 76%|███████▋  | 7626/10000 [05:21<01:39, 23.96it/s]"
     ]
    },
    {
     "name": "stdout",
     "output_type": "stream",
     "text": [
      "41650 0 480 0\n",
      "41650 0 480 0\n",
      "41650 0 480 0\n",
      "41650 0 480 0\n",
      "41650 0 480 0\n"
     ]
    },
    {
     "name": "stderr",
     "output_type": "stream",
     "text": [
      " 76%|███████▋  | 7632/10000 [05:21<01:44, 22.71it/s]"
     ]
    },
    {
     "name": "stdout",
     "output_type": "stream",
     "text": [
      "41650 0 480 0\n",
      "41650 0 480 0\n",
      "41650 0 480 0\n",
      "0 41650 0 480\n",
      "41650 0 480 0\n"
     ]
    },
    {
     "name": "stderr",
     "output_type": "stream",
     "text": [
      "\r",
      " 76%|███████▋  | 7635/10000 [05:22<01:44, 22.53it/s]"
     ]
    },
    {
     "name": "stdout",
     "output_type": "stream",
     "text": [
      "41650 0 480 0\n",
      "41650 0 480 0\n",
      "41650 0 480 0\n",
      "41650 0 480 0\n",
      "41650 0 480 0\n"
     ]
    },
    {
     "name": "stderr",
     "output_type": "stream",
     "text": [
      " 76%|███████▋  | 7641/10000 [05:22<01:44, 22.62it/s]"
     ]
    },
    {
     "name": "stdout",
     "output_type": "stream",
     "text": [
      "10788 30862 61 419\n",
      "Number of treatment 10788\n",
      "Revenue -5198.2\n",
      "****************************************************************************************************\n",
      "21090 20560 176 304\n",
      "Number of treatment 21090\n",
      "Revenue -4443.5\n",
      "****************************************************************************************************\n",
      "41650 0 480 0\n",
      "41650 0 480 0\n",
      "41650 0 480 0\n"
     ]
    },
    {
     "name": "stderr",
     "output_type": "stream",
     "text": [
      " 76%|███████▋  | 7647/10000 [05:22<01:42, 22.96it/s]"
     ]
    },
    {
     "name": "stdout",
     "output_type": "stream",
     "text": [
      "13245 28405 76 404\n",
      "41650 0 480 0\n",
      "41650 0 480 0\n",
      "41650 0 480 0\n",
      "41650 0 480 0\n"
     ]
    },
    {
     "name": "stderr",
     "output_type": "stream",
     "text": [
      "\r",
      " 76%|███████▋  | 7650/10000 [05:22<01:40, 23.33it/s]"
     ]
    },
    {
     "name": "stdout",
     "output_type": "stream",
     "text": [
      "0 41650 0 480\n",
      "41650 0 480 0\n",
      "38635 3015 429 51\n",
      "Number of treatment 38635\n",
      "Revenue -2015.25\n",
      "****************************************************************************************************\n",
      "41650 0 480 0\n",
      "41650 0 480 0\n"
     ]
    },
    {
     "name": "stderr",
     "output_type": "stream",
     "text": [
      " 77%|███████▋  | 7656/10000 [05:22<01:37, 24.10it/s]"
     ]
    },
    {
     "name": "stdout",
     "output_type": "stream",
     "text": [
      "41650 0 480 0\n",
      "41650 0 480 0\n",
      "41650 0 480 0\n",
      "25245 16405 224 256\n",
      "Number of treatment 25245\n",
      "Revenue -4106.75\n",
      "****************************************************************************************************\n",
      "41650 0 480 0\n",
      "41650 0 480 0\n"
     ]
    },
    {
     "name": "stderr",
     "output_type": "stream",
     "text": [
      " 77%|███████▋  | 7662/10000 [05:23<01:34, 24.86it/s]"
     ]
    },
    {
     "name": "stdout",
     "output_type": "stream",
     "text": [
      "41650 0 480 0\n",
      "41650 0 480 0\n",
      "41650 0 480 0\n",
      "0 41650 0 480\n",
      "41650 0 480 0\n",
      "41650 0 480 0\n"
     ]
    },
    {
     "name": "stderr",
     "output_type": "stream",
     "text": [
      " 77%|███████▋  | 7668/10000 [05:23<01:36, 24.18it/s]"
     ]
    },
    {
     "name": "stdout",
     "output_type": "stream",
     "text": [
      "41650 0 480 0\n",
      "41650 0 480 0\n",
      "41650 0 480 0\n",
      "41650 0 480 0\n",
      "41650 0 480 0\n"
     ]
    },
    {
     "name": "stderr",
     "output_type": "stream",
     "text": [
      " 77%|███████▋  | 7674/10000 [05:23<01:43, 22.44it/s]"
     ]
    },
    {
     "name": "stdout",
     "output_type": "stream",
     "text": [
      "41650 0 480 0\n",
      "41650 0 480 0\n",
      "41650 0 480 0\n",
      "41650 0 480 0\n",
      "41650 0 480 0\n"
     ]
    },
    {
     "name": "stderr",
     "output_type": "stream",
     "text": [
      " 77%|███████▋  | 7680/10000 [05:23<01:37, 23.69it/s]"
     ]
    },
    {
     "name": "stdout",
     "output_type": "stream",
     "text": [
      "41650 0 480 0\n",
      "39077 2573 439 41\n",
      "41650 0 480 0\n",
      "41650 0 480 0\n",
      "41650 0 480 0\n",
      "41650 0 480 0\n"
     ]
    },
    {
     "name": "stderr",
     "output_type": "stream",
     "text": [
      "\r",
      " 77%|███████▋  | 7683/10000 [05:24<01:36, 23.91it/s]"
     ]
    },
    {
     "name": "stdout",
     "output_type": "stream",
     "text": [
      "41649 1 480 0\n",
      "41650 0 480 0\n",
      "41650 0 480 0\n",
      "41650 0 480 0\n",
      "41650 0 480 0\n"
     ]
    },
    {
     "name": "stderr",
     "output_type": "stream",
     "text": [
      " 77%|███████▋  | 7689/10000 [05:24<01:41, 22.83it/s]"
     ]
    },
    {
     "name": "stdout",
     "output_type": "stream",
     "text": [
      "13006 28644 75 405\n",
      "9449 32201 57 423\n",
      "Number of treatment 9449\n",
      "Revenue -5077.35\n",
      "****************************************************************************************************\n",
      "41650 0 480 0\n",
      "41650 0 480 0\n",
      "41650 0 480 0\n"
     ]
    },
    {
     "name": "stderr",
     "output_type": "stream",
     "text": [
      " 77%|███████▋  | 7695/10000 [05:24<01:44, 22.05it/s]"
     ]
    },
    {
     "name": "stdout",
     "output_type": "stream",
     "text": [
      "4492 37158 29 451\n",
      "Number of treatment 4492\n",
      "Revenue -4893.8\n",
      "****************************************************************************************************\n",
      "41650 0 480 0\n",
      "41650 0 480 0\n",
      "37567 4083 405 75\n",
      "Number of treatment 37567\n",
      "Revenue -2335.05\n",
      "****************************************************************************************************\n",
      "41650 0 480 0\n"
     ]
    },
    {
     "name": "stderr",
     "output_type": "stream",
     "text": [
      "\r",
      " 77%|███████▋  | 7698/10000 [05:24<01:41, 22.67it/s]"
     ]
    },
    {
     "name": "stdout",
     "output_type": "stream",
     "text": [
      "0 41650 0 480\n",
      "41650 0 480 0\n",
      "41650 0 480 0\n",
      "41650 0 480 0\n",
      "41650 0 480 0\n"
     ]
    },
    {
     "name": "stderr",
     "output_type": "stream",
     "text": [
      " 77%|███████▋  | 7704/10000 [05:25<01:39, 23.02it/s]"
     ]
    },
    {
     "name": "stdout",
     "output_type": "stream",
     "text": [
      "41650 0 480 0\n",
      "41650 0 480 0\n",
      "41650 0 480 0\n",
      "41650 0 480 0\n",
      "41650 0 480 0\n"
     ]
    },
    {
     "name": "stderr",
     "output_type": "stream",
     "text": [
      " 77%|███████▋  | 7710/10000 [05:25<01:44, 21.87it/s]"
     ]
    },
    {
     "name": "stdout",
     "output_type": "stream",
     "text": [
      "41650 0 480 0\n",
      "41650 0 480 0\n",
      "10852 30798 61 419\n",
      "Number of treatment 10852\n",
      "Revenue -5207.8\n",
      "****************************************************************************************************\n",
      "41650 0 480 0\n",
      "41650 0 480 0\n"
     ]
    },
    {
     "name": "stderr",
     "output_type": "stream",
     "text": [
      "\r",
      " 77%|███████▋  | 7713/10000 [05:25<01:47, 21.33it/s]"
     ]
    },
    {
     "name": "stdout",
     "output_type": "stream",
     "text": [
      "41650 0 480 0\n",
      "41650 0 480 0\n",
      "41650 0 480 0\n",
      "0 41650 0 480\n",
      "41650 0 480 0\n"
     ]
    },
    {
     "name": "stderr",
     "output_type": "stream",
     "text": [
      " 77%|███████▋  | 7719/10000 [05:25<01:44, 21.86it/s]"
     ]
    },
    {
     "name": "stdout",
     "output_type": "stream",
     "text": [
      "41650 0 480 0\n",
      "41650 0 480 0\n",
      "41650 0 480 0\n",
      "41650 0 480 0\n",
      "41650 0 480 0\n"
     ]
    },
    {
     "name": "stderr",
     "output_type": "stream",
     "text": [
      " 77%|███████▋  | 7725/10000 [05:26<01:41, 22.34it/s]"
     ]
    },
    {
     "name": "stdout",
     "output_type": "stream",
     "text": [
      "41650 0 480 0\n",
      "41650 0 480 0\n",
      "41650 0 480 0\n",
      "41650 0 480 0\n",
      "41650 0 480 0\n"
     ]
    },
    {
     "name": "stderr",
     "output_type": "stream",
     "text": [
      "\r",
      " 77%|███████▋  | 7728/10000 [05:26<01:41, 22.49it/s]"
     ]
    },
    {
     "name": "stdout",
     "output_type": "stream",
     "text": [
      "41650 0 480 0\n",
      "41650 0 480 0\n",
      "41650 0 480 0\n",
      "8986 32664 56 424\n",
      "Number of treatment 8986\n",
      "Revenue -5027.9\n",
      "****************************************************************************************************\n",
      "41650 0 480 0\n"
     ]
    },
    {
     "name": "stderr",
     "output_type": "stream",
     "text": [
      " 77%|███████▋  | 7734/10000 [05:26<01:42, 22.20it/s]"
     ]
    },
    {
     "name": "stdout",
     "output_type": "stream",
     "text": [
      "41650 0 480 0\n",
      "41650 0 480 0\n",
      "41650 0 480 0\n",
      "41650 0 480 0\n",
      "41650 0 480 0\n"
     ]
    },
    {
     "name": "stderr",
     "output_type": "stream",
     "text": [
      " 77%|███████▋  | 7740/10000 [05:26<01:35, 23.74it/s]"
     ]
    },
    {
     "name": "stdout",
     "output_type": "stream",
     "text": [
      "41650 0 480 0\n",
      "41650 0 480 0\n",
      "41650 0 480 0\n",
      "41650 0 480 0\n",
      "41650 0 480 0\n",
      "41650 0 480 0\n"
     ]
    },
    {
     "name": "stderr",
     "output_type": "stream",
     "text": [
      " 77%|███████▋  | 7746/10000 [05:26<01:33, 24.02it/s]"
     ]
    },
    {
     "name": "stdout",
     "output_type": "stream",
     "text": [
      "41650 0 480 0\n",
      "41650 0 480 0\n",
      "41650 0 480 0\n",
      "41650 0 480 0\n",
      "41650 0 480 0\n"
     ]
    },
    {
     "name": "stderr",
     "output_type": "stream",
     "text": [
      " 78%|███████▊  | 7752/10000 [05:27<01:32, 24.24it/s]"
     ]
    },
    {
     "name": "stdout",
     "output_type": "stream",
     "text": [
      "0 41650 0 480\n",
      "41650 0 480 0\n",
      "13240 28410 76 404\n",
      "0 41650 0 480\n",
      "41650 0 480 0\n",
      "41097 553 472 8\n",
      "Number of treatment 41097\n",
      "Revenue -1524.5500000000002\n",
      "****************************************************************************************************\n"
     ]
    },
    {
     "name": "stderr",
     "output_type": "stream",
     "text": [
      "\r",
      " 78%|███████▊  | 7755/10000 [05:27<01:32, 24.25it/s]"
     ]
    },
    {
     "name": "stdout",
     "output_type": "stream",
     "text": [
      "41650 0 480 0\n",
      "41650 0 480 0\n",
      "41650 0 480 0\n",
      "41650 0 480 0\n",
      "41650 0 480 0\n"
     ]
    },
    {
     "name": "stderr",
     "output_type": "stream",
     "text": [
      " 78%|███████▊  | 7761/10000 [05:27<01:37, 23.08it/s]"
     ]
    },
    {
     "name": "stdout",
     "output_type": "stream",
     "text": [
      "41650 0 480 0\n",
      "41650 0 480 0\n",
      "41650 0 480 0\n",
      "41650 0 480 0\n",
      "41650 0 480 0\n"
     ]
    },
    {
     "name": "stderr",
     "output_type": "stream",
     "text": [
      " 78%|███████▊  | 7767/10000 [05:27<01:37, 22.98it/s]"
     ]
    },
    {
     "name": "stdout",
     "output_type": "stream",
     "text": [
      "41650 0 480 0\n",
      "41089 561 472 8\n",
      "Number of treatment 41089\n",
      "Revenue -1523.3499999999995\n",
      "****************************************************************************************************\n",
      "41650 0 480 0\n",
      "41650 0 480 0\n",
      "12963 28687 75 405\n",
      "Number of treatment 12963\n",
      "Revenue -5244.45\n",
      "****************************************************************************************************\n"
     ]
    },
    {
     "name": "stderr",
     "output_type": "stream",
     "text": [
      "\r",
      " 78%|███████▊  | 7770/10000 [05:27<01:35, 23.40it/s]"
     ]
    },
    {
     "name": "stdout",
     "output_type": "stream",
     "text": [
      "41650 0 480 0\n",
      "0 41650 0 480\n",
      "41650 0 480 0\n",
      "41650 0 480 0\n",
      "41650 0 480 0\n"
     ]
    },
    {
     "name": "stderr",
     "output_type": "stream",
     "text": [
      " 78%|███████▊  | 7776/10000 [05:28<01:36, 23.12it/s]"
     ]
    },
    {
     "name": "stdout",
     "output_type": "stream",
     "text": [
      "41650 0 480 0\n",
      "41635 15 480 0\n",
      "41650 0 480 0\n",
      "41650 0 480 0\n",
      "41650 0 480 0\n"
     ]
    },
    {
     "name": "stderr",
     "output_type": "stream",
     "text": [
      " 78%|███████▊  | 7782/10000 [05:28<01:37, 22.70it/s]"
     ]
    },
    {
     "name": "stdout",
     "output_type": "stream",
     "text": [
      "184 41466 3 477\n",
      "Number of treatment 184\n",
      "Revenue -4767.6\n",
      "****************************************************************************************************\n",
      "41650 0 480 0\n",
      "41650 0 480 0\n",
      "41650 0 480 0\n",
      "41650 0 480 0\n"
     ]
    },
    {
     "name": "stderr",
     "output_type": "stream",
     "text": [
      "\r",
      " 78%|███████▊  | 7785/10000 [05:28<01:37, 22.83it/s]"
     ]
    },
    {
     "name": "stdout",
     "output_type": "stream",
     "text": [
      "93 41557 1 479\n",
      "Number of treatment 93\n",
      "Revenue -4793.95\n",
      "****************************************************************************************************\n",
      "41650 0 480 0\n",
      "41650 0 480 0\n",
      "41650 0 480 0\n",
      "41650 0 480 0\n"
     ]
    },
    {
     "name": "stderr",
     "output_type": "stream",
     "text": [
      " 78%|███████▊  | 7791/10000 [05:28<01:36, 22.94it/s]"
     ]
    },
    {
     "name": "stdout",
     "output_type": "stream",
     "text": [
      "41650 0 480 0\n",
      "41650 0 480 0\n",
      "41650 0 480 0\n",
      "41650 0 480 0\n",
      "41650 0 480 0\n",
      "41650 0 480 0\n"
     ]
    },
    {
     "name": "stderr",
     "output_type": "stream",
     "text": [
      " 78%|███████▊  | 7797/10000 [05:29<01:35, 22.99it/s]"
     ]
    },
    {
     "name": "stdout",
     "output_type": "stream",
     "text": [
      "41650 0 480 0\n",
      "25 41625 0 480\n",
      "Number of treatment 25\n",
      "Revenue -4803.75\n",
      "****************************************************************************************************\n",
      "41650 0 480 0\n",
      "41650 0 480 0\n",
      "28432 13218 270 210\n",
      "Number of treatment 28432\n",
      "Revenue -3664.8\n",
      "****************************************************************************************************\n"
     ]
    },
    {
     "name": "stderr",
     "output_type": "stream",
     "text": [
      " 78%|███████▊  | 7803/10000 [05:29<01:36, 22.83it/s]"
     ]
    },
    {
     "name": "stdout",
     "output_type": "stream",
     "text": [
      "41650 0 480 0\n",
      "41650 0 480 0\n",
      "41650 0 480 0\n",
      "41650 0 480 0\n",
      "41650 0 480 0\n"
     ]
    },
    {
     "name": "stderr",
     "output_type": "stream",
     "text": [
      "\r",
      " 78%|███████▊  | 7806/10000 [05:29<01:38, 22.24it/s]"
     ]
    },
    {
     "name": "stdout",
     "output_type": "stream",
     "text": [
      "20729 20921 170 310\n",
      "Number of treatment 20729\n",
      "Revenue -4509.35\n",
      "****************************************************************************************************\n",
      "41650 0 480 0\n",
      "41650 0 480 0\n",
      "41650 0 480 0\n",
      "41650 0 480 0\n"
     ]
    },
    {
     "name": "stderr",
     "output_type": "stream",
     "text": [
      " 78%|███████▊  | 7812/10000 [05:29<01:34, 23.16it/s]"
     ]
    },
    {
     "name": "stdout",
     "output_type": "stream",
     "text": [
      "41650 0 480 0\n",
      "41650 0 480 0\n",
      "41650 0 480 0\n",
      "41650 0 480 0\n",
      "41650 0 480 0\n"
     ]
    },
    {
     "name": "stderr",
     "output_type": "stream",
     "text": [
      " 78%|███████▊  | 7818/10000 [05:30<01:32, 23.57it/s]"
     ]
    },
    {
     "name": "stdout",
     "output_type": "stream",
     "text": [
      "41650 0 480 0\n",
      "41650 0 480 0\n",
      "41650 0 480 0\n",
      "0 41650 0 480\n",
      "41650 0 480 0\n"
     ]
    },
    {
     "name": "stderr",
     "output_type": "stream",
     "text": [
      "\r",
      " 78%|███████▊  | 7821/10000 [05:30<01:31, 23.76it/s]"
     ]
    },
    {
     "name": "stdout",
     "output_type": "stream",
     "text": [
      "41650 0 480 0\n",
      "24680 16970 218 262\n",
      "Number of treatment 24680\n",
      "Revenue -4142.0\n",
      "****************************************************************************************************\n",
      "41650 0 480 0\n",
      "41650 0 480 0\n",
      "0 41650 0 480\n"
     ]
    },
    {
     "name": "stderr",
     "output_type": "stream",
     "text": [
      " 78%|███████▊  | 7827/10000 [05:30<01:32, 23.54it/s]"
     ]
    },
    {
     "name": "stdout",
     "output_type": "stream",
     "text": [
      "41650 0 480 0\n",
      "41650 0 480 0\n",
      "41650 0 480 0\n",
      "41650 0 480 0\n",
      "41650 0 480 0\n"
     ]
    },
    {
     "name": "stderr",
     "output_type": "stream",
     "text": [
      " 78%|███████▊  | 7833/10000 [05:30<01:33, 23.14it/s]"
     ]
    },
    {
     "name": "stdout",
     "output_type": "stream",
     "text": [
      "41650 0 480 0\n",
      "17165 24485 133 347\n",
      "Number of treatment 17165\n",
      "Revenue -4714.75\n",
      "****************************************************************************************************\n",
      "21365 20285 180 300\n",
      "Number of treatment 21365\n",
      "Revenue -4404.75\n",
      "****************************************************************************************************\n",
      "41650 0 480 0\n",
      "13323 28327 76 404\n",
      "Number of treatment 13323\n",
      "Revenue -5278.45\n",
      "****************************************************************************************************\n"
     ]
    },
    {
     "name": "stderr",
     "output_type": "stream",
     "text": [
      "\r",
      " 78%|███████▊  | 7836/10000 [05:30<01:34, 22.97it/s]"
     ]
    },
    {
     "name": "stdout",
     "output_type": "stream",
     "text": [
      "41388 262 477 3\n",
      "Number of treatment 41388\n",
      "Revenue -1468.1999999999998\n",
      "****************************************************************************************************\n",
      "0 41650 0 480\n",
      "41650 0 480 0\n",
      "41650 0 480 0\n",
      "41649 1 480 0\n"
     ]
    },
    {
     "name": "stderr",
     "output_type": "stream",
     "text": [
      " 78%|███████▊  | 7842/10000 [05:31<01:32, 23.30it/s]"
     ]
    },
    {
     "name": "stdout",
     "output_type": "stream",
     "text": [
      "41650 0 480 0\n",
      "41650 0 480 0\n",
      "41650 0 480 0\n",
      "41650 0 480 0\n",
      "41650 0 480 0\n"
     ]
    },
    {
     "name": "stderr",
     "output_type": "stream",
     "text": [
      " 78%|███████▊  | 7848/10000 [05:31<01:34, 22.76it/s]"
     ]
    },
    {
     "name": "stdout",
     "output_type": "stream",
     "text": [
      "41650 0 480 0\n",
      "41650 0 480 0\n",
      "41650 0 480 0\n",
      "41650 0 480 0\n",
      "39135 2515 439 41\n",
      "Number of treatment 39135\n",
      "Revenue -1890.25\n",
      "****************************************************************************************************\n"
     ]
    },
    {
     "name": "stderr",
     "output_type": "stream",
     "text": [
      " 79%|███████▊  | 7854/10000 [05:31<01:29, 23.94it/s]"
     ]
    },
    {
     "name": "stdout",
     "output_type": "stream",
     "text": [
      "41650 0 480 0\n",
      "41650 0 480 0\n",
      "41650 0 480 0\n",
      "41650 0 480 0\n",
      "41650 0 480 0\n",
      "41650 0 480 0\n"
     ]
    },
    {
     "name": "stderr",
     "output_type": "stream",
     "text": [
      "\r",
      " 79%|███████▊  | 7857/10000 [05:31<01:31, 23.35it/s]"
     ]
    },
    {
     "name": "stdout",
     "output_type": "stream",
     "text": [
      "41650 0 480 0\n",
      "0 41650 0 480\n",
      "41650 0 480 0\n",
      "41650 0 480 0\n",
      "41650 0 480 0\n"
     ]
    },
    {
     "name": "stderr",
     "output_type": "stream",
     "text": [
      " 79%|███████▊  | 7863/10000 [05:31<01:37, 21.93it/s]"
     ]
    },
    {
     "name": "stdout",
     "output_type": "stream",
     "text": [
      "41650 0 480 0\n",
      "28591 13059 271 209\n",
      "Number of treatment 28591\n",
      "Revenue -3668.6499999999996\n",
      "****************************************************************************************************\n",
      "41650 0 480 0\n",
      "41650 0 480 0\n"
     ]
    },
    {
     "name": "stderr",
     "output_type": "stream",
     "text": [
      "\r",
      " 79%|███████▊  | 7866/10000 [05:32<01:38, 21.58it/s]"
     ]
    },
    {
     "name": "stdout",
     "output_type": "stream",
     "text": [
      "41650 0 480 0\n",
      "41570 80 480 0\n",
      "41650 0 480 0\n",
      "41650 0 480 0\n",
      "41650 0 480 0\n"
     ]
    },
    {
     "name": "stderr",
     "output_type": "stream",
     "text": [
      " 79%|███████▊  | 7872/10000 [05:32<01:38, 21.58it/s]"
     ]
    },
    {
     "name": "stdout",
     "output_type": "stream",
     "text": [
      "41650 0 480 0\n",
      "13262 28388 76 404\n",
      "41650 0 480 0\n",
      "41650 0 480 0\n",
      "41650 0 480 0\n"
     ]
    },
    {
     "name": "stderr",
     "output_type": "stream",
     "text": [
      " 79%|███████▉  | 7878/10000 [05:32<01:38, 21.58it/s]"
     ]
    },
    {
     "name": "stdout",
     "output_type": "stream",
     "text": [
      "41650 0 480 0\n",
      "0 41650 0 480\n",
      "0 41650 0 480\n",
      "19549 22101 160 320\n",
      "Number of treatment 19549\n",
      "Revenue -4532.35\n",
      "****************************************************************************************************\n",
      "41650 0 480 0\n"
     ]
    },
    {
     "name": "stderr",
     "output_type": "stream",
     "text": [
      "\r",
      " 79%|███████▉  | 7881/10000 [05:32<01:40, 21.02it/s]"
     ]
    },
    {
     "name": "stdout",
     "output_type": "stream",
     "text": [
      "41650 0 480 0\n",
      "41650 0 480 0\n",
      "0 41650 0 480\n",
      "41650 0 480 0\n",
      "24130 17520 213 267\n",
      "Number of treatment 24130\n",
      "Revenue -4159.5\n",
      "****************************************************************************************************\n"
     ]
    },
    {
     "name": "stderr",
     "output_type": "stream",
     "text": [
      " 79%|███████▉  | 7887/10000 [05:33<01:38, 21.43it/s]"
     ]
    },
    {
     "name": "stdout",
     "output_type": "stream",
     "text": [
      "0 41650 0 480\n",
      "41650 0 480 0\n",
      "7447 34203 50 430\n",
      "Number of treatment 7447\n",
      "Revenue -4917.05\n",
      "****************************************************************************************************\n",
      "5625 36025 40 440\n",
      "13898 27752 83 397\n",
      "Number of treatment 13898\n",
      "Revenue -5224.7\n",
      "****************************************************************************************************\n"
     ]
    },
    {
     "name": "stderr",
     "output_type": "stream",
     "text": [
      " 79%|███████▉  | 7893/10000 [05:33<01:36, 21.79it/s]"
     ]
    },
    {
     "name": "stdout",
     "output_type": "stream",
     "text": [
      "41650 0 480 0\n",
      "41650 0 480 0\n",
      "41650 0 480 0\n",
      "41650 0 480 0\n",
      "41650 0 480 0\n"
     ]
    },
    {
     "name": "stderr",
     "output_type": "stream",
     "text": [
      "\r",
      " 79%|███████▉  | 7896/10000 [05:33<01:36, 21.88it/s]"
     ]
    },
    {
     "name": "stdout",
     "output_type": "stream",
     "text": [
      "41650 0 480 0\n",
      "41650 0 480 0\n",
      "41650 0 480 0\n",
      "41650 0 480 0\n",
      "41650 0 480 0\n"
     ]
    },
    {
     "name": "stderr",
     "output_type": "stream",
     "text": [
      " 79%|███████▉  | 7902/10000 [05:33<01:32, 22.64it/s]"
     ]
    },
    {
     "name": "stdout",
     "output_type": "stream",
     "text": [
      "41650 0 480 0\n",
      "0 41650 0 480\n",
      "41650 0 480 0\n",
      "41650 0 480 0\n",
      "41650 0 480 0\n"
     ]
    },
    {
     "name": "stderr",
     "output_type": "stream",
     "text": [
      " 79%|███████▉  | 7908/10000 [05:34<01:31, 22.87it/s]"
     ]
    },
    {
     "name": "stdout",
     "output_type": "stream",
     "text": [
      "0 41650 0 480\n",
      "41650 0 480 0\n",
      "0 41650 0 480\n",
      "1143 40507 9 471\n",
      "Number of treatment 1143\n",
      "Revenue -4791.45\n",
      "****************************************************************************************************\n",
      "41650 0 480 0\n"
     ]
    },
    {
     "name": "stderr",
     "output_type": "stream",
     "text": [
      " 79%|███████▉  | 7914/10000 [05:34<01:28, 23.65it/s]"
     ]
    },
    {
     "name": "stdout",
     "output_type": "stream",
     "text": [
      "41650 0 480 0\n",
      "41650 0 480 0\n",
      "41650 0 480 0\n",
      "31362 10288 309 171\n",
      "Number of treatment 31362\n",
      "Revenue -3324.3\n",
      "****************************************************************************************************\n",
      "41650 0 480 0\n",
      "41650 0 480 0\n"
     ]
    },
    {
     "name": "stderr",
     "output_type": "stream",
     "text": [
      "\r",
      " 79%|███████▉  | 7917/10000 [05:34<01:31, 22.67it/s]"
     ]
    },
    {
     "name": "stdout",
     "output_type": "stream",
     "text": [
      "41650 0 480 0\n",
      "25016 16634 221 259\n",
      "Number of treatment 25016\n",
      "Revenue -4132.4\n",
      "****************************************************************************************************\n",
      "41650 0 480 0\n",
      "41650 0 480 0\n",
      "41650 0 480 0\n"
     ]
    },
    {
     "name": "stderr",
     "output_type": "stream",
     "text": [
      " 79%|███████▉  | 7923/10000 [05:34<01:28, 23.46it/s]"
     ]
    },
    {
     "name": "stdout",
     "output_type": "stream",
     "text": [
      "41650 0 480 0\n",
      "41650 0 480 0\n",
      "41650 0 480 0\n",
      "40408 1242 466 14\n",
      "Number of treatment 40408\n",
      "Revenue -1541.1999999999998\n",
      "****************************************************************************************************\n",
      "41650 0 480 0\n"
     ]
    },
    {
     "name": "stderr",
     "output_type": "stream",
     "text": [
      " 79%|███████▉  | 7929/10000 [05:34<01:33, 22.04it/s]"
     ]
    },
    {
     "name": "stdout",
     "output_type": "stream",
     "text": [
      "41650 0 480 0\n",
      "41650 0 480 0\n",
      "41650 0 480 0\n",
      "41650 0 480 0\n",
      "22130 19520 187 293\n",
      "Number of treatment 22130\n",
      "Revenue -4379.5\n",
      "****************************************************************************************************\n"
     ]
    },
    {
     "name": "stderr",
     "output_type": "stream",
     "text": [
      "\r",
      " 79%|███████▉  | 7932/10000 [05:35<01:33, 22.05it/s]"
     ]
    },
    {
     "name": "stdout",
     "output_type": "stream",
     "text": [
      "41650 0 480 0\n",
      "41650 0 480 0\n",
      "41650 0 480 0\n",
      "41650 0 480 0\n",
      "41650 0 480 0\n"
     ]
    },
    {
     "name": "stderr",
     "output_type": "stream",
     "text": [
      " 79%|███████▉  | 7938/10000 [05:35<01:32, 22.25it/s]"
     ]
    },
    {
     "name": "stdout",
     "output_type": "stream",
     "text": [
      "34344 7306 361 119\n",
      "Number of treatment 34344\n",
      "Revenue -2731.5999999999995\n",
      "****************************************************************************************************\n",
      "41650 0 480 0\n",
      "39425 2225 447 33\n",
      "Number of treatment 39425\n",
      "Revenue -1773.75\n",
      "****************************************************************************************************\n",
      "0 41650 0 480\n",
      "41650 0 480 0\n"
     ]
    },
    {
     "name": "stderr",
     "output_type": "stream",
     "text": [
      " 79%|███████▉  | 7944/10000 [05:35<01:31, 22.36it/s]"
     ]
    },
    {
     "name": "stdout",
     "output_type": "stream",
     "text": [
      "41650 0 480 0\n",
      "36451 5199 391 89\n",
      "Number of treatment 36451\n",
      "Revenue -2447.6499999999996\n",
      "****************************************************************************************************\n",
      "41650 0 480 0\n",
      "40828 822 470 10\n",
      "41650 0 480 0\n"
     ]
    },
    {
     "name": "stderr",
     "output_type": "stream",
     "text": [
      "\r",
      " 79%|███████▉  | 7947/10000 [05:35<01:31, 22.32it/s]"
     ]
    },
    {
     "name": "stdout",
     "output_type": "stream",
     "text": [
      "0 41650 0 480\n",
      "41650 0 480 0\n",
      "3401 38249 23 457\n",
      "Number of treatment 3401\n",
      "Revenue -4850.15\n",
      "****************************************************************************************************\n",
      "41650 0 480 0\n",
      "0 41650 0 480\n"
     ]
    },
    {
     "name": "stderr",
     "output_type": "stream",
     "text": [
      " 80%|███████▉  | 7953/10000 [05:36<01:33, 21.88it/s]"
     ]
    },
    {
     "name": "stdout",
     "output_type": "stream",
     "text": [
      "26163 15487 236 244\n",
      "Number of treatment 26163\n",
      "Revenue -4004.45\n",
      "****************************************************************************************************\n",
      "41650 0 480 0\n",
      "13556 28094 79 401\n",
      "Number of treatment 13556\n",
      "Revenue -5253.4\n",
      "****************************************************************************************************\n",
      "41650 0 480 0\n",
      "41650 0 480 0\n"
     ]
    },
    {
     "name": "stderr",
     "output_type": "stream",
     "text": [
      " 80%|███████▉  | 7959/10000 [05:36<01:30, 22.50it/s]"
     ]
    },
    {
     "name": "stdout",
     "output_type": "stream",
     "text": [
      "41650 0 480 0\n",
      "41650 0 480 0\n",
      "41650 0 480 0\n",
      "41650 0 480 0\n",
      "41650 0 480 0\n"
     ]
    },
    {
     "name": "stderr",
     "output_type": "stream",
     "text": [
      "\r",
      " 80%|███████▉  | 7962/10000 [05:36<01:32, 22.00it/s]"
     ]
    },
    {
     "name": "stdout",
     "output_type": "stream",
     "text": [
      "41650 0 480 0\n",
      "41650 0 480 0\n",
      "41650 0 480 0\n",
      "41650 0 480 0\n",
      "41650 0 480 0\n"
     ]
    },
    {
     "name": "stderr",
     "output_type": "stream",
     "text": [
      " 80%|███████▉  | 7968/10000 [05:36<01:29, 22.76it/s]"
     ]
    },
    {
     "name": "stdout",
     "output_type": "stream",
     "text": [
      "41650 0 480 0\n",
      "41650 0 480 0\n",
      "41650 0 480 0\n",
      "41650 0 480 0\n",
      "41650 0 480 0\n"
     ]
    },
    {
     "name": "stderr",
     "output_type": "stream",
     "text": [
      " 80%|███████▉  | 7974/10000 [05:36<01:27, 23.28it/s]"
     ]
    },
    {
     "name": "stdout",
     "output_type": "stream",
     "text": [
      "39790 1860 452 28\n",
      "Number of treatment 39790\n",
      "Revenue -1728.5\n",
      "****************************************************************************************************\n",
      "41650 0 480 0\n",
      "41650 0 480 0\n",
      "41650 0 480 0\n",
      "41650 0 480 0\n"
     ]
    },
    {
     "name": "stderr",
     "output_type": "stream",
     "text": [
      "\r",
      " 80%|███████▉  | 7977/10000 [05:37<01:25, 23.62it/s]"
     ]
    },
    {
     "name": "stdout",
     "output_type": "stream",
     "text": [
      "41650 0 480 0\n",
      "41650 0 480 0\n",
      "41650 0 480 0\n",
      "6933 34717 47 433\n",
      "Number of treatment 6933\n",
      "Revenue -4899.95\n",
      "****************************************************************************************************\n",
      "41650 0 480 0\n"
     ]
    },
    {
     "name": "stderr",
     "output_type": "stream",
     "text": [
      " 80%|███████▉  | 7983/10000 [05:37<01:23, 24.18it/s]"
     ]
    },
    {
     "name": "stdout",
     "output_type": "stream",
     "text": [
      "41650 0 480 0\n",
      "41650 0 480 0\n",
      "41650 0 480 0\n",
      "31667 9983 315 165\n",
      "Number of treatment 31667\n",
      "Revenue -3250.05\n",
      "****************************************************************************************************\n",
      "41650 0 480 0\n"
     ]
    },
    {
     "name": "stderr",
     "output_type": "stream",
     "text": [
      " 80%|███████▉  | 7989/10000 [05:37<01:21, 24.58it/s]"
     ]
    },
    {
     "name": "stdout",
     "output_type": "stream",
     "text": [
      "41650 0 480 0\n",
      "41650 0 480 0\n",
      "41650 0 480 0\n",
      "41650 0 480 0\n",
      "40573 1077 467 13\n",
      "Number of treatment 40573\n",
      "Revenue -1545.9499999999998\n",
      "****************************************************************************************************\n",
      "41650 0 480 0\n"
     ]
    },
    {
     "name": "stderr",
     "output_type": "stream",
     "text": [
      " 80%|███████▉  | 7995/10000 [05:37<01:23, 24.02it/s]"
     ]
    },
    {
     "name": "stdout",
     "output_type": "stream",
     "text": [
      "41650 0 480 0\n",
      "41650 0 480 0\n",
      "41650 0 480 0\n",
      "41650 0 480 0\n",
      "41650 0 480 0\n"
     ]
    },
    {
     "name": "stderr",
     "output_type": "stream",
     "text": [
      "\r",
      " 80%|███████▉  | 7998/10000 [05:37<01:23, 23.86it/s]"
     ]
    },
    {
     "name": "stdout",
     "output_type": "stream",
     "text": [
      "41650 0 480 0\n",
      "41650 0 480 0\n",
      "41650 0 480 0\n",
      "41650 0 480 0\n",
      "41650 0 480 0\n"
     ]
    },
    {
     "name": "stderr",
     "output_type": "stream",
     "text": [
      " 80%|████████  | 8004/10000 [05:38<01:26, 23.00it/s]"
     ]
    },
    {
     "name": "stdout",
     "output_type": "stream",
     "text": [
      "41650 0 480 0\n",
      "20780 20870 170 310\n",
      "Number of treatment 20780\n",
      "Revenue -4517.0\n",
      "****************************************************************************************************\n",
      "41650 0 480 0\n",
      "41650 0 480 0\n",
      "0 41650 0 480\n"
     ]
    },
    {
     "name": "stderr",
     "output_type": "stream",
     "text": [
      " 80%|████████  | 8010/10000 [05:38<01:26, 23.08it/s]"
     ]
    },
    {
     "name": "stdout",
     "output_type": "stream",
     "text": [
      "41650 0 480 0\n",
      "41650 0 480 0\n",
      "41650 0 480 0\n",
      "39209 2441 443 37\n",
      "Number of treatment 39209\n",
      "Revenue -1821.3499999999995\n",
      "****************************************************************************************************\n",
      "0 41650 0 480\n"
     ]
    },
    {
     "name": "stderr",
     "output_type": "stream",
     "text": [
      "\r",
      " 80%|████████  | 8013/10000 [05:38<01:27, 22.65it/s]"
     ]
    },
    {
     "name": "stdout",
     "output_type": "stream",
     "text": [
      "0 41650 0 480\n",
      "5798 35852 40 440\n",
      "41650 0 480 0\n",
      "41650 0 480 0\n",
      "41650 0 480 0\n"
     ]
    },
    {
     "name": "stderr",
     "output_type": "stream",
     "text": [
      " 80%|████████  | 8019/10000 [05:38<01:25, 23.09it/s]"
     ]
    },
    {
     "name": "stdout",
     "output_type": "stream",
     "text": [
      "41650 0 480 0\n",
      "41650 0 480 0\n",
      "12893 28757 75 405\n",
      "Number of treatment 12893\n",
      "Revenue -5233.95\n",
      "****************************************************************************************************\n",
      "41650 0 480 0\n",
      "40659 991 467 13\n",
      "Number of treatment 40659\n",
      "Revenue -1558.8499999999995\n",
      "****************************************************************************************************\n"
     ]
    },
    {
     "name": "stderr",
     "output_type": "stream",
     "text": [
      " 80%|████████  | 8025/10000 [05:39<01:24, 23.36it/s]"
     ]
    },
    {
     "name": "stdout",
     "output_type": "stream",
     "text": [
      "13232 28418 76 404\n",
      "Number of treatment 13232\n",
      "Revenue -5264.8\n",
      "****************************************************************************************************\n",
      "41650 0 480 0\n",
      "41650 0 480 0\n",
      "41650 0 480 0\n",
      "41650 0 480 0\n"
     ]
    },
    {
     "name": "stderr",
     "output_type": "stream",
     "text": [
      "\r",
      " 80%|████████  | 8028/10000 [05:39<01:22, 23.84it/s]"
     ]
    },
    {
     "name": "stdout",
     "output_type": "stream",
     "text": [
      "41598 52 480 0\n",
      "41650 0 480 0\n",
      "41650 0 480 0\n",
      "41650 0 480 0\n",
      "41650 0 480 0\n"
     ]
    },
    {
     "name": "stderr",
     "output_type": "stream",
     "text": [
      " 80%|████████  | 8034/10000 [05:39<01:22, 23.84it/s]"
     ]
    },
    {
     "name": "stdout",
     "output_type": "stream",
     "text": [
      "41650 0 480 0\n",
      "41650 0 480 0\n",
      "32805 8845 335 145\n",
      "Number of treatment 32805\n",
      "Revenue -3020.75\n",
      "****************************************************************************************************\n",
      "9366 32284 57 423\n",
      "Number of treatment 9366\n",
      "Revenue -5064.9\n",
      "****************************************************************************************************\n",
      "41650 0 480 0\n"
     ]
    },
    {
     "name": "stderr",
     "output_type": "stream",
     "text": [
      " 80%|████████  | 8040/10000 [05:39<01:21, 24.00it/s]"
     ]
    },
    {
     "name": "stdout",
     "output_type": "stream",
     "text": [
      "41650 0 480 0\n",
      "41650 0 480 0\n",
      "41650 0 480 0\n",
      "0 41650 0 480\n",
      "41650 0 480 0\n"
     ]
    },
    {
     "name": "stderr",
     "output_type": "stream",
     "text": [
      "\r",
      " 80%|████████  | 8043/10000 [05:39<01:22, 23.76it/s]"
     ]
    },
    {
     "name": "stdout",
     "output_type": "stream",
     "text": [
      "34278 7372 359 121\n",
      "Number of treatment 34278\n",
      "Revenue -2761.7\n",
      "****************************************************************************************************\n",
      "13585 28065 79 401\n",
      "Number of treatment 13585\n",
      "Revenue -5257.75\n",
      "****************************************************************************************************\n",
      "41650 0 480 0\n",
      "41650 0 480 0\n",
      "41650 0 480 0\n"
     ]
    },
    {
     "name": "stderr",
     "output_type": "stream",
     "text": [
      " 80%|████████  | 8049/10000 [05:40<01:21, 23.83it/s]"
     ]
    },
    {
     "name": "stdout",
     "output_type": "stream",
     "text": [
      "21042 20608 176 304\n",
      "Number of treatment 21042\n",
      "Revenue -4436.299999999999\n",
      "****************************************************************************************************\n",
      "41650 0 480 0\n",
      "41650 0 480 0\n",
      "41650 0 480 0\n",
      "41650 0 480 0\n"
     ]
    },
    {
     "name": "stderr",
     "output_type": "stream",
     "text": [
      " 81%|████████  | 8055/10000 [05:40<01:20, 24.07it/s]"
     ]
    },
    {
     "name": "stdout",
     "output_type": "stream",
     "text": [
      "0 41650 0 480\n",
      "41650 0 480 0\n",
      "41650 0 480 0\n",
      "41650 0 480 0\n",
      "41650 0 480 0\n"
     ]
    },
    {
     "name": "stderr",
     "output_type": "stream",
     "text": [
      " 81%|████████  | 8061/10000 [05:40<01:19, 24.26it/s]"
     ]
    },
    {
     "name": "stdout",
     "output_type": "stream",
     "text": [
      "41650 0 480 0\n",
      "41650 0 480 0\n",
      "41650 0 480 0\n",
      "41650 0 480 0\n",
      "41650 0 480 0\n",
      "6593 35057 44 436\n",
      "Number of treatment 6593\n",
      "Revenue -4908.95\n",
      "****************************************************************************************************\n"
     ]
    },
    {
     "name": "stderr",
     "output_type": "stream",
     "text": [
      " 81%|████████  | 8067/10000 [05:40<01:19, 24.27it/s]"
     ]
    },
    {
     "name": "stdout",
     "output_type": "stream",
     "text": [
      "41650 0 480 0\n",
      "11738 29912 68 412\n",
      "Number of treatment 11738\n",
      "Revenue -5200.7\n",
      "****************************************************************************************************\n",
      "41650 0 480 0\n",
      "5057 36593 34 446\n",
      "Number of treatment 5057\n",
      "Revenue -4878.55\n",
      "****************************************************************************************************\n",
      "41650 0 480 0\n",
      "0 41650 0 480\n"
     ]
    },
    {
     "name": "stderr",
     "output_type": "stream",
     "text": [
      "\r",
      " 81%|████████  | 8070/10000 [05:41<01:21, 23.82it/s]"
     ]
    },
    {
     "name": "stdout",
     "output_type": "stream",
     "text": [
      "41650 0 480 0\n",
      "41650 0 480 0\n",
      "41650 0 480 0\n",
      "41650 0 480 0\n",
      "41650 0 480 0\n"
     ]
    },
    {
     "name": "stderr",
     "output_type": "stream",
     "text": [
      " 81%|████████  | 8076/10000 [05:41<01:20, 23.97it/s]"
     ]
    },
    {
     "name": "stdout",
     "output_type": "stream",
     "text": [
      "41650 0 480 0\n",
      "41650 0 480 0\n",
      "17507 24143 137 343\n",
      "Number of treatment 17507\n",
      "Revenue -4686.049999999999\n",
      "****************************************************************************************************\n",
      "41650 0 480 0\n",
      "41650 0 480 0\n"
     ]
    },
    {
     "name": "stderr",
     "output_type": "stream",
     "text": [
      " 81%|████████  | 8082/10000 [05:41<01:19, 24.15it/s]"
     ]
    },
    {
     "name": "stdout",
     "output_type": "stream",
     "text": [
      "41650 0 480 0\n",
      "41650 0 480 0\n",
      "41650 0 480 0\n",
      "23252 18398 199 281\n",
      "Number of treatment 23252\n",
      "Revenue -4307.799999999999\n",
      "****************************************************************************************************\n",
      "0 41650 0 480\n"
     ]
    },
    {
     "name": "stderr",
     "output_type": "stream",
     "text": [
      "\r",
      " 81%|████████  | 8085/10000 [05:41<01:21, 23.57it/s]"
     ]
    },
    {
     "name": "stdout",
     "output_type": "stream",
     "text": [
      "0 41650 0 480\n",
      "41650 0 480 0\n",
      "41650 0 480 0\n",
      "41650 0 480 0\n",
      "41650 0 480 0\n"
     ]
    },
    {
     "name": "stderr",
     "output_type": "stream",
     "text": [
      " 81%|████████  | 8091/10000 [05:41<01:20, 23.68it/s]"
     ]
    },
    {
     "name": "stdout",
     "output_type": "stream",
     "text": [
      "41650 0 480 0\n",
      "41650 0 480 0\n",
      "41650 0 480 0\n",
      "41650 0 480 0\n",
      "35562 6088 377 103\n",
      "Number of treatment 35562\n",
      "Revenue -2594.3\n",
      "****************************************************************************************************\n"
     ]
    },
    {
     "name": "stderr",
     "output_type": "stream",
     "text": [
      " 81%|████████  | 8097/10000 [05:42<01:21, 23.29it/s]"
     ]
    },
    {
     "name": "stdout",
     "output_type": "stream",
     "text": [
      "41650 0 480 0\n",
      "0 41650 0 480\n",
      "41650 0 480 0\n",
      "41650 0 480 0\n",
      "14305 27345 89 391\n",
      "Number of treatment 14305\n",
      "Revenue -5165.75\n",
      "****************************************************************************************************\n"
     ]
    },
    {
     "name": "stderr",
     "output_type": "stream",
     "text": [
      "\r",
      " 81%|████████  | 8100/10000 [05:42<01:22, 23.01it/s]"
     ]
    },
    {
     "name": "stdout",
     "output_type": "stream",
     "text": [
      "26388 15262 236 244\n",
      "Number of treatment 26388\n",
      "Revenue -4038.2\n",
      "****************************************************************************************************\n",
      "0 41650 0 480\n",
      "41650 0 480 0\n",
      "41650 0 480 0\n",
      "41650 0 480 0\n"
     ]
    },
    {
     "name": "stderr",
     "output_type": "stream",
     "text": [
      " 81%|████████  | 8106/10000 [05:42<01:24, 22.52it/s]"
     ]
    },
    {
     "name": "stdout",
     "output_type": "stream",
     "text": [
      "41650 0 480 0\n",
      "41650 0 480 0\n",
      "41650 0 480 0\n",
      "11158 30492 64 416\n",
      "Number of treatment 11158\n",
      "Revenue -5193.7\n",
      "****************************************************************************************************\n",
      "41650 0 480 0\n"
     ]
    },
    {
     "name": "stderr",
     "output_type": "stream",
     "text": [
      " 81%|████████  | 8112/10000 [05:42<01:22, 22.90it/s]"
     ]
    },
    {
     "name": "stdout",
     "output_type": "stream",
     "text": [
      "41650 0 480 0\n",
      "41650 0 480 0\n",
      "41650 0 480 0\n",
      "41650 0 480 0\n",
      "41650 0 480 0\n"
     ]
    },
    {
     "name": "stderr",
     "output_type": "stream",
     "text": [
      "\r",
      " 81%|████████  | 8115/10000 [05:42<01:22, 22.86it/s]"
     ]
    },
    {
     "name": "stdout",
     "output_type": "stream",
     "text": [
      "41650 0 480 0\n",
      "41650 0 480 0\n",
      "14532 27118 92 388\n",
      "41650 0 480 0\n",
      "41650 0 480 0\n"
     ]
    },
    {
     "name": "stderr",
     "output_type": "stream",
     "text": [
      " 81%|████████  | 8121/10000 [05:43<01:17, 24.31it/s]"
     ]
    },
    {
     "name": "stdout",
     "output_type": "stream",
     "text": [
      "41650 0 480 0\n",
      "41650 0 480 0\n",
      "41650 0 480 0\n",
      "4907 36743 34 446\n",
      "Number of treatment 4907\n",
      "Revenue -4856.05\n",
      "****************************************************************************************************\n",
      "41650 0 480 0\n",
      "41650 0 480 0\n"
     ]
    },
    {
     "name": "stderr",
     "output_type": "stream",
     "text": [
      " 81%|████████▏ | 8127/10000 [05:43<01:14, 25.17it/s]"
     ]
    },
    {
     "name": "stdout",
     "output_type": "stream",
     "text": [
      "41650 0 480 0\n",
      "41650 0 480 0\n",
      "41650 0 480 0\n",
      "41650 0 480 0\n",
      "3780 37870 24 456\n",
      "Number of treatment 3780\n",
      "Revenue -4887.0\n",
      "****************************************************************************************************\n",
      "12592 29058 74 406\n",
      "Number of treatment 12592\n",
      "Revenue -5208.8\n",
      "****************************************************************************************************\n"
     ]
    },
    {
     "name": "stderr",
     "output_type": "stream",
     "text": [
      " 81%|████████▏ | 8133/10000 [05:43<01:14, 25.20it/s]"
     ]
    },
    {
     "name": "stdout",
     "output_type": "stream",
     "text": [
      "41650 0 480 0\n",
      "12940 28710 75 405\n",
      "Number of treatment 12940\n",
      "Revenue -5241.0\n",
      "****************************************************************************************************\n",
      "41650 0 480 0\n",
      "15642 26008 99 381\n",
      "Number of treatment 15642\n",
      "Revenue -5166.299999999999\n",
      "****************************************************************************************************\n",
      "41650 0 480 0\n",
      "41650 0 480 0\n"
     ]
    },
    {
     "name": "stderr",
     "output_type": "stream",
     "text": [
      " 81%|████████▏ | 8139/10000 [05:43<01:13, 25.23it/s]"
     ]
    },
    {
     "name": "stdout",
     "output_type": "stream",
     "text": [
      "41650 0 480 0\n",
      "41650 0 480 0\n",
      "41650 0 480 0\n",
      "41650 0 480 0\n",
      "41650 0 480 0\n"
     ]
    },
    {
     "name": "stderr",
     "output_type": "stream",
     "text": [
      " 81%|████████▏ | 8145/10000 [05:44<01:14, 24.78it/s]"
     ]
    },
    {
     "name": "stdout",
     "output_type": "stream",
     "text": [
      "41650 0 480 0\n",
      "41650 0 480 0\n",
      "41650 0 480 0\n",
      "0 41650 0 480\n",
      "41650 0 480 0\n"
     ]
    },
    {
     "name": "stderr",
     "output_type": "stream",
     "text": [
      " 82%|████████▏ | 8151/10000 [05:44<01:13, 25.18it/s]"
     ]
    },
    {
     "name": "stdout",
     "output_type": "stream",
     "text": [
      "41650 0 480 0\n",
      "19162 22488 155 325\n",
      "Number of treatment 19162\n",
      "Revenue -4574.299999999999\n",
      "****************************************************************************************************\n",
      "41650 0 480 0\n",
      "41650 0 480 0\n",
      "41650 0 480 0\n",
      "41650 0 480 0\n"
     ]
    },
    {
     "name": "stderr",
     "output_type": "stream",
     "text": [
      " 82%|████████▏ | 8157/10000 [05:44<01:12, 25.53it/s]"
     ]
    },
    {
     "name": "stdout",
     "output_type": "stream",
     "text": [
      "13264 28386 76 404\n",
      "Number of treatment 13264\n",
      "Revenue -5269.6\n",
      "****************************************************************************************************\n",
      "11439 30211 67 413\n",
      "Number of treatment 11439\n",
      "Revenue -5175.85\n",
      "****************************************************************************************************\n",
      "41650 0 480 0\n",
      "41650 0 480 0\n",
      "41650 0 480 0\n",
      "41650 0 480 0\n"
     ]
    },
    {
     "name": "stderr",
     "output_type": "stream",
     "text": [
      " 82%|████████▏ | 8163/10000 [05:44<01:11, 25.63it/s]"
     ]
    },
    {
     "name": "stdout",
     "output_type": "stream",
     "text": [
      "41650 0 480 0\n",
      "41650 0 480 0\n",
      "41650 0 480 0\n",
      "41650 0 480 0\n",
      "11726 29924 68 412\n",
      "Number of treatment 11726\n",
      "Revenue -5198.9\n",
      "****************************************************************************************************\n",
      "41650 0 480 0\n"
     ]
    },
    {
     "name": "stderr",
     "output_type": "stream",
     "text": [
      "\r",
      " 82%|████████▏ | 8166/10000 [05:44<01:14, 24.69it/s]"
     ]
    },
    {
     "name": "stdout",
     "output_type": "stream",
     "text": [
      "41650 0 480 0\n",
      "41650 0 480 0\n",
      "41650 0 480 0\n",
      "0 41650 0 480\n",
      "41650 0 480 0\n"
     ]
    },
    {
     "name": "stderr",
     "output_type": "stream",
     "text": [
      " 82%|████████▏ | 8172/10000 [05:45<01:15, 24.10it/s]"
     ]
    },
    {
     "name": "stdout",
     "output_type": "stream",
     "text": [
      "41650 0 480 0\n",
      "41650 0 480 0\n",
      "41650 0 480 0\n",
      "41650 0 480 0\n",
      "41650 0 480 0\n"
     ]
    },
    {
     "name": "stderr",
     "output_type": "stream",
     "text": [
      " 82%|████████▏ | 8178/10000 [05:45<01:14, 24.30it/s]"
     ]
    },
    {
     "name": "stdout",
     "output_type": "stream",
     "text": [
      "41650 0 480 0\n",
      "41650 0 480 0\n",
      "41650 0 480 0\n",
      "40203 1447 464 16\n",
      "Number of treatment 40203\n",
      "Revenue -1550.4499999999998\n",
      "****************************************************************************************************\n",
      "12592 29058 74 406\n"
     ]
    },
    {
     "name": "stderr",
     "output_type": "stream",
     "text": [
      "\r",
      " 82%|████████▏ | 8181/10000 [05:45<01:17, 23.50it/s]"
     ]
    },
    {
     "name": "stdout",
     "output_type": "stream",
     "text": [
      "37215 4435 402 78\n",
      "Number of treatment 37215\n",
      "Revenue -2342.25\n",
      "****************************************************************************************************\n",
      "32850 8800 335 145\n",
      "Number of treatment 32850\n",
      "Revenue -3027.5\n",
      "****************************************************************************************************\n",
      "0 41650 0 480\n",
      "41529 121 479 1\n",
      "0 41650 0 480\n"
     ]
    },
    {
     "name": "stderr",
     "output_type": "stream",
     "text": [
      " 82%|████████▏ | 8187/10000 [05:45<01:19, 22.70it/s]"
     ]
    },
    {
     "name": "stdout",
     "output_type": "stream",
     "text": [
      "41650 0 480 0\n",
      "41650 0 480 0\n",
      "41650 0 480 0\n",
      "41650 0 480 0\n",
      "41650 0 480 0\n"
     ]
    },
    {
     "name": "stderr",
     "output_type": "stream",
     "text": [
      " 82%|████████▏ | 8193/10000 [05:46<01:21, 22.27it/s]"
     ]
    },
    {
     "name": "stdout",
     "output_type": "stream",
     "text": [
      "41579 71 480 0\n",
      "Number of treatment 41579\n",
      "Revenue -1436.8499999999995\n",
      "****************************************************************************************************\n",
      "0 41650 0 480\n",
      "0 41650 0 480\n",
      "41650 0 480 0\n",
      "41650 0 480 0\n"
     ]
    },
    {
     "name": "stderr",
     "output_type": "stream",
     "text": [
      "\r",
      " 82%|████████▏ | 8196/10000 [05:46<01:25, 21.15it/s]"
     ]
    },
    {
     "name": "stdout",
     "output_type": "stream",
     "text": [
      "41650 0 480 0\n",
      "33058 8592 340 140\n",
      "Number of treatment 33058\n",
      "Revenue -2958.7\n",
      "****************************************************************************************************\n",
      "41650 0 480 0\n",
      "41650 0 480 0\n"
     ]
    },
    {
     "name": "stderr",
     "output_type": "stream",
     "text": [
      " 82%|████████▏ | 8202/10000 [05:46<01:25, 20.93it/s]"
     ]
    },
    {
     "name": "stdout",
     "output_type": "stream",
     "text": [
      "41650 0 480 0\n",
      "41650 0 480 0\n",
      "2872 38778 22 458\n",
      "41650 0 480 0\n",
      "41650 0 480 0\n"
     ]
    },
    {
     "name": "stderr",
     "output_type": "stream",
     "text": [
      "\r",
      " 82%|████████▏ | 8205/10000 [05:46<01:22, 21.72it/s]"
     ]
    },
    {
     "name": "stdout",
     "output_type": "stream",
     "text": [
      "41650 0 480 0\n",
      "0 41650 0 480\n",
      "28414 13236 270 210\n",
      "Number of treatment 28414\n",
      "Revenue -3662.0999999999995\n",
      "****************************************************************************************************\n",
      "12160 29490 71 409\n",
      "Number of treatment 12160\n",
      "Revenue -5204.0\n",
      "****************************************************************************************************\n",
      "41650 0 480 0\n"
     ]
    },
    {
     "name": "stderr",
     "output_type": "stream",
     "text": [
      " 82%|████████▏ | 8211/10000 [05:47<01:22, 21.67it/s]"
     ]
    },
    {
     "name": "stdout",
     "output_type": "stream",
     "text": [
      "41650 0 480 0\n",
      "12617 29033 74 406\n",
      "Number of treatment 12617\n",
      "Revenue -5212.55\n",
      "****************************************************************************************************\n",
      "41650 0 480 0\n",
      "12457 29193 72 408\n",
      "Number of treatment 12457\n",
      "Revenue -5228.55\n",
      "****************************************************************************************************\n",
      "41650 0 480 0\n"
     ]
    },
    {
     "name": "stderr",
     "output_type": "stream",
     "text": [
      " 82%|████████▏ | 8217/10000 [05:47<01:22, 21.60it/s]"
     ]
    },
    {
     "name": "stdout",
     "output_type": "stream",
     "text": [
      "15267 26383 95 385\n",
      "41650 0 480 0\n",
      "41650 0 480 0\n",
      "41650 0 480 0\n",
      "41650 0 480 0\n"
     ]
    },
    {
     "name": "stderr",
     "output_type": "stream",
     "text": [
      "\r",
      " 82%|████████▏ | 8220/10000 [05:47<01:24, 21.14it/s]"
     ]
    },
    {
     "name": "stdout",
     "output_type": "stream",
     "text": [
      "0 41650 0 480\n",
      "41650 0 480 0\n",
      "0 41650 0 480\n",
      "41650 0 480 0\n",
      "0 41650 0 480\n"
     ]
    },
    {
     "name": "stderr",
     "output_type": "stream",
     "text": [
      " 82%|████████▏ | 8226/10000 [05:47<01:21, 21.77it/s]"
     ]
    },
    {
     "name": "stdout",
     "output_type": "stream",
     "text": [
      "34521 7129 366 114\n",
      "Number of treatment 34521\n",
      "Revenue -2658.1499999999996\n",
      "****************************************************************************************************\n",
      "41650 0 480 0\n",
      "41650 0 480 0\n",
      "41650 0 480 0\n",
      "41650 0 480 0\n"
     ]
    },
    {
     "name": "stderr",
     "output_type": "stream",
     "text": [
      " 82%|████████▏ | 8232/10000 [05:47<01:22, 21.32it/s]"
     ]
    },
    {
     "name": "stdout",
     "output_type": "stream",
     "text": [
      "41650 0 480 0\n",
      "41650 0 480 0\n",
      "41641 9 480 0\n",
      "41650 0 480 0\n",
      "41650 0 480 0\n"
     ]
    },
    {
     "name": "stderr",
     "output_type": "stream",
     "text": [
      "\r",
      " 82%|████████▏ | 8235/10000 [05:48<01:20, 21.83it/s]"
     ]
    },
    {
     "name": "stdout",
     "output_type": "stream",
     "text": [
      "41650 0 480 0\n",
      "41650 0 480 0\n",
      "41650 0 480 0\n",
      "41650 0 480 0\n",
      "41650 0 480 0\n"
     ]
    },
    {
     "name": "stderr",
     "output_type": "stream",
     "text": [
      " 82%|████████▏ | 8241/10000 [05:48<01:21, 21.62it/s]"
     ]
    },
    {
     "name": "stdout",
     "output_type": "stream",
     "text": [
      "0 41650 0 480\n",
      "41650 0 480 0\n",
      "41650 0 480 0\n",
      "41299 351 476 4\n",
      "Number of treatment 41299\n",
      "Revenue -1474.8499999999995\n",
      "****************************************************************************************************\n",
      "41650 0 480 0\n"
     ]
    },
    {
     "name": "stderr",
     "output_type": "stream",
     "text": [
      " 82%|████████▏ | 8247/10000 [05:48<01:20, 21.74it/s]"
     ]
    },
    {
     "name": "stdout",
     "output_type": "stream",
     "text": [
      "41650 0 480 0\n",
      "41650 0 480 0\n",
      "41650 0 480 0\n",
      "41644 6 480 0\n",
      "41650 0 480 0\n"
     ]
    },
    {
     "name": "stderr",
     "output_type": "stream",
     "text": [
      "\r",
      " 82%|████████▎ | 8250/10000 [05:48<01:21, 21.55it/s]"
     ]
    },
    {
     "name": "stdout",
     "output_type": "stream",
     "text": [
      "41650 0 480 0\n",
      "38866 2784 432 48\n",
      "Number of treatment 38866\n",
      "Revenue -1989.8999999999996\n",
      "****************************************************************************************************\n",
      "41650 0 480 0\n",
      "41650 0 480 0\n",
      "41650 0 480 0\n"
     ]
    },
    {
     "name": "stderr",
     "output_type": "stream",
     "text": [
      " 83%|████████▎ | 8256/10000 [05:49<01:22, 21.05it/s]"
     ]
    },
    {
     "name": "stdout",
     "output_type": "stream",
     "text": [
      "41650 0 480 0\n",
      "41650 0 480 0\n",
      "41650 0 480 0\n",
      "41650 0 480 0\n",
      "41650 0 480 0\n"
     ]
    },
    {
     "name": "stderr",
     "output_type": "stream",
     "text": [
      " 83%|████████▎ | 8262/10000 [05:49<01:23, 20.84it/s]"
     ]
    },
    {
     "name": "stdout",
     "output_type": "stream",
     "text": [
      "0 41650 0 480\n",
      "41650 0 480 0\n",
      "41650 0 480 0\n",
      "41650 0 480 0\n",
      "41650 0 480 0\n"
     ]
    },
    {
     "name": "stderr",
     "output_type": "stream",
     "text": [
      "\r",
      " 83%|████████▎ | 8265/10000 [05:49<01:21, 21.40it/s]"
     ]
    },
    {
     "name": "stdout",
     "output_type": "stream",
     "text": [
      "41650 0 480 0\n",
      "41650 0 480 0\n",
      "41650 0 480 0\n",
      "9783 31867 57 423\n",
      "Number of treatment 9783\n",
      "Revenue -5127.45\n",
      "****************************************************************************************************\n",
      "41650 0 480 0\n"
     ]
    },
    {
     "name": "stderr",
     "output_type": "stream",
     "text": [
      " 83%|████████▎ | 8271/10000 [05:49<01:18, 21.92it/s]"
     ]
    },
    {
     "name": "stdout",
     "output_type": "stream",
     "text": [
      "41650 0 480 0\n",
      "0 41650 0 480\n",
      "41650 0 480 0\n",
      "41650 0 480 0\n",
      "41650 0 480 0\n"
     ]
    },
    {
     "name": "stderr",
     "output_type": "stream",
     "text": [
      " 83%|████████▎ | 8277/10000 [05:50<01:16, 22.50it/s]"
     ]
    },
    {
     "name": "stdout",
     "output_type": "stream",
     "text": [
      "41650 0 480 0\n",
      "41650 0 480 0\n",
      "41650 0 480 0\n",
      "0 41650 0 480\n",
      "41650 0 480 0\n"
     ]
    },
    {
     "name": "stderr",
     "output_type": "stream",
     "text": [
      "\r",
      " 83%|████████▎ | 8280/10000 [05:50<01:14, 23.08it/s]"
     ]
    },
    {
     "name": "stdout",
     "output_type": "stream",
     "text": [
      "41650 0 480 0\n",
      "41650 0 480 0\n",
      "41650 0 480 0\n",
      "41650 0 480 0\n",
      "41650 0 480 0\n"
     ]
    },
    {
     "name": "stderr",
     "output_type": "stream",
     "text": [
      " 83%|████████▎ | 8286/10000 [05:50<01:15, 22.79it/s]"
     ]
    },
    {
     "name": "stdout",
     "output_type": "stream",
     "text": [
      "0 41650 0 480\n",
      "41650 0 480 0\n",
      "41650 0 480 0\n",
      "41650 0 480 0\n",
      "41650 0 480 0\n"
     ]
    },
    {
     "name": "stderr",
     "output_type": "stream",
     "text": [
      " 83%|████████▎ | 8292/10000 [05:50<01:14, 23.07it/s]"
     ]
    },
    {
     "name": "stdout",
     "output_type": "stream",
     "text": [
      "41650 0 480 0\n",
      "17751 23899 138 342\n",
      "Number of treatment 17751\n",
      "Revenue -4702.65\n",
      "****************************************************************************************************\n",
      "0 41650 0 480\n",
      "96 41554 1 479\n",
      "Number of treatment 96\n",
      "Revenue -4794.4\n",
      "****************************************************************************************************\n",
      "41650 0 480 0\n"
     ]
    },
    {
     "name": "stderr",
     "output_type": "stream",
     "text": [
      "\r",
      " 83%|████████▎ | 8295/10000 [05:50<01:12, 23.50it/s]"
     ]
    },
    {
     "name": "stdout",
     "output_type": "stream",
     "text": [
      "41650 0 480 0\n",
      "41650 0 480 0\n",
      "0 41650 0 480\n",
      "41650 0 480 0\n",
      "9729 31921 57 423\n",
      "Number of treatment 9729\n",
      "Revenue -5119.35\n",
      "****************************************************************************************************\n"
     ]
    },
    {
     "name": "stderr",
     "output_type": "stream",
     "text": [
      " 83%|████████▎ | 8301/10000 [05:51<01:12, 23.34it/s]"
     ]
    },
    {
     "name": "stdout",
     "output_type": "stream",
     "text": [
      "0 41650 0 480\n",
      "41650 0 480 0\n",
      "41650 0 480 0\n",
      "0 41650 0 480\n",
      "688 40962 5 475\n",
      "Number of treatment 688\n",
      "Revenue -4803.2\n",
      "****************************************************************************************************\n"
     ]
    },
    {
     "name": "stderr",
     "output_type": "stream",
     "text": [
      " 83%|████████▎ | 8307/10000 [05:51<01:12, 23.39it/s]"
     ]
    },
    {
     "name": "stdout",
     "output_type": "stream",
     "text": [
      "41650 0 480 0\n",
      "41488 162 478 2\n",
      "41650 0 480 0\n",
      "41650 0 480 0\n",
      "186 41464 3 477\n",
      "Number of treatment 186\n",
      "Revenue -4767.9\n",
      "****************************************************************************************************\n"
     ]
    },
    {
     "name": "stderr",
     "output_type": "stream",
     "text": [
      "\r",
      " 83%|████████▎ | 8310/10000 [05:51<01:12, 23.32it/s]"
     ]
    },
    {
     "name": "stdout",
     "output_type": "stream",
     "text": [
      "41650 0 480 0\n",
      "41650 0 480 0\n",
      "41650 0 480 0\n",
      "41650 0 480 0\n",
      "41650 0 480 0\n"
     ]
    },
    {
     "name": "stderr",
     "output_type": "stream",
     "text": [
      " 83%|████████▎ | 8316/10000 [05:51<01:12, 23.33it/s]"
     ]
    },
    {
     "name": "stdout",
     "output_type": "stream",
     "text": [
      "41650 0 480 0\n",
      "41650 0 480 0\n",
      "41650 0 480 0\n",
      "41650 0 480 0\n",
      "41650 0 480 0\n"
     ]
    },
    {
     "name": "stderr",
     "output_type": "stream",
     "text": [
      " 83%|████████▎ | 8322/10000 [05:51<01:09, 24.10it/s]"
     ]
    },
    {
     "name": "stdout",
     "output_type": "stream",
     "text": [
      "41650 0 480 0\n",
      "41650 0 480 0\n",
      "41650 0 480 0\n",
      "41650 0 480 0\n",
      "41650 0 480 0\n",
      "41650 0 480 0\n"
     ]
    },
    {
     "name": "stderr",
     "output_type": "stream",
     "text": [
      " 83%|████████▎ | 8328/10000 [05:52<01:08, 24.50it/s]"
     ]
    },
    {
     "name": "stdout",
     "output_type": "stream",
     "text": [
      "41650 0 480 0\n",
      "0 41650 0 480\n",
      "0 41650 0 480\n",
      "13298 28352 76 404\n",
      "12232 29418 72 408\n",
      "Number of treatment 12232\n",
      "Revenue -5194.8\n",
      "****************************************************************************************************\n"
     ]
    },
    {
     "name": "stderr",
     "output_type": "stream",
     "text": [
      " 83%|████████▎ | 8334/10000 [05:52<01:05, 25.41it/s]"
     ]
    },
    {
     "name": "stdout",
     "output_type": "stream",
     "text": [
      "41650 0 480 0\n",
      "41650 0 480 0\n",
      "41650 0 480 0\n",
      "41650 0 480 0\n",
      "41650 0 480 0\n",
      "41650 0 480 0\n"
     ]
    },
    {
     "name": "stderr",
     "output_type": "stream",
     "text": [
      " 83%|████████▎ | 8340/10000 [05:52<01:04, 25.81it/s]"
     ]
    },
    {
     "name": "stdout",
     "output_type": "stream",
     "text": [
      "41650 0 480 0\n",
      "422 41228 5 475\n",
      "Number of treatment 422\n",
      "Revenue -4763.3\n",
      "****************************************************************************************************\n",
      "41650 0 480 0\n",
      "41650 0 480 0\n",
      "3258 38392 23 457\n",
      "Number of treatment 3258\n",
      "Revenue -4828.7\n",
      "****************************************************************************************************\n",
      "41650 0 480 0\n"
     ]
    },
    {
     "name": "stderr",
     "output_type": "stream",
     "text": [
      "\r",
      " 83%|████████▎ | 8343/10000 [05:52<01:06, 24.98it/s]"
     ]
    },
    {
     "name": "stdout",
     "output_type": "stream",
     "text": [
      "0 41650 0 480\n",
      "41650 0 480 0\n",
      "41650 0 480 0\n",
      "41650 0 480 0\n",
      "41650 0 480 0\n"
     ]
    },
    {
     "name": "stderr",
     "output_type": "stream",
     "text": [
      " 83%|████████▎ | 8349/10000 [05:53<01:08, 24.20it/s]"
     ]
    },
    {
     "name": "stdout",
     "output_type": "stream",
     "text": [
      "41650 0 480 0\n",
      "41650 0 480 0\n",
      "41650 0 480 0\n",
      "34548 7102 366 114\n",
      "Number of treatment 34548\n",
      "Revenue -2662.2\n",
      "****************************************************************************************************\n",
      "41650 0 480 0\n"
     ]
    },
    {
     "name": "stderr",
     "output_type": "stream",
     "text": [
      " 84%|████████▎ | 8355/10000 [05:53<01:10, 23.26it/s]"
     ]
    },
    {
     "name": "stdout",
     "output_type": "stream",
     "text": [
      "41650 0 480 0\n",
      "5290 36360 37 443\n",
      "Number of treatment 5290\n",
      "Revenue -4853.5\n",
      "****************************************************************************************************\n",
      "41650 0 480 0\n",
      "41650 0 480 0\n",
      "1182 40468 9 471\n",
      "Number of treatment 1182\n",
      "Revenue -4797.3\n",
      "****************************************************************************************************\n"
     ]
    },
    {
     "name": "stderr",
     "output_type": "stream",
     "text": [
      "\r",
      " 84%|████████▎ | 8358/10000 [05:53<01:08, 23.85it/s]"
     ]
    },
    {
     "name": "stdout",
     "output_type": "stream",
     "text": [
      "41650 0 480 0\n",
      "41650 0 480 0\n",
      "41650 0 480 0\n",
      "41650 0 480 0\n",
      "41530 120 479 1\n",
      "Number of treatment 41530\n",
      "Revenue -1449.5\n",
      "****************************************************************************************************\n"
     ]
    },
    {
     "name": "stderr",
     "output_type": "stream",
     "text": [
      " 84%|████████▎ | 8364/10000 [05:53<01:10, 23.37it/s]"
     ]
    },
    {
     "name": "stdout",
     "output_type": "stream",
     "text": [
      "41650 0 480 0\n",
      "41650 0 480 0\n",
      "41650 0 480 0\n",
      "41650 0 480 0\n",
      "41650 0 480 0\n"
     ]
    },
    {
     "name": "stderr",
     "output_type": "stream",
     "text": [
      " 84%|████████▎ | 8370/10000 [05:53<01:09, 23.42it/s]"
     ]
    },
    {
     "name": "stdout",
     "output_type": "stream",
     "text": [
      "41650 0 480 0\n",
      "41650 0 480 0\n",
      "41650 0 480 0\n",
      "41650 0 480 0\n",
      "41650 0 480 0\n"
     ]
    },
    {
     "name": "stderr",
     "output_type": "stream",
     "text": [
      "\r",
      " 84%|████████▎ | 8373/10000 [05:54<01:08, 23.71it/s]"
     ]
    },
    {
     "name": "stdout",
     "output_type": "stream",
     "text": [
      "41650 0 480 0\n",
      "41650 0 480 0\n",
      "41650 0 480 0\n",
      "41650 0 480 0\n",
      "41650 0 480 0\n"
     ]
    },
    {
     "name": "stderr",
     "output_type": "stream",
     "text": [
      " 84%|████████▍ | 8379/10000 [05:54<01:07, 23.99it/s]"
     ]
    },
    {
     "name": "stdout",
     "output_type": "stream",
     "text": [
      "41650 0 480 0\n",
      "41650 0 480 0\n",
      "41650 0 480 0\n",
      "17366 24284 136 344\n",
      "Number of treatment 17366\n",
      "Revenue -4684.9\n",
      "****************************************************************************************************\n",
      "0 41650 0 480\n"
     ]
    },
    {
     "name": "stderr",
     "output_type": "stream",
     "text": [
      " 84%|████████▍ | 8385/10000 [05:54<01:08, 23.69it/s]"
     ]
    },
    {
     "name": "stdout",
     "output_type": "stream",
     "text": [
      "41650 0 480 0\n",
      "41650 0 480 0\n",
      "41647 3 480 0\n",
      "41650 0 480 0\n",
      "41650 0 480 0\n"
     ]
    },
    {
     "name": "stderr",
     "output_type": "stream",
     "text": [
      "\r",
      " 84%|████████▍ | 8388/10000 [05:54<01:09, 23.23it/s]"
     ]
    },
    {
     "name": "stdout",
     "output_type": "stream",
     "text": [
      "0 41650 0 480\n",
      "3345 38305 23 457\n",
      "Number of treatment 3345\n",
      "Revenue -4841.75\n",
      "****************************************************************************************************\n",
      "17224 24426 133 347\n",
      "41650 0 480 0\n",
      "41650 0 480 0\n"
     ]
    },
    {
     "name": "stderr",
     "output_type": "stream",
     "text": [
      " 84%|████████▍ | 8394/10000 [05:54<01:10, 22.84it/s]"
     ]
    },
    {
     "name": "stdout",
     "output_type": "stream",
     "text": [
      "41650 0 480 0\n",
      "41650 0 480 0\n",
      "41650 0 480 0\n",
      "13292 28358 76 404\n",
      "13343 28307 76 404\n",
      "Number of treatment 13343\n",
      "Revenue -5281.45\n",
      "****************************************************************************************************\n"
     ]
    },
    {
     "name": "stderr",
     "output_type": "stream",
     "text": [
      " 84%|████████▍ | 8400/10000 [05:55<01:08, 23.26it/s]"
     ]
    },
    {
     "name": "stdout",
     "output_type": "stream",
     "text": [
      "41650 0 480 0\n",
      "24125 17525 213 267\n",
      "Number of treatment 24125\n",
      "Revenue -4158.75\n",
      "****************************************************************************************************\n",
      "28379 13271 269 211\n",
      "Number of treatment 28379\n",
      "Revenue -3676.8499999999995\n",
      "****************************************************************************************************\n",
      "41650 0 480 0\n",
      "41650 0 480 0\n"
     ]
    },
    {
     "name": "stderr",
     "output_type": "stream",
     "text": [
      "\r",
      " 84%|████████▍ | 8403/10000 [05:55<01:09, 23.02it/s]"
     ]
    },
    {
     "name": "stdout",
     "output_type": "stream",
     "text": [
      "41650 0 480 0\n",
      "41650 0 480 0\n",
      "41650 0 480 0\n",
      "41650 0 480 0\n",
      "41650 0 480 0\n"
     ]
    },
    {
     "name": "stderr",
     "output_type": "stream",
     "text": [
      " 84%|████████▍ | 8409/10000 [05:55<01:10, 22.67it/s]"
     ]
    },
    {
     "name": "stdout",
     "output_type": "stream",
     "text": [
      "22935 18715 194 286\n",
      "Number of treatment 22935\n",
      "Revenue -4360.25\n",
      "****************************************************************************************************\n",
      "2267 39383 18 462\n",
      "Number of treatment 2267\n",
      "Revenue -4780.05\n",
      "****************************************************************************************************\n",
      "41650 0 480 0\n",
      "41650 0 480 0\n",
      "41650 0 480 0\n"
     ]
    },
    {
     "name": "stderr",
     "output_type": "stream",
     "text": [
      " 84%|████████▍ | 8415/10000 [05:55<01:09, 22.79it/s]"
     ]
    },
    {
     "name": "stdout",
     "output_type": "stream",
     "text": [
      "41650 0 480 0\n",
      "41650 0 480 0\n",
      "6084 35566 40 440\n",
      "Number of treatment 6084\n",
      "Revenue -4912.6\n",
      "****************************************************************************************************\n",
      "41650 0 480 0\n",
      "41650 0 480 0\n"
     ]
    },
    {
     "name": "stderr",
     "output_type": "stream",
     "text": [
      "\r",
      " 84%|████████▍ | 8418/10000 [05:56<01:09, 22.64it/s]"
     ]
    },
    {
     "name": "stdout",
     "output_type": "stream",
     "text": [
      "41650 0 480 0\n",
      "41650 0 480 0\n",
      "41650 0 480 0\n",
      "13418 28232 77 403\n",
      "0 41650 0 480\n"
     ]
    },
    {
     "name": "stderr",
     "output_type": "stream",
     "text": [
      " 84%|████████▍ | 8424/10000 [05:56<01:09, 22.78it/s]"
     ]
    },
    {
     "name": "stdout",
     "output_type": "stream",
     "text": [
      "41650 0 480 0\n",
      "41650 0 480 0\n",
      "41650 0 480 0\n",
      "41650 0 480 0\n",
      "41650 0 480 0\n"
     ]
    },
    {
     "name": "stderr",
     "output_type": "stream",
     "text": [
      " 84%|████████▍ | 8430/10000 [05:56<01:06, 23.71it/s]"
     ]
    },
    {
     "name": "stdout",
     "output_type": "stream",
     "text": [
      "41650 0 480 0\n",
      "41650 0 480 0\n",
      "41650 0 480 0\n",
      "41650 0 480 0\n",
      "41650 0 480 0\n"
     ]
    },
    {
     "name": "stderr",
     "output_type": "stream",
     "text": [
      "\r",
      " 84%|████████▍ | 8433/10000 [05:56<01:06, 23.56it/s]"
     ]
    },
    {
     "name": "stdout",
     "output_type": "stream",
     "text": [
      "41650 0 480 0\n",
      "41650 0 480 0\n",
      "41650 0 480 0\n",
      "41650 0 480 0\n",
      "24942 16708 221 259\n",
      "Number of treatment 24942\n",
      "Revenue -4121.299999999999\n",
      "****************************************************************************************************\n"
     ]
    },
    {
     "name": "stderr",
     "output_type": "stream",
     "text": [
      " 84%|████████▍ | 8439/10000 [05:56<01:05, 23.82it/s]"
     ]
    },
    {
     "name": "stdout",
     "output_type": "stream",
     "text": [
      "41650 0 480 0\n",
      "41650 0 480 0\n",
      "41618 32 480 0\n",
      "41650 0 480 0\n",
      "41650 0 480 0\n"
     ]
    },
    {
     "name": "stderr",
     "output_type": "stream",
     "text": [
      " 84%|████████▍ | 8445/10000 [05:57<01:06, 23.23it/s]"
     ]
    },
    {
     "name": "stdout",
     "output_type": "stream",
     "text": [
      "41650 0 480 0\n",
      "41650 0 480 0\n",
      "41650 0 480 0\n",
      "41650 0 480 0\n",
      "41650 0 480 0\n"
     ]
    },
    {
     "name": "stderr",
     "output_type": "stream",
     "text": [
      " 85%|████████▍ | 8451/10000 [05:57<01:04, 23.85it/s]"
     ]
    },
    {
     "name": "stdout",
     "output_type": "stream",
     "text": [
      "41650 0 480 0\n",
      "0 41650 0 480\n",
      "41650 0 480 0\n",
      "41650 0 480 0\n",
      "41650 0 480 0\n",
      "12134 29516 71 409\n",
      "Number of treatment 12134\n",
      "Revenue -5200.1\n",
      "****************************************************************************************************\n"
     ]
    },
    {
     "name": "stderr",
     "output_type": "stream",
     "text": [
      "\r",
      " 85%|████████▍ | 8454/10000 [05:57<01:06, 23.18it/s]"
     ]
    },
    {
     "name": "stdout",
     "output_type": "stream",
     "text": [
      "41650 0 480 0\n",
      "41650 0 480 0\n",
      "7094 34556 48 432\n",
      "Number of treatment 7094\n",
      "Revenue -4904.1\n",
      "****************************************************************************************************\n",
      "41650 0 480 0\n",
      "41650 0 480 0\n"
     ]
    },
    {
     "name": "stderr",
     "output_type": "stream",
     "text": [
      " 85%|████████▍ | 8460/10000 [05:57<01:05, 23.50it/s]"
     ]
    },
    {
     "name": "stdout",
     "output_type": "stream",
     "text": [
      "0 41650 0 480\n",
      "41650 0 480 0\n",
      "41650 0 480 0\n",
      "11871 29779 68 412\n",
      "Number of treatment 11871\n",
      "Revenue -5220.65\n",
      "****************************************************************************************************\n",
      "41650 0 480 0\n"
     ]
    },
    {
     "name": "stderr",
     "output_type": "stream",
     "text": [
      " 85%|████████▍ | 8466/10000 [05:58<01:06, 23.08it/s]"
     ]
    },
    {
     "name": "stdout",
     "output_type": "stream",
     "text": [
      "14606 27044 92 388\n",
      "Number of treatment 14606\n",
      "Revenue -5150.9\n",
      "****************************************************************************************************\n",
      "41650 0 480 0\n",
      "41650 0 480 0\n",
      "41650 0 480 0\n",
      "13288 28362 76 404\n"
     ]
    },
    {
     "name": "stderr",
     "output_type": "stream",
     "text": [
      "\r",
      " 85%|████████▍ | 8469/10000 [05:58<01:06, 22.90it/s]"
     ]
    },
    {
     "name": "stdout",
     "output_type": "stream",
     "text": [
      "41650 0 480 0\n",
      "41650 0 480 0\n",
      "6145 35505 40 440\n",
      "Number of treatment 6145\n",
      "Revenue -4921.75\n",
      "****************************************************************************************************\n",
      "41650 0 480 0\n",
      "41650 0 480 0\n"
     ]
    },
    {
     "name": "stderr",
     "output_type": "stream",
     "text": [
      " 85%|████████▍ | 8475/10000 [05:58<01:05, 23.13it/s]"
     ]
    },
    {
     "name": "stdout",
     "output_type": "stream",
     "text": [
      "35767 5883 381 99\n",
      "Number of treatment 35767\n",
      "Revenue -2545.05\n",
      "****************************************************************************************************\n",
      "41650 0 480 0\n",
      "13298 28352 76 404\n",
      "41650 0 480 0\n",
      "41650 0 480 0\n"
     ]
    },
    {
     "name": "stderr",
     "output_type": "stream",
     "text": [
      " 85%|████████▍ | 8481/10000 [05:58<01:07, 22.40it/s]"
     ]
    },
    {
     "name": "stdout",
     "output_type": "stream",
     "text": [
      "41650 0 480 0\n",
      "41650 0 480 0\n",
      "26704 14946 240 240\n",
      "Number of treatment 26704\n",
      "Revenue -4005.6\n",
      "****************************************************************************************************\n",
      "41650 0 480 0\n",
      "41650 0 480 0\n"
     ]
    },
    {
     "name": "stderr",
     "output_type": "stream",
     "text": [
      "\r",
      " 85%|████████▍ | 8484/10000 [05:58<01:07, 22.55it/s]"
     ]
    },
    {
     "name": "stdout",
     "output_type": "stream",
     "text": [
      "37032 4618 400 80\n",
      "Number of treatment 37032\n",
      "Revenue -2354.8\n",
      "****************************************************************************************************\n",
      "41650 0 480 0\n",
      "41650 0 480 0\n",
      "41650 0 480 0\n",
      "41650 0 480 0\n"
     ]
    },
    {
     "name": "stderr",
     "output_type": "stream",
     "text": [
      " 85%|████████▍ | 8490/10000 [05:59<01:02, 24.06it/s]"
     ]
    },
    {
     "name": "stdout",
     "output_type": "stream",
     "text": [
      "41650 0 480 0\n",
      "3576 38074 24 456\n",
      "Number of treatment 3576\n",
      "Revenue -4856.4\n",
      "****************************************************************************************************\n",
      "41650 0 480 0\n",
      "41650 0 480 0\n",
      "41650 0 480 0\n",
      "41650 0 480 0\n"
     ]
    },
    {
     "name": "stderr",
     "output_type": "stream",
     "text": [
      " 85%|████████▍ | 8496/10000 [05:59<01:02, 24.16it/s]"
     ]
    },
    {
     "name": "stdout",
     "output_type": "stream",
     "text": [
      "41650 0 480 0\n",
      "41650 0 480 0\n",
      "41650 0 480 0\n",
      "41650 0 480 0\n",
      "41650 0 480 0\n",
      "41424 226 477 3\n",
      "Number of treatment 41424\n",
      "Revenue -1473.5999999999995\n",
      "****************************************************************************************************\n"
     ]
    },
    {
     "name": "stderr",
     "output_type": "stream",
     "text": [
      " 85%|████████▌ | 8502/10000 [05:59<01:03, 23.72it/s]"
     ]
    },
    {
     "name": "stdout",
     "output_type": "stream",
     "text": [
      "41650 0 480 0\n",
      "41650 0 480 0\n",
      "41650 0 480 0\n",
      "41650 0 480 0\n",
      "22214 19436 187 293\n",
      "Number of treatment 22214\n",
      "Revenue -4392.1\n",
      "****************************************************************************************************\n"
     ]
    },
    {
     "name": "stderr",
     "output_type": "stream",
     "text": [
      " 85%|████████▌ | 8508/10000 [05:59<01:02, 23.93it/s]"
     ]
    },
    {
     "name": "stdout",
     "output_type": "stream",
     "text": [
      "41650 0 480 0\n",
      "41650 0 480 0\n",
      "41650 0 480 0\n",
      "41650 0 480 0\n",
      "41650 0 480 0\n"
     ]
    },
    {
     "name": "stderr",
     "output_type": "stream",
     "text": [
      "\r",
      " 85%|████████▌ | 8511/10000 [06:00<01:03, 23.58it/s]"
     ]
    },
    {
     "name": "stdout",
     "output_type": "stream",
     "text": [
      "41650 0 480 0\n",
      "41650 0 480 0\n",
      "41650 0 480 0\n",
      "41650 0 480 0\n",
      "41650 0 480 0\n"
     ]
    },
    {
     "name": "stderr",
     "output_type": "stream",
     "text": [
      " 85%|████████▌ | 8517/10000 [06:00<01:03, 23.41it/s]"
     ]
    },
    {
     "name": "stdout",
     "output_type": "stream",
     "text": [
      "0 41650 0 480\n",
      "41449 201 478 2\n",
      "41650 0 480 0\n",
      "41650 0 480 0\n",
      "41650 0 480 0\n"
     ]
    },
    {
     "name": "stderr",
     "output_type": "stream",
     "text": [
      " 85%|████████▌ | 8523/10000 [06:00<01:01, 23.83it/s]"
     ]
    },
    {
     "name": "stdout",
     "output_type": "stream",
     "text": [
      "41650 0 480 0\n",
      "41650 0 480 0\n",
      "41650 0 480 0\n",
      "669 40981 5 475\n",
      "Number of treatment 669\n",
      "Revenue -4800.35\n",
      "****************************************************************************************************\n",
      "41650 0 480 0\n"
     ]
    },
    {
     "name": "stderr",
     "output_type": "stream",
     "text": [
      "\r",
      " 85%|████████▌ | 8526/10000 [06:00<01:04, 22.87it/s]"
     ]
    },
    {
     "name": "stdout",
     "output_type": "stream",
     "text": [
      "41650 0 480 0\n",
      "41650 0 480 0\n",
      "41650 0 480 0\n",
      "41650 0 480 0\n",
      "25034 16616 221 259\n",
      "Number of treatment 25034\n",
      "Revenue -4135.1\n",
      "****************************************************************************************************\n"
     ]
    },
    {
     "name": "stderr",
     "output_type": "stream",
     "text": [
      " 85%|████████▌ | 8532/10000 [06:00<01:05, 22.48it/s]"
     ]
    },
    {
     "name": "stdout",
     "output_type": "stream",
     "text": [
      "41650 0 480 0\n",
      "0 41650 0 480\n",
      "41650 0 480 0\n",
      "41650 0 480 0\n",
      "41650 0 480 0\n"
     ]
    },
    {
     "name": "stderr",
     "output_type": "stream",
     "text": [
      " 85%|████████▌ | 8538/10000 [06:01<01:02, 23.45it/s]"
     ]
    },
    {
     "name": "stdout",
     "output_type": "stream",
     "text": [
      "41650 0 480 0\n",
      "41650 0 480 0\n",
      "41650 0 480 0\n",
      "41650 0 480 0\n",
      "20480 21170 168 312\n",
      "Number of treatment 20480\n",
      "Revenue -4512.0\n",
      "****************************************************************************************************\n"
     ]
    },
    {
     "name": "stderr",
     "output_type": "stream",
     "text": [
      " 85%|████████▌ | 8544/10000 [06:01<00:59, 24.40it/s]"
     ]
    },
    {
     "name": "stdout",
     "output_type": "stream",
     "text": [
      "206 41444 4 476\n",
      "Number of treatment 206\n",
      "Revenue -4750.9\n",
      "****************************************************************************************************\n",
      "0 41650 0 480\n",
      "41650 0 480 0\n",
      "0 41650 0 480\n",
      "13383 28267 77 403\n",
      "Number of treatment 13383\n",
      "Revenue -5267.45\n",
      "****************************************************************************************************\n",
      "41650 0 480 0\n"
     ]
    },
    {
     "name": "stderr",
     "output_type": "stream",
     "text": [
      "\r",
      " 85%|████████▌ | 8547/10000 [06:01<00:59, 24.51it/s]"
     ]
    },
    {
     "name": "stdout",
     "output_type": "stream",
     "text": [
      "41650 0 480 0\n",
      "0 41650 0 480\n",
      "41650 0 480 0\n",
      "41650 0 480 0\n",
      "28538 13112 271 209\n",
      "Number of treatment 28538\n",
      "Revenue -3660.7\n",
      "****************************************************************************************************\n"
     ]
    },
    {
     "name": "stderr",
     "output_type": "stream",
     "text": [
      " 86%|████████▌ | 8553/10000 [06:01<00:58, 24.54it/s]"
     ]
    },
    {
     "name": "stdout",
     "output_type": "stream",
     "text": [
      "26958 14692 245 235\n",
      "Number of treatment 26958\n",
      "Revenue -3943.7\n",
      "****************************************************************************************************\n",
      "41650 0 480 0\n",
      "41650 0 480 0\n",
      "41650 0 480 0\n",
      "41650 0 480 0\n"
     ]
    },
    {
     "name": "stderr",
     "output_type": "stream",
     "text": [
      " 86%|████████▌ | 8559/10000 [06:02<00:58, 24.49it/s]"
     ]
    },
    {
     "name": "stdout",
     "output_type": "stream",
     "text": [
      "41650 0 480 0\n",
      "41650 0 480 0\n",
      "41650 0 480 0\n",
      "41650 0 480 0\n",
      "0 41650 0 480\n",
      "41650 0 480 0\n"
     ]
    },
    {
     "name": "stderr",
     "output_type": "stream",
     "text": [
      " 86%|████████▌ | 8565/10000 [06:02<00:58, 24.47it/s]"
     ]
    },
    {
     "name": "stdout",
     "output_type": "stream",
     "text": [
      "41650 0 480 0\n",
      "41650 0 480 0\n",
      "34386 7264 362 118\n",
      "41050 600 471 9\n",
      "41650 0 480 0\n"
     ]
    },
    {
     "name": "stderr",
     "output_type": "stream",
     "text": [
      " 86%|████████▌ | 8571/10000 [06:02<00:56, 25.15it/s]"
     ]
    },
    {
     "name": "stdout",
     "output_type": "stream",
     "text": [
      "1 41649 0 480\n",
      "41635 15 480 0\n",
      "41650 0 480 0\n",
      "41650 0 480 0\n",
      "0 41650 0 480\n",
      "41650 0 480 0\n"
     ]
    },
    {
     "name": "stderr",
     "output_type": "stream",
     "text": [
      " 86%|████████▌ | 8577/10000 [06:02<00:55, 25.41it/s]"
     ]
    },
    {
     "name": "stdout",
     "output_type": "stream",
     "text": [
      "41427 223 477 3\n",
      "Number of treatment 41427\n",
      "Revenue -1474.0500000000002\n",
      "****************************************************************************************************\n",
      "41650 0 480 0\n",
      "0 41650 0 480\n",
      "41650 0 480 0\n",
      "41650 0 480 0\n",
      "24252 17398 215 265\n",
      "Number of treatment 24252\n",
      "Revenue -4137.799999999999\n",
      "****************************************************************************************************\n"
     ]
    },
    {
     "name": "stderr",
     "output_type": "stream",
     "text": [
      " 86%|████████▌ | 8583/10000 [06:02<00:56, 25.06it/s]"
     ]
    },
    {
     "name": "stdout",
     "output_type": "stream",
     "text": [
      "41650 0 480 0\n",
      "41650 0 480 0\n",
      "41650 0 480 0\n",
      "41650 0 480 0\n",
      "41650 0 480 0\n",
      "13183 28467 76 404\n",
      "Number of treatment 13183\n",
      "Revenue -5257.45\n",
      "****************************************************************************************************\n"
     ]
    },
    {
     "name": "stderr",
     "output_type": "stream",
     "text": [
      " 86%|████████▌ | 8589/10000 [06:03<00:56, 24.85it/s]"
     ]
    },
    {
     "name": "stdout",
     "output_type": "stream",
     "text": [
      "41650 0 480 0\n",
      "41650 0 480 0\n",
      "41650 0 480 0\n",
      "41650 0 480 0\n",
      "41650 0 480 0\n",
      "41650 0 480 0\n"
     ]
    },
    {
     "name": "stderr",
     "output_type": "stream",
     "text": [
      " 86%|████████▌ | 8595/10000 [06:03<00:55, 25.12it/s]"
     ]
    },
    {
     "name": "stdout",
     "output_type": "stream",
     "text": [
      "41650 0 480 0\n",
      "41650 0 480 0\n",
      "41650 0 480 0\n",
      "41650 0 480 0\n",
      "41649 1 480 0\n",
      "41650 0 480 0\n"
     ]
    },
    {
     "name": "stderr",
     "output_type": "stream",
     "text": [
      " 86%|████████▌ | 8601/10000 [06:03<00:55, 25.34it/s]"
     ]
    },
    {
     "name": "stdout",
     "output_type": "stream",
     "text": [
      "41650 0 480 0\n",
      "41650 0 480 0\n",
      "41650 0 480 0\n",
      "41650 0 480 0\n",
      "41650 0 480 0\n",
      "41650 0 480 0\n"
     ]
    },
    {
     "name": "stderr",
     "output_type": "stream",
     "text": [
      " 86%|████████▌ | 8607/10000 [06:03<00:54, 25.55it/s]"
     ]
    },
    {
     "name": "stdout",
     "output_type": "stream",
     "text": [
      "41584 66 480 0\n",
      "Number of treatment 41584\n",
      "Revenue -1437.5999999999995\n",
      "****************************************************************************************************\n",
      "41650 0 480 0\n",
      "41650 0 480 0\n",
      "13324 28326 76 404\n",
      "Number of treatment 13324\n",
      "Revenue -5278.6\n",
      "****************************************************************************************************\n",
      "41650 0 480 0\n",
      "40959 691 471 9\n",
      "Number of treatment 40959\n",
      "Revenue -1523.8499999999995\n",
      "****************************************************************************************************\n"
     ]
    },
    {
     "name": "stderr",
     "output_type": "stream",
     "text": [
      "\r",
      " 86%|████████▌ | 8610/10000 [06:04<00:54, 25.38it/s]"
     ]
    },
    {
     "name": "stdout",
     "output_type": "stream",
     "text": [
      "41650 0 480 0\n",
      "41650 0 480 0\n",
      "41650 0 480 0\n",
      "41650 0 480 0\n",
      "41650 0 480 0\n"
     ]
    },
    {
     "name": "stderr",
     "output_type": "stream",
     "text": [
      " 86%|████████▌ | 8616/10000 [06:04<00:57, 24.06it/s]"
     ]
    },
    {
     "name": "stdout",
     "output_type": "stream",
     "text": [
      "22901 18749 193 287\n",
      "Number of treatment 22901\n",
      "Revenue -4375.15\n",
      "****************************************************************************************************\n",
      "39804 1846 452 28\n",
      "Number of treatment 39804\n",
      "Revenue -1730.5999999999995\n",
      "****************************************************************************************************\n",
      "41650 0 480 0\n",
      "41650 0 480 0\n",
      "0 41650 0 480\n"
     ]
    },
    {
     "name": "stderr",
     "output_type": "stream",
     "text": [
      " 86%|████████▌ | 8622/10000 [06:04<00:57, 23.80it/s]"
     ]
    },
    {
     "name": "stdout",
     "output_type": "stream",
     "text": [
      "0 41650 0 480\n",
      "6297 35353 42 438\n",
      "Number of treatment 6297\n",
      "Revenue -4904.55\n",
      "****************************************************************************************************\n",
      "12542 29108 74 406\n",
      "Number of treatment 12542\n",
      "Revenue -5201.3\n",
      "****************************************************************************************************\n",
      "41650 0 480 0\n",
      "41650 0 480 0\n"
     ]
    },
    {
     "name": "stderr",
     "output_type": "stream",
     "text": [
      " 86%|████████▋ | 8628/10000 [06:04<00:56, 24.39it/s]"
     ]
    },
    {
     "name": "stdout",
     "output_type": "stream",
     "text": [
      "41650 0 480 0\n",
      "41650 0 480 0\n",
      "41650 0 480 0\n",
      "41650 0 480 0\n",
      "7453 34197 50 430\n",
      "Number of treatment 7453\n",
      "Revenue -4917.95\n",
      "****************************************************************************************************\n",
      "41650 0 480 0\n"
     ]
    },
    {
     "name": "stderr",
     "output_type": "stream",
     "text": [
      "\r",
      " 86%|████████▋ | 8631/10000 [06:04<00:58, 23.49it/s]"
     ]
    },
    {
     "name": "stdout",
     "output_type": "stream",
     "text": [
      "41650 0 480 0\n",
      "17837 23813 140 340\n",
      "Number of treatment 17837\n",
      "Revenue -4675.549999999999\n",
      "****************************************************************************************************\n",
      "10785 30865 61 419\n",
      "Number of treatment 10785\n",
      "Revenue -5197.75\n",
      "****************************************************************************************************\n",
      "41650 0 480 0\n",
      "41650 0 480 0\n"
     ]
    },
    {
     "name": "stderr",
     "output_type": "stream",
     "text": [
      " 86%|████████▋ | 8637/10000 [06:05<00:55, 24.59it/s]"
     ]
    },
    {
     "name": "stdout",
     "output_type": "stream",
     "text": [
      "0 41650 0 480\n",
      "41650 0 480 0\n",
      "41650 0 480 0\n",
      "41650 0 480 0\n",
      "41650 0 480 0\n",
      "41650 0 480 0\n"
     ]
    },
    {
     "name": "stderr",
     "output_type": "stream",
     "text": [
      " 86%|████████▋ | 8643/10000 [06:05<00:58, 23.32it/s]"
     ]
    },
    {
     "name": "stdout",
     "output_type": "stream",
     "text": [
      "20187 21463 163 317\n",
      "Number of treatment 20187\n",
      "Revenue -4568.049999999999\n",
      "****************************************************************************************************\n",
      "4024 37626 26 454\n",
      "Number of treatment 4024\n",
      "Revenue -4883.6\n",
      "****************************************************************************************************\n",
      "41650 0 480 0\n",
      "0 41650 0 480\n",
      "41650 0 480 0\n"
     ]
    },
    {
     "name": "stderr",
     "output_type": "stream",
     "text": [
      " 86%|████████▋ | 8649/10000 [06:05<00:56, 23.88it/s]"
     ]
    },
    {
     "name": "stdout",
     "output_type": "stream",
     "text": [
      "41650 0 480 0\n",
      "41650 0 480 0\n",
      "41650 0 480 0\n",
      "41650 0 480 0\n",
      "41650 0 480 0\n"
     ]
    },
    {
     "name": "stderr",
     "output_type": "stream",
     "text": [
      " 87%|████████▋ | 8655/10000 [06:05<00:55, 24.31it/s]"
     ]
    },
    {
     "name": "stdout",
     "output_type": "stream",
     "text": [
      "10662 30988 61 419\n",
      "Number of treatment 10662\n",
      "Revenue -5179.3\n",
      "****************************************************************************************************\n",
      "0 41650 0 480\n",
      "20062 21588 163 317\n",
      "Number of treatment 20062\n",
      "Revenue -4549.299999999999\n",
      "****************************************************************************************************\n",
      "41650 0 480 0\n",
      "41650 0 480 0\n",
      "41650 0 480 0\n"
     ]
    },
    {
     "name": "stderr",
     "output_type": "stream",
     "text": [
      "\r",
      " 87%|████████▋ | 8658/10000 [06:06<00:56, 23.67it/s]"
     ]
    },
    {
     "name": "stdout",
     "output_type": "stream",
     "text": [
      "41650 0 480 0\n",
      "40078 1572 459 21\n",
      "13052 28598 75 405\n",
      "Number of treatment 13052\n",
      "Revenue -5257.8\n",
      "****************************************************************************************************\n",
      "41650 0 480 0\n",
      "13671 27979 79 401\n",
      "Number of treatment 13671\n",
      "Revenue -5270.65\n",
      "****************************************************************************************************\n"
     ]
    },
    {
     "name": "stderr",
     "output_type": "stream",
     "text": [
      " 87%|████████▋ | 8664/10000 [06:06<00:58, 22.95it/s]"
     ]
    },
    {
     "name": "stdout",
     "output_type": "stream",
     "text": [
      "1987 39663 17 463\n",
      "Number of treatment 1987\n",
      "Revenue -4758.05\n",
      "****************************************************************************************************\n",
      "41650 0 480 0\n",
      "41650 0 480 0\n",
      "41650 0 480 0\n",
      "41650 0 480 0\n"
     ]
    },
    {
     "name": "stderr",
     "output_type": "stream",
     "text": [
      " 87%|████████▋ | 8670/10000 [06:06<00:55, 23.89it/s]"
     ]
    },
    {
     "name": "stdout",
     "output_type": "stream",
     "text": [
      "13195 28455 76 404\n",
      "Number of treatment 13195\n",
      "Revenue -5259.25\n",
      "****************************************************************************************************\n",
      "41650 0 480 0\n",
      "40148 1502 461 19\n",
      "41650 0 480 0\n",
      "41650 0 480 0\n",
      "41650 0 480 0\n"
     ]
    },
    {
     "name": "stderr",
     "output_type": "stream",
     "text": [
      " 87%|████████▋ | 8676/10000 [06:06<00:54, 24.29it/s]"
     ]
    },
    {
     "name": "stdout",
     "output_type": "stream",
     "text": [
      "41650 0 480 0\n",
      "41650 0 480 0\n",
      "41650 0 480 0\n",
      "41650 0 480 0\n",
      "41650 0 480 0\n"
     ]
    },
    {
     "name": "stderr",
     "output_type": "stream",
     "text": [
      "\r",
      " 87%|████████▋ | 8679/10000 [06:06<00:56, 23.34it/s]"
     ]
    },
    {
     "name": "stdout",
     "output_type": "stream",
     "text": [
      "41650 0 480 0\n",
      "0 41650 0 480\n",
      "12733 28917 74 406\n",
      "Number of treatment 12733\n",
      "Revenue -5229.95\n",
      "****************************************************************************************************\n",
      "48 41602 0 480\n",
      "0 41650 0 480\n"
     ]
    },
    {
     "name": "stderr",
     "output_type": "stream",
     "text": [
      " 87%|████████▋ | 8685/10000 [06:07<00:54, 23.91it/s]"
     ]
    },
    {
     "name": "stdout",
     "output_type": "stream",
     "text": [
      "41650 0 480 0\n",
      "0 41650 0 480\n",
      "41650 0 480 0\n",
      "41650 0 480 0\n",
      "13532 28118 78 402\n"
     ]
    },
    {
     "name": "stderr",
     "output_type": "stream",
     "text": [
      " 87%|████████▋ | 8691/10000 [06:07<00:53, 24.45it/s]"
     ]
    },
    {
     "name": "stdout",
     "output_type": "stream",
     "text": [
      "17682 23968 138 342\n",
      "Number of treatment 17682\n",
      "Revenue -4692.299999999999\n",
      "****************************************************************************************************\n",
      "41650 0 480 0\n",
      "41650 0 480 0\n",
      "41650 0 480 0\n",
      "24196 17454 215 265\n",
      "Number of treatment 24196\n",
      "Revenue -4129.4\n",
      "****************************************************************************************************\n"
     ]
    },
    {
     "name": "stderr",
     "output_type": "stream",
     "text": [
      "\r",
      " 87%|████████▋ | 8694/10000 [06:07<00:55, 23.60it/s]"
     ]
    },
    {
     "name": "stdout",
     "output_type": "stream",
     "text": [
      "41650 0 480 0\n",
      "41650 0 480 0\n",
      "41650 0 480 0\n",
      "0 41650 0 480\n",
      "41650 0 480 0\n"
     ]
    },
    {
     "name": "stderr",
     "output_type": "stream",
     "text": [
      " 87%|████████▋ | 8700/10000 [06:07<00:54, 23.88it/s]"
     ]
    },
    {
     "name": "stdout",
     "output_type": "stream",
     "text": [
      "41650 0 480 0\n",
      "41650 0 480 0\n",
      "41650 0 480 0\n",
      "41650 0 480 0\n",
      "41650 0 480 0\n"
     ]
    },
    {
     "name": "stderr",
     "output_type": "stream",
     "text": [
      " 87%|████████▋ | 8706/10000 [06:08<00:54, 23.57it/s]"
     ]
    },
    {
     "name": "stdout",
     "output_type": "stream",
     "text": [
      "41650 0 480 0\n",
      "41650 0 480 0\n",
      "38033 3617 417 63\n",
      "Number of treatment 38033\n",
      "Revenue -2164.95\n",
      "****************************************************************************************************\n",
      "38527 3123 428 52\n",
      "Number of treatment 38527\n",
      "Revenue -2019.0500000000002\n",
      "****************************************************************************************************\n",
      "41650 0 480 0\n"
     ]
    },
    {
     "name": "stderr",
     "output_type": "stream",
     "text": [
      "\r",
      " 87%|████████▋ | 8709/10000 [06:08<00:54, 23.89it/s]"
     ]
    },
    {
     "name": "stdout",
     "output_type": "stream",
     "text": [
      "41650 0 480 0\n",
      "41650 0 480 0\n",
      "41650 0 480 0\n",
      "0 41650 0 480\n",
      "41650 0 480 0\n"
     ]
    },
    {
     "name": "stderr",
     "output_type": "stream",
     "text": [
      " 87%|████████▋ | 8715/10000 [06:08<00:53, 23.84it/s]"
     ]
    },
    {
     "name": "stdout",
     "output_type": "stream",
     "text": [
      "41650 0 480 0\n",
      "41650 0 480 0\n",
      "41650 0 480 0\n",
      "41650 0 480 0\n",
      "41650 0 480 0\n"
     ]
    },
    {
     "name": "stderr",
     "output_type": "stream",
     "text": [
      " 87%|████████▋ | 8721/10000 [06:08<00:53, 23.98it/s]"
     ]
    },
    {
     "name": "stdout",
     "output_type": "stream",
     "text": [
      "41650 0 480 0\n",
      "41650 0 480 0\n",
      "41650 0 480 0\n",
      "41650 0 480 0\n",
      "38665 2985 429 51\n",
      "Number of treatment 38665\n",
      "Revenue -2019.75\n",
      "****************************************************************************************************\n"
     ]
    },
    {
     "name": "stderr",
     "output_type": "stream",
     "text": [
      "\r",
      " 87%|████████▋ | 8724/10000 [06:08<00:55, 22.99it/s]"
     ]
    }
   ],
   "source": [
    "from collections import Counter\n",
    "delta_seq = np.random.uniform(low=0.1, high=10, size=(10000,))\n",
    "rev_seq = []\n",
    "dictionary_ = []\n",
    "delta_result = []\n",
    "\n",
    "test_data['proposed_strategy'] = ''\n",
    "\n",
    "for delta in tqdm(delta_seq):    \n",
    "    q1 = (delta * test_data['p1']) / (delta * test_data['p1'] + test_data['p0'])\n",
    "    policy = np.array([1 if i >= 0.5 else 0 for i in q1])\n",
    "    test_data['proposed_strategy'] = [ \"Yes\" if i == 1 else \"No\" for i in policy]\n",
    "    d = dict(Counter(policy))\n",
    "    count = 0\n",
    "    if 1 not in d:\n",
    "        count = 0\n",
    "    else:\n",
    "        count = d[1]\n",
    "    irr, nir = score_(test_data, promo_pred_col = 'proposed_strategy')\n",
    "    \n",
    "    if not math.isnan(nir):\n",
    "        delta_result.append(delta)\n",
    "        rev_seq.append(nir)\n",
    "        if count not in dictionary_:\n",
    "            dictionary_.append(count)\n",
    "            print(\"Number of treatment {}\".format(count))\n",
    "            print(\"Revenue {}\".format(nir))\n",
    "            print(\"*\"*100)"
   ]
  },
  {
   "cell_type": "code",
   "execution_count": 37,
   "metadata": {},
   "outputs": [],
   "source": [
    "import pickle\n",
    "with open ('/home/dtd/Downloads/Data_Scientist_Nanodegree/starbucks_portfolio_exercise/outfile.txt', 'rb') as fp:\n",
    "    itemlist = pickle.load(fp)"
   ]
  },
  {
   "cell_type": "code",
   "execution_count": 38,
   "metadata": {},
   "outputs": [
    {
     "data": {
      "text/plain": [
       "array(['No', 'Yes', 'No', ..., 'No', 'No', 'Yes'], dtype='<U3')"
      ]
     },
     "execution_count": 38,
     "metadata": {},
     "output_type": "execute_result"
    }
   ],
   "source": [
    "itemlist"
   ]
  },
  {
   "cell_type": "code",
   "execution_count": 39,
   "metadata": {},
   "outputs": [
    {
     "name": "stderr",
     "output_type": "stream",
     "text": [
      "/home/dtd/.conda/envs/phd_env/lib/python3.7/site-packages/ipykernel_launcher.py:2: SettingWithCopyWarning: \n",
      "A value is trying to be set on a copy of a slice from a DataFrame.\n",
      "Try using .loc[row_indexer,col_indexer] = value instead\n",
      "\n",
      "See the caveats in the documentation: https://pandas.pydata.org/pandas-docs/stable/user_guide/indexing.html#returning-a-view-versus-a-copy\n",
      "  \n"
     ]
    }
   ],
   "source": [
    "policy = np.array([1 if i >= 0.5 else 0 for i in q1])\n",
    "valid['proposed_strategy'] = itemlist\n",
    "d = dict(Counter(policy))\n",
    "count = 0\n",
    "if 1 not in d:\n",
    "    count = 0\n",
    "else:\n",
    "    count = d[1]\n",
    "irr, nir = score_(valid, promo_pred_col = 'proposed_strategy')"
   ]
  }
 ],
 "metadata": {
  "kernelspec": {
   "display_name": "Python [conda env:phd_env] *",
   "language": "python",
   "name": "conda-env-phd_env-py"
  },
  "language_info": {
   "codemirror_mode": {
    "name": "ipython",
    "version": 3
   },
   "file_extension": ".py",
   "mimetype": "text/x-python",
   "name": "python",
   "nbconvert_exporter": "python",
   "pygments_lexer": "ipython3",
   "version": "3.7.7"
  },
  "toc": {
   "base_numbering": 1,
   "nav_menu": {},
   "number_sections": true,
   "sideBar": true,
   "skip_h1_title": false,
   "title_cell": "Table of Contents",
   "title_sidebar": "Contents",
   "toc_cell": false,
   "toc_position": {},
   "toc_section_display": true,
   "toc_window_display": true
  }
 },
 "nbformat": 4,
 "nbformat_minor": 4
}
