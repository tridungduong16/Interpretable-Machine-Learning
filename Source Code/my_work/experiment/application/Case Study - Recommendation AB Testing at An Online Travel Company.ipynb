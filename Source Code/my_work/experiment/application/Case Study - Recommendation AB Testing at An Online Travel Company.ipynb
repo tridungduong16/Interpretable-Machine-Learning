{
 "cells": [
  {
   "cell_type": "markdown",
   "metadata": {},
   "source": [
    "## Import library"
   ]
  },
  {
   "cell_type": "code",
   "execution_count": 42,
   "metadata": {},
   "outputs": [],
   "source": [
    "import sys\n",
    "\n",
    "MAIN_PATH = \"/home/trduong/Data/interpretable_machine_learning/Source Code/my_work\"\n",
    "\n",
    "\n",
    "sys.path.insert(\n",
    "    1,\n",
    "    MAIN_PATH + '/lib'\n",
    ")\n",
    "\n",
    "sys.path.insert(\n",
    "    1,\n",
    "    MAIN_PATH + '/config'\n",
    ")\n",
    "\n",
    "import numpy as np\n",
    "import pandas as pd\n",
    "import logging\n",
    "import dowhy.datasets\n",
    "import dowhy\n",
    "import incremental_ps_score_estimator as ipse\n",
    "import math\n",
    "import timeit\n",
    "import pandas as pd\n",
    "import numpy as np\n",
    "import tensorflow as tf\n",
    "import time\n",
    "import utils \n",
    "from tempfile import TemporaryFile\n",
    "import experiment_config as cf\n",
    "\n",
    "# save numpy array as npy file\n",
    "from numpy import asarray\n",
    "from numpy import save\n",
    "\n",
    "from dowhy import CausalModel\n",
    "from sklearn.metrics import log_loss\n",
    "from sklearn.linear_model import LogisticRegression\n",
    "from sklearn.ensemble import RandomForestClassifier\n",
    "from scipy.stats import sem\n",
    "from dowhy import CausalModel\n",
    "from sklearn.linear_model import LogisticRegression\n",
    "from sklearn import metrics\n",
    "from sklearn.neighbors import NearestNeighbors\n",
    "from sklearn.ensemble import RandomForestRegressor\n",
    "from sklearn import metrics\n",
    "from sklearn.ensemble import RandomForestClassifier\n",
    "from sklearn.ensemble import GradientBoostingClassifier\n",
    "from sklearn.ensemble import GradientBoostingRegressor\n",
    "from sklearn.metrics import explained_variance_score\n",
    "from sklearn.model_selection import train_test_split\n",
    "from sklearn.model_selection import KFold\n",
    "from tqdm import tqdm\n",
    "from sklearn.metrics import mean_squared_error\n",
    "from math import sqrt\n",
    "from econml.dml import LinearDMLCateEstimator\n",
    "from sklearn.linear_model import LassoCV\n",
    "from econml.inference import BootstrapInference\n",
    "from econml.dml import SparseLinearDMLCateEstimator\n",
    "from sklearn.linear_model import LassoCV, ElasticNetCV\n",
    "from sklearn.ensemble import GradientBoostingRegressor\n",
    "from sklearn.preprocessing import StandardScaler\n",
    "from sklearn.metrics import accuracy_score\n",
    "from sklearn.svm import SVC\n",
    "from sklearn.metrics import accuracy_score, f1_score, precision_score, recall_score, classification_report, confusion_matrix\n",
    "import logging\n",
    "import scipy.stats as st\n"
   ]
  },
  {
   "cell_type": "markdown",
   "metadata": {},
   "source": [
    "## Load data "
   ]
  },
  {
   "cell_type": "code",
   "execution_count": 20,
   "metadata": {},
   "outputs": [],
   "source": [
    "# Import the sample AB data\n",
    "file_url = \"https://msalicedatapublic.blob.core.windows.net/datasets/RecommendationAB/ab_sample.csv\"   \n",
    "ab_data = pd.read_csv(file_url)"
   ]
  },
  {
   "cell_type": "code",
   "execution_count": 21,
   "metadata": {},
   "outputs": [
    {
     "data": {
      "text/html": [
       "<div>\n",
       "<style scoped>\n",
       "    .dataframe tbody tr th:only-of-type {\n",
       "        vertical-align: middle;\n",
       "    }\n",
       "\n",
       "    .dataframe tbody tr th {\n",
       "        vertical-align: top;\n",
       "    }\n",
       "\n",
       "    .dataframe thead th {\n",
       "        text-align: right;\n",
       "    }\n",
       "</style>\n",
       "<table border=\"1\" class=\"dataframe\">\n",
       "  <thead>\n",
       "    <tr style=\"text-align: right;\">\n",
       "      <th></th>\n",
       "      <th>days_visited_exp_pre</th>\n",
       "      <th>days_visited_free_pre</th>\n",
       "      <th>days_visited_fs_pre</th>\n",
       "      <th>days_visited_hs_pre</th>\n",
       "      <th>days_visited_rs_pre</th>\n",
       "      <th>days_visited_vrs_pre</th>\n",
       "      <th>locale_en_US</th>\n",
       "      <th>revenue_pre</th>\n",
       "      <th>os_type_osx</th>\n",
       "      <th>os_type_windows</th>\n",
       "      <th>easier_signup</th>\n",
       "      <th>became_member</th>\n",
       "      <th>days_visited_post</th>\n",
       "    </tr>\n",
       "  </thead>\n",
       "  <tbody>\n",
       "    <tr>\n",
       "      <th>0</th>\n",
       "      <td>1</td>\n",
       "      <td>9</td>\n",
       "      <td>7</td>\n",
       "      <td>25</td>\n",
       "      <td>6</td>\n",
       "      <td>3</td>\n",
       "      <td>1</td>\n",
       "      <td>0.01</td>\n",
       "      <td>0</td>\n",
       "      <td>1</td>\n",
       "      <td>0</td>\n",
       "      <td>0</td>\n",
       "      <td>1</td>\n",
       "    </tr>\n",
       "    <tr>\n",
       "      <th>1</th>\n",
       "      <td>10</td>\n",
       "      <td>25</td>\n",
       "      <td>27</td>\n",
       "      <td>10</td>\n",
       "      <td>27</td>\n",
       "      <td>27</td>\n",
       "      <td>0</td>\n",
       "      <td>2.26</td>\n",
       "      <td>0</td>\n",
       "      <td>0</td>\n",
       "      <td>0</td>\n",
       "      <td>0</td>\n",
       "      <td>15</td>\n",
       "    </tr>\n",
       "    <tr>\n",
       "      <th>2</th>\n",
       "      <td>18</td>\n",
       "      <td>14</td>\n",
       "      <td>8</td>\n",
       "      <td>4</td>\n",
       "      <td>5</td>\n",
       "      <td>2</td>\n",
       "      <td>1</td>\n",
       "      <td>0.03</td>\n",
       "      <td>0</td>\n",
       "      <td>1</td>\n",
       "      <td>0</td>\n",
       "      <td>0</td>\n",
       "      <td>17</td>\n",
       "    </tr>\n",
       "    <tr>\n",
       "      <th>3</th>\n",
       "      <td>17</td>\n",
       "      <td>0</td>\n",
       "      <td>23</td>\n",
       "      <td>2</td>\n",
       "      <td>3</td>\n",
       "      <td>1</td>\n",
       "      <td>1</td>\n",
       "      <td>418.77</td>\n",
       "      <td>0</td>\n",
       "      <td>1</td>\n",
       "      <td>0</td>\n",
       "      <td>0</td>\n",
       "      <td>6</td>\n",
       "    </tr>\n",
       "    <tr>\n",
       "      <th>4</th>\n",
       "      <td>24</td>\n",
       "      <td>9</td>\n",
       "      <td>22</td>\n",
       "      <td>2</td>\n",
       "      <td>3</td>\n",
       "      <td>18</td>\n",
       "      <td>1</td>\n",
       "      <td>1.54</td>\n",
       "      <td>0</td>\n",
       "      <td>0</td>\n",
       "      <td>0</td>\n",
       "      <td>0</td>\n",
       "      <td>12</td>\n",
       "    </tr>\n",
       "  </tbody>\n",
       "</table>\n",
       "</div>"
      ],
      "text/plain": [
       "   days_visited_exp_pre  days_visited_free_pre  days_visited_fs_pre  \\\n",
       "0                     1                      9                    7   \n",
       "1                    10                     25                   27   \n",
       "2                    18                     14                    8   \n",
       "3                    17                      0                   23   \n",
       "4                    24                      9                   22   \n",
       "\n",
       "   days_visited_hs_pre  days_visited_rs_pre  days_visited_vrs_pre  \\\n",
       "0                   25                    6                     3   \n",
       "1                   10                   27                    27   \n",
       "2                    4                    5                     2   \n",
       "3                    2                    3                     1   \n",
       "4                    2                    3                    18   \n",
       "\n",
       "   locale_en_US  revenue_pre  os_type_osx  os_type_windows  easier_signup  \\\n",
       "0             1         0.01            0                1              0   \n",
       "1             0         2.26            0                0              0   \n",
       "2             1         0.03            0                1              0   \n",
       "3             1       418.77            0                1              0   \n",
       "4             1         1.54            0                0              0   \n",
       "\n",
       "   became_member  days_visited_post  \n",
       "0              0                  1  \n",
       "1              0                 15  \n",
       "2              0                 17  \n",
       "3              0                  6  \n",
       "4              0                 12  "
      ]
     },
     "execution_count": 21,
     "metadata": {},
     "output_type": "execute_result"
    }
   ],
   "source": [
    "ab_data.head()"
   ]
  },
  {
   "cell_type": "code",
   "execution_count": 22,
   "metadata": {},
   "outputs": [
    {
     "data": {
      "image/png": "[encoded data removed]",
      "text/latex": [
       "$\\displaystyle \\left( 100000, \\  13\\right)$"
      ],
      "text/plain": [
       "(100000, 13)"
      ]
     },
     "execution_count": 22,
     "metadata": {},
     "output_type": "execute_result"
    }
   ],
   "source": [
    "ab_data.shape"
   ]
  },
  {
   "cell_type": "code",
   "execution_count": 23,
   "metadata": {},
   "outputs": [
    {
     "data": {
      "text/plain": [
       "0    64780\n",
       "1    35220\n",
       "Name: became_member, dtype: int64"
      ]
     },
     "execution_count": 23,
     "metadata": {},
     "output_type": "execute_result"
    }
   ],
   "source": [
    "ab_data.became_member.value_counts()"
   ]
  },
  {
   "cell_type": "code",
   "execution_count": 24,
   "metadata": {},
   "outputs": [
    {
     "data": {
      "text/plain": [
       "Index(['days_visited_exp_pre', 'days_visited_free_pre', 'days_visited_fs_pre',\n",
       "       'days_visited_hs_pre', 'days_visited_rs_pre', 'days_visited_vrs_pre',\n",
       "       'locale_en_US', 'revenue_pre', 'os_type_osx', 'os_type_windows',\n",
       "       'easier_signup', 'became_member', 'days_visited_post'],\n",
       "      dtype='object')"
      ]
     },
     "execution_count": 24,
     "metadata": {},
     "output_type": "execute_result"
    }
   ],
   "source": [
    "ab_data.columns"
   ]
  },
  {
   "cell_type": "code",
   "execution_count": 25,
   "metadata": {},
   "outputs": [],
   "source": [
    "# Define estimator inputs\n",
    "Z = ab_data['easier_signup'] # nudge, or instrument\n",
    "T = ab_data['became_member'] # intervention, or treatment\n",
    "Y = ab_data['days_visited_post'] # outcome of interest\n",
    "X_data = ab_data.drop(columns=['easier_signup', 'became_member', 'days_visited_post']) # features\n",
    "\n",
    "col = ['days_visited_exp_pre', 'days_visited_free_pre', 'days_visited_fs_pre',\n",
    "       'days_visited_hs_pre', 'days_visited_rs_pre', 'days_visited_vrs_pre',\n",
    "       'locale_en_US', 'revenue_pre', 'os_type_osx', 'os_type_windows',\n",
    "       'easier_signup', 'became_member', 'days_visited_post']\n",
    "\n",
    "cov = ['days_visited_exp_pre', 'days_visited_free_pre', 'days_visited_fs_pre',\n",
    "       'days_visited_hs_pre', 'days_visited_rs_pre', 'days_visited_vrs_pre',\n",
    "       'locale_en_US', 'revenue_pre', 'os_type_osx', 'os_type_windows',\n",
    "       'easier_signup']\n",
    "\n",
    "features = ['days_visited_exp_pre', 'days_visited_free_pre', 'days_visited_fs_pre',\n",
    "       'days_visited_hs_pre', 'days_visited_rs_pre', 'days_visited_vrs_pre',\n",
    "       'locale_en_US', 'revenue_pre', 'os_type_osx', 'os_type_windows',\n",
    "            'became_member']\n",
    "\n",
    "treatment = 'became_member' # intervention, or treatment\n",
    "outcome = 'days_visited_post' # outcome of interest\n",
    "\n",
    "\n"
   ]
  },
  {
   "cell_type": "code",
   "execution_count": 26,
   "metadata": {},
   "outputs": [],
   "source": [
    "# Define underlying treatment effect function \n",
    "TE_fn = lambda X: (0.2 + 0.3 * X['days_visited_free_pre'] - 0.2 * X['days_visited_hs_pre'] + X['os_type_osx']).values\n",
    "true_TE = TE_fn(ab_data[cov])"
   ]
  },
  {
   "cell_type": "code",
   "execution_count": 27,
   "metadata": {},
   "outputs": [],
   "source": [
    "true_effect = np.mean(true_TE)"
   ]
  },
  {
   "cell_type": "code",
   "execution_count": 28,
   "metadata": {},
   "outputs": [
    {
     "data": {
      "text/html": [
       "<div>\n",
       "<style scoped>\n",
       "    .dataframe tbody tr th:only-of-type {\n",
       "        vertical-align: middle;\n",
       "    }\n",
       "\n",
       "    .dataframe tbody tr th {\n",
       "        vertical-align: top;\n",
       "    }\n",
       "\n",
       "    .dataframe thead th {\n",
       "        text-align: right;\n",
       "    }\n",
       "</style>\n",
       "<table border=\"1\" class=\"dataframe\">\n",
       "  <thead>\n",
       "    <tr style=\"text-align: right;\">\n",
       "      <th></th>\n",
       "      <th>days_visited_exp_pre</th>\n",
       "      <th>days_visited_free_pre</th>\n",
       "      <th>days_visited_fs_pre</th>\n",
       "      <th>days_visited_hs_pre</th>\n",
       "      <th>days_visited_rs_pre</th>\n",
       "      <th>days_visited_vrs_pre</th>\n",
       "      <th>locale_en_US</th>\n",
       "      <th>revenue_pre</th>\n",
       "      <th>os_type_osx</th>\n",
       "      <th>os_type_windows</th>\n",
       "      <th>became_member</th>\n",
       "    </tr>\n",
       "  </thead>\n",
       "  <tbody>\n",
       "    <tr>\n",
       "      <th>0</th>\n",
       "      <td>1</td>\n",
       "      <td>9</td>\n",
       "      <td>7</td>\n",
       "      <td>25</td>\n",
       "      <td>6</td>\n",
       "      <td>3</td>\n",
       "      <td>1</td>\n",
       "      <td>0.01</td>\n",
       "      <td>0</td>\n",
       "      <td>1</td>\n",
       "      <td>0</td>\n",
       "    </tr>\n",
       "    <tr>\n",
       "      <th>1</th>\n",
       "      <td>10</td>\n",
       "      <td>25</td>\n",
       "      <td>27</td>\n",
       "      <td>10</td>\n",
       "      <td>27</td>\n",
       "      <td>27</td>\n",
       "      <td>0</td>\n",
       "      <td>2.26</td>\n",
       "      <td>0</td>\n",
       "      <td>0</td>\n",
       "      <td>0</td>\n",
       "    </tr>\n",
       "    <tr>\n",
       "      <th>2</th>\n",
       "      <td>18</td>\n",
       "      <td>14</td>\n",
       "      <td>8</td>\n",
       "      <td>4</td>\n",
       "      <td>5</td>\n",
       "      <td>2</td>\n",
       "      <td>1</td>\n",
       "      <td>0.03</td>\n",
       "      <td>0</td>\n",
       "      <td>1</td>\n",
       "      <td>0</td>\n",
       "    </tr>\n",
       "    <tr>\n",
       "      <th>3</th>\n",
       "      <td>17</td>\n",
       "      <td>0</td>\n",
       "      <td>23</td>\n",
       "      <td>2</td>\n",
       "      <td>3</td>\n",
       "      <td>1</td>\n",
       "      <td>1</td>\n",
       "      <td>418.77</td>\n",
       "      <td>0</td>\n",
       "      <td>1</td>\n",
       "      <td>0</td>\n",
       "    </tr>\n",
       "    <tr>\n",
       "      <th>4</th>\n",
       "      <td>24</td>\n",
       "      <td>9</td>\n",
       "      <td>22</td>\n",
       "      <td>2</td>\n",
       "      <td>3</td>\n",
       "      <td>18</td>\n",
       "      <td>1</td>\n",
       "      <td>1.54</td>\n",
       "      <td>0</td>\n",
       "      <td>0</td>\n",
       "      <td>0</td>\n",
       "    </tr>\n",
       "    <tr>\n",
       "      <th>...</th>\n",
       "      <td>...</td>\n",
       "      <td>...</td>\n",
       "      <td>...</td>\n",
       "      <td>...</td>\n",
       "      <td>...</td>\n",
       "      <td>...</td>\n",
       "      <td>...</td>\n",
       "      <td>...</td>\n",
       "      <td>...</td>\n",
       "      <td>...</td>\n",
       "      <td>...</td>\n",
       "    </tr>\n",
       "    <tr>\n",
       "      <th>99995</th>\n",
       "      <td>27</td>\n",
       "      <td>27</td>\n",
       "      <td>8</td>\n",
       "      <td>4</td>\n",
       "      <td>25</td>\n",
       "      <td>20</td>\n",
       "      <td>1</td>\n",
       "      <td>0.02</td>\n",
       "      <td>1</td>\n",
       "      <td>0</td>\n",
       "      <td>1</td>\n",
       "    </tr>\n",
       "    <tr>\n",
       "      <th>99996</th>\n",
       "      <td>22</td>\n",
       "      <td>21</td>\n",
       "      <td>15</td>\n",
       "      <td>27</td>\n",
       "      <td>24</td>\n",
       "      <td>18</td>\n",
       "      <td>0</td>\n",
       "      <td>6.98</td>\n",
       "      <td>1</td>\n",
       "      <td>0</td>\n",
       "      <td>1</td>\n",
       "    </tr>\n",
       "    <tr>\n",
       "      <th>99997</th>\n",
       "      <td>13</td>\n",
       "      <td>5</td>\n",
       "      <td>5</td>\n",
       "      <td>25</td>\n",
       "      <td>28</td>\n",
       "      <td>24</td>\n",
       "      <td>1</td>\n",
       "      <td>0.01</td>\n",
       "      <td>0</td>\n",
       "      <td>1</td>\n",
       "      <td>0</td>\n",
       "    </tr>\n",
       "    <tr>\n",
       "      <th>99998</th>\n",
       "      <td>21</td>\n",
       "      <td>13</td>\n",
       "      <td>5</td>\n",
       "      <td>24</td>\n",
       "      <td>14</td>\n",
       "      <td>2</td>\n",
       "      <td>0</td>\n",
       "      <td>0.07</td>\n",
       "      <td>0</td>\n",
       "      <td>0</td>\n",
       "      <td>1</td>\n",
       "    </tr>\n",
       "    <tr>\n",
       "      <th>99999</th>\n",
       "      <td>9</td>\n",
       "      <td>25</td>\n",
       "      <td>10</td>\n",
       "      <td>10</td>\n",
       "      <td>27</td>\n",
       "      <td>3</td>\n",
       "      <td>0</td>\n",
       "      <td>1.49</td>\n",
       "      <td>0</td>\n",
       "      <td>0</td>\n",
       "      <td>0</td>\n",
       "    </tr>\n",
       "  </tbody>\n",
       "</table>\n",
       "<p>100000 rows × 11 columns</p>\n",
       "</div>"
      ],
      "text/plain": [
       "       days_visited_exp_pre  days_visited_free_pre  days_visited_fs_pre  \\\n",
       "0                         1                      9                    7   \n",
       "1                        10                     25                   27   \n",
       "2                        18                     14                    8   \n",
       "3                        17                      0                   23   \n",
       "4                        24                      9                   22   \n",
       "...                     ...                    ...                  ...   \n",
       "99995                    27                     27                    8   \n",
       "99996                    22                     21                   15   \n",
       "99997                    13                      5                    5   \n",
       "99998                    21                     13                    5   \n",
       "99999                     9                     25                   10   \n",
       "\n",
       "       days_visited_hs_pre  days_visited_rs_pre  days_visited_vrs_pre  \\\n",
       "0                       25                    6                     3   \n",
       "1                       10                   27                    27   \n",
       "2                        4                    5                     2   \n",
       "3                        2                    3                     1   \n",
       "4                        2                    3                    18   \n",
       "...                    ...                  ...                   ...   \n",
       "99995                    4                   25                    20   \n",
       "99996                   27                   24                    18   \n",
       "99997                   25                   28                    24   \n",
       "99998                   24                   14                     2   \n",
       "99999                   10                   27                     3   \n",
       "\n",
       "       locale_en_US  revenue_pre  os_type_osx  os_type_windows  became_member  \n",
       "0                 1         0.01            0                1              0  \n",
       "1                 0         2.26            0                0              0  \n",
       "2                 1         0.03            0                1              0  \n",
       "3                 1       418.77            0                1              0  \n",
       "4                 1         1.54            0                0              0  \n",
       "...             ...          ...          ...              ...            ...  \n",
       "99995             1         0.02            1                0              1  \n",
       "99996             0         6.98            1                0              1  \n",
       "99997             1         0.01            0                1              0  \n",
       "99998             0         0.07            0                0              1  \n",
       "99999             0         1.49            0                0              0  \n",
       "\n",
       "[100000 rows x 11 columns]"
      ]
     },
     "execution_count": 28,
     "metadata": {},
     "output_type": "execute_result"
    }
   ],
   "source": [
    "ab_data[features]"
   ]
  },
  {
   "cell_type": "code",
   "execution_count": 29,
   "metadata": {},
   "outputs": [
    {
     "data": {
      "text/plain": [
       "0    64780\n",
       "1    35220\n",
       "Name: became_member, dtype: int64"
      ]
     },
     "execution_count": 29,
     "metadata": {},
     "output_type": "execute_result"
    }
   ],
   "source": [
    "ab_data.became_member.value_counts()"
   ]
  },
  {
   "cell_type": "code",
   "execution_count": 30,
   "metadata": {},
   "outputs": [
    {
     "data": {
      "text/plain": [
       "['days_visited_exp_pre',\n",
       " 'days_visited_free_pre',\n",
       " 'days_visited_fs_pre',\n",
       " 'days_visited_hs_pre',\n",
       " 'days_visited_rs_pre',\n",
       " 'days_visited_vrs_pre',\n",
       " 'locale_en_US',\n",
       " 'revenue_pre',\n",
       " 'os_type_osx',\n",
       " 'os_type_windows',\n",
       " 'became_member']"
      ]
     },
     "execution_count": 30,
     "metadata": {},
     "output_type": "execute_result"
    }
   ],
   "source": [
    "features"
   ]
  },
  {
   "cell_type": "code",
   "execution_count": 31,
   "metadata": {},
   "outputs": [
    {
     "name": "stderr",
     "output_type": "stream",
     "text": [
      "/home/trduong/anaconda3/envs/phd_env/lib/python3.7/site-packages/sklearn/linear_model/_logistic.py:764: ConvergenceWarning: lbfgs failed to converge (status=1):\n",
      "STOP: TOTAL NO. of ITERATIONS REACHED LIMIT.\n",
      "\n",
      "Increase the number of iterations (max_iter) or scale the data as shown in:\n",
      "    https://scikit-learn.org/stable/modules/preprocessing.html\n",
      "Please also refer to the documentation for alternative solver options:\n",
      "    https://scikit-learn.org/stable/modules/linear_model.html#logistic-regression\n",
      "  extra_warning_msg=_LOGISTIC_SOLVER_CONVERGENCE_MSG)\n"
     ]
    },
    {
     "name": "stdout",
     "output_type": "stream",
     "text": [
      "Accuracy score of train data 0.8393285714285714\n"
     ]
    },
    {
     "data": {
      "text/plain": [
       "GradientBoostingRegressor(n_estimators=1000, random_state=0)"
      ]
     },
     "execution_count": 31,
     "metadata": {},
     "output_type": "execute_result"
    }
   ],
   "source": [
    "train, test = train_test_split(ab_data, test_size=0.3, random_state = 1)\n",
    "train = train.reset_index(drop = True)\n",
    "test = test.reset_index(drop = True)\n",
    "\n",
    "## Fit treatment\n",
    "model_t = LogisticRegression()\n",
    "model_t.fit(train[cov], train[treatment])\n",
    "\n",
    "train['p1'] = model_t.predict_proba(train[cov])[:,1]\n",
    "train['p0'] = 1 - train['p1']\n",
    "\n",
    "train[\"prediction\"] = np.where(train[\"p1\"] >= 0.5, 1, 0)\n",
    "acc = accuracy_score(train[\"prediction\"], train[treatment])\n",
    "print(\"Accuracy score of train data {}\".format(acc))\n",
    "\n",
    "## Fit outcome\n",
    "model_y = GradientBoostingRegressor(random_state=0, n_estimators = 1000)\n",
    "model_y.fit(train[features], train[outcome])\n"
   ]
  },
  {
   "cell_type": "code",
   "execution_count": 32,
   "metadata": {},
   "outputs": [
    {
     "name": "stdout",
     "output_type": "stream",
     "text": [
      "Training\n",
      "Estimation effect 2.89\n",
      "True effect 1.94\n",
      "Testing\n",
      "Estimation effect 3.25\n",
      "True effect 1.94\n"
     ]
    }
   ],
   "source": [
    "delta = 3\n",
    "influence_train = ipse.influence_function(train, treatment, cov, outcome, features, delta, model_y, model_t)\n",
    "influence_test = ipse.influence_function(test, treatment, cov, outcome, features, delta, model_y, model_t)\n",
    "means_incre_train, stds_incre_train = np.mean(influence_train, axis=0), sem(influence_train, axis=0)\n",
    "means_incre_test, stds_incre_test = np.mean(influence_test, axis=0), sem(influence_test, axis=0)\n",
    "\n",
    "true_effect_test = np.mean(TE_fn(test[cov]))\n",
    "true_effect_train = np.mean(TE_fn(train[cov]))\n",
    "\n",
    "print(\"Training\")\n",
    "print(\"Estimation effect {:.2f}\".format(means_incre_train))\n",
    "print(\"True effect {:.2f}\".format(true_effect_train))\n",
    "\n",
    "print(\"Testing\")\n",
    "print(\"Estimation effect {:.2f}\".format(means_incre_test))\n",
    "print(\"True effect {:.2f}\".format(true_effect_test))\n"
   ]
  },
  {
   "cell_type": "markdown",
   "metadata": {},
   "source": [
    "## Optimzation with individual delta and true_effect"
   ]
  },
  {
   "cell_type": "code",
   "execution_count": 33,
   "metadata": {},
   "outputs": [],
   "source": [
    "def incre_ps(delta, data):\n",
    "    q1 = (delta * data['p1']) / (delta * data['p1'] + data['p0'])\n",
    "    q1 = tf.math.abs(q1)\n",
    "    a0 = (1-q1)*data['w0']*(data['cf0'] - data[outcome])\n",
    "    a1 = q1*data['w1']*(data['cf1'] - data[outcome])    \n",
    "    influence = a1 - a0\n",
    "    return tf.reduce_mean(influence), influence\n",
    "\n",
    "def optimization(train, test, true_effect):\n",
    "    threhold = tf.constant([0.01])\n",
    "    delta = tf.Variable(20, dtype = tf.float32)\n",
    "    \n",
    "    delta_seq = []\n",
    "    losses = []\n",
    "    losses_test = []\n",
    "    effects_train = []\n",
    "    effects_test = []\n",
    "    influences_train = []\n",
    "    influences_test = []\n",
    "    for i in tqdm(range(3000)):\n",
    "        with tf.GradientTape() as tape:\n",
    "            mu_influence_train, influence_train = incre_ps(delta, train)\n",
    "            mu_influence_test, influence_test = incre_ps(delta, test)\n",
    "            loss = tf.math.abs(true_effect - mu_influence_train)\n",
    "            loss_test = tf.math.abs(true_effect - mu_influence_test)\n",
    "            d_delta = tape.gradient(loss, delta)\n",
    "            opt = tf.keras.optimizers.Adam(learning_rate=0.01)\n",
    "            opt.apply_gradients(zip([d_delta], [delta]))\n",
    "            ## early stopping \n",
    "            if tf.math.less(loss, threhold):\n",
    "                print(\"The performance reach MAE: 0.001. Cancelling the training at step {}\".format(i))\n",
    "                break\n",
    "            delta_seq.append(delta.numpy())\n",
    "            losses.append(loss.numpy())\n",
    "            losses_test.append(loss_test.numpy())\n",
    "            effects_train.append(mu_influence_train.numpy())\n",
    "            effects_test.append(mu_influence_test.numpy())\n",
    "            influences_train.append(influence_train.numpy())\n",
    "            influences_test.append(influence_test.numpy())\n",
    "        if i % 1000 == 0:\n",
    "            print(\"Epoch {}. Loss {:.4f}\".format(i, loss))\n",
    "            print(influence_test.shape)\n",
    "    print(\"Loss {:.3f}\".format(loss))\n",
    "    return delta, delta_seq, losses, losses_test, influences_train, influences_test"
   ]
  },
  {
   "cell_type": "code",
   "execution_count": 34,
   "metadata": {},
   "outputs": [
    {
     "name": "stderr",
     "output_type": "stream",
     "text": [
      "  0%|          | 9/3000 [00:00<00:36, 81.31it/s]"
     ]
    },
    {
     "name": "stdout",
     "output_type": "stream",
     "text": [
      "Epoch 0. Loss 1.3595\n",
      "(30000,)\n"
     ]
    },
    {
     "name": "stderr",
     "output_type": "stream",
     "text": [
      " 34%|███▎      | 1011/3000 [00:12<00:25, 79.41it/s]"
     ]
    },
    {
     "name": "stdout",
     "output_type": "stream",
     "text": [
      "Epoch 1000. Loss 1.1810\n",
      "(30000,)\n"
     ]
    },
    {
     "name": "stderr",
     "output_type": "stream",
     "text": [
      " 67%|██████▋   | 2014/3000 [00:24<00:12, 80.70it/s]"
     ]
    },
    {
     "name": "stdout",
     "output_type": "stream",
     "text": [
      "Epoch 2000. Loss 0.0180\n",
      "(30000,)\n"
     ]
    },
    {
     "name": "stderr",
     "output_type": "stream",
     "text": [
      "100%|██████████| 3000/3000 [00:37<00:00, 80.67it/s]"
     ]
    },
    {
     "name": "stdout",
     "output_type": "stream",
     "text": [
      "Loss 0.052\n"
     ]
    },
    {
     "name": "stderr",
     "output_type": "stream",
     "text": [
      "\n"
     ]
    }
   ],
   "source": [
    "delta, delta_seq, losses, losses_test, influences_train, influences_test = optimization(train, test, true_effect)"
   ]
  },
  {
   "cell_type": "code",
   "execution_count": 35,
   "metadata": {},
   "outputs": [
    {
     "data": {
      "text/plain": [
       "0.002569844"
      ]
     },
     "execution_count": 35,
     "metadata": {},
     "output_type": "execute_result"
    }
   ],
   "source": [
    "delta_seq[-1]"
   ]
  },
  {
   "cell_type": "code",
   "execution_count": 36,
   "metadata": {},
   "outputs": [
    {
     "name": "stderr",
     "output_type": "stream",
     "text": [
      "100%|██████████| 3000/3000 [00:04<00:00, 727.99it/s]\n"
     ]
    }
   ],
   "source": [
    "lowers_train, uppers_train = [], []\n",
    "lowers_test, uppers_test = [], []\n",
    "means_train, means_test = [], []\n",
    "\n",
    "for i in tqdm(range(len(delta_seq))):\n",
    "\n",
    "    mean_train, mean_test = np.mean(influences_train[i]), np.mean(influences_test[i])\n",
    "    stds_incre_train, stds_incre_test = sem(influences_train[i], axis=0), sem(influences_test[i], axis=0)\n",
    "    \n",
    "    lower_train, upper_train = st.t.interval(0.90, \n",
    "                                         len(influences_train[i])-1, \n",
    "                                         loc=mean_train, \n",
    "                                         scale=stds_incre_train)\n",
    "    lower_test, upper_test = st.t.interval(0.90, \n",
    "                                             len(influences_test[i])-1, \n",
    "                                             loc=mean_test, \n",
    "                                             scale=stds_incre_test)\n",
    "    \n",
    "\n",
    "    lowers_train.append(lower_train)\n",
    "    uppers_train.append(upper_train)\n",
    "    lowers_test.append(lower_test)\n",
    "    uppers_test.append(upper_test)\n",
    "    means_train.append(mean_train)\n",
    "    means_test.append(mean_test)"
   ]
  },
  {
   "cell_type": "code",
   "execution_count": 37,
   "metadata": {},
   "outputs": [],
   "source": [
    "optimal_mae_train = utils.abs_ate(true_effect_train, mean_train)\n",
    "optimal_mae_test = utils.abs_ate(true_effect_test, mean_test)\n",
    "\n",
    "origin_mae_train = utils.abs_ate(true_effect_train, means_incre_train)\n",
    "origin_mae_test = utils.abs_ate(true_effect_test, means_incre_test)\n"
   ]
  },
  {
   "cell_type": "markdown",
   "metadata": {},
   "source": [
    "## Conclusion"
   ]
  },
  {
   "cell_type": "code",
   "execution_count": 38,
   "metadata": {},
   "outputs": [
    {
     "name": "stdout",
     "output_type": "stream",
     "text": [
      "Before Optimization\n",
      "MAE on training 0.959 and testing 1.308\n",
      "After Optimization\n",
      "MAE on training 0.054 and testing 0.360\n"
     ]
    }
   ],
   "source": [
    "print(\"Before Optimization\")\n",
    "print(\"MAE on training {:.3f} and testing {:.3f}\".format(origin_mae_train, origin_mae_test))\n",
    "print(\"After Optimization\")\n",
    "print(\"MAE on training {:.3f} and testing {:.3f}\".format(optimal_mae_train, optimal_mae_test))\n"
   ]
  },
  {
   "cell_type": "code",
   "execution_count": 43,
   "metadata": {},
   "outputs": [
    {
     "data": {
      "image/png": "[encoded data removed]",
      "text/plain": [
       "<Figure size 432x288 with 1 Axes>"
      ]
     },
     "metadata": {
      "needs_background": "light"
     },
     "output_type": "display_data"
    }
   ],
   "source": [
    "from matplotlib import pyplot as plt\n",
    "\n",
    "fig = plt.figure()\n",
    "plt.plot(delta_seq, means_train, label='Estimation effect')\n",
    "plt.axhline(y=true_effect_train, color='r', linestyle='-', label = \"True effect\")\n",
    "plt.fill_between(np.array(delta_seq).reshape(-1), lowers_train, uppers_train, label=\"90% BLB CI\", alpha=0.3)\n",
    "plt.ylabel(\"Treatment Effect\")\n",
    "plt.xlabel(\"delta\")\n",
    "plt.title(\"The changes of effects depending on delta\")\n",
    "plt.legend()\n",
    "plt.show()\n",
    "fig.savefig(cf.FIGURE_PATH + '/a_b_testing_train.png')\n"
   ]
  },
  {
   "cell_type": "code",
   "execution_count": 45,
   "metadata": {},
   "outputs": [
    {
     "data": {
      "image/png": "[encoded data removed]",
      "text/plain": [
       "<Figure size 432x288 with 1 Axes>"
      ]
     },
     "metadata": {
      "needs_background": "light"
     },
     "output_type": "display_data"
    }
   ],
   "source": [
    "figure_path = \"/home/dtd/Documents/PhD_Life/Source Code/my_work/figure\"\n",
    "plt.plot(delta_seq, means_test, label='Estimation effect')\n",
    "plt.axhline(y=true_effect_test, color='r', linestyle='-', label = \"True effect\")\n",
    "plt.fill_between(np.array(delta_seq).reshape(-1), lowers_test, uppers_test, label=\"90% BLB CI\", alpha=0.3)\n",
    "plt.ylabel(\"Treatment Effect\")\n",
    "plt.xlabel(\"delta\")\n",
    "plt.title(\"The changes of effects depending on delta\")\n",
    "plt.legend()\n",
    "plt.show()\n",
    "fig.savefig(cf.FIGURE_PATH + '/a_b_testing_test.png')\n"
   ]
  },
  {
   "cell_type": "code",
   "execution_count": null,
   "metadata": {},
   "outputs": [],
   "source": [
    "-----"
   ]
  },
  {
   "cell_type": "markdown",
   "metadata": {},
   "source": [
    "## Optimization with list of delta"
   ]
  },
  {
   "cell_type": "code",
   "execution_count": null,
   "metadata": {},
   "outputs": [],
   "source": [
    "# def incre_ps(delta, data):\n",
    "#     q1 = (delta * data['p1']) / (delta * data['p1'] + data['p0'])\n",
    "#     q1 = tf.math.abs(q1)\n",
    "#     a0 = (1-q1)*data['w0']*(data['cf0'] - data[outcome])\n",
    "#     a1 = q1*data['w1']*(data['cf1'] - data[outcome])    \n",
    "#     influence = a1 - a0\n",
    "#     return tf.reduce_mean(influence), influence\n",
    "\n",
    "# def optimization(data, true_effect):\n",
    "#     threhold = tf.constant([0.05])\n",
    "#     delta = tf.Variable(np.random.randint(low=1, high=40, size=1), \n",
    "#                         trainable = True, \n",
    "#                         dtype = tf.float32)\n",
    "#     delta_seq = []\n",
    "#     losses = []\n",
    "#     effects = []\n",
    "#     influences = []\n",
    "#     for i in tqdm(range(10000)):\n",
    "#         with tf.GradientTape() as tape:\n",
    "#             mu_influence, influence = incre_ps(delta, data)\n",
    "#             loss = tf.losses.MAE(true_effect, influence)\n",
    "#             d_delta = tape.gradient(loss, delta)\n",
    "#             opt = tf.keras.optimizers.Adam(learning_rate=0.01)\n",
    "#             opt.apply_gradients(zip([d_delta], [delta]))\n",
    "#             if tf.math.less(loss, threhold):\n",
    "#                 print(\"The performance reach MAE: 0.001. Cancelling the training at step {}\".format(i))\n",
    "#                 break\n",
    "#             delta_seq.append(delta.numpy())\n",
    "#             losses.append(loss.numpy())\n",
    "#             effects.append(mu_influence.numpy())\n",
    "#             influences.append(influence.numpy())\n",
    "#         if i % 1000 == 0:\n",
    "#             print(\"Epoch {}. Loss {:.4f}\".format(i, loss))\n",
    "#     print(\"Loss {:.3f}\".format(loss))\n",
    "#     print(\"Effects \", influence)\n",
    "#     return delta, delta_seq, losses, effects, influences\n",
    "\n",
    "def incre_ps(delta, data):\n",
    "    q1 = (delta * data['p1']) / (delta * data['p1'] + data['p0'])\n",
    "    q1 = tf.math.abs(q1)\n",
    "    a0 = (1-q1)*data['w0']*(data['cf0'] - data[outcome])\n",
    "    a1 = q1*data['w1']*(data['cf1'] - data[outcome])    \n",
    "    influence = a1 - a0\n",
    "    return tf.reduce_mean(influence), influence\n",
    "\n",
    "def optimization(train, test, true_effect):\n",
    "    threhold = tf.constant([0.05])\n",
    "    delta = tf.Variable(np.random.randint(low=1, high=40, size=1), \n",
    "                        trainable = True, \n",
    "                        dtype = tf.float32)\n",
    "    delta_seq = []\n",
    "    losses = []\n",
    "    losses_test = []\n",
    "    effects_train = []\n",
    "    effects_test = []\n",
    "    influences_train = []\n",
    "    influences_test = []\n",
    "    for i in tqdm(range(10000)):\n",
    "        with tf.GradientTape() as tape:\n",
    "            mu_influence_train, influence_train = incre_ps(delta, train)\n",
    "            mu_influence_test, influence_test = incre_ps(delta, test)\n",
    "            loss = loss = tf.losses.MAE(true_effect, influence_train)\n",
    "            loss_test = tf.math.abs(true_effect - mu_influence_test)\n",
    "            d_delta = tape.gradient(loss, delta)\n",
    "            opt = tf.keras.optimizers.Adam(learning_rate=0.01)\n",
    "            opt.apply_gradients(zip([d_delta], [delta]))\n",
    "            ## early stopping \n",
    "            if tf.math.less(loss, threhold):\n",
    "                print(\"The performance reach MAE: 0.001. Cancelling the training at step {}\".format(i))\n",
    "                break\n",
    "            delta_seq.append(delta.numpy())\n",
    "            losses.append(loss.numpy())\n",
    "            losses_test.append(loss_test.numpy())\n",
    "            effects_train.append(mu_influence_train.numpy())\n",
    "            effects_test.append(mu_influence_test.numpy())\n",
    "            influences_train.append(influence_train.numpy())\n",
    "            influences_test.append(influence_test.numpy())\n",
    "        if i % 1000 == 0:\n",
    "            print(\"Epoch {}. Loss {:.4f}\".format(i, loss))\n",
    "            print(influence_test.shape)\n",
    "    print(\"Loss {:.3f}\".format(loss))\n",
    "    return delta, delta_seq, losses, losses_test, influences_train, influences_test"
   ]
  },
  {
   "cell_type": "code",
   "execution_count": null,
   "metadata": {},
   "outputs": [],
   "source": [
    "true_effect = TE_fn(train[cov])\n",
    "delta, delta_seq, losses, losses_test, influences_train, influences_test = optimization(train, test, true_effect)"
   ]
  },
  {
   "cell_type": "code",
   "execution_count": null,
   "metadata": {},
   "outputs": [],
   "source": []
  }
 ],
 "metadata": {
  "kernelspec": {
   "display_name": "Python [conda env:phd_env] *",
   "language": "python",
   "name": "conda-env-phd_env-py"
  },
  "language_info": {
   "codemirror_mode": {
    "name": "ipython",
    "version": 3
   },
   "file_extension": ".py",
   "mimetype": "text/x-python",
   "name": "python",
   "nbconvert_exporter": "python",
   "pygments_lexer": "ipython3",
   "version": "3.7.7"
  },
  "toc": {
   "base_numbering": 1,
   "nav_menu": {},
   "number_sections": true,
   "sideBar": true,
   "skip_h1_title": false,
   "title_cell": "Table of Contents",
   "title_sidebar": "Contents",
   "toc_cell": false,
   "toc_position": {},
   "toc_section_display": true,
   "toc_window_display": true
  }
 },
 "nbformat": 4,
 "nbformat_minor": 4
}
