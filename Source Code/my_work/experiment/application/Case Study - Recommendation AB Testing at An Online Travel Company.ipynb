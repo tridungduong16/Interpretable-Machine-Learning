{
 "cells": [
  {
   "cell_type": "markdown",
   "metadata": {},
   "source": [
    "## Import library"
   ]
  },
  {
   "cell_type": "code",
   "execution_count": 1,
   "metadata": {},
   "outputs": [
    {
     "name": "stderr",
     "output_type": "stream",
     "text": [
      "/home/trduong/anaconda3/envs/phd_env/lib/python3.7/site-packages/sklearn/utils/deprecation.py:143: FutureWarning: The sklearn.ensemble.forest module is  deprecated in version 0.22 and will be removed in version 0.24. The corresponding classes / functions should instead be imported from sklearn.ensemble. Anything that cannot be imported from sklearn.ensemble is now part of the private API.\n",
      "  warnings.warn(message, FutureWarning)\n",
      "/home/trduong/anaconda3/envs/phd_env/lib/python3.7/site-packages/sklearn/utils/deprecation.py:143: FutureWarning: The sklearn.ensemble.base module is  deprecated in version 0.22 and will be removed in version 0.24. The corresponding classes / functions should instead be imported from sklearn.ensemble. Anything that cannot be imported from sklearn.ensemble is now part of the private API.\n",
      "  warnings.warn(message, FutureWarning)\n"
     ]
    }
   ],
   "source": [
    "import sys\n",
    "\n",
    "MAIN_PATH = \"/home/trduong/Data/interpretable_machine_learning/Source Code/my_work\"\n",
    "\n",
    "\n",
    "sys.path.insert(\n",
    "    1,\n",
    "    MAIN_PATH + '/lib'\n",
    ")\n",
    "\n",
    "sys.path.insert(\n",
    "    1,\n",
    "    MAIN_PATH + '/config'\n",
    ")\n",
    "\n",
    "import numpy as np\n",
    "import pandas as pd\n",
    "import logging\n",
    "import incremental_ps_score_estimator as ipse\n",
    "import math\n",
    "import timeit\n",
    "import utils\n",
    "import tensorflow as tf\n",
    "from tqdm import tqdm\n",
    "from sklearn.model_selection import KFold\n",
    "import experiment_config as cf\n",
    "\n",
    "import dowhy.datasets\n",
    "import dowhy\n",
    "from dowhy import CausalModel\n",
    "import matplotlib.pyplot as plt\n",
    "\n",
    "from econml.drlearner import ForestDRLearner, LinearDRLearner\n",
    "from econml.metalearners import SLearner, XLearner, TLearner\n",
    "from econml.ortho_forest import CausalTree, ContinuousTreatmentOrthoForest, DiscreteTreatmentOrthoForest\n",
    "from econml.dml import ForestDMLCateEstimator, LinearDMLCateEstimator, SparseLinearDMLCateEstimator\n",
    "from econml.inference import BootstrapInference\n",
    "from econml.sklearn_extensions.linear_model import WeightedLasso, WeightedLassoCV\n",
    "\n",
    "### Import sklearn\n",
    "from scipy.stats import sem\n",
    "import scipy.stats as st\n",
    "from sklearn.metrics import log_loss\n",
    "from sklearn.ensemble import RandomForestClassifier, GradientBoostingRegressor, GradientBoostingClassifier\n",
    "from sklearn.linear_model import LogisticRegression\n",
    "from sklearn import metrics\n",
    "from sklearn.neighbors import NearestNeighbors\n",
    "from sklearn.ensemble import RandomForestRegressor\n",
    "from sklearn import metrics\n",
    "from sklearn.ensemble import RandomForestClassifier\n",
    "from sklearn.metrics import explained_variance_score, mean_squared_error\n",
    "from sklearn.model_selection import train_test_split, KFold\n",
    "from sklearn.preprocessing import StandardScaler\n",
    "from sklearn.svm import SVC\n",
    "from sklearn.metrics import accuracy_score, f1_score, precision_score, recall_score, classification_report, confusion_matrix\n",
    "from sklearn.linear_model import LassoCV, ElasticNetCV\n",
    "from bartpy.sklearnmodel import SklearnModel\n",
    "\n",
    "\n",
    "from zepid.causal.doublyrobust import TMLE\n",
    "from cforest.forest import CausalForest\n"
   ]
  },
  {
   "cell_type": "markdown",
   "metadata": {},
   "source": [
    "## Load data "
   ]
  },
  {
   "cell_type": "code",
   "execution_count": 2,
   "metadata": {},
   "outputs": [],
   "source": [
    "result_dic = {\n",
    "    'ortho_train':0,\n",
    "    'ortho_test':0,\n",
    "    'linear_dr_train':0,\n",
    "    'linear_dr_test':0,\n",
    "    'forest_dr_train':0,\n",
    "    'forest_dr_test':0,\n",
    "    'incremental_train':0,\n",
    "    'incremental_test':0,\n",
    "    'causal_forest_train':0,\n",
    "    'causal_forest_test':0,\n",
    "    'tmle_train':0,\n",
    "    'tmle_test':0,\n",
    "    'knn_train':0,\n",
    "    'knn_test':0,\n",
    "    'ps_train':0,\n",
    "    'ps_test':0,\n",
    "    'lr_train':0,\n",
    "    'lr_test':0,\n",
    "    'bart_train':0,\n",
    "    'bart_test':0,\n",
    "}"
   ]
  },
  {
   "cell_type": "code",
   "execution_count": 3,
   "metadata": {},
   "outputs": [],
   "source": [
    "# Import the sample AB data\n",
    "file_url = \"https://msalicedatapublic.blob.core.windows.net/datasets/RecommendationAB/ab_sample.csv\"   \n",
    "ab_data = pd.read_csv(file_url)"
   ]
  },
  {
   "cell_type": "code",
   "execution_count": 4,
   "metadata": {},
   "outputs": [
    {
     "data": {
      "text/html": [
       "<div>\n",
       "<style scoped>\n",
       "    .dataframe tbody tr th:only-of-type {\n",
       "        vertical-align: middle;\n",
       "    }\n",
       "\n",
       "    .dataframe tbody tr th {\n",
       "        vertical-align: top;\n",
       "    }\n",
       "\n",
       "    .dataframe thead th {\n",
       "        text-align: right;\n",
       "    }\n",
       "</style>\n",
       "<table border=\"1\" class=\"dataframe\">\n",
       "  <thead>\n",
       "    <tr style=\"text-align: right;\">\n",
       "      <th></th>\n",
       "      <th>days_visited_exp_pre</th>\n",
       "      <th>days_visited_free_pre</th>\n",
       "      <th>days_visited_fs_pre</th>\n",
       "      <th>days_visited_hs_pre</th>\n",
       "      <th>days_visited_rs_pre</th>\n",
       "      <th>days_visited_vrs_pre</th>\n",
       "      <th>locale_en_US</th>\n",
       "      <th>revenue_pre</th>\n",
       "      <th>os_type_osx</th>\n",
       "      <th>os_type_windows</th>\n",
       "      <th>easier_signup</th>\n",
       "      <th>became_member</th>\n",
       "      <th>days_visited_post</th>\n",
       "    </tr>\n",
       "  </thead>\n",
       "  <tbody>\n",
       "    <tr>\n",
       "      <th>0</th>\n",
       "      <td>1</td>\n",
       "      <td>9</td>\n",
       "      <td>7</td>\n",
       "      <td>25</td>\n",
       "      <td>6</td>\n",
       "      <td>3</td>\n",
       "      <td>1</td>\n",
       "      <td>0.01</td>\n",
       "      <td>0</td>\n",
       "      <td>1</td>\n",
       "      <td>0</td>\n",
       "      <td>0</td>\n",
       "      <td>1</td>\n",
       "    </tr>\n",
       "    <tr>\n",
       "      <th>1</th>\n",
       "      <td>10</td>\n",
       "      <td>25</td>\n",
       "      <td>27</td>\n",
       "      <td>10</td>\n",
       "      <td>27</td>\n",
       "      <td>27</td>\n",
       "      <td>0</td>\n",
       "      <td>2.26</td>\n",
       "      <td>0</td>\n",
       "      <td>0</td>\n",
       "      <td>0</td>\n",
       "      <td>0</td>\n",
       "      <td>15</td>\n",
       "    </tr>\n",
       "    <tr>\n",
       "      <th>2</th>\n",
       "      <td>18</td>\n",
       "      <td>14</td>\n",
       "      <td>8</td>\n",
       "      <td>4</td>\n",
       "      <td>5</td>\n",
       "      <td>2</td>\n",
       "      <td>1</td>\n",
       "      <td>0.03</td>\n",
       "      <td>0</td>\n",
       "      <td>1</td>\n",
       "      <td>0</td>\n",
       "      <td>0</td>\n",
       "      <td>17</td>\n",
       "    </tr>\n",
       "    <tr>\n",
       "      <th>3</th>\n",
       "      <td>17</td>\n",
       "      <td>0</td>\n",
       "      <td>23</td>\n",
       "      <td>2</td>\n",
       "      <td>3</td>\n",
       "      <td>1</td>\n",
       "      <td>1</td>\n",
       "      <td>418.77</td>\n",
       "      <td>0</td>\n",
       "      <td>1</td>\n",
       "      <td>0</td>\n",
       "      <td>0</td>\n",
       "      <td>6</td>\n",
       "    </tr>\n",
       "    <tr>\n",
       "      <th>4</th>\n",
       "      <td>24</td>\n",
       "      <td>9</td>\n",
       "      <td>22</td>\n",
       "      <td>2</td>\n",
       "      <td>3</td>\n",
       "      <td>18</td>\n",
       "      <td>1</td>\n",
       "      <td>1.54</td>\n",
       "      <td>0</td>\n",
       "      <td>0</td>\n",
       "      <td>0</td>\n",
       "      <td>0</td>\n",
       "      <td>12</td>\n",
       "    </tr>\n",
       "  </tbody>\n",
       "</table>\n",
       "</div>"
      ],
      "text/plain": [
       "   days_visited_exp_pre  days_visited_free_pre  days_visited_fs_pre  \\\n",
       "0                     1                      9                    7   \n",
       "1                    10                     25                   27   \n",
       "2                    18                     14                    8   \n",
       "3                    17                      0                   23   \n",
       "4                    24                      9                   22   \n",
       "\n",
       "   days_visited_hs_pre  days_visited_rs_pre  days_visited_vrs_pre  \\\n",
       "0                   25                    6                     3   \n",
       "1                   10                   27                    27   \n",
       "2                    4                    5                     2   \n",
       "3                    2                    3                     1   \n",
       "4                    2                    3                    18   \n",
       "\n",
       "   locale_en_US  revenue_pre  os_type_osx  os_type_windows  easier_signup  \\\n",
       "0             1         0.01            0                1              0   \n",
       "1             0         2.26            0                0              0   \n",
       "2             1         0.03            0                1              0   \n",
       "3             1       418.77            0                1              0   \n",
       "4             1         1.54            0                0              0   \n",
       "\n",
       "   became_member  days_visited_post  \n",
       "0              0                  1  \n",
       "1              0                 15  \n",
       "2              0                 17  \n",
       "3              0                  6  \n",
       "4              0                 12  "
      ]
     },
     "execution_count": 4,
     "metadata": {},
     "output_type": "execute_result"
    }
   ],
   "source": [
    "ab_data.head()"
   ]
  },
  {
   "cell_type": "code",
   "execution_count": 5,
   "metadata": {},
   "outputs": [
    {
     "data": {
      "image/png": "[encoded data removed]",
      "text/latex": [
       "$\\displaystyle \\left( 100000, \\  13\\right)$"
      ],
      "text/plain": [
       "(100000, 13)"
      ]
     },
     "execution_count": 5,
     "metadata": {},
     "output_type": "execute_result"
    }
   ],
   "source": [
    "ab_data.shape"
   ]
  },
  {
   "cell_type": "code",
   "execution_count": 6,
   "metadata": {},
   "outputs": [
    {
     "data": {
      "text/plain": [
       "0    64780\n",
       "1    35220\n",
       "Name: became_member, dtype: int64"
      ]
     },
     "execution_count": 6,
     "metadata": {},
     "output_type": "execute_result"
    }
   ],
   "source": [
    "ab_data.became_member.value_counts()"
   ]
  },
  {
   "cell_type": "code",
   "execution_count": 7,
   "metadata": {},
   "outputs": [
    {
     "data": {
      "text/plain": [
       "Index(['days_visited_exp_pre', 'days_visited_free_pre', 'days_visited_fs_pre',\n",
       "       'days_visited_hs_pre', 'days_visited_rs_pre', 'days_visited_vrs_pre',\n",
       "       'locale_en_US', 'revenue_pre', 'os_type_osx', 'os_type_windows',\n",
       "       'easier_signup', 'became_member', 'days_visited_post'],\n",
       "      dtype='object')"
      ]
     },
     "execution_count": 7,
     "metadata": {},
     "output_type": "execute_result"
    }
   ],
   "source": [
    "ab_data.columns"
   ]
  },
  {
   "cell_type": "code",
   "execution_count": 8,
   "metadata": {},
   "outputs": [],
   "source": [
    "# Define estimator inputs\n",
    "Z = ab_data['easier_signup'] # nudge, or instrument\n",
    "T = ab_data['became_member'] # intervention, or treatment\n",
    "Y = ab_data['days_visited_post'] # outcome of interest\n",
    "X_data = ab_data.drop(columns=['easier_signup', 'became_member', 'days_visited_post']) # features\n",
    "\n",
    "col = ['days_visited_exp_pre', 'days_visited_free_pre', 'days_visited_fs_pre',\n",
    "       'days_visited_hs_pre', 'days_visited_rs_pre', 'days_visited_vrs_pre',\n",
    "       'locale_en_US', 'revenue_pre', 'os_type_osx', 'os_type_windows',\n",
    "       'easier_signup', 'became_member', 'days_visited_post']\n",
    "\n",
    "cov = ['days_visited_exp_pre', 'days_visited_free_pre', 'days_visited_fs_pre',\n",
    "       'days_visited_hs_pre', 'days_visited_rs_pre', 'days_visited_vrs_pre',\n",
    "       'locale_en_US', 'revenue_pre', 'os_type_osx', 'os_type_windows',\n",
    "       'easier_signup']\n",
    "\n",
    "features = ['days_visited_exp_pre', 'days_visited_free_pre', 'days_visited_fs_pre',\n",
    "       'days_visited_hs_pre', 'days_visited_rs_pre', 'days_visited_vrs_pre',\n",
    "       'locale_en_US', 'revenue_pre', 'os_type_osx', 'os_type_windows',\n",
    "            'became_member']\n",
    "\n",
    "treatment = 'became_member' # intervention, or treatment\n",
    "outcome = 'days_visited_post' # outcome of interest\n",
    "\n",
    "\n"
   ]
  },
  {
   "cell_type": "code",
   "execution_count": 9,
   "metadata": {},
   "outputs": [],
   "source": [
    "# Define underlying treatment effect function \n",
    "TE_fn = lambda X: (0.2 + 0.3 * X['days_visited_free_pre'] - 0.2 * X['days_visited_hs_pre'] + X['os_type_osx']).values\n",
    "true_TE = TE_fn(ab_data[cov])"
   ]
  },
  {
   "cell_type": "code",
   "execution_count": 10,
   "metadata": {},
   "outputs": [],
   "source": [
    "true_effect = np.mean(true_TE)"
   ]
  },
  {
   "cell_type": "code",
   "execution_count": 11,
   "metadata": {},
   "outputs": [
    {
     "data": {
      "text/html": [
       "<div>\n",
       "<style scoped>\n",
       "    .dataframe tbody tr th:only-of-type {\n",
       "        vertical-align: middle;\n",
       "    }\n",
       "\n",
       "    .dataframe tbody tr th {\n",
       "        vertical-align: top;\n",
       "    }\n",
       "\n",
       "    .dataframe thead th {\n",
       "        text-align: right;\n",
       "    }\n",
       "</style>\n",
       "<table border=\"1\" class=\"dataframe\">\n",
       "  <thead>\n",
       "    <tr style=\"text-align: right;\">\n",
       "      <th></th>\n",
       "      <th>days_visited_exp_pre</th>\n",
       "      <th>days_visited_free_pre</th>\n",
       "      <th>days_visited_fs_pre</th>\n",
       "      <th>days_visited_hs_pre</th>\n",
       "      <th>days_visited_rs_pre</th>\n",
       "      <th>days_visited_vrs_pre</th>\n",
       "      <th>locale_en_US</th>\n",
       "      <th>revenue_pre</th>\n",
       "      <th>os_type_osx</th>\n",
       "      <th>os_type_windows</th>\n",
       "      <th>became_member</th>\n",
       "    </tr>\n",
       "  </thead>\n",
       "  <tbody>\n",
       "    <tr>\n",
       "      <th>0</th>\n",
       "      <td>1</td>\n",
       "      <td>9</td>\n",
       "      <td>7</td>\n",
       "      <td>25</td>\n",
       "      <td>6</td>\n",
       "      <td>3</td>\n",
       "      <td>1</td>\n",
       "      <td>0.01</td>\n",
       "      <td>0</td>\n",
       "      <td>1</td>\n",
       "      <td>0</td>\n",
       "    </tr>\n",
       "    <tr>\n",
       "      <th>1</th>\n",
       "      <td>10</td>\n",
       "      <td>25</td>\n",
       "      <td>27</td>\n",
       "      <td>10</td>\n",
       "      <td>27</td>\n",
       "      <td>27</td>\n",
       "      <td>0</td>\n",
       "      <td>2.26</td>\n",
       "      <td>0</td>\n",
       "      <td>0</td>\n",
       "      <td>0</td>\n",
       "    </tr>\n",
       "    <tr>\n",
       "      <th>2</th>\n",
       "      <td>18</td>\n",
       "      <td>14</td>\n",
       "      <td>8</td>\n",
       "      <td>4</td>\n",
       "      <td>5</td>\n",
       "      <td>2</td>\n",
       "      <td>1</td>\n",
       "      <td>0.03</td>\n",
       "      <td>0</td>\n",
       "      <td>1</td>\n",
       "      <td>0</td>\n",
       "    </tr>\n",
       "    <tr>\n",
       "      <th>3</th>\n",
       "      <td>17</td>\n",
       "      <td>0</td>\n",
       "      <td>23</td>\n",
       "      <td>2</td>\n",
       "      <td>3</td>\n",
       "      <td>1</td>\n",
       "      <td>1</td>\n",
       "      <td>418.77</td>\n",
       "      <td>0</td>\n",
       "      <td>1</td>\n",
       "      <td>0</td>\n",
       "    </tr>\n",
       "    <tr>\n",
       "      <th>4</th>\n",
       "      <td>24</td>\n",
       "      <td>9</td>\n",
       "      <td>22</td>\n",
       "      <td>2</td>\n",
       "      <td>3</td>\n",
       "      <td>18</td>\n",
       "      <td>1</td>\n",
       "      <td>1.54</td>\n",
       "      <td>0</td>\n",
       "      <td>0</td>\n",
       "      <td>0</td>\n",
       "    </tr>\n",
       "    <tr>\n",
       "      <th>...</th>\n",
       "      <td>...</td>\n",
       "      <td>...</td>\n",
       "      <td>...</td>\n",
       "      <td>...</td>\n",
       "      <td>...</td>\n",
       "      <td>...</td>\n",
       "      <td>...</td>\n",
       "      <td>...</td>\n",
       "      <td>...</td>\n",
       "      <td>...</td>\n",
       "      <td>...</td>\n",
       "    </tr>\n",
       "    <tr>\n",
       "      <th>99995</th>\n",
       "      <td>27</td>\n",
       "      <td>27</td>\n",
       "      <td>8</td>\n",
       "      <td>4</td>\n",
       "      <td>25</td>\n",
       "      <td>20</td>\n",
       "      <td>1</td>\n",
       "      <td>0.02</td>\n",
       "      <td>1</td>\n",
       "      <td>0</td>\n",
       "      <td>1</td>\n",
       "    </tr>\n",
       "    <tr>\n",
       "      <th>99996</th>\n",
       "      <td>22</td>\n",
       "      <td>21</td>\n",
       "      <td>15</td>\n",
       "      <td>27</td>\n",
       "      <td>24</td>\n",
       "      <td>18</td>\n",
       "      <td>0</td>\n",
       "      <td>6.98</td>\n",
       "      <td>1</td>\n",
       "      <td>0</td>\n",
       "      <td>1</td>\n",
       "    </tr>\n",
       "    <tr>\n",
       "      <th>99997</th>\n",
       "      <td>13</td>\n",
       "      <td>5</td>\n",
       "      <td>5</td>\n",
       "      <td>25</td>\n",
       "      <td>28</td>\n",
       "      <td>24</td>\n",
       "      <td>1</td>\n",
       "      <td>0.01</td>\n",
       "      <td>0</td>\n",
       "      <td>1</td>\n",
       "      <td>0</td>\n",
       "    </tr>\n",
       "    <tr>\n",
       "      <th>99998</th>\n",
       "      <td>21</td>\n",
       "      <td>13</td>\n",
       "      <td>5</td>\n",
       "      <td>24</td>\n",
       "      <td>14</td>\n",
       "      <td>2</td>\n",
       "      <td>0</td>\n",
       "      <td>0.07</td>\n",
       "      <td>0</td>\n",
       "      <td>0</td>\n",
       "      <td>1</td>\n",
       "    </tr>\n",
       "    <tr>\n",
       "      <th>99999</th>\n",
       "      <td>9</td>\n",
       "      <td>25</td>\n",
       "      <td>10</td>\n",
       "      <td>10</td>\n",
       "      <td>27</td>\n",
       "      <td>3</td>\n",
       "      <td>0</td>\n",
       "      <td>1.49</td>\n",
       "      <td>0</td>\n",
       "      <td>0</td>\n",
       "      <td>0</td>\n",
       "    </tr>\n",
       "  </tbody>\n",
       "</table>\n",
       "<p>100000 rows × 11 columns</p>\n",
       "</div>"
      ],
      "text/plain": [
       "       days_visited_exp_pre  days_visited_free_pre  days_visited_fs_pre  \\\n",
       "0                         1                      9                    7   \n",
       "1                        10                     25                   27   \n",
       "2                        18                     14                    8   \n",
       "3                        17                      0                   23   \n",
       "4                        24                      9                   22   \n",
       "...                     ...                    ...                  ...   \n",
       "99995                    27                     27                    8   \n",
       "99996                    22                     21                   15   \n",
       "99997                    13                      5                    5   \n",
       "99998                    21                     13                    5   \n",
       "99999                     9                     25                   10   \n",
       "\n",
       "       days_visited_hs_pre  days_visited_rs_pre  days_visited_vrs_pre  \\\n",
       "0                       25                    6                     3   \n",
       "1                       10                   27                    27   \n",
       "2                        4                    5                     2   \n",
       "3                        2                    3                     1   \n",
       "4                        2                    3                    18   \n",
       "...                    ...                  ...                   ...   \n",
       "99995                    4                   25                    20   \n",
       "99996                   27                   24                    18   \n",
       "99997                   25                   28                    24   \n",
       "99998                   24                   14                     2   \n",
       "99999                   10                   27                     3   \n",
       "\n",
       "       locale_en_US  revenue_pre  os_type_osx  os_type_windows  became_member  \n",
       "0                 1         0.01            0                1              0  \n",
       "1                 0         2.26            0                0              0  \n",
       "2                 1         0.03            0                1              0  \n",
       "3                 1       418.77            0                1              0  \n",
       "4                 1         1.54            0                0              0  \n",
       "...             ...          ...          ...              ...            ...  \n",
       "99995             1         0.02            1                0              1  \n",
       "99996             0         6.98            1                0              1  \n",
       "99997             1         0.01            0                1              0  \n",
       "99998             0         0.07            0                0              1  \n",
       "99999             0         1.49            0                0              0  \n",
       "\n",
       "[100000 rows x 11 columns]"
      ]
     },
     "execution_count": 11,
     "metadata": {},
     "output_type": "execute_result"
    }
   ],
   "source": [
    "ab_data[features]"
   ]
  },
  {
   "cell_type": "code",
   "execution_count": 12,
   "metadata": {},
   "outputs": [
    {
     "data": {
      "text/plain": [
       "0    64780\n",
       "1    35220\n",
       "Name: became_member, dtype: int64"
      ]
     },
     "execution_count": 12,
     "metadata": {},
     "output_type": "execute_result"
    }
   ],
   "source": [
    "ab_data.became_member.value_counts()"
   ]
  },
  {
   "cell_type": "code",
   "execution_count": 13,
   "metadata": {},
   "outputs": [
    {
     "data": {
      "text/plain": [
       "['days_visited_exp_pre',\n",
       " 'days_visited_free_pre',\n",
       " 'days_visited_fs_pre',\n",
       " 'days_visited_hs_pre',\n",
       " 'days_visited_rs_pre',\n",
       " 'days_visited_vrs_pre',\n",
       " 'locale_en_US',\n",
       " 'revenue_pre',\n",
       " 'os_type_osx',\n",
       " 'os_type_windows',\n",
       " 'became_member']"
      ]
     },
     "execution_count": 13,
     "metadata": {},
     "output_type": "execute_result"
    }
   ],
   "source": [
    "features"
   ]
  },
  {
   "cell_type": "code",
   "execution_count": 14,
   "metadata": {},
   "outputs": [
    {
     "name": "stderr",
     "output_type": "stream",
     "text": [
      "/home/trduong/anaconda3/envs/phd_env/lib/python3.7/site-packages/sklearn/linear_model/_logistic.py:764: ConvergenceWarning: lbfgs failed to converge (status=1):\n",
      "STOP: TOTAL NO. of ITERATIONS REACHED LIMIT.\n",
      "\n",
      "Increase the number of iterations (max_iter) or scale the data as shown in:\n",
      "    https://scikit-learn.org/stable/modules/preprocessing.html\n",
      "Please also refer to the documentation for alternative solver options:\n",
      "    https://scikit-learn.org/stable/modules/linear_model.html#logistic-regression\n",
      "  extra_warning_msg=_LOGISTIC_SOLVER_CONVERGENCE_MSG)\n"
     ]
    },
    {
     "name": "stdout",
     "output_type": "stream",
     "text": [
      "Accuracy score of train data 0.8393285714285714\n"
     ]
    },
    {
     "data": {
      "text/plain": [
       "GradientBoostingRegressor(n_estimators=1000, random_state=0)"
      ]
     },
     "execution_count": 14,
     "metadata": {},
     "output_type": "execute_result"
    }
   ],
   "source": [
    "train, test = train_test_split(ab_data, test_size=0.3, random_state = 1)\n",
    "train = train.reset_index(drop = True)\n",
    "test = test.reset_index(drop = True)\n",
    "\n",
    "## Fit treatment\n",
    "model_t = LogisticRegression()\n",
    "model_t.fit(train[cov], train[treatment])\n",
    "\n",
    "train['p1'] = model_t.predict_proba(train[cov])[:,1]\n",
    "train['p0'] = 1 - train['p1']\n",
    "\n",
    "train[\"prediction\"] = np.where(train[\"p1\"] >= 0.5, 1, 0)\n",
    "acc = accuracy_score(train[\"prediction\"], train[treatment])\n",
    "print(\"Accuracy score of train data {}\".format(acc))\n",
    "\n",
    "## Fit outcome\n",
    "model_y = GradientBoostingRegressor(random_state=0, n_estimators = 1000)\n",
    "model_y.fit(train[features], train[outcome])\n"
   ]
  },
  {
   "cell_type": "code",
   "execution_count": 15,
   "metadata": {},
   "outputs": [
    {
     "name": "stdout",
     "output_type": "stream",
     "text": [
      "Training\n",
      "Estimation effect 2.89\n",
      "True effect 1.94\n",
      "Testing\n",
      "Estimation effect 3.25\n",
      "True effect 1.94\n"
     ]
    }
   ],
   "source": [
    "delta = 3\n",
    "influence_train = ipse.influence_function(train, treatment, cov, outcome, features, delta, model_y, model_t)\n",
    "influence_test = ipse.influence_function(test, treatment, cov, outcome, features, delta, model_y, model_t)\n",
    "means_incre_train, stds_incre_train = np.mean(influence_train, axis=0), sem(influence_train, axis=0)\n",
    "means_incre_test, stds_incre_test = np.mean(influence_test, axis=0), sem(influence_test, axis=0)\n",
    "\n",
    "true_effect_test = np.mean(TE_fn(test[cov]))\n",
    "true_effect_train = np.mean(TE_fn(train[cov]))\n",
    "\n",
    "print(\"Training\")\n",
    "print(\"Estimation effect {:.2f}\".format(means_incre_train))\n",
    "print(\"True effect {:.2f}\".format(true_effect_train))\n",
    "\n",
    "print(\"Testing\")\n",
    "print(\"Estimation effect {:.2f}\".format(means_incre_test))\n",
    "print(\"True effect {:.2f}\".format(true_effect_test))\n"
   ]
  },
  {
   "cell_type": "markdown",
   "metadata": {},
   "source": [
    "## Optimzation with individual delta and true_effect"
   ]
  },
  {
   "cell_type": "code",
   "execution_count": 16,
   "metadata": {},
   "outputs": [],
   "source": [
    "def incre_ps(delta, data):\n",
    "    q1 = (delta * data['p1']) / (delta * data['p1'] + data['p0'])\n",
    "    q1 = tf.math.abs(q1)\n",
    "    a0 = (1-q1)*data['w0']*(data['cf0'] - data[outcome])\n",
    "    a1 = q1*data['w1']*(data['cf1'] - data[outcome])    \n",
    "    influence = a1 - a0\n",
    "    return tf.reduce_mean(influence), influence\n",
    "\n",
    "def optimization(train, test, true_effect):\n",
    "    threhold = tf.constant([0.01])\n",
    "    delta = tf.Variable(20, dtype = tf.float32)\n",
    "    \n",
    "    delta_seq = []\n",
    "    losses = []\n",
    "    losses_test = []\n",
    "    effects_train = []\n",
    "    effects_test = []\n",
    "    influences_train = []\n",
    "    influences_test = []\n",
    "    for i in tqdm(range(3000)):\n",
    "        with tf.GradientTape() as tape:\n",
    "            mu_influence_train, influence_train = incre_ps(delta, train)\n",
    "            mu_influence_test, influence_test = incre_ps(delta, test)\n",
    "            loss = tf.math.abs(true_effect - mu_influence_train)\n",
    "            loss_test = tf.math.abs(true_effect - mu_influence_test)\n",
    "            d_delta = tape.gradient(loss, delta)\n",
    "            opt = tf.keras.optimizers.Adam(learning_rate=0.01)\n",
    "            opt.apply_gradients(zip([d_delta], [delta]))\n",
    "            ## early stopping \n",
    "            if tf.math.less(loss, threhold):\n",
    "                print(\"The performance reach MAE: 0.001. Cancelling the training at step {}\".format(i))\n",
    "                break\n",
    "            delta_seq.append(delta.numpy())\n",
    "            losses.append(loss.numpy())\n",
    "            losses_test.append(loss_test.numpy())\n",
    "            effects_train.append(mu_influence_train.numpy())\n",
    "            effects_test.append(mu_influence_test.numpy())\n",
    "            influences_train.append(influence_train.numpy())\n",
    "            influences_test.append(influence_test.numpy())\n",
    "        if i % 1000 == 0:\n",
    "            print(\"Epoch {}. Loss {:.4f}\".format(i, loss))\n",
    "            print(influence_test.shape)\n",
    "    print(\"Loss {:.3f}\".format(loss))\n",
    "    return delta, delta_seq, losses, losses_test, influences_train, influences_test"
   ]
  },
  {
   "cell_type": "code",
   "execution_count": 17,
   "metadata": {},
   "outputs": [
    {
     "name": "stderr",
     "output_type": "stream",
     "text": [
      "  0%|          | 8/3000 [00:00<00:38, 77.00it/s]"
     ]
    },
    {
     "name": "stdout",
     "output_type": "stream",
     "text": [
      "Epoch 0. Loss 1.3595\n",
      "(30000,)\n"
     ]
    },
    {
     "name": "stderr",
     "output_type": "stream",
     "text": [
      " 34%|███▍      | 1013/3000 [00:12<00:24, 81.08it/s]"
     ]
    },
    {
     "name": "stdout",
     "output_type": "stream",
     "text": [
      "Epoch 1000. Loss 1.1810\n",
      "(30000,)\n"
     ]
    },
    {
     "name": "stderr",
     "output_type": "stream",
     "text": [
      " 67%|██████▋   | 2016/3000 [00:24<00:13, 75.14it/s]"
     ]
    },
    {
     "name": "stdout",
     "output_type": "stream",
     "text": [
      "Epoch 2000. Loss 0.0180\n",
      "(30000,)\n"
     ]
    },
    {
     "name": "stderr",
     "output_type": "stream",
     "text": [
      "100%|██████████| 3000/3000 [00:50<00:00, 58.99it/s]"
     ]
    },
    {
     "name": "stdout",
     "output_type": "stream",
     "text": [
      "Loss 0.052\n"
     ]
    },
    {
     "name": "stderr",
     "output_type": "stream",
     "text": [
      "\n"
     ]
    }
   ],
   "source": [
    "delta, delta_seq, losses, losses_test, influences_train, influences_test = optimization(train, test, true_effect)"
   ]
  },
  {
   "cell_type": "code",
   "execution_count": 18,
   "metadata": {},
   "outputs": [
    {
     "data": {
      "text/plain": [
       "0.002569844"
      ]
     },
     "execution_count": 18,
     "metadata": {},
     "output_type": "execute_result"
    }
   ],
   "source": [
    "delta_seq[-1]"
   ]
  },
  {
   "cell_type": "code",
   "execution_count": 19,
   "metadata": {},
   "outputs": [
    {
     "name": "stderr",
     "output_type": "stream",
     "text": [
      "100%|██████████| 3000/3000 [00:09<00:00, 319.81it/s]\n"
     ]
    }
   ],
   "source": [
    "lowers_train, uppers_train = [], []\n",
    "lowers_test, uppers_test = [], []\n",
    "means_train, means_test = [], []\n",
    "\n",
    "for i in tqdm(range(len(delta_seq))):\n",
    "\n",
    "    mean_train, mean_test = np.mean(influences_train[i]), np.mean(influences_test[i])\n",
    "    stds_incre_train, stds_incre_test = sem(influences_train[i], axis=0), sem(influences_test[i], axis=0)\n",
    "    \n",
    "    lower_train, upper_train = st.t.interval(0.90, \n",
    "                                         len(influences_train[i])-1, \n",
    "                                         loc=mean_train, \n",
    "                                         scale=stds_incre_train)\n",
    "    lower_test, upper_test = st.t.interval(0.90, \n",
    "                                             len(influences_test[i])-1, \n",
    "                                             loc=mean_test, \n",
    "                                             scale=stds_incre_test)\n",
    "    \n",
    "\n",
    "    lowers_train.append(lower_train)\n",
    "    uppers_train.append(upper_train)\n",
    "    lowers_test.append(lower_test)\n",
    "    uppers_test.append(upper_test)\n",
    "    means_train.append(mean_train)\n",
    "    means_test.append(mean_test)"
   ]
  },
  {
   "cell_type": "code",
   "execution_count": 20,
   "metadata": {},
   "outputs": [],
   "source": [
    "optimal_mae_train = utils.abs_ate(true_effect_train, mean_train)\n",
    "optimal_mae_test = utils.abs_ate(true_effect_test, mean_test)\n",
    "\n",
    "origin_mae_train = utils.abs_ate(true_effect_train, means_incre_train)\n",
    "origin_mae_test = utils.abs_ate(true_effect_test, means_incre_test)\n"
   ]
  },
  {
   "cell_type": "code",
   "execution_count": 21,
   "metadata": {},
   "outputs": [],
   "source": [
    "result_dic['incremental_train'] = optimal_mae_train\n",
    "result_dic['incremental_test'] = optimal_mae_test"
   ]
  },
  {
   "cell_type": "markdown",
   "metadata": {},
   "source": [
    "## Conclusion"
   ]
  },
  {
   "cell_type": "code",
   "execution_count": 22,
   "metadata": {},
   "outputs": [
    {
     "name": "stdout",
     "output_type": "stream",
     "text": [
      "Before Optimization\n",
      "MAE on training 0.959 and testing 1.308\n",
      "After Optimization\n",
      "MAE on training 0.054 and testing 0.360\n"
     ]
    }
   ],
   "source": [
    "print(\"Before Optimization\")\n",
    "print(\"MAE on training {:.3f} and testing {:.3f}\".format(origin_mae_train, origin_mae_test))\n",
    "print(\"After Optimization\")\n",
    "print(\"MAE on training {:.3f} and testing {:.3f}\".format(optimal_mae_train, optimal_mae_test))\n"
   ]
  },
  {
   "cell_type": "code",
   "execution_count": 23,
   "metadata": {},
   "outputs": [
    {
     "data": {
      "image/png": "[encoded data removed]",
      "text/plain": [
       "<Figure size 432x288 with 1 Axes>"
      ]
     },
     "metadata": {
      "needs_background": "light"
     },
     "output_type": "display_data"
    }
   ],
   "source": [
    "from matplotlib import pyplot as plt\n",
    "\n",
    "fig = plt.figure()\n",
    "plt.plot(delta_seq, means_train, label='Estimation effect')\n",
    "plt.axhline(y=true_effect_train, color='r', linestyle='-', label = \"True effect\")\n",
    "plt.fill_between(np.array(delta_seq).reshape(-1), lowers_train, uppers_train, label=\"90% BLB CI\", alpha=0.3)\n",
    "plt.ylabel(\"Treatment Effect\")\n",
    "plt.xlabel(\"delta\")\n",
    "plt.title(\"The changes of effects depending on delta\")\n",
    "plt.legend()\n",
    "plt.show()\n",
    "fig.savefig(cf.FIGURE_PATH + '/a_b_testing_train.png')\n"
   ]
  },
  {
   "cell_type": "code",
   "execution_count": 24,
   "metadata": {},
   "outputs": [
    {
     "data": {
      "image/png": "[encoded data removed]",
      "text/plain": [
       "<Figure size 432x288 with 1 Axes>"
      ]
     },
     "metadata": {
      "needs_background": "light"
     },
     "output_type": "display_data"
    }
   ],
   "source": [
    "fig = plt.figure()\n",
    "plt.plot(delta_seq, means_test, label='Estimation effect')\n",
    "plt.axhline(y=true_effect_test, color='r', linestyle='-', label = \"True effect\")\n",
    "plt.fill_between(np.array(delta_seq).reshape(-1), lowers_test, uppers_test, label=\"90% BLB CI\", alpha=0.3)\n",
    "plt.ylabel(\"Treatment Effect\")\n",
    "plt.xlabel(\"delta\")\n",
    "plt.title(\"The changes of effects depending on delta\")\n",
    "plt.legend()\n",
    "plt.show()\n",
    "fig.savefig(cf.FIGURE_PATH + '/a_b_testing_test.png')\n"
   ]
  },
  {
   "cell_type": "markdown",
   "metadata": {},
   "source": [
    "## Compare with other methods"
   ]
  },
  {
   "cell_type": "markdown",
   "metadata": {},
   "source": [
    "### BART"
   ]
  },
  {
   "cell_type": "code",
   "execution_count": 25,
   "metadata": {},
   "outputs": [],
   "source": [
    "def causal_bart(data, bart_model):\n",
    "    data_pos = data.copy()\n",
    "    data_pos[treatment] = 1\n",
    "    data['treated_cf_outcome'] = bart_model.predict(data_pos[features])\n",
    "\n",
    "    ## Compute counterfactual outcome with treatment\n",
    "    data_neg = data.copy()\n",
    "    data_neg[treatment] = 0\n",
    "    data['control_cf_outcome'] = bart_model.predict(data_neg[features])\n",
    "    \n",
    "    return np.mean(data['treated_cf_outcome'] - data['control_cf_outcome'])"
   ]
  },
  {
   "cell_type": "code",
   "execution_count": 26,
   "metadata": {},
   "outputs": [
    {
     "data": {
      "text/plain": [
       "(array([ 8, 16, 14, ..., -1,  8, 19]),\n",
       " array([[11., 14.,  5., ...,  0.,  1.,  1.],\n",
       "        [23., 21.,  5., ...,  0.,  1.,  0.],\n",
       "        [13., 16.,  7., ...,  0.,  0.,  1.],\n",
       "        ...,\n",
       "        [ 7., 13., 21., ...,  1.,  0.,  0.],\n",
       "        [22., 21.,  2., ...,  1.,  0.,  0.],\n",
       "        [18., 27., 26., ...,  0.,  0.,  1.]]))"
      ]
     },
     "execution_count": 26,
     "metadata": {},
     "output_type": "execute_result"
    }
   ],
   "source": [
    "train, test = train_test_split(ab_data, test_size=0.3, random_state = 1)\n",
    "train = train.reset_index(drop = True)\n",
    "test = test.reset_index(drop = True)\n"
   ]
  },
  {
   "cell_type": "code",
   "execution_count": 31,
   "metadata": {},
   "outputs": [
    {
     "ename": "NotImplementedError",
     "evalue": "memoryview: format O not supported",
     "output_type": "error",
     "traceback": [
      "\u001b[0;31m---------------------------------------------------------------------------\u001b[0m",
      "\u001b[0;31m_RemoteTraceback\u001b[0m                          Traceback (most recent call last)",
      "\u001b[0;31m_RemoteTraceback\u001b[0m: \n\"\"\"\nTraceback (most recent call last):\n  File \"/home/trduong/anaconda3/envs/phd_env/lib/python3.7/site-packages/joblib/externals/loky/process_executor.py\", line 431, in _process_worker\n    r = call_item()\n  File \"/home/trduong/anaconda3/envs/phd_env/lib/python3.7/site-packages/joblib/externals/loky/process_executor.py\", line 285, in __call__\n    return self.fn(*self.args, **self.kwargs)\n  File \"/home/trduong/anaconda3/envs/phd_env/lib/python3.7/site-packages/joblib/_parallel_backends.py\", line 595, in __call__\n    return self.func(*args, **kwargs)\n  File \"/home/trduong/anaconda3/envs/phd_env/lib/python3.7/site-packages/joblib/parallel.py\", line 253, in __call__\n    for func, args, kwargs in self.items]\n  File \"/home/trduong/anaconda3/envs/phd_env/lib/python3.7/site-packages/joblib/parallel.py\", line 253, in <listcomp>\n    for func, args, kwargs in self.items]\n  File \"/home/trduong/anaconda3/envs/phd_env/lib/python3.7/site-packages/bartpy/sklearnmodel.py\", line 33, in run_chain\n    model.store_acceptance_trace)\n  File \"/home/trduong/anaconda3/envs/phd_env/lib/python3.7/site-packages/bartpy/samplers/modelsampler.py\", line 43, in samples\n    self.step(model, trace_logger)\n  File \"/home/trduong/anaconda3/envs/phd_env/lib/python3.7/site-packages/bartpy/samplers/modelsampler.py\", line 26, in step\n    result = step()\n  File \"/home/trduong/anaconda3/envs/phd_env/lib/python3.7/site-packages/bartpy/samplers/schedule.py\", line 51, in <lambda>\n    yield \"Tree\", lambda: self.tree_sampler.step(model, tree)\n  File \"/home/trduong/anaconda3/envs/phd_env/lib/python3.7/site-packages/bartpy/samplers/unconstrainedtree/treemutation.py\", line 47, in step\n    mutation = self.sample(model, tree)\n  File \"/home/trduong/anaconda3/envs/phd_env/lib/python3.7/site-packages/bartpy/samplers/unconstrainedtree/treemutation.py\", line 39, in sample\n    proposal = self.proposer.propose(tree)\n  File \"/home/trduong/anaconda3/envs/phd_env/lib/python3.7/site-packages/bartpy/samplers/unconstrainedtree/proposer.py\", line 46, in propose\n    return method(tree)\n  File \"/home/trduong/anaconda3/envs/phd_env/lib/python3.7/site-packages/bartpy/samplers/unconstrainedtree/proposer.py\", line 16, in uniformly_sample_grow_mutation\n    node = random_splittable_leaf_node(tree)\n  File \"/home/trduong/anaconda3/envs/phd_env/lib/python3.7/site-packages/bartpy/samplers/unconstrainedtree/proposer.py\", line 58, in random_splittable_leaf_node\n    splittable_nodes = tree.splittable_leaf_nodes\n  File \"/home/trduong/anaconda3/envs/phd_env/lib/python3.7/site-packages/bartpy/tree.py\", line 49, in splittable_leaf_nodes\n    return [x for x in self.leaf_nodes if x.is_splittable()]\n  File \"/home/trduong/anaconda3/envs/phd_env/lib/python3.7/site-packages/bartpy/tree.py\", line 49, in <listcomp>\n    return [x for x in self.leaf_nodes if x.is_splittable()]\n  File \"/home/trduong/anaconda3/envs/phd_env/lib/python3.7/site-packages/bartpy/node.py\", line 66, in is_splittable\n    return self.data.X.is_at_least_one_splittable_variable()\n  File \"/home/trduong/anaconda3/envs/phd_env/lib/python3.7/site-packages/bartpy/data.py\", line 129, in is_at_least_one_splittable_variable\n    return len(self.splittable_variables()) > 0\n  File \"/home/trduong/anaconda3/envs/phd_env/lib/python3.7/site-packages/bartpy/data.py\", line 117, in splittable_variables\n    self._splittable_variables[i] = is_not_constant(self.get_column(i))\n  File \"/home/trduong/anaconda3/envs/phd_env/lib/python3.7/site-packages/bartpy/data.py\", line 31, in is_not_constant\n    first_value = series.data[i]\nNotImplementedError: memoryview: format O not supported\n\"\"\"",
      "\nThe above exception was the direct cause of the following exception:\n",
      "\u001b[0;31mNotImplementedError\u001b[0m                       Traceback (most recent call last)",
      "\u001b[0;32m<ipython-input-31-55c7928aa365>\u001b[0m in \u001b[0;36m<module>\u001b[0;34m\u001b[0m\n\u001b[1;32m      1\u001b[0m \u001b[0mbart_model\u001b[0m \u001b[0;34m=\u001b[0m \u001b[0mSklearnModel\u001b[0m\u001b[0;34m(\u001b[0m\u001b[0mn_trees\u001b[0m \u001b[0;34m=\u001b[0m \u001b[0;36m2\u001b[0m\u001b[0;34m)\u001b[0m \u001b[0;31m# Use default parameters\u001b[0m\u001b[0;34m\u001b[0m\u001b[0;34m\u001b[0m\u001b[0m\n\u001b[0;32m----> 2\u001b[0;31m \u001b[0mbart_model\u001b[0m\u001b[0;34m.\u001b[0m\u001b[0mfit\u001b[0m\u001b[0;34m(\u001b[0m\u001b[0mtrain\u001b[0m\u001b[0;34m[\u001b[0m\u001b[0mfeatures\u001b[0m\u001b[0;34m]\u001b[0m\u001b[0;34m.\u001b[0m\u001b[0mvalues\u001b[0m\u001b[0;34m,\u001b[0m \u001b[0mtrain\u001b[0m\u001b[0;34m[\u001b[0m\u001b[0moutcome\u001b[0m\u001b[0;34m]\u001b[0m\u001b[0;34m.\u001b[0m\u001b[0mvalues\u001b[0m\u001b[0;34m)\u001b[0m\u001b[0;34m\u001b[0m\u001b[0;34m\u001b[0m\u001b[0m\n\u001b[0m\u001b[1;32m      3\u001b[0m \u001b[0;34m\u001b[0m\u001b[0m\n\u001b[1;32m      4\u001b[0m \u001b[0meffects_train\u001b[0m \u001b[0;34m=\u001b[0m \u001b[0mcausal_bart\u001b[0m\u001b[0;34m(\u001b[0m\u001b[0mtrain\u001b[0m\u001b[0;34m,\u001b[0m \u001b[0mbart_model\u001b[0m\u001b[0;34m)\u001b[0m\u001b[0;34m\u001b[0m\u001b[0;34m\u001b[0m\u001b[0m\n\u001b[1;32m      5\u001b[0m \u001b[0meffects_test\u001b[0m \u001b[0;34m=\u001b[0m \u001b[0mcausal_bart\u001b[0m\u001b[0;34m(\u001b[0m\u001b[0mtest\u001b[0m\u001b[0;34m,\u001b[0m \u001b[0mbart_model\u001b[0m\u001b[0;34m)\u001b[0m\u001b[0;34m\u001b[0m\u001b[0;34m\u001b[0m\u001b[0m\n",
      "\u001b[0;32m~/anaconda3/envs/phd_env/lib/python3.7/site-packages/bartpy/sklearnmodel.py\u001b[0m in \u001b[0;36mfit\u001b[0;34m(self, X, y)\u001b[0m\n\u001b[1;32m    139\u001b[0m         \"\"\"\n\u001b[1;32m    140\u001b[0m         \u001b[0mself\u001b[0m\u001b[0;34m.\u001b[0m\u001b[0mmodel\u001b[0m \u001b[0;34m=\u001b[0m \u001b[0mself\u001b[0m\u001b[0;34m.\u001b[0m\u001b[0m_construct_model\u001b[0m\u001b[0;34m(\u001b[0m\u001b[0mX\u001b[0m\u001b[0;34m,\u001b[0m \u001b[0my\u001b[0m\u001b[0;34m)\u001b[0m\u001b[0;34m\u001b[0m\u001b[0;34m\u001b[0m\u001b[0m\n\u001b[0;32m--> 141\u001b[0;31m         \u001b[0mself\u001b[0m\u001b[0;34m.\u001b[0m\u001b[0mextract\u001b[0m \u001b[0;34m=\u001b[0m \u001b[0mParallel\u001b[0m\u001b[0;34m(\u001b[0m\u001b[0mn_jobs\u001b[0m\u001b[0;34m=\u001b[0m\u001b[0mself\u001b[0m\u001b[0;34m.\u001b[0m\u001b[0mn_jobs\u001b[0m\u001b[0;34m)\u001b[0m\u001b[0;34m(\u001b[0m\u001b[0mself\u001b[0m\u001b[0;34m.\u001b[0m\u001b[0mf_delayed_chains\u001b[0m\u001b[0;34m(\u001b[0m\u001b[0mX\u001b[0m\u001b[0;34m,\u001b[0m \u001b[0my\u001b[0m\u001b[0;34m)\u001b[0m\u001b[0;34m)\u001b[0m\u001b[0;34m\u001b[0m\u001b[0;34m\u001b[0m\u001b[0m\n\u001b[0m\u001b[1;32m    142\u001b[0m         \u001b[0mself\u001b[0m\u001b[0;34m.\u001b[0m\u001b[0mcombined_chains\u001b[0m \u001b[0;34m=\u001b[0m \u001b[0mself\u001b[0m\u001b[0;34m.\u001b[0m\u001b[0m_combine_chains\u001b[0m\u001b[0;34m(\u001b[0m\u001b[0mself\u001b[0m\u001b[0;34m.\u001b[0m\u001b[0mextract\u001b[0m\u001b[0;34m)\u001b[0m\u001b[0;34m\u001b[0m\u001b[0;34m\u001b[0m\u001b[0m\n\u001b[1;32m    143\u001b[0m         \u001b[0mself\u001b[0m\u001b[0;34m.\u001b[0m\u001b[0m_model_samples\u001b[0m\u001b[0;34m,\u001b[0m \u001b[0mself\u001b[0m\u001b[0;34m.\u001b[0m\u001b[0m_prediction_samples\u001b[0m \u001b[0;34m=\u001b[0m \u001b[0mself\u001b[0m\u001b[0;34m.\u001b[0m\u001b[0mcombined_chains\u001b[0m\u001b[0;34m[\u001b[0m\u001b[0;34m\"model\"\u001b[0m\u001b[0;34m]\u001b[0m\u001b[0;34m,\u001b[0m \u001b[0mself\u001b[0m\u001b[0;34m.\u001b[0m\u001b[0mcombined_chains\u001b[0m\u001b[0;34m[\u001b[0m\u001b[0;34m\"in_sample_predictions\"\u001b[0m\u001b[0;34m]\u001b[0m\u001b[0;34m\u001b[0m\u001b[0;34m\u001b[0m\u001b[0m\n",
      "\u001b[0;32m~/anaconda3/envs/phd_env/lib/python3.7/site-packages/joblib/parallel.py\u001b[0m in \u001b[0;36m__call__\u001b[0;34m(self, iterable)\u001b[0m\n\u001b[1;32m   1040\u001b[0m \u001b[0;34m\u001b[0m\u001b[0m\n\u001b[1;32m   1041\u001b[0m             \u001b[0;32mwith\u001b[0m \u001b[0mself\u001b[0m\u001b[0;34m.\u001b[0m\u001b[0m_backend\u001b[0m\u001b[0;34m.\u001b[0m\u001b[0mretrieval_context\u001b[0m\u001b[0;34m(\u001b[0m\u001b[0;34m)\u001b[0m\u001b[0;34m:\u001b[0m\u001b[0;34m\u001b[0m\u001b[0;34m\u001b[0m\u001b[0m\n\u001b[0;32m-> 1042\u001b[0;31m                 \u001b[0mself\u001b[0m\u001b[0;34m.\u001b[0m\u001b[0mretrieve\u001b[0m\u001b[0;34m(\u001b[0m\u001b[0;34m)\u001b[0m\u001b[0;34m\u001b[0m\u001b[0;34m\u001b[0m\u001b[0m\n\u001b[0m\u001b[1;32m   1043\u001b[0m             \u001b[0;31m# Make sure that we get a last message telling us we are done\u001b[0m\u001b[0;34m\u001b[0m\u001b[0;34m\u001b[0m\u001b[0;34m\u001b[0m\u001b[0m\n\u001b[1;32m   1044\u001b[0m             \u001b[0melapsed_time\u001b[0m \u001b[0;34m=\u001b[0m \u001b[0mtime\u001b[0m\u001b[0;34m.\u001b[0m\u001b[0mtime\u001b[0m\u001b[0;34m(\u001b[0m\u001b[0;34m)\u001b[0m \u001b[0;34m-\u001b[0m \u001b[0mself\u001b[0m\u001b[0;34m.\u001b[0m\u001b[0m_start_time\u001b[0m\u001b[0;34m\u001b[0m\u001b[0;34m\u001b[0m\u001b[0m\n",
      "\u001b[0;32m~/anaconda3/envs/phd_env/lib/python3.7/site-packages/joblib/parallel.py\u001b[0m in \u001b[0;36mretrieve\u001b[0;34m(self)\u001b[0m\n\u001b[1;32m    919\u001b[0m             \u001b[0;32mtry\u001b[0m\u001b[0;34m:\u001b[0m\u001b[0;34m\u001b[0m\u001b[0;34m\u001b[0m\u001b[0m\n\u001b[1;32m    920\u001b[0m                 \u001b[0;32mif\u001b[0m \u001b[0mgetattr\u001b[0m\u001b[0;34m(\u001b[0m\u001b[0mself\u001b[0m\u001b[0;34m.\u001b[0m\u001b[0m_backend\u001b[0m\u001b[0;34m,\u001b[0m \u001b[0;34m'supports_timeout'\u001b[0m\u001b[0;34m,\u001b[0m \u001b[0;32mFalse\u001b[0m\u001b[0;34m)\u001b[0m\u001b[0;34m:\u001b[0m\u001b[0;34m\u001b[0m\u001b[0;34m\u001b[0m\u001b[0m\n\u001b[0;32m--> 921\u001b[0;31m                     \u001b[0mself\u001b[0m\u001b[0;34m.\u001b[0m\u001b[0m_output\u001b[0m\u001b[0;34m.\u001b[0m\u001b[0mextend\u001b[0m\u001b[0;34m(\u001b[0m\u001b[0mjob\u001b[0m\u001b[0;34m.\u001b[0m\u001b[0mget\u001b[0m\u001b[0;34m(\u001b[0m\u001b[0mtimeout\u001b[0m\u001b[0;34m=\u001b[0m\u001b[0mself\u001b[0m\u001b[0;34m.\u001b[0m\u001b[0mtimeout\u001b[0m\u001b[0;34m)\u001b[0m\u001b[0;34m)\u001b[0m\u001b[0;34m\u001b[0m\u001b[0;34m\u001b[0m\u001b[0m\n\u001b[0m\u001b[1;32m    922\u001b[0m                 \u001b[0;32melse\u001b[0m\u001b[0;34m:\u001b[0m\u001b[0;34m\u001b[0m\u001b[0;34m\u001b[0m\u001b[0m\n\u001b[1;32m    923\u001b[0m                     \u001b[0mself\u001b[0m\u001b[0;34m.\u001b[0m\u001b[0m_output\u001b[0m\u001b[0;34m.\u001b[0m\u001b[0mextend\u001b[0m\u001b[0;34m(\u001b[0m\u001b[0mjob\u001b[0m\u001b[0;34m.\u001b[0m\u001b[0mget\u001b[0m\u001b[0;34m(\u001b[0m\u001b[0;34m)\u001b[0m\u001b[0;34m)\u001b[0m\u001b[0;34m\u001b[0m\u001b[0;34m\u001b[0m\u001b[0m\n",
      "\u001b[0;32m~/anaconda3/envs/phd_env/lib/python3.7/site-packages/joblib/_parallel_backends.py\u001b[0m in \u001b[0;36mwrap_future_result\u001b[0;34m(future, timeout)\u001b[0m\n\u001b[1;32m    540\u001b[0m         AsyncResults.get from multiprocessing.\"\"\"\n\u001b[1;32m    541\u001b[0m         \u001b[0;32mtry\u001b[0m\u001b[0;34m:\u001b[0m\u001b[0;34m\u001b[0m\u001b[0;34m\u001b[0m\u001b[0m\n\u001b[0;32m--> 542\u001b[0;31m             \u001b[0;32mreturn\u001b[0m \u001b[0mfuture\u001b[0m\u001b[0;34m.\u001b[0m\u001b[0mresult\u001b[0m\u001b[0;34m(\u001b[0m\u001b[0mtimeout\u001b[0m\u001b[0;34m=\u001b[0m\u001b[0mtimeout\u001b[0m\u001b[0;34m)\u001b[0m\u001b[0;34m\u001b[0m\u001b[0;34m\u001b[0m\u001b[0m\n\u001b[0m\u001b[1;32m    543\u001b[0m         \u001b[0;32mexcept\u001b[0m \u001b[0mCfTimeoutError\u001b[0m \u001b[0;32mas\u001b[0m \u001b[0me\u001b[0m\u001b[0;34m:\u001b[0m\u001b[0;34m\u001b[0m\u001b[0;34m\u001b[0m\u001b[0m\n\u001b[1;32m    544\u001b[0m             \u001b[0;32mraise\u001b[0m \u001b[0mTimeoutError\u001b[0m \u001b[0;32mfrom\u001b[0m \u001b[0me\u001b[0m\u001b[0;34m\u001b[0m\u001b[0;34m\u001b[0m\u001b[0m\n",
      "\u001b[0;32m~/anaconda3/envs/phd_env/lib/python3.7/concurrent/futures/_base.py\u001b[0m in \u001b[0;36mresult\u001b[0;34m(self, timeout)\u001b[0m\n\u001b[1;32m    433\u001b[0m                 \u001b[0;32mraise\u001b[0m \u001b[0mCancelledError\u001b[0m\u001b[0;34m(\u001b[0m\u001b[0;34m)\u001b[0m\u001b[0;34m\u001b[0m\u001b[0;34m\u001b[0m\u001b[0m\n\u001b[1;32m    434\u001b[0m             \u001b[0;32melif\u001b[0m \u001b[0mself\u001b[0m\u001b[0;34m.\u001b[0m\u001b[0m_state\u001b[0m \u001b[0;34m==\u001b[0m \u001b[0mFINISHED\u001b[0m\u001b[0;34m:\u001b[0m\u001b[0;34m\u001b[0m\u001b[0;34m\u001b[0m\u001b[0m\n\u001b[0;32m--> 435\u001b[0;31m                 \u001b[0;32mreturn\u001b[0m \u001b[0mself\u001b[0m\u001b[0;34m.\u001b[0m\u001b[0m__get_result\u001b[0m\u001b[0;34m(\u001b[0m\u001b[0;34m)\u001b[0m\u001b[0;34m\u001b[0m\u001b[0;34m\u001b[0m\u001b[0m\n\u001b[0m\u001b[1;32m    436\u001b[0m             \u001b[0;32melse\u001b[0m\u001b[0;34m:\u001b[0m\u001b[0;34m\u001b[0m\u001b[0;34m\u001b[0m\u001b[0m\n\u001b[1;32m    437\u001b[0m                 \u001b[0;32mraise\u001b[0m \u001b[0mTimeoutError\u001b[0m\u001b[0;34m(\u001b[0m\u001b[0;34m)\u001b[0m\u001b[0;34m\u001b[0m\u001b[0;34m\u001b[0m\u001b[0m\n",
      "\u001b[0;32m~/anaconda3/envs/phd_env/lib/python3.7/concurrent/futures/_base.py\u001b[0m in \u001b[0;36m__get_result\u001b[0;34m(self)\u001b[0m\n\u001b[1;32m    382\u001b[0m     \u001b[0;32mdef\u001b[0m \u001b[0m__get_result\u001b[0m\u001b[0;34m(\u001b[0m\u001b[0mself\u001b[0m\u001b[0;34m)\u001b[0m\u001b[0;34m:\u001b[0m\u001b[0;34m\u001b[0m\u001b[0;34m\u001b[0m\u001b[0m\n\u001b[1;32m    383\u001b[0m         \u001b[0;32mif\u001b[0m \u001b[0mself\u001b[0m\u001b[0;34m.\u001b[0m\u001b[0m_exception\u001b[0m\u001b[0;34m:\u001b[0m\u001b[0;34m\u001b[0m\u001b[0;34m\u001b[0m\u001b[0m\n\u001b[0;32m--> 384\u001b[0;31m             \u001b[0;32mraise\u001b[0m \u001b[0mself\u001b[0m\u001b[0;34m.\u001b[0m\u001b[0m_exception\u001b[0m\u001b[0;34m\u001b[0m\u001b[0;34m\u001b[0m\u001b[0m\n\u001b[0m\u001b[1;32m    385\u001b[0m         \u001b[0;32melse\u001b[0m\u001b[0;34m:\u001b[0m\u001b[0;34m\u001b[0m\u001b[0;34m\u001b[0m\u001b[0m\n\u001b[1;32m    386\u001b[0m             \u001b[0;32mreturn\u001b[0m \u001b[0mself\u001b[0m\u001b[0;34m.\u001b[0m\u001b[0m_result\u001b[0m\u001b[0;34m\u001b[0m\u001b[0;34m\u001b[0m\u001b[0m\n",
      "\u001b[0;31mNotImplementedError\u001b[0m: memoryview: format O not supported"
     ]
    }
   ],
   "source": [
    "bart_model = SklearnModel(n_trees = 2) # Use default parameters\n",
    "bart_model.fit(train[features].values, train[outcome].values)\n",
    "\n",
    "effects_train = causal_bart(train, bart_model)\n",
    "effects_test = causal_bart(test, bart_model)\n",
    "\n",
    "mae_bart_train = utils.abs_ate(true_effect_train, effects_train)\n",
    "mae_bart_test = utils.abs_ate(true_effect_test, effects_test)\n",
    "\n"
   ]
  },
  {
   "cell_type": "code",
   "execution_count": null,
   "metadata": {},
   "outputs": [],
   "source": [
    "result_dic['bart_train'] = mae_bart_train\n",
    "result_dic['bart_test'] = mae_bart_test"
   ]
  },
  {
   "cell_type": "markdown",
   "metadata": {},
   "source": [
    "### TMLE"
   ]
  },
  {
   "cell_type": "code",
   "execution_count": 28,
   "metadata": {},
   "outputs": [
    {
     "name": "stderr",
     "output_type": "stream",
     "text": [
      "/home/trduong/anaconda3/envs/phd_env/lib/python3.7/site-packages/sklearn/linear_model/_logistic.py:764: ConvergenceWarning: lbfgs failed to converge (status=1):\n",
      "STOP: TOTAL NO. of ITERATIONS REACHED LIMIT.\n",
      "\n",
      "Increase the number of iterations (max_iter) or scale the data as shown in:\n",
      "    https://scikit-learn.org/stable/modules/preprocessing.html\n",
      "Please also refer to the documentation for alternative solver options:\n",
      "    https://scikit-learn.org/stable/modules/linear_model.html#logistic-regression\n",
      "  extra_warning_msg=_LOGISTIC_SOLVER_CONVERGENCE_MSG)\n",
      "/home/trduong/anaconda3/envs/phd_env/lib/python3.7/site-packages/sklearn/linear_model/_logistic.py:764: ConvergenceWarning: lbfgs failed to converge (status=1):\n",
      "STOP: TOTAL NO. of ITERATIONS REACHED LIMIT.\n",
      "\n",
      "Increase the number of iterations (max_iter) or scale the data as shown in:\n",
      "    https://scikit-learn.org/stable/modules/preprocessing.html\n",
      "Please also refer to the documentation for alternative solver options:\n",
      "    https://scikit-learn.org/stable/modules/linear_model.html#logistic-regression\n",
      "  extra_warning_msg=_LOGISTIC_SOLVER_CONVERGENCE_MSG)\n"
     ]
    }
   ],
   "source": [
    "expose_m = ' + '.join(cov)\n",
    "outcome_m = ' + '.join(features)\n",
    "\n",
    "model_t = LogisticRegression(penalty='l2', random_state=201)\n",
    "model_y = GradientBoostingRegressor(random_state=0, n_estimators = 5000)\n",
    "\n",
    "tml = TMLE(train, exposure=treatment, outcome=outcome)\n",
    "tml.exposure_model(expose_m, bound=[0.01, 0.99], print_results=False, custom_model=model_t)\n",
    "tml.outcome_model(outcome_m, print_results=False, custom_model = model_y)\n",
    "tml.fit()\n",
    "\n",
    "mae_train = utils.abs_ate(true_effect_train, tml.average_treatment_effect)\n",
    "\n",
    "tml = TMLE(test, exposure=treatment, outcome=outcome)\n",
    "tml.exposure_model(expose_m, bound=[0.01, 0.99], print_results=False, custom_model=model_t)\n",
    "tml.outcome_model(outcome_m, print_results=False)\n",
    "tml.fit()\n",
    "\n",
    "mae_test = utils.abs_ate(true_effect_test, tml.average_treatment_effect)\n",
    "\n",
    "\n",
    "result_dic['tmle_train'] = mae_train\n",
    "result_dic['tmle_test'] = mae_test\n"
   ]
  },
  {
   "cell_type": "markdown",
   "metadata": {},
   "source": [
    "### KNN and Linear Regression"
   ]
  },
  {
   "cell_type": "code",
   "execution_count": 32,
   "metadata": {},
   "outputs": [
    {
     "name": "stderr",
     "output_type": "stream",
     "text": [
      "WARNING:dowhy.causal_model:Causal Graph not provided. DoWhy will construct a graph based on data inputs.\n",
      "INFO:dowhy.causal_graph:If this is observed data (not from a randomized experiment), there might always be missing confounders. Adding a node named \"Unobserved Confounders\" to reflect this.\n",
      "INFO:dowhy.causal_model:Model to find the causal effect of treatment ['became_member'] on outcome ['days_visited_post']\n",
      "INFO:dowhy.causal_identifier:Common causes of treatment and outcome:['days_visited_vrs_pre', 'revenue_pre', 'days_visited_exp_pre', 'days_visited_fs_pre', 'easier_signup', 'os_type_osx', 'locale_en_US', 'days_visited_rs_pre', 'os_type_windows', 'days_visited_free_pre', 'U', 'days_visited_hs_pre']\n",
      "WARNING:dowhy.causal_identifier:If this is observed data (not from a randomized experiment), there might always be missing confounders. Causal effect cannot be identified perfectly.\n",
      "INFO:dowhy.causal_identifier:Continuing by ignoring these unobserved confounders because proceed_when_unidentifiable flag is True.\n",
      "INFO:dowhy.causal_identifier:Instrumental variables for treatment and outcome:[]\n",
      "INFO:dowhy.causal_estimator:INFO: Using Propensity Score Matching Estimator\n",
      "INFO:dowhy.causal_estimator:b: days_visited_post~became_member+days_visited_vrs_pre+revenue_pre+days_visited_exp_pre+days_visited_fs_pre+easier_signup+os_type_osx+locale_en_US+days_visited_rs_pre+os_type_windows+days_visited_free_pre+days_visited_hs_pre\n",
      "/home/trduong/anaconda3/envs/phd_env/lib/python3.7/site-packages/sklearn/utils/validation.py:73: DataConversionWarning: A column-vector y was passed when a 1d array was expected. Please change the shape of y to (n_samples, ), for example using ravel().\n",
      "  return f(**kwargs)\n",
      "/home/trduong/anaconda3/envs/phd_env/lib/python3.7/site-packages/sklearn/linear_model/_logistic.py:764: ConvergenceWarning: lbfgs failed to converge (status=1):\n",
      "STOP: TOTAL NO. of ITERATIONS REACHED LIMIT.\n",
      "\n",
      "Increase the number of iterations (max_iter) or scale the data as shown in:\n",
      "    https://scikit-learn.org/stable/modules/preprocessing.html\n",
      "Please also refer to the documentation for alternative solver options:\n",
      "    https://scikit-learn.org/stable/modules/linear_model.html#logistic-regression\n",
      "  extra_warning_msg=_LOGISTIC_SOLVER_CONVERGENCE_MSG)\n",
      "INFO:dowhy.causal_estimator:INFO: Using Linear Regression Estimator\n",
      "INFO:dowhy.causal_estimator:b: days_visited_post~became_member+days_visited_vrs_pre+revenue_pre+days_visited_exp_pre+days_visited_fs_pre+easier_signup+os_type_osx+locale_en_US+days_visited_rs_pre+os_type_windows+days_visited_free_pre+days_visited_hs_pre\n",
      "WARNING:dowhy.causal_model:Causal Graph not provided. DoWhy will construct a graph based on data inputs.\n",
      "INFO:dowhy.causal_graph:If this is observed data (not from a randomized experiment), there might always be missing confounders. Adding a node named \"Unobserved Confounders\" to reflect this.\n",
      "INFO:dowhy.causal_model:Model to find the causal effect of treatment ['became_member'] on outcome ['days_visited_post']\n",
      "INFO:dowhy.causal_identifier:Common causes of treatment and outcome:['days_visited_vrs_pre', 'revenue_pre', 'days_visited_exp_pre', 'days_visited_fs_pre', 'easier_signup', 'os_type_osx', 'locale_en_US', 'days_visited_rs_pre', 'os_type_windows', 'days_visited_free_pre', 'U', 'days_visited_hs_pre']\n",
      "WARNING:dowhy.causal_identifier:If this is observed data (not from a randomized experiment), there might always be missing confounders. Causal effect cannot be identified perfectly.\n",
      "INFO:dowhy.causal_identifier:Continuing by ignoring these unobserved confounders because proceed_when_unidentifiable flag is True.\n",
      "INFO:dowhy.causal_identifier:Instrumental variables for treatment and outcome:[]\n",
      "INFO:dowhy.causal_estimator:INFO: Using Propensity Score Matching Estimator\n",
      "INFO:dowhy.causal_estimator:b: days_visited_post~became_member+days_visited_vrs_pre+revenue_pre+days_visited_exp_pre+days_visited_fs_pre+easier_signup+os_type_osx+locale_en_US+days_visited_rs_pre+os_type_windows+days_visited_free_pre+days_visited_hs_pre\n"
     ]
    },
    {
     "name": "stdout",
     "output_type": "stream",
     "text": [
      "                            OLS Regression Results                            \n",
      "==============================================================================\n",
      "Dep. Variable:      days_visited_post   R-squared:                       0.455\n",
      "Model:                            OLS   Adj. R-squared:                  0.455\n",
      "Method:                 Least Squares   F-statistic:                     4874.\n",
      "Date:                Wed, 15 Jul 2020   Prob (F-statistic):               0.00\n",
      "Time:                        20:45:23   Log-Likelihood:            -2.2232e+05\n",
      "No. Observations:               70000   AIC:                         4.447e+05\n",
      "Df Residuals:                   69987   BIC:                         4.448e+05\n",
      "Df Model:                          12                                         \n",
      "Covariance Type:            nonrobust                                         \n",
      "==============================================================================\n",
      "                 coef    std err          t      P>|t|      [0.025      0.975]\n",
      "------------------------------------------------------------------------------\n",
      "const          1.9154      0.102     18.700      0.000       1.715       2.116\n",
      "x1             4.4976      0.068     66.585      0.000       4.365       4.630\n",
      "x2            -0.0015      0.003     -0.582      0.560      -0.007       0.004\n",
      "x3          1.466e-06   9.19e-06      0.159      0.873   -1.65e-05    1.95e-05\n",
      "x4             0.0020      0.003      0.773      0.440      -0.003       0.007\n",
      "x5            -0.0005      0.003     -0.209      0.834      -0.006       0.005\n",
      "x6            -1.4173      0.064    -22.130      0.000      -1.543      -1.292\n",
      "x7             0.3685      0.054      6.872      0.000       0.263       0.474\n",
      "x8             0.0180      0.044      0.412      0.680      -0.068       0.104\n",
      "x9             0.0030      0.003      1.138      0.255      -0.002       0.008\n",
      "x10           -0.0193      0.054     -0.359      0.719      -0.124       0.086\n",
      "x11            0.5661      0.003    212.778      0.000       0.561       0.571\n",
      "x12           -0.0681      0.003    -26.051      0.000      -0.073      -0.063\n",
      "==============================================================================\n",
      "Omnibus:                    10154.886   Durbin-Watson:                   1.990\n",
      "Prob(Omnibus):                  0.000   Jarque-Bera (JB):             2481.312\n",
      "Skew:                           0.077   Prob(JB):                         0.00\n",
      "Kurtosis:                       2.091   Cond. No.                     1.17e+04\n",
      "==============================================================================\n",
      "\n",
      "Warnings:\n",
      "[1] Standard Errors assume that the covariance matrix of the errors is correctly specified.\n",
      "[2] The condition number is large, 1.17e+04. This might indicate that there are\n",
      "strong multicollinearity or other numerical problems.\n"
     ]
    },
    {
     "name": "stderr",
     "output_type": "stream",
     "text": [
      "/home/trduong/anaconda3/envs/phd_env/lib/python3.7/site-packages/sklearn/utils/validation.py:73: DataConversionWarning: A column-vector y was passed when a 1d array was expected. Please change the shape of y to (n_samples, ), for example using ravel().\n",
      "  return f(**kwargs)\n",
      "/home/trduong/anaconda3/envs/phd_env/lib/python3.7/site-packages/sklearn/linear_model/_logistic.py:764: ConvergenceWarning: lbfgs failed to converge (status=1):\n",
      "STOP: TOTAL NO. of ITERATIONS REACHED LIMIT.\n",
      "\n",
      "Increase the number of iterations (max_iter) or scale the data as shown in:\n",
      "    https://scikit-learn.org/stable/modules/preprocessing.html\n",
      "Please also refer to the documentation for alternative solver options:\n",
      "    https://scikit-learn.org/stable/modules/linear_model.html#logistic-regression\n",
      "  extra_warning_msg=_LOGISTIC_SOLVER_CONVERGENCE_MSG)\n",
      "INFO:dowhy.causal_estimator:INFO: Using Linear Regression Estimator\n",
      "INFO:dowhy.causal_estimator:b: days_visited_post~became_member+days_visited_vrs_pre+revenue_pre+days_visited_exp_pre+days_visited_fs_pre+easier_signup+os_type_osx+locale_en_US+days_visited_rs_pre+os_type_windows+days_visited_free_pre+days_visited_hs_pre\n"
     ]
    },
    {
     "name": "stdout",
     "output_type": "stream",
     "text": [
      "                            OLS Regression Results                            \n",
      "==============================================================================\n",
      "Dep. Variable:      days_visited_post   R-squared:                       0.457\n",
      "Model:                            OLS   Adj. R-squared:                  0.457\n",
      "Method:                 Least Squares   F-statistic:                     2103.\n",
      "Date:                Wed, 15 Jul 2020   Prob (F-statistic):               0.00\n",
      "Time:                        20:45:41   Log-Likelihood:                -95354.\n",
      "No. Observations:               30000   AIC:                         1.907e+05\n",
      "Df Residuals:                   29987   BIC:                         1.908e+05\n",
      "Df Model:                          12                                         \n",
      "Covariance Type:            nonrobust                                         \n",
      "==============================================================================\n",
      "                 coef    std err          t      P>|t|      [0.025      0.975]\n",
      "------------------------------------------------------------------------------\n",
      "const          1.8846      0.157     11.975      0.000       1.576       2.193\n",
      "x1             4.6402      0.103     44.942      0.000       4.438       4.843\n",
      "x2             0.0069      0.004      1.730      0.084      -0.001       0.015\n",
      "x3          7.836e-06   1.02e-05      0.770      0.442   -1.21e-05    2.78e-05\n",
      "x4             0.0020      0.004      0.491      0.623      -0.006       0.010\n",
      "x5             0.0014      0.004      0.361      0.718      -0.006       0.009\n",
      "x6            -1.5605      0.098    -15.929      0.000      -1.753      -1.369\n",
      "x7             0.3771      0.082      4.579      0.000       0.216       0.538\n",
      "x8            -0.1126      0.067     -1.678      0.093      -0.244       0.019\n",
      "x9             0.0016      0.004      0.398      0.691      -0.006       0.009\n",
      "x10            0.0464      0.082      0.565      0.572      -0.115       0.207\n",
      "x11            0.5696      0.004    139.149      0.000       0.562       0.578\n",
      "x12           -0.0707      0.004    -17.631      0.000      -0.079      -0.063\n",
      "==============================================================================\n",
      "Omnibus:                     4075.221   Durbin-Watson:                   1.994\n",
      "Prob(Omnibus):                  0.000   Jarque-Bera (JB):             1023.332\n",
      "Skew:                           0.060   Prob(JB):                    6.11e-223\n",
      "Kurtosis:                       2.103   Cond. No.                     1.62e+04\n",
      "==============================================================================\n",
      "\n",
      "Warnings:\n",
      "[1] Standard Errors assume that the covariance matrix of the errors is correctly specified.\n",
      "[2] The condition number is large, 1.62e+04. This might indicate that there are\n",
      "strong multicollinearity or other numerical problems.\n"
     ]
    }
   ],
   "source": [
    "model = CausalModel(data=train,\n",
    "                    treatment=treatment,\n",
    "                    outcome=outcome,\n",
    "                    common_causes=cov, proceed_when_unidentifiable=True)\n",
    "train[treatment] = [bool(x) for x in train[treatment]]\n",
    "identified_estimand = model.identify_effect()\n",
    "\n",
    "estimate_we = model.estimate_effect(\n",
    "        identified_estimand, method_name=\"backdoor.propensity_score_matching\")\n",
    "\n",
    "estimate_linear = model.estimate_effect(\n",
    "        identified_estimand, method_name=\"backdoor.linear_regression\")\n",
    "\n",
    "\n",
    "model = CausalModel(data=test,\n",
    "                    treatment=treatment,\n",
    "                    outcome=outcome,\n",
    "                    common_causes=cov, proceed_when_unidentifiable=True)\n",
    "test[treatment] = [bool(x) for x in test[treatment]]\n",
    "identified_estimand = model.identify_effect()\n",
    "\n",
    "estimate_we_test = model.estimate_effect(\n",
    "    identified_estimand, method_name=\"backdoor.propensity_score_matching\")\n",
    "\n",
    "estimate_linear_test = model.estimate_effect(\n",
    "        identified_estimand, method_name=\"backdoor.linear_regression\")\n",
    "\n",
    "knn_train = utils.abs_ate(true_effect_train, estimate_we.value)\n",
    "knn_test = utils.abs_ate(true_effect_test, estimate_we_test.value)\n",
    "lr_train = utils.abs_ate(true_effect_train, estimate_linear.value)\n",
    "lr_test = utils.abs_ate(true_effect_test, estimate_linear_test.value)\n",
    "\n",
    "\n",
    "result_dic['knn_train'] = knn_train\n",
    "result_dic['knn_test'] = knn_test\n",
    "\n",
    "result_dic['lr_train'] = lr_train\n",
    "result_dic['lr_test'] = lr_test"
   ]
  },
  {
   "cell_type": "markdown",
   "metadata": {},
   "source": [
    "### Causal Forest"
   ]
  },
  {
   "cell_type": "code",
   "execution_count": 36,
   "metadata": {},
   "outputs": [
    {
     "ename": "TypingError",
     "evalue": "Failed in nopython mode pipeline (step: nopython frontend)\nnon-precise type array(pyobject, 1d, C)\nDuring: typing of argument at /home/trduong/anaconda3/envs/phd_env/lib/python3.7/site-packages/cforest/tree.py (282)\n\nFile \"../../../../../../../home/trduong/anaconda3/envs/phd_env/lib/python3.7/site-packages/cforest/tree.py\", line 282:\ndef _find_optimal_split_inner_loop(\n    <source elided>\n    \"\"\"\n    if len(splitting_indices) == 0:\n    ^\n",
     "output_type": "error",
     "traceback": [
      "\u001b[0;31m---------------------------------------------------------------------------\u001b[0m",
      "\u001b[0;31m_RemoteTraceback\u001b[0m                          Traceback (most recent call last)",
      "\u001b[0;31m_RemoteTraceback\u001b[0m: \n\"\"\"\nTraceback (most recent call last):\n  File \"/home/trduong/anaconda3/envs/phd_env/lib/python3.7/site-packages/joblib/externals/loky/process_executor.py\", line 431, in _process_worker\n    r = call_item()\n  File \"/home/trduong/anaconda3/envs/phd_env/lib/python3.7/site-packages/joblib/externals/loky/process_executor.py\", line 285, in __call__\n    return self.fn(*self.args, **self.kwargs)\n  File \"/home/trduong/anaconda3/envs/phd_env/lib/python3.7/site-packages/joblib/_parallel_backends.py\", line 595, in __call__\n    return self.func(*args, **kwargs)\n  File \"/home/trduong/anaconda3/envs/phd_env/lib/python3.7/site-packages/joblib/parallel.py\", line 253, in __call__\n    for func, args, kwargs in self.items]\n  File \"/home/trduong/anaconda3/envs/phd_env/lib/python3.7/site-packages/joblib/parallel.py\", line 253, in <listcomp>\n    for func, args, kwargs in self.items]\n  File \"/home/trduong/anaconda3/envs/phd_env/lib/python3.7/site-packages/cforest/forest.py\", line 415, in _fit_single_tree_for_forest\n    critparams=treeparams,\n  File \"/home/trduong/anaconda3/envs/phd_env/lib/python3.7/site-packages/cforest/tree.py\", line 54, in fit_causaltree\n    X=X, t=t, y=y, index=index, critparams=critparams, idparams=idparams,\n  File \"/home/trduong/anaconda3/envs/phd_env/lib/python3.7/site-packages/cforest/tree.py\", line 109, in _fit_node\n    use_transformed_outcomes=critparams[\"use_transformed_outcomes\"],\n  File \"/home/trduong/anaconda3/envs/phd_env/lib/python3.7/site-packages/cforest/tree.py\", line 218, in _find_optimal_split\n    use_transformed_outcomes=use_transformed_outcomes,\n  File \"/home/trduong/anaconda3/envs/phd_env/lib/python3.7/site-packages/numba/core/dispatcher.py\", line 415, in _compile_for_args\n    error_rewrite(e, 'typing')\n  File \"/home/trduong/anaconda3/envs/phd_env/lib/python3.7/site-packages/numba/core/dispatcher.py\", line 358, in error_rewrite\n    reraise(type(e), e, None)\n  File \"/home/trduong/anaconda3/envs/phd_env/lib/python3.7/site-packages/numba/core/utils.py\", line 80, in reraise\n    raise value.with_traceback(tb)\nnumba.core.errors.TypingError: Failed in nopython mode pipeline (step: nopython frontend)\nnon-precise type array(pyobject, 1d, C)\nDuring: typing of argument at /home/trduong/anaconda3/envs/phd_env/lib/python3.7/site-packages/cforest/tree.py (282)\n\nFile \"../../../../../../../home/trduong/anaconda3/envs/phd_env/lib/python3.7/site-packages/cforest/tree.py\", line 282:\ndef _find_optimal_split_inner_loop(\n    <source elided>\n    \"\"\"\n    if len(splitting_indices) == 0:\n    ^\n\n\"\"\"",
      "\nThe above exception was the direct cause of the following exception:\n",
      "\u001b[0;31mTypingError\u001b[0m                               Traceback (most recent call last)",
      "\u001b[0;32m<ipython-input-36-89a5efba53bc>\u001b[0m in \u001b[0;36m<module>\u001b[0;34m\u001b[0m\n\u001b[1;32m     13\u001b[0m \u001b[0;34m\u001b[0m\u001b[0m\n\u001b[1;32m     14\u001b[0m \u001b[0;34m\u001b[0m\u001b[0m\n\u001b[0;32m---> 15\u001b[0;31m \u001b[0mcf\u001b[0m \u001b[0;34m=\u001b[0m \u001b[0mcf\u001b[0m\u001b[0;34m.\u001b[0m\u001b[0mfit\u001b[0m\u001b[0;34m(\u001b[0m\u001b[0mtrain\u001b[0m\u001b[0;34m[\u001b[0m\u001b[0mfeatures\u001b[0m\u001b[0;34m]\u001b[0m\u001b[0;34m.\u001b[0m\u001b[0mvalues\u001b[0m\u001b[0;34m,\u001b[0m \u001b[0mtrain\u001b[0m\u001b[0;34m[\u001b[0m\u001b[0;34m'term_t'\u001b[0m\u001b[0;34m]\u001b[0m\u001b[0;34m.\u001b[0m\u001b[0mvalues\u001b[0m\u001b[0;34m,\u001b[0m \u001b[0mtrain\u001b[0m\u001b[0;34m[\u001b[0m\u001b[0moutcome\u001b[0m\u001b[0;34m]\u001b[0m\u001b[0;34m.\u001b[0m\u001b[0mvalues\u001b[0m\u001b[0;34m)\u001b[0m\u001b[0;34m\u001b[0m\u001b[0;34m\u001b[0m\u001b[0m\n\u001b[0m\u001b[1;32m     16\u001b[0m \u001b[0;34m\u001b[0m\u001b[0m\n\u001b[1;32m     17\u001b[0m \u001b[0mcf_train\u001b[0m \u001b[0;34m=\u001b[0m \u001b[0mnp\u001b[0m\u001b[0;34m.\u001b[0m\u001b[0mmean\u001b[0m\u001b[0;34m(\u001b[0m\u001b[0mcf\u001b[0m\u001b[0;34m.\u001b[0m\u001b[0mpredict\u001b[0m\u001b[0;34m(\u001b[0m\u001b[0mtrain\u001b[0m\u001b[0;34m[\u001b[0m\u001b[0mfeatures\u001b[0m\u001b[0;34m]\u001b[0m\u001b[0;34m.\u001b[0m\u001b[0mvalues\u001b[0m\u001b[0;34m)\u001b[0m\u001b[0;34m)\u001b[0m\u001b[0;34m\u001b[0m\u001b[0;34m\u001b[0m\u001b[0m\n",
      "\u001b[0;32m~/anaconda3/envs/phd_env/lib/python3.7/site-packages/cforest/forest.py\u001b[0m in \u001b[0;36mfit\u001b[0;34m(self, X, t, y)\u001b[0m\n\u001b[1;32m    178\u001b[0m             \u001b[0mtreeparams\u001b[0m\u001b[0;34m=\u001b[0m\u001b[0mself\u001b[0m\u001b[0;34m.\u001b[0m\u001b[0mtreeparams\u001b[0m\u001b[0;34m,\u001b[0m\u001b[0;34m\u001b[0m\u001b[0;34m\u001b[0m\u001b[0m\n\u001b[1;32m    179\u001b[0m             \u001b[0mnum_workers\u001b[0m\u001b[0;34m=\u001b[0m\u001b[0mself\u001b[0m\u001b[0;34m.\u001b[0m\u001b[0mnum_workers\u001b[0m\u001b[0;34m,\u001b[0m\u001b[0;34m\u001b[0m\u001b[0;34m\u001b[0m\u001b[0m\n\u001b[0;32m--> 180\u001b[0;31m             \u001b[0mseed_counter\u001b[0m\u001b[0;34m=\u001b[0m\u001b[0mself\u001b[0m\u001b[0;34m.\u001b[0m\u001b[0mseed_counter\u001b[0m\u001b[0;34m,\u001b[0m\u001b[0;34m\u001b[0m\u001b[0;34m\u001b[0m\u001b[0m\n\u001b[0m\u001b[1;32m    181\u001b[0m         )\n\u001b[1;32m    182\u001b[0m         \u001b[0mself\u001b[0m\u001b[0;34m.\u001b[0m\u001b[0mfitted_model\u001b[0m \u001b[0;34m=\u001b[0m \u001b[0mfitted_model\u001b[0m\u001b[0;34m\u001b[0m\u001b[0;34m\u001b[0m\u001b[0m\n",
      "\u001b[0;32m~/anaconda3/envs/phd_env/lib/python3.7/site-packages/cforest/forest.py\u001b[0m in \u001b[0;36mfit_causalforest\u001b[0;34m(X, t, y, forestparams, treeparams, num_workers, seed_counter)\u001b[0m\n\u001b[1;32m    368\u001b[0m             \u001b[0msplit_ratio\u001b[0m\u001b[0;34m=\u001b[0m\u001b[0msplit_ratio\u001b[0m\u001b[0;34m,\u001b[0m\u001b[0;34m\u001b[0m\u001b[0;34m\u001b[0m\u001b[0m\n\u001b[1;32m    369\u001b[0m         )\n\u001b[0;32m--> 370\u001b[0;31m         \u001b[0;32mfor\u001b[0m \u001b[0mi\u001b[0m \u001b[0;32min\u001b[0m \u001b[0mrange\u001b[0m\u001b[0;34m(\u001b[0m\u001b[0mnum_trees\u001b[0m\u001b[0;34m)\u001b[0m\u001b[0;34m\u001b[0m\u001b[0;34m\u001b[0m\u001b[0m\n\u001b[0m\u001b[1;32m    371\u001b[0m     )\n\u001b[1;32m    372\u001b[0m     \u001b[0mctrees\u001b[0m \u001b[0;34m=\u001b[0m \u001b[0;34m[\u001b[0m\u001b[0mtmp\u001b[0m\u001b[0;34m[\u001b[0m\u001b[0;36m0\u001b[0m\u001b[0;34m]\u001b[0m \u001b[0;32mfor\u001b[0m \u001b[0mtmp\u001b[0m \u001b[0;32min\u001b[0m \u001b[0mparallel_result\u001b[0m\u001b[0;34m]\u001b[0m\u001b[0;34m\u001b[0m\u001b[0;34m\u001b[0m\u001b[0m\n",
      "\u001b[0;32m~/anaconda3/envs/phd_env/lib/python3.7/site-packages/joblib/parallel.py\u001b[0m in \u001b[0;36m__call__\u001b[0;34m(self, iterable)\u001b[0m\n\u001b[1;32m   1040\u001b[0m \u001b[0;34m\u001b[0m\u001b[0m\n\u001b[1;32m   1041\u001b[0m             \u001b[0;32mwith\u001b[0m \u001b[0mself\u001b[0m\u001b[0;34m.\u001b[0m\u001b[0m_backend\u001b[0m\u001b[0;34m.\u001b[0m\u001b[0mretrieval_context\u001b[0m\u001b[0;34m(\u001b[0m\u001b[0;34m)\u001b[0m\u001b[0;34m:\u001b[0m\u001b[0;34m\u001b[0m\u001b[0;34m\u001b[0m\u001b[0m\n\u001b[0;32m-> 1042\u001b[0;31m                 \u001b[0mself\u001b[0m\u001b[0;34m.\u001b[0m\u001b[0mretrieve\u001b[0m\u001b[0;34m(\u001b[0m\u001b[0;34m)\u001b[0m\u001b[0;34m\u001b[0m\u001b[0;34m\u001b[0m\u001b[0m\n\u001b[0m\u001b[1;32m   1043\u001b[0m             \u001b[0;31m# Make sure that we get a last message telling us we are done\u001b[0m\u001b[0;34m\u001b[0m\u001b[0;34m\u001b[0m\u001b[0;34m\u001b[0m\u001b[0m\n\u001b[1;32m   1044\u001b[0m             \u001b[0melapsed_time\u001b[0m \u001b[0;34m=\u001b[0m \u001b[0mtime\u001b[0m\u001b[0;34m.\u001b[0m\u001b[0mtime\u001b[0m\u001b[0;34m(\u001b[0m\u001b[0;34m)\u001b[0m \u001b[0;34m-\u001b[0m \u001b[0mself\u001b[0m\u001b[0;34m.\u001b[0m\u001b[0m_start_time\u001b[0m\u001b[0;34m\u001b[0m\u001b[0;34m\u001b[0m\u001b[0m\n",
      "\u001b[0;32m~/anaconda3/envs/phd_env/lib/python3.7/site-packages/joblib/parallel.py\u001b[0m in \u001b[0;36mretrieve\u001b[0;34m(self)\u001b[0m\n\u001b[1;32m    919\u001b[0m             \u001b[0;32mtry\u001b[0m\u001b[0;34m:\u001b[0m\u001b[0;34m\u001b[0m\u001b[0;34m\u001b[0m\u001b[0m\n\u001b[1;32m    920\u001b[0m                 \u001b[0;32mif\u001b[0m \u001b[0mgetattr\u001b[0m\u001b[0;34m(\u001b[0m\u001b[0mself\u001b[0m\u001b[0;34m.\u001b[0m\u001b[0m_backend\u001b[0m\u001b[0;34m,\u001b[0m \u001b[0;34m'supports_timeout'\u001b[0m\u001b[0;34m,\u001b[0m \u001b[0;32mFalse\u001b[0m\u001b[0;34m)\u001b[0m\u001b[0;34m:\u001b[0m\u001b[0;34m\u001b[0m\u001b[0;34m\u001b[0m\u001b[0m\n\u001b[0;32m--> 921\u001b[0;31m                     \u001b[0mself\u001b[0m\u001b[0;34m.\u001b[0m\u001b[0m_output\u001b[0m\u001b[0;34m.\u001b[0m\u001b[0mextend\u001b[0m\u001b[0;34m(\u001b[0m\u001b[0mjob\u001b[0m\u001b[0;34m.\u001b[0m\u001b[0mget\u001b[0m\u001b[0;34m(\u001b[0m\u001b[0mtimeout\u001b[0m\u001b[0;34m=\u001b[0m\u001b[0mself\u001b[0m\u001b[0;34m.\u001b[0m\u001b[0mtimeout\u001b[0m\u001b[0;34m)\u001b[0m\u001b[0;34m)\u001b[0m\u001b[0;34m\u001b[0m\u001b[0;34m\u001b[0m\u001b[0m\n\u001b[0m\u001b[1;32m    922\u001b[0m                 \u001b[0;32melse\u001b[0m\u001b[0;34m:\u001b[0m\u001b[0;34m\u001b[0m\u001b[0;34m\u001b[0m\u001b[0m\n\u001b[1;32m    923\u001b[0m                     \u001b[0mself\u001b[0m\u001b[0;34m.\u001b[0m\u001b[0m_output\u001b[0m\u001b[0;34m.\u001b[0m\u001b[0mextend\u001b[0m\u001b[0;34m(\u001b[0m\u001b[0mjob\u001b[0m\u001b[0;34m.\u001b[0m\u001b[0mget\u001b[0m\u001b[0;34m(\u001b[0m\u001b[0;34m)\u001b[0m\u001b[0;34m)\u001b[0m\u001b[0;34m\u001b[0m\u001b[0;34m\u001b[0m\u001b[0m\n",
      "\u001b[0;32m~/anaconda3/envs/phd_env/lib/python3.7/site-packages/joblib/_parallel_backends.py\u001b[0m in \u001b[0;36mwrap_future_result\u001b[0;34m(future, timeout)\u001b[0m\n\u001b[1;32m    540\u001b[0m         AsyncResults.get from multiprocessing.\"\"\"\n\u001b[1;32m    541\u001b[0m         \u001b[0;32mtry\u001b[0m\u001b[0;34m:\u001b[0m\u001b[0;34m\u001b[0m\u001b[0;34m\u001b[0m\u001b[0m\n\u001b[0;32m--> 542\u001b[0;31m             \u001b[0;32mreturn\u001b[0m \u001b[0mfuture\u001b[0m\u001b[0;34m.\u001b[0m\u001b[0mresult\u001b[0m\u001b[0;34m(\u001b[0m\u001b[0mtimeout\u001b[0m\u001b[0;34m=\u001b[0m\u001b[0mtimeout\u001b[0m\u001b[0;34m)\u001b[0m\u001b[0;34m\u001b[0m\u001b[0;34m\u001b[0m\u001b[0m\n\u001b[0m\u001b[1;32m    543\u001b[0m         \u001b[0;32mexcept\u001b[0m \u001b[0mCfTimeoutError\u001b[0m \u001b[0;32mas\u001b[0m \u001b[0me\u001b[0m\u001b[0;34m:\u001b[0m\u001b[0;34m\u001b[0m\u001b[0;34m\u001b[0m\u001b[0m\n\u001b[1;32m    544\u001b[0m             \u001b[0;32mraise\u001b[0m \u001b[0mTimeoutError\u001b[0m \u001b[0;32mfrom\u001b[0m \u001b[0me\u001b[0m\u001b[0;34m\u001b[0m\u001b[0;34m\u001b[0m\u001b[0m\n",
      "\u001b[0;32m~/anaconda3/envs/phd_env/lib/python3.7/concurrent/futures/_base.py\u001b[0m in \u001b[0;36mresult\u001b[0;34m(self, timeout)\u001b[0m\n\u001b[1;32m    433\u001b[0m                 \u001b[0;32mraise\u001b[0m \u001b[0mCancelledError\u001b[0m\u001b[0;34m(\u001b[0m\u001b[0;34m)\u001b[0m\u001b[0;34m\u001b[0m\u001b[0;34m\u001b[0m\u001b[0m\n\u001b[1;32m    434\u001b[0m             \u001b[0;32melif\u001b[0m \u001b[0mself\u001b[0m\u001b[0;34m.\u001b[0m\u001b[0m_state\u001b[0m \u001b[0;34m==\u001b[0m \u001b[0mFINISHED\u001b[0m\u001b[0;34m:\u001b[0m\u001b[0;34m\u001b[0m\u001b[0;34m\u001b[0m\u001b[0m\n\u001b[0;32m--> 435\u001b[0;31m                 \u001b[0;32mreturn\u001b[0m \u001b[0mself\u001b[0m\u001b[0;34m.\u001b[0m\u001b[0m__get_result\u001b[0m\u001b[0;34m(\u001b[0m\u001b[0;34m)\u001b[0m\u001b[0;34m\u001b[0m\u001b[0;34m\u001b[0m\u001b[0m\n\u001b[0m\u001b[1;32m    436\u001b[0m             \u001b[0;32melse\u001b[0m\u001b[0;34m:\u001b[0m\u001b[0;34m\u001b[0m\u001b[0;34m\u001b[0m\u001b[0m\n\u001b[1;32m    437\u001b[0m                 \u001b[0;32mraise\u001b[0m \u001b[0mTimeoutError\u001b[0m\u001b[0;34m(\u001b[0m\u001b[0;34m)\u001b[0m\u001b[0;34m\u001b[0m\u001b[0;34m\u001b[0m\u001b[0m\n",
      "\u001b[0;32m~/anaconda3/envs/phd_env/lib/python3.7/concurrent/futures/_base.py\u001b[0m in \u001b[0;36m__get_result\u001b[0;34m(self)\u001b[0m\n\u001b[1;32m    382\u001b[0m     \u001b[0;32mdef\u001b[0m \u001b[0m__get_result\u001b[0m\u001b[0;34m(\u001b[0m\u001b[0mself\u001b[0m\u001b[0;34m)\u001b[0m\u001b[0;34m:\u001b[0m\u001b[0;34m\u001b[0m\u001b[0;34m\u001b[0m\u001b[0m\n\u001b[1;32m    383\u001b[0m         \u001b[0;32mif\u001b[0m \u001b[0mself\u001b[0m\u001b[0;34m.\u001b[0m\u001b[0m_exception\u001b[0m\u001b[0;34m:\u001b[0m\u001b[0;34m\u001b[0m\u001b[0;34m\u001b[0m\u001b[0m\n\u001b[0;32m--> 384\u001b[0;31m             \u001b[0;32mraise\u001b[0m \u001b[0mself\u001b[0m\u001b[0;34m.\u001b[0m\u001b[0m_exception\u001b[0m\u001b[0;34m\u001b[0m\u001b[0;34m\u001b[0m\u001b[0m\n\u001b[0m\u001b[1;32m    385\u001b[0m         \u001b[0;32melse\u001b[0m\u001b[0;34m:\u001b[0m\u001b[0;34m\u001b[0m\u001b[0;34m\u001b[0m\u001b[0m\n\u001b[1;32m    386\u001b[0m             \u001b[0;32mreturn\u001b[0m \u001b[0mself\u001b[0m\u001b[0;34m.\u001b[0m\u001b[0m_result\u001b[0m\u001b[0;34m\u001b[0m\u001b[0;34m\u001b[0m\u001b[0m\n",
      "\u001b[0;31mTypingError\u001b[0m: Failed in nopython mode pipeline (step: nopython frontend)\nnon-precise type array(pyobject, 1d, C)\nDuring: typing of argument at /home/trduong/anaconda3/envs/phd_env/lib/python3.7/site-packages/cforest/tree.py (282)\n\nFile \"../../../../../../../home/trduong/anaconda3/envs/phd_env/lib/python3.7/site-packages/cforest/tree.py\", line 282:\ndef _find_optimal_split_inner_loop(\n    <source elided>\n    \"\"\"\n    if len(splitting_indices) == 0:\n    ^\n"
     ]
    }
   ],
   "source": [
    "cf = CausalForest(\n",
    "        num_trees=50,\n",
    "        split_ratio=0.5,\n",
    "        min_leaf=5,\n",
    "        max_depth=20,\n",
    "        use_transformed_outcomes=True,\n",
    "        num_workers=4,\n",
    "        seed_counter=1,\n",
    "    )\n",
    "\n",
    "train['term_t'] = train[treatment].apply(lambda x: bool(x))\n",
    "test['term_t'] = test[treatment].apply(lambda x: bool(x))\n",
    "    \n",
    "    \n",
    "cf = cf.fit(train[features].values, train['term_t'].values, train[outcome].values)\n",
    "\n",
    "cf_train = np.mean(cf.predict(train[features].values))\n",
    "cf_test = np.mean(cf.predict(test[features].values))\n",
    "\n",
    "mae_train = utils.abs_ate(true_effect_train, cf_train)\n",
    "mae_test = utils.abs_ate(true_effect_test, cf_test)\n"
   ]
  },
  {
   "cell_type": "code",
   "execution_count": null,
   "metadata": {},
   "outputs": [],
   "source": [
    "result_dic['causal_forest_train'] = mae_train\n",
    "result_dic['causal_forest_test'] = mae_test"
   ]
  },
  {
   "cell_type": "markdown",
   "metadata": {},
   "source": [
    "## Conclusion"
   ]
  },
  {
   "cell_type": "code",
   "execution_count": 37,
   "metadata": {},
   "outputs": [
    {
     "name": "stdout",
     "output_type": "stream",
     "text": [
      "ortho_train 0\n",
      "ortho_test 0\n",
      "linear_dr_train 0\n",
      "linear_dr_test 0\n",
      "forest_dr_train 0\n",
      "forest_dr_test 0\n",
      "incremental_train 0.05436899551391616\n",
      "incremental_test 0.3601332190195723\n",
      "causal_forest_train 0\n",
      "causal_forest_test 0\n",
      "tmle_train 1.065954300913628\n",
      "tmle_test 1.4575334215539122\n",
      "knn_train 1.9377614285714289\n",
      "knn_test 3.154766666666667\n",
      "ps_train 0\n",
      "ps_test 0\n",
      "lr_train 2.562174001166059\n",
      "lr_test 2.6954712330640147\n",
      "bart_train 0\n",
      "bart_test 0\n"
     ]
    }
   ],
   "source": [
    "for k,v in result_dic.items():\n",
    "    print(k,v)"
   ]
  },
  {
   "cell_type": "code",
   "execution_count": null,
   "metadata": {},
   "outputs": [],
   "source": []
  }
 ],
 "metadata": {
  "kernelspec": {
   "display_name": "Python [conda env:phd_env] *",
   "language": "python",
   "name": "conda-env-phd_env-py"
  },
  "language_info": {
   "codemirror_mode": {
    "name": "ipython",
    "version": 3
   },
   "file_extension": ".py",
   "mimetype": "text/x-python",
   "name": "python",
   "nbconvert_exporter": "python",
   "pygments_lexer": "ipython3",
   "version": "3.7.7"
  },
  "toc": {
   "base_numbering": 1,
   "nav_menu": {},
   "number_sections": true,
   "sideBar": true,
   "skip_h1_title": false,
   "title_cell": "Table of Contents",
   "title_sidebar": "Contents",
   "toc_cell": false,
   "toc_position": {},
   "toc_section_display": true,
   "toc_window_display": true
  }
 },
 "nbformat": 4,
 "nbformat_minor": 4
}
