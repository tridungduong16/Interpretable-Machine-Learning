{
 "cells": [
  {
   "cell_type": "code",
   "execution_count": 1,
   "metadata": {},
   "outputs": [],
   "source": [
    "import numpy as np\n",
    "\n",
    "import sys\n",
    "sys.path.insert(\n",
    "    1,\n",
    "    '/home/dtd/Documents/interpretable_machine_learning/Source Code/my_work/lib'\n",
    ")\n",
    "\n",
    "import data_load\n",
    "import numpy as np\n",
    "import pandas as pd\n",
    "import logging\n",
    "import incremental_ps_score_estimator as ipse\n",
    "import utils\n",
    "\n",
    "\n",
    "from sklearn.ensemble import RandomForestClassifier, GradientBoostingRegressor, GradientBoostingClassifier\n",
    "from sklearn.linear_model import LogisticRegression\n",
    "from geneticalgorithm import geneticalgorithm as ga\n"
   ]
  },
  {
   "cell_type": "code",
   "execution_count": 2,
   "metadata": {},
   "outputs": [],
   "source": [
    "file_path = \"https://msalicedatapublic.blob.core.windows.net/datasets/Pricing/pricing_sample.csv\"\n",
    "train_data = pd.read_csv(file_path)"
   ]
  },
  {
   "cell_type": "code",
   "execution_count": 3,
   "metadata": {},
   "outputs": [],
   "source": [
    "train_data['treatment'] = np.where(train_data['price'] == 1, 1, 0)\n",
    "train_data['price'] = np.where(train_data['price'] == 1, 1, 0.85)"
   ]
  },
  {
   "cell_type": "code",
   "execution_count": null,
   "metadata": {},
   "outputs": [],
   "source": [
    "train_data, test_data "
   ]
  },
  {
   "cell_type": "code",
   "execution_count": 4,
   "metadata": {},
   "outputs": [
    {
     "name": "stdout",
     "output_type": "stream",
     "text": [
      "['account_age', 'age', 'avg_hours', 'days_visited', 'friends_count', 'has_membership', 'is_US', 'songs_purchased', 'income', 'demand', 'treatment']\n",
      "['account_age', 'age', 'avg_hours', 'days_visited', 'friends_count', 'has_membership', 'is_US', 'songs_purchased']\n",
      "['account_age', 'age', 'avg_hours', 'days_visited', 'friends_count', 'has_membership', 'is_US', 'songs_purchased', 'income', 'treatment']\n"
     ]
    }
   ],
   "source": [
    "outcome = \"demand\"\n",
    "treatment = \"treatment\"\n",
    "col = list(train_data.columns)\n",
    "col.remove(\"price\")\n",
    "print(col)\n",
    "\n",
    "cov = col[:]\n",
    "cov.remove(treatment)\n",
    "cov.remove(outcome)\n",
    "cov.remove('income')\n",
    "print(cov)\n",
    "\n",
    "features = col[:]\n",
    "features.remove(outcome)\n",
    "\n",
    "print(features)"
   ]
  },
  {
   "cell_type": "code",
   "execution_count": 15,
   "metadata": {},
   "outputs": [],
   "source": [
    "from sklearn.model_selection import train_test_split\n",
    "\n",
    "train_data, test_data = train_test_split(train_data, test_size=0.7)"
   ]
  },
  {
   "cell_type": "code",
   "execution_count": 16,
   "metadata": {},
   "outputs": [
    {
     "data": {
      "text/plain": [
       "GradientBoostingRegressor(n_estimators=1000, random_state=0)"
      ]
     },
     "execution_count": 16,
     "metadata": {},
     "output_type": "execute_result"
    }
   ],
   "source": [
    "## Fit treatment\n",
    "model_t = LogisticRegression()\n",
    "model_t.fit(train_data[cov], train_data[treatment])\n",
    "\n",
    "train_data['p1'] = model_t.predict_proba(train_data[cov])[:,1]\n",
    "train_data['p0'] = 1 - train_data['p1']\n",
    "\n",
    "train_data[\"prediction\"] = np.where(train_data[\"p1\"] >= 0.5, 1, 0)\n",
    "\n",
    "## Fit outcome\n",
    "model_y = GradientBoostingRegressor(random_state=0, n_estimators = 1000)\n",
    "model_y.fit(train_data[features], train_data[outcome])\n",
    "\n",
    "    "
   ]
  },
  {
   "cell_type": "code",
   "execution_count": 17,
   "metadata": {},
   "outputs": [
    {
     "data": {
      "text/plain": [
       "(3000, 15)"
      ]
     },
     "execution_count": 17,
     "metadata": {},
     "output_type": "execute_result"
    }
   ],
   "source": [
    "train_data.shape"
   ]
  },
  {
   "cell_type": "markdown",
   "metadata": {},
   "source": [
    "## Optimization"
   ]
  },
  {
   "cell_type": "code",
   "execution_count": 6,
   "metadata": {},
   "outputs": [],
   "source": [
    "def fitness_function(propensity_score):\n",
    "    policy = np.where(propensity_score >= 0.5, 1, 0)\n",
    "    return np.mean(revenue_fn(train_data,  0, 0.1, 1, policy))"
   ]
  },
  {
   "cell_type": "code",
   "execution_count": 7,
   "metadata": {},
   "outputs": [],
   "source": [
    "initial_population = np.concatenate((np.random.normal(50, 100, (3000,train_data.shape[0])),\n",
    "                                np.random.normal(0, 0.9, (100,train_data.shape[0]))))\n",
    "\n",
    "initial_population = initial_population.transpose()"
   ]
  },
  {
   "cell_type": "code",
   "execution_count": 8,
   "metadata": {},
   "outputs": [
    {
     "data": {
      "text/plain": [
       "(10000, 3100)"
      ]
     },
     "execution_count": 8,
     "metadata": {},
     "output_type": "execute_result"
    }
   ],
   "source": [
    "initial_population.shape"
   ]
  },
  {
   "cell_type": "code",
   "execution_count": 21,
   "metadata": {},
   "outputs": [],
   "source": [
    "def gamma_fn(X):\n",
    "    return -3 - 14 * (X[\"income\"] < 1)\n",
    "\n",
    "def beta_fn(X):\n",
    "    return 20 + 0.5 * (X[\"avg_hours\"]) + 5 * (X[\"days_visited\"] > 4)\n",
    "\n",
    "def demand_fn(data, T):\n",
    "    Y = gamma_fn(data) * T + beta_fn(data)\n",
    "    return Y\n",
    "\n",
    "def true_te(x, n, stats):\n",
    "    if x < 1:\n",
    "        subdata = df[df[\"income\"] < 1].sample(n=n, replace=True)\n",
    "    else:\n",
    "        subdata = df[df[\"income\"] >= 1].sample(n=n, replace=True)\n",
    "    te_array = subdata[\"price\"] * gamma_fn(subdata) / (subdata[\"demand\"])\n",
    "    if stats == \"mean\":\n",
    "        return np.mean(te_array)\n",
    "    elif stats == \"median\":\n",
    "        return np.median(te_array)\n",
    "    elif isinstance(stats, int):\n",
    "        return np.percentile(te_array, stats)\n",
    "    \n",
    "def revenue_fn(data, discount_level1, discount_level2, baseline_T, policy):\n",
    "    policy_price = baseline_T * (1 - discount_level1) * policy + baseline_T * (1 - discount_level2) * (1 - policy)\n",
    "    demand = demand_fn(data, policy_price)\n",
    "    rev = demand * policy_price\n",
    "    return rev"
   ]
  },
  {
   "cell_type": "code",
   "execution_count": 22,
   "metadata": {},
   "outputs": [
    {
     "ename": "AssertionError",
     "evalue": "\n boundary for each variable must be a tuple of length two.",
     "output_type": "error",
     "traceback": [
      "\u001b[0;31m---------------------------------------------------------------------------\u001b[0m",
      "\u001b[0;31mAssertionError\u001b[0m                            Traceback (most recent call last)",
      "\u001b[0;32m<ipython-input-22-3fa209d2a8a1>\u001b[0m in \u001b[0;36m<module>\u001b[0;34m\u001b[0m\n\u001b[1;32m      5\u001b[0m          \u001b[0mdimension\u001b[0m\u001b[0;34m=\u001b[0m\u001b[0;36m10000\u001b[0m\u001b[0;34m,\u001b[0m\u001b[0;34m\u001b[0m\u001b[0;34m\u001b[0m\u001b[0m\n\u001b[1;32m      6\u001b[0m          \u001b[0mvariable_type_mixed\u001b[0m\u001b[0;34m=\u001b[0m\u001b[0mvartype\u001b[0m\u001b[0;34m,\u001b[0m\u001b[0;34m\u001b[0m\u001b[0;34m\u001b[0m\u001b[0m\n\u001b[0;32m----> 7\u001b[0;31m          variable_boundaries=varbound)\n\u001b[0m\u001b[1;32m      8\u001b[0m \u001b[0;34m\u001b[0m\u001b[0m\n\u001b[1;32m      9\u001b[0m \u001b[0mmodel\u001b[0m\u001b[0;34m.\u001b[0m\u001b[0mrun\u001b[0m\u001b[0;34m(\u001b[0m\u001b[0;34m)\u001b[0m\u001b[0;34m\u001b[0m\u001b[0;34m\u001b[0m\u001b[0m\n",
      "\u001b[0;32m~/.conda/envs/phd_env/lib/python3.7/site-packages/geneticalgorithm/geneticalgorithm.py\u001b[0m in \u001b[0;36m__init__\u001b[0;34m(self, function, dimension, variable_type, variable_boundaries, variable_type_mixed, function_timeout, algorithm_parameters)\u001b[0m\n\u001b[1;32m    180\u001b[0m             \u001b[0;32mfor\u001b[0m \u001b[0mi\u001b[0m \u001b[0;32min\u001b[0m \u001b[0mvariable_boundaries\u001b[0m\u001b[0;34m:\u001b[0m\u001b[0;34m\u001b[0m\u001b[0;34m\u001b[0m\u001b[0m\n\u001b[1;32m    181\u001b[0m                 \u001b[0;32massert\u001b[0m \u001b[0;34m(\u001b[0m\u001b[0mlen\u001b[0m\u001b[0;34m(\u001b[0m\u001b[0mi\u001b[0m\u001b[0;34m)\u001b[0m \u001b[0;34m==\u001b[0m \u001b[0;36m2\u001b[0m\u001b[0;34m)\u001b[0m\u001b[0;34m,\u001b[0m\u001b[0;31m \u001b[0m\u001b[0;31m\\\u001b[0m\u001b[0;34m\u001b[0m\u001b[0;34m\u001b[0m\u001b[0m\n\u001b[0;32m--> 182\u001b[0;31m                 \u001b[0;34m\"\\n boundary for each variable must be a tuple of length two.\"\u001b[0m\u001b[0;34m\u001b[0m\u001b[0;34m\u001b[0m\u001b[0m\n\u001b[0m\u001b[1;32m    183\u001b[0m                 \u001b[0;32massert\u001b[0m\u001b[0;34m(\u001b[0m\u001b[0mi\u001b[0m\u001b[0;34m[\u001b[0m\u001b[0;36m0\u001b[0m\u001b[0;34m]\u001b[0m\u001b[0;34m<=\u001b[0m\u001b[0mi\u001b[0m\u001b[0;34m[\u001b[0m\u001b[0;36m1\u001b[0m\u001b[0;34m]\u001b[0m\u001b[0;34m)\u001b[0m\u001b[0;34m,\u001b[0m\u001b[0;31m\\\u001b[0m\u001b[0;34m\u001b[0m\u001b[0;34m\u001b[0m\u001b[0m\n\u001b[1;32m    184\u001b[0m                 \u001b[0;34m\"\\n lower_boundaries must be smaller than upper_boundaries [lower,upper]\"\u001b[0m\u001b[0;34m\u001b[0m\u001b[0;34m\u001b[0m\u001b[0m\n",
      "\u001b[0;31mAssertionError\u001b[0m: \n boundary for each variable must be a tuple of length two."
     ]
    }
   ],
   "source": [
    "varbound=np.array(initial_population)\n",
    "vartype=np.array([['real'] for _ in range(10000)])\n",
    "\n",
    "model=ga(function=fitness_function,\n",
    "         dimension=10000,\n",
    "         variable_type_mixed=vartype,\n",
    "         variable_boundaries=varbound)\n",
    "\n",
    "model.run()\n"
   ]
  },
  {
   "cell_type": "code",
   "execution_count": 10,
   "metadata": {},
   "outputs": [
    {
     "data": {
      "text/plain": [
       "(10000, 3100)"
      ]
     },
     "execution_count": 10,
     "metadata": {},
     "output_type": "execute_result"
    }
   ],
   "source": [
    "varbound.shape"
   ]
  },
  {
   "cell_type": "code",
   "execution_count": 11,
   "metadata": {},
   "outputs": [
    {
     "name": "stdout",
     "output_type": "stream",
     "text": [
      " The best solution found:                                                                           \n",
      " [0.50017902 1.         0.        ]\n",
      "\n",
      " Objective function:\n",
      " 1.5001790188431277\n"
     ]
    },
    {
     "data": {
      "image/png": "[encoded data removed]",
      "text/plain": [
       "<Figure size 432x288 with 1 Axes>"
      ]
     },
     "metadata": {
      "needs_background": "light"
     },
     "output_type": "display_data"
    }
   ],
   "source": [
    "import numpy as np\n",
    "from geneticalgorithm import geneticalgorithm as ga\n",
    "\n",
    "def f(X):\n",
    "    return np.sum(X)\n",
    "\n",
    "varbound=np.array([[0.5,1.5],[1,100],[0,1]])\n",
    "vartype=np.array([['real'],['int'],['int']])\n",
    "model=ga(function=f,dimension=3,variable_type_mixed=vartype,variable_boundaries=varbound)\n",
    "\n",
    "model.run()\n"
   ]
  },
  {
   "cell_type": "code",
   "execution_count": 23,
   "metadata": {},
   "outputs": [],
   "source": [
    "import numpy as np\n",
    "from geneticalgorithm import geneticalgorithm as ga\n",
    "\n",
    "def f(X):\n",
    "    return -np.sum(X)\n",
    "\n",
    "varbound=np.array([[0,10]]*train_data.shape[0])\n",
    "\n",
    "# model=ga(function=f,dimension=train_data.shape[0],variable_type='real',variable_boundaries=varbound)\n",
    "\n",
    "# model.run()"
   ]
  },
  {
   "cell_type": "code",
   "execution_count": null,
   "metadata": {},
   "outputs": [
    {
     "name": "stdout",
     "output_type": "stream",
     "text": [
      "|||_______________________________________________ 5.6% GA is running..."
     ]
    }
   ],
   "source": [
    "model=ga(function=fitness_function,dimension=train_data.shape[0],variable_type='real',variable_boundaries=varbound)\n",
    "model.run()"
   ]
  }
 ],
 "metadata": {
  "kernelspec": {
   "display_name": "Python [conda env:.conda-phd_env] *",
   "language": "python",
   "name": "conda-env-.conda-phd_env-py"
  },
  "language_info": {
   "codemirror_mode": {
    "name": "ipython",
    "version": 3
   },
   "file_extension": ".py",
   "mimetype": "text/x-python",
   "name": "python",
   "nbconvert_exporter": "python",
   "pygments_lexer": "ipython3",
   "version": "3.7.7"
  },
  "toc": {
   "base_numbering": 1,
   "nav_menu": {},
   "number_sections": true,
   "sideBar": true,
   "skip_h1_title": false,
   "title_cell": "Table of Contents",
   "title_sidebar": "Contents",
   "toc_cell": false,
   "toc_position": {},
   "toc_section_display": true,
   "toc_window_display": false
  }
 },
 "nbformat": 4,
 "nbformat_minor": 4
}
