{
 "cells": [
  {
   "cell_type": "markdown",
   "metadata": {},
   "source": [
    "## Import library"
   ]
  },
  {
   "cell_type": "code",
   "execution_count": 47,
   "metadata": {},
   "outputs": [],
   "source": [
    "# importing required libraries\n",
    "import os, sys\n",
    "import sys\n",
    "sys.path.insert(1, '/home/dtd/Documents/interpretable_machine_learning/Source Code/my_work/lib')\n",
    "sys.path.insert(1, '/home/dtd/Documents/interpretable_machine_learning/Causal Inference/CEA')\n",
    "\n",
    "\n",
    "import numpy as np\n",
    "import pandas as pd\n",
    "import logging\n",
    "import dowhy.datasets\n",
    "import dowhy\n",
    "import propensity_score_estimator as pse\n",
    "import incremental_ps_score_estimator as ipse\n",
    "import math \n",
    "import timeit\n",
    "from scipy.stats import sem\n",
    "\n",
    "from dowhy import CausalModel\n",
    "from sklearn.linear_model import LogisticRegression\n",
    "from sklearn import metrics\n",
    "from sklearn.neighbors import NearestNeighbors\n",
    "from sklearn.ensemble import RandomForestRegressor\n",
    "from sklearn import metrics\n",
    "from sklearn.ensemble import RandomForestClassifier\n",
    "from sklearn.ensemble import GradientBoostingClassifier\n",
    "from sklearn.ensemble import GradientBoostingRegressor\n",
    "from sklearn.metrics import explained_variance_score\n",
    "from sklearn.model_selection import train_test_split\n",
    "from sklearn.model_selection import KFold\n",
    "from tqdm import tqdm\n",
    "from sklearn.metrics import mean_squared_error\n",
    "from math import sqrt\n",
    "import evaluation as evl"
   ]
  },
  {
   "cell_type": "markdown",
   "metadata": {},
   "source": [
    "## Loading Data"
   ]
  },
  {
   "cell_type": "code",
   "execution_count": 28,
   "metadata": {},
   "outputs": [],
   "source": [
    "DATA_PATH = \"/home/dtd/Documents/interpretable_machine_learning/Source Code/data/datasets/IHDP/csv/ihdp_npci_9.csv\"\n",
    "\n",
    "col =  [\"treatment\", \"y_factual\", \"y_cfactual\", \"mu0\", \"mu1\" ,]\n",
    "cov = [\"x\" + str(i) for i in range(1,26)]\n",
    "col = col + cov\n",
    "features = cov + [\"treatment\"]\n",
    "data = pd.read_csv(DATA_PATH, header = None, names = col)"
   ]
  },
  {
   "cell_type": "code",
   "execution_count": 29,
   "metadata": {},
   "outputs": [
    {
     "data": {
      "text/html": [
       "<div>\n",
       "<style scoped>\n",
       "    .dataframe tbody tr th:only-of-type {\n",
       "        vertical-align: middle;\n",
       "    }\n",
       "\n",
       "    .dataframe tbody tr th {\n",
       "        vertical-align: top;\n",
       "    }\n",
       "\n",
       "    .dataframe thead th {\n",
       "        text-align: right;\n",
       "    }\n",
       "</style>\n",
       "<table border=\"1\" class=\"dataframe\">\n",
       "  <thead>\n",
       "    <tr style=\"text-align: right;\">\n",
       "      <th></th>\n",
       "      <th>treatment</th>\n",
       "      <th>y_factual</th>\n",
       "      <th>y_cfactual</th>\n",
       "      <th>mu0</th>\n",
       "      <th>mu1</th>\n",
       "      <th>x1</th>\n",
       "      <th>x2</th>\n",
       "      <th>x3</th>\n",
       "      <th>x4</th>\n",
       "      <th>x5</th>\n",
       "      <th>...</th>\n",
       "      <th>x16</th>\n",
       "      <th>x17</th>\n",
       "      <th>x18</th>\n",
       "      <th>x19</th>\n",
       "      <th>x20</th>\n",
       "      <th>x21</th>\n",
       "      <th>x22</th>\n",
       "      <th>x23</th>\n",
       "      <th>x24</th>\n",
       "      <th>x25</th>\n",
       "    </tr>\n",
       "  </thead>\n",
       "  <tbody>\n",
       "    <tr>\n",
       "      <th>0</th>\n",
       "      <td>1</td>\n",
       "      <td>49.647921</td>\n",
       "      <td>34.950762</td>\n",
       "      <td>37.173291</td>\n",
       "      <td>50.383798</td>\n",
       "      <td>-0.528603</td>\n",
       "      <td>-0.343455</td>\n",
       "      <td>1.128554</td>\n",
       "      <td>0.161703</td>\n",
       "      <td>-0.316603</td>\n",
       "      <td>...</td>\n",
       "      <td>1</td>\n",
       "      <td>1</td>\n",
       "      <td>1</td>\n",
       "      <td>1</td>\n",
       "      <td>0</td>\n",
       "      <td>0</td>\n",
       "      <td>0</td>\n",
       "      <td>0</td>\n",
       "      <td>0</td>\n",
       "      <td>0</td>\n",
       "    </tr>\n",
       "    <tr>\n",
       "      <th>1</th>\n",
       "      <td>0</td>\n",
       "      <td>16.073412</td>\n",
       "      <td>49.435313</td>\n",
       "      <td>16.087249</td>\n",
       "      <td>49.546234</td>\n",
       "      <td>-1.736945</td>\n",
       "      <td>-1.802002</td>\n",
       "      <td>0.383828</td>\n",
       "      <td>2.244320</td>\n",
       "      <td>-0.629189</td>\n",
       "      <td>...</td>\n",
       "      <td>1</td>\n",
       "      <td>1</td>\n",
       "      <td>1</td>\n",
       "      <td>1</td>\n",
       "      <td>0</td>\n",
       "      <td>0</td>\n",
       "      <td>0</td>\n",
       "      <td>0</td>\n",
       "      <td>0</td>\n",
       "      <td>0</td>\n",
       "    </tr>\n",
       "    <tr>\n",
       "      <th>2</th>\n",
       "      <td>0</td>\n",
       "      <td>19.643007</td>\n",
       "      <td>48.598210</td>\n",
       "      <td>18.044855</td>\n",
       "      <td>49.661068</td>\n",
       "      <td>-0.807451</td>\n",
       "      <td>-0.202946</td>\n",
       "      <td>-0.360898</td>\n",
       "      <td>-0.879606</td>\n",
       "      <td>0.808706</td>\n",
       "      <td>...</td>\n",
       "      <td>1</td>\n",
       "      <td>0</td>\n",
       "      <td>1</td>\n",
       "      <td>1</td>\n",
       "      <td>0</td>\n",
       "      <td>0</td>\n",
       "      <td>0</td>\n",
       "      <td>0</td>\n",
       "      <td>0</td>\n",
       "      <td>0</td>\n",
       "    </tr>\n",
       "    <tr>\n",
       "      <th>3</th>\n",
       "      <td>0</td>\n",
       "      <td>26.368322</td>\n",
       "      <td>49.715204</td>\n",
       "      <td>24.605964</td>\n",
       "      <td>49.971196</td>\n",
       "      <td>0.390083</td>\n",
       "      <td>0.596582</td>\n",
       "      <td>-1.850350</td>\n",
       "      <td>-0.879606</td>\n",
       "      <td>-0.004017</td>\n",
       "      <td>...</td>\n",
       "      <td>1</td>\n",
       "      <td>0</td>\n",
       "      <td>1</td>\n",
       "      <td>1</td>\n",
       "      <td>0</td>\n",
       "      <td>0</td>\n",
       "      <td>0</td>\n",
       "      <td>0</td>\n",
       "      <td>0</td>\n",
       "      <td>0</td>\n",
       "    </tr>\n",
       "    <tr>\n",
       "      <th>4</th>\n",
       "      <td>0</td>\n",
       "      <td>20.258893</td>\n",
       "      <td>51.147418</td>\n",
       "      <td>20.612816</td>\n",
       "      <td>49.794120</td>\n",
       "      <td>-1.045229</td>\n",
       "      <td>-0.602710</td>\n",
       "      <td>0.011465</td>\n",
       "      <td>0.161703</td>\n",
       "      <td>0.683672</td>\n",
       "      <td>...</td>\n",
       "      <td>1</td>\n",
       "      <td>1</td>\n",
       "      <td>1</td>\n",
       "      <td>1</td>\n",
       "      <td>0</td>\n",
       "      <td>0</td>\n",
       "      <td>0</td>\n",
       "      <td>0</td>\n",
       "      <td>0</td>\n",
       "      <td>0</td>\n",
       "    </tr>\n",
       "  </tbody>\n",
       "</table>\n",
       "<p>5 rows × 30 columns</p>\n",
       "</div>"
      ],
      "text/plain": [
       "   treatment  y_factual  y_cfactual        mu0        mu1        x1        x2  \\\n",
       "0          1  49.647921   34.950762  37.173291  50.383798 -0.528603 -0.343455   \n",
       "1          0  16.073412   49.435313  16.087249  49.546234 -1.736945 -1.802002   \n",
       "2          0  19.643007   48.598210  18.044855  49.661068 -0.807451 -0.202946   \n",
       "3          0  26.368322   49.715204  24.605964  49.971196  0.390083  0.596582   \n",
       "4          0  20.258893   51.147418  20.612816  49.794120 -1.045229 -0.602710   \n",
       "\n",
       "         x3        x4        x5  ...  x16  x17  x18  x19  x20  x21  x22  x23  \\\n",
       "0  1.128554  0.161703 -0.316603  ...    1    1    1    1    0    0    0    0   \n",
       "1  0.383828  2.244320 -0.629189  ...    1    1    1    1    0    0    0    0   \n",
       "2 -0.360898 -0.879606  0.808706  ...    1    0    1    1    0    0    0    0   \n",
       "3 -1.850350 -0.879606 -0.004017  ...    1    0    1    1    0    0    0    0   \n",
       "4  0.011465  0.161703  0.683672  ...    1    1    1    1    0    0    0    0   \n",
       "\n",
       "   x24  x25  \n",
       "0    0    0  \n",
       "1    0    0  \n",
       "2    0    0  \n",
       "3    0    0  \n",
       "4    0    0  \n",
       "\n",
       "[5 rows x 30 columns]"
      ]
     },
     "execution_count": 29,
     "metadata": {},
     "output_type": "execute_result"
    }
   ],
   "source": [
    "data.head()"
   ]
  },
  {
   "cell_type": "code",
   "execution_count": 3,
   "metadata": {},
   "outputs": [],
   "source": [
    "data['treatment'] = [bool(x) for x in data['treatment']]"
   ]
  },
  {
   "cell_type": "code",
   "execution_count": 4,
   "metadata": {},
   "outputs": [
    {
     "data": {
      "image/png": "[encoded data removed]",
      "text/latex": [
       "$\\displaystyle 10.466037316008876$"
      ],
      "text/plain": [
       "10.466037316008876"
      ]
     },
     "execution_count": 4,
     "metadata": {},
     "output_type": "execute_result"
    }
   ],
   "source": [
    "np.mean(data.mu1 - data.mu0)"
   ]
  },
  {
   "cell_type": "markdown",
   "metadata": {},
   "source": [
    "## Model "
   ]
  },
  {
   "cell_type": "code",
   "execution_count": 5,
   "metadata": {},
   "outputs": [
    {
     "name": "stderr",
     "output_type": "stream",
     "text": [
      "WARNING:dowhy.causal_model:Causal Graph not provided. DoWhy will construct a graph based on data inputs.\n",
      "INFO:dowhy.causal_graph:If this is observed data (not from a randomized experiment), there might always be missing confounders. Adding a node named \"Unobserved Confounders\" to reflect this.\n",
      "INFO:dowhy.causal_model:Model to find the causal effect of treatment ['treatment'] on outcome ['y_factual']\n"
     ]
    }
   ],
   "source": [
    "model=CausalModel(\n",
    "        data = data,\n",
    "        treatment='treatment',\n",
    "        outcome='y_factual',\n",
    "        common_causes=cov\n",
    "        )"
   ]
  },
  {
   "cell_type": "code",
   "execution_count": 6,
   "metadata": {},
   "outputs": [
    {
     "name": "stderr",
     "output_type": "stream",
     "text": [
      "INFO:dowhy.causal_identifier:Common causes of treatment and outcome:['x5', 'x6', 'x7', 'x25', 'x11', 'x13', 'x22', 'x1', 'x3', 'x4', 'x8', 'x16', 'U', 'x10', 'x23', 'x24', 'x15', 'x18', 'x19', 'x20', 'x12', 'x9', 'x14', 'x17', 'x2', 'x21']\n",
      "WARNING:dowhy.causal_identifier:If this is observed data (not from a randomized experiment), there might always be missing confounders. Causal effect cannot be identified perfectly.\n"
     ]
    },
    {
     "name": "stdout",
     "output_type": "stream",
     "text": [
      "WARN: Do you want to continue by ignoring any unobserved confounders? (use proceed_when_unidentifiable=True to disable this prompt) [y/n] y\n"
     ]
    },
    {
     "name": "stderr",
     "output_type": "stream",
     "text": [
      "INFO:dowhy.causal_identifier:Instrumental variables for treatment and outcome:[]\n"
     ]
    }
   ],
   "source": [
    "identified_estimand = model.identify_effect()"
   ]
  },
  {
   "cell_type": "code",
   "execution_count": 7,
   "metadata": {},
   "outputs": [
    {
     "data": {
      "text/plain": [
       "<dowhy.causal_identifier.IdentifiedEstimand at 0x7f6684a9a1d0>"
      ]
     },
     "execution_count": 7,
     "metadata": {},
     "output_type": "execute_result"
    }
   ],
   "source": [
    "identified_estimand"
   ]
  },
  {
   "cell_type": "markdown",
   "metadata": {},
   "source": [
    "## Estimation "
   ]
  },
  {
   "cell_type": "markdown",
   "metadata": {},
   "source": [
    "### Linear regression"
   ]
  },
  {
   "cell_type": "code",
   "execution_count": 8,
   "metadata": {},
   "outputs": [
    {
     "name": "stderr",
     "output_type": "stream",
     "text": [
      "INFO:dowhy.causal_estimator:INFO: Using Linear Regression Estimator\n",
      "INFO:dowhy.causal_estimator:b: y_factual~treatment+x5+x6+x7+x25+x11+x13+x22+x1+x3+x4+x8+x16+x10+x23+x24+x15+x18+x19+x20+x12+x9+x14+x17+x2+x21\n"
     ]
    },
    {
     "name": "stdout",
     "output_type": "stream",
     "text": [
      "                            OLS Regression Results                            \n",
      "==============================================================================\n",
      "Dep. Variable:              y_factual   R-squared:                       0.710\n",
      "Model:                            OLS   Adj. R-squared:                  0.699\n",
      "Method:                 Least Squares   F-statistic:                     67.72\n",
      "Date:                Mon, 08 Jun 2020   Prob (F-statistic):          7.98e-174\n",
      "Time:                        13:29:23   Log-Likelihood:                -3006.9\n",
      "No. Observations:                 747   AIC:                             6068.\n",
      "Df Residuals:                     720   BIC:                             6193.\n",
      "Df Model:                          26                                         \n",
      "Covariance Type:            nonrobust                                         \n",
      "==============================================================================\n",
      "                 coef    std err          t      P>|t|      [0.025      0.975]\n",
      "------------------------------------------------------------------------------\n",
      "const         12.9878      5.467      2.376      0.018       2.255      23.721\n",
      "x1             4.7629      1.377      3.459      0.001       2.060       7.466\n",
      "x2             4.5823      0.558      8.218      0.000       3.488       5.677\n",
      "x3             7.1518      0.705     10.151      0.000       5.769       8.535\n",
      "x4            12.6900      1.048     12.104      0.000      10.632      14.748\n",
      "x5            15.9931      1.946      8.219      0.000      12.173      19.813\n",
      "x6            -0.3925      1.926     -0.204      0.839      -4.174       3.389\n",
      "x7             2.5327      1.142      2.218      0.027       0.291       4.774\n",
      "x8             0.8922      2.424      0.368      0.713      -3.868       5.652\n",
      "x9             9.8018      1.135      8.634      0.000       7.573      12.031\n",
      "x10           -1.1705      0.866     -1.351      0.177      -2.871       0.530\n",
      "x11            0.2961      0.931      0.318      0.751      -1.533       2.125\n",
      "x12           -2.9825      1.822     -1.637      0.102      -6.559       0.594\n",
      "x13            7.9508      2.719      2.924      0.004       2.613      13.289\n",
      "x14            6.4869      2.089      3.105      0.002       2.385      10.589\n",
      "x15            5.9648      2.450      2.435      0.015       1.155      10.775\n",
      "x16           -0.6584      2.164     -0.304      0.761      -4.907       3.590\n",
      "x17           13.7972      1.556      8.868      0.000      10.743      16.852\n",
      "x18           -2.0863      2.813     -0.742      0.459      -7.609       3.437\n",
      "x19            6.6008      2.009      3.286      0.001       2.657      10.545\n",
      "x20            5.7960      2.066      2.805      0.005       1.740       9.852\n",
      "x21           -0.4947      1.823     -0.271      0.786      -4.074       3.085\n",
      "x22            9.0702      1.226      7.400      0.000       6.664      11.477\n",
      "x23           -0.3754      1.814     -0.207      0.836      -3.936       3.185\n",
      "x24            1.3603      1.165      1.168      0.243      -0.926       3.647\n",
      "x25            5.0229      1.027      4.889      0.000       3.006       7.040\n",
      "x26            0.8910      1.929      0.462      0.644      -2.896       4.678\n",
      "==============================================================================\n",
      "Omnibus:                      526.062   Durbin-Watson:                   1.942\n",
      "Prob(Omnibus):                  0.000   Jarque-Bera (JB):            15524.677\n",
      "Skew:                           2.754   Prob(JB):                         0.00\n",
      "Kurtosis:                      24.644   Cond. No.                         31.5\n",
      "==============================================================================\n",
      "\n",
      "Warnings:\n",
      "[1] Standard Errors assume that the covariance matrix of the errors is correctly specified.\n",
      "Estimation 4.762883986484667\n",
      "True effect is  12.099236263689896\n"
     ]
    }
   ],
   "source": [
    "# Estimate the causal effect and compare it with Average Treatment Effect\n",
    "estimate = model.estimate_effect(identified_estimand,\n",
    "        method_name=\"backdoor.linear_regression\", test_significance=True\n",
    ")\n",
    "print(\"Estimation \" + str(estimate.value))\n",
    "data_1 = data[data[\"treatment\"]==1]\n",
    "data_0 = data[data[\"treatment\"]==0]\n",
    "true_effect = np.mean(data_1[\"y_factual\"])- np.mean(data_0[\"y_factual\"])\n",
    "print(\"True effect is \", np.mean(data_1[\"y_factual\"])- np.mean(data_0[\"y_factual\"]))"
   ]
  },
  {
   "cell_type": "markdown",
   "metadata": {},
   "source": [
    "### Propensity score - K-nearest neighbor"
   ]
  },
  {
   "cell_type": "code",
   "execution_count": 9,
   "metadata": {},
   "outputs": [
    {
     "name": "stderr",
     "output_type": "stream",
     "text": [
      "INFO:dowhy.causal_estimator:INFO: Using Propensity Score Matching Estimator\n",
      "INFO:dowhy.causal_estimator:b: y_factual~treatment+x5+x6+x7+x25+x11+x13+x22+x1+x3+x4+x8+x16+x10+x23+x24+x15+x18+x19+x20+x12+x9+x14+x17+x2+x21\n",
      "/home/dtd/.conda/envs/phd_env/lib/python3.7/site-packages/sklearn/utils/validation.py:760: DataConversionWarning: A column-vector y was passed when a 1d array was expected. Please change the shape of y to (n_samples, ), for example using ravel().\n",
      "  y = column_or_1d(y, warn=True)\n"
     ]
    },
    {
     "name": "stdout",
     "output_type": "stream",
     "text": [
      "Estimation 10.004886150643943\n",
      "True effect is  12.099236263689896\n"
     ]
    }
   ],
   "source": [
    "estimate = model.estimate_effect(identified_estimand,\n",
    "        method_name=\"backdoor.propensity_score_matching\"\n",
    ")\n",
    "\n",
    "print(\"Estimation \" + str(estimate.value))\n",
    "print(\"True effect is \", np.mean(data_1[\"y_factual\"])- np.mean(data_0[\"y_factual\"]))"
   ]
  },
  {
   "cell_type": "markdown",
   "metadata": {},
   "source": [
    "### Using Propensity Score Stratification"
   ]
  },
  {
   "cell_type": "code",
   "execution_count": 10,
   "metadata": {},
   "outputs": [
    {
     "name": "stderr",
     "output_type": "stream",
     "text": [
      "INFO:dowhy.causal_estimator:INFO: Using Propensity Score Stratification Estimator\n",
      "INFO:dowhy.causal_estimator:b: y_factual~treatment+x5+x6+x7+x25+x11+x13+x22+x1+x3+x4+x8+x16+x10+x23+x24+x15+x18+x19+x20+x12+x9+x14+x17+x2+x21\n"
     ]
    },
    {
     "name": "stdout",
     "output_type": "stream",
     "text": [
      "Causal Estimate is -7.251550363097652\n",
      "ATE 12.099236263689896\n"
     ]
    },
    {
     "name": "stderr",
     "output_type": "stream",
     "text": [
      "/home/dtd/.conda/envs/phd_env/lib/python3.7/site-packages/sklearn/utils/validation.py:760: DataConversionWarning: A column-vector y was passed when a 1d array was expected. Please change the shape of y to (n_samples, ), for example using ravel().\n",
      "  y = column_or_1d(y, warn=True)\n"
     ]
    }
   ],
   "source": [
    "estimate = model.estimate_effect(identified_estimand,\n",
    "        method_name=\"backdoor.propensity_score_stratification\", method_params={'num_strata':50, 'clipping_threshold':5}\n",
    ")\n",
    "\n",
    "print(\"Causal Estimate is \" + str(estimate.value))\n",
    "print(\"ATE\", np.mean(data_1[\"y_factual\"])- np.mean(data_0[\"y_factual\"]))\n"
   ]
  },
  {
   "cell_type": "markdown",
   "metadata": {},
   "source": [
    "### Using Propensity Score Weighting"
   ]
  },
  {
   "cell_type": "code",
   "execution_count": 11,
   "metadata": {},
   "outputs": [
    {
     "name": "stderr",
     "output_type": "stream",
     "text": [
      "INFO:dowhy.causal_estimator:INFO: Using Propensity Score Weighting Estimator\n",
      "INFO:dowhy.causal_estimator:b: y_factual~treatment+x5+x6+x7+x25+x11+x13+x22+x1+x3+x4+x8+x16+x10+x23+x24+x15+x18+x19+x20+x12+x9+x14+x17+x2+x21\n",
      "/home/dtd/.conda/envs/phd_env/lib/python3.7/site-packages/sklearn/utils/validation.py:760: DataConversionWarning: A column-vector y was passed when a 1d array was expected. Please change the shape of y to (n_samples, ), for example using ravel().\n",
      "  y = column_or_1d(y, warn=True)\n"
     ]
    },
    {
     "name": "stdout",
     "output_type": "stream",
     "text": [
      "Causal Estimate is 5.218830625256629\n",
      "ATE 12.099236263689896\n"
     ]
    }
   ],
   "source": [
    "estimate = model.estimate_effect(identified_estimand,\n",
    "        method_name=\"backdoor.propensity_score_weighting\"\n",
    ")\n",
    "\n",
    "print(\"Causal Estimate is \" + str(estimate.value))\n",
    "print(\"ATE\", np.mean(data_1[\"y_factual\"])- np.mean(data_0[\"y_factual\"]))\n"
   ]
  },
  {
   "cell_type": "markdown",
   "metadata": {},
   "source": [
    "## Z-estimator with library"
   ]
  },
  {
   "cell_type": "code",
   "execution_count": 30,
   "metadata": {},
   "outputs": [
    {
     "data": {
      "text/html": [
       "<div>\n",
       "<style scoped>\n",
       "    .dataframe tbody tr th:only-of-type {\n",
       "        vertical-align: middle;\n",
       "    }\n",
       "\n",
       "    .dataframe tbody tr th {\n",
       "        vertical-align: top;\n",
       "    }\n",
       "\n",
       "    .dataframe thead th {\n",
       "        text-align: right;\n",
       "    }\n",
       "</style>\n",
       "<table border=\"1\" class=\"dataframe\">\n",
       "  <thead>\n",
       "    <tr style=\"text-align: right;\">\n",
       "      <th></th>\n",
       "      <th>treatment</th>\n",
       "      <th>y_factual</th>\n",
       "      <th>y_cfactual</th>\n",
       "      <th>mu0</th>\n",
       "      <th>mu1</th>\n",
       "      <th>x1</th>\n",
       "      <th>x2</th>\n",
       "      <th>x3</th>\n",
       "      <th>x4</th>\n",
       "      <th>x5</th>\n",
       "      <th>...</th>\n",
       "      <th>x16</th>\n",
       "      <th>x17</th>\n",
       "      <th>x18</th>\n",
       "      <th>x19</th>\n",
       "      <th>x20</th>\n",
       "      <th>x21</th>\n",
       "      <th>x22</th>\n",
       "      <th>x23</th>\n",
       "      <th>x24</th>\n",
       "      <th>x25</th>\n",
       "    </tr>\n",
       "  </thead>\n",
       "  <tbody>\n",
       "    <tr>\n",
       "      <th>0</th>\n",
       "      <td>1</td>\n",
       "      <td>49.647921</td>\n",
       "      <td>34.950762</td>\n",
       "      <td>37.173291</td>\n",
       "      <td>50.383798</td>\n",
       "      <td>-0.528603</td>\n",
       "      <td>-0.343455</td>\n",
       "      <td>1.128554</td>\n",
       "      <td>0.161703</td>\n",
       "      <td>-0.316603</td>\n",
       "      <td>...</td>\n",
       "      <td>1</td>\n",
       "      <td>1</td>\n",
       "      <td>1</td>\n",
       "      <td>1</td>\n",
       "      <td>0</td>\n",
       "      <td>0</td>\n",
       "      <td>0</td>\n",
       "      <td>0</td>\n",
       "      <td>0</td>\n",
       "      <td>0</td>\n",
       "    </tr>\n",
       "    <tr>\n",
       "      <th>1</th>\n",
       "      <td>0</td>\n",
       "      <td>16.073412</td>\n",
       "      <td>49.435313</td>\n",
       "      <td>16.087249</td>\n",
       "      <td>49.546234</td>\n",
       "      <td>-1.736945</td>\n",
       "      <td>-1.802002</td>\n",
       "      <td>0.383828</td>\n",
       "      <td>2.244320</td>\n",
       "      <td>-0.629189</td>\n",
       "      <td>...</td>\n",
       "      <td>1</td>\n",
       "      <td>1</td>\n",
       "      <td>1</td>\n",
       "      <td>1</td>\n",
       "      <td>0</td>\n",
       "      <td>0</td>\n",
       "      <td>0</td>\n",
       "      <td>0</td>\n",
       "      <td>0</td>\n",
       "      <td>0</td>\n",
       "    </tr>\n",
       "    <tr>\n",
       "      <th>2</th>\n",
       "      <td>0</td>\n",
       "      <td>19.643007</td>\n",
       "      <td>48.598210</td>\n",
       "      <td>18.044855</td>\n",
       "      <td>49.661068</td>\n",
       "      <td>-0.807451</td>\n",
       "      <td>-0.202946</td>\n",
       "      <td>-0.360898</td>\n",
       "      <td>-0.879606</td>\n",
       "      <td>0.808706</td>\n",
       "      <td>...</td>\n",
       "      <td>1</td>\n",
       "      <td>0</td>\n",
       "      <td>1</td>\n",
       "      <td>1</td>\n",
       "      <td>0</td>\n",
       "      <td>0</td>\n",
       "      <td>0</td>\n",
       "      <td>0</td>\n",
       "      <td>0</td>\n",
       "      <td>0</td>\n",
       "    </tr>\n",
       "    <tr>\n",
       "      <th>3</th>\n",
       "      <td>0</td>\n",
       "      <td>26.368322</td>\n",
       "      <td>49.715204</td>\n",
       "      <td>24.605964</td>\n",
       "      <td>49.971196</td>\n",
       "      <td>0.390083</td>\n",
       "      <td>0.596582</td>\n",
       "      <td>-1.850350</td>\n",
       "      <td>-0.879606</td>\n",
       "      <td>-0.004017</td>\n",
       "      <td>...</td>\n",
       "      <td>1</td>\n",
       "      <td>0</td>\n",
       "      <td>1</td>\n",
       "      <td>1</td>\n",
       "      <td>0</td>\n",
       "      <td>0</td>\n",
       "      <td>0</td>\n",
       "      <td>0</td>\n",
       "      <td>0</td>\n",
       "      <td>0</td>\n",
       "    </tr>\n",
       "    <tr>\n",
       "      <th>4</th>\n",
       "      <td>0</td>\n",
       "      <td>20.258893</td>\n",
       "      <td>51.147418</td>\n",
       "      <td>20.612816</td>\n",
       "      <td>49.794120</td>\n",
       "      <td>-1.045229</td>\n",
       "      <td>-0.602710</td>\n",
       "      <td>0.011465</td>\n",
       "      <td>0.161703</td>\n",
       "      <td>0.683672</td>\n",
       "      <td>...</td>\n",
       "      <td>1</td>\n",
       "      <td>1</td>\n",
       "      <td>1</td>\n",
       "      <td>1</td>\n",
       "      <td>0</td>\n",
       "      <td>0</td>\n",
       "      <td>0</td>\n",
       "      <td>0</td>\n",
       "      <td>0</td>\n",
       "      <td>0</td>\n",
       "    </tr>\n",
       "  </tbody>\n",
       "</table>\n",
       "<p>5 rows × 30 columns</p>\n",
       "</div>"
      ],
      "text/plain": [
       "   treatment  y_factual  y_cfactual        mu0        mu1        x1        x2  \\\n",
       "0          1  49.647921   34.950762  37.173291  50.383798 -0.528603 -0.343455   \n",
       "1          0  16.073412   49.435313  16.087249  49.546234 -1.736945 -1.802002   \n",
       "2          0  19.643007   48.598210  18.044855  49.661068 -0.807451 -0.202946   \n",
       "3          0  26.368322   49.715204  24.605964  49.971196  0.390083  0.596582   \n",
       "4          0  20.258893   51.147418  20.612816  49.794120 -1.045229 -0.602710   \n",
       "\n",
       "         x3        x4        x5  ...  x16  x17  x18  x19  x20  x21  x22  x23  \\\n",
       "0  1.128554  0.161703 -0.316603  ...    1    1    1    1    0    0    0    0   \n",
       "1  0.383828  2.244320 -0.629189  ...    1    1    1    1    0    0    0    0   \n",
       "2 -0.360898 -0.879606  0.808706  ...    1    0    1    1    0    0    0    0   \n",
       "3 -1.850350 -0.879606 -0.004017  ...    1    0    1    1    0    0    0    0   \n",
       "4  0.011465  0.161703  0.683672  ...    1    1    1    1    0    0    0    0   \n",
       "\n",
       "   x24  x25  \n",
       "0    0    0  \n",
       "1    0    0  \n",
       "2    0    0  \n",
       "3    0    0  \n",
       "4    0    0  \n",
       "\n",
       "[5 rows x 30 columns]"
      ]
     },
     "execution_count": 30,
     "metadata": {},
     "output_type": "execute_result"
    }
   ],
   "source": [
    "DATA_PATH = \"/home/dtd/Documents/interpretable_machine_learning/Source Code/data/datasets/IHDP/csv/ihdp_npci_9.csv\"\n",
    "col =  [\"treatment\", \"y_factual\", \"y_cfactual\", \"mu0\", \"mu1\" ,]\n",
    "cov = [\"x\" + str(i) for i in range(1,26)]\n",
    "col = col + cov\n",
    "features = cov + [\"treatment\"]\n",
    "data = pd.read_csv(DATA_PATH, header = None, names = col)\n",
    "data.head()"
   ]
  },
  {
   "cell_type": "code",
   "execution_count": 38,
   "metadata": {},
   "outputs": [],
   "source": [
    "true_effect = np.mean(data['mu1'] - data['mu0'])"
   ]
  },
  {
   "cell_type": "code",
   "execution_count": 39,
   "metadata": {},
   "outputs": [
    {
     "data": {
      "text/plain": [
       "GradientBoostingRegressor(alpha=0.9, ccp_alpha=0.0, criterion='friedman_mse',\n",
       "                          init=None, learning_rate=0.1, loss='ls', max_depth=3,\n",
       "                          max_features=None, max_leaf_nodes=None,\n",
       "                          min_impurity_decrease=0.0, min_impurity_split=None,\n",
       "                          min_samples_leaf=1, min_samples_split=2,\n",
       "                          min_weight_fraction_leaf=0.0, n_estimators=5000,\n",
       "                          n_iter_no_change=None, presort='deprecated',\n",
       "                          random_state=0, subsample=1.0, tol=0.0001,\n",
       "                          validation_fraction=0.1, verbose=0, warm_start=False)"
      ]
     },
     "execution_count": 39,
     "metadata": {},
     "output_type": "execute_result"
    }
   ],
   "source": [
    "delta_seq = np.linspace(0.5, 8, 50)\n",
    "treatment = 'treatment'\n",
    "outcome = 'y_factual'\n",
    "\n",
    "## Fit treatment \n",
    "model_t = LogisticRegression()\n",
    "model_t.fit(data[cov], data[treatment])\n",
    "\n",
    "## Fit outcome\n",
    "model_y = GradientBoostingRegressor(random_state=0, n_estimators = 5000)\n",
    "model_y.fit(data[features], data[outcome])"
   ]
  },
  {
   "cell_type": "code",
   "execution_count": 40,
   "metadata": {},
   "outputs": [
    {
     "name": "stderr",
     "output_type": "stream",
     "text": [
      "100%|██████████| 50/50 [00:01<00:00, 40.75it/s]\n"
     ]
    }
   ],
   "source": [
    "causal_effect = ipse.z_estimator(data, treatment, cov, outcome, delta_seq, model_t, model_y)"
   ]
  },
  {
   "cell_type": "code",
   "execution_count": 41,
   "metadata": {},
   "outputs": [
    {
     "data": {
      "image/png": "[encoded data removed]",
      "text/latex": [
       "$\\displaystyle 42.27944797697209$"
      ],
      "text/plain": [
       "42.27944797697209"
      ]
     },
     "execution_count": 41,
     "metadata": {},
     "output_type": "execute_result"
    }
   ],
   "source": [
    "causal_effect"
   ]
  },
  {
   "cell_type": "code",
   "execution_count": 42,
   "metadata": {},
   "outputs": [
    {
     "data": {
      "image/png": "[encoded data removed]",
      "text/latex": [
       "$\\displaystyle 10.466037316008876$"
      ],
      "text/plain": [
       "10.466037316008876"
      ]
     },
     "execution_count": 42,
     "metadata": {},
     "output_type": "execute_result"
    }
   ],
   "source": [
    "true_effect"
   ]
  },
  {
   "cell_type": "markdown",
   "metadata": {},
   "source": [
    "## Evaluation "
   ]
  },
  {
   "cell_type": "markdown",
   "metadata": {},
   "source": [
    "## Do experiment "
   ]
  },
  {
   "cell_type": "code",
   "execution_count": 48,
   "metadata": {},
   "outputs": [],
   "source": [
    "def experiment_z_estimator(data, treatment, cov, outcome, delta_seq):\n",
    "    ## Fit treatment \n",
    "    model_t = LogisticRegression()\n",
    "    model_t.fit(data[cov], data[treatment])\n",
    "\n",
    "    ## Fit outcome\n",
    "    model_y = GradientBoostingRegressor(random_state=0, n_estimators = 5000)\n",
    "    model_y.fit(data[features], data[outcome]) \n",
    "    \n",
    "    ## Calculate causal effect\n",
    "    estimation_effect = ipse.z_estimator(data, treatment, cov, outcome, delta_seq, model_t, model_y)\n",
    "    true_effect = np.mean(data['mu1'] - data['mu0'])\n",
    "    \n",
    "    # print(\"Estimation effect {}\".format(estimation_effect))\n",
    "    # print(\"True effect {}\".format(true_effect))\n",
    "    # print(data[['treatment', 'y_factual', 'y_cfactual', 'treated_cf_outcome', 'control_cf_outcome', \"ps_0\", \"ps_1\"]].head(20))\n",
    "    \n",
    "    del model_t, model_y\n",
    "    \n",
    "    return evl.mae_ate(true_effect, estimation_effect)"
   ]
  },
  {
   "cell_type": "code",
   "execution_count": 49,
   "metadata": {},
   "outputs": [],
   "source": [
    "col =  [\"treatment\", \"y_factual\", \"y_cfactual\", \"mu0\", \"mu1\" ]\n",
    "cov = [\"x\" + str(i) for i in range(1,26)]\n",
    "col = col + cov\n",
    "features = cov + [\"treatment\"]\n"
   ]
  },
  {
   "cell_type": "code",
   "execution_count": 50,
   "metadata": {},
   "outputs": [],
   "source": [
    "delta_seq = np.linspace(0.5, 8, 50)\n",
    "treatment = 'treatment'\n",
    "outcome = 'y_factual'"
   ]
  },
  {
   "cell_type": "code",
   "execution_count": null,
   "metadata": {},
   "outputs": [
    {
     "name": "stderr",
     "output_type": "stream",
     "text": [
      "  0%|          | 0/10 [00:00<?, ?it/s]\n",
      "  0%|          | 0/50 [00:00<?, ?it/s]\u001b[A\n",
      " 10%|█         | 5/50 [00:00<00:01, 42.71it/s]\u001b[A\n",
      " 20%|██        | 10/50 [00:00<00:00, 42.48it/s]\u001b[A\n",
      " 30%|███       | 15/50 [00:00<00:00, 42.52it/s]\u001b[A\n",
      " 40%|████      | 20/50 [00:00<00:00, 42.29it/s]\u001b[A\n",
      " 50%|█████     | 25/50 [00:00<00:00, 41.94it/s]\u001b[A\n",
      " 58%|█████▊    | 29/50 [00:00<00:00, 41.20it/s]\u001b[A\n",
      " 66%|██████▌   | 33/50 [00:00<00:00, 40.18it/s]\u001b[A\n",
      " 74%|███████▍  | 37/50 [00:00<00:00, 39.73it/s]\u001b[A\n",
      " 84%|████████▍ | 42/50 [00:01<00:00, 40.43it/s]\u001b[A\n",
      "100%|██████████| 50/50 [00:01<00:00, 41.04it/s]\u001b[A\n",
      " 10%|█         | 1/10 [00:05<00:52,  5.81s/it]"
     ]
    },
    {
     "name": "stdout",
     "output_type": "stream",
     "text": [
      "Estimation effect 4.024316717821617\n",
      "True effect 4.016066896118338\n"
     ]
    },
    {
     "name": "stderr",
     "output_type": "stream",
     "text": [
      "\n",
      "  0%|          | 0/50 [00:00<?, ?it/s]\u001b[A\n",
      "  8%|▊         | 4/50 [00:00<00:01, 34.99it/s]\u001b[A\n",
      " 18%|█▊        | 9/50 [00:00<00:01, 36.64it/s]\u001b[A\n",
      " 26%|██▌       | 13/50 [00:00<00:01, 36.23it/s]\u001b[A\n",
      " 36%|███▌      | 18/50 [00:00<00:00, 37.98it/s]\u001b[A\n",
      " 44%|████▍     | 22/50 [00:00<00:00, 38.39it/s]\u001b[A\n",
      " 52%|█████▏    | 26/50 [00:00<00:00, 38.70it/s]\u001b[A\n",
      " 60%|██████    | 30/50 [00:00<00:00, 38.80it/s]\u001b[A\n",
      " 68%|██████▊   | 34/50 [00:00<00:00, 38.05it/s]\u001b[A\n",
      " 76%|███████▌  | 38/50 [00:00<00:00, 37.37it/s]\u001b[A\n",
      " 86%|████████▌ | 43/50 [00:01<00:00, 38.81it/s]\u001b[A\n",
      "100%|██████████| 50/50 [00:01<00:00, 38.63it/s]\u001b[A\n",
      " 20%|██        | 2/10 [00:11<00:46,  5.87s/it]"
     ]
    },
    {
     "name": "stdout",
     "output_type": "stream",
     "text": [
      "Estimation effect 5.865021592610935\n",
      "True effect 4.050838760043126\n"
     ]
    },
    {
     "name": "stderr",
     "output_type": "stream",
     "text": [
      "\n",
      "  0%|          | 0/50 [00:00<?, ?it/s]\u001b[A\n",
      " 10%|█         | 5/50 [00:00<00:01, 41.19it/s]\u001b[A\n",
      " 20%|██        | 10/50 [00:00<00:00, 41.18it/s]\u001b[A\n",
      " 30%|███       | 15/50 [00:00<00:00, 41.30it/s]\u001b[A\n",
      " 40%|████      | 20/50 [00:00<00:00, 41.53it/s]\u001b[A\n",
      " 50%|█████     | 25/50 [00:00<00:00, 41.69it/s]\u001b[A\n",
      " 60%|██████    | 30/50 [00:00<00:00, 42.10it/s]\u001b[A\n",
      " 70%|███████   | 35/50 [00:00<00:00, 41.98it/s]\u001b[A\n",
      " 80%|████████  | 40/50 [00:00<00:00, 41.81it/s]\u001b[A\n",
      " 90%|█████████ | 45/50 [00:01<00:00, 42.11it/s]\u001b[A\n",
      "100%|██████████| 50/50 [00:01<00:00, 41.91it/s]\u001b[A\n",
      " 30%|███       | 3/10 [00:17<00:40,  5.83s/it]"
     ]
    },
    {
     "name": "stdout",
     "output_type": "stream",
     "text": [
      "Estimation effect 4.9015546280941376\n",
      "True effect 4.099163647971287\n"
     ]
    },
    {
     "name": "stderr",
     "output_type": "stream",
     "text": [
      "\n",
      "  0%|          | 0/50 [00:00<?, ?it/s]\u001b[A\n",
      " 10%|█         | 5/50 [00:00<00:01, 42.90it/s]\u001b[A\n",
      " 20%|██        | 10/50 [00:00<00:00, 42.85it/s]\u001b[A\n",
      " 30%|███       | 15/50 [00:00<00:00, 42.62it/s]\u001b[A\n",
      " 40%|████      | 20/50 [00:00<00:00, 42.86it/s]\u001b[A\n",
      " 50%|█████     | 25/50 [00:00<00:00, 42.83it/s]\u001b[A\n",
      " 58%|█████▊    | 29/50 [00:00<00:00, 41.82it/s]\u001b[A\n",
      " 68%|██████▊   | 34/50 [00:00<00:00, 41.91it/s]\u001b[A\n",
      " 78%|███████▊  | 39/50 [00:00<00:00, 41.97it/s]\u001b[A\n",
      " 86%|████████▌ | 43/50 [00:01<00:00, 41.33it/s]\u001b[A\n",
      "100%|██████████| 50/50 [00:01<00:00, 41.95it/s]\u001b[A\n",
      " 40%|████      | 4/10 [00:23<00:34,  5.79s/it]"
     ]
    },
    {
     "name": "stdout",
     "output_type": "stream",
     "text": [
      "Estimation effect 9.685837177815955\n",
      "True effect 4.27367845743849\n"
     ]
    },
    {
     "name": "stderr",
     "output_type": "stream",
     "text": [
      "\n",
      "  0%|          | 0/50 [00:00<?, ?it/s]\u001b[A\n",
      " 10%|█         | 5/50 [00:00<00:01, 42.57it/s]\u001b[A\n",
      " 20%|██        | 10/50 [00:00<00:00, 42.85it/s]\u001b[A\n",
      " 30%|███       | 15/50 [00:00<00:00, 42.34it/s]\u001b[A\n",
      " 40%|████      | 20/50 [00:00<00:00, 41.93it/s]\u001b[A\n",
      " 48%|████▊     | 24/50 [00:00<00:00, 40.84it/s]\u001b[A\n",
      " 58%|█████▊    | 29/50 [00:00<00:00, 41.04it/s]\u001b[A\n",
      " 68%|██████▊   | 34/50 [00:00<00:00, 40.90it/s]\u001b[A\n",
      " 78%|███████▊  | 39/50 [00:00<00:00, 40.90it/s]\u001b[A\n",
      " 86%|████████▌ | 43/50 [00:01<00:00, 40.19it/s]\u001b[A\n",
      "100%|██████████| 50/50 [00:01<00:00, 40.84it/s]\u001b[A\n",
      " 50%|█████     | 5/10 [00:28<00:28,  5.77s/it]"
     ]
    },
    {
     "name": "stdout",
     "output_type": "stream",
     "text": [
      "Estimation effect 8.710991629130099\n",
      "True effect 4.162439707706217\n"
     ]
    }
   ],
   "source": [
    "mae_effect = []\n",
    "for i in tqdm(range(1,11)):\n",
    "    DATA_PATH = \"/home/dtd/Documents/interpretable_machine_learning/Source Code/data/datasets/IHDP/csv/ihdp_npci_{}.csv\".format(i)\n",
    "    data = pd.read_csv(DATA_PATH, header = None, names = col)\n",
    "    mae = experiment_z_estimator(data, treatment, cov, outcome, delta_seq)\n",
    "    mae_effect.append(mae)\n",
    "    del data"
   ]
  },
  {
   "cell_type": "markdown",
   "metadata": {},
   "source": [
    "## Reference\n",
    "https://microsoft.github.io/dowhy/dowhy_ihdp_data_example.html"
   ]
  }
 ],
 "metadata": {
  "kernelspec": {
   "display_name": "Python [conda env:.conda-phd_env] *",
   "language": "python",
   "name": "conda-env-.conda-phd_env-py"
  },
  "language_info": {
   "codemirror_mode": {
    "name": "ipython",
    "version": 3
   },
   "file_extension": ".py",
   "mimetype": "text/x-python",
   "name": "python",
   "nbconvert_exporter": "python",
   "pygments_lexer": "ipython3",
   "version": "3.7.7"
  },
  "toc": {
   "base_numbering": 1,
   "nav_menu": {},
   "number_sections": true,
   "sideBar": true,
   "skip_h1_title": false,
   "title_cell": "Table of Contents",
   "title_sidebar": "Contents",
   "toc_cell": false,
   "toc_position": {
    "height": "calc(100% - 180px)",
    "left": "10px",
    "top": "150px",
    "width": "233.7px"
   },
   "toc_section_display": true,
   "toc_window_display": true
  }
 },
 "nbformat": 4,
 "nbformat_minor": 4
}
