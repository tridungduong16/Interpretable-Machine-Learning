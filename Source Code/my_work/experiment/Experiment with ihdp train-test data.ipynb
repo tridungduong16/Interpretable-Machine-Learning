{
 "cells": [
  {
   "cell_type": "markdown",
   "metadata": {},
   "source": [
    "## Import Library"
   ]
  },
  {
   "cell_type": "code",
   "execution_count": 1,
   "metadata": {},
   "outputs": [
    {
     "name": "stderr",
     "output_type": "stream",
     "text": [
      "/home/dtd/.conda/envs/phd_env/lib/python3.7/site-packages/sklearn/utils/deprecation.py:143: FutureWarning: The sklearn.ensemble.forest module is  deprecated in version 0.22 and will be removed in version 0.24. The corresponding classes / functions should instead be imported from sklearn.ensemble. Anything that cannot be imported from sklearn.ensemble is now part of the private API.\n",
      "  warnings.warn(message, FutureWarning)\n",
      "/home/dtd/.conda/envs/phd_env/lib/python3.7/site-packages/sklearn/utils/deprecation.py:143: FutureWarning: The sklearn.ensemble.base module is  deprecated in version 0.22 and will be removed in version 0.24. The corresponding classes / functions should instead be imported from sklearn.ensemble. Anything that cannot be imported from sklearn.ensemble is now part of the private API.\n",
      "  warnings.warn(message, FutureWarning)\n"
     ]
    },
    {
     "ename": "ModuleNotFoundError",
     "evalue": "No module named 'cforest'",
     "output_type": "error",
     "traceback": [
      "\u001b[0;31m---------------------------------------------------------------------------\u001b[0m",
      "\u001b[0;31mModuleNotFoundError\u001b[0m                       Traceback (most recent call last)",
      "\u001b[0;32m<ipython-input-1-b120012b64b9>\u001b[0m in \u001b[0;36m<module>\u001b[0;34m\u001b[0m\n\u001b[1;32m     73\u001b[0m \u001b[0;34m\u001b[0m\u001b[0m\n\u001b[1;32m     74\u001b[0m \u001b[0;32mfrom\u001b[0m \u001b[0mzepid\u001b[0m\u001b[0;34m.\u001b[0m\u001b[0mcausal\u001b[0m\u001b[0;34m.\u001b[0m\u001b[0mdoublyrobust\u001b[0m \u001b[0;32mimport\u001b[0m \u001b[0mTMLE\u001b[0m\u001b[0;34m\u001b[0m\u001b[0;34m\u001b[0m\u001b[0m\n\u001b[0;32m---> 75\u001b[0;31m \u001b[0;32mfrom\u001b[0m \u001b[0mcforest\u001b[0m\u001b[0;34m.\u001b[0m\u001b[0mforest\u001b[0m \u001b[0;32mimport\u001b[0m \u001b[0mCausalForest\u001b[0m\u001b[0;34m\u001b[0m\u001b[0;34m\u001b[0m\u001b[0m\n\u001b[0m\u001b[1;32m     76\u001b[0m \u001b[0;32mfrom\u001b[0m \u001b[0mbartpy\u001b[0m\u001b[0;34m.\u001b[0m\u001b[0msklearnmodel\u001b[0m \u001b[0;32mimport\u001b[0m \u001b[0mSklearnModel\u001b[0m\u001b[0;34m\u001b[0m\u001b[0;34m\u001b[0m\u001b[0m\n",
      "\u001b[0;31mModuleNotFoundError\u001b[0m: No module named 'cforest'"
     ]
    }
   ],
   "source": [
    "import sys\n",
    "sys.path.insert(\n",
    "    1,\n",
    "    '/home/dtd/Documents/PhD_Life/Source Code/my_work/lib'\n",
    ")\n",
    "\n",
    "sys.path.insert(\n",
    "    1,\n",
    "    '/home/dtd/Documents/PhD_Life/Source Code/my_work/config'\n",
    ")\n",
    "\n",
    "import numpy as np\n",
    "import pandas as pd\n",
    "import logging\n",
    "import incremental_ps_score_estimator as ipse\n",
    "import math\n",
    "import timeit\n",
    "import utils\n",
    "import experiment_config as cf\n",
    "\n",
    "from tqdm import tqdm\n",
    "\n",
    "import dowhy.datasets\n",
    "import dowhy\n",
    "from dowhy import CausalModel\n",
    "\n",
    "from math import sqrt\n",
    "from econml.drlearner import ForestDRLearner, LinearDRLearner\n",
    "from econml.metalearners import SLearner, XLearner, TLearner\n",
    "from econml.ortho_forest import CausalTree, ContinuousTreatmentOrthoForest, DiscreteTreatmentOrthoForest\n",
    "from econml.dml import ForestDMLCateEstimator, LinearDMLCateEstimator, SparseLinearDMLCateEstimator\n",
    "from econml.inference import BootstrapInference\n",
    "from econml.sklearn_extensions.linear_model import WeightedLasso, WeightedLassoCV\n",
    "\n",
    "### Import sklearn\n",
    "from scipy.stats import sem\n",
    "from sklearn.metrics import log_loss\n",
    "from sklearn.ensemble import RandomForestClassifier, GradientBoostingRegressor, GradientBoostingClassifier\n",
    "from sklearn.linear_model import LogisticRegression\n",
    "from sklearn import metrics\n",
    "from sklearn.neighbors import NearestNeighbors\n",
    "from sklearn.ensemble import RandomForestRegressor\n",
    "from sklearn import metrics\n",
    "from sklearn.ensemble import RandomForestClassifier\n",
    "from sklearn.metrics import explained_variance_score, mean_squared_error\n",
    "from sklearn.model_selection import train_test_split, KFold\n",
    "from sklearn.preprocessing import StandardScaler\n",
    "from sklearn.svm import SVC\n",
    "from sklearn.metrics import accuracy_score, f1_score, precision_score, recall_score, classification_report, confusion_matrix\n",
    "from sklearn.linear_model import LassoCV, ElasticNetCV\n",
    "from sklearn.neural_network import MLPClassifier\n",
    "from sklearn.neighbors import KNeighborsClassifier\n",
    "from sklearn.svm import SVC\n",
    "from sklearn.gaussian_process import GaussianProcessClassifier\n",
    "from sklearn.gaussian_process.kernels import RBF\n",
    "from sklearn.tree import DecisionTreeClassifier\n",
    "from sklearn.ensemble import RandomForestClassifier, AdaBoostClassifier\n",
    "from sklearn.naive_bayes import GaussianNB\n",
    "from sklearn.preprocessing import OneHotEncoder, LabelEncoder, FunctionTransformer\n",
    "\n",
    "from sklearn.datasets import make_regression\n",
    "from sklearn.model_selection import train_test_split\n",
    "from sklearn.metrics import mean_squared_error\n",
    "from sklearn.linear_model import LinearRegression\n",
    "from sklearn.linear_model import ElasticNet\n",
    "from sklearn.neighbors import KNeighborsRegressor\n",
    "from sklearn.tree import DecisionTreeRegressor\n",
    "from sklearn.svm import SVR\n",
    "from sklearn.ensemble import AdaBoostRegressor\n",
    "from sklearn.ensemble import BaggingRegressor\n",
    "from sklearn.ensemble import RandomForestRegressor\n",
    "from sklearn.ensemble import ExtraTreesRegressor\n",
    "\n",
    "from zepid.causal.doublyrobust import TMLE\n",
    "# from cforest.forest import CausalForest\n",
    "from bartpy.sklearnmodel import SklearnModel\n"
   ]
  },
  {
   "cell_type": "markdown",
   "metadata": {},
   "source": [
    "## Parameter "
   ]
  },
  {
   "cell_type": "code",
   "execution_count": null,
   "metadata": {},
   "outputs": [],
   "source": [
    "treatment = 't'\n",
    "outcome = 'yf'\n",
    "col =  [\"t\", \"yf\", \"ycf\", \"mu0\", \"mu1\" ]\n",
    "cov = [\"x\" + str(i) for i in range(1,26)]\n",
    "col = col + cov\n",
    "features = cov + [\"t\"]\n",
    "\n",
    "RESULT_PATH = \"/home/dtd/Documents/interpretable_machine_learning/Source Code/my_work/result\""
   ]
  },
  {
   "cell_type": "code",
   "execution_count": 6,
   "metadata": {},
   "outputs": [],
   "source": [
    "# PATH = \"/home/dtd/Downloads/dragonnet/data_train_test\"\n",
    "# for index_ in tqdm(range(1,101)):    \n",
    "#     data = utils.load_data(PATH_TRAIN, index_)\n",
    "#     data_test = utils.load_data(PATH_TEST, index_)\n",
    "#     data.to_csv(PATH + \"/train_ihdp_{}\",format(index_),encoding='utf-8')\n",
    "#     data_test.to_csv(PATH + \"/test_ihdp_{}\",format(index_), encoding='utf-8')"
   ]
  },
  {
   "cell_type": "markdown",
   "metadata": {},
   "source": [
    "## Compare with EconML"
   ]
  },
  {
   "cell_type": "code",
   "execution_count": 8,
   "metadata": {},
   "outputs": [],
   "source": [
    "df_train_result = pd.DataFrame(index=range(100))\n",
    "df_train_result['mae_linear_ortho'] = 0\n",
    "df_train_result['mae_linear_dr'] = 0\n",
    "df_train_result['mae_forest_dr'] = 0\n",
    "df_train_result['mae_x_leaner'] = 0\n",
    "df_train_result['mae_s_leaner'] = 0\n",
    "df_train_result['mae_t_leaner'] = 0\n",
    "df_train_result['incremental'] = 0\n",
    "df_train_result['incremental_pehe'] = 0\n",
    "df_train_result['causal_forest'] = 0\n",
    "\n",
    "\n",
    "df_test_result = pd.DataFrame(index=range(100))\n",
    "df_test_result['mae_linear_ortho'] = 0\n",
    "df_test_result['mae_linear_dr'] = 0\n",
    "df_test_result['mae_forest_dr'] = 0\n",
    "df_test_result['mae_x_leaner'] = 0\n",
    "df_test_result['mae_s_leaner'] = 0\n",
    "df_test_result['mae_t_leaner'] = 0\n",
    "df_test_result['incremental'] = 0\n",
    "df_test_result['incremental_pehe'] = 0\n",
    "df_test_result['causal_forest'] = 0\n",
    "\n"
   ]
  },
  {
   "cell_type": "markdown",
   "metadata": {},
   "source": [
    "### Causal Forest"
   ]
  },
  {
   "cell_type": "code",
   "execution_count": 6,
   "metadata": {},
   "outputs": [
    {
     "name": "stderr",
     "output_type": "stream",
     "text": [
      "100%|██████████| 100/100 [06:43<00:00,  4.03s/it]\n"
     ]
    }
   ],
   "source": [
    "PATH_TRAIN = \"/home/dtd/Documents/interpretable_machine_learning/Source Code/data/ihdp_npci_1-100.train.npz\"\n",
    "PATH_TEST = \"/home/dtd/Documents/interpretable_machine_learning/Source Code/data/ihdp_npci_1-100.test.npz\"\n",
    "\n",
    "for index_ in tqdm(range(1,101)):    \n",
    "    data = utils.load_data(PATH_TRAIN, index_)\n",
    "    data_test = utils.load_data(PATH_TEST, index_)\n",
    "    \n",
    "    data['term_t'] = data[treatment].apply(lambda x: bool(x))\n",
    "    data_test['term_t'] = data_test[treatment].apply(lambda x: bool(x))\n",
    "    \n",
    "    cf = CausalForest(\n",
    "        num_trees=50,\n",
    "        split_ratio=0.5,\n",
    "        min_leaf=5,\n",
    "        max_depth=20,\n",
    "        use_transformed_outcomes=True,\n",
    "        num_workers=4,\n",
    "        seed_counter=1,\n",
    "    )\n",
    "\n",
    "    cf = cf.fit(data[features].values, data['term_t'].values, data[outcome].values)\n",
    "\n",
    "    ate_t_learner_train = np.mean(cf.predict(data[features].values))\n",
    "    ate_t_learner_test = np.mean(cf.predict(data_test[features].values))\n",
    "    \n",
    "    \n",
    "    true_effect = data['mu1'] - data['mu0']\n",
    "    means_train, stds = np.mean(true_effect, axis=0), sem(true_effect, axis=0)\n",
    "    \n",
    "    true_effect = data_test['mu1'] - data_test['mu0']\n",
    "    means_test, stds = np.mean(true_effect, axis=0), sem(true_effect, axis=0)\n",
    "\n",
    "    mae_t_leaner_train = utils.abs_ate(means_train, ate_t_learner_train)\n",
    "    mae_t_leaner_test = utils.abs_ate(means_test, ate_t_learner_test)\n",
    "    \n",
    "    df_train_result.loc[index_ - 1, 'causal_forest'] = mae_t_leaner_train\n",
    "    df_test_result.loc[index_ - 1, 'causal_forest'] = mae_t_leaner_test"
   ]
  },
  {
   "cell_type": "code",
   "execution_count": 5,
   "metadata": {},
   "outputs": [
    {
     "ename": "NameError",
     "evalue": "name 'df_train_result' is not defined",
     "output_type": "error",
     "traceback": [
      "\u001b[0;31m---------------------------------------------------------------------------\u001b[0m",
      "\u001b[0;31mNameError\u001b[0m                                 Traceback (most recent call last)",
      "\u001b[0;32m<ipython-input-5-357712094f18>\u001b[0m in \u001b[0;36m<module>\u001b[0;34m\u001b[0m\n\u001b[0;32m----> 1\u001b[0;31m \u001b[0mprint\u001b[0m\u001b[0;34m(\u001b[0m\u001b[0;34m\"MAE training {:.3f}\"\u001b[0m\u001b[0;34m.\u001b[0m\u001b[0mformat\u001b[0m\u001b[0;34m(\u001b[0m\u001b[0mdf_train_result\u001b[0m\u001b[0;34m.\u001b[0m\u001b[0mcausal_forest\u001b[0m\u001b[0;34m.\u001b[0m\u001b[0mmean\u001b[0m\u001b[0;34m(\u001b[0m\u001b[0;34m)\u001b[0m\u001b[0;34m)\u001b[0m\u001b[0;34m)\u001b[0m\u001b[0;34m\u001b[0m\u001b[0;34m\u001b[0m\u001b[0m\n\u001b[0m\u001b[1;32m      2\u001b[0m \u001b[0mprint\u001b[0m\u001b[0;34m(\u001b[0m\u001b[0;34m\"MAE testing {:.3f}\"\u001b[0m\u001b[0;34m.\u001b[0m\u001b[0mformat\u001b[0m\u001b[0;34m(\u001b[0m\u001b[0mdf_test_result\u001b[0m\u001b[0;34m.\u001b[0m\u001b[0mcausal_forest\u001b[0m\u001b[0;34m.\u001b[0m\u001b[0mmean\u001b[0m\u001b[0;34m(\u001b[0m\u001b[0;34m)\u001b[0m\u001b[0;34m)\u001b[0m\u001b[0;34m)\u001b[0m\u001b[0;34m\u001b[0m\u001b[0;34m\u001b[0m\u001b[0m\n",
      "\u001b[0;31mNameError\u001b[0m: name 'df_train_result' is not defined"
     ]
    }
   ],
   "source": [
    "print(\"MAE training {:.3f}\".format(df_train_result.causal_forest.mean()))\n",
    "print(\"MAE testing {:.3f}\".format(df_test_result.causal_forest.mean()))"
   ]
  },
  {
   "cell_type": "markdown",
   "metadata": {},
   "source": [
    "###  BART"
   ]
  },
  {
   "cell_type": "code",
   "execution_count": 8,
   "metadata": {},
   "outputs": [],
   "source": [
    "def causal_bart(data, bart_model):\n",
    "    data_pos = data.copy()\n",
    "    data_pos[treatment] = 1\n",
    "    data['treated_cf_outcome'] = bart_model.predict(data_pos[features])\n",
    "\n",
    "    ## Compute counterfactual outcome with treatment\n",
    "    data_neg = data.copy()\n",
    "    data_neg[treatment] = 0\n",
    "    data['control_cf_outcome'] = bart_model.predict(data_neg[features])\n",
    "    \n",
    "    return np.mean(data['treated_cf_outcome'] - data['control_cf_outcome'])"
   ]
  },
  {
   "cell_type": "code",
   "execution_count": null,
   "metadata": {},
   "outputs": [
    {
     "name": "stderr",
     "output_type": "stream",
     "text": [
      "\r",
      "  0%|          | 0/100 [00:00<?, ?it/s]"
     ]
    }
   ],
   "source": [
    "PATH_TRAIN = \"/home/dtd/Documents/interpretable_machine_learning/Source Code/data/ihdp_npci_1-100.train.npz\"\n",
    "PATH_TEST = \"/home/dtd/Documents/interpretable_machine_learning/Source Code/data/ihdp_npci_1-100.test.npz\"\n",
    "\n",
    "df_train_result['bart'] = 0\n",
    "df_test_result['bart'] = 0\n",
    "\n",
    "for index_ in tqdm(range(1,101)):    \n",
    "    data = utils.load_data(PATH_TRAIN, index_)\n",
    "    data_test = utils.load_data(PATH_TEST, index_)\n",
    "    \n",
    "    bart_model = SklearnModel() # Use default parameters\n",
    "    bart_model.fit(data[features].values, data[outcome].values)\n",
    "    \n",
    "    effects_train = causal_bart(data, bart_model)\n",
    "    effects_test = causal_bart(data_test, bart_model)\n",
    "\n",
    "    true_effect = data['mu1'] - data['mu0']\n",
    "    means_train, stds = np.mean(true_effect, axis=0), sem(true_effect, axis=0)\n",
    "    \n",
    "    true_effect = data_test['mu1'] - data_test['mu0']\n",
    "    means_test, stds = np.mean(true_effect, axis=0), sem(true_effect, axis=0)\n",
    "    \n",
    "    mae_t_leaner_train = utils.abs_ate(means_train, effects_train)\n",
    "    mae_t_leaner_test = utils.abs_ate(means_test, effects_test)\n",
    "    \n",
    "    \n",
    "    df_train_result.loc[index_ - 1, 'bart'] = mae_t_leaner_train\n",
    "    df_test_result.loc[index_ - 1, 'bart'] = mae_t_leaner_test\n",
    "    "
   ]
  },
  {
   "cell_type": "code",
   "execution_count": null,
   "metadata": {},
   "outputs": [],
   "source": [
    "print(\"BART training {:.3f}\".format(df_train_result.causal_forest.mean()))\n",
    "print(\"BART testing {:.3f}\".format(df_test_result.causal_forest.mean()))"
   ]
  },
  {
   "cell_type": "markdown",
   "metadata": {},
   "source": [
    "### Run EconML"
   ]
  },
  {
   "cell_type": "markdown",
   "metadata": {},
   "source": [
    "#### T Leaner"
   ]
  },
  {
   "cell_type": "code",
   "execution_count": null,
   "metadata": {},
   "outputs": [],
   "source": [
    "# PATH_TRAIN = \"/home/dtd/Documents/interpretable_machine_learning/Source Code/data/ihdp_npci_1-100.train.npz\"\n",
    "# PATH_TEST = \"/home/dtd/Documents/interpretable_machine_learning/Source Code/data/ihdp_npci_1-100.test.npz\"\n",
    "\n",
    "# for index_ in tqdm(range(1,101)):    \n",
    "#     data = utils.load_data(PATH_TRAIN, index_)\n",
    "#     data_test = utils.load_data(PATH_TEST, index_)\n",
    "    \n",
    "#     true_effect = data['mu1'] - data['mu0']\n",
    "#     means_train, stds = np.mean(true_effect, axis=0), sem(true_effect, axis=0)\n",
    "    \n",
    "#     true_effect = data_test['mu1'] - data_test['mu0']\n",
    "#     means_test, stds = np.mean(true_effect, axis=0), sem(true_effect, axis=0)\n",
    "#     ## T-Learner\n",
    "#     est = TLearner(models=GradientBoostingRegressor())\n",
    "#     est.fit(data[outcome].values, data[treatment].values, data[features].values)\n",
    "    \n",
    "#     ate_t_learner_train = np.mean(est.effect(data[features].values))\n",
    "#     ate_t_learner_test = np.mean(est.effect(data_test[features].values))\n",
    "#     mae_t_leaner_train = utils.abs_ate(means_train, ate_t_learner_train)\n",
    "#     mae_t_leaner_test = utils.abs_ate(means_test, ate_t_learner_test)\n",
    "#     df_train_result.loc[index_ - 1, 'mae_t_leaner'] = round(mae_t_leaner_train,2)\n",
    "#     df_test_result.loc[index_ - 1, 'mae_t_leaner'] = round(mae_t_leaner_test,2)"
   ]
  },
  {
   "cell_type": "code",
   "execution_count": null,
   "metadata": {},
   "outputs": [],
   "source": [
    "df_train_result.mae_t_leaner.mean(), df_test_result.mae_t_leaner.mean()"
   ]
  },
  {
   "cell_type": "markdown",
   "metadata": {},
   "source": [
    "#### Others"
   ]
  },
  {
   "cell_type": "code",
   "execution_count": null,
   "metadata": {},
   "outputs": [],
   "source": [
    "PATH_TRAIN = \"/home/dtd/Documents/interpretable_machine_learning/Source Code/data/ihdp_npci_1-100.train.npz\"\n",
    "PATH_TEST = \"/home/dtd/Documents/interpretable_machine_learning/Source Code/data/ihdp_npci_1-100.test.npz\"\n",
    "\n",
    "for index_ in tqdm(range(1,101)):    \n",
    "    data = utils.load_data(PATH_TRAIN, index_)\n",
    "    data_test = utils.load_data(PATH_TEST, index_)\n",
    "    \n",
    "    \"\"\"\n",
    "    ## Double ML\n",
    "    est = LinearDMLCateEstimator(model_y=LassoCV(), model_t=LassoCV())\n",
    "    ### Estimate with OLS confidence intervals\n",
    "    est.fit(Y = data[outcome].values, T = data[treatment].values, X = data[features].values, inference='statsmodels')\n",
    "    ate_dr_train = np.mean(est.effect(data[features].values))\n",
    "    print(ate_dr_train)\n",
    "\n",
    "    est = SparseLinearDMLCateEstimator(model_y=LassoCV(), model_t=LassoCV())\n",
    "    ### Estimate with OLS confidence intervals\n",
    "    est.fit(Y = data[outcome].values, T = data[treatment].values, X = data[features].values, inference='statsmodels')\n",
    "    ate_dr_train = np.mean(est.effect(data[features].values))\n",
    "    print(ate_dr_train)\n",
    "    \"\"\"\n",
    "    \n",
    "    ## Linear\n",
    "    est = LinearDRLearner(model_propensity=GradientBoostingClassifier(),\n",
    "                          model_regression=GradientBoostingRegressor())\n",
    "    est.fit(Y = data[outcome].values, T = data[treatment].values, X = data[features].values, inference='statsmodels')\n",
    "    ate_dr_train = np.mean(est.effect(data[features].values))\n",
    "    ate_dr_test = np.mean(est.effect(data_test[features].values))\n",
    "    \n",
    "    ## Forest\n",
    "    est = ForestDRLearner(model_propensity=GradientBoostingClassifier(),\n",
    "                      model_regression=GradientBoostingRegressor())\n",
    "    est.fit(Y = data[outcome].values, T = data[treatment].values, X = data[features].values, inference='blb')\n",
    "    ate_fdr_train = np.mean(est.effect(data[features].values))\n",
    "    ate_fdr_test = np.mean(est.effect(data_test[features].values))\n",
    "    \n",
    "    \"\"\"\n",
    "    ## X Learner\n",
    "    est = XLearner(models=GradientBoostingRegressor(),\n",
    "              propensity_model=GradientBoostingClassifier(),\n",
    "              cate_models=GradientBoostingRegressor())\n",
    "    est.fit(data[outcome].values, data[treatment].values, data[features].values)\n",
    "\n",
    "    ate_x_learner_train = np.mean(est.effect(data[features].values))\n",
    "    ate_x_learner_test = np.mean(est.effect(data_test[features].values))\n",
    "    \n",
    "    ## S-Learner\n",
    "    est = SLearner(overall_model=GradientBoostingRegressor())\n",
    "    est.fit(data[outcome].values, data[treatment].values, data[features].values)\n",
    "    \n",
    "    ate_s_learner_train = np.mean(est.effect(data[features].values))\n",
    "    ate_s_learner_test = np.mean(est.effect(data_test[features].values))\n",
    "    \n",
    "    \n",
    "    ## T-Learner\n",
    "    \n",
    "    \n",
    "    est = TLearner(models=GradientBoostingRegressor())\n",
    "    est = TLearner(models=LassoCV())\n",
    "    est.fit(data[outcome].values, data[treatment].values, data[features].values)\n",
    "    \n",
    "    ate_t_learner_train = np.mean(est.effect(data[features].values))\n",
    "    ate_t_learner_test = np.mean(est.effect(data_test[features].values))\n",
    "    \n",
    "    \"\"\"\n",
    "    ## OrthoForest\n",
    "    est = DiscreteTreatmentOrthoForest(n_trees=500,\n",
    "                                   model_Y = WeightedLasso(alpha=0.5))\n",
    "\n",
    "    est.fit(Y = data[outcome].values, T = data[treatment].values, X = data[features].values, inference='blb')\n",
    "    \n",
    "    ate_ortho_train = np.mean(est.effect(data[features].values))\n",
    "    ate_ortho_test = np.mean(est.effect(data_test[features].values))\n",
    "    \n",
    "    ### df_train\n",
    "    true_effect = data['mu1'] - data['mu0']\n",
    "    means, stds = np.mean(true_effect, axis=0), sem(true_effect, axis=0)\n",
    "    \n",
    "    mae_linear_ortho = utils.abs_ate(means, ate_ortho_train)\n",
    "    mae_linear_dr = utils.abs_ate(means, ate_dr_train)\n",
    "    mae_forest_dr = utils.abs_ate(means, ate_fdr_train)\n",
    "    #mae_x_leaner = utils.abs_ate(means, ate_x_learner_train)\n",
    "    #mae_s_leaner = utils.abs_ate(means, ate_s_learner_train)\n",
    "    #mae_t_leaner = utils.abs_ate(means, ate_t_learner_train)\n",
    "    \n",
    "\n",
    "    df_train_result.loc[index_ - 1, 'mae_linear_ortho'] = round(mae_linear_ortho,2)\n",
    "    df_train_result.loc[index_ - 1, 'mae_linear_dr'] = round(mae_linear_dr,2)\n",
    "    df_train_result.loc[index_ - 1, 'mae_forest_dr'] = round(mae_forest_dr,2)\n",
    "    #df_train_result.loc[index_ - 1, 'mae_x_leaner'] = round(mae_x_leaner,2)\n",
    "    #df_train_result.loc[index_ - 1, 'mae_s_leaner'] = round(mae_s_leaner,2)\n",
    "    #df_train_result.loc[index_ - 1, 'mae_t_leaner'] = round(mae_t_leaner,2)\n",
    "\n",
    "    \n",
    "\n",
    "    ## df_test\n",
    "    true_effect = data_test['mu1'] - data_test['mu0']\n",
    "    means, stds = np.mean(true_effect, axis=0), sem(true_effect, axis=0)\n",
    "    \n",
    "    mae_linear_ortho = utils.abs_ate(means, ate_ortho_test)\n",
    "    mae_linear_dr = utils.abs_ate(means, ate_dr_test)\n",
    "    mae_forest_dr = utils.abs_ate(means, ate_fdr_test)\n",
    "    #mae_x_leaner = utils.abs_ate(means, ate_x_learner_test)\n",
    "    #mae_s_leaner = utils.abs_ate(means, ate_s_learner_test)\n",
    "    #mae_t_leaner = utils.abs_ate(means, ate_t_learner_test)\n",
    "    \n",
    "    df_test_result.loc[index_ - 1, 'mae_linear_ortho'] = round(mae_linear_ortho,2)\n",
    "    df_test_result.loc[index_ - 1, 'mae_linear_dr'] = round(mae_linear_dr,2)\n",
    "    df_test_result.loc[index_ - 1, 'mae_forest_dr'] = round(mae_forest_dr,2)\n",
    "    #df_test_result.loc[index_ - 1, 'mae_x_leaner'] = round(mae_x_leaner,2)\n",
    "    #df_test_result.loc[index_ - 1, 'mae_s_leaner'] = round(mae_s_leaner,2)\n",
    "    #df_test_result.loc[index_ - 1, 'mae_t_leaner'] = round(mae_t_leaner,2)\n"
   ]
  },
  {
   "cell_type": "markdown",
   "metadata": {},
   "source": [
    "### K-nearest neighbor + Linear Regression"
   ]
  },
  {
   "cell_type": "code",
   "execution_count": null,
   "metadata": {},
   "outputs": [],
   "source": [
    "PATH_TRAIN = \"/home/dtd/Documents/interpretable_machine_learning/Source Code/data/ihdp_npci_1-100.train.npz\"\n",
    "PATH_TEST = \"/home/dtd/Documents/interpretable_machine_learning/Source Code/data/ihdp_npci_1-100.test.npz\"\n",
    "\n",
    "df_train_result['mea_knn'] = 0\n",
    "df_test_result['mea_knn'] = 0\n",
    "\n",
    "df_train_result['linear_regression'] = 0\n",
    "df_test_result['linear_regression'] = 0\n",
    "\n",
    "for index_ in tqdm(range(1,101)):    \n",
    "    data = utils.load_data(PATH_TRAIN, index_)\n",
    "    data_test = utils.load_data(PATH_TEST, index_)\n",
    "    \n",
    "    model = CausalModel(data=data,\n",
    "                        treatment=treatment,\n",
    "                        outcome=outcome,\n",
    "                        common_causes=cov, proceed_when_unidentifiable=True)\n",
    "    data[treatment] = [bool(x) for x in data[treatment]]\n",
    "    identified_estimand = model.identify_effect()\n",
    "\n",
    "    estimate_we = model.estimate_effect(\n",
    "            identified_estimand, method_name=\"backdoor.propensity_score_matching\")\n",
    "\n",
    "    estimate_linear = model.estimate_effect(\n",
    "            identified_estimand, method_name=\"backdoor.linear_regression\")\n",
    "    \n",
    "    \n",
    "    model = CausalModel(data=data_test,\n",
    "                        treatment=treatment,\n",
    "                        outcome=outcome,\n",
    "                        common_causes=cov, proceed_when_unidentifiable=True)\n",
    "    data_test[treatment] = [bool(x) for x in data_test[treatment]]\n",
    "    identified_estimand = model.identify_effect()\n",
    "\n",
    "    estimate_we_test = model.estimate_effect(\n",
    "        identified_estimand, method_name=\"backdoor.propensity_score_matching\")\n",
    "    \n",
    "    estimate_linear_test = model.estimate_effect(\n",
    "            identified_estimand, method_name=\"backdoor.linear_regression\")\n",
    "    \n",
    "    true_effect = data['mu1'] - data['mu0']\n",
    "    means, stds = np.mean(true_effect, axis=0), sem(true_effect, axis=0)\n",
    "    true_effect = data_test['mu1'] - data_test['mu0']\n",
    "    means_test, stds = np.mean(true_effect, axis=0), sem(true_effect, axis=0)\n",
    "        \n",
    "    mae_incre_train = utils.abs_ate(means, estimate_we.value)\n",
    "    mae_incre_test = utils.abs_ate(means_test, estimate_we_test.value)\n",
    "    df_train_result.loc[index_ - 1, 'mea_knn'] = mae_incre_train\n",
    "    df_test_result.loc[index_ - 1, 'mea_knn'] = mae_incre_test\n",
    "    \n",
    "    mae_incre_train = utils.abs_ate(means, estimate_linear.value)\n",
    "    mae_incre_test = utils.abs_ate(means_test, estimate_linear_test.value)\n",
    "    df_train_result.loc[index_ - 1, 'linear_regression'] = mae_incre_train\n",
    "    df_test_result.loc[index_ - 1, 'linear_regression'] = mae_incre_test\n",
    "    "
   ]
  },
  {
   "cell_type": "code",
   "execution_count": null,
   "metadata": {},
   "outputs": [],
   "source": [
    "print(df_train_result.mea_knn.mean())\n",
    "print(df_test_result.mea_knn.mean())"
   ]
  },
  {
   "cell_type": "markdown",
   "metadata": {},
   "source": [
    "### TMLE"
   ]
  },
  {
   "cell_type": "code",
   "execution_count": null,
   "metadata": {},
   "outputs": [],
   "source": [
    "PATH_TRAIN = \"/home/dtd/Documents/interpretable_machine_learning/Source Code/data/ihdp_npci_1-100.train.npz\"\n",
    "PATH_TEST = \"/home/dtd/Documents/interpretable_machine_learning/Source Code/data/ihdp_npci_1-100.test.npz\"\n",
    "\n",
    "expose_m = ' + '.join(cov)\n",
    "outcome_m = ' + '.join(features)\n",
    "\n",
    "df_train_result['mea_tmle'] = 0\n",
    "df_test_result['mea_tmle'] = 0\n",
    "\n",
    "for index_ in tqdm(range(1,101)):    \n",
    "    data = utils.load_data(PATH_TRAIN, index_)\n",
    "    data_test = utils.load_data(PATH_TEST, index_)\n",
    "    model_t = LogisticRegression(penalty='l2', random_state=201)\n",
    "    model_y = GradientBoostingRegressor(random_state=0, n_estimators = 5000)\n",
    "    \n",
    "    tml = TMLE(data, exposure=treatment, outcome=outcome)\n",
    "    tml.exposure_model(expose_m, bound=[0.01, 0.99], print_results=False, custom_model=model_t)\n",
    "    tml.outcome_model(outcome_m, print_results=False, custom_model = model_y)\n",
    "    tml.fit()\n",
    "    \n",
    "    true_effect = data['mu1'] - data['mu0']\n",
    "    means, stds = np.mean(true_effect, axis=0), sem(true_effect, axis=0)\n",
    "    mae_train = utils.abs_ate(means, tml.average_treatment_effect)\n",
    "\n",
    "    tml = TMLE(data_test, exposure=treatment, outcome=outcome)\n",
    "    tml.exposure_model(expose_m, bound=[0.01, 0.99], print_results=False, custom_model=model_t)\n",
    "    tml.outcome_model(outcome_m, print_results=False)\n",
    "    tml.fit()\n",
    "    \n",
    "    true_effect = data_test['mu1'] - data_test['mu0']\n",
    "    means, stds = np.mean(true_effect, axis=0), sem(true_effect, axis=0)\n",
    "    mae_test = utils.abs_ate(means, tml.average_treatment_effect)\n",
    "        \n",
    "    df_train_result.loc[index_ - 1, 'mea_tmle'] = mae_train\n",
    "    df_test_result.loc[index_ - 1, 'mea_tmle'] = mae_train"
   ]
  },
  {
   "cell_type": "markdown",
   "metadata": {},
   "source": [
    "### Incremental propensity score"
   ]
  },
  {
   "cell_type": "code",
   "execution_count": 9,
   "metadata": {},
   "outputs": [],
   "source": [
    "# cost function for base models\n",
    "def rmse(yreal, yhat):\n",
    "    return sqrt(mean_squared_error(yreal, yhat))\n",
    "def get_super_learner_outcome(X):\n",
    "    ensemble = SuperLearner(scorer=rmse, folds=10, shuffle=True, sample_size=len(X))\n",
    "    \n",
    "    models = list()\n",
    "    models.append(LinearRegression())\n",
    "    models.append(ElasticNet())\n",
    "    models.append(SVR(gamma='scale'))\n",
    "    models.append(DecisionTreeRegressor())\n",
    "    models.append(GradientBoostingRegressor(random_state=0, n_estimators = 5000))\n",
    "    models.append(AdaBoostRegressor())\n",
    "    models.append(BaggingRegressor(n_estimators=100))\n",
    "    models.append(RandomForestRegressor(n_estimators=100))\n",
    "    models.append(ExtraTreesRegressor(n_estimators=100))\n",
    "    ensemble.add(models)\n",
    "    ensemble.add_meta(LinearRegression())\n",
    "    return ensemble\n",
    "\n",
    "def f1(y, p): return f1_score(y, p, average='micro')\n",
    "\n",
    "\n",
    "def get_super_learner_treatment(X):\n",
    "    ensemble = SuperLearner(scorer=f1, random_state=1)\n",
    "    \n",
    "    models = list()\n",
    "    models.append(KNeighborsClassifier(3))\n",
    "    models.append(RandomForestClassifier(n_estimators=30, random_state=1))\n",
    "    models.append(GradientBoostingClassifier())\n",
    "    models.append(SVC())\n",
    "    models.append(AdaBoostClassifier())\n",
    "    models.append(MLPClassifier(alpha=1, max_iter=1000))\n",
    "    models.append(GaussianProcessClassifier(1.0 * RBF(1.0)))\n",
    "    \n",
    "\n",
    "    ensemble.add(models)\n",
    "    ensemble.add_meta(LogisticRegression())\n",
    "    return ensemble\n",
    "\n"
   ]
  },
  {
   "cell_type": "markdown",
   "metadata": {},
   "source": [
    "### Single delta"
   ]
  },
  {
   "cell_type": "code",
   "execution_count": 12,
   "metadata": {
    "scrolled": true
   },
   "outputs": [
    {
     "name": "stderr",
     "output_type": "stream",
     "text": [
      "  1%|          | 1/100 [00:04<07:45,  4.70s/it]"
     ]
    },
    {
     "name": "stdout",
     "output_type": "stream",
     "text": [
      "Index  1\n",
      "MAE 0.1555, PEHE 0.5797\n",
      "MAE 0.1871, PEHE 0.5364\n",
      "****************************************************************************************************\n"
     ]
    },
    {
     "name": "stderr",
     "output_type": "stream",
     "text": [
      "\r",
      "  2%|▏         | 2/100 [00:09<07:40,  4.70s/it]"
     ]
    },
    {
     "name": "stdout",
     "output_type": "stream",
     "text": [
      "Index  2\n",
      "MAE 0.2209, PEHE 0.4765\n",
      "MAE 0.1265, PEHE 0.4283\n",
      "****************************************************************************************************\n"
     ]
    },
    {
     "name": "stderr",
     "output_type": "stream",
     "text": [
      "\r",
      "  3%|▎         | 3/100 [00:14<07:39,  4.74s/it]"
     ]
    },
    {
     "name": "stdout",
     "output_type": "stream",
     "text": [
      "Index  3\n",
      "MAE 0.3064, PEHE 0.5505\n",
      "MAE 0.4357, PEHE 0.7337\n",
      "****************************************************************************************************\n"
     ]
    },
    {
     "name": "stderr",
     "output_type": "stream",
     "text": [
      "\r",
      "  4%|▍         | 4/100 [00:19<07:37,  4.76s/it]"
     ]
    },
    {
     "name": "stdout",
     "output_type": "stream",
     "text": [
      "Index  4\n",
      "MAE 0.1711, PEHE 0.9283\n",
      "MAE 0.2556, PEHE 1.0799\n",
      "****************************************************************************************************\n"
     ]
    },
    {
     "name": "stderr",
     "output_type": "stream",
     "text": [
      "\r",
      "  5%|▌         | 5/100 [00:23<07:32,  4.76s/it]"
     ]
    },
    {
     "name": "stdout",
     "output_type": "stream",
     "text": [
      "Index  5\n",
      "MAE 0.0758, PEHE 1.2923\n",
      "MAE 0.0778, PEHE 1.4707\n",
      "****************************************************************************************************\n"
     ]
    },
    {
     "name": "stderr",
     "output_type": "stream",
     "text": [
      "\r",
      "  6%|▌         | 6/100 [00:28<07:25,  4.74s/it]"
     ]
    },
    {
     "name": "stdout",
     "output_type": "stream",
     "text": [
      "Index  6\n",
      "MAE 0.0010, PEHE 0.5074\n",
      "MAE 0.2885, PEHE 0.6351\n",
      "****************************************************************************************************\n"
     ]
    },
    {
     "name": "stderr",
     "output_type": "stream",
     "text": [
      "\r",
      "  7%|▋         | 7/100 [00:33<07:20,  4.74s/it]"
     ]
    },
    {
     "name": "stdout",
     "output_type": "stream",
     "text": [
      "Index  7\n",
      "MAE 0.3738, PEHE 0.5821\n",
      "MAE 0.2782, PEHE 0.5211\n",
      "****************************************************************************************************\n"
     ]
    },
    {
     "name": "stderr",
     "output_type": "stream",
     "text": [
      "\r",
      "  8%|▊         | 8/100 [00:38<07:21,  4.80s/it]"
     ]
    },
    {
     "name": "stdout",
     "output_type": "stream",
     "text": [
      "Index  8\n",
      "MAE 0.0029, PEHE 0.6832\n",
      "MAE 0.3585, PEHE 0.9408\n",
      "****************************************************************************************************\n"
     ]
    },
    {
     "name": "stderr",
     "output_type": "stream",
     "text": [
      "\r",
      "  9%|▉         | 9/100 [00:42<07:16,  4.80s/it]"
     ]
    },
    {
     "name": "stdout",
     "output_type": "stream",
     "text": [
      "Index  9\n",
      "MAE 0.0010, PEHE 9.7442\n",
      "MAE 1.3707, PEHE 20.0631\n",
      "****************************************************************************************************\n"
     ]
    },
    {
     "name": "stderr",
     "output_type": "stream",
     "text": [
      "\r",
      " 10%|█         | 10/100 [00:47<07:10,  4.78s/it]"
     ]
    },
    {
     "name": "stdout",
     "output_type": "stream",
     "text": [
      "Index  10\n",
      "MAE 0.0010, PEHE 2.8005\n",
      "MAE 0.6943, PEHE 2.8204\n",
      "****************************************************************************************************\n"
     ]
    },
    {
     "name": "stderr",
     "output_type": "stream",
     "text": [
      "\r",
      " 11%|█         | 11/100 [00:52<07:06,  4.80s/it]"
     ]
    },
    {
     "name": "stdout",
     "output_type": "stream",
     "text": [
      "Index  11\n",
      "MAE 0.0234, PEHE 0.9749\n",
      "MAE 0.3853, PEHE 0.5778\n",
      "****************************************************************************************************\n"
     ]
    },
    {
     "name": "stderr",
     "output_type": "stream",
     "text": [
      "\r",
      " 12%|█▏        | 12/100 [00:57<07:03,  4.81s/it]"
     ]
    },
    {
     "name": "stdout",
     "output_type": "stream",
     "text": [
      "Index  12\n",
      "MAE 0.0010, PEHE 1.8919\n",
      "MAE 0.1388, PEHE 1.4915\n",
      "****************************************************************************************************\n"
     ]
    },
    {
     "name": "stderr",
     "output_type": "stream",
     "text": [
      "\r",
      " 13%|█▎        | 13/100 [01:02<06:57,  4.80s/it]"
     ]
    },
    {
     "name": "stdout",
     "output_type": "stream",
     "text": [
      "Index  13\n",
      "MAE 2.0310, PEHE 17.1992\n",
      "MAE 0.7415, PEHE 19.0687\n",
      "****************************************************************************************************\n"
     ]
    },
    {
     "name": "stderr",
     "output_type": "stream",
     "text": [
      "\r",
      " 14%|█▍        | 14/100 [01:06<06:52,  4.80s/it]"
     ]
    },
    {
     "name": "stdout",
     "output_type": "stream",
     "text": [
      "Index  14\n",
      "MAE 0.0328, PEHE 0.5065\n",
      "MAE 0.2686, PEHE 0.5116\n",
      "****************************************************************************************************\n"
     ]
    },
    {
     "name": "stderr",
     "output_type": "stream",
     "text": [
      "\r",
      " 15%|█▌        | 15/100 [01:11<06:45,  4.76s/it]"
     ]
    },
    {
     "name": "stdout",
     "output_type": "stream",
     "text": [
      "Index  15\n",
      "MAE 0.0010, PEHE 1.2762\n",
      "MAE 0.3478, PEHE 1.4477\n",
      "****************************************************************************************************\n"
     ]
    },
    {
     "name": "stderr",
     "output_type": "stream",
     "text": [
      "\r",
      " 16%|█▌        | 16/100 [01:16<06:37,  4.74s/it]"
     ]
    },
    {
     "name": "stdout",
     "output_type": "stream",
     "text": [
      "Index  16\n",
      "MAE 0.1363, PEHE 0.6920\n",
      "MAE 0.6117, PEHE 0.6800\n",
      "****************************************************************************************************\n"
     ]
    },
    {
     "name": "stderr",
     "output_type": "stream",
     "text": [
      "\r",
      " 17%|█▋        | 17/100 [01:21<06:33,  4.74s/it]"
     ]
    },
    {
     "name": "stdout",
     "output_type": "stream",
     "text": [
      "Index  17\n",
      "MAE 0.0010, PEHE 2.1657\n",
      "MAE 0.9689, PEHE 1.4846\n",
      "****************************************************************************************************\n"
     ]
    },
    {
     "name": "stderr",
     "output_type": "stream",
     "text": [
      "\r",
      " 18%|█▊        | 18/100 [01:25<06:32,  4.78s/it]"
     ]
    },
    {
     "name": "stdout",
     "output_type": "stream",
     "text": [
      "Index  18\n",
      "MAE 0.2368, PEHE 1.4212\n",
      "MAE 0.0181, PEHE 1.2572\n",
      "****************************************************************************************************\n"
     ]
    },
    {
     "name": "stderr",
     "output_type": "stream",
     "text": [
      "\r",
      " 19%|█▉        | 19/100 [01:30<06:28,  4.80s/it]"
     ]
    },
    {
     "name": "stdout",
     "output_type": "stream",
     "text": [
      "Index  19\n",
      "MAE 0.1168, PEHE 1.3619\n",
      "MAE 0.6018, PEHE 1.5131\n",
      "****************************************************************************************************\n"
     ]
    },
    {
     "name": "stderr",
     "output_type": "stream",
     "text": [
      "\r",
      " 20%|██        | 20/100 [01:35<06:24,  4.81s/it]"
     ]
    },
    {
     "name": "stdout",
     "output_type": "stream",
     "text": [
      "Index  20\n",
      "MAE 0.1674, PEHE 0.7273\n",
      "MAE 0.1911, PEHE 0.7816\n",
      "****************************************************************************************************\n"
     ]
    },
    {
     "name": "stderr",
     "output_type": "stream",
     "text": [
      "\r",
      " 21%|██        | 21/100 [01:40<06:20,  4.82s/it]"
     ]
    },
    {
     "name": "stdout",
     "output_type": "stream",
     "text": [
      "Index  21\n",
      "MAE 0.0818, PEHE 4.6028\n",
      "MAE 0.9642, PEHE 2.7833\n",
      "****************************************************************************************************\n"
     ]
    },
    {
     "name": "stderr",
     "output_type": "stream",
     "text": [
      "\r",
      " 22%|██▏       | 22/100 [01:45<06:15,  4.81s/it]"
     ]
    },
    {
     "name": "stdout",
     "output_type": "stream",
     "text": [
      "Index  22\n",
      "MAE 0.1452, PEHE 0.5288\n",
      "MAE 0.2146, PEHE 0.4781\n",
      "****************************************************************************************************\n"
     ]
    },
    {
     "name": "stderr",
     "output_type": "stream",
     "text": [
      "\r",
      " 23%|██▎       | 23/100 [01:50<06:11,  4.83s/it]"
     ]
    },
    {
     "name": "stdout",
     "output_type": "stream",
     "text": [
      "Index  23\n",
      "MAE 0.0010, PEHE 1.5570\n",
      "MAE 1.3453, PEHE 1.2474\n",
      "****************************************************************************************************\n"
     ]
    },
    {
     "name": "stderr",
     "output_type": "stream",
     "text": [
      "\r",
      " 24%|██▍       | 24/100 [01:54<06:06,  4.82s/it]"
     ]
    },
    {
     "name": "stdout",
     "output_type": "stream",
     "text": [
      "Index  24\n",
      "MAE 0.0010, PEHE 2.4846\n",
      "MAE 0.5244, PEHE 3.7124\n",
      "****************************************************************************************************\n"
     ]
    },
    {
     "name": "stderr",
     "output_type": "stream",
     "text": [
      "\r",
      " 25%|██▌       | 25/100 [01:59<06:02,  4.83s/it]"
     ]
    },
    {
     "name": "stdout",
     "output_type": "stream",
     "text": [
      "Index  25\n",
      "MAE 0.0044, PEHE 1.1384\n",
      "MAE 0.1221, PEHE 2.5541\n",
      "****************************************************************************************************\n"
     ]
    },
    {
     "name": "stderr",
     "output_type": "stream",
     "text": [
      "\r",
      " 26%|██▌       | 26/100 [02:04<05:55,  4.80s/it]"
     ]
    },
    {
     "name": "stdout",
     "output_type": "stream",
     "text": [
      "Index  26\n",
      "MAE 0.8053, PEHE 7.9992\n",
      "MAE 1.5180, PEHE 7.5514\n",
      "****************************************************************************************************\n"
     ]
    },
    {
     "name": "stderr",
     "output_type": "stream",
     "text": [
      "\r",
      " 27%|██▋       | 27/100 [02:09<05:50,  4.81s/it]"
     ]
    },
    {
     "name": "stdout",
     "output_type": "stream",
     "text": [
      "Index  27\n",
      "MAE 0.0156, PEHE 0.7939\n",
      "MAE 0.1568, PEHE 0.7376\n",
      "****************************************************************************************************\n"
     ]
    },
    {
     "name": "stderr",
     "output_type": "stream",
     "text": [
      "\r",
      " 28%|██▊       | 28/100 [02:14<05:49,  4.85s/it]"
     ]
    },
    {
     "name": "stdout",
     "output_type": "stream",
     "text": [
      "Index  28\n",
      "MAE 1.2287, PEHE 21.6791\n",
      "MAE 0.0671, PEHE 32.5411\n",
      "****************************************************************************************************\n"
     ]
    },
    {
     "name": "stderr",
     "output_type": "stream",
     "text": [
      "\r",
      " 29%|██▉       | 29/100 [02:19<05:43,  4.83s/it]"
     ]
    },
    {
     "name": "stdout",
     "output_type": "stream",
     "text": [
      "Index  29\n",
      "MAE 0.0010, PEHE 1.2025\n",
      "MAE 0.2012, PEHE 0.9561\n",
      "****************************************************************************************************\n"
     ]
    },
    {
     "name": "stderr",
     "output_type": "stream",
     "text": [
      "\r",
      " 30%|███       | 30/100 [02:23<05:37,  4.82s/it]"
     ]
    },
    {
     "name": "stdout",
     "output_type": "stream",
     "text": [
      "Index  30\n",
      "MAE 0.2119, PEHE 1.3142\n",
      "MAE 0.2741, PEHE 1.1133\n",
      "****************************************************************************************************\n"
     ]
    },
    {
     "name": "stderr",
     "output_type": "stream",
     "text": [
      "\r",
      " 31%|███       | 31/100 [02:28<05:32,  4.82s/it]"
     ]
    },
    {
     "name": "stdout",
     "output_type": "stream",
     "text": [
      "Index  31\n",
      "MAE 0.0211, PEHE 1.0544\n",
      "MAE 0.2247, PEHE 1.8339\n",
      "****************************************************************************************************\n"
     ]
    },
    {
     "name": "stderr",
     "output_type": "stream",
     "text": [
      "\r",
      " 32%|███▏      | 32/100 [02:33<05:25,  4.79s/it]"
     ]
    },
    {
     "name": "stdout",
     "output_type": "stream",
     "text": [
      "Index  32\n",
      "MAE 0.1205, PEHE 0.5065\n",
      "MAE 0.2795, PEHE 0.5450\n",
      "****************************************************************************************************\n"
     ]
    },
    {
     "name": "stderr",
     "output_type": "stream",
     "text": [
      "\r",
      " 33%|███▎      | 33/100 [02:38<05:22,  4.81s/it]"
     ]
    },
    {
     "name": "stdout",
     "output_type": "stream",
     "text": [
      "Index  33\n",
      "MAE 0.0010, PEHE 1.4292\n",
      "MAE 0.6373, PEHE 1.1747\n",
      "****************************************************************************************************\n"
     ]
    },
    {
     "name": "stderr",
     "output_type": "stream",
     "text": [
      "\r",
      " 34%|███▍      | 34/100 [02:43<05:18,  4.83s/it]"
     ]
    },
    {
     "name": "stdout",
     "output_type": "stream",
     "text": [
      "Index  34\n",
      "MAE 0.6232, PEHE 16.3221\n",
      "MAE 8.4951, PEHE 16.6723\n",
      "****************************************************************************************************\n"
     ]
    },
    {
     "name": "stderr",
     "output_type": "stream",
     "text": [
      "\r",
      " 35%|███▌      | 35/100 [02:47<05:14,  4.84s/it]"
     ]
    },
    {
     "name": "stdout",
     "output_type": "stream",
     "text": [
      "Index  35\n",
      "MAE 0.0307, PEHE 2.7334\n",
      "MAE 0.0183, PEHE 2.7590\n",
      "****************************************************************************************************\n"
     ]
    },
    {
     "name": "stderr",
     "output_type": "stream",
     "text": [
      "\r",
      " 36%|███▌      | 36/100 [02:53<05:14,  4.91s/it]"
     ]
    },
    {
     "name": "stdout",
     "output_type": "stream",
     "text": [
      "Index  36\n",
      "MAE 0.0017, PEHE 1.7443\n",
      "MAE 0.1471, PEHE 1.3653\n",
      "****************************************************************************************************\n"
     ]
    },
    {
     "name": "stderr",
     "output_type": "stream",
     "text": [
      "\r",
      " 37%|███▋      | 37/100 [02:58<05:14,  4.99s/it]"
     ]
    },
    {
     "name": "stdout",
     "output_type": "stream",
     "text": [
      "Index  37\n",
      "MAE 0.0010, PEHE 3.4124\n",
      "MAE 1.7242, PEHE 4.2087\n",
      "****************************************************************************************************\n"
     ]
    },
    {
     "name": "stderr",
     "output_type": "stream",
     "text": [
      "\r",
      " 38%|███▊      | 38/100 [03:03<05:11,  5.03s/it]"
     ]
    },
    {
     "name": "stdout",
     "output_type": "stream",
     "text": [
      "Index  38\n",
      "MAE 0.0010, PEHE 1.2932\n",
      "MAE 0.1858, PEHE 1.5136\n",
      "****************************************************************************************************\n"
     ]
    },
    {
     "name": "stderr",
     "output_type": "stream",
     "text": [
      "\r",
      " 39%|███▉      | 39/100 [03:08<05:09,  5.07s/it]"
     ]
    },
    {
     "name": "stdout",
     "output_type": "stream",
     "text": [
      "Index  39\n",
      "MAE 0.0010, PEHE 2.5929\n",
      "MAE 0.0634, PEHE 2.5689\n",
      "****************************************************************************************************\n"
     ]
    },
    {
     "name": "stderr",
     "output_type": "stream",
     "text": [
      "\r",
      " 40%|████      | 40/100 [03:13<05:09,  5.16s/it]"
     ]
    },
    {
     "name": "stdout",
     "output_type": "stream",
     "text": [
      "Index  40\n",
      "MAE 0.1857, PEHE 2.0706\n",
      "MAE 0.8209, PEHE 2.0497\n",
      "****************************************************************************************************\n"
     ]
    },
    {
     "name": "stderr",
     "output_type": "stream",
     "text": [
      "\r",
      " 41%|████      | 41/100 [03:18<05:02,  5.12s/it]"
     ]
    },
    {
     "name": "stdout",
     "output_type": "stream",
     "text": [
      "Index  41\n",
      "MAE 0.0180, PEHE 0.5745\n",
      "MAE 0.2024, PEHE 0.6902\n",
      "****************************************************************************************************\n"
     ]
    },
    {
     "name": "stderr",
     "output_type": "stream",
     "text": [
      "\r",
      " 42%|████▏     | 42/100 [03:23<04:53,  5.06s/it]"
     ]
    },
    {
     "name": "stdout",
     "output_type": "stream",
     "text": [
      "Index  42\n",
      "MAE 0.0010, PEHE 0.5947\n",
      "MAE 0.9422, PEHE 0.6083\n",
      "****************************************************************************************************\n"
     ]
    },
    {
     "name": "stderr",
     "output_type": "stream",
     "text": [
      "\r",
      " 43%|████▎     | 43/100 [03:28<04:45,  5.01s/it]"
     ]
    },
    {
     "name": "stdout",
     "output_type": "stream",
     "text": [
      "Index  43\n",
      "MAE 0.0415, PEHE 0.9362\n",
      "MAE 0.6534, PEHE 0.7257\n",
      "****************************************************************************************************\n"
     ]
    },
    {
     "name": "stderr",
     "output_type": "stream",
     "text": [
      "\r",
      " 44%|████▍     | 44/100 [03:33<04:39,  4.99s/it]"
     ]
    },
    {
     "name": "stdout",
     "output_type": "stream",
     "text": [
      "Index  44\n",
      "MAE 0.0010, PEHE 0.9804\n",
      "MAE 0.0957, PEHE 0.8264\n",
      "****************************************************************************************************\n"
     ]
    },
    {
     "name": "stderr",
     "output_type": "stream",
     "text": [
      "\r",
      " 45%|████▌     | 45/100 [03:38<04:33,  4.96s/it]"
     ]
    },
    {
     "name": "stdout",
     "output_type": "stream",
     "text": [
      "Index  45\n",
      "MAE 0.1409, PEHE 1.9086\n",
      "MAE 1.7594, PEHE 1.3629\n",
      "****************************************************************************************************\n"
     ]
    },
    {
     "name": "stderr",
     "output_type": "stream",
     "text": [
      "\r",
      " 46%|████▌     | 46/100 [03:43<04:27,  4.95s/it]"
     ]
    },
    {
     "name": "stdout",
     "output_type": "stream",
     "text": [
      "Index  46\n",
      "MAE 0.0640, PEHE 1.1612\n",
      "MAE 0.4961, PEHE 0.8493\n",
      "****************************************************************************************************\n"
     ]
    },
    {
     "name": "stderr",
     "output_type": "stream",
     "text": [
      "\r",
      " 47%|████▋     | 47/100 [03:48<04:23,  4.97s/it]"
     ]
    },
    {
     "name": "stdout",
     "output_type": "stream",
     "text": [
      "Index  47\n",
      "MAE 0.0735, PEHE 1.8354\n",
      "MAE 0.2806, PEHE 2.3469\n",
      "****************************************************************************************************\n"
     ]
    },
    {
     "name": "stderr",
     "output_type": "stream",
     "text": [
      "\r",
      " 48%|████▊     | 48/100 [03:53<04:20,  5.02s/it]"
     ]
    },
    {
     "name": "stdout",
     "output_type": "stream",
     "text": [
      "Index  48\n",
      "MAE 0.0005, PEHE 0.5836\n",
      "MAE 0.4330, PEHE 0.6867\n",
      "****************************************************************************************************\n"
     ]
    },
    {
     "name": "stderr",
     "output_type": "stream",
     "text": [
      "\r",
      " 49%|████▉     | 49/100 [03:58<04:15,  5.02s/it]"
     ]
    },
    {
     "name": "stdout",
     "output_type": "stream",
     "text": [
      "Index  49\n",
      "MAE 0.0010, PEHE 1.1773\n",
      "MAE 0.5596, PEHE 1.2212\n",
      "****************************************************************************************************\n"
     ]
    },
    {
     "name": "stderr",
     "output_type": "stream",
     "text": [
      "\r",
      " 50%|█████     | 50/100 [04:03<04:09,  4.99s/it]"
     ]
    },
    {
     "name": "stdout",
     "output_type": "stream",
     "text": [
      "Index  50\n",
      "MAE 0.0722, PEHE 1.0557\n",
      "MAE 0.0192, PEHE 1.0346\n",
      "****************************************************************************************************\n"
     ]
    },
    {
     "name": "stderr",
     "output_type": "stream",
     "text": [
      "\r",
      " 51%|█████     | 51/100 [04:08<04:03,  4.98s/it]"
     ]
    },
    {
     "name": "stdout",
     "output_type": "stream",
     "text": [
      "Index  51\n",
      "MAE 0.0056, PEHE 0.6789\n",
      "MAE 0.3124, PEHE 0.6953\n",
      "****************************************************************************************************\n"
     ]
    },
    {
     "name": "stderr",
     "output_type": "stream",
     "text": [
      "\r",
      " 52%|█████▏    | 52/100 [04:13<03:58,  4.98s/it]"
     ]
    },
    {
     "name": "stdout",
     "output_type": "stream",
     "text": [
      "Index  52\n",
      "MAE 0.0010, PEHE 1.2406\n",
      "MAE 0.2955, PEHE 1.3217\n",
      "****************************************************************************************************\n"
     ]
    },
    {
     "name": "stderr",
     "output_type": "stream",
     "text": [
      "\r",
      " 53%|█████▎    | 53/100 [04:18<03:54,  4.99s/it]"
     ]
    },
    {
     "name": "stdout",
     "output_type": "stream",
     "text": [
      "Index  53\n",
      "MAE 0.3880, PEHE 5.2075\n",
      "MAE 1.9201, PEHE 4.3927\n",
      "****************************************************************************************************\n"
     ]
    },
    {
     "name": "stderr",
     "output_type": "stream",
     "text": [
      "\r",
      " 54%|█████▍    | 54/100 [04:23<03:49,  4.99s/it]"
     ]
    },
    {
     "name": "stdout",
     "output_type": "stream",
     "text": [
      "Index  54\n",
      "MAE 0.0010, PEHE 4.1941\n",
      "MAE 0.3247, PEHE 3.7972\n",
      "****************************************************************************************************\n"
     ]
    },
    {
     "name": "stderr",
     "output_type": "stream",
     "text": [
      "\r",
      " 55%|█████▌    | 55/100 [04:28<03:44,  4.98s/it]"
     ]
    },
    {
     "name": "stdout",
     "output_type": "stream",
     "text": [
      "Index  55\n",
      "MAE 0.0206, PEHE 0.6971\n",
      "MAE 0.0187, PEHE 0.9255\n",
      "****************************************************************************************************\n"
     ]
    },
    {
     "name": "stderr",
     "output_type": "stream",
     "text": [
      "\r",
      " 56%|█████▌    | 56/100 [04:33<03:38,  4.97s/it]"
     ]
    },
    {
     "name": "stdout",
     "output_type": "stream",
     "text": [
      "Index  56\n",
      "MAE 0.1603, PEHE 0.4804\n",
      "MAE 0.4639, PEHE 0.5597\n",
      "****************************************************************************************************\n"
     ]
    },
    {
     "name": "stderr",
     "output_type": "stream",
     "text": [
      "\r",
      " 57%|█████▋    | 57/100 [04:38<03:33,  4.96s/it]"
     ]
    },
    {
     "name": "stdout",
     "output_type": "stream",
     "text": [
      "Index  57\n",
      "MAE 0.0010, PEHE 0.6049\n",
      "MAE 0.1067, PEHE 0.5768\n",
      "****************************************************************************************************\n"
     ]
    },
    {
     "name": "stderr",
     "output_type": "stream",
     "text": [
      "\r",
      " 58%|█████▊    | 58/100 [04:43<03:30,  5.00s/it]"
     ]
    },
    {
     "name": "stdout",
     "output_type": "stream",
     "text": [
      "Index  58\n",
      "MAE 0.3797, PEHE 1.1566\n",
      "MAE 0.1553, PEHE 1.1371\n",
      "****************************************************************************************************\n"
     ]
    },
    {
     "name": "stderr",
     "output_type": "stream",
     "text": [
      "\r",
      " 59%|█████▉    | 59/100 [04:48<03:24,  5.00s/it]"
     ]
    },
    {
     "name": "stdout",
     "output_type": "stream",
     "text": [
      "Index  59\n",
      "MAE 0.3105, PEHE 0.6482\n",
      "MAE 0.0889, PEHE 0.6573\n",
      "****************************************************************************************************\n"
     ]
    },
    {
     "name": "stderr",
     "output_type": "stream",
     "text": [
      "\r",
      " 60%|██████    | 60/100 [04:53<03:20,  5.01s/it]"
     ]
    },
    {
     "name": "stdout",
     "output_type": "stream",
     "text": [
      "Index  60\n",
      "MAE 0.2866, PEHE 4.9084\n",
      "MAE 2.1406, PEHE 3.6860\n",
      "****************************************************************************************************\n"
     ]
    },
    {
     "name": "stderr",
     "output_type": "stream",
     "text": [
      "\r",
      " 61%|██████    | 61/100 [04:58<03:15,  5.02s/it]"
     ]
    },
    {
     "name": "stdout",
     "output_type": "stream",
     "text": [
      "Index  61\n",
      "MAE 0.1203, PEHE 0.5880\n",
      "MAE 0.0055, PEHE 0.6010\n",
      "****************************************************************************************************\n"
     ]
    },
    {
     "name": "stderr",
     "output_type": "stream",
     "text": [
      "\r",
      " 62%|██████▏   | 62/100 [05:03<03:10,  5.01s/it]"
     ]
    },
    {
     "name": "stdout",
     "output_type": "stream",
     "text": [
      "Index  62\n",
      "MAE 0.0010, PEHE 1.0429\n",
      "MAE 0.3434, PEHE 1.0069\n",
      "****************************************************************************************************\n"
     ]
    },
    {
     "name": "stderr",
     "output_type": "stream",
     "text": [
      "\r",
      " 63%|██████▎   | 63/100 [05:08<03:05,  5.01s/it]"
     ]
    },
    {
     "name": "stdout",
     "output_type": "stream",
     "text": [
      "Index  63\n",
      "MAE 0.1243, PEHE 1.2300\n",
      "MAE 0.1563, PEHE 1.7664\n",
      "****************************************************************************************************\n"
     ]
    },
    {
     "name": "stderr",
     "output_type": "stream",
     "text": [
      "\r",
      " 64%|██████▍   | 64/100 [05:13<03:00,  5.01s/it]"
     ]
    },
    {
     "name": "stdout",
     "output_type": "stream",
     "text": [
      "Index  64\n",
      "MAE 0.0010, PEHE 1.1849\n",
      "MAE 0.1300, PEHE 1.6619\n",
      "****************************************************************************************************\n"
     ]
    },
    {
     "name": "stderr",
     "output_type": "stream",
     "text": [
      "\r",
      " 65%|██████▌   | 65/100 [05:18<02:53,  4.96s/it]"
     ]
    },
    {
     "name": "stdout",
     "output_type": "stream",
     "text": [
      "Index  65\n",
      "MAE 0.0010, PEHE 1.9195\n",
      "MAE 0.4106, PEHE 3.1723\n",
      "****************************************************************************************************\n"
     ]
    },
    {
     "name": "stderr",
     "output_type": "stream",
     "text": [
      "\r",
      " 66%|██████▌   | 66/100 [05:23<02:48,  4.96s/it]"
     ]
    },
    {
     "name": "stdout",
     "output_type": "stream",
     "text": [
      "Index  66\n",
      "MAE 0.0010, PEHE 0.7461\n",
      "MAE 0.1626, PEHE 1.3505\n",
      "****************************************************************************************************\n"
     ]
    },
    {
     "name": "stderr",
     "output_type": "stream",
     "text": [
      "\r",
      " 67%|██████▋   | 67/100 [05:28<02:43,  4.97s/it]"
     ]
    },
    {
     "name": "stdout",
     "output_type": "stream",
     "text": [
      "Index  67\n",
      "MAE 0.1030, PEHE 0.5571\n",
      "MAE 0.0970, PEHE 0.5712\n",
      "****************************************************************************************************\n"
     ]
    },
    {
     "name": "stderr",
     "output_type": "stream",
     "text": [
      "\r",
      " 68%|██████▊   | 68/100 [05:33<02:41,  5.04s/it]"
     ]
    },
    {
     "name": "stdout",
     "output_type": "stream",
     "text": [
      "Index  68\n",
      "MAE 0.0010, PEHE 7.9435\n",
      "MAE 1.4413, PEHE 7.3299\n",
      "****************************************************************************************************\n"
     ]
    },
    {
     "name": "stderr",
     "output_type": "stream",
     "text": [
      "\r",
      " 69%|██████▉   | 69/100 [05:38<02:38,  5.11s/it]"
     ]
    },
    {
     "name": "stdout",
     "output_type": "stream",
     "text": [
      "Index  69\n",
      "MAE 0.0158, PEHE 0.5579\n",
      "MAE 0.0591, PEHE 0.5567\n",
      "****************************************************************************************************\n"
     ]
    },
    {
     "name": "stderr",
     "output_type": "stream",
     "text": [
      "\r",
      " 70%|███████   | 70/100 [05:43<02:32,  5.09s/it]"
     ]
    },
    {
     "name": "stdout",
     "output_type": "stream",
     "text": [
      "Index  70\n",
      "MAE 0.0431, PEHE 0.4577\n",
      "MAE 0.1650, PEHE 0.3440\n",
      "****************************************************************************************************\n"
     ]
    },
    {
     "name": "stderr",
     "output_type": "stream",
     "text": [
      "\r",
      " 71%|███████   | 71/100 [05:48<02:28,  5.11s/it]"
     ]
    },
    {
     "name": "stdout",
     "output_type": "stream",
     "text": [
      "Index  71\n",
      "MAE 0.0010, PEHE 3.7109\n",
      "MAE 0.2644, PEHE 2.7706\n",
      "****************************************************************************************************\n"
     ]
    },
    {
     "name": "stderr",
     "output_type": "stream",
     "text": [
      "\r",
      " 72%|███████▏  | 72/100 [05:54<02:23,  5.14s/it]"
     ]
    },
    {
     "name": "stdout",
     "output_type": "stream",
     "text": [
      "Index  72\n",
      "MAE 0.0481, PEHE 0.4284\n",
      "MAE 0.4864, PEHE 0.4022\n",
      "****************************************************************************************************\n"
     ]
    },
    {
     "name": "stderr",
     "output_type": "stream",
     "text": [
      "\r",
      " 73%|███████▎  | 73/100 [05:59<02:19,  5.16s/it]"
     ]
    },
    {
     "name": "stdout",
     "output_type": "stream",
     "text": [
      "Index  73\n",
      "MAE 0.0010, PEHE 0.4952\n",
      "MAE 0.0437, PEHE 0.4972\n",
      "****************************************************************************************************\n"
     ]
    },
    {
     "name": "stderr",
     "output_type": "stream",
     "text": [
      "\r",
      " 74%|███████▍  | 74/100 [06:04<02:13,  5.14s/it]"
     ]
    },
    {
     "name": "stdout",
     "output_type": "stream",
     "text": [
      "Index  74\n",
      "MAE 0.1119, PEHE 0.5205\n",
      "MAE 0.4136, PEHE 0.4464\n",
      "****************************************************************************************************\n"
     ]
    },
    {
     "name": "stderr",
     "output_type": "stream",
     "text": [
      "\r",
      " 75%|███████▌  | 75/100 [06:09<02:07,  5.09s/it]"
     ]
    },
    {
     "name": "stdout",
     "output_type": "stream",
     "text": [
      "Index  75\n",
      "MAE 0.2046, PEHE 0.4789\n",
      "MAE 0.4527, PEHE 0.4874\n",
      "****************************************************************************************************\n"
     ]
    },
    {
     "name": "stderr",
     "output_type": "stream",
     "text": [
      "\r",
      " 76%|███████▌  | 76/100 [06:14<01:59,  4.97s/it]"
     ]
    },
    {
     "name": "stdout",
     "output_type": "stream",
     "text": [
      "Index  76\n",
      "MAE 0.0010, PEHE 3.0917\n",
      "MAE 0.8216, PEHE 3.2493\n",
      "****************************************************************************************************\n"
     ]
    },
    {
     "name": "stderr",
     "output_type": "stream",
     "text": [
      "\r",
      " 77%|███████▋  | 77/100 [06:18<01:52,  4.89s/it]"
     ]
    },
    {
     "name": "stdout",
     "output_type": "stream",
     "text": [
      "Index  77\n",
      "MAE 0.2250, PEHE 0.5661\n",
      "MAE 0.3176, PEHE 0.4722\n",
      "****************************************************************************************************\n"
     ]
    },
    {
     "name": "stderr",
     "output_type": "stream",
     "text": [
      "\r",
      " 78%|███████▊  | 78/100 [06:23<01:47,  4.87s/it]"
     ]
    },
    {
     "name": "stdout",
     "output_type": "stream",
     "text": [
      "Index  78\n",
      "MAE 0.0005, PEHE 0.3969\n",
      "MAE 0.1520, PEHE 0.3746\n",
      "****************************************************************************************************\n"
     ]
    },
    {
     "name": "stderr",
     "output_type": "stream",
     "text": [
      "\r",
      " 79%|███████▉  | 79/100 [06:28<01:41,  4.85s/it]"
     ]
    },
    {
     "name": "stdout",
     "output_type": "stream",
     "text": [
      "Index  79\n",
      "MAE 0.2359, PEHE 0.6088\n",
      "MAE 0.2729, PEHE 0.6193\n",
      "****************************************************************************************************\n"
     ]
    },
    {
     "name": "stderr",
     "output_type": "stream",
     "text": [
      "\r",
      " 80%|████████  | 80/100 [06:33<01:36,  4.82s/it]"
     ]
    },
    {
     "name": "stdout",
     "output_type": "stream",
     "text": [
      "Index  80\n",
      "MAE 0.0010, PEHE 0.6027\n",
      "MAE 0.0389, PEHE 0.4918\n",
      "****************************************************************************************************\n"
     ]
    },
    {
     "name": "stderr",
     "output_type": "stream",
     "text": [
      "\r",
      " 81%|████████  | 81/100 [06:37<01:30,  4.78s/it]"
     ]
    },
    {
     "name": "stdout",
     "output_type": "stream",
     "text": [
      "Index  81\n",
      "MAE 0.0010, PEHE 10.8862\n",
      "MAE 9.0892, PEHE 11.6523\n",
      "****************************************************************************************************\n"
     ]
    },
    {
     "name": "stderr",
     "output_type": "stream",
     "text": [
      "\r",
      " 82%|████████▏ | 82/100 [06:42<01:25,  4.76s/it]"
     ]
    },
    {
     "name": "stdout",
     "output_type": "stream",
     "text": [
      "Index  82\n",
      "MAE 0.7961, PEHE 3.9183\n",
      "MAE 0.6944, PEHE 5.0063\n",
      "****************************************************************************************************\n"
     ]
    },
    {
     "name": "stderr",
     "output_type": "stream",
     "text": [
      "\r",
      " 83%|████████▎ | 83/100 [06:47<01:21,  4.79s/it]"
     ]
    },
    {
     "name": "stdout",
     "output_type": "stream",
     "text": [
      "Index  83\n",
      "MAE 0.1410, PEHE 1.7306\n",
      "MAE 0.4918, PEHE 2.0424\n",
      "****************************************************************************************************\n"
     ]
    },
    {
     "name": "stderr",
     "output_type": "stream",
     "text": [
      "\r",
      " 84%|████████▍ | 84/100 [06:52<01:16,  4.78s/it]"
     ]
    },
    {
     "name": "stdout",
     "output_type": "stream",
     "text": [
      "Index  84\n",
      "MAE 1.3665, PEHE 7.7961\n",
      "MAE 6.4334, PEHE 8.4203\n",
      "****************************************************************************************************\n"
     ]
    },
    {
     "name": "stderr",
     "output_type": "stream",
     "text": [
      "\r",
      " 85%|████████▌ | 85/100 [06:57<01:12,  4.81s/it]"
     ]
    },
    {
     "name": "stdout",
     "output_type": "stream",
     "text": [
      "Index  85\n",
      "MAE 3.3875, PEHE 15.5297\n",
      "MAE 2.3073, PEHE 11.8776\n",
      "****************************************************************************************************\n"
     ]
    },
    {
     "name": "stderr",
     "output_type": "stream",
     "text": [
      "\r",
      " 86%|████████▌ | 86/100 [07:02<01:08,  4.87s/it]"
     ]
    },
    {
     "name": "stdout",
     "output_type": "stream",
     "text": [
      "Index  86\n",
      "MAE 0.1222, PEHE 7.2043\n",
      "MAE 2.0545, PEHE 9.6314\n",
      "****************************************************************************************************\n"
     ]
    },
    {
     "name": "stderr",
     "output_type": "stream",
     "text": [
      "\r",
      " 87%|████████▋ | 87/100 [07:06<01:03,  4.86s/it]"
     ]
    },
    {
     "name": "stdout",
     "output_type": "stream",
     "text": [
      "Index  87\n",
      "MAE 0.4198, PEHE 1.2218\n",
      "MAE 0.5799, PEHE 1.3242\n",
      "****************************************************************************************************\n"
     ]
    },
    {
     "name": "stderr",
     "output_type": "stream",
     "text": [
      "\r",
      " 88%|████████▊ | 88/100 [07:11<00:57,  4.81s/it]"
     ]
    },
    {
     "name": "stdout",
     "output_type": "stream",
     "text": [
      "Index  88\n",
      "MAE 0.2226, PEHE 0.5407\n",
      "MAE 0.0734, PEHE 0.5073\n",
      "****************************************************************************************************\n"
     ]
    },
    {
     "name": "stderr",
     "output_type": "stream",
     "text": [
      "\r",
      " 89%|████████▉ | 89/100 [07:16<00:52,  4.80s/it]"
     ]
    },
    {
     "name": "stdout",
     "output_type": "stream",
     "text": [
      "Index  89\n",
      "MAE 0.0010, PEHE 1.4675\n",
      "MAE 0.5026, PEHE 1.1129\n",
      "****************************************************************************************************\n"
     ]
    },
    {
     "name": "stderr",
     "output_type": "stream",
     "text": [
      "\r",
      " 90%|█████████ | 90/100 [07:21<00:47,  4.79s/it]"
     ]
    },
    {
     "name": "stdout",
     "output_type": "stream",
     "text": [
      "Index  90\n",
      "MAE 0.0010, PEHE 0.7910\n",
      "MAE 0.7275, PEHE 0.7678\n",
      "****************************************************************************************************\n"
     ]
    },
    {
     "name": "stderr",
     "output_type": "stream",
     "text": [
      "\r",
      " 91%|█████████ | 91/100 [07:26<00:43,  4.80s/it]"
     ]
    },
    {
     "name": "stdout",
     "output_type": "stream",
     "text": [
      "Index  91\n",
      "MAE 0.4053, PEHE 0.7053\n",
      "MAE 0.4736, PEHE 0.7262\n",
      "****************************************************************************************************\n"
     ]
    },
    {
     "name": "stderr",
     "output_type": "stream",
     "text": [
      "\r",
      " 92%|█████████▏| 92/100 [07:30<00:38,  4.78s/it]"
     ]
    },
    {
     "name": "stdout",
     "output_type": "stream",
     "text": [
      "Index  92\n",
      "MAE 0.2200, PEHE 1.6340\n",
      "MAE 0.2350, PEHE 1.4359\n",
      "****************************************************************************************************\n"
     ]
    },
    {
     "name": "stderr",
     "output_type": "stream",
     "text": [
      "\r",
      " 93%|█████████▎| 93/100 [07:35<00:33,  4.78s/it]"
     ]
    },
    {
     "name": "stdout",
     "output_type": "stream",
     "text": [
      "Index  93\n",
      "MAE 0.0005, PEHE 7.8607\n",
      "MAE 0.1676, PEHE 5.8315\n",
      "****************************************************************************************************\n"
     ]
    },
    {
     "name": "stderr",
     "output_type": "stream",
     "text": [
      "\r",
      " 94%|█████████▍| 94/100 [07:40<00:28,  4.76s/it]"
     ]
    },
    {
     "name": "stdout",
     "output_type": "stream",
     "text": [
      "Index  94\n",
      "MAE 0.0010, PEHE 0.6539\n",
      "MAE 0.1155, PEHE 0.7110\n",
      "****************************************************************************************************\n"
     ]
    },
    {
     "name": "stderr",
     "output_type": "stream",
     "text": [
      "\r",
      " 95%|█████████▌| 95/100 [07:44<00:23,  4.75s/it]"
     ]
    },
    {
     "name": "stdout",
     "output_type": "stream",
     "text": [
      "Index  95\n",
      "MAE 0.0010, PEHE 0.6946\n",
      "MAE 0.0644, PEHE 0.6759\n",
      "****************************************************************************************************\n"
     ]
    },
    {
     "name": "stderr",
     "output_type": "stream",
     "text": [
      "\r",
      " 96%|█████████▌| 96/100 [07:49<00:18,  4.74s/it]"
     ]
    },
    {
     "name": "stdout",
     "output_type": "stream",
     "text": [
      "Index  96\n",
      "MAE 0.0986, PEHE 0.9163\n",
      "MAE 0.5553, PEHE 1.6191\n",
      "****************************************************************************************************\n"
     ]
    },
    {
     "name": "stderr",
     "output_type": "stream",
     "text": [
      "\r",
      " 97%|█████████▋| 97/100 [07:54<00:14,  4.73s/it]"
     ]
    },
    {
     "name": "stdout",
     "output_type": "stream",
     "text": [
      "Index  97\n",
      "MAE 0.0499, PEHE 0.7732\n",
      "MAE 0.1238, PEHE 0.7213\n",
      "****************************************************************************************************\n"
     ]
    },
    {
     "name": "stderr",
     "output_type": "stream",
     "text": [
      "\r",
      " 98%|█████████▊| 98/100 [07:59<00:09,  4.76s/it]"
     ]
    },
    {
     "name": "stdout",
     "output_type": "stream",
     "text": [
      "Index  98\n",
      "MAE 0.0010, PEHE 4.5816\n",
      "MAE 0.6522, PEHE 7.0810\n",
      "****************************************************************************************************\n"
     ]
    },
    {
     "name": "stderr",
     "output_type": "stream",
     "text": [
      "\r",
      " 99%|█████████▉| 99/100 [08:04<00:04,  4.77s/it]"
     ]
    },
    {
     "name": "stdout",
     "output_type": "stream",
     "text": [
      "Index  99\n",
      "MAE 0.1012, PEHE 1.7562\n",
      "MAE 0.0572, PEHE 1.3023\n",
      "****************************************************************************************************\n"
     ]
    },
    {
     "name": "stderr",
     "output_type": "stream",
     "text": [
      "100%|██████████| 100/100 [08:08<00:00,  4.89s/it]"
     ]
    },
    {
     "name": "stdout",
     "output_type": "stream",
     "text": [
      "Index  100\n",
      "MAE 0.3384, PEHE 0.6815\n",
      "MAE 0.0747, PEHE 0.8508\n",
      "****************************************************************************************************\n"
     ]
    },
    {
     "name": "stderr",
     "output_type": "stream",
     "text": [
      "\n"
     ]
    }
   ],
   "source": [
    "delta_seq = np.load('delta.npy')\n",
    "\n",
    "PATH_TRAIN = \"/home/dtd/Documents/data/idhp/ihdp_npci_1-100.train.npz\"\n",
    "PATH_TEST = \"/home/dtd/Documents/data/idhp/ihdp_npci_1-100.test.npz\"\n",
    "\n",
    "mae_incre_seq  = []\n",
    "rmse  = []\n",
    "rmse1  = []\n",
    "rmse2  = []\n",
    "\n",
    "for index_ in tqdm(range(1,101)):    \n",
    "    data = utils.load_data(PATH_TRAIN, index_)\n",
    "    data_test = utils.load_data(PATH_TEST, index_)\n",
    "\n",
    "    #Incremental propensity score\n",
    "    ## Fit treatment\n",
    "    model_t = LogisticRegression()\n",
    "    model_t.fit(data[cov], data[treatment])\n",
    "    \n",
    "\n",
    "    ## Fit outcome\n",
    "    model_y = GradientBoostingRegressor(random_state=0, n_estimators = 5000)\n",
    "    model_y.fit(data[features].values, data[outcome].values)\n",
    "    y_pred = model_y.predict(data_test[features].values)\n",
    "    rmse.append(mean_squared_error(data_test[outcome].values, \n",
    "                                       y_pred,\n",
    "                                       sample_weight=None, \n",
    "                                       multioutput='uniform_average', \n",
    "                                       squared=False))\n",
    "\n",
    "    delta = delta_seq[index_ - 1]\n",
    "    \n",
    "    ## df_train\n",
    "    influence = ipse.influence_function(data, treatment, cov, outcome, features, delta, model_y, model_t)\n",
    "    means_incre, stds_incre = np.mean(influence, axis=0), sem(influence, axis=0)\n",
    "    \n",
    "    \n",
    "    true_effect = data['mu1'] - data['mu0']\n",
    "    means, stds = np.mean(true_effect, axis=0), sem(true_effect, axis=0)\n",
    "    \n",
    "    mae_incre = utils.abs_ate(means, means_incre)\n",
    "    \n",
    "    df_train_result.loc[index_ - 1, 'incremental'] = mae_incre\n",
    "    pehe = utils.pehe(data['mu1'], data['mu0'], data['cf1'], data['cf0'])\n",
    "    print(\"Index \", index_)\n",
    "    print(\"MAE {:.4f}, PEHE {:.4f}\".format(mae_incre, pehe))\n",
    "    \n",
    "    df_train_result.loc[index_ - 1, 'incremental_pehe'] = pehe\n",
    "    \n",
    "    ## df_test\n",
    "    influence = ipse.influence_function(data_test, treatment, cov, outcome, features, delta, model_y, model_t)\n",
    "    means_incre, stds_incre = np.mean(influence, axis=0), sem(influence, axis=0)\n",
    "\n",
    "    true_effect = data_test['mu1'] - data_test['mu0']\n",
    "    means, stds = np.mean(true_effect, axis=0), sem(true_effect, axis=0)\n",
    "    \n",
    "    mae_incre = utils.abs_ate(means, means_incre)\n",
    "    pehe = utils.pehe(data_test['mu1'], data_test['mu0'], data_test['cf1'], data_test['cf0'])\n",
    "    \n",
    "    df_test_result.loc[index_ - 1, 'incremental'] = mae_incre\n",
    "    df_test_result.loc[index_ - 1, 'incremental_pehe'] = pehe\n",
    "    \n",
    "    print(\"MAE {:.4f}, PEHE {:.4f}\".format(mae_incre, pehe))\n",
    "\n",
    "    print(\"*\"*100)"
   ]
  },
  {
   "cell_type": "code",
   "execution_count": 15,
   "metadata": {},
   "outputs": [
    {
     "name": "stdout",
     "output_type": "stream",
     "text": [
      "MAE - Incremental  0.1842470026240425\n",
      "MAE - Incremental  0.6930728889683614\n",
      "PEHE - Incremental  2.5191639927754483\n",
      "PHEE - Incremental  2.7597990630576454\n"
     ]
    }
   ],
   "source": [
    "print(\"MAE - Incremental \", np.mean(df_train_result.incremental.mean()))\n",
    "print(\"MAE - Incremental \", np.mean(df_test_result.incremental.mean()))\n",
    "print(\"PEHE - Incremental \", np.mean(df_train_result.incremental_pehe.mean()))\n",
    "print(\"PHEE - Incremental \", np.mean(df_test_result.incremental_pehe.mean()))\n"
   ]
  },
  {
   "cell_type": "code",
   "execution_count": null,
   "metadata": {},
   "outputs": [],
   "source": [
    "# MAE - Incremental  0.42532114248173786\n",
    "# MAE - Incremental  0.5544695165630058\n",
    "## Gradient boosting\n",
    "# MAE - Incremental  0.2173673527217913\n",
    "# MAE - Incremental  0.6196024525840684\n"
   ]
  },
  {
   "cell_type": "code",
   "execution_count": null,
   "metadata": {},
   "outputs": [],
   "source": [
    "# cfrnet = (0.299  + 0.262)/2"
   ]
  },
  {
   "cell_type": "markdown",
   "metadata": {},
   "source": [
    "### Continuous delta"
   ]
  },
  {
   "cell_type": "code",
   "execution_count": 28,
   "metadata": {},
   "outputs": [
    {
     "ename": "IndexError",
     "evalue": "index 1 is out of bounds for axis 0 with size 1",
     "output_type": "error",
     "traceback": [
      "\u001b[0;31m---------------------------------------------------------------------------\u001b[0m",
      "\u001b[0;31mIndexError\u001b[0m                                Traceback (most recent call last)",
      "\u001b[0;32m<ipython-input-28-bc53edce5213>\u001b[0m in \u001b[0;36m<module>\u001b[0;34m\u001b[0m\n\u001b[0;32m----> 1\u001b[0;31m \u001b[0mdelta_seq\u001b[0m\u001b[0;34m[\u001b[0m\u001b[0;36m1\u001b[0m\u001b[0;34m]\u001b[0m\u001b[0;34m\u001b[0m\u001b[0;34m\u001b[0m\u001b[0m\n\u001b[0m",
      "\u001b[0;31mIndexError\u001b[0m: index 1 is out of bounds for axis 0 with size 1"
     ]
    }
   ],
   "source": [
    "delta_seq[1]"
   ]
  },
  {
   "cell_type": "code",
   "execution_count": 33,
   "metadata": {},
   "outputs": [
    {
     "name": "stderr",
     "output_type": "stream",
     "text": [
      "100%|██████████| 9/9 [00:42<00:00,  4.69s/it]\n"
     ]
    }
   ],
   "source": [
    "delta_seq = np.load('list_delta_.npy')\n",
    "PATH_TRAIN = \"/home/dtd/Documents/interpretable_machine_learning/Source Code/data/ihdp_npci_1-100.train.npz\"\n",
    "PATH_TEST = \"/home/dtd/Documents/interpretable_machine_learning/Source Code/data/ihdp_npci_1-100.test.npz\"\n",
    "\n",
    "\n",
    "for index_ in tqdm(range(1,10)):    \n",
    "    data = utils.load_data(PATH_TRAIN, index_)\n",
    "    data_test = utils.load_data(PATH_TEST, index_)\n",
    "\n",
    "    #Incremental propensity score\n",
    "    ## Fit treatment\n",
    "    model_t = LogisticRegression()\n",
    "    model_t.fit(data[cov], data[treatment])\n",
    "    \n",
    "\n",
    "    ## Fit outcome\n",
    "    model_y = GradientBoostingRegressor(random_state=0, n_estimators = 5000)\n",
    "    model_y.fit(data[features], data[outcome])\n",
    "\n",
    "    data['p1'] = model_t.predict_proba(data[cov])[:,1]\n",
    "    data_test['p1'] = model_t.predict_proba(data_test[cov])[:,1]\n",
    "\n",
    "    treated_neighbors = (\n",
    "            NearestNeighbors(n_neighbors=1, algorithm='ball_tree')\n",
    "            .fit(data['p1'].values.reshape(-1, 1))\n",
    "    )\n",
    "    distances, indices = treated_neighbors.kneighbors(data_test['p1'].values.reshape(-1, 1))\n",
    "    \n",
    "    \"\"\"\n",
    "    print(data.loc[indices[0],'p1'], data_test.loc[0,'p1'])\n",
    "    print(data.loc[indices[1],'p1'], data_test.loc[1,'p1'])\n",
    "    print(data.loc[indices[2],'p1'], data_test.loc[2,'p1'])\n",
    "    print(data.loc[indices[3],'p1'], data_test.loc[3,'p1'])\n",
    "    print(data.loc[indices[73],'p1'], data_test.loc[73,'p1'])\n",
    "    print(data.loc[indices[74],'p1'], data_test.loc[74,'p1'])\n",
    "    \"\"\"\n",
    "    \n",
    "    delta = delta_seq[index_ - 1]\n",
    "    \n",
    "    ## df_train\n",
    "    influence = ipse.influence_function(data, treatment, cov, outcome, features, delta, model_y, model_t)\n",
    "    means_incre, stds_incre = np.mean(influence, axis=0), sem(influence, axis=0)\n",
    "\n",
    "    true_effect = data['mu1'] - data['mu0']\n",
    "    means, stds = np.mean(true_effect, axis=0), sem(true_effect, axis=0)\n",
    "    \n",
    "    mae_incre = utils.abs_ate(means, means_incre)\n",
    "    #print(\"Data train index {}. MAE {:.2f}\".format(index_, mae_incre))\n",
    "\n",
    "    df_train_result.loc[index_ - 1, 'incremental_con'] = mae_incre\n",
    "    \n",
    "    ## df_test\n",
    "    delta = delta_seq[index_ - 1][indices.reshape(-1)]\n",
    "    influence = ipse.influence_function(data_test, treatment, cov, outcome, features, delta, model_y, model_t)\n",
    "    means_incre, stds_incre = np.mean(influence, axis=0), sem(influence, axis=0)\n",
    "\n",
    "    true_effect = data_test['mu1'] - data_test['mu0']\n",
    "    means, stds = np.mean(true_effect, axis=0), sem(true_effect, axis=0)\n",
    "    \n",
    "    mae_incre = utils.abs_ate(means, means_incre)\n",
    "    \n",
    "    df_test_result.loc[index_ - 1, 'incremental_con'] = mae_incre\n",
    "    \n",
    "    #print(\"Data test index {}. MAE {:.2f}\".format(index_, mae_incre))\n"
   ]
  },
  {
   "cell_type": "code",
   "execution_count": 34,
   "metadata": {},
   "outputs": [
    {
     "data": {
      "image/png": "[encoded data removed]",
      "text/latex": [
       "$\\displaystyle \\left( 0.045091715562408805, \\  0.9936829561378182\\right)$"
      ],
      "text/plain": [
       "(0.045091715562408805, 0.9936829561378182)"
      ]
     },
     "execution_count": 34,
     "metadata": {},
     "output_type": "execute_result"
    }
   ],
   "source": [
    "df_train_result.incremental_con.mean(), df_test_result.incremental_con.mean()"
   ]
  },
  {
   "cell_type": "markdown",
   "metadata": {},
   "source": [
    "### Counterfactual Representation"
   ]
  },
  {
   "cell_type": "code",
   "execution_count": 11,
   "metadata": {},
   "outputs": [],
   "source": [
    "mmd_train = 0.282\n",
    "mmd_test = 0.299\n",
    "wass_train  = 0.255\n",
    "wass_test  = 0.262\n",
    "bnn_0_4_train = (1.445 + 2.021) / 2\n",
    "bnn_0_4_test = (1.240 + 1.791) / 2\n",
    "bnn_2_2_train = 0.229\n",
    "bnn_2_2_test = 0.261\n"
   ]
  },
  {
   "cell_type": "markdown",
   "metadata": {},
   "source": [
    "## Conclusion"
   ]
  },
  {
   "cell_type": "code",
   "execution_count": 12,
   "metadata": {},
   "outputs": [],
   "source": [
    "RESULT_PATH = \"/home/dtd/Documents/PhD_Life/Source Code/my_work/result/idhp\"\n",
    "df_train_result = pd.read_csv(RESULT_PATH + \"/train_result.csv\")\n",
    "df_test_result = pd.read_csv(RESULT_PATH + \"/test_result.csv\")\n",
    "\n",
    "training_result = {}\n",
    "training_result[\"Linear_Regression\"] = [df_train_result.linear_regression.mean(),\n",
    "                                        df_train_result.linear_regression.std()\n",
    "                                       ]\n",
    "training_result[\"K-NN\"] = [df_train_result.mea_knn.mean(),\n",
    "                           df_train_result.mea_knn.std()\n",
    "                          ]\n",
    "training_result[\"Incremental_Con_PS\"] = [df_train_result.incremental_con.mean(),\n",
    "                                         df_train_result.incremental_con.std()\n",
    "                                        ]\n",
    "training_result[\"CFR_WASS\"] = [wass_train, 0.032]\n",
    "training_result[\"CFR_MMD\"] = [mmd_train, 0.034]\n",
    "training_result[\"Incremental_PS\"]= [df_train_result.incremental.mean(),\n",
    "                                    df_train_result.incremental.std()\n",
    "                                   ]\n",
    "training_result[\"OrthoForest\"] = [df_train_result.mae_linear_ortho.mean(),\n",
    "                                  df_train_result.mae_linear_ortho.std()\n",
    "                                 ]\n",
    "training_result[\"ForestDRLearner\"] = [df_train_result.mae_forest_dr.mean(),\n",
    "                                      df_train_result.mae_forest_dr.std()\n",
    "                                     ]\n",
    "training_result[\"LinearDRLearner\"] = [df_train_result.mae_linear_ortho.mean(),\n",
    "                                      df_train_result.mae_linear_ortho.std()\n",
    "                                     ]\n",
    "training_result[\"Bart\"] = [df_train_result.bart.mean(),\n",
    "                           df_train_result.bart.std()\n",
    "                          ]\n",
    "training_result[\"Causal_forest\"] = [df_train_result.causal_forest.mean(),\n",
    "                                    df_train_result.causal_forest.std()\n",
    "                                   ]\n",
    "training_result[\"BNN-2-2\"] = [bnn_2_2_train, 0.03]\n",
    "training_result[\"TMLE\"] = [df_train_result.mea_tmle.mean(),\n",
    "                                    df_train_result.mea_tmle.std()\n",
    "                                   ]\n",
    "\n",
    "\n",
    "test_result = {}\n",
    "test_result[\"Linear_Regression\"] = [df_test_result.linear_regression.mean(),\n",
    "                                    df_test_result.linear_regression.std()\n",
    "                                   ]\n",
    "test_result[\"K-NN\"] = [df_test_result.mea_knn.mean(),\n",
    "                       df_test_result.mea_knn.std()\n",
    "                      ]\n",
    "test_result[\"Incremental_Con_PS\"] = [df_test_result.incremental_con.mean(),\n",
    "                                     df_test_result.incremental_con.std()\n",
    "                                    ]\n",
    "test_result[\"CFR_WASS\"] = [wass_test, 0.034]\n",
    "test_result[\"CFR_MMD\"] = [mmd_test, 0.032]\n",
    "test_result[\"Incremental_PS\"]= [df_test_result.incremental.mean(),\n",
    "                                df_test_result.incremental.std()\n",
    "                               ]\n",
    "test_result[\"OrthoForest\"] = [df_test_result.mae_linear_ortho.mean(),\n",
    "                              df_test_result.mae_linear_ortho.std()\n",
    "                             ]\n",
    "test_result[\"ForestDRLearner\"] = [df_test_result.mae_forest_dr.mean(),\n",
    "                                  df_test_result.mae_forest_dr.std()\n",
    "                                 ]\n",
    "test_result[\"LinearDRLearner\"] = [df_test_result.mae_linear_ortho.mean(),\n",
    "                                  df_test_result.mae_linear_ortho.std()\n",
    "                                 ]\n",
    "test_result[\"Bart\"] = [df_test_result.bart.mean(),\n",
    "                       df_test_result.bart.std()\n",
    "                      ]\n",
    "test_result[\"Causal_forest\"] = [df_test_result.causal_forest.mean(),\n",
    "                                df_test_result.causal_forest.std()\n",
    "                               ]  \n",
    "test_result[\"BNN-2-2\"] =[bnn_2_2_test, 0.08]\n"
   ]
  },
  {
   "cell_type": "code",
   "execution_count": 13,
   "metadata": {},
   "outputs": [],
   "source": [
    "training_result = {k: v for k, v in sorted(training_result.items(), key=lambda item: item[1][0])}\n",
    "test_result = {k: v for k, v in sorted(test_result.items(), key=lambda item: item[1][0])}"
   ]
  },
  {
   "cell_type": "code",
   "execution_count": 14,
   "metadata": {},
   "outputs": [
    {
     "name": "stdout",
     "output_type": "stream",
     "text": [
      "Training set\n",
      "\t Incremental_Con_PS 0.046 +/- 0.012\n",
      "\t Incremental_PS 0.184 +/- 0.440\n",
      "\t K-NN 0.205 +/- 0.214\n",
      "\t BNN-2-2 0.229 +/- 0.030\n",
      "\t CFR_WASS 0.255 +/- 0.032\n",
      "\t CFR_MMD 0.282 +/- 0.034\n",
      "\t TMLE 0.329 +/- 0.616\n",
      "\t Bart 0.709 +/- 1.225\n",
      "\t Linear_Regression 0.746 +/- 1.398\n",
      "\t Causal_forest 0.915 +/- 1.346\n",
      "\t ForestDRLearner 2.294 +/- 1.029\n",
      "\t OrthoForest 3.095 +/- 2.077\n",
      "\t LinearDRLearner 3.095 +/- 2.077\n",
      "Testing set\n",
      "\t BNN-2-2 0.261 +/- 0.080\n",
      "\t CFR_WASS 0.262 +/- 0.034\n",
      "\t CFR_MMD 0.299 +/- 0.032\n",
      "\t Incremental_PS 0.693 +/- 1.400\n",
      "\t K-NN 0.734 +/- 0.836\n",
      "\t Bart 0.767 +/- 1.098\n",
      "\t Incremental_Con_PS 0.885 +/- 2.005\n",
      "\t Causal_forest 1.181 +/- 2.332\n",
      "\t Linear_Regression 1.264 +/- 2.646\n",
      "\t ForestDRLearner 2.165 +/- 0.754\n",
      "\t OrthoForest 2.983 +/- 1.877\n",
      "\t LinearDRLearner 2.983 +/- 1.877\n"
     ]
    }
   ],
   "source": [
    "print(\"Training set\")\n",
    "for k,v in training_result.items():\n",
    "    print(\"\\t\", k, \"{:.3f} +/- {:.3f}\".format(v[0], v[1]))\n",
    "    \n",
    "print(\"Testing set\")\n",
    "for k,v in test_result.items():\n",
    "    print(\"\\t\", k, \"{:.3f} +/- {:.3f}\".format(v[0], v[1]))"
   ]
  },
  {
   "cell_type": "code",
   "execution_count": null,
   "metadata": {},
   "outputs": [],
   "source": [
    "PATH_RESULT = \"/home/dtd/Documents/interpretable_machine_learning/Source Code/result/idhp\"\n",
    "df_train_result.to_csv(PATH_RESULT + \"/train_result.csv\", index = False)\n",
    "df_test_result.to_csv(PATH_RESULT + \"/test_result.csv\", index = False)"
   ]
  },
  {
   "cell_type": "markdown",
   "metadata": {},
   "source": [
    "## Predictive model"
   ]
  },
  {
   "cell_type": "code",
   "execution_count": null,
   "metadata": {},
   "outputs": [],
   "source": [
    "PATH_TRAIN = \"/home/dtd/Documents/interpretable_machine_learning/Source Code/data/ihdp_npci_1-100.train.npz\"\n",
    "PATH_TEST = \"/home/dtd/Documents/interpretable_machine_learning/Source Code/data/ihdp_npci_1-100.test.npz\"\n",
    "\n",
    "df_train = utils.load_data(PATH_TRAIN, 1)\n",
    "df_test = utils.load_data(PATH_TEST, 1)"
   ]
  },
  {
   "cell_type": "code",
   "execution_count": null,
   "metadata": {},
   "outputs": [],
   "source": [
    "df_train.head()"
   ]
  },
  {
   "cell_type": "code",
   "execution_count": null,
   "metadata": {},
   "outputs": [],
   "source": [
    "_one_hot_encoder = OneHotEncoder(categories='auto', sparse=False)\n",
    "_one_hot_encoder.fit(df_train.t.values.reshape((-1,1)))\n",
    "t = _one_hot_encoder.transform(df_train.t.values.reshape((-1,1)))"
   ]
  },
  {
   "cell_type": "code",
   "execution_count": null,
   "metadata": {},
   "outputs": [],
   "source": [
    "model_t = LogisticRegression()\n",
    "model_t.fit(df_train[cov], t)"
   ]
  }
 ],
 "metadata": {
  "kernelspec": {
   "display_name": "Python [conda env:.conda-phd_env] *",
   "language": "python",
   "name": "conda-env-.conda-phd_env-py"
  },
  "language_info": {
   "codemirror_mode": {
    "name": "ipython",
    "version": 3
   },
   "file_extension": ".py",
   "mimetype": "text/x-python",
   "name": "python",
   "nbconvert_exporter": "python",
   "pygments_lexer": "ipython3",
   "version": "3.7.7"
  },
  "toc": {
   "base_numbering": 1,
   "nav_menu": {},
   "number_sections": true,
   "sideBar": true,
   "skip_h1_title": false,
   "title_cell": "Table of Contents",
   "title_sidebar": "Contents",
   "toc_cell": false,
   "toc_position": {
    "height": "calc(100% - 180px)",
    "left": "10px",
    "top": "150px",
    "width": "265.883px"
   },
   "toc_section_display": true,
   "toc_window_display": true
  }
 },
 "nbformat": 4,
 "nbformat_minor": 4
}
