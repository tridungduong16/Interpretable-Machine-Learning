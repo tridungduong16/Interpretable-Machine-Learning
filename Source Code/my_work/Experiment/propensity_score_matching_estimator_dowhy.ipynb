{
 "cells": [
  {
   "cell_type": "code",
   "execution_count": 1,
   "metadata": {},
   "outputs": [],
   "source": [
    "import pandas as pd\n",
    "from sklearn import linear_model\n",
    "from sklearn.neighbors import NearestNeighbors\n",
    "import numpy as np"
   ]
  },
  {
   "cell_type": "code",
   "execution_count": 2,
   "metadata": {},
   "outputs": [],
   "source": [
    "PATH = \"/home/dtd/Documents/interpretable_machine_learning/Source Code/my_work/Experiment\"\n",
    "df = pd.read_csv(PATH + \"/recovery.csv\")"
   ]
  },
  {
   "cell_type": "code",
   "execution_count": 3,
   "metadata": {},
   "outputs": [
    {
     "data": {
      "text/html": [
       "<div>\n",
       "<style scoped>\n",
       "    .dataframe tbody tr th:only-of-type {\n",
       "        vertical-align: middle;\n",
       "    }\n",
       "\n",
       "    .dataframe tbody tr th {\n",
       "        vertical-align: top;\n",
       "    }\n",
       "\n",
       "    .dataframe thead th {\n",
       "        text-align: right;\n",
       "    }\n",
       "</style>\n",
       "<table border=\"1\" class=\"dataframe\">\n",
       "  <thead>\n",
       "    <tr style=\"text-align: right;\">\n",
       "      <th></th>\n",
       "      <th>sex</th>\n",
       "      <th>age</th>\n",
       "      <th>severity</th>\n",
       "      <th>medication</th>\n",
       "      <th>const</th>\n",
       "      <th>recovery</th>\n",
       "    </tr>\n",
       "  </thead>\n",
       "  <tbody>\n",
       "    <tr>\n",
       "      <th>0</th>\n",
       "      <td>0</td>\n",
       "      <td>24.518667</td>\n",
       "      <td>0.858950</td>\n",
       "      <td>0</td>\n",
       "      <td>1.0</td>\n",
       "      <td>92</td>\n",
       "    </tr>\n",
       "    <tr>\n",
       "      <th>1</th>\n",
       "      <td>1</td>\n",
       "      <td>11.080205</td>\n",
       "      <td>0.905123</td>\n",
       "      <td>1</td>\n",
       "      <td>1.0</td>\n",
       "      <td>40</td>\n",
       "    </tr>\n",
       "    <tr>\n",
       "      <th>2</th>\n",
       "      <td>0</td>\n",
       "      <td>37.014895</td>\n",
       "      <td>0.601475</td>\n",
       "      <td>0</td>\n",
       "      <td>1.0</td>\n",
       "      <td>65</td>\n",
       "    </tr>\n",
       "    <tr>\n",
       "      <th>3</th>\n",
       "      <td>0</td>\n",
       "      <td>35.657701</td>\n",
       "      <td>0.749840</td>\n",
       "      <td>0</td>\n",
       "      <td>1.0</td>\n",
       "      <td>116</td>\n",
       "    </tr>\n",
       "    <tr>\n",
       "      <th>4</th>\n",
       "      <td>0</td>\n",
       "      <td>36.735167</td>\n",
       "      <td>0.385460</td>\n",
       "      <td>0</td>\n",
       "      <td>1.0</td>\n",
       "      <td>47</td>\n",
       "    </tr>\n",
       "  </tbody>\n",
       "</table>\n",
       "</div>"
      ],
      "text/plain": [
       "   sex        age  severity  medication  const  recovery\n",
       "0    0  24.518667  0.858950           0    1.0        92\n",
       "1    1  11.080205  0.905123           1    1.0        40\n",
       "2    0  37.014895  0.601475           0    1.0        65\n",
       "3    0  35.657701  0.749840           0    1.0       116\n",
       "4    0  36.735167  0.385460           0    1.0        47"
      ]
     },
     "execution_count": 3,
     "metadata": {},
     "output_type": "execute_result"
    }
   ],
   "source": [
    "df.head()"
   ]
  },
  {
   "cell_type": "code",
   "execution_count": 4,
   "metadata": {},
   "outputs": [],
   "source": [
    "features = ['sex', 'age', 'severity', 'const']\n",
    "observed_common_causes = df[features]\n",
    "treatment = df['medication']\n",
    "outcome = df['recovery']"
   ]
  },
  {
   "cell_type": "code",
   "execution_count": 5,
   "metadata": {},
   "outputs": [],
   "source": [
    "propensity_score_model = linear_model.LogisticRegression(solver=\"lbfgs\")\n",
    "propensity_score_model.fit(observed_common_causes, treatment)\n",
    "df['propensity_score'] = propensity_score_model.predict_proba(observed_common_causes)[:,1]"
   ]
  },
  {
   "cell_type": "markdown",
   "metadata": {},
   "source": [
    "## K-nearest neighbor"
   ]
  },
  {
   "cell_type": "code",
   "execution_count": 6,
   "metadata": {},
   "outputs": [
    {
     "name": "stdout",
     "output_type": "stream",
     "text": [
      "-34.3663\n"
     ]
    }
   ],
   "source": [
    "treated = df.loc[df['medication'] == 1]\n",
    "control = df.loc[df['medication'] == 0]\n",
    "\n",
    "\n",
    "control_neighbors = (\n",
    "    NearestNeighbors(n_neighbors=1, algorithm='ball_tree')\n",
    "    .fit(control['propensity_score'].values.reshape(-1, 1))\n",
    ")\n",
    "distances, indices = control_neighbors.kneighbors(treated['propensity_score'].values.reshape(-1, 1))\n",
    "\n",
    "att = 0\n",
    "numtreatedunits = treated.shape[0]\n",
    "for i in range(numtreatedunits):\n",
    "    treated_outcome = treated.iloc[i]['recovery'].item()\n",
    "    control_outcome = control.iloc[indices[i]]['recovery'].item()\n",
    "    att += treated_outcome - control_outcome\n",
    "\n",
    "att /= numtreatedunits\n",
    "\n",
    "control_neighbors = (\n",
    "    NearestNeighbors(n_neighbors=1, algorithm='ball_tree')\n",
    "    .fit(treated['propensity_score'].values.reshape(-1, 1))\n",
    ")\n",
    "distances, indices = control_neighbors.kneighbors(control['propensity_score'].values.reshape(-1, 1))\n",
    "\n",
    "atc = 0\n",
    "numcontrolunits = control.shape[0]\n",
    "for i in range(numtreatedunits):\n",
    "    treated_outcome = treated.iloc[i]['recovery'].item()\n",
    "    control_outcome = control.iloc[indices[i]]['recovery'].item()\n",
    "    atc += treated_outcome - control_outcome\n",
    "atc /= numcontrolunits\n",
    "\n",
    "numunits = numtreatedunits + numcontrolunits\n",
    "est = (att*numtreatedunits + atc*numcontrolunits)/(numtreatedunits+numcontrolunits)\n",
    "\n",
    "print(est)"
   ]
  },
  {
   "cell_type": "markdown",
   "metadata": {},
   "source": [
    "## Inverse weighting"
   ]
  },
  {
   "cell_type": "code",
   "execution_count": 7,
   "metadata": {},
   "outputs": [],
   "source": [
    "min_ps_score=0.05\n",
    "max_ps_score=0.95\n",
    "\n",
    "df['propensity_score'] = np.minimum(df['propensity_score'], max_ps_score)\n",
    "df['propensity_score'] = np.maximum(df['propensity_score'], min_ps_score)"
   ]
  },
  {
   "cell_type": "code",
   "execution_count": 8,
   "metadata": {},
   "outputs": [],
   "source": [
    "ipst_sum = sum(df['medication'] / df['propensity_score'])\n",
    "ipsc_sum = sum((1 - df['medication']) / (1-df['propensity_score']))"
   ]
  },
  {
   "cell_type": "markdown",
   "metadata": {},
   "source": [
    "$ips\\_weight = \\frac{1}{p}$ treated\n",
    "\n",
    "$ips\\_weight = \\frac{1}{1- p}$ control\n",
    "\n",
    "$treated_ips = \\frac{1}{num\\_treated} * (treatment + (1-treatment)*\\frac{ps}{1-ps}$\n",
    "\n",
    "$treated_ips = \\frac{1}{num\\_control} * (1 - treatment + treatment*\\frac{1- ps}{ps}$\n"
   ]
  },
  {
   "cell_type": "code",
   "execution_count": 13,
   "metadata": {},
   "outputs": [],
   "source": [
    "df['ips_weight'] = 1/(numtreatedunits + numcontrolunits)*(\n",
    "    df['medication'] / df['propensity_score'] +\n",
    "    (1 - df['medication']) / (1 - df['propensity_score'])\n",
    ")\n",
    "        \n",
    "df['tips_weight'] = (1/numtreatedunits) * (\n",
    "    df['medication'] +\n",
    "    (1 - df['medication']) * df['propensity_score']/ (1 - df['propensity_score'])\n",
    ")\n",
    "\n",
    "df['cips_weight'] = (1/numcontrolunits) * (\n",
    "    (1 - df['medication']) + \n",
    "    df['medication'] * (1 - df['propensity_score'])/ df['propensity_score']\n",
    "    \n",
    ")"
   ]
  },
  {
   "cell_type": "code",
   "execution_count": 14,
   "metadata": {},
   "outputs": [],
   "source": [
    "df['d_y'] = (\n",
    "            df['ips_weight'] *\n",
    "            df['medication'] *\n",
    "            df['recovery']\n",
    "        )\n",
    "df['dbar_y'] = (\n",
    "            df['ips_weight'] *\n",
    "            (1 - df['medication']) *\n",
    "            df['recovery']\n",
    "        )\n",
    "est = df['d_y'].sum() - df['dbar_y'].sum()"
   ]
  },
  {
   "cell_type": "code",
   "execution_count": 15,
   "metadata": {},
   "outputs": [
    {
     "data": {
      "text/plain": [
       "-77.6328344814307"
      ]
     },
     "execution_count": 15,
     "metadata": {},
     "output_type": "execute_result"
    }
   ],
   "source": [
    "est"
   ]
  },
  {
   "cell_type": "code",
   "execution_count": null,
   "metadata": {},
   "outputs": [],
   "source": []
  }
 ],
 "metadata": {
  "kernelspec": {
   "display_name": "Python [conda env:.conda-phd_env] *",
   "language": "python",
   "name": "conda-env-.conda-phd_env-py"
  },
  "language_info": {
   "codemirror_mode": {
    "name": "ipython",
    "version": 3
   },
   "file_extension": ".py",
   "mimetype": "text/x-python",
   "name": "python",
   "nbconvert_exporter": "python",
   "pygments_lexer": "ipython3",
   "version": "3.7.7"
  },
  "toc": {
   "base_numbering": 1,
   "nav_menu": {},
   "number_sections": true,
   "sideBar": true,
   "skip_h1_title": false,
   "title_cell": "Table of Contents",
   "title_sidebar": "Contents",
   "toc_cell": false,
   "toc_position": {},
   "toc_section_display": true,
   "toc_window_display": false
  }
 },
 "nbformat": 4,
 "nbformat_minor": 4
}
